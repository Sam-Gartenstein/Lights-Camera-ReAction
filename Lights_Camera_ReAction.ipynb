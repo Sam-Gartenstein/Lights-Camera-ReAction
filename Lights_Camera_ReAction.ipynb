{
  "nbformat": 4,
  "nbformat_minor": 0,
  "metadata": {
    "colab": {
      "provenance": []
    },
    "kernelspec": {
      "name": "python3",
      "display_name": "Python 3"
    },
    "language_info": {
      "name": "python"
    },
    "widgets": {
      "application/vnd.jupyter.widget-state+json": {
        "ed5559d576fb458d94e70da328a76bb6": {
          "model_module": "@jupyter-widgets/controls",
          "model_name": "HBoxModel",
          "model_module_version": "1.5.0",
          "state": {
            "_dom_classes": [],
            "_model_module": "@jupyter-widgets/controls",
            "_model_module_version": "1.5.0",
            "_model_name": "HBoxModel",
            "_view_count": null,
            "_view_module": "@jupyter-widgets/controls",
            "_view_module_version": "1.5.0",
            "_view_name": "HBoxView",
            "box_style": "",
            "children": [
              "IPY_MODEL_d58aa36a866e46b6a2573801c1f364f4",
              "IPY_MODEL_81dc8e3bc35741a9bdbc69e54663ea9a",
              "IPY_MODEL_65ca8a25381c4b2481b33a46462e59e9"
            ],
            "layout": "IPY_MODEL_4f77d427ab57436a98548d4299e0debd"
          }
        },
        "d58aa36a866e46b6a2573801c1f364f4": {
          "model_module": "@jupyter-widgets/controls",
          "model_name": "HTMLModel",
          "model_module_version": "1.5.0",
          "state": {
            "_dom_classes": [],
            "_model_module": "@jupyter-widgets/controls",
            "_model_module_version": "1.5.0",
            "_model_name": "HTMLModel",
            "_view_count": null,
            "_view_module": "@jupyter-widgets/controls",
            "_view_module_version": "1.5.0",
            "_view_name": "HTMLView",
            "description": "",
            "description_tooltip": null,
            "layout": "IPY_MODEL_2ac66f0af0f540198ea82348a465cffc",
            "placeholder": "​",
            "style": "IPY_MODEL_a49b0458116b4c3caf75a69fce731cde",
            "value": "modules.json: 100%"
          }
        },
        "81dc8e3bc35741a9bdbc69e54663ea9a": {
          "model_module": "@jupyter-widgets/controls",
          "model_name": "FloatProgressModel",
          "model_module_version": "1.5.0",
          "state": {
            "_dom_classes": [],
            "_model_module": "@jupyter-widgets/controls",
            "_model_module_version": "1.5.0",
            "_model_name": "FloatProgressModel",
            "_view_count": null,
            "_view_module": "@jupyter-widgets/controls",
            "_view_module_version": "1.5.0",
            "_view_name": "ProgressView",
            "bar_style": "success",
            "description": "",
            "description_tooltip": null,
            "layout": "IPY_MODEL_3d7907e4d76043868f48ea7e85808d83",
            "max": 349,
            "min": 0,
            "orientation": "horizontal",
            "style": "IPY_MODEL_ab1c16cf92ea4217bca5f919208c929d",
            "value": 349
          }
        },
        "65ca8a25381c4b2481b33a46462e59e9": {
          "model_module": "@jupyter-widgets/controls",
          "model_name": "HTMLModel",
          "model_module_version": "1.5.0",
          "state": {
            "_dom_classes": [],
            "_model_module": "@jupyter-widgets/controls",
            "_model_module_version": "1.5.0",
            "_model_name": "HTMLModel",
            "_view_count": null,
            "_view_module": "@jupyter-widgets/controls",
            "_view_module_version": "1.5.0",
            "_view_name": "HTMLView",
            "description": "",
            "description_tooltip": null,
            "layout": "IPY_MODEL_42ff5dc0443e4ade9ce1b9da121056de",
            "placeholder": "​",
            "style": "IPY_MODEL_9ff05d75f9524a1bb203d15a8d195a8f",
            "value": " 349/349 [00:00&lt;00:00, 25.7kB/s]"
          }
        },
        "4f77d427ab57436a98548d4299e0debd": {
          "model_module": "@jupyter-widgets/base",
          "model_name": "LayoutModel",
          "model_module_version": "1.2.0",
          "state": {
            "_model_module": "@jupyter-widgets/base",
            "_model_module_version": "1.2.0",
            "_model_name": "LayoutModel",
            "_view_count": null,
            "_view_module": "@jupyter-widgets/base",
            "_view_module_version": "1.2.0",
            "_view_name": "LayoutView",
            "align_content": null,
            "align_items": null,
            "align_self": null,
            "border": null,
            "bottom": null,
            "display": null,
            "flex": null,
            "flex_flow": null,
            "grid_area": null,
            "grid_auto_columns": null,
            "grid_auto_flow": null,
            "grid_auto_rows": null,
            "grid_column": null,
            "grid_gap": null,
            "grid_row": null,
            "grid_template_areas": null,
            "grid_template_columns": null,
            "grid_template_rows": null,
            "height": null,
            "justify_content": null,
            "justify_items": null,
            "left": null,
            "margin": null,
            "max_height": null,
            "max_width": null,
            "min_height": null,
            "min_width": null,
            "object_fit": null,
            "object_position": null,
            "order": null,
            "overflow": null,
            "overflow_x": null,
            "overflow_y": null,
            "padding": null,
            "right": null,
            "top": null,
            "visibility": null,
            "width": null
          }
        },
        "2ac66f0af0f540198ea82348a465cffc": {
          "model_module": "@jupyter-widgets/base",
          "model_name": "LayoutModel",
          "model_module_version": "1.2.0",
          "state": {
            "_model_module": "@jupyter-widgets/base",
            "_model_module_version": "1.2.0",
            "_model_name": "LayoutModel",
            "_view_count": null,
            "_view_module": "@jupyter-widgets/base",
            "_view_module_version": "1.2.0",
            "_view_name": "LayoutView",
            "align_content": null,
            "align_items": null,
            "align_self": null,
            "border": null,
            "bottom": null,
            "display": null,
            "flex": null,
            "flex_flow": null,
            "grid_area": null,
            "grid_auto_columns": null,
            "grid_auto_flow": null,
            "grid_auto_rows": null,
            "grid_column": null,
            "grid_gap": null,
            "grid_row": null,
            "grid_template_areas": null,
            "grid_template_columns": null,
            "grid_template_rows": null,
            "height": null,
            "justify_content": null,
            "justify_items": null,
            "left": null,
            "margin": null,
            "max_height": null,
            "max_width": null,
            "min_height": null,
            "min_width": null,
            "object_fit": null,
            "object_position": null,
            "order": null,
            "overflow": null,
            "overflow_x": null,
            "overflow_y": null,
            "padding": null,
            "right": null,
            "top": null,
            "visibility": null,
            "width": null
          }
        },
        "a49b0458116b4c3caf75a69fce731cde": {
          "model_module": "@jupyter-widgets/controls",
          "model_name": "DescriptionStyleModel",
          "model_module_version": "1.5.0",
          "state": {
            "_model_module": "@jupyter-widgets/controls",
            "_model_module_version": "1.5.0",
            "_model_name": "DescriptionStyleModel",
            "_view_count": null,
            "_view_module": "@jupyter-widgets/base",
            "_view_module_version": "1.2.0",
            "_view_name": "StyleView",
            "description_width": ""
          }
        },
        "3d7907e4d76043868f48ea7e85808d83": {
          "model_module": "@jupyter-widgets/base",
          "model_name": "LayoutModel",
          "model_module_version": "1.2.0",
          "state": {
            "_model_module": "@jupyter-widgets/base",
            "_model_module_version": "1.2.0",
            "_model_name": "LayoutModel",
            "_view_count": null,
            "_view_module": "@jupyter-widgets/base",
            "_view_module_version": "1.2.0",
            "_view_name": "LayoutView",
            "align_content": null,
            "align_items": null,
            "align_self": null,
            "border": null,
            "bottom": null,
            "display": null,
            "flex": null,
            "flex_flow": null,
            "grid_area": null,
            "grid_auto_columns": null,
            "grid_auto_flow": null,
            "grid_auto_rows": null,
            "grid_column": null,
            "grid_gap": null,
            "grid_row": null,
            "grid_template_areas": null,
            "grid_template_columns": null,
            "grid_template_rows": null,
            "height": null,
            "justify_content": null,
            "justify_items": null,
            "left": null,
            "margin": null,
            "max_height": null,
            "max_width": null,
            "min_height": null,
            "min_width": null,
            "object_fit": null,
            "object_position": null,
            "order": null,
            "overflow": null,
            "overflow_x": null,
            "overflow_y": null,
            "padding": null,
            "right": null,
            "top": null,
            "visibility": null,
            "width": null
          }
        },
        "ab1c16cf92ea4217bca5f919208c929d": {
          "model_module": "@jupyter-widgets/controls",
          "model_name": "ProgressStyleModel",
          "model_module_version": "1.5.0",
          "state": {
            "_model_module": "@jupyter-widgets/controls",
            "_model_module_version": "1.5.0",
            "_model_name": "ProgressStyleModel",
            "_view_count": null,
            "_view_module": "@jupyter-widgets/base",
            "_view_module_version": "1.2.0",
            "_view_name": "StyleView",
            "bar_color": null,
            "description_width": ""
          }
        },
        "42ff5dc0443e4ade9ce1b9da121056de": {
          "model_module": "@jupyter-widgets/base",
          "model_name": "LayoutModel",
          "model_module_version": "1.2.0",
          "state": {
            "_model_module": "@jupyter-widgets/base",
            "_model_module_version": "1.2.0",
            "_model_name": "LayoutModel",
            "_view_count": null,
            "_view_module": "@jupyter-widgets/base",
            "_view_module_version": "1.2.0",
            "_view_name": "LayoutView",
            "align_content": null,
            "align_items": null,
            "align_self": null,
            "border": null,
            "bottom": null,
            "display": null,
            "flex": null,
            "flex_flow": null,
            "grid_area": null,
            "grid_auto_columns": null,
            "grid_auto_flow": null,
            "grid_auto_rows": null,
            "grid_column": null,
            "grid_gap": null,
            "grid_row": null,
            "grid_template_areas": null,
            "grid_template_columns": null,
            "grid_template_rows": null,
            "height": null,
            "justify_content": null,
            "justify_items": null,
            "left": null,
            "margin": null,
            "max_height": null,
            "max_width": null,
            "min_height": null,
            "min_width": null,
            "object_fit": null,
            "object_position": null,
            "order": null,
            "overflow": null,
            "overflow_x": null,
            "overflow_y": null,
            "padding": null,
            "right": null,
            "top": null,
            "visibility": null,
            "width": null
          }
        },
        "9ff05d75f9524a1bb203d15a8d195a8f": {
          "model_module": "@jupyter-widgets/controls",
          "model_name": "DescriptionStyleModel",
          "model_module_version": "1.5.0",
          "state": {
            "_model_module": "@jupyter-widgets/controls",
            "_model_module_version": "1.5.0",
            "_model_name": "DescriptionStyleModel",
            "_view_count": null,
            "_view_module": "@jupyter-widgets/base",
            "_view_module_version": "1.2.0",
            "_view_name": "StyleView",
            "description_width": ""
          }
        },
        "21e4bf2e072c4f89922e54b0f087c929": {
          "model_module": "@jupyter-widgets/controls",
          "model_name": "HBoxModel",
          "model_module_version": "1.5.0",
          "state": {
            "_dom_classes": [],
            "_model_module": "@jupyter-widgets/controls",
            "_model_module_version": "1.5.0",
            "_model_name": "HBoxModel",
            "_view_count": null,
            "_view_module": "@jupyter-widgets/controls",
            "_view_module_version": "1.5.0",
            "_view_name": "HBoxView",
            "box_style": "",
            "children": [
              "IPY_MODEL_4e2987c560ba4201933802504757508e",
              "IPY_MODEL_8503935cb501413a88ad092eda7ddba5",
              "IPY_MODEL_2cf596074c6b4174ace5f130034f0c02"
            ],
            "layout": "IPY_MODEL_650af2ddbdb0477c9bf76fa7e62911da"
          }
        },
        "4e2987c560ba4201933802504757508e": {
          "model_module": "@jupyter-widgets/controls",
          "model_name": "HTMLModel",
          "model_module_version": "1.5.0",
          "state": {
            "_dom_classes": [],
            "_model_module": "@jupyter-widgets/controls",
            "_model_module_version": "1.5.0",
            "_model_name": "HTMLModel",
            "_view_count": null,
            "_view_module": "@jupyter-widgets/controls",
            "_view_module_version": "1.5.0",
            "_view_name": "HTMLView",
            "description": "",
            "description_tooltip": null,
            "layout": "IPY_MODEL_c8459cf6f4d044b3a651738a18507076",
            "placeholder": "​",
            "style": "IPY_MODEL_11d9eca357c340e38d1098e978b074e2",
            "value": "config_sentence_transformers.json: 100%"
          }
        },
        "8503935cb501413a88ad092eda7ddba5": {
          "model_module": "@jupyter-widgets/controls",
          "model_name": "FloatProgressModel",
          "model_module_version": "1.5.0",
          "state": {
            "_dom_classes": [],
            "_model_module": "@jupyter-widgets/controls",
            "_model_module_version": "1.5.0",
            "_model_name": "FloatProgressModel",
            "_view_count": null,
            "_view_module": "@jupyter-widgets/controls",
            "_view_module_version": "1.5.0",
            "_view_name": "ProgressView",
            "bar_style": "success",
            "description": "",
            "description_tooltip": null,
            "layout": "IPY_MODEL_3d5427bc8bf94723b7ccb6ab650d05a4",
            "max": 116,
            "min": 0,
            "orientation": "horizontal",
            "style": "IPY_MODEL_b3d8a931a91d48a782091456c646c27a",
            "value": 116
          }
        },
        "2cf596074c6b4174ace5f130034f0c02": {
          "model_module": "@jupyter-widgets/controls",
          "model_name": "HTMLModel",
          "model_module_version": "1.5.0",
          "state": {
            "_dom_classes": [],
            "_model_module": "@jupyter-widgets/controls",
            "_model_module_version": "1.5.0",
            "_model_name": "HTMLModel",
            "_view_count": null,
            "_view_module": "@jupyter-widgets/controls",
            "_view_module_version": "1.5.0",
            "_view_name": "HTMLView",
            "description": "",
            "description_tooltip": null,
            "layout": "IPY_MODEL_e4c48a7fe66b42119247da3c934d5222",
            "placeholder": "​",
            "style": "IPY_MODEL_37dd5eba323b41c4a44d6a107b5f3daf",
            "value": " 116/116 [00:00&lt;00:00, 7.30kB/s]"
          }
        },
        "650af2ddbdb0477c9bf76fa7e62911da": {
          "model_module": "@jupyter-widgets/base",
          "model_name": "LayoutModel",
          "model_module_version": "1.2.0",
          "state": {
            "_model_module": "@jupyter-widgets/base",
            "_model_module_version": "1.2.0",
            "_model_name": "LayoutModel",
            "_view_count": null,
            "_view_module": "@jupyter-widgets/base",
            "_view_module_version": "1.2.0",
            "_view_name": "LayoutView",
            "align_content": null,
            "align_items": null,
            "align_self": null,
            "border": null,
            "bottom": null,
            "display": null,
            "flex": null,
            "flex_flow": null,
            "grid_area": null,
            "grid_auto_columns": null,
            "grid_auto_flow": null,
            "grid_auto_rows": null,
            "grid_column": null,
            "grid_gap": null,
            "grid_row": null,
            "grid_template_areas": null,
            "grid_template_columns": null,
            "grid_template_rows": null,
            "height": null,
            "justify_content": null,
            "justify_items": null,
            "left": null,
            "margin": null,
            "max_height": null,
            "max_width": null,
            "min_height": null,
            "min_width": null,
            "object_fit": null,
            "object_position": null,
            "order": null,
            "overflow": null,
            "overflow_x": null,
            "overflow_y": null,
            "padding": null,
            "right": null,
            "top": null,
            "visibility": null,
            "width": null
          }
        },
        "c8459cf6f4d044b3a651738a18507076": {
          "model_module": "@jupyter-widgets/base",
          "model_name": "LayoutModel",
          "model_module_version": "1.2.0",
          "state": {
            "_model_module": "@jupyter-widgets/base",
            "_model_module_version": "1.2.0",
            "_model_name": "LayoutModel",
            "_view_count": null,
            "_view_module": "@jupyter-widgets/base",
            "_view_module_version": "1.2.0",
            "_view_name": "LayoutView",
            "align_content": null,
            "align_items": null,
            "align_self": null,
            "border": null,
            "bottom": null,
            "display": null,
            "flex": null,
            "flex_flow": null,
            "grid_area": null,
            "grid_auto_columns": null,
            "grid_auto_flow": null,
            "grid_auto_rows": null,
            "grid_column": null,
            "grid_gap": null,
            "grid_row": null,
            "grid_template_areas": null,
            "grid_template_columns": null,
            "grid_template_rows": null,
            "height": null,
            "justify_content": null,
            "justify_items": null,
            "left": null,
            "margin": null,
            "max_height": null,
            "max_width": null,
            "min_height": null,
            "min_width": null,
            "object_fit": null,
            "object_position": null,
            "order": null,
            "overflow": null,
            "overflow_x": null,
            "overflow_y": null,
            "padding": null,
            "right": null,
            "top": null,
            "visibility": null,
            "width": null
          }
        },
        "11d9eca357c340e38d1098e978b074e2": {
          "model_module": "@jupyter-widgets/controls",
          "model_name": "DescriptionStyleModel",
          "model_module_version": "1.5.0",
          "state": {
            "_model_module": "@jupyter-widgets/controls",
            "_model_module_version": "1.5.0",
            "_model_name": "DescriptionStyleModel",
            "_view_count": null,
            "_view_module": "@jupyter-widgets/base",
            "_view_module_version": "1.2.0",
            "_view_name": "StyleView",
            "description_width": ""
          }
        },
        "3d5427bc8bf94723b7ccb6ab650d05a4": {
          "model_module": "@jupyter-widgets/base",
          "model_name": "LayoutModel",
          "model_module_version": "1.2.0",
          "state": {
            "_model_module": "@jupyter-widgets/base",
            "_model_module_version": "1.2.0",
            "_model_name": "LayoutModel",
            "_view_count": null,
            "_view_module": "@jupyter-widgets/base",
            "_view_module_version": "1.2.0",
            "_view_name": "LayoutView",
            "align_content": null,
            "align_items": null,
            "align_self": null,
            "border": null,
            "bottom": null,
            "display": null,
            "flex": null,
            "flex_flow": null,
            "grid_area": null,
            "grid_auto_columns": null,
            "grid_auto_flow": null,
            "grid_auto_rows": null,
            "grid_column": null,
            "grid_gap": null,
            "grid_row": null,
            "grid_template_areas": null,
            "grid_template_columns": null,
            "grid_template_rows": null,
            "height": null,
            "justify_content": null,
            "justify_items": null,
            "left": null,
            "margin": null,
            "max_height": null,
            "max_width": null,
            "min_height": null,
            "min_width": null,
            "object_fit": null,
            "object_position": null,
            "order": null,
            "overflow": null,
            "overflow_x": null,
            "overflow_y": null,
            "padding": null,
            "right": null,
            "top": null,
            "visibility": null,
            "width": null
          }
        },
        "b3d8a931a91d48a782091456c646c27a": {
          "model_module": "@jupyter-widgets/controls",
          "model_name": "ProgressStyleModel",
          "model_module_version": "1.5.0",
          "state": {
            "_model_module": "@jupyter-widgets/controls",
            "_model_module_version": "1.5.0",
            "_model_name": "ProgressStyleModel",
            "_view_count": null,
            "_view_module": "@jupyter-widgets/base",
            "_view_module_version": "1.2.0",
            "_view_name": "StyleView",
            "bar_color": null,
            "description_width": ""
          }
        },
        "e4c48a7fe66b42119247da3c934d5222": {
          "model_module": "@jupyter-widgets/base",
          "model_name": "LayoutModel",
          "model_module_version": "1.2.0",
          "state": {
            "_model_module": "@jupyter-widgets/base",
            "_model_module_version": "1.2.0",
            "_model_name": "LayoutModel",
            "_view_count": null,
            "_view_module": "@jupyter-widgets/base",
            "_view_module_version": "1.2.0",
            "_view_name": "LayoutView",
            "align_content": null,
            "align_items": null,
            "align_self": null,
            "border": null,
            "bottom": null,
            "display": null,
            "flex": null,
            "flex_flow": null,
            "grid_area": null,
            "grid_auto_columns": null,
            "grid_auto_flow": null,
            "grid_auto_rows": null,
            "grid_column": null,
            "grid_gap": null,
            "grid_row": null,
            "grid_template_areas": null,
            "grid_template_columns": null,
            "grid_template_rows": null,
            "height": null,
            "justify_content": null,
            "justify_items": null,
            "left": null,
            "margin": null,
            "max_height": null,
            "max_width": null,
            "min_height": null,
            "min_width": null,
            "object_fit": null,
            "object_position": null,
            "order": null,
            "overflow": null,
            "overflow_x": null,
            "overflow_y": null,
            "padding": null,
            "right": null,
            "top": null,
            "visibility": null,
            "width": null
          }
        },
        "37dd5eba323b41c4a44d6a107b5f3daf": {
          "model_module": "@jupyter-widgets/controls",
          "model_name": "DescriptionStyleModel",
          "model_module_version": "1.5.0",
          "state": {
            "_model_module": "@jupyter-widgets/controls",
            "_model_module_version": "1.5.0",
            "_model_name": "DescriptionStyleModel",
            "_view_count": null,
            "_view_module": "@jupyter-widgets/base",
            "_view_module_version": "1.2.0",
            "_view_name": "StyleView",
            "description_width": ""
          }
        },
        "0fba1f39b9164c70a0711b2251898ba1": {
          "model_module": "@jupyter-widgets/controls",
          "model_name": "HBoxModel",
          "model_module_version": "1.5.0",
          "state": {
            "_dom_classes": [],
            "_model_module": "@jupyter-widgets/controls",
            "_model_module_version": "1.5.0",
            "_model_name": "HBoxModel",
            "_view_count": null,
            "_view_module": "@jupyter-widgets/controls",
            "_view_module_version": "1.5.0",
            "_view_name": "HBoxView",
            "box_style": "",
            "children": [
              "IPY_MODEL_629ff7dfcedc4824b004e862dab308f2",
              "IPY_MODEL_2e250616be84415db064f5b8a78bd092",
              "IPY_MODEL_0012e5f62dc94f06a422f4637f56a80b"
            ],
            "layout": "IPY_MODEL_f9b1db254efc42d3972ab24c547e6dbb"
          }
        },
        "629ff7dfcedc4824b004e862dab308f2": {
          "model_module": "@jupyter-widgets/controls",
          "model_name": "HTMLModel",
          "model_module_version": "1.5.0",
          "state": {
            "_dom_classes": [],
            "_model_module": "@jupyter-widgets/controls",
            "_model_module_version": "1.5.0",
            "_model_name": "HTMLModel",
            "_view_count": null,
            "_view_module": "@jupyter-widgets/controls",
            "_view_module_version": "1.5.0",
            "_view_name": "HTMLView",
            "description": "",
            "description_tooltip": null,
            "layout": "IPY_MODEL_2629353fad03465d9dff5def9301c8f0",
            "placeholder": "​",
            "style": "IPY_MODEL_3594f8a725e5422c8c0de066fd0cbf15",
            "value": "README.md: 100%"
          }
        },
        "2e250616be84415db064f5b8a78bd092": {
          "model_module": "@jupyter-widgets/controls",
          "model_name": "FloatProgressModel",
          "model_module_version": "1.5.0",
          "state": {
            "_dom_classes": [],
            "_model_module": "@jupyter-widgets/controls",
            "_model_module_version": "1.5.0",
            "_model_name": "FloatProgressModel",
            "_view_count": null,
            "_view_module": "@jupyter-widgets/controls",
            "_view_module_version": "1.5.0",
            "_view_name": "ProgressView",
            "bar_style": "success",
            "description": "",
            "description_tooltip": null,
            "layout": "IPY_MODEL_cfff0d358c814242b88e03a53419d5b6",
            "max": 10454,
            "min": 0,
            "orientation": "horizontal",
            "style": "IPY_MODEL_7aa36061aaa24309aa3f170cf870c26b",
            "value": 10454
          }
        },
        "0012e5f62dc94f06a422f4637f56a80b": {
          "model_module": "@jupyter-widgets/controls",
          "model_name": "HTMLModel",
          "model_module_version": "1.5.0",
          "state": {
            "_dom_classes": [],
            "_model_module": "@jupyter-widgets/controls",
            "_model_module_version": "1.5.0",
            "_model_name": "HTMLModel",
            "_view_count": null,
            "_view_module": "@jupyter-widgets/controls",
            "_view_module_version": "1.5.0",
            "_view_name": "HTMLView",
            "description": "",
            "description_tooltip": null,
            "layout": "IPY_MODEL_a8f8d1a439d5417e96f604d6bb503214",
            "placeholder": "​",
            "style": "IPY_MODEL_f1a21d4ccaba41618b30b1c7af802fe7",
            "value": " 10.5k/10.5k [00:00&lt;00:00, 953kB/s]"
          }
        },
        "f9b1db254efc42d3972ab24c547e6dbb": {
          "model_module": "@jupyter-widgets/base",
          "model_name": "LayoutModel",
          "model_module_version": "1.2.0",
          "state": {
            "_model_module": "@jupyter-widgets/base",
            "_model_module_version": "1.2.0",
            "_model_name": "LayoutModel",
            "_view_count": null,
            "_view_module": "@jupyter-widgets/base",
            "_view_module_version": "1.2.0",
            "_view_name": "LayoutView",
            "align_content": null,
            "align_items": null,
            "align_self": null,
            "border": null,
            "bottom": null,
            "display": null,
            "flex": null,
            "flex_flow": null,
            "grid_area": null,
            "grid_auto_columns": null,
            "grid_auto_flow": null,
            "grid_auto_rows": null,
            "grid_column": null,
            "grid_gap": null,
            "grid_row": null,
            "grid_template_areas": null,
            "grid_template_columns": null,
            "grid_template_rows": null,
            "height": null,
            "justify_content": null,
            "justify_items": null,
            "left": null,
            "margin": null,
            "max_height": null,
            "max_width": null,
            "min_height": null,
            "min_width": null,
            "object_fit": null,
            "object_position": null,
            "order": null,
            "overflow": null,
            "overflow_x": null,
            "overflow_y": null,
            "padding": null,
            "right": null,
            "top": null,
            "visibility": null,
            "width": null
          }
        },
        "2629353fad03465d9dff5def9301c8f0": {
          "model_module": "@jupyter-widgets/base",
          "model_name": "LayoutModel",
          "model_module_version": "1.2.0",
          "state": {
            "_model_module": "@jupyter-widgets/base",
            "_model_module_version": "1.2.0",
            "_model_name": "LayoutModel",
            "_view_count": null,
            "_view_module": "@jupyter-widgets/base",
            "_view_module_version": "1.2.0",
            "_view_name": "LayoutView",
            "align_content": null,
            "align_items": null,
            "align_self": null,
            "border": null,
            "bottom": null,
            "display": null,
            "flex": null,
            "flex_flow": null,
            "grid_area": null,
            "grid_auto_columns": null,
            "grid_auto_flow": null,
            "grid_auto_rows": null,
            "grid_column": null,
            "grid_gap": null,
            "grid_row": null,
            "grid_template_areas": null,
            "grid_template_columns": null,
            "grid_template_rows": null,
            "height": null,
            "justify_content": null,
            "justify_items": null,
            "left": null,
            "margin": null,
            "max_height": null,
            "max_width": null,
            "min_height": null,
            "min_width": null,
            "object_fit": null,
            "object_position": null,
            "order": null,
            "overflow": null,
            "overflow_x": null,
            "overflow_y": null,
            "padding": null,
            "right": null,
            "top": null,
            "visibility": null,
            "width": null
          }
        },
        "3594f8a725e5422c8c0de066fd0cbf15": {
          "model_module": "@jupyter-widgets/controls",
          "model_name": "DescriptionStyleModel",
          "model_module_version": "1.5.0",
          "state": {
            "_model_module": "@jupyter-widgets/controls",
            "_model_module_version": "1.5.0",
            "_model_name": "DescriptionStyleModel",
            "_view_count": null,
            "_view_module": "@jupyter-widgets/base",
            "_view_module_version": "1.2.0",
            "_view_name": "StyleView",
            "description_width": ""
          }
        },
        "cfff0d358c814242b88e03a53419d5b6": {
          "model_module": "@jupyter-widgets/base",
          "model_name": "LayoutModel",
          "model_module_version": "1.2.0",
          "state": {
            "_model_module": "@jupyter-widgets/base",
            "_model_module_version": "1.2.0",
            "_model_name": "LayoutModel",
            "_view_count": null,
            "_view_module": "@jupyter-widgets/base",
            "_view_module_version": "1.2.0",
            "_view_name": "LayoutView",
            "align_content": null,
            "align_items": null,
            "align_self": null,
            "border": null,
            "bottom": null,
            "display": null,
            "flex": null,
            "flex_flow": null,
            "grid_area": null,
            "grid_auto_columns": null,
            "grid_auto_flow": null,
            "grid_auto_rows": null,
            "grid_column": null,
            "grid_gap": null,
            "grid_row": null,
            "grid_template_areas": null,
            "grid_template_columns": null,
            "grid_template_rows": null,
            "height": null,
            "justify_content": null,
            "justify_items": null,
            "left": null,
            "margin": null,
            "max_height": null,
            "max_width": null,
            "min_height": null,
            "min_width": null,
            "object_fit": null,
            "object_position": null,
            "order": null,
            "overflow": null,
            "overflow_x": null,
            "overflow_y": null,
            "padding": null,
            "right": null,
            "top": null,
            "visibility": null,
            "width": null
          }
        },
        "7aa36061aaa24309aa3f170cf870c26b": {
          "model_module": "@jupyter-widgets/controls",
          "model_name": "ProgressStyleModel",
          "model_module_version": "1.5.0",
          "state": {
            "_model_module": "@jupyter-widgets/controls",
            "_model_module_version": "1.5.0",
            "_model_name": "ProgressStyleModel",
            "_view_count": null,
            "_view_module": "@jupyter-widgets/base",
            "_view_module_version": "1.2.0",
            "_view_name": "StyleView",
            "bar_color": null,
            "description_width": ""
          }
        },
        "a8f8d1a439d5417e96f604d6bb503214": {
          "model_module": "@jupyter-widgets/base",
          "model_name": "LayoutModel",
          "model_module_version": "1.2.0",
          "state": {
            "_model_module": "@jupyter-widgets/base",
            "_model_module_version": "1.2.0",
            "_model_name": "LayoutModel",
            "_view_count": null,
            "_view_module": "@jupyter-widgets/base",
            "_view_module_version": "1.2.0",
            "_view_name": "LayoutView",
            "align_content": null,
            "align_items": null,
            "align_self": null,
            "border": null,
            "bottom": null,
            "display": null,
            "flex": null,
            "flex_flow": null,
            "grid_area": null,
            "grid_auto_columns": null,
            "grid_auto_flow": null,
            "grid_auto_rows": null,
            "grid_column": null,
            "grid_gap": null,
            "grid_row": null,
            "grid_template_areas": null,
            "grid_template_columns": null,
            "grid_template_rows": null,
            "height": null,
            "justify_content": null,
            "justify_items": null,
            "left": null,
            "margin": null,
            "max_height": null,
            "max_width": null,
            "min_height": null,
            "min_width": null,
            "object_fit": null,
            "object_position": null,
            "order": null,
            "overflow": null,
            "overflow_x": null,
            "overflow_y": null,
            "padding": null,
            "right": null,
            "top": null,
            "visibility": null,
            "width": null
          }
        },
        "f1a21d4ccaba41618b30b1c7af802fe7": {
          "model_module": "@jupyter-widgets/controls",
          "model_name": "DescriptionStyleModel",
          "model_module_version": "1.5.0",
          "state": {
            "_model_module": "@jupyter-widgets/controls",
            "_model_module_version": "1.5.0",
            "_model_name": "DescriptionStyleModel",
            "_view_count": null,
            "_view_module": "@jupyter-widgets/base",
            "_view_module_version": "1.2.0",
            "_view_name": "StyleView",
            "description_width": ""
          }
        },
        "29f5e680ca6f4c76b4161c2922b5057a": {
          "model_module": "@jupyter-widgets/controls",
          "model_name": "HBoxModel",
          "model_module_version": "1.5.0",
          "state": {
            "_dom_classes": [],
            "_model_module": "@jupyter-widgets/controls",
            "_model_module_version": "1.5.0",
            "_model_name": "HBoxModel",
            "_view_count": null,
            "_view_module": "@jupyter-widgets/controls",
            "_view_module_version": "1.5.0",
            "_view_name": "HBoxView",
            "box_style": "",
            "children": [
              "IPY_MODEL_5775852a47e64b5b8a1865eb32409193",
              "IPY_MODEL_abd1ad525e14434dafbeea2c2fc1a01e",
              "IPY_MODEL_a905e3d2990d40f3aa88ef3ecbf62af1"
            ],
            "layout": "IPY_MODEL_d99dbae85a194f49859d5f1d7ada5f40"
          }
        },
        "5775852a47e64b5b8a1865eb32409193": {
          "model_module": "@jupyter-widgets/controls",
          "model_name": "HTMLModel",
          "model_module_version": "1.5.0",
          "state": {
            "_dom_classes": [],
            "_model_module": "@jupyter-widgets/controls",
            "_model_module_version": "1.5.0",
            "_model_name": "HTMLModel",
            "_view_count": null,
            "_view_module": "@jupyter-widgets/controls",
            "_view_module_version": "1.5.0",
            "_view_name": "HTMLView",
            "description": "",
            "description_tooltip": null,
            "layout": "IPY_MODEL_e1fc9c3201dd4057895f575f5f27f12b",
            "placeholder": "​",
            "style": "IPY_MODEL_032e536c0afc46638d1128a42c5a8649",
            "value": "sentence_bert_config.json: 100%"
          }
        },
        "abd1ad525e14434dafbeea2c2fc1a01e": {
          "model_module": "@jupyter-widgets/controls",
          "model_name": "FloatProgressModel",
          "model_module_version": "1.5.0",
          "state": {
            "_dom_classes": [],
            "_model_module": "@jupyter-widgets/controls",
            "_model_module_version": "1.5.0",
            "_model_name": "FloatProgressModel",
            "_view_count": null,
            "_view_module": "@jupyter-widgets/controls",
            "_view_module_version": "1.5.0",
            "_view_name": "ProgressView",
            "bar_style": "success",
            "description": "",
            "description_tooltip": null,
            "layout": "IPY_MODEL_0424f554c8764958a5cb1d0968741d06",
            "max": 53,
            "min": 0,
            "orientation": "horizontal",
            "style": "IPY_MODEL_ce609c7d12c54c8cba2d97889872b778",
            "value": 53
          }
        },
        "a905e3d2990d40f3aa88ef3ecbf62af1": {
          "model_module": "@jupyter-widgets/controls",
          "model_name": "HTMLModel",
          "model_module_version": "1.5.0",
          "state": {
            "_dom_classes": [],
            "_model_module": "@jupyter-widgets/controls",
            "_model_module_version": "1.5.0",
            "_model_name": "HTMLModel",
            "_view_count": null,
            "_view_module": "@jupyter-widgets/controls",
            "_view_module_version": "1.5.0",
            "_view_name": "HTMLView",
            "description": "",
            "description_tooltip": null,
            "layout": "IPY_MODEL_71595802375c40129cc054b248e963be",
            "placeholder": "​",
            "style": "IPY_MODEL_c191bd9b099c4b1f819ddda0a6c0718d",
            "value": " 53.0/53.0 [00:00&lt;00:00, 4.56kB/s]"
          }
        },
        "d99dbae85a194f49859d5f1d7ada5f40": {
          "model_module": "@jupyter-widgets/base",
          "model_name": "LayoutModel",
          "model_module_version": "1.2.0",
          "state": {
            "_model_module": "@jupyter-widgets/base",
            "_model_module_version": "1.2.0",
            "_model_name": "LayoutModel",
            "_view_count": null,
            "_view_module": "@jupyter-widgets/base",
            "_view_module_version": "1.2.0",
            "_view_name": "LayoutView",
            "align_content": null,
            "align_items": null,
            "align_self": null,
            "border": null,
            "bottom": null,
            "display": null,
            "flex": null,
            "flex_flow": null,
            "grid_area": null,
            "grid_auto_columns": null,
            "grid_auto_flow": null,
            "grid_auto_rows": null,
            "grid_column": null,
            "grid_gap": null,
            "grid_row": null,
            "grid_template_areas": null,
            "grid_template_columns": null,
            "grid_template_rows": null,
            "height": null,
            "justify_content": null,
            "justify_items": null,
            "left": null,
            "margin": null,
            "max_height": null,
            "max_width": null,
            "min_height": null,
            "min_width": null,
            "object_fit": null,
            "object_position": null,
            "order": null,
            "overflow": null,
            "overflow_x": null,
            "overflow_y": null,
            "padding": null,
            "right": null,
            "top": null,
            "visibility": null,
            "width": null
          }
        },
        "e1fc9c3201dd4057895f575f5f27f12b": {
          "model_module": "@jupyter-widgets/base",
          "model_name": "LayoutModel",
          "model_module_version": "1.2.0",
          "state": {
            "_model_module": "@jupyter-widgets/base",
            "_model_module_version": "1.2.0",
            "_model_name": "LayoutModel",
            "_view_count": null,
            "_view_module": "@jupyter-widgets/base",
            "_view_module_version": "1.2.0",
            "_view_name": "LayoutView",
            "align_content": null,
            "align_items": null,
            "align_self": null,
            "border": null,
            "bottom": null,
            "display": null,
            "flex": null,
            "flex_flow": null,
            "grid_area": null,
            "grid_auto_columns": null,
            "grid_auto_flow": null,
            "grid_auto_rows": null,
            "grid_column": null,
            "grid_gap": null,
            "grid_row": null,
            "grid_template_areas": null,
            "grid_template_columns": null,
            "grid_template_rows": null,
            "height": null,
            "justify_content": null,
            "justify_items": null,
            "left": null,
            "margin": null,
            "max_height": null,
            "max_width": null,
            "min_height": null,
            "min_width": null,
            "object_fit": null,
            "object_position": null,
            "order": null,
            "overflow": null,
            "overflow_x": null,
            "overflow_y": null,
            "padding": null,
            "right": null,
            "top": null,
            "visibility": null,
            "width": null
          }
        },
        "032e536c0afc46638d1128a42c5a8649": {
          "model_module": "@jupyter-widgets/controls",
          "model_name": "DescriptionStyleModel",
          "model_module_version": "1.5.0",
          "state": {
            "_model_module": "@jupyter-widgets/controls",
            "_model_module_version": "1.5.0",
            "_model_name": "DescriptionStyleModel",
            "_view_count": null,
            "_view_module": "@jupyter-widgets/base",
            "_view_module_version": "1.2.0",
            "_view_name": "StyleView",
            "description_width": ""
          }
        },
        "0424f554c8764958a5cb1d0968741d06": {
          "model_module": "@jupyter-widgets/base",
          "model_name": "LayoutModel",
          "model_module_version": "1.2.0",
          "state": {
            "_model_module": "@jupyter-widgets/base",
            "_model_module_version": "1.2.0",
            "_model_name": "LayoutModel",
            "_view_count": null,
            "_view_module": "@jupyter-widgets/base",
            "_view_module_version": "1.2.0",
            "_view_name": "LayoutView",
            "align_content": null,
            "align_items": null,
            "align_self": null,
            "border": null,
            "bottom": null,
            "display": null,
            "flex": null,
            "flex_flow": null,
            "grid_area": null,
            "grid_auto_columns": null,
            "grid_auto_flow": null,
            "grid_auto_rows": null,
            "grid_column": null,
            "grid_gap": null,
            "grid_row": null,
            "grid_template_areas": null,
            "grid_template_columns": null,
            "grid_template_rows": null,
            "height": null,
            "justify_content": null,
            "justify_items": null,
            "left": null,
            "margin": null,
            "max_height": null,
            "max_width": null,
            "min_height": null,
            "min_width": null,
            "object_fit": null,
            "object_position": null,
            "order": null,
            "overflow": null,
            "overflow_x": null,
            "overflow_y": null,
            "padding": null,
            "right": null,
            "top": null,
            "visibility": null,
            "width": null
          }
        },
        "ce609c7d12c54c8cba2d97889872b778": {
          "model_module": "@jupyter-widgets/controls",
          "model_name": "ProgressStyleModel",
          "model_module_version": "1.5.0",
          "state": {
            "_model_module": "@jupyter-widgets/controls",
            "_model_module_version": "1.5.0",
            "_model_name": "ProgressStyleModel",
            "_view_count": null,
            "_view_module": "@jupyter-widgets/base",
            "_view_module_version": "1.2.0",
            "_view_name": "StyleView",
            "bar_color": null,
            "description_width": ""
          }
        },
        "71595802375c40129cc054b248e963be": {
          "model_module": "@jupyter-widgets/base",
          "model_name": "LayoutModel",
          "model_module_version": "1.2.0",
          "state": {
            "_model_module": "@jupyter-widgets/base",
            "_model_module_version": "1.2.0",
            "_model_name": "LayoutModel",
            "_view_count": null,
            "_view_module": "@jupyter-widgets/base",
            "_view_module_version": "1.2.0",
            "_view_name": "LayoutView",
            "align_content": null,
            "align_items": null,
            "align_self": null,
            "border": null,
            "bottom": null,
            "display": null,
            "flex": null,
            "flex_flow": null,
            "grid_area": null,
            "grid_auto_columns": null,
            "grid_auto_flow": null,
            "grid_auto_rows": null,
            "grid_column": null,
            "grid_gap": null,
            "grid_row": null,
            "grid_template_areas": null,
            "grid_template_columns": null,
            "grid_template_rows": null,
            "height": null,
            "justify_content": null,
            "justify_items": null,
            "left": null,
            "margin": null,
            "max_height": null,
            "max_width": null,
            "min_height": null,
            "min_width": null,
            "object_fit": null,
            "object_position": null,
            "order": null,
            "overflow": null,
            "overflow_x": null,
            "overflow_y": null,
            "padding": null,
            "right": null,
            "top": null,
            "visibility": null,
            "width": null
          }
        },
        "c191bd9b099c4b1f819ddda0a6c0718d": {
          "model_module": "@jupyter-widgets/controls",
          "model_name": "DescriptionStyleModel",
          "model_module_version": "1.5.0",
          "state": {
            "_model_module": "@jupyter-widgets/controls",
            "_model_module_version": "1.5.0",
            "_model_name": "DescriptionStyleModel",
            "_view_count": null,
            "_view_module": "@jupyter-widgets/base",
            "_view_module_version": "1.2.0",
            "_view_name": "StyleView",
            "description_width": ""
          }
        },
        "b894db6965de49d9a178267cd84e4080": {
          "model_module": "@jupyter-widgets/controls",
          "model_name": "HBoxModel",
          "model_module_version": "1.5.0",
          "state": {
            "_dom_classes": [],
            "_model_module": "@jupyter-widgets/controls",
            "_model_module_version": "1.5.0",
            "_model_name": "HBoxModel",
            "_view_count": null,
            "_view_module": "@jupyter-widgets/controls",
            "_view_module_version": "1.5.0",
            "_view_name": "HBoxView",
            "box_style": "",
            "children": [
              "IPY_MODEL_6a72121f7e19417a989753739a9ac221",
              "IPY_MODEL_e340c531b8cc48bfab8a50e26f93732d",
              "IPY_MODEL_cd25246d536c4e0faf629de6ec7dd0be"
            ],
            "layout": "IPY_MODEL_86b0cd09f1d04780adfad930663be0ae"
          }
        },
        "6a72121f7e19417a989753739a9ac221": {
          "model_module": "@jupyter-widgets/controls",
          "model_name": "HTMLModel",
          "model_module_version": "1.5.0",
          "state": {
            "_dom_classes": [],
            "_model_module": "@jupyter-widgets/controls",
            "_model_module_version": "1.5.0",
            "_model_name": "HTMLModel",
            "_view_count": null,
            "_view_module": "@jupyter-widgets/controls",
            "_view_module_version": "1.5.0",
            "_view_name": "HTMLView",
            "description": "",
            "description_tooltip": null,
            "layout": "IPY_MODEL_e0f297f1748f42d6b4a0f99f8e3f653c",
            "placeholder": "​",
            "style": "IPY_MODEL_cd7015f5fe6c45b5b10519776da62956",
            "value": "config.json: 100%"
          }
        },
        "e340c531b8cc48bfab8a50e26f93732d": {
          "model_module": "@jupyter-widgets/controls",
          "model_name": "FloatProgressModel",
          "model_module_version": "1.5.0",
          "state": {
            "_dom_classes": [],
            "_model_module": "@jupyter-widgets/controls",
            "_model_module_version": "1.5.0",
            "_model_name": "FloatProgressModel",
            "_view_count": null,
            "_view_module": "@jupyter-widgets/controls",
            "_view_module_version": "1.5.0",
            "_view_name": "ProgressView",
            "bar_style": "success",
            "description": "",
            "description_tooltip": null,
            "layout": "IPY_MODEL_fd5973032402483ca43a59ae207ab560",
            "max": 612,
            "min": 0,
            "orientation": "horizontal",
            "style": "IPY_MODEL_a767e78c73a3407b9cd8905370254c3a",
            "value": 612
          }
        },
        "cd25246d536c4e0faf629de6ec7dd0be": {
          "model_module": "@jupyter-widgets/controls",
          "model_name": "HTMLModel",
          "model_module_version": "1.5.0",
          "state": {
            "_dom_classes": [],
            "_model_module": "@jupyter-widgets/controls",
            "_model_module_version": "1.5.0",
            "_model_name": "HTMLModel",
            "_view_count": null,
            "_view_module": "@jupyter-widgets/controls",
            "_view_module_version": "1.5.0",
            "_view_name": "HTMLView",
            "description": "",
            "description_tooltip": null,
            "layout": "IPY_MODEL_eb4f6459deda461f8de258e2b94b8550",
            "placeholder": "​",
            "style": "IPY_MODEL_ca27dfd897c04527b5447843d2821e6f",
            "value": " 612/612 [00:00&lt;00:00, 54.8kB/s]"
          }
        },
        "86b0cd09f1d04780adfad930663be0ae": {
          "model_module": "@jupyter-widgets/base",
          "model_name": "LayoutModel",
          "model_module_version": "1.2.0",
          "state": {
            "_model_module": "@jupyter-widgets/base",
            "_model_module_version": "1.2.0",
            "_model_name": "LayoutModel",
            "_view_count": null,
            "_view_module": "@jupyter-widgets/base",
            "_view_module_version": "1.2.0",
            "_view_name": "LayoutView",
            "align_content": null,
            "align_items": null,
            "align_self": null,
            "border": null,
            "bottom": null,
            "display": null,
            "flex": null,
            "flex_flow": null,
            "grid_area": null,
            "grid_auto_columns": null,
            "grid_auto_flow": null,
            "grid_auto_rows": null,
            "grid_column": null,
            "grid_gap": null,
            "grid_row": null,
            "grid_template_areas": null,
            "grid_template_columns": null,
            "grid_template_rows": null,
            "height": null,
            "justify_content": null,
            "justify_items": null,
            "left": null,
            "margin": null,
            "max_height": null,
            "max_width": null,
            "min_height": null,
            "min_width": null,
            "object_fit": null,
            "object_position": null,
            "order": null,
            "overflow": null,
            "overflow_x": null,
            "overflow_y": null,
            "padding": null,
            "right": null,
            "top": null,
            "visibility": null,
            "width": null
          }
        },
        "e0f297f1748f42d6b4a0f99f8e3f653c": {
          "model_module": "@jupyter-widgets/base",
          "model_name": "LayoutModel",
          "model_module_version": "1.2.0",
          "state": {
            "_model_module": "@jupyter-widgets/base",
            "_model_module_version": "1.2.0",
            "_model_name": "LayoutModel",
            "_view_count": null,
            "_view_module": "@jupyter-widgets/base",
            "_view_module_version": "1.2.0",
            "_view_name": "LayoutView",
            "align_content": null,
            "align_items": null,
            "align_self": null,
            "border": null,
            "bottom": null,
            "display": null,
            "flex": null,
            "flex_flow": null,
            "grid_area": null,
            "grid_auto_columns": null,
            "grid_auto_flow": null,
            "grid_auto_rows": null,
            "grid_column": null,
            "grid_gap": null,
            "grid_row": null,
            "grid_template_areas": null,
            "grid_template_columns": null,
            "grid_template_rows": null,
            "height": null,
            "justify_content": null,
            "justify_items": null,
            "left": null,
            "margin": null,
            "max_height": null,
            "max_width": null,
            "min_height": null,
            "min_width": null,
            "object_fit": null,
            "object_position": null,
            "order": null,
            "overflow": null,
            "overflow_x": null,
            "overflow_y": null,
            "padding": null,
            "right": null,
            "top": null,
            "visibility": null,
            "width": null
          }
        },
        "cd7015f5fe6c45b5b10519776da62956": {
          "model_module": "@jupyter-widgets/controls",
          "model_name": "DescriptionStyleModel",
          "model_module_version": "1.5.0",
          "state": {
            "_model_module": "@jupyter-widgets/controls",
            "_model_module_version": "1.5.0",
            "_model_name": "DescriptionStyleModel",
            "_view_count": null,
            "_view_module": "@jupyter-widgets/base",
            "_view_module_version": "1.2.0",
            "_view_name": "StyleView",
            "description_width": ""
          }
        },
        "fd5973032402483ca43a59ae207ab560": {
          "model_module": "@jupyter-widgets/base",
          "model_name": "LayoutModel",
          "model_module_version": "1.2.0",
          "state": {
            "_model_module": "@jupyter-widgets/base",
            "_model_module_version": "1.2.0",
            "_model_name": "LayoutModel",
            "_view_count": null,
            "_view_module": "@jupyter-widgets/base",
            "_view_module_version": "1.2.0",
            "_view_name": "LayoutView",
            "align_content": null,
            "align_items": null,
            "align_self": null,
            "border": null,
            "bottom": null,
            "display": null,
            "flex": null,
            "flex_flow": null,
            "grid_area": null,
            "grid_auto_columns": null,
            "grid_auto_flow": null,
            "grid_auto_rows": null,
            "grid_column": null,
            "grid_gap": null,
            "grid_row": null,
            "grid_template_areas": null,
            "grid_template_columns": null,
            "grid_template_rows": null,
            "height": null,
            "justify_content": null,
            "justify_items": null,
            "left": null,
            "margin": null,
            "max_height": null,
            "max_width": null,
            "min_height": null,
            "min_width": null,
            "object_fit": null,
            "object_position": null,
            "order": null,
            "overflow": null,
            "overflow_x": null,
            "overflow_y": null,
            "padding": null,
            "right": null,
            "top": null,
            "visibility": null,
            "width": null
          }
        },
        "a767e78c73a3407b9cd8905370254c3a": {
          "model_module": "@jupyter-widgets/controls",
          "model_name": "ProgressStyleModel",
          "model_module_version": "1.5.0",
          "state": {
            "_model_module": "@jupyter-widgets/controls",
            "_model_module_version": "1.5.0",
            "_model_name": "ProgressStyleModel",
            "_view_count": null,
            "_view_module": "@jupyter-widgets/base",
            "_view_module_version": "1.2.0",
            "_view_name": "StyleView",
            "bar_color": null,
            "description_width": ""
          }
        },
        "eb4f6459deda461f8de258e2b94b8550": {
          "model_module": "@jupyter-widgets/base",
          "model_name": "LayoutModel",
          "model_module_version": "1.2.0",
          "state": {
            "_model_module": "@jupyter-widgets/base",
            "_model_module_version": "1.2.0",
            "_model_name": "LayoutModel",
            "_view_count": null,
            "_view_module": "@jupyter-widgets/base",
            "_view_module_version": "1.2.0",
            "_view_name": "LayoutView",
            "align_content": null,
            "align_items": null,
            "align_self": null,
            "border": null,
            "bottom": null,
            "display": null,
            "flex": null,
            "flex_flow": null,
            "grid_area": null,
            "grid_auto_columns": null,
            "grid_auto_flow": null,
            "grid_auto_rows": null,
            "grid_column": null,
            "grid_gap": null,
            "grid_row": null,
            "grid_template_areas": null,
            "grid_template_columns": null,
            "grid_template_rows": null,
            "height": null,
            "justify_content": null,
            "justify_items": null,
            "left": null,
            "margin": null,
            "max_height": null,
            "max_width": null,
            "min_height": null,
            "min_width": null,
            "object_fit": null,
            "object_position": null,
            "order": null,
            "overflow": null,
            "overflow_x": null,
            "overflow_y": null,
            "padding": null,
            "right": null,
            "top": null,
            "visibility": null,
            "width": null
          }
        },
        "ca27dfd897c04527b5447843d2821e6f": {
          "model_module": "@jupyter-widgets/controls",
          "model_name": "DescriptionStyleModel",
          "model_module_version": "1.5.0",
          "state": {
            "_model_module": "@jupyter-widgets/controls",
            "_model_module_version": "1.5.0",
            "_model_name": "DescriptionStyleModel",
            "_view_count": null,
            "_view_module": "@jupyter-widgets/base",
            "_view_module_version": "1.2.0",
            "_view_name": "StyleView",
            "description_width": ""
          }
        },
        "6d3384125ca74a82bfbcfb97c71ef888": {
          "model_module": "@jupyter-widgets/controls",
          "model_name": "HBoxModel",
          "model_module_version": "1.5.0",
          "state": {
            "_dom_classes": [],
            "_model_module": "@jupyter-widgets/controls",
            "_model_module_version": "1.5.0",
            "_model_name": "HBoxModel",
            "_view_count": null,
            "_view_module": "@jupyter-widgets/controls",
            "_view_module_version": "1.5.0",
            "_view_name": "HBoxView",
            "box_style": "",
            "children": [
              "IPY_MODEL_41f4478ed45f4047961c9104aa30b538",
              "IPY_MODEL_9a65d195b20f48cbac8ba0258f136f94",
              "IPY_MODEL_7a01afb880b14f8184b791e87f28206e"
            ],
            "layout": "IPY_MODEL_f6853bbb425441029e21f77e090f6c3f"
          }
        },
        "41f4478ed45f4047961c9104aa30b538": {
          "model_module": "@jupyter-widgets/controls",
          "model_name": "HTMLModel",
          "model_module_version": "1.5.0",
          "state": {
            "_dom_classes": [],
            "_model_module": "@jupyter-widgets/controls",
            "_model_module_version": "1.5.0",
            "_model_name": "HTMLModel",
            "_view_count": null,
            "_view_module": "@jupyter-widgets/controls",
            "_view_module_version": "1.5.0",
            "_view_name": "HTMLView",
            "description": "",
            "description_tooltip": null,
            "layout": "IPY_MODEL_b4d5bf9910144da6a945484175b44882",
            "placeholder": "​",
            "style": "IPY_MODEL_1db6d7423b1341ac91134a8b04db8c98",
            "value": "model.safetensors: 100%"
          }
        },
        "9a65d195b20f48cbac8ba0258f136f94": {
          "model_module": "@jupyter-widgets/controls",
          "model_name": "FloatProgressModel",
          "model_module_version": "1.5.0",
          "state": {
            "_dom_classes": [],
            "_model_module": "@jupyter-widgets/controls",
            "_model_module_version": "1.5.0",
            "_model_name": "FloatProgressModel",
            "_view_count": null,
            "_view_module": "@jupyter-widgets/controls",
            "_view_module_version": "1.5.0",
            "_view_name": "ProgressView",
            "bar_style": "success",
            "description": "",
            "description_tooltip": null,
            "layout": "IPY_MODEL_e4eed2be7b38445b8dfbb63a0e8282e8",
            "max": 90868376,
            "min": 0,
            "orientation": "horizontal",
            "style": "IPY_MODEL_3a041f64cce8478c9c948fce629ac37d",
            "value": 90868376
          }
        },
        "7a01afb880b14f8184b791e87f28206e": {
          "model_module": "@jupyter-widgets/controls",
          "model_name": "HTMLModel",
          "model_module_version": "1.5.0",
          "state": {
            "_dom_classes": [],
            "_model_module": "@jupyter-widgets/controls",
            "_model_module_version": "1.5.0",
            "_model_name": "HTMLModel",
            "_view_count": null,
            "_view_module": "@jupyter-widgets/controls",
            "_view_module_version": "1.5.0",
            "_view_name": "HTMLView",
            "description": "",
            "description_tooltip": null,
            "layout": "IPY_MODEL_95bc8ed46e304695969563e17e7e3c56",
            "placeholder": "​",
            "style": "IPY_MODEL_4839a44807084f069fafc712ee91e331",
            "value": " 90.9M/90.9M [00:00&lt;00:00, 190MB/s]"
          }
        },
        "f6853bbb425441029e21f77e090f6c3f": {
          "model_module": "@jupyter-widgets/base",
          "model_name": "LayoutModel",
          "model_module_version": "1.2.0",
          "state": {
            "_model_module": "@jupyter-widgets/base",
            "_model_module_version": "1.2.0",
            "_model_name": "LayoutModel",
            "_view_count": null,
            "_view_module": "@jupyter-widgets/base",
            "_view_module_version": "1.2.0",
            "_view_name": "LayoutView",
            "align_content": null,
            "align_items": null,
            "align_self": null,
            "border": null,
            "bottom": null,
            "display": null,
            "flex": null,
            "flex_flow": null,
            "grid_area": null,
            "grid_auto_columns": null,
            "grid_auto_flow": null,
            "grid_auto_rows": null,
            "grid_column": null,
            "grid_gap": null,
            "grid_row": null,
            "grid_template_areas": null,
            "grid_template_columns": null,
            "grid_template_rows": null,
            "height": null,
            "justify_content": null,
            "justify_items": null,
            "left": null,
            "margin": null,
            "max_height": null,
            "max_width": null,
            "min_height": null,
            "min_width": null,
            "object_fit": null,
            "object_position": null,
            "order": null,
            "overflow": null,
            "overflow_x": null,
            "overflow_y": null,
            "padding": null,
            "right": null,
            "top": null,
            "visibility": null,
            "width": null
          }
        },
        "b4d5bf9910144da6a945484175b44882": {
          "model_module": "@jupyter-widgets/base",
          "model_name": "LayoutModel",
          "model_module_version": "1.2.0",
          "state": {
            "_model_module": "@jupyter-widgets/base",
            "_model_module_version": "1.2.0",
            "_model_name": "LayoutModel",
            "_view_count": null,
            "_view_module": "@jupyter-widgets/base",
            "_view_module_version": "1.2.0",
            "_view_name": "LayoutView",
            "align_content": null,
            "align_items": null,
            "align_self": null,
            "border": null,
            "bottom": null,
            "display": null,
            "flex": null,
            "flex_flow": null,
            "grid_area": null,
            "grid_auto_columns": null,
            "grid_auto_flow": null,
            "grid_auto_rows": null,
            "grid_column": null,
            "grid_gap": null,
            "grid_row": null,
            "grid_template_areas": null,
            "grid_template_columns": null,
            "grid_template_rows": null,
            "height": null,
            "justify_content": null,
            "justify_items": null,
            "left": null,
            "margin": null,
            "max_height": null,
            "max_width": null,
            "min_height": null,
            "min_width": null,
            "object_fit": null,
            "object_position": null,
            "order": null,
            "overflow": null,
            "overflow_x": null,
            "overflow_y": null,
            "padding": null,
            "right": null,
            "top": null,
            "visibility": null,
            "width": null
          }
        },
        "1db6d7423b1341ac91134a8b04db8c98": {
          "model_module": "@jupyter-widgets/controls",
          "model_name": "DescriptionStyleModel",
          "model_module_version": "1.5.0",
          "state": {
            "_model_module": "@jupyter-widgets/controls",
            "_model_module_version": "1.5.0",
            "_model_name": "DescriptionStyleModel",
            "_view_count": null,
            "_view_module": "@jupyter-widgets/base",
            "_view_module_version": "1.2.0",
            "_view_name": "StyleView",
            "description_width": ""
          }
        },
        "e4eed2be7b38445b8dfbb63a0e8282e8": {
          "model_module": "@jupyter-widgets/base",
          "model_name": "LayoutModel",
          "model_module_version": "1.2.0",
          "state": {
            "_model_module": "@jupyter-widgets/base",
            "_model_module_version": "1.2.0",
            "_model_name": "LayoutModel",
            "_view_count": null,
            "_view_module": "@jupyter-widgets/base",
            "_view_module_version": "1.2.0",
            "_view_name": "LayoutView",
            "align_content": null,
            "align_items": null,
            "align_self": null,
            "border": null,
            "bottom": null,
            "display": null,
            "flex": null,
            "flex_flow": null,
            "grid_area": null,
            "grid_auto_columns": null,
            "grid_auto_flow": null,
            "grid_auto_rows": null,
            "grid_column": null,
            "grid_gap": null,
            "grid_row": null,
            "grid_template_areas": null,
            "grid_template_columns": null,
            "grid_template_rows": null,
            "height": null,
            "justify_content": null,
            "justify_items": null,
            "left": null,
            "margin": null,
            "max_height": null,
            "max_width": null,
            "min_height": null,
            "min_width": null,
            "object_fit": null,
            "object_position": null,
            "order": null,
            "overflow": null,
            "overflow_x": null,
            "overflow_y": null,
            "padding": null,
            "right": null,
            "top": null,
            "visibility": null,
            "width": null
          }
        },
        "3a041f64cce8478c9c948fce629ac37d": {
          "model_module": "@jupyter-widgets/controls",
          "model_name": "ProgressStyleModel",
          "model_module_version": "1.5.0",
          "state": {
            "_model_module": "@jupyter-widgets/controls",
            "_model_module_version": "1.5.0",
            "_model_name": "ProgressStyleModel",
            "_view_count": null,
            "_view_module": "@jupyter-widgets/base",
            "_view_module_version": "1.2.0",
            "_view_name": "StyleView",
            "bar_color": null,
            "description_width": ""
          }
        },
        "95bc8ed46e304695969563e17e7e3c56": {
          "model_module": "@jupyter-widgets/base",
          "model_name": "LayoutModel",
          "model_module_version": "1.2.0",
          "state": {
            "_model_module": "@jupyter-widgets/base",
            "_model_module_version": "1.2.0",
            "_model_name": "LayoutModel",
            "_view_count": null,
            "_view_module": "@jupyter-widgets/base",
            "_view_module_version": "1.2.0",
            "_view_name": "LayoutView",
            "align_content": null,
            "align_items": null,
            "align_self": null,
            "border": null,
            "bottom": null,
            "display": null,
            "flex": null,
            "flex_flow": null,
            "grid_area": null,
            "grid_auto_columns": null,
            "grid_auto_flow": null,
            "grid_auto_rows": null,
            "grid_column": null,
            "grid_gap": null,
            "grid_row": null,
            "grid_template_areas": null,
            "grid_template_columns": null,
            "grid_template_rows": null,
            "height": null,
            "justify_content": null,
            "justify_items": null,
            "left": null,
            "margin": null,
            "max_height": null,
            "max_width": null,
            "min_height": null,
            "min_width": null,
            "object_fit": null,
            "object_position": null,
            "order": null,
            "overflow": null,
            "overflow_x": null,
            "overflow_y": null,
            "padding": null,
            "right": null,
            "top": null,
            "visibility": null,
            "width": null
          }
        },
        "4839a44807084f069fafc712ee91e331": {
          "model_module": "@jupyter-widgets/controls",
          "model_name": "DescriptionStyleModel",
          "model_module_version": "1.5.0",
          "state": {
            "_model_module": "@jupyter-widgets/controls",
            "_model_module_version": "1.5.0",
            "_model_name": "DescriptionStyleModel",
            "_view_count": null,
            "_view_module": "@jupyter-widgets/base",
            "_view_module_version": "1.2.0",
            "_view_name": "StyleView",
            "description_width": ""
          }
        },
        "1b10c047e9d048d5b3e98654d878d180": {
          "model_module": "@jupyter-widgets/controls",
          "model_name": "HBoxModel",
          "model_module_version": "1.5.0",
          "state": {
            "_dom_classes": [],
            "_model_module": "@jupyter-widgets/controls",
            "_model_module_version": "1.5.0",
            "_model_name": "HBoxModel",
            "_view_count": null,
            "_view_module": "@jupyter-widgets/controls",
            "_view_module_version": "1.5.0",
            "_view_name": "HBoxView",
            "box_style": "",
            "children": [
              "IPY_MODEL_3751c9686f9c4a94ad495e8f8c2806f5",
              "IPY_MODEL_b93ff97c93e44913ac8ee90a8b76b1b4",
              "IPY_MODEL_437fadc6ab4345ae9fd31910f96df937"
            ],
            "layout": "IPY_MODEL_b5eb762b9edf4fd38920b44b66b84cb4"
          }
        },
        "3751c9686f9c4a94ad495e8f8c2806f5": {
          "model_module": "@jupyter-widgets/controls",
          "model_name": "HTMLModel",
          "model_module_version": "1.5.0",
          "state": {
            "_dom_classes": [],
            "_model_module": "@jupyter-widgets/controls",
            "_model_module_version": "1.5.0",
            "_model_name": "HTMLModel",
            "_view_count": null,
            "_view_module": "@jupyter-widgets/controls",
            "_view_module_version": "1.5.0",
            "_view_name": "HTMLView",
            "description": "",
            "description_tooltip": null,
            "layout": "IPY_MODEL_c69184185def48f3a416f2e90e229b76",
            "placeholder": "​",
            "style": "IPY_MODEL_d6977707500840f6bf691f37aa437361",
            "value": "tokenizer_config.json: 100%"
          }
        },
        "b93ff97c93e44913ac8ee90a8b76b1b4": {
          "model_module": "@jupyter-widgets/controls",
          "model_name": "FloatProgressModel",
          "model_module_version": "1.5.0",
          "state": {
            "_dom_classes": [],
            "_model_module": "@jupyter-widgets/controls",
            "_model_module_version": "1.5.0",
            "_model_name": "FloatProgressModel",
            "_view_count": null,
            "_view_module": "@jupyter-widgets/controls",
            "_view_module_version": "1.5.0",
            "_view_name": "ProgressView",
            "bar_style": "success",
            "description": "",
            "description_tooltip": null,
            "layout": "IPY_MODEL_8ee43894748a48a89a7f3ed8cc75608d",
            "max": 350,
            "min": 0,
            "orientation": "horizontal",
            "style": "IPY_MODEL_d0c16bddfc614efdaeab372a604cb16c",
            "value": 350
          }
        },
        "437fadc6ab4345ae9fd31910f96df937": {
          "model_module": "@jupyter-widgets/controls",
          "model_name": "HTMLModel",
          "model_module_version": "1.5.0",
          "state": {
            "_dom_classes": [],
            "_model_module": "@jupyter-widgets/controls",
            "_model_module_version": "1.5.0",
            "_model_name": "HTMLModel",
            "_view_count": null,
            "_view_module": "@jupyter-widgets/controls",
            "_view_module_version": "1.5.0",
            "_view_name": "HTMLView",
            "description": "",
            "description_tooltip": null,
            "layout": "IPY_MODEL_bdf55c65b9c746b48b489cda2eed0289",
            "placeholder": "​",
            "style": "IPY_MODEL_8e713a42a0834dfcb5897629096fbfa3",
            "value": " 350/350 [00:00&lt;00:00, 16.5kB/s]"
          }
        },
        "b5eb762b9edf4fd38920b44b66b84cb4": {
          "model_module": "@jupyter-widgets/base",
          "model_name": "LayoutModel",
          "model_module_version": "1.2.0",
          "state": {
            "_model_module": "@jupyter-widgets/base",
            "_model_module_version": "1.2.0",
            "_model_name": "LayoutModel",
            "_view_count": null,
            "_view_module": "@jupyter-widgets/base",
            "_view_module_version": "1.2.0",
            "_view_name": "LayoutView",
            "align_content": null,
            "align_items": null,
            "align_self": null,
            "border": null,
            "bottom": null,
            "display": null,
            "flex": null,
            "flex_flow": null,
            "grid_area": null,
            "grid_auto_columns": null,
            "grid_auto_flow": null,
            "grid_auto_rows": null,
            "grid_column": null,
            "grid_gap": null,
            "grid_row": null,
            "grid_template_areas": null,
            "grid_template_columns": null,
            "grid_template_rows": null,
            "height": null,
            "justify_content": null,
            "justify_items": null,
            "left": null,
            "margin": null,
            "max_height": null,
            "max_width": null,
            "min_height": null,
            "min_width": null,
            "object_fit": null,
            "object_position": null,
            "order": null,
            "overflow": null,
            "overflow_x": null,
            "overflow_y": null,
            "padding": null,
            "right": null,
            "top": null,
            "visibility": null,
            "width": null
          }
        },
        "c69184185def48f3a416f2e90e229b76": {
          "model_module": "@jupyter-widgets/base",
          "model_name": "LayoutModel",
          "model_module_version": "1.2.0",
          "state": {
            "_model_module": "@jupyter-widgets/base",
            "_model_module_version": "1.2.0",
            "_model_name": "LayoutModel",
            "_view_count": null,
            "_view_module": "@jupyter-widgets/base",
            "_view_module_version": "1.2.0",
            "_view_name": "LayoutView",
            "align_content": null,
            "align_items": null,
            "align_self": null,
            "border": null,
            "bottom": null,
            "display": null,
            "flex": null,
            "flex_flow": null,
            "grid_area": null,
            "grid_auto_columns": null,
            "grid_auto_flow": null,
            "grid_auto_rows": null,
            "grid_column": null,
            "grid_gap": null,
            "grid_row": null,
            "grid_template_areas": null,
            "grid_template_columns": null,
            "grid_template_rows": null,
            "height": null,
            "justify_content": null,
            "justify_items": null,
            "left": null,
            "margin": null,
            "max_height": null,
            "max_width": null,
            "min_height": null,
            "min_width": null,
            "object_fit": null,
            "object_position": null,
            "order": null,
            "overflow": null,
            "overflow_x": null,
            "overflow_y": null,
            "padding": null,
            "right": null,
            "top": null,
            "visibility": null,
            "width": null
          }
        },
        "d6977707500840f6bf691f37aa437361": {
          "model_module": "@jupyter-widgets/controls",
          "model_name": "DescriptionStyleModel",
          "model_module_version": "1.5.0",
          "state": {
            "_model_module": "@jupyter-widgets/controls",
            "_model_module_version": "1.5.0",
            "_model_name": "DescriptionStyleModel",
            "_view_count": null,
            "_view_module": "@jupyter-widgets/base",
            "_view_module_version": "1.2.0",
            "_view_name": "StyleView",
            "description_width": ""
          }
        },
        "8ee43894748a48a89a7f3ed8cc75608d": {
          "model_module": "@jupyter-widgets/base",
          "model_name": "LayoutModel",
          "model_module_version": "1.2.0",
          "state": {
            "_model_module": "@jupyter-widgets/base",
            "_model_module_version": "1.2.0",
            "_model_name": "LayoutModel",
            "_view_count": null,
            "_view_module": "@jupyter-widgets/base",
            "_view_module_version": "1.2.0",
            "_view_name": "LayoutView",
            "align_content": null,
            "align_items": null,
            "align_self": null,
            "border": null,
            "bottom": null,
            "display": null,
            "flex": null,
            "flex_flow": null,
            "grid_area": null,
            "grid_auto_columns": null,
            "grid_auto_flow": null,
            "grid_auto_rows": null,
            "grid_column": null,
            "grid_gap": null,
            "grid_row": null,
            "grid_template_areas": null,
            "grid_template_columns": null,
            "grid_template_rows": null,
            "height": null,
            "justify_content": null,
            "justify_items": null,
            "left": null,
            "margin": null,
            "max_height": null,
            "max_width": null,
            "min_height": null,
            "min_width": null,
            "object_fit": null,
            "object_position": null,
            "order": null,
            "overflow": null,
            "overflow_x": null,
            "overflow_y": null,
            "padding": null,
            "right": null,
            "top": null,
            "visibility": null,
            "width": null
          }
        },
        "d0c16bddfc614efdaeab372a604cb16c": {
          "model_module": "@jupyter-widgets/controls",
          "model_name": "ProgressStyleModel",
          "model_module_version": "1.5.0",
          "state": {
            "_model_module": "@jupyter-widgets/controls",
            "_model_module_version": "1.5.0",
            "_model_name": "ProgressStyleModel",
            "_view_count": null,
            "_view_module": "@jupyter-widgets/base",
            "_view_module_version": "1.2.0",
            "_view_name": "StyleView",
            "bar_color": null,
            "description_width": ""
          }
        },
        "bdf55c65b9c746b48b489cda2eed0289": {
          "model_module": "@jupyter-widgets/base",
          "model_name": "LayoutModel",
          "model_module_version": "1.2.0",
          "state": {
            "_model_module": "@jupyter-widgets/base",
            "_model_module_version": "1.2.0",
            "_model_name": "LayoutModel",
            "_view_count": null,
            "_view_module": "@jupyter-widgets/base",
            "_view_module_version": "1.2.0",
            "_view_name": "LayoutView",
            "align_content": null,
            "align_items": null,
            "align_self": null,
            "border": null,
            "bottom": null,
            "display": null,
            "flex": null,
            "flex_flow": null,
            "grid_area": null,
            "grid_auto_columns": null,
            "grid_auto_flow": null,
            "grid_auto_rows": null,
            "grid_column": null,
            "grid_gap": null,
            "grid_row": null,
            "grid_template_areas": null,
            "grid_template_columns": null,
            "grid_template_rows": null,
            "height": null,
            "justify_content": null,
            "justify_items": null,
            "left": null,
            "margin": null,
            "max_height": null,
            "max_width": null,
            "min_height": null,
            "min_width": null,
            "object_fit": null,
            "object_position": null,
            "order": null,
            "overflow": null,
            "overflow_x": null,
            "overflow_y": null,
            "padding": null,
            "right": null,
            "top": null,
            "visibility": null,
            "width": null
          }
        },
        "8e713a42a0834dfcb5897629096fbfa3": {
          "model_module": "@jupyter-widgets/controls",
          "model_name": "DescriptionStyleModel",
          "model_module_version": "1.5.0",
          "state": {
            "_model_module": "@jupyter-widgets/controls",
            "_model_module_version": "1.5.0",
            "_model_name": "DescriptionStyleModel",
            "_view_count": null,
            "_view_module": "@jupyter-widgets/base",
            "_view_module_version": "1.2.0",
            "_view_name": "StyleView",
            "description_width": ""
          }
        },
        "45c825f1fbdf4d7eb1457330ab776755": {
          "model_module": "@jupyter-widgets/controls",
          "model_name": "HBoxModel",
          "model_module_version": "1.5.0",
          "state": {
            "_dom_classes": [],
            "_model_module": "@jupyter-widgets/controls",
            "_model_module_version": "1.5.0",
            "_model_name": "HBoxModel",
            "_view_count": null,
            "_view_module": "@jupyter-widgets/controls",
            "_view_module_version": "1.5.0",
            "_view_name": "HBoxView",
            "box_style": "",
            "children": [
              "IPY_MODEL_e4b1a91a95cb4baaaa34cfbd5b6427bb",
              "IPY_MODEL_c5b4ccb906654b3785ab060339218d55",
              "IPY_MODEL_9ac0164468034eefb56737314aa62a40"
            ],
            "layout": "IPY_MODEL_55e0abf49a9b4b63944773d4b206f30e"
          }
        },
        "e4b1a91a95cb4baaaa34cfbd5b6427bb": {
          "model_module": "@jupyter-widgets/controls",
          "model_name": "HTMLModel",
          "model_module_version": "1.5.0",
          "state": {
            "_dom_classes": [],
            "_model_module": "@jupyter-widgets/controls",
            "_model_module_version": "1.5.0",
            "_model_name": "HTMLModel",
            "_view_count": null,
            "_view_module": "@jupyter-widgets/controls",
            "_view_module_version": "1.5.0",
            "_view_name": "HTMLView",
            "description": "",
            "description_tooltip": null,
            "layout": "IPY_MODEL_4d988dc696184de6b992a4a462d46811",
            "placeholder": "​",
            "style": "IPY_MODEL_628c8828d36445d09ad75a169d0ca8c4",
            "value": "vocab.txt: 100%"
          }
        },
        "c5b4ccb906654b3785ab060339218d55": {
          "model_module": "@jupyter-widgets/controls",
          "model_name": "FloatProgressModel",
          "model_module_version": "1.5.0",
          "state": {
            "_dom_classes": [],
            "_model_module": "@jupyter-widgets/controls",
            "_model_module_version": "1.5.0",
            "_model_name": "FloatProgressModel",
            "_view_count": null,
            "_view_module": "@jupyter-widgets/controls",
            "_view_module_version": "1.5.0",
            "_view_name": "ProgressView",
            "bar_style": "success",
            "description": "",
            "description_tooltip": null,
            "layout": "IPY_MODEL_11dea5840a204c9c801c96f93ef224aa",
            "max": 231508,
            "min": 0,
            "orientation": "horizontal",
            "style": "IPY_MODEL_873d85bfc38443818eacd88cdd9bc7eb",
            "value": 231508
          }
        },
        "9ac0164468034eefb56737314aa62a40": {
          "model_module": "@jupyter-widgets/controls",
          "model_name": "HTMLModel",
          "model_module_version": "1.5.0",
          "state": {
            "_dom_classes": [],
            "_model_module": "@jupyter-widgets/controls",
            "_model_module_version": "1.5.0",
            "_model_name": "HTMLModel",
            "_view_count": null,
            "_view_module": "@jupyter-widgets/controls",
            "_view_module_version": "1.5.0",
            "_view_name": "HTMLView",
            "description": "",
            "description_tooltip": null,
            "layout": "IPY_MODEL_6dcfc49c99d34fdc97ea64c05301f236",
            "placeholder": "​",
            "style": "IPY_MODEL_31529235a5b340f58f1cea23affe91ff",
            "value": " 232k/232k [00:00&lt;00:00, 1.39MB/s]"
          }
        },
        "55e0abf49a9b4b63944773d4b206f30e": {
          "model_module": "@jupyter-widgets/base",
          "model_name": "LayoutModel",
          "model_module_version": "1.2.0",
          "state": {
            "_model_module": "@jupyter-widgets/base",
            "_model_module_version": "1.2.0",
            "_model_name": "LayoutModel",
            "_view_count": null,
            "_view_module": "@jupyter-widgets/base",
            "_view_module_version": "1.2.0",
            "_view_name": "LayoutView",
            "align_content": null,
            "align_items": null,
            "align_self": null,
            "border": null,
            "bottom": null,
            "display": null,
            "flex": null,
            "flex_flow": null,
            "grid_area": null,
            "grid_auto_columns": null,
            "grid_auto_flow": null,
            "grid_auto_rows": null,
            "grid_column": null,
            "grid_gap": null,
            "grid_row": null,
            "grid_template_areas": null,
            "grid_template_columns": null,
            "grid_template_rows": null,
            "height": null,
            "justify_content": null,
            "justify_items": null,
            "left": null,
            "margin": null,
            "max_height": null,
            "max_width": null,
            "min_height": null,
            "min_width": null,
            "object_fit": null,
            "object_position": null,
            "order": null,
            "overflow": null,
            "overflow_x": null,
            "overflow_y": null,
            "padding": null,
            "right": null,
            "top": null,
            "visibility": null,
            "width": null
          }
        },
        "4d988dc696184de6b992a4a462d46811": {
          "model_module": "@jupyter-widgets/base",
          "model_name": "LayoutModel",
          "model_module_version": "1.2.0",
          "state": {
            "_model_module": "@jupyter-widgets/base",
            "_model_module_version": "1.2.0",
            "_model_name": "LayoutModel",
            "_view_count": null,
            "_view_module": "@jupyter-widgets/base",
            "_view_module_version": "1.2.0",
            "_view_name": "LayoutView",
            "align_content": null,
            "align_items": null,
            "align_self": null,
            "border": null,
            "bottom": null,
            "display": null,
            "flex": null,
            "flex_flow": null,
            "grid_area": null,
            "grid_auto_columns": null,
            "grid_auto_flow": null,
            "grid_auto_rows": null,
            "grid_column": null,
            "grid_gap": null,
            "grid_row": null,
            "grid_template_areas": null,
            "grid_template_columns": null,
            "grid_template_rows": null,
            "height": null,
            "justify_content": null,
            "justify_items": null,
            "left": null,
            "margin": null,
            "max_height": null,
            "max_width": null,
            "min_height": null,
            "min_width": null,
            "object_fit": null,
            "object_position": null,
            "order": null,
            "overflow": null,
            "overflow_x": null,
            "overflow_y": null,
            "padding": null,
            "right": null,
            "top": null,
            "visibility": null,
            "width": null
          }
        },
        "628c8828d36445d09ad75a169d0ca8c4": {
          "model_module": "@jupyter-widgets/controls",
          "model_name": "DescriptionStyleModel",
          "model_module_version": "1.5.0",
          "state": {
            "_model_module": "@jupyter-widgets/controls",
            "_model_module_version": "1.5.0",
            "_model_name": "DescriptionStyleModel",
            "_view_count": null,
            "_view_module": "@jupyter-widgets/base",
            "_view_module_version": "1.2.0",
            "_view_name": "StyleView",
            "description_width": ""
          }
        },
        "11dea5840a204c9c801c96f93ef224aa": {
          "model_module": "@jupyter-widgets/base",
          "model_name": "LayoutModel",
          "model_module_version": "1.2.0",
          "state": {
            "_model_module": "@jupyter-widgets/base",
            "_model_module_version": "1.2.0",
            "_model_name": "LayoutModel",
            "_view_count": null,
            "_view_module": "@jupyter-widgets/base",
            "_view_module_version": "1.2.0",
            "_view_name": "LayoutView",
            "align_content": null,
            "align_items": null,
            "align_self": null,
            "border": null,
            "bottom": null,
            "display": null,
            "flex": null,
            "flex_flow": null,
            "grid_area": null,
            "grid_auto_columns": null,
            "grid_auto_flow": null,
            "grid_auto_rows": null,
            "grid_column": null,
            "grid_gap": null,
            "grid_row": null,
            "grid_template_areas": null,
            "grid_template_columns": null,
            "grid_template_rows": null,
            "height": null,
            "justify_content": null,
            "justify_items": null,
            "left": null,
            "margin": null,
            "max_height": null,
            "max_width": null,
            "min_height": null,
            "min_width": null,
            "object_fit": null,
            "object_position": null,
            "order": null,
            "overflow": null,
            "overflow_x": null,
            "overflow_y": null,
            "padding": null,
            "right": null,
            "top": null,
            "visibility": null,
            "width": null
          }
        },
        "873d85bfc38443818eacd88cdd9bc7eb": {
          "model_module": "@jupyter-widgets/controls",
          "model_name": "ProgressStyleModel",
          "model_module_version": "1.5.0",
          "state": {
            "_model_module": "@jupyter-widgets/controls",
            "_model_module_version": "1.5.0",
            "_model_name": "ProgressStyleModel",
            "_view_count": null,
            "_view_module": "@jupyter-widgets/base",
            "_view_module_version": "1.2.0",
            "_view_name": "StyleView",
            "bar_color": null,
            "description_width": ""
          }
        },
        "6dcfc49c99d34fdc97ea64c05301f236": {
          "model_module": "@jupyter-widgets/base",
          "model_name": "LayoutModel",
          "model_module_version": "1.2.0",
          "state": {
            "_model_module": "@jupyter-widgets/base",
            "_model_module_version": "1.2.0",
            "_model_name": "LayoutModel",
            "_view_count": null,
            "_view_module": "@jupyter-widgets/base",
            "_view_module_version": "1.2.0",
            "_view_name": "LayoutView",
            "align_content": null,
            "align_items": null,
            "align_self": null,
            "border": null,
            "bottom": null,
            "display": null,
            "flex": null,
            "flex_flow": null,
            "grid_area": null,
            "grid_auto_columns": null,
            "grid_auto_flow": null,
            "grid_auto_rows": null,
            "grid_column": null,
            "grid_gap": null,
            "grid_row": null,
            "grid_template_areas": null,
            "grid_template_columns": null,
            "grid_template_rows": null,
            "height": null,
            "justify_content": null,
            "justify_items": null,
            "left": null,
            "margin": null,
            "max_height": null,
            "max_width": null,
            "min_height": null,
            "min_width": null,
            "object_fit": null,
            "object_position": null,
            "order": null,
            "overflow": null,
            "overflow_x": null,
            "overflow_y": null,
            "padding": null,
            "right": null,
            "top": null,
            "visibility": null,
            "width": null
          }
        },
        "31529235a5b340f58f1cea23affe91ff": {
          "model_module": "@jupyter-widgets/controls",
          "model_name": "DescriptionStyleModel",
          "model_module_version": "1.5.0",
          "state": {
            "_model_module": "@jupyter-widgets/controls",
            "_model_module_version": "1.5.0",
            "_model_name": "DescriptionStyleModel",
            "_view_count": null,
            "_view_module": "@jupyter-widgets/base",
            "_view_module_version": "1.2.0",
            "_view_name": "StyleView",
            "description_width": ""
          }
        },
        "ac0fa33735e241d78e628bebf6c0732a": {
          "model_module": "@jupyter-widgets/controls",
          "model_name": "HBoxModel",
          "model_module_version": "1.5.0",
          "state": {
            "_dom_classes": [],
            "_model_module": "@jupyter-widgets/controls",
            "_model_module_version": "1.5.0",
            "_model_name": "HBoxModel",
            "_view_count": null,
            "_view_module": "@jupyter-widgets/controls",
            "_view_module_version": "1.5.0",
            "_view_name": "HBoxView",
            "box_style": "",
            "children": [
              "IPY_MODEL_dd745c77eac9444fae472e62fe78c68d",
              "IPY_MODEL_e6ee1e5fe275430e8a3a9b0cf51b9580",
              "IPY_MODEL_7f4683e1797c4f32bb284f17831062a1"
            ],
            "layout": "IPY_MODEL_9dccb5071ce14c7aaa5c97548c56a011"
          }
        },
        "dd745c77eac9444fae472e62fe78c68d": {
          "model_module": "@jupyter-widgets/controls",
          "model_name": "HTMLModel",
          "model_module_version": "1.5.0",
          "state": {
            "_dom_classes": [],
            "_model_module": "@jupyter-widgets/controls",
            "_model_module_version": "1.5.0",
            "_model_name": "HTMLModel",
            "_view_count": null,
            "_view_module": "@jupyter-widgets/controls",
            "_view_module_version": "1.5.0",
            "_view_name": "HTMLView",
            "description": "",
            "description_tooltip": null,
            "layout": "IPY_MODEL_8dc23fcba4e144c9b3da8ac13138b3bf",
            "placeholder": "​",
            "style": "IPY_MODEL_464819c610944cbdb30ee04edf379bbd",
            "value": "tokenizer.json: 100%"
          }
        },
        "e6ee1e5fe275430e8a3a9b0cf51b9580": {
          "model_module": "@jupyter-widgets/controls",
          "model_name": "FloatProgressModel",
          "model_module_version": "1.5.0",
          "state": {
            "_dom_classes": [],
            "_model_module": "@jupyter-widgets/controls",
            "_model_module_version": "1.5.0",
            "_model_name": "FloatProgressModel",
            "_view_count": null,
            "_view_module": "@jupyter-widgets/controls",
            "_view_module_version": "1.5.0",
            "_view_name": "ProgressView",
            "bar_style": "success",
            "description": "",
            "description_tooltip": null,
            "layout": "IPY_MODEL_31fabd6d6270485ba98561bfc78617a3",
            "max": 466247,
            "min": 0,
            "orientation": "horizontal",
            "style": "IPY_MODEL_977030f034134c63b99f91b1408fff1e",
            "value": 466247
          }
        },
        "7f4683e1797c4f32bb284f17831062a1": {
          "model_module": "@jupyter-widgets/controls",
          "model_name": "HTMLModel",
          "model_module_version": "1.5.0",
          "state": {
            "_dom_classes": [],
            "_model_module": "@jupyter-widgets/controls",
            "_model_module_version": "1.5.0",
            "_model_name": "HTMLModel",
            "_view_count": null,
            "_view_module": "@jupyter-widgets/controls",
            "_view_module_version": "1.5.0",
            "_view_name": "HTMLView",
            "description": "",
            "description_tooltip": null,
            "layout": "IPY_MODEL_5e24e2ad0bdb484088ed5a07ae49d3d3",
            "placeholder": "​",
            "style": "IPY_MODEL_c672c03e4f2f4b77a7a312d442ef03c6",
            "value": " 466k/466k [00:00&lt;00:00, 2.74MB/s]"
          }
        },
        "9dccb5071ce14c7aaa5c97548c56a011": {
          "model_module": "@jupyter-widgets/base",
          "model_name": "LayoutModel",
          "model_module_version": "1.2.0",
          "state": {
            "_model_module": "@jupyter-widgets/base",
            "_model_module_version": "1.2.0",
            "_model_name": "LayoutModel",
            "_view_count": null,
            "_view_module": "@jupyter-widgets/base",
            "_view_module_version": "1.2.0",
            "_view_name": "LayoutView",
            "align_content": null,
            "align_items": null,
            "align_self": null,
            "border": null,
            "bottom": null,
            "display": null,
            "flex": null,
            "flex_flow": null,
            "grid_area": null,
            "grid_auto_columns": null,
            "grid_auto_flow": null,
            "grid_auto_rows": null,
            "grid_column": null,
            "grid_gap": null,
            "grid_row": null,
            "grid_template_areas": null,
            "grid_template_columns": null,
            "grid_template_rows": null,
            "height": null,
            "justify_content": null,
            "justify_items": null,
            "left": null,
            "margin": null,
            "max_height": null,
            "max_width": null,
            "min_height": null,
            "min_width": null,
            "object_fit": null,
            "object_position": null,
            "order": null,
            "overflow": null,
            "overflow_x": null,
            "overflow_y": null,
            "padding": null,
            "right": null,
            "top": null,
            "visibility": null,
            "width": null
          }
        },
        "8dc23fcba4e144c9b3da8ac13138b3bf": {
          "model_module": "@jupyter-widgets/base",
          "model_name": "LayoutModel",
          "model_module_version": "1.2.0",
          "state": {
            "_model_module": "@jupyter-widgets/base",
            "_model_module_version": "1.2.0",
            "_model_name": "LayoutModel",
            "_view_count": null,
            "_view_module": "@jupyter-widgets/base",
            "_view_module_version": "1.2.0",
            "_view_name": "LayoutView",
            "align_content": null,
            "align_items": null,
            "align_self": null,
            "border": null,
            "bottom": null,
            "display": null,
            "flex": null,
            "flex_flow": null,
            "grid_area": null,
            "grid_auto_columns": null,
            "grid_auto_flow": null,
            "grid_auto_rows": null,
            "grid_column": null,
            "grid_gap": null,
            "grid_row": null,
            "grid_template_areas": null,
            "grid_template_columns": null,
            "grid_template_rows": null,
            "height": null,
            "justify_content": null,
            "justify_items": null,
            "left": null,
            "margin": null,
            "max_height": null,
            "max_width": null,
            "min_height": null,
            "min_width": null,
            "object_fit": null,
            "object_position": null,
            "order": null,
            "overflow": null,
            "overflow_x": null,
            "overflow_y": null,
            "padding": null,
            "right": null,
            "top": null,
            "visibility": null,
            "width": null
          }
        },
        "464819c610944cbdb30ee04edf379bbd": {
          "model_module": "@jupyter-widgets/controls",
          "model_name": "DescriptionStyleModel",
          "model_module_version": "1.5.0",
          "state": {
            "_model_module": "@jupyter-widgets/controls",
            "_model_module_version": "1.5.0",
            "_model_name": "DescriptionStyleModel",
            "_view_count": null,
            "_view_module": "@jupyter-widgets/base",
            "_view_module_version": "1.2.0",
            "_view_name": "StyleView",
            "description_width": ""
          }
        },
        "31fabd6d6270485ba98561bfc78617a3": {
          "model_module": "@jupyter-widgets/base",
          "model_name": "LayoutModel",
          "model_module_version": "1.2.0",
          "state": {
            "_model_module": "@jupyter-widgets/base",
            "_model_module_version": "1.2.0",
            "_model_name": "LayoutModel",
            "_view_count": null,
            "_view_module": "@jupyter-widgets/base",
            "_view_module_version": "1.2.0",
            "_view_name": "LayoutView",
            "align_content": null,
            "align_items": null,
            "align_self": null,
            "border": null,
            "bottom": null,
            "display": null,
            "flex": null,
            "flex_flow": null,
            "grid_area": null,
            "grid_auto_columns": null,
            "grid_auto_flow": null,
            "grid_auto_rows": null,
            "grid_column": null,
            "grid_gap": null,
            "grid_row": null,
            "grid_template_areas": null,
            "grid_template_columns": null,
            "grid_template_rows": null,
            "height": null,
            "justify_content": null,
            "justify_items": null,
            "left": null,
            "margin": null,
            "max_height": null,
            "max_width": null,
            "min_height": null,
            "min_width": null,
            "object_fit": null,
            "object_position": null,
            "order": null,
            "overflow": null,
            "overflow_x": null,
            "overflow_y": null,
            "padding": null,
            "right": null,
            "top": null,
            "visibility": null,
            "width": null
          }
        },
        "977030f034134c63b99f91b1408fff1e": {
          "model_module": "@jupyter-widgets/controls",
          "model_name": "ProgressStyleModel",
          "model_module_version": "1.5.0",
          "state": {
            "_model_module": "@jupyter-widgets/controls",
            "_model_module_version": "1.5.0",
            "_model_name": "ProgressStyleModel",
            "_view_count": null,
            "_view_module": "@jupyter-widgets/base",
            "_view_module_version": "1.2.0",
            "_view_name": "StyleView",
            "bar_color": null,
            "description_width": ""
          }
        },
        "5e24e2ad0bdb484088ed5a07ae49d3d3": {
          "model_module": "@jupyter-widgets/base",
          "model_name": "LayoutModel",
          "model_module_version": "1.2.0",
          "state": {
            "_model_module": "@jupyter-widgets/base",
            "_model_module_version": "1.2.0",
            "_model_name": "LayoutModel",
            "_view_count": null,
            "_view_module": "@jupyter-widgets/base",
            "_view_module_version": "1.2.0",
            "_view_name": "LayoutView",
            "align_content": null,
            "align_items": null,
            "align_self": null,
            "border": null,
            "bottom": null,
            "display": null,
            "flex": null,
            "flex_flow": null,
            "grid_area": null,
            "grid_auto_columns": null,
            "grid_auto_flow": null,
            "grid_auto_rows": null,
            "grid_column": null,
            "grid_gap": null,
            "grid_row": null,
            "grid_template_areas": null,
            "grid_template_columns": null,
            "grid_template_rows": null,
            "height": null,
            "justify_content": null,
            "justify_items": null,
            "left": null,
            "margin": null,
            "max_height": null,
            "max_width": null,
            "min_height": null,
            "min_width": null,
            "object_fit": null,
            "object_position": null,
            "order": null,
            "overflow": null,
            "overflow_x": null,
            "overflow_y": null,
            "padding": null,
            "right": null,
            "top": null,
            "visibility": null,
            "width": null
          }
        },
        "c672c03e4f2f4b77a7a312d442ef03c6": {
          "model_module": "@jupyter-widgets/controls",
          "model_name": "DescriptionStyleModel",
          "model_module_version": "1.5.0",
          "state": {
            "_model_module": "@jupyter-widgets/controls",
            "_model_module_version": "1.5.0",
            "_model_name": "DescriptionStyleModel",
            "_view_count": null,
            "_view_module": "@jupyter-widgets/base",
            "_view_module_version": "1.2.0",
            "_view_name": "StyleView",
            "description_width": ""
          }
        },
        "ec0d0b9623624448bbe81d923aef714f": {
          "model_module": "@jupyter-widgets/controls",
          "model_name": "HBoxModel",
          "model_module_version": "1.5.0",
          "state": {
            "_dom_classes": [],
            "_model_module": "@jupyter-widgets/controls",
            "_model_module_version": "1.5.0",
            "_model_name": "HBoxModel",
            "_view_count": null,
            "_view_module": "@jupyter-widgets/controls",
            "_view_module_version": "1.5.0",
            "_view_name": "HBoxView",
            "box_style": "",
            "children": [
              "IPY_MODEL_3c5d5910b2084289b7c106d402ad25c5",
              "IPY_MODEL_4e7ea7e772e94b0f94d786dd746ef568",
              "IPY_MODEL_063ded5f72af4c7eaa35faf4f69b28b7"
            ],
            "layout": "IPY_MODEL_b6c1d214a15a4aec886f835273afc316"
          }
        },
        "3c5d5910b2084289b7c106d402ad25c5": {
          "model_module": "@jupyter-widgets/controls",
          "model_name": "HTMLModel",
          "model_module_version": "1.5.0",
          "state": {
            "_dom_classes": [],
            "_model_module": "@jupyter-widgets/controls",
            "_model_module_version": "1.5.0",
            "_model_name": "HTMLModel",
            "_view_count": null,
            "_view_module": "@jupyter-widgets/controls",
            "_view_module_version": "1.5.0",
            "_view_name": "HTMLView",
            "description": "",
            "description_tooltip": null,
            "layout": "IPY_MODEL_dd17199c030446789ad8cd9cefc868f5",
            "placeholder": "​",
            "style": "IPY_MODEL_6ce45c5483044d9099c9f9b7312a86cd",
            "value": "special_tokens_map.json: 100%"
          }
        },
        "4e7ea7e772e94b0f94d786dd746ef568": {
          "model_module": "@jupyter-widgets/controls",
          "model_name": "FloatProgressModel",
          "model_module_version": "1.5.0",
          "state": {
            "_dom_classes": [],
            "_model_module": "@jupyter-widgets/controls",
            "_model_module_version": "1.5.0",
            "_model_name": "FloatProgressModel",
            "_view_count": null,
            "_view_module": "@jupyter-widgets/controls",
            "_view_module_version": "1.5.0",
            "_view_name": "ProgressView",
            "bar_style": "success",
            "description": "",
            "description_tooltip": null,
            "layout": "IPY_MODEL_e5f3f01d72ab4449bc2e4a67ca040a52",
            "max": 112,
            "min": 0,
            "orientation": "horizontal",
            "style": "IPY_MODEL_855fb99f0630474b8030152191978d7d",
            "value": 112
          }
        },
        "063ded5f72af4c7eaa35faf4f69b28b7": {
          "model_module": "@jupyter-widgets/controls",
          "model_name": "HTMLModel",
          "model_module_version": "1.5.0",
          "state": {
            "_dom_classes": [],
            "_model_module": "@jupyter-widgets/controls",
            "_model_module_version": "1.5.0",
            "_model_name": "HTMLModel",
            "_view_count": null,
            "_view_module": "@jupyter-widgets/controls",
            "_view_module_version": "1.5.0",
            "_view_name": "HTMLView",
            "description": "",
            "description_tooltip": null,
            "layout": "IPY_MODEL_8b301a61fd3c4add9be46a4972178e09",
            "placeholder": "​",
            "style": "IPY_MODEL_4f5230134b2d4c9b86f00a4c9cf66261",
            "value": " 112/112 [00:00&lt;00:00, 4.50kB/s]"
          }
        },
        "b6c1d214a15a4aec886f835273afc316": {
          "model_module": "@jupyter-widgets/base",
          "model_name": "LayoutModel",
          "model_module_version": "1.2.0",
          "state": {
            "_model_module": "@jupyter-widgets/base",
            "_model_module_version": "1.2.0",
            "_model_name": "LayoutModel",
            "_view_count": null,
            "_view_module": "@jupyter-widgets/base",
            "_view_module_version": "1.2.0",
            "_view_name": "LayoutView",
            "align_content": null,
            "align_items": null,
            "align_self": null,
            "border": null,
            "bottom": null,
            "display": null,
            "flex": null,
            "flex_flow": null,
            "grid_area": null,
            "grid_auto_columns": null,
            "grid_auto_flow": null,
            "grid_auto_rows": null,
            "grid_column": null,
            "grid_gap": null,
            "grid_row": null,
            "grid_template_areas": null,
            "grid_template_columns": null,
            "grid_template_rows": null,
            "height": null,
            "justify_content": null,
            "justify_items": null,
            "left": null,
            "margin": null,
            "max_height": null,
            "max_width": null,
            "min_height": null,
            "min_width": null,
            "object_fit": null,
            "object_position": null,
            "order": null,
            "overflow": null,
            "overflow_x": null,
            "overflow_y": null,
            "padding": null,
            "right": null,
            "top": null,
            "visibility": null,
            "width": null
          }
        },
        "dd17199c030446789ad8cd9cefc868f5": {
          "model_module": "@jupyter-widgets/base",
          "model_name": "LayoutModel",
          "model_module_version": "1.2.0",
          "state": {
            "_model_module": "@jupyter-widgets/base",
            "_model_module_version": "1.2.0",
            "_model_name": "LayoutModel",
            "_view_count": null,
            "_view_module": "@jupyter-widgets/base",
            "_view_module_version": "1.2.0",
            "_view_name": "LayoutView",
            "align_content": null,
            "align_items": null,
            "align_self": null,
            "border": null,
            "bottom": null,
            "display": null,
            "flex": null,
            "flex_flow": null,
            "grid_area": null,
            "grid_auto_columns": null,
            "grid_auto_flow": null,
            "grid_auto_rows": null,
            "grid_column": null,
            "grid_gap": null,
            "grid_row": null,
            "grid_template_areas": null,
            "grid_template_columns": null,
            "grid_template_rows": null,
            "height": null,
            "justify_content": null,
            "justify_items": null,
            "left": null,
            "margin": null,
            "max_height": null,
            "max_width": null,
            "min_height": null,
            "min_width": null,
            "object_fit": null,
            "object_position": null,
            "order": null,
            "overflow": null,
            "overflow_x": null,
            "overflow_y": null,
            "padding": null,
            "right": null,
            "top": null,
            "visibility": null,
            "width": null
          }
        },
        "6ce45c5483044d9099c9f9b7312a86cd": {
          "model_module": "@jupyter-widgets/controls",
          "model_name": "DescriptionStyleModel",
          "model_module_version": "1.5.0",
          "state": {
            "_model_module": "@jupyter-widgets/controls",
            "_model_module_version": "1.5.0",
            "_model_name": "DescriptionStyleModel",
            "_view_count": null,
            "_view_module": "@jupyter-widgets/base",
            "_view_module_version": "1.2.0",
            "_view_name": "StyleView",
            "description_width": ""
          }
        },
        "e5f3f01d72ab4449bc2e4a67ca040a52": {
          "model_module": "@jupyter-widgets/base",
          "model_name": "LayoutModel",
          "model_module_version": "1.2.0",
          "state": {
            "_model_module": "@jupyter-widgets/base",
            "_model_module_version": "1.2.0",
            "_model_name": "LayoutModel",
            "_view_count": null,
            "_view_module": "@jupyter-widgets/base",
            "_view_module_version": "1.2.0",
            "_view_name": "LayoutView",
            "align_content": null,
            "align_items": null,
            "align_self": null,
            "border": null,
            "bottom": null,
            "display": null,
            "flex": null,
            "flex_flow": null,
            "grid_area": null,
            "grid_auto_columns": null,
            "grid_auto_flow": null,
            "grid_auto_rows": null,
            "grid_column": null,
            "grid_gap": null,
            "grid_row": null,
            "grid_template_areas": null,
            "grid_template_columns": null,
            "grid_template_rows": null,
            "height": null,
            "justify_content": null,
            "justify_items": null,
            "left": null,
            "margin": null,
            "max_height": null,
            "max_width": null,
            "min_height": null,
            "min_width": null,
            "object_fit": null,
            "object_position": null,
            "order": null,
            "overflow": null,
            "overflow_x": null,
            "overflow_y": null,
            "padding": null,
            "right": null,
            "top": null,
            "visibility": null,
            "width": null
          }
        },
        "855fb99f0630474b8030152191978d7d": {
          "model_module": "@jupyter-widgets/controls",
          "model_name": "ProgressStyleModel",
          "model_module_version": "1.5.0",
          "state": {
            "_model_module": "@jupyter-widgets/controls",
            "_model_module_version": "1.5.0",
            "_model_name": "ProgressStyleModel",
            "_view_count": null,
            "_view_module": "@jupyter-widgets/base",
            "_view_module_version": "1.2.0",
            "_view_name": "StyleView",
            "bar_color": null,
            "description_width": ""
          }
        },
        "8b301a61fd3c4add9be46a4972178e09": {
          "model_module": "@jupyter-widgets/base",
          "model_name": "LayoutModel",
          "model_module_version": "1.2.0",
          "state": {
            "_model_module": "@jupyter-widgets/base",
            "_model_module_version": "1.2.0",
            "_model_name": "LayoutModel",
            "_view_count": null,
            "_view_module": "@jupyter-widgets/base",
            "_view_module_version": "1.2.0",
            "_view_name": "LayoutView",
            "align_content": null,
            "align_items": null,
            "align_self": null,
            "border": null,
            "bottom": null,
            "display": null,
            "flex": null,
            "flex_flow": null,
            "grid_area": null,
            "grid_auto_columns": null,
            "grid_auto_flow": null,
            "grid_auto_rows": null,
            "grid_column": null,
            "grid_gap": null,
            "grid_row": null,
            "grid_template_areas": null,
            "grid_template_columns": null,
            "grid_template_rows": null,
            "height": null,
            "justify_content": null,
            "justify_items": null,
            "left": null,
            "margin": null,
            "max_height": null,
            "max_width": null,
            "min_height": null,
            "min_width": null,
            "object_fit": null,
            "object_position": null,
            "order": null,
            "overflow": null,
            "overflow_x": null,
            "overflow_y": null,
            "padding": null,
            "right": null,
            "top": null,
            "visibility": null,
            "width": null
          }
        },
        "4f5230134b2d4c9b86f00a4c9cf66261": {
          "model_module": "@jupyter-widgets/controls",
          "model_name": "DescriptionStyleModel",
          "model_module_version": "1.5.0",
          "state": {
            "_model_module": "@jupyter-widgets/controls",
            "_model_module_version": "1.5.0",
            "_model_name": "DescriptionStyleModel",
            "_view_count": null,
            "_view_module": "@jupyter-widgets/base",
            "_view_module_version": "1.2.0",
            "_view_name": "StyleView",
            "description_width": ""
          }
        },
        "9417c2f417f34503b86e517c861ca66d": {
          "model_module": "@jupyter-widgets/controls",
          "model_name": "HBoxModel",
          "model_module_version": "1.5.0",
          "state": {
            "_dom_classes": [],
            "_model_module": "@jupyter-widgets/controls",
            "_model_module_version": "1.5.0",
            "_model_name": "HBoxModel",
            "_view_count": null,
            "_view_module": "@jupyter-widgets/controls",
            "_view_module_version": "1.5.0",
            "_view_name": "HBoxView",
            "box_style": "",
            "children": [
              "IPY_MODEL_4f88c8ecd3514a1c8cf39cbb18e63da8",
              "IPY_MODEL_78f9f17b249c42f1aa5108bdadb5ae7c",
              "IPY_MODEL_ec42fd68c3c345629563fd823c0ce65f"
            ],
            "layout": "IPY_MODEL_446f0011af934843a8539bd92967b37f"
          }
        },
        "4f88c8ecd3514a1c8cf39cbb18e63da8": {
          "model_module": "@jupyter-widgets/controls",
          "model_name": "HTMLModel",
          "model_module_version": "1.5.0",
          "state": {
            "_dom_classes": [],
            "_model_module": "@jupyter-widgets/controls",
            "_model_module_version": "1.5.0",
            "_model_name": "HTMLModel",
            "_view_count": null,
            "_view_module": "@jupyter-widgets/controls",
            "_view_module_version": "1.5.0",
            "_view_name": "HTMLView",
            "description": "",
            "description_tooltip": null,
            "layout": "IPY_MODEL_cea7c0eb0d7d4f26a11466ed20901322",
            "placeholder": "​",
            "style": "IPY_MODEL_d93bf5c2439949ec853a447143a98b4d",
            "value": "config.json: 100%"
          }
        },
        "78f9f17b249c42f1aa5108bdadb5ae7c": {
          "model_module": "@jupyter-widgets/controls",
          "model_name": "FloatProgressModel",
          "model_module_version": "1.5.0",
          "state": {
            "_dom_classes": [],
            "_model_module": "@jupyter-widgets/controls",
            "_model_module_version": "1.5.0",
            "_model_name": "FloatProgressModel",
            "_view_count": null,
            "_view_module": "@jupyter-widgets/controls",
            "_view_module_version": "1.5.0",
            "_view_name": "ProgressView",
            "bar_style": "success",
            "description": "",
            "description_tooltip": null,
            "layout": "IPY_MODEL_faa056be306e4836bb009979b6df5d4c",
            "max": 190,
            "min": 0,
            "orientation": "horizontal",
            "style": "IPY_MODEL_020734a2040149ff83c83238858d519f",
            "value": 190
          }
        },
        "ec42fd68c3c345629563fd823c0ce65f": {
          "model_module": "@jupyter-widgets/controls",
          "model_name": "HTMLModel",
          "model_module_version": "1.5.0",
          "state": {
            "_dom_classes": [],
            "_model_module": "@jupyter-widgets/controls",
            "_model_module_version": "1.5.0",
            "_model_name": "HTMLModel",
            "_view_count": null,
            "_view_module": "@jupyter-widgets/controls",
            "_view_module_version": "1.5.0",
            "_view_name": "HTMLView",
            "description": "",
            "description_tooltip": null,
            "layout": "IPY_MODEL_25eda5236c6749fe80bd49bb610cda9b",
            "placeholder": "​",
            "style": "IPY_MODEL_7efb2df701cf4e1f87676337cfe15f7d",
            "value": " 190/190 [00:00&lt;00:00, 12.8kB/s]"
          }
        },
        "446f0011af934843a8539bd92967b37f": {
          "model_module": "@jupyter-widgets/base",
          "model_name": "LayoutModel",
          "model_module_version": "1.2.0",
          "state": {
            "_model_module": "@jupyter-widgets/base",
            "_model_module_version": "1.2.0",
            "_model_name": "LayoutModel",
            "_view_count": null,
            "_view_module": "@jupyter-widgets/base",
            "_view_module_version": "1.2.0",
            "_view_name": "LayoutView",
            "align_content": null,
            "align_items": null,
            "align_self": null,
            "border": null,
            "bottom": null,
            "display": null,
            "flex": null,
            "flex_flow": null,
            "grid_area": null,
            "grid_auto_columns": null,
            "grid_auto_flow": null,
            "grid_auto_rows": null,
            "grid_column": null,
            "grid_gap": null,
            "grid_row": null,
            "grid_template_areas": null,
            "grid_template_columns": null,
            "grid_template_rows": null,
            "height": null,
            "justify_content": null,
            "justify_items": null,
            "left": null,
            "margin": null,
            "max_height": null,
            "max_width": null,
            "min_height": null,
            "min_width": null,
            "object_fit": null,
            "object_position": null,
            "order": null,
            "overflow": null,
            "overflow_x": null,
            "overflow_y": null,
            "padding": null,
            "right": null,
            "top": null,
            "visibility": null,
            "width": null
          }
        },
        "cea7c0eb0d7d4f26a11466ed20901322": {
          "model_module": "@jupyter-widgets/base",
          "model_name": "LayoutModel",
          "model_module_version": "1.2.0",
          "state": {
            "_model_module": "@jupyter-widgets/base",
            "_model_module_version": "1.2.0",
            "_model_name": "LayoutModel",
            "_view_count": null,
            "_view_module": "@jupyter-widgets/base",
            "_view_module_version": "1.2.0",
            "_view_name": "LayoutView",
            "align_content": null,
            "align_items": null,
            "align_self": null,
            "border": null,
            "bottom": null,
            "display": null,
            "flex": null,
            "flex_flow": null,
            "grid_area": null,
            "grid_auto_columns": null,
            "grid_auto_flow": null,
            "grid_auto_rows": null,
            "grid_column": null,
            "grid_gap": null,
            "grid_row": null,
            "grid_template_areas": null,
            "grid_template_columns": null,
            "grid_template_rows": null,
            "height": null,
            "justify_content": null,
            "justify_items": null,
            "left": null,
            "margin": null,
            "max_height": null,
            "max_width": null,
            "min_height": null,
            "min_width": null,
            "object_fit": null,
            "object_position": null,
            "order": null,
            "overflow": null,
            "overflow_x": null,
            "overflow_y": null,
            "padding": null,
            "right": null,
            "top": null,
            "visibility": null,
            "width": null
          }
        },
        "d93bf5c2439949ec853a447143a98b4d": {
          "model_module": "@jupyter-widgets/controls",
          "model_name": "DescriptionStyleModel",
          "model_module_version": "1.5.0",
          "state": {
            "_model_module": "@jupyter-widgets/controls",
            "_model_module_version": "1.5.0",
            "_model_name": "DescriptionStyleModel",
            "_view_count": null,
            "_view_module": "@jupyter-widgets/base",
            "_view_module_version": "1.2.0",
            "_view_name": "StyleView",
            "description_width": ""
          }
        },
        "faa056be306e4836bb009979b6df5d4c": {
          "model_module": "@jupyter-widgets/base",
          "model_name": "LayoutModel",
          "model_module_version": "1.2.0",
          "state": {
            "_model_module": "@jupyter-widgets/base",
            "_model_module_version": "1.2.0",
            "_model_name": "LayoutModel",
            "_view_count": null,
            "_view_module": "@jupyter-widgets/base",
            "_view_module_version": "1.2.0",
            "_view_name": "LayoutView",
            "align_content": null,
            "align_items": null,
            "align_self": null,
            "border": null,
            "bottom": null,
            "display": null,
            "flex": null,
            "flex_flow": null,
            "grid_area": null,
            "grid_auto_columns": null,
            "grid_auto_flow": null,
            "grid_auto_rows": null,
            "grid_column": null,
            "grid_gap": null,
            "grid_row": null,
            "grid_template_areas": null,
            "grid_template_columns": null,
            "grid_template_rows": null,
            "height": null,
            "justify_content": null,
            "justify_items": null,
            "left": null,
            "margin": null,
            "max_height": null,
            "max_width": null,
            "min_height": null,
            "min_width": null,
            "object_fit": null,
            "object_position": null,
            "order": null,
            "overflow": null,
            "overflow_x": null,
            "overflow_y": null,
            "padding": null,
            "right": null,
            "top": null,
            "visibility": null,
            "width": null
          }
        },
        "020734a2040149ff83c83238858d519f": {
          "model_module": "@jupyter-widgets/controls",
          "model_name": "ProgressStyleModel",
          "model_module_version": "1.5.0",
          "state": {
            "_model_module": "@jupyter-widgets/controls",
            "_model_module_version": "1.5.0",
            "_model_name": "ProgressStyleModel",
            "_view_count": null,
            "_view_module": "@jupyter-widgets/base",
            "_view_module_version": "1.2.0",
            "_view_name": "StyleView",
            "bar_color": null,
            "description_width": ""
          }
        },
        "25eda5236c6749fe80bd49bb610cda9b": {
          "model_module": "@jupyter-widgets/base",
          "model_name": "LayoutModel",
          "model_module_version": "1.2.0",
          "state": {
            "_model_module": "@jupyter-widgets/base",
            "_model_module_version": "1.2.0",
            "_model_name": "LayoutModel",
            "_view_count": null,
            "_view_module": "@jupyter-widgets/base",
            "_view_module_version": "1.2.0",
            "_view_name": "LayoutView",
            "align_content": null,
            "align_items": null,
            "align_self": null,
            "border": null,
            "bottom": null,
            "display": null,
            "flex": null,
            "flex_flow": null,
            "grid_area": null,
            "grid_auto_columns": null,
            "grid_auto_flow": null,
            "grid_auto_rows": null,
            "grid_column": null,
            "grid_gap": null,
            "grid_row": null,
            "grid_template_areas": null,
            "grid_template_columns": null,
            "grid_template_rows": null,
            "height": null,
            "justify_content": null,
            "justify_items": null,
            "left": null,
            "margin": null,
            "max_height": null,
            "max_width": null,
            "min_height": null,
            "min_width": null,
            "object_fit": null,
            "object_position": null,
            "order": null,
            "overflow": null,
            "overflow_x": null,
            "overflow_y": null,
            "padding": null,
            "right": null,
            "top": null,
            "visibility": null,
            "width": null
          }
        },
        "7efb2df701cf4e1f87676337cfe15f7d": {
          "model_module": "@jupyter-widgets/controls",
          "model_name": "DescriptionStyleModel",
          "model_module_version": "1.5.0",
          "state": {
            "_model_module": "@jupyter-widgets/controls",
            "_model_module_version": "1.5.0",
            "_model_name": "DescriptionStyleModel",
            "_view_count": null,
            "_view_module": "@jupyter-widgets/base",
            "_view_module_version": "1.2.0",
            "_view_name": "StyleView",
            "description_width": ""
          }
        }
      }
    }
  },
  "cells": [
    {
      "cell_type": "markdown",
      "source": [
        "# Lights, Camera, ReAction Functions\n",
        "\n",
        "This notebook builds a full **sitcom script generation pipeline** powered by **ReAct-based agents** — a powerful framework that combines **reasoning** (thinking through a problem) with **acting** (taking structured steps).\n",
        "\n",
        "We start by **generating a sitcom concept** from creative keywords, then **outlining** the pilot episode scene-by-scene.  \n",
        "**Scene 1** is generated directly from the outline to establish the world and tone.  \n",
        "After that, each new scene is **scripted, reviewed, and improved** using specialized **ReAct agents** — a **Character Agent**, **Comedy Agent**, and **Environment Agent** — that simulate a real sitcom writers' room.\n",
        "\n",
        "---\n",
        "\n",
        " **Benefits of using ReAct agents**:\n",
        "\n",
        "- **More structured and transparent thinking:** Agents reason step-by-step before making edits.\n",
        "- **Dynamic adaptation:** Agents flexibly plan the next creative moves based on scene history.\n",
        "- **Better long-term coherence:** Scenes evolve logically, with tracked character growth, running jokes, emotional arcs, and worldbuilding.\n",
        "\n",
        "---\n",
        "\n",
        "After generation, each scene is **summarized and stored in a vector database**, enabling fast retrieval of scene metadata for future story planning.  \n",
        "By combining **structured agent workflows** and **retrieval-augmented memory**, we bring sitcom worlds to life — one coherent, character-driven scene at a time.\n"
      ],
      "metadata": {
        "id": "Si2nsv2ClE1h"
      }
    },
    {
      "cell_type": "code",
      "execution_count": null,
      "metadata": {
        "id": "LuoY6uscnEfB",
        "colab": {
          "base_uri": "https://localhost:8080/",
          "height": 1000
        },
        "outputId": "0aacdd47-99c6-4881-d24d-77a9a8a2d525"
      },
      "outputs": [
        {
          "output_type": "stream",
          "name": "stdout",
          "text": [
            "Collecting datasets\n",
            "  Downloading datasets-3.5.1-py3-none-any.whl.metadata (19 kB)\n",
            "Requirement already satisfied: filelock in /usr/local/lib/python3.11/dist-packages (from datasets) (3.18.0)\n",
            "Requirement already satisfied: numpy>=1.17 in /usr/local/lib/python3.11/dist-packages (from datasets) (2.0.2)\n",
            "Requirement already satisfied: pyarrow>=15.0.0 in /usr/local/lib/python3.11/dist-packages (from datasets) (18.1.0)\n",
            "Collecting dill<0.3.9,>=0.3.0 (from datasets)\n",
            "  Downloading dill-0.3.8-py3-none-any.whl.metadata (10 kB)\n",
            "Requirement already satisfied: pandas in /usr/local/lib/python3.11/dist-packages (from datasets) (2.2.2)\n",
            "Requirement already satisfied: requests>=2.32.2 in /usr/local/lib/python3.11/dist-packages (from datasets) (2.32.3)\n",
            "Requirement already satisfied: tqdm>=4.66.3 in /usr/local/lib/python3.11/dist-packages (from datasets) (4.67.1)\n",
            "Collecting xxhash (from datasets)\n",
            "  Downloading xxhash-3.5.0-cp311-cp311-manylinux_2_17_x86_64.manylinux2014_x86_64.whl.metadata (12 kB)\n",
            "Collecting multiprocess<0.70.17 (from datasets)\n",
            "  Downloading multiprocess-0.70.16-py311-none-any.whl.metadata (7.2 kB)\n",
            "Collecting fsspec<=2025.3.0,>=2023.1.0 (from fsspec[http]<=2025.3.0,>=2023.1.0->datasets)\n",
            "  Downloading fsspec-2025.3.0-py3-none-any.whl.metadata (11 kB)\n",
            "Requirement already satisfied: aiohttp in /usr/local/lib/python3.11/dist-packages (from datasets) (3.11.15)\n",
            "Requirement already satisfied: huggingface-hub>=0.24.0 in /usr/local/lib/python3.11/dist-packages (from datasets) (0.30.2)\n",
            "Requirement already satisfied: packaging in /usr/local/lib/python3.11/dist-packages (from datasets) (24.2)\n",
            "Requirement already satisfied: pyyaml>=5.1 in /usr/local/lib/python3.11/dist-packages (from datasets) (6.0.2)\n",
            "Requirement already satisfied: aiohappyeyeballs>=2.3.0 in /usr/local/lib/python3.11/dist-packages (from aiohttp->datasets) (2.6.1)\n",
            "Requirement already satisfied: aiosignal>=1.1.2 in /usr/local/lib/python3.11/dist-packages (from aiohttp->datasets) (1.3.2)\n",
            "Requirement already satisfied: attrs>=17.3.0 in /usr/local/lib/python3.11/dist-packages (from aiohttp->datasets) (25.3.0)\n",
            "Requirement already satisfied: frozenlist>=1.1.1 in /usr/local/lib/python3.11/dist-packages (from aiohttp->datasets) (1.6.0)\n",
            "Requirement already satisfied: multidict<7.0,>=4.5 in /usr/local/lib/python3.11/dist-packages (from aiohttp->datasets) (6.4.3)\n",
            "Requirement already satisfied: propcache>=0.2.0 in /usr/local/lib/python3.11/dist-packages (from aiohttp->datasets) (0.3.1)\n",
            "Requirement already satisfied: yarl<2.0,>=1.17.0 in /usr/local/lib/python3.11/dist-packages (from aiohttp->datasets) (1.20.0)\n",
            "Requirement already satisfied: typing-extensions>=3.7.4.3 in /usr/local/lib/python3.11/dist-packages (from huggingface-hub>=0.24.0->datasets) (4.13.2)\n",
            "Requirement already satisfied: charset-normalizer<4,>=2 in /usr/local/lib/python3.11/dist-packages (from requests>=2.32.2->datasets) (3.4.1)\n",
            "Requirement already satisfied: idna<4,>=2.5 in /usr/local/lib/python3.11/dist-packages (from requests>=2.32.2->datasets) (3.10)\n",
            "Requirement already satisfied: urllib3<3,>=1.21.1 in /usr/local/lib/python3.11/dist-packages (from requests>=2.32.2->datasets) (2.4.0)\n",
            "Requirement already satisfied: certifi>=2017.4.17 in /usr/local/lib/python3.11/dist-packages (from requests>=2.32.2->datasets) (2025.1.31)\n",
            "Requirement already satisfied: python-dateutil>=2.8.2 in /usr/local/lib/python3.11/dist-packages (from pandas->datasets) (2.9.0.post0)\n",
            "Requirement already satisfied: pytz>=2020.1 in /usr/local/lib/python3.11/dist-packages (from pandas->datasets) (2025.2)\n",
            "Requirement already satisfied: tzdata>=2022.7 in /usr/local/lib/python3.11/dist-packages (from pandas->datasets) (2025.2)\n",
            "Requirement already satisfied: six>=1.5 in /usr/local/lib/python3.11/dist-packages (from python-dateutil>=2.8.2->pandas->datasets) (1.17.0)\n",
            "Downloading datasets-3.5.1-py3-none-any.whl (491 kB)\n",
            "\u001b[2K   \u001b[90m━━━━━━━━━━━━━━━━━━━━━━━━━━━━━━━━━━━━━━━━\u001b[0m \u001b[32m491.4/491.4 kB\u001b[0m \u001b[31m18.2 MB/s\u001b[0m eta \u001b[36m0:00:00\u001b[0m\n",
            "\u001b[?25hDownloading dill-0.3.8-py3-none-any.whl (116 kB)\n",
            "\u001b[2K   \u001b[90m━━━━━━━━━━━━━━━━━━━━━━━━━━━━━━━━━━━━━━━━\u001b[0m \u001b[32m116.3/116.3 kB\u001b[0m \u001b[31m9.6 MB/s\u001b[0m eta \u001b[36m0:00:00\u001b[0m\n",
            "\u001b[?25hDownloading fsspec-2025.3.0-py3-none-any.whl (193 kB)\n",
            "\u001b[2K   \u001b[90m━━━━━━━━━━━━━━━━━━━━━━━━━━━━━━━━━━━━━━━━\u001b[0m \u001b[32m193.6/193.6 kB\u001b[0m \u001b[31m14.3 MB/s\u001b[0m eta \u001b[36m0:00:00\u001b[0m\n",
            "\u001b[?25hDownloading multiprocess-0.70.16-py311-none-any.whl (143 kB)\n",
            "\u001b[2K   \u001b[90m━━━━━━━━━━━━━━━━━━━━━━━━━━━━━━━━━━━━━━━━\u001b[0m \u001b[32m143.5/143.5 kB\u001b[0m \u001b[31m14.2 MB/s\u001b[0m eta \u001b[36m0:00:00\u001b[0m\n",
            "\u001b[?25hDownloading xxhash-3.5.0-cp311-cp311-manylinux_2_17_x86_64.manylinux2014_x86_64.whl (194 kB)\n",
            "\u001b[2K   \u001b[90m━━━━━━━━━━━━━━━━━━━━━━━━━━━━━━━━━━━━━━━━\u001b[0m \u001b[32m194.8/194.8 kB\u001b[0m \u001b[31m17.1 MB/s\u001b[0m eta \u001b[36m0:00:00\u001b[0m\n",
            "\u001b[?25hInstalling collected packages: xxhash, fsspec, dill, multiprocess, datasets\n",
            "  Attempting uninstall: fsspec\n",
            "    Found existing installation: fsspec 2025.3.2\n",
            "    Uninstalling fsspec-2025.3.2:\n",
            "      Successfully uninstalled fsspec-2025.3.2\n",
            "\u001b[31mERROR: pip's dependency resolver does not currently take into account all the packages that are installed. This behaviour is the source of the following dependency conflicts.\n",
            "gcsfs 2025.3.2 requires fsspec==2025.3.2, but you have fsspec 2025.3.0 which is incompatible.\n",
            "torch 2.6.0+cu124 requires nvidia-cublas-cu12==12.4.5.8; platform_system == \"Linux\" and platform_machine == \"x86_64\", but you have nvidia-cublas-cu12 12.5.3.2 which is incompatible.\n",
            "torch 2.6.0+cu124 requires nvidia-cuda-cupti-cu12==12.4.127; platform_system == \"Linux\" and platform_machine == \"x86_64\", but you have nvidia-cuda-cupti-cu12 12.5.82 which is incompatible.\n",
            "torch 2.6.0+cu124 requires nvidia-cuda-nvrtc-cu12==12.4.127; platform_system == \"Linux\" and platform_machine == \"x86_64\", but you have nvidia-cuda-nvrtc-cu12 12.5.82 which is incompatible.\n",
            "torch 2.6.0+cu124 requires nvidia-cuda-runtime-cu12==12.4.127; platform_system == \"Linux\" and platform_machine == \"x86_64\", but you have nvidia-cuda-runtime-cu12 12.5.82 which is incompatible.\n",
            "torch 2.6.0+cu124 requires nvidia-cudnn-cu12==9.1.0.70; platform_system == \"Linux\" and platform_machine == \"x86_64\", but you have nvidia-cudnn-cu12 9.3.0.75 which is incompatible.\n",
            "torch 2.6.0+cu124 requires nvidia-cufft-cu12==11.2.1.3; platform_system == \"Linux\" and platform_machine == \"x86_64\", but you have nvidia-cufft-cu12 11.2.3.61 which is incompatible.\n",
            "torch 2.6.0+cu124 requires nvidia-curand-cu12==10.3.5.147; platform_system == \"Linux\" and platform_machine == \"x86_64\", but you have nvidia-curand-cu12 10.3.6.82 which is incompatible.\n",
            "torch 2.6.0+cu124 requires nvidia-cusolver-cu12==11.6.1.9; platform_system == \"Linux\" and platform_machine == \"x86_64\", but you have nvidia-cusolver-cu12 11.6.3.83 which is incompatible.\n",
            "torch 2.6.0+cu124 requires nvidia-cusparse-cu12==12.3.1.170; platform_system == \"Linux\" and platform_machine == \"x86_64\", but you have nvidia-cusparse-cu12 12.5.1.3 which is incompatible.\n",
            "torch 2.6.0+cu124 requires nvidia-nvjitlink-cu12==12.4.127; platform_system == \"Linux\" and platform_machine == \"x86_64\", but you have nvidia-nvjitlink-cu12 12.5.82 which is incompatible.\u001b[0m\u001b[31m\n",
            "\u001b[0mSuccessfully installed datasets-3.5.1 dill-0.3.8 fsspec-2025.3.0 multiprocess-0.70.16 xxhash-3.5.0\n",
            "Requirement already satisfied: sentence-transformers in /usr/local/lib/python3.11/dist-packages (3.4.1)\n",
            "Collecting faiss-cpu\n",
            "  Downloading faiss_cpu-1.11.0-cp311-cp311-manylinux_2_28_x86_64.whl.metadata (4.8 kB)\n",
            "Requirement already satisfied: transformers<5.0.0,>=4.41.0 in /usr/local/lib/python3.11/dist-packages (from sentence-transformers) (4.51.3)\n",
            "Requirement already satisfied: tqdm in /usr/local/lib/python3.11/dist-packages (from sentence-transformers) (4.67.1)\n",
            "Requirement already satisfied: torch>=1.11.0 in /usr/local/lib/python3.11/dist-packages (from sentence-transformers) (2.6.0+cu124)\n",
            "Requirement already satisfied: scikit-learn in /usr/local/lib/python3.11/dist-packages (from sentence-transformers) (1.6.1)\n",
            "Requirement already satisfied: scipy in /usr/local/lib/python3.11/dist-packages (from sentence-transformers) (1.15.2)\n",
            "Requirement already satisfied: huggingface-hub>=0.20.0 in /usr/local/lib/python3.11/dist-packages (from sentence-transformers) (0.30.2)\n",
            "Requirement already satisfied: Pillow in /usr/local/lib/python3.11/dist-packages (from sentence-transformers) (11.2.1)\n",
            "Requirement already satisfied: numpy<3.0,>=1.25.0 in /usr/local/lib/python3.11/dist-packages (from faiss-cpu) (2.0.2)\n",
            "Requirement already satisfied: packaging in /usr/local/lib/python3.11/dist-packages (from faiss-cpu) (24.2)\n",
            "Requirement already satisfied: filelock in /usr/local/lib/python3.11/dist-packages (from huggingface-hub>=0.20.0->sentence-transformers) (3.18.0)\n",
            "Requirement already satisfied: fsspec>=2023.5.0 in /usr/local/lib/python3.11/dist-packages (from huggingface-hub>=0.20.0->sentence-transformers) (2025.3.0)\n",
            "Requirement already satisfied: pyyaml>=5.1 in /usr/local/lib/python3.11/dist-packages (from huggingface-hub>=0.20.0->sentence-transformers) (6.0.2)\n",
            "Requirement already satisfied: requests in /usr/local/lib/python3.11/dist-packages (from huggingface-hub>=0.20.0->sentence-transformers) (2.32.3)\n",
            "Requirement already satisfied: typing-extensions>=3.7.4.3 in /usr/local/lib/python3.11/dist-packages (from huggingface-hub>=0.20.0->sentence-transformers) (4.13.2)\n",
            "Requirement already satisfied: networkx in /usr/local/lib/python3.11/dist-packages (from torch>=1.11.0->sentence-transformers) (3.4.2)\n",
            "Requirement already satisfied: jinja2 in /usr/local/lib/python3.11/dist-packages (from torch>=1.11.0->sentence-transformers) (3.1.6)\n",
            "Collecting nvidia-cuda-nvrtc-cu12==12.4.127 (from torch>=1.11.0->sentence-transformers)\n",
            "  Downloading nvidia_cuda_nvrtc_cu12-12.4.127-py3-none-manylinux2014_x86_64.whl.metadata (1.5 kB)\n",
            "Collecting nvidia-cuda-runtime-cu12==12.4.127 (from torch>=1.11.0->sentence-transformers)\n",
            "  Downloading nvidia_cuda_runtime_cu12-12.4.127-py3-none-manylinux2014_x86_64.whl.metadata (1.5 kB)\n",
            "Collecting nvidia-cuda-cupti-cu12==12.4.127 (from torch>=1.11.0->sentence-transformers)\n",
            "  Downloading nvidia_cuda_cupti_cu12-12.4.127-py3-none-manylinux2014_x86_64.whl.metadata (1.6 kB)\n",
            "Collecting nvidia-cudnn-cu12==9.1.0.70 (from torch>=1.11.0->sentence-transformers)\n",
            "  Downloading nvidia_cudnn_cu12-9.1.0.70-py3-none-manylinux2014_x86_64.whl.metadata (1.6 kB)\n",
            "Collecting nvidia-cublas-cu12==12.4.5.8 (from torch>=1.11.0->sentence-transformers)\n",
            "  Downloading nvidia_cublas_cu12-12.4.5.8-py3-none-manylinux2014_x86_64.whl.metadata (1.5 kB)\n",
            "Collecting nvidia-cufft-cu12==11.2.1.3 (from torch>=1.11.0->sentence-transformers)\n",
            "  Downloading nvidia_cufft_cu12-11.2.1.3-py3-none-manylinux2014_x86_64.whl.metadata (1.5 kB)\n",
            "Collecting nvidia-curand-cu12==10.3.5.147 (from torch>=1.11.0->sentence-transformers)\n",
            "  Downloading nvidia_curand_cu12-10.3.5.147-py3-none-manylinux2014_x86_64.whl.metadata (1.5 kB)\n",
            "Collecting nvidia-cusolver-cu12==11.6.1.9 (from torch>=1.11.0->sentence-transformers)\n",
            "  Downloading nvidia_cusolver_cu12-11.6.1.9-py3-none-manylinux2014_x86_64.whl.metadata (1.6 kB)\n",
            "Collecting nvidia-cusparse-cu12==12.3.1.170 (from torch>=1.11.0->sentence-transformers)\n",
            "  Downloading nvidia_cusparse_cu12-12.3.1.170-py3-none-manylinux2014_x86_64.whl.metadata (1.6 kB)\n",
            "Requirement already satisfied: nvidia-cusparselt-cu12==0.6.2 in /usr/local/lib/python3.11/dist-packages (from torch>=1.11.0->sentence-transformers) (0.6.2)\n",
            "Requirement already satisfied: nvidia-nccl-cu12==2.21.5 in /usr/local/lib/python3.11/dist-packages (from torch>=1.11.0->sentence-transformers) (2.21.5)\n",
            "Requirement already satisfied: nvidia-nvtx-cu12==12.4.127 in /usr/local/lib/python3.11/dist-packages (from torch>=1.11.0->sentence-transformers) (12.4.127)\n",
            "Collecting nvidia-nvjitlink-cu12==12.4.127 (from torch>=1.11.0->sentence-transformers)\n",
            "  Downloading nvidia_nvjitlink_cu12-12.4.127-py3-none-manylinux2014_x86_64.whl.metadata (1.5 kB)\n",
            "Requirement already satisfied: triton==3.2.0 in /usr/local/lib/python3.11/dist-packages (from torch>=1.11.0->sentence-transformers) (3.2.0)\n",
            "Requirement already satisfied: sympy==1.13.1 in /usr/local/lib/python3.11/dist-packages (from torch>=1.11.0->sentence-transformers) (1.13.1)\n",
            "Requirement already satisfied: mpmath<1.4,>=1.1.0 in /usr/local/lib/python3.11/dist-packages (from sympy==1.13.1->torch>=1.11.0->sentence-transformers) (1.3.0)\n",
            "Requirement already satisfied: regex!=2019.12.17 in /usr/local/lib/python3.11/dist-packages (from transformers<5.0.0,>=4.41.0->sentence-transformers) (2024.11.6)\n",
            "Requirement already satisfied: tokenizers<0.22,>=0.21 in /usr/local/lib/python3.11/dist-packages (from transformers<5.0.0,>=4.41.0->sentence-transformers) (0.21.1)\n",
            "Requirement already satisfied: safetensors>=0.4.3 in /usr/local/lib/python3.11/dist-packages (from transformers<5.0.0,>=4.41.0->sentence-transformers) (0.5.3)\n",
            "Requirement already satisfied: joblib>=1.2.0 in /usr/local/lib/python3.11/dist-packages (from scikit-learn->sentence-transformers) (1.4.2)\n",
            "Requirement already satisfied: threadpoolctl>=3.1.0 in /usr/local/lib/python3.11/dist-packages (from scikit-learn->sentence-transformers) (3.6.0)\n",
            "Requirement already satisfied: MarkupSafe>=2.0 in /usr/local/lib/python3.11/dist-packages (from jinja2->torch>=1.11.0->sentence-transformers) (3.0.2)\n",
            "Requirement already satisfied: charset-normalizer<4,>=2 in /usr/local/lib/python3.11/dist-packages (from requests->huggingface-hub>=0.20.0->sentence-transformers) (3.4.1)\n",
            "Requirement already satisfied: idna<4,>=2.5 in /usr/local/lib/python3.11/dist-packages (from requests->huggingface-hub>=0.20.0->sentence-transformers) (3.10)\n",
            "Requirement already satisfied: urllib3<3,>=1.21.1 in /usr/local/lib/python3.11/dist-packages (from requests->huggingface-hub>=0.20.0->sentence-transformers) (2.4.0)\n",
            "Requirement already satisfied: certifi>=2017.4.17 in /usr/local/lib/python3.11/dist-packages (from requests->huggingface-hub>=0.20.0->sentence-transformers) (2025.1.31)\n",
            "Downloading faiss_cpu-1.11.0-cp311-cp311-manylinux_2_28_x86_64.whl (31.3 MB)\n",
            "\u001b[2K   \u001b[90m━━━━━━━━━━━━━━━━━━━━━━━━━━━━━━━━━━━━━━━━\u001b[0m \u001b[32m31.3/31.3 MB\u001b[0m \u001b[31m59.8 MB/s\u001b[0m eta \u001b[36m0:00:00\u001b[0m\n",
            "\u001b[?25hDownloading nvidia_cublas_cu12-12.4.5.8-py3-none-manylinux2014_x86_64.whl (363.4 MB)\n",
            "\u001b[2K   \u001b[90m━━━━━━━━━━━━━━━━━━━━━━━━━━━━━━━━━━━━━━━━\u001b[0m \u001b[32m363.4/363.4 MB\u001b[0m \u001b[31m1.3 MB/s\u001b[0m eta \u001b[36m0:00:00\u001b[0m\n",
            "\u001b[?25hDownloading nvidia_cuda_cupti_cu12-12.4.127-py3-none-manylinux2014_x86_64.whl (13.8 MB)\n",
            "\u001b[2K   \u001b[90m━━━━━━━━━━━━━━━━━━━━━━━━━━━━━━━━━━━━━━━━\u001b[0m \u001b[32m13.8/13.8 MB\u001b[0m \u001b[31m101.8 MB/s\u001b[0m eta \u001b[36m0:00:00\u001b[0m\n",
            "\u001b[?25hDownloading nvidia_cuda_nvrtc_cu12-12.4.127-py3-none-manylinux2014_x86_64.whl (24.6 MB)\n",
            "\u001b[2K   \u001b[90m━━━━━━━━━━━━━━━━━━━━━━━━━━━━━━━━━━━━━━━━\u001b[0m \u001b[32m24.6/24.6 MB\u001b[0m \u001b[31m84.8 MB/s\u001b[0m eta \u001b[36m0:00:00\u001b[0m\n",
            "\u001b[?25hDownloading nvidia_cuda_runtime_cu12-12.4.127-py3-none-manylinux2014_x86_64.whl (883 kB)\n",
            "\u001b[2K   \u001b[90m━━━━━━━━━━━━━━━━━━━━━━━━━━━━━━━━━━━━━━━━\u001b[0m \u001b[32m883.7/883.7 kB\u001b[0m \u001b[31m51.7 MB/s\u001b[0m eta \u001b[36m0:00:00\u001b[0m\n",
            "\u001b[?25hDownloading nvidia_cudnn_cu12-9.1.0.70-py3-none-manylinux2014_x86_64.whl (664.8 MB)\n",
            "\u001b[2K   \u001b[90m━━━━━━━━━━━━━━━━━━━━━━━━━━━━━━━━━━━━━━━━\u001b[0m \u001b[32m664.8/664.8 MB\u001b[0m \u001b[31m1.3 MB/s\u001b[0m eta \u001b[36m0:00:00\u001b[0m\n",
            "\u001b[?25hDownloading nvidia_cufft_cu12-11.2.1.3-py3-none-manylinux2014_x86_64.whl (211.5 MB)\n",
            "\u001b[2K   \u001b[90m━━━━━━━━━━━━━━━━━━━━━━━━━━━━━━━━━━━━━━━━\u001b[0m \u001b[32m211.5/211.5 MB\u001b[0m \u001b[31m6.1 MB/s\u001b[0m eta \u001b[36m0:00:00\u001b[0m\n",
            "\u001b[?25hDownloading nvidia_curand_cu12-10.3.5.147-py3-none-manylinux2014_x86_64.whl (56.3 MB)\n",
            "\u001b[2K   \u001b[90m━━━━━━━━━━━━━━━━━━━━━━━━━━━━━━━━━━━━━━━━\u001b[0m \u001b[32m56.3/56.3 MB\u001b[0m \u001b[31m12.8 MB/s\u001b[0m eta \u001b[36m0:00:00\u001b[0m\n",
            "\u001b[?25hDownloading nvidia_cusolver_cu12-11.6.1.9-py3-none-manylinux2014_x86_64.whl (127.9 MB)\n",
            "\u001b[2K   \u001b[90m━━━━━━━━━━━━━━━━━━━━━━━━━━━━━━━━━━━━━━━━\u001b[0m \u001b[32m127.9/127.9 MB\u001b[0m \u001b[31m7.4 MB/s\u001b[0m eta \u001b[36m0:00:00\u001b[0m\n",
            "\u001b[?25hDownloading nvidia_cusparse_cu12-12.3.1.170-py3-none-manylinux2014_x86_64.whl (207.5 MB)\n",
            "\u001b[2K   \u001b[90m━━━━━━━━━━━━━━━━━━━━━━━━━━━━━━━━━━━━━━━━\u001b[0m \u001b[32m207.5/207.5 MB\u001b[0m \u001b[31m6.9 MB/s\u001b[0m eta \u001b[36m0:00:00\u001b[0m\n",
            "\u001b[?25hDownloading nvidia_nvjitlink_cu12-12.4.127-py3-none-manylinux2014_x86_64.whl (21.1 MB)\n",
            "\u001b[2K   \u001b[90m━━━━━━━━━━━━━━━━━━━━━━━━━━━━━━━━━━━━━━━━\u001b[0m \u001b[32m21.1/21.1 MB\u001b[0m \u001b[31m84.6 MB/s\u001b[0m eta \u001b[36m0:00:00\u001b[0m\n",
            "\u001b[?25hInstalling collected packages: nvidia-nvjitlink-cu12, nvidia-curand-cu12, nvidia-cufft-cu12, nvidia-cuda-runtime-cu12, nvidia-cuda-nvrtc-cu12, nvidia-cuda-cupti-cu12, nvidia-cublas-cu12, faiss-cpu, nvidia-cusparse-cu12, nvidia-cudnn-cu12, nvidia-cusolver-cu12\n",
            "  Attempting uninstall: nvidia-nvjitlink-cu12\n",
            "    Found existing installation: nvidia-nvjitlink-cu12 12.5.82\n",
            "    Uninstalling nvidia-nvjitlink-cu12-12.5.82:\n",
            "      Successfully uninstalled nvidia-nvjitlink-cu12-12.5.82\n",
            "  Attempting uninstall: nvidia-curand-cu12\n",
            "    Found existing installation: nvidia-curand-cu12 10.3.6.82\n",
            "    Uninstalling nvidia-curand-cu12-10.3.6.82:\n",
            "      Successfully uninstalled nvidia-curand-cu12-10.3.6.82\n",
            "  Attempting uninstall: nvidia-cufft-cu12\n",
            "    Found existing installation: nvidia-cufft-cu12 11.2.3.61\n",
            "    Uninstalling nvidia-cufft-cu12-11.2.3.61:\n",
            "      Successfully uninstalled nvidia-cufft-cu12-11.2.3.61\n",
            "  Attempting uninstall: nvidia-cuda-runtime-cu12\n",
            "    Found existing installation: nvidia-cuda-runtime-cu12 12.5.82\n",
            "    Uninstalling nvidia-cuda-runtime-cu12-12.5.82:\n",
            "      Successfully uninstalled nvidia-cuda-runtime-cu12-12.5.82\n",
            "  Attempting uninstall: nvidia-cuda-nvrtc-cu12\n",
            "    Found existing installation: nvidia-cuda-nvrtc-cu12 12.5.82\n",
            "    Uninstalling nvidia-cuda-nvrtc-cu12-12.5.82:\n",
            "      Successfully uninstalled nvidia-cuda-nvrtc-cu12-12.5.82\n",
            "  Attempting uninstall: nvidia-cuda-cupti-cu12\n",
            "    Found existing installation: nvidia-cuda-cupti-cu12 12.5.82\n",
            "    Uninstalling nvidia-cuda-cupti-cu12-12.5.82:\n",
            "      Successfully uninstalled nvidia-cuda-cupti-cu12-12.5.82\n",
            "  Attempting uninstall: nvidia-cublas-cu12\n",
            "    Found existing installation: nvidia-cublas-cu12 12.5.3.2\n",
            "    Uninstalling nvidia-cublas-cu12-12.5.3.2:\n",
            "      Successfully uninstalled nvidia-cublas-cu12-12.5.3.2\n",
            "  Attempting uninstall: nvidia-cusparse-cu12\n",
            "    Found existing installation: nvidia-cusparse-cu12 12.5.1.3\n",
            "    Uninstalling nvidia-cusparse-cu12-12.5.1.3:\n",
            "      Successfully uninstalled nvidia-cusparse-cu12-12.5.1.3\n",
            "  Attempting uninstall: nvidia-cudnn-cu12\n",
            "    Found existing installation: nvidia-cudnn-cu12 9.3.0.75\n",
            "    Uninstalling nvidia-cudnn-cu12-9.3.0.75:\n",
            "      Successfully uninstalled nvidia-cudnn-cu12-9.3.0.75\n",
            "  Attempting uninstall: nvidia-cusolver-cu12\n",
            "    Found existing installation: nvidia-cusolver-cu12 11.6.3.83\n",
            "    Uninstalling nvidia-cusolver-cu12-11.6.3.83:\n",
            "      Successfully uninstalled nvidia-cusolver-cu12-11.6.3.83\n",
            "Successfully installed faiss-cpu-1.11.0 nvidia-cublas-cu12-12.4.5.8 nvidia-cuda-cupti-cu12-12.4.127 nvidia-cuda-nvrtc-cu12-12.4.127 nvidia-cuda-runtime-cu12-12.4.127 nvidia-cudnn-cu12-9.1.0.70 nvidia-cufft-cu12-11.2.1.3 nvidia-curand-cu12-10.3.5.147 nvidia-cusolver-cu12-11.6.1.9 nvidia-cusparse-cu12-12.3.1.170 nvidia-nvjitlink-cu12-12.4.127\n"
          ]
        },
        {
          "output_type": "display_data",
          "data": {
            "application/vnd.colab-display-data+json": {
              "pip_warning": {
                "packages": [
                  "nvidia"
                ]
              },
              "id": "86f819b01283491d8034a795a2805f9f"
            }
          },
          "metadata": {}
        }
      ],
      "source": [
        "!pip install datasets\n",
        "!pip install sentence-transformers faiss-cpu"
      ]
    },
    {
      "cell_type": "code",
      "source": [
        "from google.colab import drive\n",
        "drive.mount('/content/drive')"
      ],
      "metadata": {
        "colab": {
          "base_uri": "https://localhost:8080/"
        },
        "id": "j251JmmEogd5",
        "outputId": "7e287344-17bf-4973-c356-f4d730410f8c"
      },
      "execution_count": null,
      "outputs": [
        {
          "output_type": "stream",
          "name": "stdout",
          "text": [
            "Drive already mounted at /content/drive; to attempt to forcibly remount, call drive.mount(\"/content/drive\", force_remount=True).\n"
          ]
        }
      ]
    },
    {
      "cell_type": "code",
      "source": [
        "import sys\n",
        "sys.path.append(\"/content/drive/MyDrive/Spring 2025/Gen AI with LLM/Project/utils\") #Change to your path\n"
      ],
      "metadata": {
        "id": "nnNm07REpAhP"
      },
      "execution_count": null,
      "outputs": []
    },
    {
      "cell_type": "code",
      "source": [
        "!ls \"/content/drive/MyDrive/Spring 2025/Gen AI with LLM/Project/utils\""
      ],
      "metadata": {
        "colab": {
          "base_uri": "https://localhost:8080/"
        },
        "id": "jqZoviZnFBDS",
        "outputId": "1abfa241-2cbb-41c3-f678-196148630d22"
      },
      "execution_count": null,
      "outputs": [
        {
          "output_type": "stream",
          "name": "stdout",
          "text": [
            "character_agent.py     environment_helpers.py  script_review.py\n",
            "character_helpers.py   outline_generation.py   text_utils.py\n",
            "comedy_agent.py        __pycache__\t       vector_db_utils.py\n",
            "comedy_helpers.py      scene_planner_agent.py\n",
            "environment_agents.py  screen_writing.py\n"
          ]
        }
      ]
    },
    {
      "cell_type": "code",
      "source": [
        "from character_agent import CharacterAgent\n",
        "from comedy_agent import ComedicAgent\n",
        "from environment_agents import EnvironmentReActAgent\n",
        "from scene_planner_agent import ScenePlannerAgent\n",
        "\n",
        "from text_utils import (\n",
        "    display_markdown_output,\n",
        "    extract_scene,\n",
        "    extract_title,\n",
        ")\n",
        "\n",
        "from outline_generation import (\n",
        "    generate_sitcom_pitch,\n",
        "    generate_pilot_episode_outline\n",
        ")\n",
        "\n",
        "\n",
        "from script_review import (\n",
        "    validate_episode_outline,\n",
        ")\n",
        "\n",
        "from screen_writing import (\n",
        "    generate_scene_1_script,\n",
        "    generate_scene\n",
        ")\n",
        "\n",
        "\n",
        "from vector_db_utils import (\n",
        "    summarize_scene,\n",
        "    add_scene_to_vector_db\n",
        ")"
      ],
      "metadata": {
        "id": "aiTHmw_gpBmq"
      },
      "execution_count": null,
      "outputs": []
    },
    {
      "cell_type": "code",
      "source": [
        "import numpy as np\n",
        "import openai\n",
        "from openai import OpenAI\n",
        "from IPython.display import Markdown, display\n",
        "import re\n",
        "import time\n",
        "from datetime import timedelta"
      ],
      "metadata": {
        "id": "-mhv4xoTpBgr"
      },
      "execution_count": null,
      "outputs": []
    },
    {
      "cell_type": "code",
      "source": [
        "print(openai.__version__)"
      ],
      "metadata": {
        "colab": {
          "base_uri": "https://localhost:8080/"
        },
        "id": "v36UAh3ipr79",
        "outputId": "bd809047-bd47-4241-dcff-aa2260ea7395"
      },
      "execution_count": null,
      "outputs": [
        {
          "output_type": "stream",
          "name": "stdout",
          "text": [
            "1.76.0\n"
          ]
        }
      ]
    },
    {
      "cell_type": "code",
      "source": [
        "from google.colab import userdata\n",
        "import os\n",
        "\n",
        "api_key = userdata.get('OPENAI_API_KEY')\n",
        "client = OpenAI(api_key=api_key)"
      ],
      "metadata": {
        "id": "hbLOMS0bpr5r"
      },
      "execution_count": null,
      "outputs": []
    },
    {
      "cell_type": "markdown",
      "source": [
        "### Vector Database"
      ],
      "metadata": {
        "id": "sCtF2fBzquY1"
      }
    },
    {
      "cell_type": "code",
      "source": [
        "from sentence_transformers import SentenceTransformer\n",
        "import faiss\n",
        "import numpy as np\n",
        "\n",
        "# Load embedding model\n",
        "embedding_model = SentenceTransformer(\"all-MiniLM-L6-v2\")\n",
        "\n",
        "# Vector store initialization\n",
        "dimension = embedding_model.get_sentence_embedding_dimension()\n",
        "index = faiss.IndexFlatL2(dimension)\n",
        "\n",
        "# To track metadata\n",
        "vector_metadata = []\n"
      ],
      "metadata": {
        "id": "CxvSxk0Gpr3f",
        "colab": {
          "base_uri": "https://localhost:8080/",
          "height": 525,
          "referenced_widgets": [
            "ed5559d576fb458d94e70da328a76bb6",
            "d58aa36a866e46b6a2573801c1f364f4",
            "81dc8e3bc35741a9bdbc69e54663ea9a",
            "65ca8a25381c4b2481b33a46462e59e9",
            "4f77d427ab57436a98548d4299e0debd",
            "2ac66f0af0f540198ea82348a465cffc",
            "a49b0458116b4c3caf75a69fce731cde",
            "3d7907e4d76043868f48ea7e85808d83",
            "ab1c16cf92ea4217bca5f919208c929d",
            "42ff5dc0443e4ade9ce1b9da121056de",
            "9ff05d75f9524a1bb203d15a8d195a8f",
            "21e4bf2e072c4f89922e54b0f087c929",
            "4e2987c560ba4201933802504757508e",
            "8503935cb501413a88ad092eda7ddba5",
            "2cf596074c6b4174ace5f130034f0c02",
            "650af2ddbdb0477c9bf76fa7e62911da",
            "c8459cf6f4d044b3a651738a18507076",
            "11d9eca357c340e38d1098e978b074e2",
            "3d5427bc8bf94723b7ccb6ab650d05a4",
            "b3d8a931a91d48a782091456c646c27a",
            "e4c48a7fe66b42119247da3c934d5222",
            "37dd5eba323b41c4a44d6a107b5f3daf",
            "0fba1f39b9164c70a0711b2251898ba1",
            "629ff7dfcedc4824b004e862dab308f2",
            "2e250616be84415db064f5b8a78bd092",
            "0012e5f62dc94f06a422f4637f56a80b",
            "f9b1db254efc42d3972ab24c547e6dbb",
            "2629353fad03465d9dff5def9301c8f0",
            "3594f8a725e5422c8c0de066fd0cbf15",
            "cfff0d358c814242b88e03a53419d5b6",
            "7aa36061aaa24309aa3f170cf870c26b",
            "a8f8d1a439d5417e96f604d6bb503214",
            "f1a21d4ccaba41618b30b1c7af802fe7",
            "29f5e680ca6f4c76b4161c2922b5057a",
            "5775852a47e64b5b8a1865eb32409193",
            "abd1ad525e14434dafbeea2c2fc1a01e",
            "a905e3d2990d40f3aa88ef3ecbf62af1",
            "d99dbae85a194f49859d5f1d7ada5f40",
            "e1fc9c3201dd4057895f575f5f27f12b",
            "032e536c0afc46638d1128a42c5a8649",
            "0424f554c8764958a5cb1d0968741d06",
            "ce609c7d12c54c8cba2d97889872b778",
            "71595802375c40129cc054b248e963be",
            "c191bd9b099c4b1f819ddda0a6c0718d",
            "b894db6965de49d9a178267cd84e4080",
            "6a72121f7e19417a989753739a9ac221",
            "e340c531b8cc48bfab8a50e26f93732d",
            "cd25246d536c4e0faf629de6ec7dd0be",
            "86b0cd09f1d04780adfad930663be0ae",
            "e0f297f1748f42d6b4a0f99f8e3f653c",
            "cd7015f5fe6c45b5b10519776da62956",
            "fd5973032402483ca43a59ae207ab560",
            "a767e78c73a3407b9cd8905370254c3a",
            "eb4f6459deda461f8de258e2b94b8550",
            "ca27dfd897c04527b5447843d2821e6f",
            "6d3384125ca74a82bfbcfb97c71ef888",
            "41f4478ed45f4047961c9104aa30b538",
            "9a65d195b20f48cbac8ba0258f136f94",
            "7a01afb880b14f8184b791e87f28206e",
            "f6853bbb425441029e21f77e090f6c3f",
            "b4d5bf9910144da6a945484175b44882",
            "1db6d7423b1341ac91134a8b04db8c98",
            "e4eed2be7b38445b8dfbb63a0e8282e8",
            "3a041f64cce8478c9c948fce629ac37d",
            "95bc8ed46e304695969563e17e7e3c56",
            "4839a44807084f069fafc712ee91e331",
            "1b10c047e9d048d5b3e98654d878d180",
            "3751c9686f9c4a94ad495e8f8c2806f5",
            "b93ff97c93e44913ac8ee90a8b76b1b4",
            "437fadc6ab4345ae9fd31910f96df937",
            "b5eb762b9edf4fd38920b44b66b84cb4",
            "c69184185def48f3a416f2e90e229b76",
            "d6977707500840f6bf691f37aa437361",
            "8ee43894748a48a89a7f3ed8cc75608d",
            "d0c16bddfc614efdaeab372a604cb16c",
            "bdf55c65b9c746b48b489cda2eed0289",
            "8e713a42a0834dfcb5897629096fbfa3",
            "45c825f1fbdf4d7eb1457330ab776755",
            "e4b1a91a95cb4baaaa34cfbd5b6427bb",
            "c5b4ccb906654b3785ab060339218d55",
            "9ac0164468034eefb56737314aa62a40",
            "55e0abf49a9b4b63944773d4b206f30e",
            "4d988dc696184de6b992a4a462d46811",
            "628c8828d36445d09ad75a169d0ca8c4",
            "11dea5840a204c9c801c96f93ef224aa",
            "873d85bfc38443818eacd88cdd9bc7eb",
            "6dcfc49c99d34fdc97ea64c05301f236",
            "31529235a5b340f58f1cea23affe91ff",
            "ac0fa33735e241d78e628bebf6c0732a",
            "dd745c77eac9444fae472e62fe78c68d",
            "e6ee1e5fe275430e8a3a9b0cf51b9580",
            "7f4683e1797c4f32bb284f17831062a1",
            "9dccb5071ce14c7aaa5c97548c56a011",
            "8dc23fcba4e144c9b3da8ac13138b3bf",
            "464819c610944cbdb30ee04edf379bbd",
            "31fabd6d6270485ba98561bfc78617a3",
            "977030f034134c63b99f91b1408fff1e",
            "5e24e2ad0bdb484088ed5a07ae49d3d3",
            "c672c03e4f2f4b77a7a312d442ef03c6",
            "ec0d0b9623624448bbe81d923aef714f",
            "3c5d5910b2084289b7c106d402ad25c5",
            "4e7ea7e772e94b0f94d786dd746ef568",
            "063ded5f72af4c7eaa35faf4f69b28b7",
            "b6c1d214a15a4aec886f835273afc316",
            "dd17199c030446789ad8cd9cefc868f5",
            "6ce45c5483044d9099c9f9b7312a86cd",
            "e5f3f01d72ab4449bc2e4a67ca040a52",
            "855fb99f0630474b8030152191978d7d",
            "8b301a61fd3c4add9be46a4972178e09",
            "4f5230134b2d4c9b86f00a4c9cf66261",
            "9417c2f417f34503b86e517c861ca66d",
            "4f88c8ecd3514a1c8cf39cbb18e63da8",
            "78f9f17b249c42f1aa5108bdadb5ae7c",
            "ec42fd68c3c345629563fd823c0ce65f",
            "446f0011af934843a8539bd92967b37f",
            "cea7c0eb0d7d4f26a11466ed20901322",
            "d93bf5c2439949ec853a447143a98b4d",
            "faa056be306e4836bb009979b6df5d4c",
            "020734a2040149ff83c83238858d519f",
            "25eda5236c6749fe80bd49bb610cda9b",
            "7efb2df701cf4e1f87676337cfe15f7d"
          ]
        },
        "outputId": "e913a55d-2807-4d76-8978-c01a61c2ccc4"
      },
      "execution_count": null,
      "outputs": [
        {
          "output_type": "stream",
          "name": "stderr",
          "text": [
            "/usr/local/lib/python3.11/dist-packages/huggingface_hub/utils/_auth.py:94: UserWarning: \n",
            "The secret `HF_TOKEN` does not exist in your Colab secrets.\n",
            "To authenticate with the Hugging Face Hub, create a token in your settings tab (https://huggingface.co/settings/tokens), set it as secret in your Google Colab and restart your session.\n",
            "You will be able to reuse this secret in all of your notebooks.\n",
            "Please note that authentication is recommended but still optional to access public models or datasets.\n",
            "  warnings.warn(\n"
          ]
        },
        {
          "output_type": "display_data",
          "data": {
            "text/plain": [
              "modules.json:   0%|          | 0.00/349 [00:00<?, ?B/s]"
            ],
            "application/vnd.jupyter.widget-view+json": {
              "version_major": 2,
              "version_minor": 0,
              "model_id": "ed5559d576fb458d94e70da328a76bb6"
            }
          },
          "metadata": {}
        },
        {
          "output_type": "display_data",
          "data": {
            "text/plain": [
              "config_sentence_transformers.json:   0%|          | 0.00/116 [00:00<?, ?B/s]"
            ],
            "application/vnd.jupyter.widget-view+json": {
              "version_major": 2,
              "version_minor": 0,
              "model_id": "21e4bf2e072c4f89922e54b0f087c929"
            }
          },
          "metadata": {}
        },
        {
          "output_type": "display_data",
          "data": {
            "text/plain": [
              "README.md:   0%|          | 0.00/10.5k [00:00<?, ?B/s]"
            ],
            "application/vnd.jupyter.widget-view+json": {
              "version_major": 2,
              "version_minor": 0,
              "model_id": "0fba1f39b9164c70a0711b2251898ba1"
            }
          },
          "metadata": {}
        },
        {
          "output_type": "display_data",
          "data": {
            "text/plain": [
              "sentence_bert_config.json:   0%|          | 0.00/53.0 [00:00<?, ?B/s]"
            ],
            "application/vnd.jupyter.widget-view+json": {
              "version_major": 2,
              "version_minor": 0,
              "model_id": "29f5e680ca6f4c76b4161c2922b5057a"
            }
          },
          "metadata": {}
        },
        {
          "output_type": "display_data",
          "data": {
            "text/plain": [
              "config.json:   0%|          | 0.00/612 [00:00<?, ?B/s]"
            ],
            "application/vnd.jupyter.widget-view+json": {
              "version_major": 2,
              "version_minor": 0,
              "model_id": "b894db6965de49d9a178267cd84e4080"
            }
          },
          "metadata": {}
        },
        {
          "output_type": "stream",
          "name": "stderr",
          "text": [
            "Xet Storage is enabled for this repo, but the 'hf_xet' package is not installed. Falling back to regular HTTP download. For better performance, install the package with: `pip install huggingface_hub[hf_xet]` or `pip install hf_xet`\n",
            "WARNING:huggingface_hub.file_download:Xet Storage is enabled for this repo, but the 'hf_xet' package is not installed. Falling back to regular HTTP download. For better performance, install the package with: `pip install huggingface_hub[hf_xet]` or `pip install hf_xet`\n"
          ]
        },
        {
          "output_type": "display_data",
          "data": {
            "text/plain": [
              "model.safetensors:   0%|          | 0.00/90.9M [00:00<?, ?B/s]"
            ],
            "application/vnd.jupyter.widget-view+json": {
              "version_major": 2,
              "version_minor": 0,
              "model_id": "6d3384125ca74a82bfbcfb97c71ef888"
            }
          },
          "metadata": {}
        },
        {
          "output_type": "display_data",
          "data": {
            "text/plain": [
              "tokenizer_config.json:   0%|          | 0.00/350 [00:00<?, ?B/s]"
            ],
            "application/vnd.jupyter.widget-view+json": {
              "version_major": 2,
              "version_minor": 0,
              "model_id": "1b10c047e9d048d5b3e98654d878d180"
            }
          },
          "metadata": {}
        },
        {
          "output_type": "display_data",
          "data": {
            "text/plain": [
              "vocab.txt:   0%|          | 0.00/232k [00:00<?, ?B/s]"
            ],
            "application/vnd.jupyter.widget-view+json": {
              "version_major": 2,
              "version_minor": 0,
              "model_id": "45c825f1fbdf4d7eb1457330ab776755"
            }
          },
          "metadata": {}
        },
        {
          "output_type": "display_data",
          "data": {
            "text/plain": [
              "tokenizer.json:   0%|          | 0.00/466k [00:00<?, ?B/s]"
            ],
            "application/vnd.jupyter.widget-view+json": {
              "version_major": 2,
              "version_minor": 0,
              "model_id": "ac0fa33735e241d78e628bebf6c0732a"
            }
          },
          "metadata": {}
        },
        {
          "output_type": "display_data",
          "data": {
            "text/plain": [
              "special_tokens_map.json:   0%|          | 0.00/112 [00:00<?, ?B/s]"
            ],
            "application/vnd.jupyter.widget-view+json": {
              "version_major": 2,
              "version_minor": 0,
              "model_id": "ec0d0b9623624448bbe81d923aef714f"
            }
          },
          "metadata": {}
        },
        {
          "output_type": "display_data",
          "data": {
            "text/plain": [
              "config.json:   0%|          | 0.00/190 [00:00<?, ?B/s]"
            ],
            "application/vnd.jupyter.widget-view+json": {
              "version_major": 2,
              "version_minor": 0,
              "model_id": "9417c2f417f34503b86e517c861ca66d"
            }
          },
          "metadata": {}
        }
      ]
    },
    {
      "cell_type": "markdown",
      "source": [
        "### Generating Pitch\n",
        "\n",
        "- Generates pitch with key words"
      ],
      "metadata": {
        "id": "h4C0y2mRq9Hy"
      }
    },
    {
      "cell_type": "code",
      "source": [
        "keywords = [\n",
        "    \"urban locksmith shop\",\n",
        "    \"ex-con protagonist\",\n",
        "    \"estranged daughter\",\n",
        "    \"quirky parole officer\",\n",
        "    \"second chances\",\n",
        "    \"buddy comedy\",\n",
        "    \"New York City\",\n",
        "    \"heartfelt absurdism\",\n",
        "    \"odd couple dynamic\"\n",
        "]"
      ],
      "metadata": {
        "id": "axDx39kupBZO"
      },
      "execution_count": null,
      "outputs": []
    },
    {
      "cell_type": "markdown",
      "source": [
        "**TODO**\n",
        "\n",
        "Make sure the title is quotation marks"
      ],
      "metadata": {
        "id": "uWN3wwatZtkU"
      }
    },
    {
      "cell_type": "code",
      "source": [
        "start_time = time.time()\n",
        "\n",
        "# Generating Sitcom Pitch\n",
        "sitcom_pitch = generate_sitcom_pitch(client, keywords)\n",
        "display(Markdown(f\"### Sitcom Concept:\\n\\n{sitcom_pitch}\"))\n",
        "\n",
        "end_time = time.time()\n",
        "elapsed_time = end_time - start_time\n",
        "\n",
        "print(\" \")\n",
        "print(f\"Generation time: {elapsed_time:.2f} seconds\")\n"
      ],
      "metadata": {
        "colab": {
          "base_uri": "https://localhost:8080/",
          "height": 207
        },
        "id": "qSowDzaVq5yt",
        "outputId": "440676a3-3469-4034-e83e-1d345722dbee"
      },
      "execution_count": 1,
      "outputs": [
        {
          "output_type": "error",
          "ename": "NameError",
          "evalue": "name 'time' is not defined",
          "traceback": [
            "\u001b[0;31m---------------------------------------------------------------------------\u001b[0m",
            "\u001b[0;31mNameError\u001b[0m                                 Traceback (most recent call last)",
            "\u001b[0;32m<ipython-input-1-f46b9180d8a9>\u001b[0m in \u001b[0;36m<cell line: 0>\u001b[0;34m()\u001b[0m\n\u001b[0;32m----> 1\u001b[0;31m \u001b[0mstart_time\u001b[0m \u001b[0;34m=\u001b[0m \u001b[0mtime\u001b[0m\u001b[0;34m.\u001b[0m\u001b[0mtime\u001b[0m\u001b[0;34m(\u001b[0m\u001b[0;34m)\u001b[0m\u001b[0;34m\u001b[0m\u001b[0;34m\u001b[0m\u001b[0m\n\u001b[0m\u001b[1;32m      2\u001b[0m \u001b[0;34m\u001b[0m\u001b[0m\n\u001b[1;32m      3\u001b[0m \u001b[0;31m# Generating Sitcom Pitch\u001b[0m\u001b[0;34m\u001b[0m\u001b[0;34m\u001b[0m\u001b[0m\n\u001b[1;32m      4\u001b[0m \u001b[0msitcom_pitch\u001b[0m \u001b[0;34m=\u001b[0m \u001b[0mgenerate_sitcom_pitch\u001b[0m\u001b[0;34m(\u001b[0m\u001b[0mclient\u001b[0m\u001b[0;34m,\u001b[0m \u001b[0mkeywords\u001b[0m\u001b[0;34m)\u001b[0m\u001b[0;34m\u001b[0m\u001b[0;34m\u001b[0m\u001b[0m\n\u001b[1;32m      5\u001b[0m \u001b[0mdisplay\u001b[0m\u001b[0;34m(\u001b[0m\u001b[0mMarkdown\u001b[0m\u001b[0;34m(\u001b[0m\u001b[0;34mf\"### Sitcom Concept:\\n\\n{sitcom_pitch}\"\u001b[0m\u001b[0;34m)\u001b[0m\u001b[0;34m)\u001b[0m\u001b[0;34m\u001b[0m\u001b[0;34m\u001b[0m\u001b[0m\n",
            "\u001b[0;31mNameError\u001b[0m: name 'time' is not defined"
          ]
        }
      ]
    },
    {
      "cell_type": "markdown",
      "source": [
        "### Episode Outline"
      ],
      "metadata": {
        "id": "BtozqXT4rmna"
      }
    },
    {
      "cell_type": "code",
      "source": [
        "outline = generate_pilot_episode_outline(client, sitcom_pitch)\n",
        "display(Markdown(f\"### Sitcom Concept:\\n\\n{outline}\"))"
      ],
      "metadata": {
        "colab": {
          "base_uri": "https://localhost:8080/",
          "height": 575
        },
        "id": "SkdjzNUuq5uw",
        "outputId": "e9c11499-3791-4834-ca30-41ff2f57cfd3"
      },
      "execution_count": null,
      "outputs": [
        {
          "output_type": "display_data",
          "data": {
            "text/plain": [
              "<IPython.core.display.Markdown object>"
            ],
            "text/markdown": "### Sitcom Concept:\n\nEpisode Concept: In the pilot episode, Charlie is released from prison and tries to reconnect with his estranged daughter, Lily, while also dealing with the comedic challenges of his parole officer, Gus, and the demands of setting up his locksmith shop.\n\nScene 1: \"The Release\" Charlie is discharged from prison, with a humorous mix-up involving his belongings.\n\nScene 2: \"First Taste of Freedom\" Charlie hilariously navigates the chaos of New York City, struggling with technology, modern fashion, and overpriced coffee.\n\nScene 3: \"The Introduction\" Charlie meets Officer Gus, his parole officer, in a comic sequence of misunderstandings and overly-enthusiastic advice.\n\nScene 4: \"The Locksmith Shop\" Charlie reopens his old locksmith shop, leading to comedic situations with rusty tools, forgotten skills, and oddball customers.\n\nScene 5: \"The Surprise Visit\" Gus unexpectedly drops by the shop, creating a funny scene as Charlie tries to hide the chaos of his struggling business.\n\nScene 6: \"Letter to Lily\" Charlie pens a heartfelt letter to his daughter Lily, trying to reconnect with her.\n\nScene 7: \"Night in the Shop\" Charlie has a strange encounter with a nocturnal customer, resulting in a hilarious misunderstanding.\n\nScene 8: \"Return to Sender\" Charlie's letter to Lily comes back as 'Return to Sender,' leading to a poignant moment of disappointment.\n\nScene 9: \"Gus's Help\" Gus offers to help Charlie find Lily, setting up a funny sequence as they search using outdated information.\n\nScene 10: \"Awkward Stakeout\" Charlie and Gus stake out Lily's last known address, leading to hilariously awkward interactions with the neighbors.\n\nScene 11: \"The Wrong Lily\" They mistakenly follow the wrong Lily, culminating in a comical blunder.\n\nScene 12: \"Heart to Heart\" Gus consoles a downbeat Charlie in a heartfelt conversation about second chances and fatherhood.\n\nScene 13: \"Second Attempt\" Inspired, Charlie writes another letter to Lily, this time dropping it off personally.\n\nScene 14: \"Business Boom\" Charlie's shop begins to pick up business, leading to a funny montage of him dealing with eccentric city dwellers.\n\nScene 15: \"Gus's Inspection\" Gus conducts a formal inspection of the shop, leading to a comedic sequence as Charlie tries to pass it off as a well-run establishment.\n\nScene 16: \"Lily's Response\" Charlie finds a response letter from Lily at his doorstep, leading to a touching moment.\n\nScene 17: \"Mysterious Job\" Charlie gets a locksmith call for a mysterious job, building suspense with humorous undertones.\n\nScene 18: \"Unexpected Reunion\" The client turns out to be Lily, leading to an emotional reunion layered with humor.\n\nScene 19: \"Father-Daughter Reconnect\" Charlie and Lily catch up in a touching conversation, interspersed with light-hearted banter.\n\nScene 20: \"Closing Time\" The episode closes with Charlie and Gus sharing a friendly drink, reflecting on the day's events with a blend of humor and sentimentality."
          },
          "metadata": {}
        }
      ]
    },
    {
      "cell_type": "code",
      "source": [
        "validation = validate_episode_outline(client, sitcom_pitch, outline)\n",
        "display(Markdown(f\"### Coherence Evaluation:\\n\\n{validation}\"))"
      ],
      "metadata": {
        "colab": {
          "base_uri": "https://localhost:8080/",
          "height": 263
        },
        "id": "cSFjmE7cq5sN",
        "outputId": "3e526d19-2bd3-4664-fd22-0e04186a6435"
      },
      "execution_count": null,
      "outputs": [
        {
          "output_type": "display_data",
          "data": {
            "text/plain": [
              "<IPython.core.display.Markdown object>"
            ],
            "text/markdown": "### Coherence Evaluation:\n\nCoherence: Yes\n\nReasoning:\n- The outline is consistent with the premise of the sitcom. It follows the story of Charlie, an ex-con trying to reconnect with his estranged daughter while dealing with his parole officer and setting up his locksmith shop.\n- The tone of the show is a balance of absurd comedy and heartfelt moments, which is reflected in the outline. Scenes like Charlie struggling with modern technology and the mix-up with his belongings provide the comedic elements, while his attempts to reconnect with his daughter and his conversations with Gus provide the emotional depth.\n- The progression of the plot is logical. The episode starts with Charlie's release from prison and ends with him successfully reconnecting with his daughter and establishing his business, which aligns with the overall narrative arc of the sitcom.\n- The character development is also coherent. Charlie grows from a confused ex-con to a successful business owner and a father trying to reconnect with his daughter. Gus's character, as an overly-enthusiastic and nurturing parole officer, is also well established through his interactions with Charlie."
          },
          "metadata": {}
        }
      ]
    },
    {
      "cell_type": "markdown",
      "source": [
        "## Scene 1 Generation"
      ],
      "metadata": {
        "id": "8aUL4_lrmVI9"
      }
    },
    {
      "cell_type": "code",
      "source": [
        "scene_1_desc = extract_scene(outline, 1)\n",
        "print(scene_1_desc)"
      ],
      "metadata": {
        "colab": {
          "base_uri": "https://localhost:8080/"
        },
        "id": "-5JuA8trsdJs",
        "outputId": "3dc1f9e4-5906-4139-fb18-d70e7ec6fc13"
      },
      "execution_count": null,
      "outputs": [
        {
          "output_type": "stream",
          "name": "stdout",
          "text": [
            "Scene 1: \"The Release\" Charlie is discharged from prison, with a humorous mix-up involving his belongings.\n"
          ]
        }
      ]
    },
    {
      "cell_type": "code",
      "source": [
        "# Extracting title\n",
        "sitcom_title = extract_title(sitcom_pitch)\n",
        "print(sitcom_title)"
      ],
      "metadata": {
        "colab": {
          "base_uri": "https://localhost:8080/"
        },
        "id": "qoduPi8Eq5oj",
        "outputId": "819a081a-7976-4313-f9bc-5ab351c0ba84"
      },
      "execution_count": null,
      "outputs": [
        {
          "output_type": "stream",
          "name": "stdout",
          "text": [
            "Unlocked\n"
          ]
        }
      ]
    },
    {
      "cell_type": "code",
      "source": [
        "scene_1_script = generate_scene_1_script(\n",
        "    client=client,\n",
        "    sitcom_title=sitcom_title,\n",
        "    scene_description=scene_1_desc,\n",
        "    rag_context=None,\n",
        "    line_target=(55, 75)\n",
        ")"
      ],
      "metadata": {
        "id": "SbPXID3TsicA"
      },
      "execution_count": null,
      "outputs": []
    },
    {
      "cell_type": "code",
      "source": [
        "print(scene_1_script)"
      ],
      "metadata": {
        "colab": {
          "base_uri": "https://localhost:8080/"
        },
        "id": "Qy9xfJCssy9m",
        "outputId": "5101c54d-adb1-4447-d27f-cfb2a8426f05"
      },
      "execution_count": null,
      "outputs": [
        {
          "output_type": "stream",
          "name": "stdout",
          "text": [
            "\n",
            "INT. OAKVILLE PRISON - DAY\n",
            "\n",
            "The scene opens with CHARLIE, a middle-aged man with an unkempt beard and a mischievous glint in his eyes, standing at a counter, GRUFF GUARD on the other side.\n",
            "\n",
            "CHARLIE\n",
            "(looking around)\n",
            "Well, it's been real, but I won't say I'll miss this place.\n",
            "\n",
            "GRUFF GUARD\n",
            "(rolling eyes)\n",
            "Just sign the release papers, Charlie.\n",
            "\n",
            "Charlie signs with flourish. He then extends his hand eagerly towards a bag with his belongings.\n",
            "\n",
            "CHARLIE\n",
            "(looking at the bag)\n",
            "I've been waiting for this moment.\n",
            "\n",
            "GRUFF GUARD\n",
            "(pushes the bag to Charlie)\n",
            "Don't get too excited. It's just your old junk.\n",
            "\n",
            "Charlie opens the bag with anticipation, then looks puzzled.\n",
            "\n",
            "CHARLIE\n",
            "(confused)\n",
            "Uh, these aren't mine. \n",
            "\n",
            "He holds up a lacy black bra and a pair of pink fluffy handcuffs. \n",
            "\n",
            "[LAUGH TRACK]\n",
            "\n",
            "GRUFF GUARD\n",
            "(surprised, checks the bag)\n",
            "Oh, my bad. This is from cell block D.\n",
            "\n",
            "Charlie hands the bag back, trying not to laugh.\n",
            "\n",
            "CHARLIE\n",
            "(smirking)\n",
            "Not my style, but I appreciate the thought.\n",
            "\n",
            "[LAUGH TRACK]\n",
            "\n",
            "Gruff Guard hands him another bag. Charlie pulls out a rubber chicken, a clown nose, and a harmonica.\n",
            "\n",
            "CHARLIE\n",
            "(raising an eyebrow)\n",
            "Now, this is more like it.\n",
            "\n",
            "[LAUGH TRACK]\n",
            "\n",
            "GRUFF GUARD\n",
            "(sighs)\n",
            "Only you Charlie, only you.\n",
            "\n",
            "Charlie puts on the clown nose, squeaks it, and gives a mischievous smile as he walks away.\n",
            "\n",
            "CHARLIE\n",
            "(laughs)\n",
            "See ya, wouldn't want to be ya!\n",
            "\n",
            "[LAUGH TRACK]\n",
            "\n",
            "GRUFF GUARD\n",
            "(shakes head)\n",
            "Good riddance, Charlie.\n",
            "\n",
            "Charlie exits, clown nose on, harmonica playing, rubber chicken under his arm.\n",
            "\n",
            "FADE OUT.\n",
            "\n",
            "[END SCENE]\n"
          ]
        }
      ]
    },
    {
      "cell_type": "markdown",
      "source": [
        "### Adding Metadata to Vector Database"
      ],
      "metadata": {
        "id": "ZdbXY1cEt-1O"
      }
    },
    {
      "cell_type": "code",
      "source": [
        "scene_metadata = summarize_scene(\n",
        "    client=client,\n",
        "    sitcom_title=sitcom_title,\n",
        "    scene_script=scene_1_script\n",
        ")\n",
        "\n"
      ],
      "metadata": {
        "id": "17KUHCNNsy7a"
      },
      "execution_count": null,
      "outputs": []
    },
    {
      "cell_type": "code",
      "source": [
        "# Adds scene to the vector database\n",
        "add_scene_to_vector_db(\n",
        "    scene_metadata,\n",
        "    full_script=scene_1_script,\n",
        "    embedding_model=embedding_model,\n",
        "    index=index,\n",
        "    vector_metadata=vector_metadata\n",
        ")\n"
      ],
      "metadata": {
        "id": "9Fg2u-7fsy5S"
      },
      "execution_count": null,
      "outputs": []
    },
    {
      "cell_type": "code",
      "source": [
        "print(\"Total scenes stored in vector DB:\", index.ntotal, \"\\n\")\n",
        "\n",
        "for i, meta in enumerate(vector_metadata):\n",
        "    print(f\"\\nScene {i + 1}\")\n",
        "    print(\"Summary:\", meta[\"summary\"])\n",
        "    print(\"Characters:\", meta[\"characters\"])\n",
        "    print(\"Location:\", meta[\"location\"])\n",
        "    print(\"Recurring Joke:\", meta[\"recurring_joke\"])\n",
        "    print(\"Emotional Tone:\", meta[\"emotional_tone\"])\n"
      ],
      "metadata": {
        "colab": {
          "base_uri": "https://localhost:8080/"
        },
        "id": "YOAaREImuIwB",
        "outputId": "e77d622c-ca2b-4b14-bb45-6ae05d9b5f5a"
      },
      "execution_count": null,
      "outputs": [
        {
          "output_type": "stream",
          "name": "stdout",
          "text": [
            "Total scenes stored in vector DB: 1 \n",
            "\n",
            "\n",
            "Scene 1\n",
            "Summary: The scene takes place in Oakville Prison, where Charlie, a middle-aged man with a mischievous personality, is being released. He signs his release papers and is handed a bag of his belongings. However, the bag initially given to him contains items that are not his, leading to a humorous exchange between him and the Gruff Guard. The correct bag is eventually given to Charlie, containing a rubber chicken, a clown nose, and a harmonica, which are more in line with his quirky character. Charlie exits the prison, wearing the clown nose, playing the harmonica, and carrying the rubber chicken, leaving the Gruff Guard shaking his head.\n",
            "Characters: ['Charlie', 'Gruff Guard']\n",
            "Location: Oakville Prison\n",
            "Recurring Joke: None\n",
            "Emotional Tone: Humorous\n"
          ]
        }
      ]
    },
    {
      "cell_type": "markdown",
      "source": [
        "## Scene 2 Generation"
      ],
      "metadata": {
        "id": "CbVu600kbqDr"
      }
    },
    {
      "cell_type": "code",
      "source": [
        "scene_2_desc = extract_scene(outline, 2)\n",
        "print(scene_2_desc)"
      ],
      "metadata": {
        "colab": {
          "base_uri": "https://localhost:8080/"
        },
        "id": "qJhaegD1yK2O",
        "outputId": "d178185c-9442-4f82-9e7c-c5ac2060c908"
      },
      "execution_count": null,
      "outputs": [
        {
          "output_type": "stream",
          "name": "stdout",
          "text": [
            "Scene 2: \"First Taste of Freedom\" Charlie hilariously navigates the chaos of New York City, struggling with technology, modern fashion, and overpriced coffee.\n"
          ]
        }
      ]
    },
    {
      "cell_type": "markdown",
      "source": [
        "### Character Agent"
      ],
      "metadata": {
        "id": "TgYclpbdbvON"
      }
    },
    {
      "cell_type": "code",
      "source": [
        "'''\n",
        "import importlib\n",
        "import character_agent\n",
        "importlib.reload(character_agent)\n",
        "from character_agent import CharacterAgent\n",
        "'''"
      ],
      "metadata": {
        "id": "yeBN-SzXo2Wh"
      },
      "execution_count": null,
      "outputs": []
    },
    {
      "cell_type": "code",
      "source": [
        "# Initialize the agent\n",
        "character_agent = CharacterAgent(\n",
        "    client=client,\n",
        "    vector_metadata=vector_metadata,\n",
        "    num_scenes=1  # optional — defaults to 1\n",
        ")\n",
        "\n",
        "character_histories, is_consistent, explanation, char_recommendations, thoughts = character_agent.run(\n",
        "    scene_description=scene_2_desc,\n",
        "    scene_number=2\n",
        ")\n",
        "\n",
        "print(f\"Scene {2} — Consistency: {'✅ Consistent' if is_consistent else '❌ Inconsistent'}\")\n",
        "print(\"\\nExplanation:\\n\", explanation)\n",
        "\n",
        "print(\"\\nInteraction Improvement Recommendations:\\n\", char_recommendations)\n",
        "\n",
        "print(\"\\nAgent's Internal Thoughts:\")\n",
        "for thought in thoughts:\n",
        "    print(\"-\", thought)\n"
      ],
      "metadata": {
        "colab": {
          "base_uri": "https://localhost:8080/"
        },
        "id": "xHyBKNKi_axD",
        "outputId": "83730774-a370-47fa-9ea7-3815285b1f74"
      },
      "execution_count": null,
      "outputs": [
        {
          "output_type": "stream",
          "name": "stdout",
          "text": [
            "Scene 2 — Consistency: ✅ Consistent\n",
            "\n",
            "Explanation:\n",
            " 1. Consistency Verdict: Yes\n",
            "2. Short Explanation Why: The planned scene is consistent with Charlie's established personality traits, emotional arc, and speaking style. His struggle with technology, modern fashion, and overpriced coffee aligns with his quirky and humorous personality. His nonchalant attitude towards these struggles is also in line with his speaking style. The scene continues his transition from prison to freedom, maintaining his light-hearted approach to life.\n",
            "\n",
            "Interaction Improvement Recommendations:\n",
            " Interaction Recommendations:\n",
            "1. Charlie should have a humorous exchange with a Barista at a modern coffee shop — In Scene 1, Charlie's quirky nonchalance and mischievous humor shine through. This interaction would allow Charlie's character to further display these traits as he baffles the Barista with his outdated coffee knowledge, maybe even attempting to pay with a two-dollar bill, causing an amusing confusion.\n",
            "   \n",
            "2. Charlie could interact with a young, tech-savvy character on the street — Similar to his interaction with the Gruff Guard in Scene 1, Charlie could engage with this new character in a playful and humorous manner, trying to understand modern technology. This character might be baffled by Charlie's rubber chicken or clown nose, while Charlie is equally perplexed by the person's smartphone or electronic scooter, allowing for some funny exchanges and a continuation of his established character traits.\n",
            "\n",
            "Agent's Internal Thoughts:\n",
            "- Think: Identified characters ['Charlie'] in Scene 2.\n",
            "- Act: Retrieved profiles for ['Charlie'].\n",
            "- Observe: Scene is consistent.\n",
            "- Recommend: Provided suggestions for enhancing character dynamics.\n"
          ]
        }
      ]
    },
    {
      "cell_type": "code",
      "source": [],
      "metadata": {
        "id": "4WxczsuupXV2"
      },
      "execution_count": null,
      "outputs": []
    },
    {
      "cell_type": "markdown",
      "source": [
        "### Comedy Agent"
      ],
      "metadata": {
        "id": "uJ5OAsU-z6dN"
      }
    },
    {
      "cell_type": "code",
      "source": [
        "comedic_agent = ComedicAgent(client=client, vector_metadata=vector_metadata)\n",
        "\n",
        "is_consistent, analysis_text, com_recommendations, thoughts = comedic_agent.run(\n",
        "    scene_description=scene_2_desc,\n",
        "    scene_number=2\n",
        ")\n",
        "\n",
        "print(\"Is Consistent:\", is_consistent)\n",
        "print(\"Analysis:\\n\", analysis_text)\n",
        "print(\"Recommendations:\\n\", com_recommendations)\n",
        "print(\"Internal Thoughts:\\n\", thoughts)"
      ],
      "metadata": {
        "id": "zBilko_8_aqH",
        "colab": {
          "base_uri": "https://localhost:8080/"
        },
        "outputId": "d1fcf59a-7cbf-404e-c2bf-87eb7567f36a"
      },
      "execution_count": null,
      "outputs": [
        {
          "output_type": "stream",
          "name": "stdout",
          "text": [
            "Is Consistent: True\n",
            "Analysis:\n",
            " 1. Detected Tone: Fish-out-of-water comedy\n",
            "2. Consistency Verdict: Yes\n",
            "3. Short Explanation: The comedic tone in the new scene is consistent with the previous scene. Both scenes utilize situational humor, with Charlie's quirky personality and unfamiliarity with his surroundings serving as the main source of comedy.\n",
            "4. Overuse Check: None\n",
            "5. Specific Suggestions if inconsistencies or overuse exist: N/A\n",
            "Recommendations:\n",
            " Interaction Recommendations:\n",
            "- [Suggestion 1]: Charlie, while attempting to use a smartphone for the first time, accidentally starts a Facebook live stream. Unaware of his global audience, he candidly critiques the city, its absurd fashion trends, and the baffling cost of coffee, generating a wave of likes, shares, and hilarious comments from viewers around the world.\n",
            "- [Suggestion 2]: At a hipster cafe, Charlie orders a simple black coffee and is shocked when it costs $8. He humorously attempts to haggle the price down, mistaking the barista's tattoo for a barcode and trying to scan it with his new smartphone.\n",
            "- [Suggestion 3]: Charlie is confused by modern fashion trends. In a boutique, he puts on skinny jeans backwards and a crop top, thinking it's a regular t-shirt that's just a bit short. He leaves the dressing room, strutting around with misplaced confidence, before a store employee gently corrects him.\n",
            "- [Suggestion 4]: Charlie's old-fashioned pager goes off in the middle of a quiet yoga class, causing a ripple of laughter. He apologizes, then turns to the class and asks if anyone has a payphone he could use, resulting in even more laughter.\n",
            "Internal Thoughts:\n",
            " ['Analyzed and verified comedic consistency for Scene 2.', 'Provided comedic enhancement suggestions.']\n"
          ]
        }
      ]
    },
    {
      "cell_type": "markdown",
      "source": [
        "### Enviroment Agent\n",
        "\n"
      ],
      "metadata": {
        "id": "i74j5_NyQ7bf"
      }
    },
    {
      "cell_type": "code",
      "source": [
        "environment_agent = EnvironmentReActAgent(\n",
        "    client=client,\n",
        "    vector_metadata=vector_metadata,  # your list of prior scene metadata\n",
        "    num_scenes=1  # or 2, 3, 5 — however many past scenes you want it to look at\n",
        ")"
      ],
      "metadata": {
        "id": "ENRyo7XRQ_Rv"
      },
      "execution_count": null,
      "outputs": []
    },
    {
      "cell_type": "code",
      "source": [
        "environment_analysis, transition_check, environment_details_suggestions, env_thoughts = environment_agent.run(\n",
        "    scene_description=scene_2_desc,\n",
        "    scene_number=2\n",
        ")"
      ],
      "metadata": {
        "id": "0TO5QdlMY1D9"
      },
      "execution_count": null,
      "outputs": []
    },
    {
      "cell_type": "code",
      "source": [
        "print(environment_details_suggestions)"
      ],
      "metadata": {
        "colab": {
          "base_uri": "https://localhost:8080/"
        },
        "id": "obtIhas6Q_Hp",
        "outputId": "9cdc2c0e-4a1d-42eb-e7a0-dd97db6e0907"
      },
      "execution_count": null,
      "outputs": [
        {
          "output_type": "stream",
          "name": "stdout",
          "text": [
            "Environment Details Suggestions:\n",
            "- Suggestion 1: As the scene transitions to New York City, the characters could be seen struggling to hail a cab during rush hour, a common NYC struggle. This could add a humorous touch to the transition.\n",
            "- Suggestion 2: The characters could walk past a trendy boutique with a window display showcasing outrageous, modern fashion styles accompanied by shockingly high price tags, reflecting the city's fashion scene.\n",
            "- Suggestion 3: The characters could stop at a hipster coffee shop, where they're taken aback by the price of a small, artisanal latte. One of them could make a funny comment about how they could have bought a whole meal with that money back in prison.\n"
          ]
        }
      ]
    },
    {
      "cell_type": "markdown",
      "source": [
        "### Scene Planner Agent"
      ],
      "metadata": {
        "id": "50e9gy8LB0aj"
      }
    },
    {
      "cell_type": "code",
      "source": [
        "scene_planner_agent = ScenePlannerAgent(client=client)\n",
        "\n",
        "scene_2_plan = scene_planner_agent.plan_next_scene_explicit(\n",
        "    character_recommendations=char_recommendations,\n",
        "    comedic_recommendations=com_recommendations,\n",
        "    environment_details_suggestions=environment_details_suggestions,\n",
        "    scene_number=2\n",
        ")"
      ],
      "metadata": {
        "id": "59hqnint9VYo"
      },
      "execution_count": null,
      "outputs": []
    },
    {
      "cell_type": "code",
      "source": [
        "print(scene_2_plan)"
      ],
      "metadata": {
        "colab": {
          "base_uri": "https://localhost:8080/"
        },
        "id": "dlxXKfGr9VVB",
        "outputId": "b5cb0383-498f-4a4d-e3cd-534d1a7a784e"
      },
      "execution_count": null,
      "outputs": [
        {
          "output_type": "stream",
          "name": "stdout",
          "text": [
            "Scene Plan:\n",
            "\n",
            "Character Goals:\n",
            "- Charlie has a humorous exchange with a Barista at a modern coffee shop, attempting to pay with a two-dollar bill, causing an amusing confusion.\n",
            "- Charlie interacts with a young, tech-savvy character on the street, trying to understand modern technology, and baffling them with his outdated props like a rubber chicken or clown nose.\n",
            "\n",
            "Comedic Goal:\n",
            "- Charlie, while attempting to use a smartphone for the first time, accidentally starts a Facebook live stream. Unaware of his global audience, he candidly critiques the city, its absurd fashion trends, and the baffling cost of coffee.\n",
            "\n",
            "Environment Detail:\n",
            "- The characters walk past a trendy boutique with a window display showcasing outrageous, modern fashion styles accompanied by shockingly high price tags, reflecting the city's fashion scene.\n",
            "\n",
            "Creative Suggestion:\n",
            "- The next scene could take place at a bustling farmer's market. Charlie, still baffled by the high prices, tries to barter with the vendors using his two-dollar bill, causing hilarity. Meanwhile, the tech-savvy character attempts to teach Charlie about online payment methods, leading to the Facebook live stream incident. This setting allows for a multitude of comedic interactions with various vendors and characters, and also provides the opportunity to further highlight the city's eccentricities through its diverse and colorful market scene.\n"
          ]
        }
      ]
    },
    {
      "cell_type": "markdown",
      "source": [
        "### Generating Scene 2 Script"
      ],
      "metadata": {
        "id": "lyMGXxykE-3i"
      }
    },
    {
      "cell_type": "markdown",
      "source": [
        "**Make sure the physical enviroment is conssitent over the whole scene**\n",
        "\n",
        "**Define what a scene is to the agent**"
      ],
      "metadata": {
        "id": "e05wyWydbEPz"
      }
    },
    {
      "cell_type": "code",
      "source": [
        "scene_2_script = generate_scene(\n",
        "    client=client,\n",
        "    scene_plan=scene_2_plan,\n",
        "    scene_number= 2\n",
        ")\n",
        "\n",
        "print(scene_2_script)"
      ],
      "metadata": {
        "colab": {
          "base_uri": "https://localhost:8080/"
        },
        "id": "BnxkFMQR1syY",
        "outputId": "86596bb1-35ee-44dc-ca34-eed6f2ea030a"
      },
      "execution_count": null,
      "outputs": [
        {
          "output_type": "stream",
          "name": "stdout",
          "text": [
            "INT. MODERN COFFEE SHOP - MORNING\n",
            "\n",
            "CHARLIE (70s, old school, always seen with a rubber chicken and clown nose in his pockets) approaches the counter and places his order.\n",
            "\n",
            "CHARLIE\n",
            "(eyeing the menu)\n",
            "I’ll have a regular coffee. How much is that?\n",
            "\n",
            "BARISTA (20s, hipster)\n",
            "That’s $5, sir. \n",
            "\n",
            "Charlie hands over a two-dollar bill. The Barista looks at it, confused. \n",
            "\n",
            "BARISTA (CONT’D)\n",
            "Is this some kind of joke?\n",
            "\n",
            "CHARLIE\n",
            "(smiling)\n",
            "No, it's a two-dollar bill. It's legal tender, son.\n",
            "\n",
            "Barista shakes his head, amused.\n",
            "\n",
            "CUT TO:\n",
            "\n",
            "EXT. COFFEE SHOP - DAY\n",
            "\n",
            "Charlie walks out of the coffee shop and bumps into a TECH SAVVY YOUTH (early 20s). \n",
            "\n",
            "TECH SAVVY YOUTH\n",
            "(surprised, looking at his smartphone)\n",
            "Dude! You just started a Facebook live stream!\n",
            "\n",
            "Charlie looks at the smartphone, bewildered.\n",
            "\n",
            "CHARLIE\n",
            "What's a Facebook?\n",
            "\n",
            "TECH SAVVY YOUTH\n",
            "(laughs)\n",
            "You're joking, right?\n",
            "\n",
            "CHARLIE\n",
            "No, seriously. What's a Facebook?\n",
            "\n",
            "They walk past a trendy boutique with outrageous fashion styles displayed.\n",
            "\n",
            "CHARLIE (CONT’D)\n",
            "(pointing at a neon mankini in the window)\n",
            "And what in the world is that?\n",
            "\n",
            "TECH SAVVY YOUTH\n",
            "(laughs)\n",
            "That's fashion, dude!\n",
            "\n",
            "CHARLIE\n",
            "(squints at the price tag)\n",
            "And it costs $200? For that little piece of cloth?\n",
            "\n",
            "TECH SAVVY YOUTH\n",
            "(laughs)\n",
            "Welcome to the modern world, old man!\n",
            "\n",
            "Charlie shakes his head, baffled, and continues his critique of the city, unaware of his global audience on the live stream.\n",
            "\n",
            "CUT TO:\n",
            "\n",
            "EXT. FARMERS MARKET - DAY\n",
            "\n",
            "Charlie, still baffled by the high prices, tries to barter with a VENDOR using his two-dollar bill. The Vendor looks at him like he's an alien. \n",
            "\n",
            "Meanwhile, the Tech Savvy Youth tries to explain online payments to Charlie, leading to more hilarity and confusion.\n",
            "\n",
            "FADE OUT.\n"
          ]
        }
      ]
    },
    {
      "cell_type": "markdown",
      "source": [
        "### Adding Metadata to Vector Database"
      ],
      "metadata": {
        "id": "crS4eTxLnoi2"
      }
    },
    {
      "cell_type": "code",
      "source": [
        "scene_metadata_2 = summarize_scene(\n",
        "    client=client,\n",
        "    sitcom_title=sitcom_title,\n",
        "    scene_script=scene_2_script\n",
        ")\n"
      ],
      "metadata": {
        "id": "zcOy2Xminpi0"
      },
      "execution_count": null,
      "outputs": []
    },
    {
      "cell_type": "code",
      "source": [
        "# Adds scene to the vector database\n",
        "add_scene_to_vector_db(\n",
        "    scene_metadata_2,\n",
        "    full_script=scene_2_script,\n",
        "    embedding_model=embedding_model,\n",
        "    index=index,\n",
        "    vector_metadata=vector_metadata\n",
        ")\n"
      ],
      "metadata": {
        "id": "sKUtCjW-npgb"
      },
      "execution_count": null,
      "outputs": []
    },
    {
      "cell_type": "code",
      "source": [
        "print(\"Total scenes stored in vector DB:\", index.ntotal, \"\\n\")\n",
        "\n",
        "for i, meta in enumerate(vector_metadata):\n",
        "    print(f\"\\nScene {i + 1}\")\n",
        "    print(\"Summary:\", meta[\"summary\"])\n",
        "    print(\"Characters:\", meta[\"characters\"])\n",
        "    print(\"Location:\", meta[\"location\"])\n",
        "    print(\"Recurring Joke:\", meta[\"recurring_joke\"])\n",
        "    print(\"Emotional Tone:\", meta[\"emotional_tone\"])\n"
      ],
      "metadata": {
        "colab": {
          "base_uri": "https://localhost:8080/"
        },
        "id": "gG2QXVz5n81H",
        "outputId": "4059ed89-5243-4dcd-f3e9-45d7f2fe2fe9"
      },
      "execution_count": null,
      "outputs": [
        {
          "output_type": "stream",
          "name": "stdout",
          "text": [
            "Total scenes stored in vector DB: 2 \n",
            "\n",
            "\n",
            "Scene 1\n",
            "Summary: The scene takes place in Oakville Prison, where Charlie, a middle-aged man with a mischievous personality, is being released. He signs his release papers and is handed a bag of his belongings. However, the bag initially given to him contains items that are not his, leading to a humorous exchange between him and the Gruff Guard. The correct bag is eventually given to Charlie, containing a rubber chicken, a clown nose, and a harmonica, which are more in line with his quirky character. Charlie exits the prison, wearing the clown nose, playing the harmonica, and carrying the rubber chicken, leaving the Gruff Guard shaking his head.\n",
            "Characters: ['Charlie', 'Gruff Guard']\n",
            "Location: Oakville Prison\n",
            "Recurring Joke: None\n",
            "Emotional Tone: Humorous\n",
            "\n",
            "Scene 2\n",
            "Summary: In a modern coffee shop, Charlie, an old-school character in his 70s, orders a coffee and pays with a two-dollar bill, confusing the young barista. Outside, he bumps into a tech-savvy youth and accidentally starts a Facebook live stream, to his own bewilderment. They pass by a boutique where Charlie is shocked by the outrageous fashion styles and high prices. At a farmers market, Charlie tries to barter with a vendor using his two-dollar bill, causing further confusion. Throughout the scene, Charlie's lack of understanding of modern trends and technology is a source of amusement for the younger characters and his online audience.\n",
            "Characters: ['Charlie', 'Barista', 'Tech Savvy Youth', 'Vendor']\n",
            "Location: - Modern Coffee Shop\n",
            "- Outside the Coffee Shop\n",
            "- Farmers Market\n",
            "Recurring Joke: Charlie's use of a two-dollar bill and his lack of understanding of modern trends and technology.\n",
            "Emotional Tone: Amused, Confused\n"
          ]
        }
      ]
    },
    {
      "cell_type": "markdown",
      "source": [
        "## Scene 3 Generation"
      ],
      "metadata": {
        "id": "7pteDxs7i5vn"
      }
    },
    {
      "cell_type": "code",
      "source": [
        "scene_3_desc = extract_scene(outline, 3)\n",
        "print(scene_3_desc)"
      ],
      "metadata": {
        "id": "xFVSwC2S2fg_",
        "colab": {
          "base_uri": "https://localhost:8080/"
        },
        "outputId": "c33ef1ee-ebb2-43b1-98b1-a8fa5c913377"
      },
      "execution_count": null,
      "outputs": [
        {
          "output_type": "stream",
          "name": "stdout",
          "text": [
            "Scene 3: \"The Introduction\" Charlie meets Officer Gus, his parole officer, in a comic sequence of misunderstandings and overly-enthusiastic advice.\n"
          ]
        }
      ]
    },
    {
      "cell_type": "markdown",
      "source": [
        "### Character Agent"
      ],
      "metadata": {
        "id": "4CKIVGewp-9H"
      }
    },
    {
      "cell_type": "code",
      "source": [
        "# Initialize the agent\n",
        "character_agent = CharacterAgent(\n",
        "    client=client,\n",
        "    vector_metadata=vector_metadata,\n",
        "    num_scenes=2\n",
        ")\n",
        "\n",
        "character_histories, is_consistent, explanation, char_recommendations, thoughts = character_agent.run(\n",
        "    scene_description=scene_3_desc,\n",
        "    scene_number=3\n",
        ")\n",
        "\n",
        "# Outputs\n",
        "print(f\"Scene {3} — Consistency: {'✅ Consistent' if is_consistent else '❌ Inconsistent'}\")\n",
        "print(\"\\nExplanation:\\n\", explanation)\n",
        "\n",
        "print(\"\\nInteraction Improvement Recommendations:\\n\", char_recommendations)\n",
        "\n",
        "print(\"\\nAgent's Internal Thoughts:\")\n",
        "for thought in thoughts:\n",
        "    print(\"-\", thought)\n"
      ],
      "metadata": {
        "id": "oQXW-nswz2us",
        "colab": {
          "base_uri": "https://localhost:8080/"
        },
        "outputId": "6aa8da0e-9b5f-42bc-9581-7d31d7f21081"
      },
      "execution_count": null,
      "outputs": [
        {
          "output_type": "stream",
          "name": "stdout",
          "text": [
            "Scene 3 — Consistency: ✅ Consistent\n",
            "\n",
            "Explanation:\n",
            " 1. Consistency Verdict: Yes\n",
            "2. Short Explanation Why: Charlie's interaction with Officer Gus aligns with his established personality traits of being mischievous and quirky, as seen in his humorous exchanges in previous scenes. The comic sequence of misunderstandings also fits with Charlie's confusion with modern trends. Officer Gus's overly-enthusiastic advice is consistent with the brief character description provided. However, more information is needed to fully assess Officer Gus's consistency.\n",
            "\n",
            "Interaction Improvement Recommendations:\n",
            " Interaction Recommendations:\n",
            "1. Officer Gus, in his enthusiasm to guide Charlie, introduces him to a modern digital device, like a tablet or a smartphone, to help him navigate the modern world. Charlie, bewildered as usual, accidentally triggers a video call or stream, creating a comic sequence of misunderstandings. — This interaction fits because in Scene 2, Charlie accidentally starts a Facebook live stream, highlighting his confusion with modern technology and trends. Officer Gus's overly-enthusiastic personality could push him to introduce such technology, leading to more comic situations.\n",
            "\n",
            "2. As a nod to his old-school character and running joke, Charlie continues to use his two-dollar bills, trying to pay Officer Gus for his advice or services. This could lead to a humorous interaction where Officer Gus, surprised and confused, tries to refuse the payment, explaining that it's his job to assist Charlie. — This interaction fits because in Scene 2, Charlie's use of a two-dollar bill to pay for his coffee and barter at the farmers market was a source of confusion and amusement, staying true to his quirky and old-school nature.\n",
            "\n",
            "Agent's Internal Thoughts:\n",
            "- Think: Identified characters ['Charlie', 'Officer Gus'] in Scene 3.\n",
            "- Act: Retrieved profiles for ['Charlie', 'Officer Gus'].\n",
            "- Observe: Scene is consistent.\n",
            "- Recommend: Provided suggestions for enhancing character dynamics.\n"
          ]
        }
      ]
    },
    {
      "cell_type": "markdown",
      "source": [
        "### Comedy Agent"
      ],
      "metadata": {
        "id": "SoZ5YFR9q-vT"
      }
    },
    {
      "cell_type": "code",
      "source": [
        "comedic_agent = ComedicAgent(client=client, vector_metadata=vector_metadata)\n",
        "\n",
        "is_consistent, analysis_text, com_recommendations, thoughts = comedic_agent.run(\n",
        "    scene_description=scene_3_desc,\n",
        "    scene_number=3\n",
        ")\n",
        "\n",
        "print(\"Is Consistent:\", is_consistent)\n",
        "print(\"Analysis:\\n\", analysis_text)\n",
        "print(\"Recommendations:\\n\", com_recommendations)\n",
        "print(\"Internal Thoughts:\\n\", thoughts)"
      ],
      "metadata": {
        "id": "d1rkV9qqz2r6",
        "colab": {
          "base_uri": "https://localhost:8080/"
        },
        "outputId": "b081aa2b-6ad8-4307-a7a8-7796c6b39235"
      },
      "execution_count": null,
      "outputs": [
        {
          "output_type": "stream",
          "name": "stdout",
          "text": [
            "Is Consistent: True\n",
            "Analysis:\n",
            " 1. Detected Tone: Slapstick\n",
            "2. Consistency Verdict: Yes\n",
            "3. Short Explanation: The comedic tone in the new scene is consistent with the previous scenes. The humor continues to be derived from Charlie's quirky character and his interactions with others, leading to misunderstandings and humorous situations.\n",
            "4. Overuse Check: None\n",
            "5. Specific Suggestions if inconsistencies or overuse exist: N/A\n",
            "Recommendations:\n",
            " Interaction Recommendations:\n",
            "- [Suggestion 1]: As Charlie enters Officer Gus's office, he misinterprets \"Take a seat\" as an invitation to take the chair home. He starts to pick up the chair with a grateful smile, leading to a humorous confusion. This could establish Charlie as a literal-minded, overly-enthusiastic character.\n",
            "\n",
            "- [Suggestion 2]: Officer Gus could have a peculiar habit of using police jargon in regular conversation. When he explains the terms of Charlie’s parole, he does so in such a convoluted way that Charlie just nods along, completely misunderstanding. For example, Gus saying \"10-20\" for location or \"10-4\" for understanding. \n",
            "\n",
            "- [Suggestion 3]: Charlie, in his enthusiasm, could keep offering Gus \"tips\" on how to be a better parole officer based on his experience with previous officers. This could add a running joke about Charlie's long history with parole officers.\n",
            "\n",
            "- [Suggestion 4]: Gus could have a desk toy (like a stress ball or Newton's cradle) that Charlie becomes fascinated by. He keeps playing with it at inappropriate times, with each instance escalating - first he just fidgets with it, then he accidentally launches it across the room, etc. This could be a recurring gag throughout the sitcom.\n",
            "Internal Thoughts:\n",
            " ['Analyzed and verified comedic consistency for Scene 3.', 'Provided comedic enhancement suggestions.']\n"
          ]
        }
      ]
    },
    {
      "cell_type": "markdown",
      "source": [
        "### Enviroment Agent\n"
      ],
      "metadata": {
        "id": "s1o8wr8jtsuE"
      }
    },
    {
      "cell_type": "code",
      "source": [
        "environment_agent = EnvironmentReActAgent(\n",
        "    client=client,\n",
        "    vector_metadata=vector_metadata,  # your list of prior scene metadata\n",
        "    num_scenes=2  # or 2, 3, 5 — however many past scenes you want it to look at\n",
        ")"
      ],
      "metadata": {
        "id": "vuQawzfLz2pY"
      },
      "execution_count": null,
      "outputs": []
    },
    {
      "cell_type": "code",
      "source": [
        "environment_analysis, transition_check, environment_details_suggestions, env_thoughts = environment_agent.run(\n",
        "    scene_description=scene_3_desc,\n",
        "    scene_number=3\n",
        ")"
      ],
      "metadata": {
        "id": "rWRPSBiWz2m_"
      },
      "execution_count": null,
      "outputs": []
    },
    {
      "cell_type": "code",
      "source": [
        "print(environment_details_suggestions)"
      ],
      "metadata": {
        "id": "lEMoknH8z2kh",
        "colab": {
          "base_uri": "https://localhost:8080/"
        },
        "outputId": "0a4499e8-6718-4d73-93c7-c0d42269b5af"
      },
      "execution_count": null,
      "outputs": [
        {
          "output_type": "stream",
          "name": "stdout",
          "text": [
            "Environment Details Suggestions:\n",
            "- As Charlie enters the parole office, Officer Gus is absentmindedly playing with a rubber band ball, a collection of confiscated contraband items from parolees on his desk like a bizarre trophy collection. \n",
            "- The sound of a broken air conditioner that makes a comical 'sputter-clunk' noise every few minutes, causing Officer Gus to roll his eyes and mutter something about the budget cuts.\n",
            "- The smell of stale coffee lingers in the air, mixed with the faintly metallic scent of old paper from the parole paperwork stacked haphazardly around the room.\n"
          ]
        }
      ]
    },
    {
      "cell_type": "markdown",
      "source": [
        "### Scene Planner Agent"
      ],
      "metadata": {
        "id": "p_pZJkH3uInh"
      }
    },
    {
      "cell_type": "code",
      "source": [
        "scene_planner_agent = ScenePlannerAgent(client=client)\n",
        "\n",
        "scene_3_plan = scene_planner_agent.plan_next_scene_explicit(\n",
        "    character_recommendations=char_recommendations,\n",
        "    comedic_recommendations=com_recommendations,\n",
        "    environment_details_suggestions=environment_details_suggestions,\n",
        "    scene_number=3\n",
        ")"
      ],
      "metadata": {
        "id": "SzoOQcYGz2h9"
      },
      "execution_count": null,
      "outputs": []
    },
    {
      "cell_type": "code",
      "source": [
        "print(scene_3_plan)"
      ],
      "metadata": {
        "colab": {
          "base_uri": "https://localhost:8080/"
        },
        "id": "LvPrcuz2uNlX",
        "outputId": "4a53aeab-50f6-4388-9f0f-4f0aa3d498fd"
      },
      "execution_count": null,
      "outputs": [
        {
          "output_type": "stream",
          "name": "stdout",
          "text": [
            "Scene Plan:\n",
            "Character Goals:\n",
            "- Officer Gus introduces Charlie to a modern digital device, like a tablet or smartphone, with Charlie accidentally triggering a video call or stream.\n",
            "- Charlie tries to pay Officer Gus with a two-dollar bill for his advice or services, leading to a humorous interaction where Officer Gus tries to refuse the payment.\n",
            "\n",
            "Comedic Goal:\n",
            "- As Charlie enters Officer Gus's office, he misinterprets \"Take a seat\" as an invitation to take the chair home and starts to pick up the chair with a grateful smile.\n",
            "\n",
            "Environment Detail:\n",
            "- As Charlie enters the parole office, Officer Gus is absentmindedly playing with a rubber band ball, a collection of confiscated contraband items from parolees on his desk like a bizarre trophy collection. \n",
            "\n",
            "Creative Suggestion:\n",
            "- As Officer Gus tries to explain how to use the digital device to Charlie, Charlie interrupts him by pointing out the rubber band ball and asking if he could have one. This could lead to a funny back-and-forth as Gus tries to get Charlie to focus on the tablet, while Charlie keeps getting distracted by all the contraband items on Gus's desk. This interaction could also lead to the reveal of one of Charlie's previous misdemeanors that landed him on parole.\n"
          ]
        }
      ]
    },
    {
      "cell_type": "markdown",
      "source": [
        "### Generating Scene 3 Script"
      ],
      "metadata": {
        "id": "SoCkylEXvB7u"
      }
    },
    {
      "cell_type": "code",
      "source": [
        "scene_3_script = generate_scene(\n",
        "    client=client,\n",
        "    scene_plan=scene_3_plan,\n",
        "    scene_number= 3\n",
        ")\n",
        "\n",
        "print(scene_3_script)"
      ],
      "metadata": {
        "colab": {
          "base_uri": "https://localhost:8080/"
        },
        "id": "OVxGUmjiuUGU",
        "outputId": "3834ab87-8059-4cf6-e567-e3797f205c28"
      },
      "execution_count": null,
      "outputs": [
        {
          "output_type": "stream",
          "name": "stdout",
          "text": [
            "INT. PAROLE OFFICE - DAY\n",
            "\n",
            "Officer GUS, a grizzled veteran with a soft spot for tech gadgets, is playing with a rubber band ball and scrolling through his tablet. CHARLIE, a naive ex-con with a heart of gold, ambles in, his eyes wide at the sight of the office.\n",
            "\n",
            "GUS\n",
            "(innocently)\n",
            "Take a seat, Charlie.\n",
            "\n",
            "Charlie beams, bends down, and starts to lift the chair.\n",
            "\n",
            "GUS\n",
            "(surprised)\n",
            "What the...? No, Charlie! I meant sit down!\n",
            "\n",
            "Charlie laughs sheepishly and sits down. Gus places his tablet in front of Charlie, who eyes it as if it's an alien object.\n",
            "\n",
            "GUS\n",
            "(excited)\n",
            "This, Charlie, is a tablet. It's like a portable computer.\n",
            "\n",
            "Charlie nods slowly, his eyes never leaving the tablet. He reaches out and accidentally triggers a video call. Suddenly, a WOMAN appears on screen.\n",
            "\n",
            "WOMAN\n",
            "(cheerily)\n",
            "Oh hi, Gus! Who's your friend?\n",
            "\n",
            "Gus sighs, grabbing the tablet and ending the call swiftly.\n",
            "\n",
            "GUS\n",
            "(flustered)\n",
            "That was... never mind. You need to be careful, Charlie.\n",
            "\n",
            "Charlie, still a little dazed, pulls out a two-dollar bill from his pocket.\n",
            "\n",
            "CHARLIE\n",
            "(enthusiastically)\n",
            "Here, Gus, for your troubles.\n",
            "\n",
            "Gus laughs, shaking his head.\n",
            "\n",
            "GUS\n",
            "(disbelieving)\n",
            "No, Charlie, you don't have to pay me. \n",
            "\n",
            "Charlie insists, trying to stuff the bill into Gus's hand. Meanwhile, his eyes wander to the rubber band ball.\n",
            "\n",
            "CHARLIE\n",
            "(distracted)\n",
            "Can I have one of these?\n",
            "\n",
            "GUS\n",
            "(laughing)\n",
            "No, Charlie. These are confiscated items. Remember the time you tried to steal that gumball machine?\n",
            "\n",
            "Charlie smiles sheepishly, remembering, as Gus rolls his eyes fondly, shaking his head.\n",
            "\n",
            "FADE OUT.\n"
          ]
        }
      ]
    },
    {
      "cell_type": "markdown",
      "source": [
        "### Adding Metadata to Vector Database"
      ],
      "metadata": {
        "id": "fjFh5eocvYhU"
      }
    },
    {
      "cell_type": "code",
      "source": [
        "'''\n",
        "MAKE FUNCTION!!!\n",
        "'''\n",
        "\n",
        "scene_metadata_3 = summarize_scene(\n",
        "    client=client,\n",
        "    sitcom_title=sitcom_title,\n",
        "    scene_script=scene_3_script\n",
        ")\n",
        "\n",
        "\n",
        "# Adds scene to the vector database\n",
        "add_scene_to_vector_db(\n",
        "    scene_metadata_3,\n",
        "    full_script=scene_3_script,\n",
        "    embedding_model=embedding_model,\n",
        "    index=index,\n",
        "    vector_metadata=vector_metadata\n",
        ")\n",
        "\n",
        "\n",
        "print(\"Total scenes stored in vector DB:\", index.ntotal, \"\\n\")\n",
        "\n",
        "for i, meta in enumerate(vector_metadata):\n",
        "    print(f\"\\nScene {i + 1}\")\n",
        "    print(\"Summary:\", meta[\"summary\"])\n",
        "    print(\"Characters:\", meta[\"characters\"])\n",
        "    print(\"Location:\", meta[\"location\"])\n",
        "    print(\"Recurring Joke:\", meta[\"recurring_joke\"])\n",
        "    print(\"Emotional Tone:\", meta[\"emotional_tone\"])\n"
      ],
      "metadata": {
        "colab": {
          "base_uri": "https://localhost:8080/"
        },
        "id": "uFZ41BBxvE0c",
        "outputId": "d3b31773-d2a8-440a-8239-0e5394d3add4"
      },
      "execution_count": null,
      "outputs": [
        {
          "output_type": "stream",
          "name": "stdout",
          "text": [
            "Total scenes stored in vector DB: 3 \n",
            "\n",
            "\n",
            "Scene 1\n",
            "Summary: The scene takes place in Oakville Prison, where Charlie, a middle-aged man with a mischievous personality, is being released. He signs his release papers and is handed a bag of his belongings. However, the bag initially given to him contains items that are not his, leading to a humorous exchange between him and the Gruff Guard. The correct bag is eventually given to Charlie, containing a rubber chicken, a clown nose, and a harmonica, which are more in line with his quirky character. Charlie exits the prison, wearing the clown nose, playing the harmonica, and carrying the rubber chicken, leaving the Gruff Guard shaking his head.\n",
            "Characters: ['Charlie', 'Gruff Guard']\n",
            "Location: Oakville Prison\n",
            "Recurring Joke: None\n",
            "Emotional Tone: Humorous\n",
            "\n",
            "Scene 2\n",
            "Summary: In a modern coffee shop, Charlie, an old-school character in his 70s, orders a coffee and pays with a two-dollar bill, confusing the young barista. Outside, he bumps into a tech-savvy youth and accidentally starts a Facebook live stream, to his own bewilderment. They pass by a boutique where Charlie is shocked by the outrageous fashion styles and high prices. At a farmers market, Charlie tries to barter with a vendor using his two-dollar bill, causing further confusion. Throughout the scene, Charlie's lack of understanding of modern trends and technology is a source of amusement for the younger characters and his online audience.\n",
            "Characters: ['Charlie', 'Barista', 'Tech Savvy Youth', 'Vendor']\n",
            "Location: - Modern Coffee Shop\n",
            "- Outside the Coffee Shop\n",
            "- Farmers Market\n",
            "Recurring Joke: Charlie's use of a two-dollar bill and his lack of understanding of modern trends and technology.\n",
            "Emotional Tone: Amused, Confused\n",
            "\n",
            "Scene 3\n",
            "Summary: In the parole office, Officer Gus, a tech-savvy veteran, introduces Charlie, a naive ex-con, to a tablet. Charlie, unfamiliar with the technology, accidentally triggers a video call with a woman, causing Gus to hastily end the call. Charlie, feeling apologetic, tries to give Gus a two-dollar bill, which Gus refuses. Charlie's attention then shifts to a rubber band ball, which Gus reveals are confiscated items. The scene ends with a fond reminiscence of Charlie's past attempt to steal a gumball machine.\n",
            "Characters: ['Officer Gus', 'Charlie', 'Woman (on video call)']\n",
            "Location: Parole Office\n",
            "Recurring Joke: Charlie's literal interpretation of phrases (e.g., \"take a seat\") and his fascination with ordinary objects (e.g., the chair, the rubber band ball).\n",
            "Emotional Tone: Amusing, Warm\n"
          ]
        }
      ]
    },
    {
      "cell_type": "markdown",
      "source": [
        "## Scene 4 Generation"
      ],
      "metadata": {
        "id": "RztuMTttcJ-h"
      }
    },
    {
      "cell_type": "code",
      "source": [
        "scene_4_desc = extract_scene(outline, 4)\n",
        "print(scene_4_desc)"
      ],
      "metadata": {
        "colab": {
          "base_uri": "https://localhost:8080/"
        },
        "id": "YnDuemb9aVpE",
        "outputId": "4db49e2a-de7c-4923-ffa6-d064f6fa97f2"
      },
      "execution_count": null,
      "outputs": [
        {
          "output_type": "stream",
          "name": "stdout",
          "text": [
            "Scene 4: \"The Locksmith Shop\" Charlie reopens his old locksmith shop, leading to comedic situations with rusty tools, forgotten skills, and oddball customers.\n"
          ]
        }
      ]
    },
    {
      "cell_type": "markdown",
      "source": [
        "### Character Agent"
      ],
      "metadata": {
        "id": "RdUaKCUWe5AN"
      }
    },
    {
      "cell_type": "code",
      "source": [
        "# Initialize the agent\n",
        "character_agent = CharacterAgent(\n",
        "    client=client,\n",
        "    vector_metadata=vector_metadata,\n",
        "    num_scenes=3\n",
        ")\n",
        "\n",
        "character_histories, is_consistent, explanation, char_recommendations, thoughts = character_agent.run(\n",
        "    scene_description=scene_4_desc,\n",
        "    scene_number=4\n",
        ")\n",
        "\n",
        "# Outputs\n",
        "print(f\"Scene {4} — Consistency: {'✅ Consistent' if is_consistent else '❌ Inconsistent'}\")\n",
        "print(\"\\nExplanation:\\n\", explanation)\n",
        "\n",
        "print(\"\\nInteraction Improvement Recommendations:\\n\", char_recommendations)\n",
        "\n",
        "print(\"\\nAgent's Internal Thoughts:\")\n",
        "for thought in thoughts:\n",
        "    print(\"-\", thought)\n"
      ],
      "metadata": {
        "colab": {
          "base_uri": "https://localhost:8080/"
        },
        "id": "NBweVSqldifu",
        "outputId": "77c595d0-0012-4d44-9a8d-ce5b4ad0b8dc"
      },
      "execution_count": null,
      "outputs": [
        {
          "output_type": "stream",
          "name": "stdout",
          "text": [
            "Scene 4 — Consistency: ✅ Consistent\n",
            "\n",
            "Explanation:\n",
            " 1. Consistency Verdict: Yes\n",
            "2. Short Explanation Why: Charlie's reopening of his old locksmith shop aligns with his old-school personality trait and his nostalgia for simpler times. His comedic interactions with rusty tools and forgotten skills are consistent with his quirky and mischievous traits, as well as his humorous speaking style. The introduction of oddball customers also provides an opportunity for Charlie to display his naivety, consistent with his previous interactions. There are no contradictions based on past scenes.\n",
            "\n",
            "Interaction Improvement Recommendations:\n",
            " Interaction Recommendations:\n",
            "\n",
            "1. Charlie has a humorous exchange with a customer who wants to pay with a credit card, but Charlie insists on accepting only cash, preferably two-dollar bills — This interaction fits because of Charlie's old-school preference for two-dollar bills, which was a running joke in Scene 2. Additionally, his lack of understanding of modern payment methods aligns with his struggle with technology, as seen in Scene 3. This interaction would further emphasize his difficulty in adapting to the outside world.\n",
            "\n",
            "2. Charlie attempts to fix a lock using a rusty old tool, but ends up accidentally video calling Officer Gus on the shop's tablet. He then seeks Gus's advice on the lock problem while trying to figure out how to end the call — This interaction builds on Charlie's naivety with technology, which was highlighted in Scene 3 when he accidentally triggered a video call. This also deepens his relationship with Officer Gus, which was established in the same scene. This interaction showcases both Charlie's quirkiness and his struggle to adapt to modern technology.\n",
            "\n",
            "Agent's Internal Thoughts:\n",
            "- Think: Identified characters ['Charlie'] in Scene 4.\n",
            "- Act: Retrieved profiles for ['Charlie'].\n",
            "- Observe: Scene is consistent.\n",
            "- Recommend: Provided suggestions for enhancing character dynamics.\n"
          ]
        }
      ]
    },
    {
      "cell_type": "markdown",
      "source": [
        "### Comedy Agent"
      ],
      "metadata": {
        "id": "9jGq4PUYftR6"
      }
    },
    {
      "cell_type": "code",
      "source": [
        "comedic_agent = ComedicAgent(client=client, vector_metadata=vector_metadata)\n",
        "\n",
        "is_consistent, analysis_text, com_recommendations, thoughts = comedic_agent.run(\n",
        "    scene_description=scene_4_desc,\n",
        "    scene_number=4\n",
        ")\n",
        "\n",
        "print(\"Is Consistent:\", is_consistent)\n",
        "print(\"Analysis:\\n\", analysis_text)\n",
        "print(\"Recommendations:\\n\", com_recommendations)\n",
        "print(\"Internal Thoughts:\\n\", thoughts)"
      ],
      "metadata": {
        "colab": {
          "base_uri": "https://localhost:8080/"
        },
        "id": "5MiSLgNGdidC",
        "outputId": "c85a233a-afe5-4978-9095-d3660b0837b7"
      },
      "execution_count": null,
      "outputs": [
        {
          "output_type": "stream",
          "name": "stdout",
          "text": [
            "Is Consistent: True\n",
            "Analysis:\n",
            " 1. Detected Tone: Slapstick\n",
            "2. Consistency Verdict: Yes\n",
            "3. Short Explanation: The comedic tone in the new scene is consistent with the previous scenes. Charlie's misadventures with rusty tools and forgotten skills, as well as his interactions with oddball customers, continue to highlight his quirky and mischievous personality, similar to his previous encounters with modern technology and trends.\n",
            "4. Overuse Check: None\n",
            "5. Specific Suggestions if inconsistencies or overuse exist: N/A\n",
            "Recommendations:\n",
            " Interaction Recommendations:\n",
            "- [Suggestion 1] Charlie tries to pick a lock for a demonstration and confidently assures a customer it's an \"easy job\". However, his skills are so rusty that he ends up jamming the lock instead. The customer then casually pops it open with a hairpin, saying, \"Just like in the movies, huh?\" \n",
            "- [Suggestion 2] A running gag could be that every time Charlie finds an old tool, he gets overly excited and nostalgic. He starts to share the backstory of each tool, but the stories are absurdly mundane, like \"Ah, this is the screwdriver I used to open a can of pickles when I lost my can opener,\" or \"This is the pencil I used to mark down customer orders... before I realized pencils had erasers.\"\n",
            "- [Suggestion 3] Charlie's old locksmith shop could have an out-of-order vending machine that he constantly tries to fix. In one interaction, a customer gives him a quarter to try it out, but instead of getting a soda, a rusty old lock pops out. Charlie shrugs and says, \"Well, it's on-brand.\"\n",
            "- [Suggestion 4] Charlie could mistake a customer for his old partner due to a striking resemblance. He starts acting overly familiar and nostalgic, even giving him a bear hug. The customer is confused but plays along, leading to a series of misunderstandings. The running joke could be Charlie always mistaking people for someone from his past because of his poor eyesight.\n",
            "Internal Thoughts:\n",
            " ['Analyzed and verified comedic consistency for Scene 4.', 'Provided comedic enhancement suggestions.']\n"
          ]
        }
      ]
    },
    {
      "cell_type": "markdown",
      "source": [
        "### Enviroment Agent\n"
      ],
      "metadata": {
        "id": "VfaoW5xGgpsF"
      }
    },
    {
      "cell_type": "code",
      "source": [
        "environment_agent = EnvironmentReActAgent(\n",
        "    client=client,\n",
        "    vector_metadata=vector_metadata,  # your list of prior scene metadata\n",
        "    num_scenes=3\n",
        ")"
      ],
      "metadata": {
        "id": "hT4tXUNVfxoM"
      },
      "execution_count": null,
      "outputs": []
    },
    {
      "cell_type": "code",
      "source": [
        "environment_analysis, transition_check, environment_details_suggestions, env_thoughts = environment_agent.run(\n",
        "    scene_description=scene_4_desc,\n",
        "    scene_number=4\n",
        ")"
      ],
      "metadata": {
        "id": "UzN2eU2ddial"
      },
      "execution_count": null,
      "outputs": []
    },
    {
      "cell_type": "code",
      "source": [
        "print(environment_details_suggestions)"
      ],
      "metadata": {
        "colab": {
          "base_uri": "https://localhost:8080/"
        },
        "id": "T7TZsePndiWx",
        "outputId": "cf98c5b7-94a2-4b2a-8ba9-8f4475699c3c"
      },
      "execution_count": null,
      "outputs": [
        {
          "output_type": "stream",
          "name": "stdout",
          "text": [
            "Environment Details Suggestions:\n",
            "- Suggestion 1: The locksmith is working on a particularly stubborn lock when the characters enter. He grunts and mutters under his breath, trying to remember a trick he hasn't used in years. The tension builds until he finally throws his hands up and declares, \"Ah, got it!\" only to reveal he's simply decided to break the lock open.\n",
            "- Suggestion 2: An eccentric customer is seen in the background, trying to describe a very unusual key she needs duplicated. She uses wild gestures and strange, non-technical terms (\"It's kind of like a squiggly line with a bumpy bit at the end!\"). The locksmith looks bewildered, but is trying his best to understand and make the key.\n",
            "- Suggestion 3: The shop has a distinct smell of metal and oil. There's the constant sound of clinking tools and the occasional whirr of a machine. The air is filled with fine dust particles that catch the light, creating a \"snow globe\" effect.\n"
          ]
        }
      ]
    },
    {
      "cell_type": "markdown",
      "source": [
        "### Scene Planner Agent"
      ],
      "metadata": {
        "id": "X5R8wnYMhN1z"
      }
    },
    {
      "cell_type": "code",
      "source": [
        "scene_planner_agent = ScenePlannerAgent(client=client)\n",
        "\n",
        "scene_4_plan = scene_planner_agent.plan_next_scene_explicit(\n",
        "    character_recommendations=char_recommendations,\n",
        "    comedic_recommendations=com_recommendations,\n",
        "    environment_details_suggestions=environment_details_suggestions,\n",
        "    scene_number=4\n",
        ")"
      ],
      "metadata": {
        "id": "jlm50ArShIfb"
      },
      "execution_count": null,
      "outputs": []
    },
    {
      "cell_type": "code",
      "source": [
        "print(scene_4_plan)"
      ],
      "metadata": {
        "colab": {
          "base_uri": "https://localhost:8080/"
        },
        "id": "OVts3626ioxo",
        "outputId": "d7bedfe2-67a4-42af-c677-3a8fb11e3364"
      },
      "execution_count": null,
      "outputs": [
        {
          "output_type": "stream",
          "name": "stdout",
          "text": [
            "Scene Plan:\n",
            "Character Goals:\n",
            "- Charlie has a humorous exchange with a customer who wants to pay with a credit card, but Charlie insists on accepting only cash, preferably two-dollar bills.\n",
            "- Charlie attempts to fix a lock using a rusty old tool, but ends up accidentally video calling Officer Gus on the shop's tablet. He then seeks Gus's advice on the lock problem while trying to figure out how to end the call.\n",
            "\n",
            "Comedic Goal:\n",
            "- Charlie tries to pick a lock for a demonstration and confidently assures a customer it's an \"easy job\". However, his skills are so rusty that he ends up jamming the lock instead. The customer then casually pops it open with a hairpin, saying, \"Just like in the movies, huh?\"\n",
            "\n",
            "Environment Detail:\n",
            "- The shop has a distinct smell of metal and oil. There's the constant sound of clinking tools and the occasional whirr of a machine. The air is filled with fine dust particles that catch the light, creating a \"snow globe\" effect.\n",
            "\n",
            "Creative Suggestion:\n",
            "- As Charlie is trying to figure out how to end the video call with Officer Gus, the customer who paid with a hairpin comes back, saying they locked their keys in their car. Charlie, frustrated, hands them a two-dollar bill and tells them to go buy a hairpin. The customer is bewildered but agrees, leaving Charlie to his call with Gus. Gus, who has been watching the whole debacle, finally instructs Charlie on how to end the call. Once the call ends, Charlie looks around the quiet shop, sighs, and goes back to tinkering with a rusty lock. This will reinforce the comedic goal, character goals, and environment detail.\n"
          ]
        }
      ]
    },
    {
      "cell_type": "markdown",
      "source": [
        "### Generating Scene 4 Script"
      ],
      "metadata": {
        "id": "d-7NmcB9i5TD"
      }
    },
    {
      "cell_type": "code",
      "source": [
        "scene_4_script = generate_scene(\n",
        "    client=client,\n",
        "    scene_plan=scene_4_plan,\n",
        "    scene_number= 4\n",
        ")\n",
        "\n",
        "print(scene_4_script)"
      ],
      "metadata": {
        "colab": {
          "base_uri": "https://localhost:8080/"
        },
        "id": "Lpq3ac1_i04z",
        "outputId": "ac906764-221a-4fb3-9f2d-5e9d1d47a093"
      },
      "execution_count": null,
      "outputs": [
        {
          "output_type": "stream",
          "name": "stdout",
          "text": [
            "INT. CHARLIE'S LOCKSMITH SHOP - DAY\n",
            "\n",
            "We see CHARLIE, a charmingly gruff locksmith, haggling with a CUSTOMER who's trying to pay with a credit card.\n",
            "\n",
            "CUSTOMER\n",
            "(brandishing credit card)\n",
            "I really don't carry cash, Charlie.\n",
            "\n",
            "CHARLIE\n",
            "(skeptically)\n",
            "And I told ya, I only accept cash... preferably in two-dollar bills.\n",
            "\n",
            "CUSTOMER\n",
            "Who even has two-dollar bills these days?\n",
            "\n",
            "CHARLIE\n",
            "(winks)\n",
            "Keeps the business interesting.\n",
            "\n",
            "The customer shakes his head, amused, and leaves a cash tip on the counter. Charlie grins, then turns to a rusty lock on his workbench.\n",
            "\n",
            "CHARLIE\n",
            "(to himself)\n",
            "Easy job, this.\n",
            "\n",
            "He picks up a rusty tool and starts fiddling with the lock. Suddenly, the shop's tablet starts RINGING. Charlie accidentally answers the video call. It's OFFICER GUS.\n",
            "\n",
            "CHARLIE\n",
            "(startled)\n",
            "Gus! \n",
            "\n",
            "OFFICER GUS\n",
            "(squinting at screen)\n",
            "Charlie? You know this isn't a phone call, right? \n",
            "\n",
            "CHARLIE\n",
            "(panicking)\n",
            "I'm trying to end this call, Gus!\n",
            "\n",
            "Charlie continues to struggle with the tablet and the lock. Suddenly the Customer returns, looking sheepish.\n",
            "\n",
            "CUSTOMER\n",
            "I, uh, locked my keys in my car.\n",
            "\n",
            "Charlie, frustrated, digs into his pocket and hands the customer a two-dollar bill.\n",
            "\n",
            "CHARLIE\n",
            "(shaking head)\n",
            "Go buy a hairpin.\n",
            "\n",
            "CUSTOMER\n",
            "(bewildered)\n",
            "A hairpin?\n",
            "\n",
            "CHARLIE\n",
            "(nods)\n",
            "Just like in the movies, huh?\n",
            "\n",
            "The customer shrugs and leaves. Gus, who has been quietly watching, finally gives Charlie instructions to end the call.\n",
            "\n",
            "OFFICER GUS\n",
            "(smiling)\n",
            "Just hit the red button, Charlie.\n",
            "\n",
            "Charlie finally ends the call. He looks around the quiet shop, sighs, and goes back to the rusty lock on his workbench.\n",
            "\n",
            "FADE OUT.\n"
          ]
        }
      ]
    },
    {
      "cell_type": "markdown",
      "source": [
        "## Scene 5 Generation"
      ],
      "metadata": {
        "id": "ItrjexUZjHPx"
      }
    },
    {
      "cell_type": "code",
      "source": [
        "scene_5_desc = extract_scene(outline, 5)\n",
        "print(scene_5_desc)"
      ],
      "metadata": {
        "colab": {
          "base_uri": "https://localhost:8080/"
        },
        "id": "PFMmuKXii80n",
        "outputId": "7a2c9505-97a3-4c16-e04b-dd5dfdddc7d1"
      },
      "execution_count": null,
      "outputs": [
        {
          "output_type": "stream",
          "name": "stdout",
          "text": [
            "Scene 5: \"The Surprise Visit\" Gus unexpectedly drops by the shop, creating a funny scene as Charlie tries to hide the chaos of his struggling business.\n"
          ]
        }
      ]
    },
    {
      "cell_type": "markdown",
      "source": [
        "### Character Agent"
      ],
      "metadata": {
        "id": "f3BPmDELjVq8"
      }
    },
    {
      "cell_type": "code",
      "source": [
        "# Initialize the agent\n",
        "character_agent = CharacterAgent(\n",
        "    client=client,\n",
        "    vector_metadata=vector_metadata,\n",
        "    num_scenes=3\n",
        ")\n",
        "\n",
        "character_histories, is_consistent, explanation, char_recommendations, thoughts = character_agent.run(\n",
        "    scene_description=scene_5_desc,\n",
        "    scene_number=5\n",
        ")\n",
        "\n",
        "# Outputs\n",
        "print(f\"Scene {5} — Consistency: {'✅ Consistent' if is_consistent else '❌ Inconsistent'}\")\n",
        "print(\"\\nExplanation:\\n\", explanation)\n",
        "\n",
        "print(\"\\nInteraction Improvement Recommendations:\\n\", char_recommendations)\n",
        "\n",
        "print(\"\\nAgent's Internal Thoughts:\")\n",
        "for thought in thoughts:\n",
        "    print(\"-\", thought)\n"
      ],
      "metadata": {
        "colab": {
          "base_uri": "https://localhost:8080/"
        },
        "id": "FHImKv05jSem",
        "outputId": "36eb9173-a17d-4454-89c1-cb9933cb3bbb"
      },
      "execution_count": null,
      "outputs": [
        {
          "output_type": "stream",
          "name": "stdout",
          "text": [
            "Scene 5 — Consistency: ✅ Consistent\n",
            "\n",
            "Explanation:\n",
            " 1. Consistency Verdict: Yes\n",
            "2. Short Explanation Why: Gus's spontaneous visit aligns with his established personality trait of being spontaneous and perhaps a bit oblivious. Charlie's attempt to hide the chaos of his struggling business is consistent with his mischievous and quirky personality traits. The interaction between Gus and Charlie is logical based on their established relationship from the previous scenes. There are no contradictions identified based on past scenes.\n",
            "\n",
            "Interaction Improvement Recommendations:\n",
            " Interaction Recommendations:\n",
            "1. Charlie tries to pay Gus for his unexpected visit with a two-dollar bill, insisting it's a \"tip for the service.\" Gus, confused, ends up accepting the bill in a humorous exchange. This interaction fits because Charlie has a habit of using two-dollar bills for transactions, which was established in Scene 2 and 3, creating confusion for those on the receiving end. \n",
            "\n",
            "2. Charlie misinterprets Gus's visit as a tech support call and hands him the tablet he was struggling with in Scene 3. This could lead to a funny misunderstanding where Gus tries to clarify his intentions, and Charlie, in his naivety, keeps insisting Gus troubleshoot his tablet. This scenario builds on Charlie's struggle with modern technology as seen in Scene 3, and his obliviousness to Gus's real purpose for visiting.\n",
            "\n",
            "Agent's Internal Thoughts:\n",
            "- Think: Identified characters ['Gus', 'Charlie'] in Scene 5.\n",
            "- Act: Retrieved profiles for ['Gus', 'Charlie'].\n",
            "- Observe: Scene is consistent.\n",
            "- Recommend: Provided suggestions for enhancing character dynamics.\n"
          ]
        }
      ]
    },
    {
      "cell_type": "markdown",
      "source": [
        "### Comedy Agent"
      ],
      "metadata": {
        "id": "U62wKQeEjvCK"
      }
    },
    {
      "cell_type": "code",
      "source": [
        "comedic_agent = ComedicAgent(client=client, vector_metadata=vector_metadata)\n",
        "\n",
        "is_consistent, analysis_text, com_recommendations, thoughts = comedic_agent.run(\n",
        "    scene_description=scene_5_desc,\n",
        "    scene_number=5\n",
        ")\n",
        "\n",
        "print(\"Is Consistent:\", is_consistent)\n",
        "print(\"Analysis:\\n\", analysis_text)\n",
        "print(\"Recommendations:\\n\", com_recommendations)\n",
        "print(\"Internal Thoughts:\\n\", thoughts)"
      ],
      "metadata": {
        "colab": {
          "base_uri": "https://localhost:8080/"
        },
        "id": "h1tpW2Qpjubk",
        "outputId": "e4b5e77d-c786-44cc-833d-3e419a850def"
      },
      "execution_count": null,
      "outputs": [
        {
          "output_type": "stream",
          "name": "stdout",
          "text": [
            "Is Consistent: True\n",
            "Analysis:\n",
            " 1. Detected Tone: Slapstick\n",
            "2. Consistency Verdict: Yes\n",
            "3. Short Explanation: The comedic tone in the new scene is consistent with the previous scenes. The humor continues to stem from Charlie's quirky character and his interactions with the more serious and modern characters, such as Gus.\n",
            "4. Overuse Check: None\n",
            "5. Specific Suggestions if inconsistencies or overuse exist: N/A\n",
            "Recommendations:\n",
            " Interaction Recommendations:\n",
            "- [Suggestion 1] As Gus enters the shop, Charlie could quickly shove a pile of overdue bills under the counter, accidentally knocking over a display of merchandise. The domino effect creates a funny disaster as he tries to clean up while entertaining Gus.\n",
            "- [Suggestion 2] Charlie could pretend to converse with a non-existent customer on the phone to create the illusion of a bustling business. He could say things like, \"No, I'm sorry, we are fully booked for the next two weeks\" or \"Yes, our premium service is in high demand.\" He could even change his voice to pretend he's talking to a celebrity.\n",
            "- [Suggestion 3] Charlie could keep using business jargon out of context in his conversation with Gus to sound more impressive. This could be a running joke, with Charlie misunderstanding the terms he's using, leading to humorous miscommunications.\n",
            "- [Suggestion 4] In a last-ditch effort to impress Gus, Charlie could stage a fake \"Employee of the Month\" ceremony, awarding himself the title. He could make a heartfelt speech to an audience of mannequins dressed in work uniforms, leading to a funny and awkward moment.\n",
            "Internal Thoughts:\n",
            " ['Analyzed and verified comedic consistency for Scene 5.', 'Provided comedic enhancement suggestions.']\n"
          ]
        }
      ]
    },
    {
      "cell_type": "markdown",
      "source": [
        "### Enviroment Agent\n"
      ],
      "metadata": {
        "id": "KrjcVF_EmsEU"
      }
    },
    {
      "cell_type": "code",
      "source": [
        "environment_agent = EnvironmentReActAgent(\n",
        "    client=client,\n",
        "    vector_metadata=vector_metadata,  # your list of prior scene metadata\n",
        "    num_scenes=3\n",
        ")\n",
        "\n",
        "environment_analysis, transition_check, environment_details_suggestions, env_thoughts = environment_agent.run(\n",
        "    scene_description=scene_5_desc,\n",
        "    scene_number=5\n",
        ")\n",
        "\n",
        "print(environment_details_suggestions)"
      ],
      "metadata": {
        "colab": {
          "base_uri": "https://localhost:8080/"
        },
        "id": "ICkQ00Hejqyx",
        "outputId": "908c06b5-11b1-419e-ec18-df3f94d3cd7d"
      },
      "execution_count": null,
      "outputs": [
        {
          "output_type": "stream",
          "name": "stdout",
          "text": [
            "Environment Details Suggestions:\n",
            "- As Gus and Charlie are dealing with a struggling business, there could be a humorous sign in the background that says \"Buy 1, Get 10 Free!\" to emphasize their desperation to sell products.\n",
            "- The shop could feature a variety of odd, mismatched items (like a taxidermied raccoon, a broken disco ball, a half-eaten sandwich in a display case), highlighting the chaotic nature of their business.\n",
            "- The shop could have a distinct smell of mixed scents - old books, motor oil, and freshly baked cookies - again reinforcing the eclectic and chaotic inventory of the shop.\n"
          ]
        }
      ]
    },
    {
      "cell_type": "markdown",
      "source": [
        "### Scene Planner Agent"
      ],
      "metadata": {
        "id": "OA3-guYQmwKo"
      }
    },
    {
      "cell_type": "code",
      "source": [
        "scene_planner_agent = ScenePlannerAgent(client=client)\n",
        "\n",
        "scene_5_plan = scene_planner_agent.plan_next_scene_explicit(\n",
        "    character_recommendations=char_recommendations,\n",
        "    comedic_recommendations=com_recommendations,\n",
        "    environment_details_suggestions=environment_details_suggestions,\n",
        "    scene_number=5\n",
        ")\n",
        "\n",
        "print(scene_5_plan)"
      ],
      "metadata": {
        "colab": {
          "base_uri": "https://localhost:8080/"
        },
        "id": "axlPG5Bmjqvd",
        "outputId": "437d139c-5e09-4199-9774-c874b9ebc980"
      },
      "execution_count": null,
      "outputs": [
        {
          "output_type": "stream",
          "name": "stdout",
          "text": [
            "Scene Plan:\n",
            "Character Goals:\n",
            "- Charlie tries to pay Gus for his unexpected visit with a two-dollar bill, insisting it's a \"tip for the service.\" Gus, confused, ends up accepting the bill in a humorous exchange.\n",
            "- Charlie misinterprets Gus's visit as a tech support call and hands him the tablet he was struggling with in Scene 3.\n",
            "\n",
            "Comedic Goal:\n",
            "- Charlie could pretend to converse with a non-existent customer on the phone to create the illusion of a bustling business. He could say things like, \"No, I'm sorry, we are fully booked for the next two weeks\" or \"Yes, our premium service is in high demand.\" He could even change his voice to pretend he's talking to a celebrity.\n",
            "\n",
            "Environment Detail:\n",
            "- The shop could feature a variety of odd, mismatched items (like a taxidermied raccoon, a broken disco ball, a half-eaten sandwich in a display case), highlighting the chaotic nature of their business.\n",
            "\n",
            "Creative Suggestion:\n",
            "- As Gus tries to fix Charlie's tablet, a customer walks into the shop, attracted by the \"Buy 1, Get 10 Free!\" sign. She is amused by the odd items in the shop and intrigued by Charlie's phone conversation. Charlie, seeing the potential customer, quickly ends his phone call and rushes over to assist, leaving Gus alone with the troublesome tablet. As the scene ends, Charlie is enthusiastically showing the customer his bizarre inventory while Gus is in the background, still struggling with the tablet. This progression reinforces the character and comedic goals and also highlights the unique environment of the shop.\n"
          ]
        }
      ]
    },
    {
      "cell_type": "markdown",
      "source": [
        "### Generating Scene 5 Script"
      ],
      "metadata": {
        "id": "35ulfOk_nIas"
      }
    },
    {
      "cell_type": "code",
      "source": [
        "scene_5_script = generate_scene(\n",
        "    client=client,\n",
        "    scene_plan=scene_5_plan,\n",
        "    scene_number= 5\n",
        ")\n",
        "\n",
        "print(scene_5_script)"
      ],
      "metadata": {
        "colab": {
          "base_uri": "https://localhost:8080/"
        },
        "id": "qfi_382Kjqr_",
        "outputId": "83f0cd34-9975-440c-c5fe-adc20f84da40"
      },
      "execution_count": null,
      "outputs": [
        {
          "output_type": "stream",
          "name": "stdout",
          "text": [
            "INT. CHARLIE'S ODDITIES - DAY\n",
            "\n",
            "Charlie, a middle-aged man with an eccentric personality, is sitting behind the counter, struggling with a tablet. Gus, a slightly bewildered but patient man, walks into the shop.\n",
            "\n",
            "CHARLIE\n",
            "(Without looking up)\n",
            "Welcome to Charlie's Oddities, where the strange becomes familiar.\n",
            "\n",
            "Gus looks around at the bizarre items, his eyebrows raised.\n",
            "\n",
            "GUS\n",
            "I can see that...\n",
            "\n",
            "Charlie finally looks up, startled. He quickly reaches into his pocket, pulls out a two-dollar bill, and hands it to Gus.\n",
            "\n",
            "CHARLIE\n",
            "For your service. A tip, my good man.\n",
            "\n",
            "GUS\n",
            "(Confused)\n",
            "Charlie, I'm just here because you called...\n",
            "\n",
            "CHARLIE\n",
            "(Interrupting)\n",
            "And that's why I'm tipping you.\n",
            "\n",
            "Gus, bemused, takes the two-dollar bill. Charlie hands him the tablet.\n",
            "\n",
            "CHARLIE\n",
            "And while you're here, Gus, I've been wrestling with this gizmo since scene 3.\n",
            "\n",
            "Just then, Charlie's phone RINGS. He answers it with flair, speaking loudly enough for Gus and the whole shop to hear.\n",
            "\n",
            "CHARLIE\n",
            "(On the phone)\n",
            "Charlie's Oddities... Yes, yes. I understand, Mr. DiCaprio... Uh huh... Oh, I'm sorry, we are fully booked for the next two weeks...\n",
            "\n",
            "Gus rolls his eyes but starts working on the tablet.\n",
            "\n",
            "Suddenly, a CUSTOMER walks into the shop, attracted by the \"Buy 1, Get 10 Free!\" sign. She looks around, amused by the odd items and intrigued by Charlie's phone conversation.\n",
            "\n",
            "Charlie spots her out of the corner of his eye, quickly ends his call, and rushes over to her.\n",
            "\n",
            "CHARLIE\n",
            "(Putting the phone down)\n",
            "Well, the world of celebrities never rests. But a customer is a priority. How can I help you?\n",
            "\n",
            "The customer smiles, already entertained. Charlie leads her around the shop, showing her the bizarre inventory. Gus, in the background, is still struggling with the tablet, shaking his head at the chaos.\n",
            "\n",
            "FADE OUT.\n"
          ]
        }
      ]
    },
    {
      "cell_type": "markdown",
      "source": [
        "## Combining Scripts\n",
        "\n"
      ],
      "metadata": {
        "id": "lVQJkSBVneFY"
      }
    },
    {
      "cell_type": "code",
      "source": [
        "# List your scene scripts in order\n",
        "scene_scripts = [\n",
        "    scene_1_script,\n",
        "    scene_2_script,\n",
        "    scene_3_script,\n",
        "    scene_4_script,\n",
        "    scene_5_script\n",
        "]\n",
        "\n",
        "# Combine with optional scene headers\n",
        "full_episode_script = \"\\n\\n\".join([\n",
        "    f\"### Scene {i+1} ###\\n{script.strip()}\"\n",
        "    for i, script in enumerate(scene_scripts)\n",
        "])\n",
        "\n",
        "print(full_episode_script)"
      ],
      "metadata": {
        "colab": {
          "base_uri": "https://localhost:8080/"
        },
        "id": "llXvGlN2jqhi",
        "outputId": "dc541ae3-f11d-4805-e730-856ed122db83"
      },
      "execution_count": null,
      "outputs": [
        {
          "output_type": "stream",
          "name": "stdout",
          "text": [
            "### Scene 1 ###\n",
            "INT. OAKVILLE PRISON - DAY\n",
            "\n",
            "The scene opens with CHARLIE, a middle-aged man with an unkempt beard and a mischievous glint in his eyes, standing at a counter, GRUFF GUARD on the other side.\n",
            "\n",
            "CHARLIE\n",
            "(looking around)\n",
            "Well, it's been real, but I won't say I'll miss this place.\n",
            "\n",
            "GRUFF GUARD\n",
            "(rolling eyes)\n",
            "Just sign the release papers, Charlie.\n",
            "\n",
            "Charlie signs with flourish. He then extends his hand eagerly towards a bag with his belongings.\n",
            "\n",
            "CHARLIE\n",
            "(looking at the bag)\n",
            "I've been waiting for this moment.\n",
            "\n",
            "GRUFF GUARD\n",
            "(pushes the bag to Charlie)\n",
            "Don't get too excited. It's just your old junk.\n",
            "\n",
            "Charlie opens the bag with anticipation, then looks puzzled.\n",
            "\n",
            "CHARLIE\n",
            "(confused)\n",
            "Uh, these aren't mine. \n",
            "\n",
            "He holds up a lacy black bra and a pair of pink fluffy handcuffs. \n",
            "\n",
            "[LAUGH TRACK]\n",
            "\n",
            "GRUFF GUARD\n",
            "(surprised, checks the bag)\n",
            "Oh, my bad. This is from cell block D.\n",
            "\n",
            "Charlie hands the bag back, trying not to laugh.\n",
            "\n",
            "CHARLIE\n",
            "(smirking)\n",
            "Not my style, but I appreciate the thought.\n",
            "\n",
            "[LAUGH TRACK]\n",
            "\n",
            "Gruff Guard hands him another bag. Charlie pulls out a rubber chicken, a clown nose, and a harmonica.\n",
            "\n",
            "CHARLIE\n",
            "(raising an eyebrow)\n",
            "Now, this is more like it.\n",
            "\n",
            "[LAUGH TRACK]\n",
            "\n",
            "GRUFF GUARD\n",
            "(sighs)\n",
            "Only you Charlie, only you.\n",
            "\n",
            "Charlie puts on the clown nose, squeaks it, and gives a mischievous smile as he walks away.\n",
            "\n",
            "CHARLIE\n",
            "(laughs)\n",
            "See ya, wouldn't want to be ya!\n",
            "\n",
            "[LAUGH TRACK]\n",
            "\n",
            "GRUFF GUARD\n",
            "(shakes head)\n",
            "Good riddance, Charlie.\n",
            "\n",
            "Charlie exits, clown nose on, harmonica playing, rubber chicken under his arm.\n",
            "\n",
            "FADE OUT.\n",
            "\n",
            "[END SCENE]\n",
            "\n",
            "### Scene 2 ###\n",
            "INT. MODERN COFFEE SHOP - MORNING\n",
            "\n",
            "CHARLIE (70s, old school, always seen with a rubber chicken and clown nose in his pockets) approaches the counter and places his order.\n",
            "\n",
            "CHARLIE\n",
            "(eyeing the menu)\n",
            "I’ll have a regular coffee. How much is that?\n",
            "\n",
            "BARISTA (20s, hipster)\n",
            "That’s $5, sir. \n",
            "\n",
            "Charlie hands over a two-dollar bill. The Barista looks at it, confused. \n",
            "\n",
            "BARISTA (CONT’D)\n",
            "Is this some kind of joke?\n",
            "\n",
            "CHARLIE\n",
            "(smiling)\n",
            "No, it's a two-dollar bill. It's legal tender, son.\n",
            "\n",
            "Barista shakes his head, amused.\n",
            "\n",
            "CUT TO:\n",
            "\n",
            "EXT. COFFEE SHOP - DAY\n",
            "\n",
            "Charlie walks out of the coffee shop and bumps into a TECH SAVVY YOUTH (early 20s). \n",
            "\n",
            "TECH SAVVY YOUTH\n",
            "(surprised, looking at his smartphone)\n",
            "Dude! You just started a Facebook live stream!\n",
            "\n",
            "Charlie looks at the smartphone, bewildered.\n",
            "\n",
            "CHARLIE\n",
            "What's a Facebook?\n",
            "\n",
            "TECH SAVVY YOUTH\n",
            "(laughs)\n",
            "You're joking, right?\n",
            "\n",
            "CHARLIE\n",
            "No, seriously. What's a Facebook?\n",
            "\n",
            "They walk past a trendy boutique with outrageous fashion styles displayed.\n",
            "\n",
            "CHARLIE (CONT’D)\n",
            "(pointing at a neon mankini in the window)\n",
            "And what in the world is that?\n",
            "\n",
            "TECH SAVVY YOUTH\n",
            "(laughs)\n",
            "That's fashion, dude!\n",
            "\n",
            "CHARLIE\n",
            "(squints at the price tag)\n",
            "And it costs $200? For that little piece of cloth?\n",
            "\n",
            "TECH SAVVY YOUTH\n",
            "(laughs)\n",
            "Welcome to the modern world, old man!\n",
            "\n",
            "Charlie shakes his head, baffled, and continues his critique of the city, unaware of his global audience on the live stream.\n",
            "\n",
            "CUT TO:\n",
            "\n",
            "EXT. FARMERS MARKET - DAY\n",
            "\n",
            "Charlie, still baffled by the high prices, tries to barter with a VENDOR using his two-dollar bill. The Vendor looks at him like he's an alien. \n",
            "\n",
            "Meanwhile, the Tech Savvy Youth tries to explain online payments to Charlie, leading to more hilarity and confusion.\n",
            "\n",
            "FADE OUT.\n",
            "\n",
            "### Scene 3 ###\n",
            "INT. PAROLE OFFICE - DAY\n",
            "\n",
            "Officer GUS, a grizzled veteran with a soft spot for tech gadgets, is playing with a rubber band ball and scrolling through his tablet. CHARLIE, a naive ex-con with a heart of gold, ambles in, his eyes wide at the sight of the office.\n",
            "\n",
            "GUS\n",
            "(innocently)\n",
            "Take a seat, Charlie.\n",
            "\n",
            "Charlie beams, bends down, and starts to lift the chair.\n",
            "\n",
            "GUS\n",
            "(surprised)\n",
            "What the...? No, Charlie! I meant sit down!\n",
            "\n",
            "Charlie laughs sheepishly and sits down. Gus places his tablet in front of Charlie, who eyes it as if it's an alien object.\n",
            "\n",
            "GUS\n",
            "(excited)\n",
            "This, Charlie, is a tablet. It's like a portable computer.\n",
            "\n",
            "Charlie nods slowly, his eyes never leaving the tablet. He reaches out and accidentally triggers a video call. Suddenly, a WOMAN appears on screen.\n",
            "\n",
            "WOMAN\n",
            "(cheerily)\n",
            "Oh hi, Gus! Who's your friend?\n",
            "\n",
            "Gus sighs, grabbing the tablet and ending the call swiftly.\n",
            "\n",
            "GUS\n",
            "(flustered)\n",
            "That was... never mind. You need to be careful, Charlie.\n",
            "\n",
            "Charlie, still a little dazed, pulls out a two-dollar bill from his pocket.\n",
            "\n",
            "CHARLIE\n",
            "(enthusiastically)\n",
            "Here, Gus, for your troubles.\n",
            "\n",
            "Gus laughs, shaking his head.\n",
            "\n",
            "GUS\n",
            "(disbelieving)\n",
            "No, Charlie, you don't have to pay me. \n",
            "\n",
            "Charlie insists, trying to stuff the bill into Gus's hand. Meanwhile, his eyes wander to the rubber band ball.\n",
            "\n",
            "CHARLIE\n",
            "(distracted)\n",
            "Can I have one of these?\n",
            "\n",
            "GUS\n",
            "(laughing)\n",
            "No, Charlie. These are confiscated items. Remember the time you tried to steal that gumball machine?\n",
            "\n",
            "Charlie smiles sheepishly, remembering, as Gus rolls his eyes fondly, shaking his head.\n",
            "\n",
            "FADE OUT.\n",
            "\n",
            "### Scene 4 ###\n",
            "INT. CHARLIE'S LOCKSMITH SHOP - DAY\n",
            "\n",
            "We see CHARLIE, a charmingly gruff locksmith, haggling with a CUSTOMER who's trying to pay with a credit card.\n",
            "\n",
            "CUSTOMER\n",
            "(brandishing credit card)\n",
            "I really don't carry cash, Charlie.\n",
            "\n",
            "CHARLIE\n",
            "(skeptically)\n",
            "And I told ya, I only accept cash... preferably in two-dollar bills.\n",
            "\n",
            "CUSTOMER\n",
            "Who even has two-dollar bills these days?\n",
            "\n",
            "CHARLIE\n",
            "(winks)\n",
            "Keeps the business interesting.\n",
            "\n",
            "The customer shakes his head, amused, and leaves a cash tip on the counter. Charlie grins, then turns to a rusty lock on his workbench.\n",
            "\n",
            "CHARLIE\n",
            "(to himself)\n",
            "Easy job, this.\n",
            "\n",
            "He picks up a rusty tool and starts fiddling with the lock. Suddenly, the shop's tablet starts RINGING. Charlie accidentally answers the video call. It's OFFICER GUS.\n",
            "\n",
            "CHARLIE\n",
            "(startled)\n",
            "Gus! \n",
            "\n",
            "OFFICER GUS\n",
            "(squinting at screen)\n",
            "Charlie? You know this isn't a phone call, right? \n",
            "\n",
            "CHARLIE\n",
            "(panicking)\n",
            "I'm trying to end this call, Gus!\n",
            "\n",
            "Charlie continues to struggle with the tablet and the lock. Suddenly the Customer returns, looking sheepish.\n",
            "\n",
            "CUSTOMER\n",
            "I, uh, locked my keys in my car.\n",
            "\n",
            "Charlie, frustrated, digs into his pocket and hands the customer a two-dollar bill.\n",
            "\n",
            "CHARLIE\n",
            "(shaking head)\n",
            "Go buy a hairpin.\n",
            "\n",
            "CUSTOMER\n",
            "(bewildered)\n",
            "A hairpin?\n",
            "\n",
            "CHARLIE\n",
            "(nods)\n",
            "Just like in the movies, huh?\n",
            "\n",
            "The customer shrugs and leaves. Gus, who has been quietly watching, finally gives Charlie instructions to end the call.\n",
            "\n",
            "OFFICER GUS\n",
            "(smiling)\n",
            "Just hit the red button, Charlie.\n",
            "\n",
            "Charlie finally ends the call. He looks around the quiet shop, sighs, and goes back to the rusty lock on his workbench.\n",
            "\n",
            "FADE OUT.\n",
            "\n",
            "### Scene 5 ###\n",
            "INT. CHARLIE'S ODDITIES - DAY\n",
            "\n",
            "Charlie, a middle-aged man with an eccentric personality, is sitting behind the counter, struggling with a tablet. Gus, a slightly bewildered but patient man, walks into the shop.\n",
            "\n",
            "CHARLIE\n",
            "(Without looking up)\n",
            "Welcome to Charlie's Oddities, where the strange becomes familiar.\n",
            "\n",
            "Gus looks around at the bizarre items, his eyebrows raised.\n",
            "\n",
            "GUS\n",
            "I can see that...\n",
            "\n",
            "Charlie finally looks up, startled. He quickly reaches into his pocket, pulls out a two-dollar bill, and hands it to Gus.\n",
            "\n",
            "CHARLIE\n",
            "For your service. A tip, my good man.\n",
            "\n",
            "GUS\n",
            "(Confused)\n",
            "Charlie, I'm just here because you called...\n",
            "\n",
            "CHARLIE\n",
            "(Interrupting)\n",
            "And that's why I'm tipping you.\n",
            "\n",
            "Gus, bemused, takes the two-dollar bill. Charlie hands him the tablet.\n",
            "\n",
            "CHARLIE\n",
            "And while you're here, Gus, I've been wrestling with this gizmo since scene 3.\n",
            "\n",
            "Just then, Charlie's phone RINGS. He answers it with flair, speaking loudly enough for Gus and the whole shop to hear.\n",
            "\n",
            "CHARLIE\n",
            "(On the phone)\n",
            "Charlie's Oddities... Yes, yes. I understand, Mr. DiCaprio... Uh huh... Oh, I'm sorry, we are fully booked for the next two weeks...\n",
            "\n",
            "Gus rolls his eyes but starts working on the tablet.\n",
            "\n",
            "Suddenly, a CUSTOMER walks into the shop, attracted by the \"Buy 1, Get 10 Free!\" sign. She looks around, amused by the odd items and intrigued by Charlie's phone conversation.\n",
            "\n",
            "Charlie spots her out of the corner of his eye, quickly ends his call, and rushes over to her.\n",
            "\n",
            "CHARLIE\n",
            "(Putting the phone down)\n",
            "Well, the world of celebrities never rests. But a customer is a priority. How can I help you?\n",
            "\n",
            "The customer smiles, already entertained. Charlie leads her around the shop, showing her the bizarre inventory. Gus, in the background, is still struggling with the tablet, shaking his head at the chaos.\n",
            "\n",
            "FADE OUT.\n"
          ]
        }
      ]
    },
    {
      "cell_type": "code",
      "source": [],
      "metadata": {
        "id": "HX-W-qU6jZTq"
      },
      "execution_count": null,
      "outputs": []
    },
    {
      "cell_type": "code",
      "source": [],
      "metadata": {
        "id": "YXcVKO4MoRfJ"
      },
      "execution_count": null,
      "outputs": []
    }
  ]
}