{
  "nbformat": 4,
  "nbformat_minor": 0,
  "metadata": {
    "colab": {
      "provenance": []
    },
    "kernelspec": {
      "name": "python3",
      "display_name": "Python 3"
    },
    "language_info": {
      "name": "python"
    }
  },
  "cells": [
    {
      "cell_type": "markdown",
      "source": [
        "# Lights, Camera, ReAction\n",
        "\n",
        "\n",
        "**ADD HOW INFO IS STORED IN META DATA**\n",
        "\n",
        "This notebook builds a full **sitcom script generation pipeline** powered by **ReAct-based agents** — a powerful framework that combines **reasoning** (thinking through a problem) with **acting** (taking structured steps).\n",
        "\n",
        "We start by **generating a sitcom concept** from creative keywords, then **outlining** the pilot episode scene-by-scene.  \n",
        "**Scene 1** is generated directly from the outline to establish the world and tone.  \n",
        "After that, each new scene is **scripted, reviewed, and improved** using specialized **ReAct agents** — a **Character Agent**, **Comedy Agent**, and **Environment Agent** — that simulate a real sitcom writers' room.\n",
        "\n",
        "---\n",
        "\n",
        " **Benefits of using ReAct agents**:\n",
        "\n",
        "- **More structured and transparent thinking:** Agents reason step-by-step before making edits.\n",
        "- **Dynamic adaptation:** Agents flexibly plan the next creative moves based on scene history.\n",
        "- **Better long-term coherence:** Scenes evolve logically, with tracked character growth, running jokes, emotional arcs, and worldbuilding.\n",
        "\n",
        "---\n",
        "\n",
        "After generation, each scene is **summarized and stored in a vector database**, enabling fast retrieval of scene metadata for future story planning.  \n",
        "By combining **structured agent workflows** and **retrieval-augmented memory**, we bring sitcom worlds to life — one coherent, character-driven scene at a time.\n"
      ],
      "metadata": {
        "id": "Si2nsv2ClE1h"
      }
    },
    {
      "cell_type": "code",
      "execution_count": 1,
      "metadata": {
        "id": "LuoY6uscnEfB",
        "colab": {
          "base_uri": "https://localhost:8080/"
        },
        "outputId": "958a7ba3-1132-468e-c7b2-859d232e47ba"
      },
      "outputs": [
        {
          "output_type": "stream",
          "name": "stdout",
          "text": [
            "Requirement already satisfied: datasets in /usr/local/lib/python3.11/dist-packages (3.5.1)\n",
            "Requirement already satisfied: filelock in /usr/local/lib/python3.11/dist-packages (from datasets) (3.18.0)\n",
            "Requirement already satisfied: numpy>=1.17 in /usr/local/lib/python3.11/dist-packages (from datasets) (2.0.2)\n",
            "Requirement already satisfied: pyarrow>=15.0.0 in /usr/local/lib/python3.11/dist-packages (from datasets) (18.1.0)\n",
            "Requirement already satisfied: dill<0.3.9,>=0.3.0 in /usr/local/lib/python3.11/dist-packages (from datasets) (0.3.8)\n",
            "Requirement already satisfied: pandas in /usr/local/lib/python3.11/dist-packages (from datasets) (2.2.2)\n",
            "Requirement already satisfied: requests>=2.32.2 in /usr/local/lib/python3.11/dist-packages (from datasets) (2.32.3)\n",
            "Requirement already satisfied: tqdm>=4.66.3 in /usr/local/lib/python3.11/dist-packages (from datasets) (4.67.1)\n",
            "Requirement already satisfied: xxhash in /usr/local/lib/python3.11/dist-packages (from datasets) (3.5.0)\n",
            "Requirement already satisfied: multiprocess<0.70.17 in /usr/local/lib/python3.11/dist-packages (from datasets) (0.70.16)\n",
            "Requirement already satisfied: fsspec<=2025.3.0,>=2023.1.0 in /usr/local/lib/python3.11/dist-packages (from fsspec[http]<=2025.3.0,>=2023.1.0->datasets) (2025.3.0)\n",
            "Requirement already satisfied: aiohttp in /usr/local/lib/python3.11/dist-packages (from datasets) (3.11.15)\n",
            "Requirement already satisfied: huggingface-hub>=0.24.0 in /usr/local/lib/python3.11/dist-packages (from datasets) (0.30.2)\n",
            "Requirement already satisfied: packaging in /usr/local/lib/python3.11/dist-packages (from datasets) (24.2)\n",
            "Requirement already satisfied: pyyaml>=5.1 in /usr/local/lib/python3.11/dist-packages (from datasets) (6.0.2)\n",
            "Requirement already satisfied: aiohappyeyeballs>=2.3.0 in /usr/local/lib/python3.11/dist-packages (from aiohttp->datasets) (2.6.1)\n",
            "Requirement already satisfied: aiosignal>=1.1.2 in /usr/local/lib/python3.11/dist-packages (from aiohttp->datasets) (1.3.2)\n",
            "Requirement already satisfied: attrs>=17.3.0 in /usr/local/lib/python3.11/dist-packages (from aiohttp->datasets) (25.3.0)\n",
            "Requirement already satisfied: frozenlist>=1.1.1 in /usr/local/lib/python3.11/dist-packages (from aiohttp->datasets) (1.6.0)\n",
            "Requirement already satisfied: multidict<7.0,>=4.5 in /usr/local/lib/python3.11/dist-packages (from aiohttp->datasets) (6.4.3)\n",
            "Requirement already satisfied: propcache>=0.2.0 in /usr/local/lib/python3.11/dist-packages (from aiohttp->datasets) (0.3.1)\n",
            "Requirement already satisfied: yarl<2.0,>=1.17.0 in /usr/local/lib/python3.11/dist-packages (from aiohttp->datasets) (1.20.0)\n",
            "Requirement already satisfied: typing-extensions>=3.7.4.3 in /usr/local/lib/python3.11/dist-packages (from huggingface-hub>=0.24.0->datasets) (4.13.2)\n",
            "Requirement already satisfied: charset-normalizer<4,>=2 in /usr/local/lib/python3.11/dist-packages (from requests>=2.32.2->datasets) (3.4.1)\n",
            "Requirement already satisfied: idna<4,>=2.5 in /usr/local/lib/python3.11/dist-packages (from requests>=2.32.2->datasets) (3.10)\n",
            "Requirement already satisfied: urllib3<3,>=1.21.1 in /usr/local/lib/python3.11/dist-packages (from requests>=2.32.2->datasets) (2.4.0)\n",
            "Requirement already satisfied: certifi>=2017.4.17 in /usr/local/lib/python3.11/dist-packages (from requests>=2.32.2->datasets) (2025.4.26)\n",
            "Requirement already satisfied: python-dateutil>=2.8.2 in /usr/local/lib/python3.11/dist-packages (from pandas->datasets) (2.9.0.post0)\n",
            "Requirement already satisfied: pytz>=2020.1 in /usr/local/lib/python3.11/dist-packages (from pandas->datasets) (2025.2)\n",
            "Requirement already satisfied: tzdata>=2022.7 in /usr/local/lib/python3.11/dist-packages (from pandas->datasets) (2025.2)\n",
            "Requirement already satisfied: six>=1.5 in /usr/local/lib/python3.11/dist-packages (from python-dateutil>=2.8.2->pandas->datasets) (1.17.0)\n",
            "Requirement already satisfied: sentence-transformers in /usr/local/lib/python3.11/dist-packages (3.4.1)\n",
            "Requirement already satisfied: faiss-cpu in /usr/local/lib/python3.11/dist-packages (1.11.0)\n",
            "Requirement already satisfied: transformers<5.0.0,>=4.41.0 in /usr/local/lib/python3.11/dist-packages (from sentence-transformers) (4.51.3)\n",
            "Requirement already satisfied: tqdm in /usr/local/lib/python3.11/dist-packages (from sentence-transformers) (4.67.1)\n",
            "Requirement already satisfied: torch>=1.11.0 in /usr/local/lib/python3.11/dist-packages (from sentence-transformers) (2.6.0+cu124)\n",
            "Requirement already satisfied: scikit-learn in /usr/local/lib/python3.11/dist-packages (from sentence-transformers) (1.6.1)\n",
            "Requirement already satisfied: scipy in /usr/local/lib/python3.11/dist-packages (from sentence-transformers) (1.15.2)\n",
            "Requirement already satisfied: huggingface-hub>=0.20.0 in /usr/local/lib/python3.11/dist-packages (from sentence-transformers) (0.30.2)\n",
            "Requirement already satisfied: Pillow in /usr/local/lib/python3.11/dist-packages (from sentence-transformers) (11.2.1)\n",
            "Requirement already satisfied: numpy<3.0,>=1.25.0 in /usr/local/lib/python3.11/dist-packages (from faiss-cpu) (2.0.2)\n",
            "Requirement already satisfied: packaging in /usr/local/lib/python3.11/dist-packages (from faiss-cpu) (24.2)\n",
            "Requirement already satisfied: filelock in /usr/local/lib/python3.11/dist-packages (from huggingface-hub>=0.20.0->sentence-transformers) (3.18.0)\n",
            "Requirement already satisfied: fsspec>=2023.5.0 in /usr/local/lib/python3.11/dist-packages (from huggingface-hub>=0.20.0->sentence-transformers) (2025.3.0)\n",
            "Requirement already satisfied: pyyaml>=5.1 in /usr/local/lib/python3.11/dist-packages (from huggingface-hub>=0.20.0->sentence-transformers) (6.0.2)\n",
            "Requirement already satisfied: requests in /usr/local/lib/python3.11/dist-packages (from huggingface-hub>=0.20.0->sentence-transformers) (2.32.3)\n",
            "Requirement already satisfied: typing-extensions>=3.7.4.3 in /usr/local/lib/python3.11/dist-packages (from huggingface-hub>=0.20.0->sentence-transformers) (4.13.2)\n",
            "Requirement already satisfied: networkx in /usr/local/lib/python3.11/dist-packages (from torch>=1.11.0->sentence-transformers) (3.4.2)\n",
            "Requirement already satisfied: jinja2 in /usr/local/lib/python3.11/dist-packages (from torch>=1.11.0->sentence-transformers) (3.1.6)\n",
            "Requirement already satisfied: nvidia-cuda-nvrtc-cu12==12.4.127 in /usr/local/lib/python3.11/dist-packages (from torch>=1.11.0->sentence-transformers) (12.4.127)\n",
            "Requirement already satisfied: nvidia-cuda-runtime-cu12==12.4.127 in /usr/local/lib/python3.11/dist-packages (from torch>=1.11.0->sentence-transformers) (12.4.127)\n",
            "Requirement already satisfied: nvidia-cuda-cupti-cu12==12.4.127 in /usr/local/lib/python3.11/dist-packages (from torch>=1.11.0->sentence-transformers) (12.4.127)\n",
            "Requirement already satisfied: nvidia-cudnn-cu12==9.1.0.70 in /usr/local/lib/python3.11/dist-packages (from torch>=1.11.0->sentence-transformers) (9.1.0.70)\n",
            "Requirement already satisfied: nvidia-cublas-cu12==12.4.5.8 in /usr/local/lib/python3.11/dist-packages (from torch>=1.11.0->sentence-transformers) (12.4.5.8)\n",
            "Requirement already satisfied: nvidia-cufft-cu12==11.2.1.3 in /usr/local/lib/python3.11/dist-packages (from torch>=1.11.0->sentence-transformers) (11.2.1.3)\n",
            "Requirement already satisfied: nvidia-curand-cu12==10.3.5.147 in /usr/local/lib/python3.11/dist-packages (from torch>=1.11.0->sentence-transformers) (10.3.5.147)\n",
            "Requirement already satisfied: nvidia-cusolver-cu12==11.6.1.9 in /usr/local/lib/python3.11/dist-packages (from torch>=1.11.0->sentence-transformers) (11.6.1.9)\n",
            "Requirement already satisfied: nvidia-cusparse-cu12==12.3.1.170 in /usr/local/lib/python3.11/dist-packages (from torch>=1.11.0->sentence-transformers) (12.3.1.170)\n",
            "Requirement already satisfied: nvidia-cusparselt-cu12==0.6.2 in /usr/local/lib/python3.11/dist-packages (from torch>=1.11.0->sentence-transformers) (0.6.2)\n",
            "Requirement already satisfied: nvidia-nccl-cu12==2.21.5 in /usr/local/lib/python3.11/dist-packages (from torch>=1.11.0->sentence-transformers) (2.21.5)\n",
            "Requirement already satisfied: nvidia-nvtx-cu12==12.4.127 in /usr/local/lib/python3.11/dist-packages (from torch>=1.11.0->sentence-transformers) (12.4.127)\n",
            "Requirement already satisfied: nvidia-nvjitlink-cu12==12.4.127 in /usr/local/lib/python3.11/dist-packages (from torch>=1.11.0->sentence-transformers) (12.4.127)\n",
            "Requirement already satisfied: triton==3.2.0 in /usr/local/lib/python3.11/dist-packages (from torch>=1.11.0->sentence-transformers) (3.2.0)\n",
            "Requirement already satisfied: sympy==1.13.1 in /usr/local/lib/python3.11/dist-packages (from torch>=1.11.0->sentence-transformers) (1.13.1)\n",
            "Requirement already satisfied: mpmath<1.4,>=1.1.0 in /usr/local/lib/python3.11/dist-packages (from sympy==1.13.1->torch>=1.11.0->sentence-transformers) (1.3.0)\n",
            "Requirement already satisfied: regex!=2019.12.17 in /usr/local/lib/python3.11/dist-packages (from transformers<5.0.0,>=4.41.0->sentence-transformers) (2024.11.6)\n",
            "Requirement already satisfied: tokenizers<0.22,>=0.21 in /usr/local/lib/python3.11/dist-packages (from transformers<5.0.0,>=4.41.0->sentence-transformers) (0.21.1)\n",
            "Requirement already satisfied: safetensors>=0.4.3 in /usr/local/lib/python3.11/dist-packages (from transformers<5.0.0,>=4.41.0->sentence-transformers) (0.5.3)\n",
            "Requirement already satisfied: joblib>=1.2.0 in /usr/local/lib/python3.11/dist-packages (from scikit-learn->sentence-transformers) (1.4.2)\n",
            "Requirement already satisfied: threadpoolctl>=3.1.0 in /usr/local/lib/python3.11/dist-packages (from scikit-learn->sentence-transformers) (3.6.0)\n",
            "Requirement already satisfied: MarkupSafe>=2.0 in /usr/local/lib/python3.11/dist-packages (from jinja2->torch>=1.11.0->sentence-transformers) (3.0.2)\n",
            "Requirement already satisfied: charset-normalizer<4,>=2 in /usr/local/lib/python3.11/dist-packages (from requests->huggingface-hub>=0.20.0->sentence-transformers) (3.4.1)\n",
            "Requirement already satisfied: idna<4,>=2.5 in /usr/local/lib/python3.11/dist-packages (from requests->huggingface-hub>=0.20.0->sentence-transformers) (3.10)\n",
            "Requirement already satisfied: urllib3<3,>=1.21.1 in /usr/local/lib/python3.11/dist-packages (from requests->huggingface-hub>=0.20.0->sentence-transformers) (2.4.0)\n",
            "Requirement already satisfied: certifi>=2017.4.17 in /usr/local/lib/python3.11/dist-packages (from requests->huggingface-hub>=0.20.0->sentence-transformers) (2025.4.26)\n"
          ]
        }
      ],
      "source": [
        "!pip install datasets\n",
        "!pip install sentence-transformers faiss-cpu"
      ]
    },
    {
      "cell_type": "markdown",
      "source": [
        "### Mounting Drive and Appending System"
      ],
      "metadata": {
        "id": "ofEhivTyplTz"
      }
    },
    {
      "cell_type": "code",
      "source": [
        "from google.colab import drive\n",
        "import sys\n",
        "\n",
        "drive.mount('/content/drive')\n",
        "sys.path.append(\"/content/drive/MyDrive/Spring 2025/Gen AI with LLM/Project/utils\")\n"
      ],
      "metadata": {
        "colab": {
          "base_uri": "https://localhost:8080/"
        },
        "id": "j251JmmEogd5",
        "outputId": "9aeaf766-6978-4485-f731-7bfe93733203"
      },
      "execution_count": 8,
      "outputs": [
        {
          "output_type": "stream",
          "name": "stdout",
          "text": [
            "Drive already mounted at /content/drive; to attempt to forcibly remount, call drive.mount(\"/content/drive\", force_remount=True).\n"
          ]
        }
      ]
    },
    {
      "cell_type": "code",
      "source": [
        "# TO DELETE\n",
        "\n",
        "!ls \"/content/drive/MyDrive/Spring 2025/Gen AI with LLM/Project/utils\"\n"
      ],
      "metadata": {
        "colab": {
          "base_uri": "https://localhost:8080/"
        },
        "id": "jqZoviZnFBDS",
        "outputId": "bb5c8522-420c-4edb-feb4-968d8bdeadcc"
      },
      "execution_count": 9,
      "outputs": [
        {
          "output_type": "stream",
          "name": "stdout",
          "text": [
            "agents\t\t       __pycache__\t  script_review.py  vector_db_utils.py\n",
            "outline_generation.py  screen_writing.py  text_utils.py\n"
          ]
        }
      ]
    },
    {
      "cell_type": "code",
      "source": [],
      "metadata": {
        "id": "uPSEANSTDSzl"
      },
      "execution_count": 9,
      "outputs": []
    },
    {
      "cell_type": "code",
      "source": [
        "from agents.character_agent import CharacterAgent\n",
        "from agents.comedy_agent import ComedicAgent\n",
        "from agents.environment_agents import EnvironmentReActAgent\n",
        "from agents.scene_planner_agent import ScenePlannerAgent\n",
        "\n",
        "from text_utils import (\n",
        "    display_markdown_output,\n",
        "    extract_scene,\n",
        "    extract_title,\n",
        ")\n",
        "\n",
        "from outline_generation import (\n",
        "    generate_sitcom_pitch,\n",
        "    generate_pilot_episode_outline\n",
        ")\n",
        "\n",
        "from script_review import (\n",
        "    validate_episode_outline,\n",
        ")\n",
        "\n",
        "from screen_writing import (\n",
        "    generate_scene_1_script,\n",
        "    generate_scene\n",
        ")\n",
        "\n",
        "from vector_db_utils import (\n",
        "    summarize_scene,\n",
        "    add_scene_to_vector_db\n",
        ")"
      ],
      "metadata": {
        "id": "aiTHmw_gpBmq"
      },
      "execution_count": 10,
      "outputs": []
    },
    {
      "cell_type": "code",
      "source": [
        "import numpy as np\n",
        "import openai\n",
        "from openai import OpenAI\n",
        "from IPython.display import Markdown, display\n",
        "import re\n",
        "import time\n",
        "from datetime import timedelta\n",
        "from google.colab import userdata\n",
        "import os\n",
        "from sentence_transformers import SentenceTransformer\n",
        "import faiss"
      ],
      "metadata": {
        "id": "-mhv4xoTpBgr"
      },
      "execution_count": 11,
      "outputs": []
    },
    {
      "cell_type": "code",
      "source": [
        "from google.colab import userdata\n",
        "import os\n",
        "\n",
        "api_key = userdata.get('OPENAI_API_KEY')\n",
        "client = OpenAI(api_key=api_key)"
      ],
      "metadata": {
        "id": "hbLOMS0bpr5r"
      },
      "execution_count": 12,
      "outputs": []
    },
    {
      "cell_type": "markdown",
      "source": [
        "### Vector Database\n",
        "\n",
        "This block initializes the sentence embedding model and sets up a FAISS index to store vector representations of scenes. The `all-MiniLM-L6-v2` model encodes scenes into fixed-size embeddings, and the FAISS index enables fast vector operations. The `scene_metadata` list stores contextual information linked to each scene embedding.\n"
      ],
      "metadata": {
        "id": "sCtF2fBzquY1"
      }
    },
    {
      "cell_type": "code",
      "source": [
        "# Load embedding model\n",
        "embedding_model = SentenceTransformer(\"all-MiniLM-L6-v2\")\n",
        "\n",
        "# Vector store initialization\n",
        "dimension = embedding_model.get_sentence_embedding_dimension()\n",
        "index = faiss.IndexFlatL2(dimension)\n",
        "\n",
        "# To track metadata\n",
        "scene_metadata = []\n"
      ],
      "metadata": {
        "id": "CxvSxk0Gpr3f",
        "colab": {
          "base_uri": "https://localhost:8080/"
        },
        "outputId": "1a0832d8-b1af-405f-c1b2-1296f314e8c2"
      },
      "execution_count": 13,
      "outputs": [
        {
          "output_type": "stream",
          "name": "stderr",
          "text": [
            "/usr/local/lib/python3.11/dist-packages/huggingface_hub/utils/_auth.py:94: UserWarning: \n",
            "The secret `HF_TOKEN` does not exist in your Colab secrets.\n",
            "To authenticate with the Hugging Face Hub, create a token in your settings tab (https://huggingface.co/settings/tokens), set it as secret in your Google Colab and restart your session.\n",
            "You will be able to reuse this secret in all of your notebooks.\n",
            "Please note that authentication is recommended but still optional to access public models or datasets.\n",
            "  warnings.warn(\n"
          ]
        }
      ]
    },
    {
      "cell_type": "markdown",
      "source": [
        "### 🎬 Generating the Sitcom Pitch\n",
        "\n",
        "This step generates a sitcom concept using the `generate_sitcom_pitch` function. The function takes in a dictionary of categorized keywords (e.g., setting, characters, themes, tone/genre) to guide the generation process.\n",
        "\n",
        "- The language model plays the role of a **professional screenwriter**.\n",
        "- It produces a 1-paragraph pitch that includes a **title** and a **detailed premise**, highlighting the setting, main characters, their dynamics, and the overall tone of the show.\n",
        "- Keywords help ground the pitch in user-defined ideas, ensuring thematic and narrative consistency."
      ],
      "metadata": {
        "id": "h4C0y2mRq9Hy"
      }
    },
    {
      "cell_type": "code",
      "source": [
        "keywords = {\n",
        "    \"setting\": [\"urban locksmith shop\", \"New York City\"],\n",
        "    \"characters\": [\"ex-con protagonist\", \"estranged daughter\", \"quirky parole officer\"],\n",
        "    \"themes\": [\"second chances\", \"odd couple dynamic\"],\n",
        "    \"tone_genre\": [\"buddy comedy\", \"heartfelt absurdism\"]\n",
        "}\n"
      ],
      "metadata": {
        "id": "axDx39kupBZO"
      },
      "execution_count": 14,
      "outputs": []
    },
    {
      "cell_type": "markdown",
      "source": [
        "**TODO**\n",
        "\n",
        "Make sure the title is quotation marks"
      ],
      "metadata": {
        "id": "uWN3wwatZtkU"
      }
    },
    {
      "cell_type": "code",
      "source": [
        "# Generating Sitcom Pitch\n",
        "sitcom_pitch = generate_sitcom_pitch(client, keywords)\n",
        "display(Markdown(f\"### Sitcom Concept:\\n\\n{sitcom_pitch}\"))\n"
      ],
      "metadata": {
        "colab": {
          "base_uri": "https://localhost:8080/",
          "height": 206
        },
        "id": "qSowDzaVq5yt",
        "outputId": "9b541aa8-7bb3-4325-dbc2-6a2ba488da07"
      },
      "execution_count": 15,
      "outputs": [
        {
          "output_type": "display_data",
          "data": {
            "text/plain": [
              "<IPython.core.display.Markdown object>"
            ],
            "text/markdown": "### Sitcom Concept:\n\nTitle: \"Key Changes\"\n\n\"Key Changes\" is a heartfelt yet absurdly comic sitcom set in an urban locksmith shop in the bustling heart of New York City. After serving time, ex-con 'Big Jimmy', with his solid build and soft heart, decides to leave his criminal past behind and open up a locksmith shop, hoping to unlock a new chapter in his life. When his estranged, sassy and street-smart daughter, 'Alexis', unexpectedly comes into his life and starts working at the shop, it's not just locks that get picked but their old wounds too. Adding to the chaos is Jimmy's quirkily zealous parole officer 'Stanley', who, seeking a side hustle, insists on becoming their unlikely business partner, despite knowing nothing about locksmithing. \"Key Changes\" explores themes of second chances and familial reconciliation with an odd couple dynamic, blending heartwarming moments with outrageous comedy, as this mismatched trio navigates running a business, rebuilding relationships, and the always unpredictable NYC customer base."
          },
          "metadata": {}
        }
      ]
    },
    {
      "cell_type": "markdown",
      "source": [
        "### 📝 Generating a Pilot Episode Outline\n",
        "\n",
        "The next part is to generate an episode outline for the pilot of the show, which is done using the `generate_pilot_episode_outline` function. This function takes in the sitcom pitch and produces a structured scene-by-scene breakdown of the pilot episode, simulating the voice of a **professional sitcom writer** preparing a network pitch.\n",
        "\n",
        "- Begins with a concise **Episode Concept** (1–2 sentences).\n",
        "- Breaks the episode into approximately 20 **numbered scenes**, each with a **title in quotation marks** and a brief description.\n",
        "- Each scene summary includes what happens, who is involved, and the intended tone (e.g., funny, awkward, heartfelt).\n",
        "\n",
        "This outline provides the narrative foundation for generating full scene scripts in the next stage.\n"
      ],
      "metadata": {
        "id": "BtozqXT4rmna"
      }
    },
    {
      "cell_type": "code",
      "source": [
        "outline = generate_pilot_episode_outline(client, sitcom_pitch)\n",
        "display(Markdown(f\"### Sitcom Outline:\\n\\n{outline}\"))"
      ],
      "metadata": {
        "colab": {
          "base_uri": "https://localhost:8080/",
          "height": 609
        },
        "id": "SkdjzNUuq5uw",
        "outputId": "fd4d01c1-c8c8-411a-a0bd-b2f4bd0794d1"
      },
      "execution_count": 16,
      "outputs": [
        {
          "output_type": "display_data",
          "data": {
            "text/plain": [
              "<IPython.core.display.Markdown object>"
            ],
            "text/markdown": "### Sitcom Outline:\n\nEpisode Concept: The pilot episode introduces the characters and the locksmith shop, with Big Jimmy trying to reconnect with his estranged daughter Alexis while starting a business. Meanwhile, Stanley turns up to become an unexpected business partner.\n\nScene 1: \"Unlocking Opportunities\" Big Jimmy, just released from prison, signs a lease for a locksmith shop and explains his new venture to his skeptical but supportive roommate, a funny and heartwarming scene.\n\nScene 2: \"An Unexpected Surprise\" Alexis unexpectedly enters the shop, revealing she is Jimmy's estranged daughter, an awkward and emotional scene.\n\nScene 3: \"A Business Proposition\" Stanley, Jimmy's parole officer, pops in for a visit and proposes becoming a partner in the locksmith business, a comedic and absurd scene.\n\nScene 4: \"The First Customer\" The trio handles their first customer, leading to hilarious misunderstandings about locksmithing.\n\nScene 5: \"A Daughter's Distrust\" Alexis confronts Jimmy about his past, a serious and touching scene that sheds light on their strained relationship.\n\nScene 6: \"Locksmith 101\" Stanley tries to learn the basics of locksmithing, leading to funny mishaps and pranks by Alexis.\n\nScene 7: \"Stanley's Side Hustle\" Stanley explains his motivation for wanting a side job, a comedic scene showing his bizarre reasons.\n\nScene 8: \"Jimmy's Second Chance\" Jimmy shares his hopes of turning his life around, a poignant and heartfelt scene.\n\nScene 9: \"Father-Daughter Lock-Picking\" Jimmy teaches Alexis how to pick a lock, leading to a mix of comedic and bonding moments.\n\nScene 10: \"Breaking Down the Door\" The trio responds to a lockout emergency, leading to hilarious chaos as they fumble through the job.\n\nScene 11: \"Stanley's Slip-up\" Stanley accidentally locks himself inside the shop's bathroom, resulting in a funny rescue mission. \n\nScene 12: \"Alexis' Big Ask\" Alexis asks Jimmy why he never looked for her, an emotional scene that reveals more of their backstory.\n\nScene 13: \"Stanley's Sales Pitch\" Stanley attempts to sell locksmithing services to passersby, leading to comedic rejections.\n\nScene 14: \"Locksmith Competition\" The arrival of a rival locksmith introduces competitive tension, marked by humor and rivalry.\n\nScene 15: \"Apologies and Keys\" Jimmy sincerely apologizes to Alexis for his past mistakes, a touching and emotional scene.\n\nScene 16: \"The Big Break-In\" The trio tackles a complex job of a broken lock, leading to comedic sequences and triumph.\n\nScene 17: \"A New Lock on Life\" Jimmy and Alexis bond over their success on the job, a heartwarming father-daughter moment.\n\nScene 18: \"Stanley's Progress Report\" Stanley checks in on Jimmy's parole progress, a hilarious scene due to Stanley's unorthodox methods.\n\nScene 19: \"Locks of Love\" The trio celebrates their first successful day, sharing a heartfelt moment of camaraderie.\n\nScene 20: \"Key to the Future\" The episode ends with a promising outlook for the locksmith shop and Jimmy, Alexis, and Stanley's evolving relationships, a blend of comedy and hope."
          },
          "metadata": {}
        }
      ]
    },
    {
      "cell_type": "markdown",
      "source": [
        "### ✅ Episode Validation\n",
        "\n",
        "To ensure that the sitcom pilot outline is coherent and aligns with the original pitch, we use the `validate_episode_outline` function. This function simulates the voice of a **veteran sitcom writer** who evaluates whether the episode outline makes narrative sense and fits the tone and premise.\n",
        "\n",
        "- Checks for overall **coherence**, including consistency of tone, logical character progression, and structural viability.\n",
        "- Returns a clear **\"Yes\" or \"No\"** on coherence, along with 2–4 bullet points of reasoning.\n",
        "- If the episode is not coherent, it also provides concrete suggestions for improvement.\n",
        "\n",
        "This validation step helps maintain narrative quality before moving into full scene scripting.\n",
        "\n",
        "\n",
        "**TODO**\n",
        "\n",
        "- Make sure it can re-generate the script\n",
        "- Delte timedelta"
      ],
      "metadata": {
        "id": "zxtWr4JuLcMV"
      }
    },
    {
      "cell_type": "code",
      "source": [
        "validation = validate_episode_outline(client, sitcom_pitch, outline)\n",
        "display(Markdown(f\"### Coherence Evaluation:\\n\\n{validation}\"))"
      ],
      "metadata": {
        "colab": {
          "base_uri": "https://localhost:8080/",
          "height": 246
        },
        "id": "cSFjmE7cq5sN",
        "outputId": "6418aa95-0518-47a9-8745-146dd034e0a3"
      },
      "execution_count": 17,
      "outputs": [
        {
          "output_type": "display_data",
          "data": {
            "text/plain": [
              "<IPython.core.display.Markdown object>"
            ],
            "text/markdown": "### Coherence Evaluation:\n\nCoherence: Yes\n\nReasoning:\n- The episode outline fits the premise of the sitcom pitch, introducing the main characters and the premise of the locksmith shop. The characters' relationships and dynamics are established, and the tone alternates between comedy and heartfelt moments, as described in the pitch.\n- The character progression is logical, with Big Jimmy trying to reconcile with his estranged daughter Alexis and start a new life, Alexis trying to trust her father, and Stanley trying to fit into the business despite knowing nothing about locksmithing.\n- The plot progression is also logical, with the trio handling their first customers, dealing with a rival locksmith, and eventually celebrating their first successful day.\n- The scenes are varied and engaging, mixing comedic situations with emotional moments, which is essential for a sitcom. The setting in NYC and the locksmith shop is used to its full potential, providing a unique backdrop for the comedy and drama."
          },
          "metadata": {}
        }
      ]
    },
    {
      "cell_type": "markdown",
      "source": [
        "## Scene 1 Generation"
      ],
      "metadata": {
        "id": "8aUL4_lrmVI9"
      }
    },
    {
      "cell_type": "code",
      "source": [
        "scene_1_desc = extract_scene(outline, 1)\n",
        "display(Markdown(scene_1_desc))"
      ],
      "metadata": {
        "colab": {
          "base_uri": "https://localhost:8080/",
          "height": 63
        },
        "id": "-5JuA8trsdJs",
        "outputId": "0eb06c95-3f34-4954-ced9-847f3e99a75b"
      },
      "execution_count": 18,
      "outputs": [
        {
          "output_type": "display_data",
          "data": {
            "text/plain": [
              "<IPython.core.display.Markdown object>"
            ],
            "text/markdown": "Scene 1: \"Unlocking Opportunities\" Big Jimmy, just released from prison, signs a lease for a locksmith shop and explains his new venture to his skeptical but supportive roommate, a funny and heartwarming scene."
          },
          "metadata": {}
        }
      ]
    },
    {
      "cell_type": "code",
      "source": [
        "# Extracting title\n",
        "sitcom_title = extract_title(sitcom_pitch)\n",
        "print(sitcom_title)"
      ],
      "metadata": {
        "colab": {
          "base_uri": "https://localhost:8080/"
        },
        "id": "qoduPi8Eq5oj",
        "outputId": "03d3d917-e87b-4163-dbfb-fe98e91c4927"
      },
      "execution_count": 19,
      "outputs": [
        {
          "output_type": "stream",
          "name": "stdout",
          "text": [
            "Key Changes\n"
          ]
        }
      ]
    },
    {
      "cell_type": "code",
      "source": [
        "scene_1_script = generate_scene_1_script(\n",
        "    client=client,\n",
        "    sitcom_title=sitcom_title,\n",
        "    scene_description=scene_1_desc,\n",
        "    rag_context=None,\n",
        "    line_target=(55, 75)\n",
        ")"
      ],
      "metadata": {
        "id": "SbPXID3TsicA"
      },
      "execution_count": 20,
      "outputs": []
    },
    {
      "cell_type": "code",
      "source": [
        "display(Markdown(scene_1_script))"
      ],
      "metadata": {
        "colab": {
          "base_uri": "https://localhost:8080/",
          "height": 684
        },
        "id": "Qy9xfJCssy9m",
        "outputId": "0a25b479-7817-40be-cd42-d67bdd5d2132"
      },
      "execution_count": 21,
      "outputs": [
        {
          "output_type": "display_data",
          "data": {
            "text/plain": [
              "<IPython.core.display.Markdown object>"
            ],
            "text/markdown": "\nINT. APARTMENT LIVING ROOM - DAY\n\nBig JIMMY, a burly ex-con with a heart of gold, is sitting on a dingy couch. He is holding a lease agreement, grinning. His roommate, LARRY, a wiry fast-talker with a sarcastic wit, enters the room.\n\n[LAUGH TRACK]\n\nJIMMY\nLarry, I've done it!\n\nLARRY\nIf \"it\" means you finally cleaned the bathroom, then we're both winners today.\n\n[LAUGH TRACK]\n\nJIMMY\nNo, Larry. I signed the lease on a shop today.\n\nLARRY\n(raises an eyebrow)\nA shop? What kind of shop?\n\nJIMMY\n(grinning)\nA locksmith shop!\n\nLARRY\n(rolls eyes)\nOf course. A locksmith shop. Why didn't I think of that?\n\n[LAUGH TRACK]\n\nJIMMY\nI know it sounds a bit out there, but it’s a legitimate business! Honest work!\n\nLARRY\n(skeptical)\nYeah, and a great cover for a former cat burglar.\n\n[LAUGH TRACK]\n\nJIMMY\n(serious)\nLarry, I'm trying to turn over a new key here.\n\n[LAUGH TRACK]\n\nLARRY\n(chuckles)\nYou mean leaf?\n\nJIMMY\nNo, key. It’s a locksmith joke.\n\n[LAUGH TRACK]\n\nLARRY\n(smirks)\nWell, Jimmy, I hope this \"key\" change of yours doesn't \"lock\" you back in prison.\n\n[LAUGH TRACK]\n\nJIMMY\n(smiles)\nNah, I'm past that. I'm unlocking new opportunities.\n\nLARRY\n(sighs)\nWell, if you're happy, I’m happy. Besides, I've always wanted to say I live with a professional lock picker.\n\n[LAUGH TRACK]\n\nJIMMY\n(locksmith)\nLocksmith, Larry.\n\nLARRY\n(grins)\nYeah, yeah.\n\nThey both laugh and Jimmy starts reading the lease again. Larry goes to the kitchen, shaking his head.\n\nFADE OUT."
          },
          "metadata": {}
        }
      ]
    },
    {
      "cell_type": "markdown",
      "source": [
        "### 🗂️ Adding Metadata to the Vector Database\n",
        "\n",
        "To extract structured information from each generated sitcom scene, we use th `summarize_scene` function. This function simulates the head writer of the show and analyzes the scene script to produce a concise summary along with key metadata.\n",
        "\n",
        "- **Summary**: A 100–150 word overview of the scene’s key actions, character dynamics, and notable moments.\n",
        "- **Characters**: A list of characters who appear or speak in the scene.\n",
        "- **Location**: The main setting of the scene, if clearly identifiable (e.g., “locksmith shop,” “apartment hallway”).\n",
        "- **Recurring Joke**: Any running gag or callback featured in the scene.\n",
        "- **Emotional Tone**: A 1–2 word description of the scene’s mood (e.g., “chaotic,” “hopeful,” “awkward”).\n",
        "\n",
        "The metadata is returned as a dictionary and appended to the `scene_metadata` list using the `add_scene_to_vector_db` function. This step is crucial: instead of supplying the full script to the next generation phase, we pass a concise summary and key elements to guide smoother, context-aware scene generation.\n"
      ],
      "metadata": {
        "id": "ZdbXY1cEt-1O"
      }
    },
    {
      "cell_type": "code",
      "source": [
        "scene_1_summary = summarize_scene(\n",
        "    client=client,\n",
        "    sitcom_title=sitcom_title,\n",
        "    scene_script=scene_1_script\n",
        ")"
      ],
      "metadata": {
        "id": "17KUHCNNsy7a"
      },
      "execution_count": 22,
      "outputs": []
    },
    {
      "cell_type": "code",
      "source": [
        "# Adds scene to the vector database\n",
        "add_scene_to_vector_db(\n",
        "    scene_1_summary,\n",
        "    full_script=scene_1_script,\n",
        "    embedding_model=embedding_model,\n",
        "    index=index,\n",
        "    vector_metadata=scene_metadata\n",
        ")\n"
      ],
      "metadata": {
        "id": "9Fg2u-7fsy5S"
      },
      "execution_count": 23,
      "outputs": []
    },
    {
      "cell_type": "code",
      "source": [
        "print(\"Total scenes stored in vector DB:\", index.ntotal, \"\\n\")\n",
        "\n",
        "for i, meta in enumerate(scene_metadata):\n",
        "    print(f\"\\nScene {i + 1}\")\n",
        "    print(\"Summary:\", meta[\"summary\"])\n",
        "    print(\"Characters:\", meta[\"characters\"])\n",
        "    print(\"Location:\", meta[\"location\"])\n",
        "    print(\"Recurring Joke:\", meta[\"recurring_joke\"])\n",
        "    print(\"Emotional Tone:\", meta[\"emotional_tone\"])\n"
      ],
      "metadata": {
        "colab": {
          "base_uri": "https://localhost:8080/"
        },
        "id": "YOAaREImuIwB",
        "outputId": "b13075c4-4e75-4ca7-da8d-01340cc773e2"
      },
      "execution_count": 24,
      "outputs": [
        {
          "output_type": "stream",
          "name": "stdout",
          "text": [
            "Total scenes stored in vector DB: 1 \n",
            "\n",
            "\n",
            "Scene 1\n",
            "Summary: In the scene, Jimmy, a burly ex-con, excitedly reveals to his sarcastic roommate, Larry, that he has signed a lease for a locksmith shop. Larry initially responds with skepticism, joking about Jimmy's past as a cat burglar, but ultimately expresses support for Jimmy's new venture. The scene includes a running joke about Jimmy's past and his new profession, with several puns related to keys and locks. The scene ends with Jimmy reading the lease and Larry heading to the kitchen, both in good spirits.\n",
            "Characters: ['Jimmy', 'Larry']\n",
            "Location: Apartment Living Room\n",
            "Recurring Joke: The recurring joke in this scene is the puns related to keys and locks, referencing Jimmy's past as a cat burglar and his new profession as a locksmith.\n",
            "Emotional Tone: Amused\n"
          ]
        }
      ]
    },
    {
      "cell_type": "markdown",
      "source": [
        "## 🎬 Scene 2 Generation\n",
        "\n",
        "The next part is to generate Scene 2. This is one of the most important scenes in the script, as it’s where the ReAct (Reasoning + Acting) system comes into play.\n",
        "\n",
        "Metadata from Scene 1 is retrieved and interpreted by the `CharacterAgent`, `ComedyAgent`, and `EnvironmentAgent`. Each agent reasons over the metadata independently and provides creative suggestions based on its area of expertise—such as character consistency, comedic dynamics, or environmental context.\n",
        "\n",
        "These agent responses are then passed to the `ScenePlannerAgent`, which integrates their inputs and plans the next scene accordingly. This collaborative reasoning-and-acting process ensures that each scene builds logically and creatively on what came before.\n",
        "\n",
        "The advantage of using ReAct-style agents over purely role-based agents is that each agent not only plays a role but also actively reasons and adapts based on prior context—making the generation more dynamic, context-aware, and narratively coherent.\n"
      ],
      "metadata": {
        "id": "CbVu600kbqDr"
      }
    },
    {
      "cell_type": "code",
      "source": [
        "scene_2_desc = extract_scene(outline, 2)\n",
        "print(scene_2_desc)"
      ],
      "metadata": {
        "colab": {
          "base_uri": "https://localhost:8080/"
        },
        "id": "qJhaegD1yK2O",
        "outputId": "32a62fdd-3309-4ff8-ec35-36309b8a165b"
      },
      "execution_count": 25,
      "outputs": [
        {
          "output_type": "stream",
          "name": "stdout",
          "text": [
            "Scene 2: \"An Unexpected Surprise\" Alexis unexpectedly enters the shop, revealing she is Jimmy's estranged daughter, an awkward and emotional scene.\n"
          ]
        }
      ]
    },
    {
      "cell_type": "markdown",
      "source": [
        "### 🎭 Character Agent\n",
        "\n",
        "The first step is to analyze the characters using the `CharacterAgent`. This agent is responsible for tracking which characters appear in each scene, evaluating their consistency with past behavior, and recommending meaningful interactions to advance the story.\n",
        "\n",
        "The `CharacterAgent` operates using a ReAct workflow:\n",
        "- **Think**: Identifies which characters are present in the current scene and compares them to recent scenes.\n",
        "- **Act**: Retrieves character histories by analyzing summaries from previous episodes.\n",
        "- **Observe**: Checks whether characters behave consistently with their established traits and arcs.\n",
        "- **Recommend**: Suggests specific character interactions that align with the narrative or help resolve inconsistencies.\n",
        "\n",
        "Each step simulates the judgment of real writers' room roles — from a Writers' Assistant and Script Supervisor to the Head Writer and Co-Executive Producer — ensuring character development is grounded, coherent, and creatively generative.\n"
      ],
      "metadata": {
        "id": "TgYclpbdbvON"
      }
    },
    {
      "cell_type": "code",
      "source": [
        "import importlib\n",
        "import agents.character_agent\n",
        "importlib.reload(agents.character_agent)\n",
        "from agents.character_agent import CharacterAgent\n"
      ],
      "metadata": {
        "id": "yeBN-SzXo2Wh"
      },
      "execution_count": 38,
      "outputs": []
    },
    {
      "cell_type": "code",
      "source": [
        "'''\n",
        "MOVE TO SCRIPT\n",
        "'''\n",
        "\n",
        "from typing import Tuple, Dict, List\n",
        "\n",
        "def evaluate_character_agent_scene(\n",
        "    agent: CharacterAgent,\n",
        "    scene_description: str,\n",
        "    scene_number: int\n",
        ") -> Tuple[Dict[str, Dict], bool, str, str, List[str]]:\n",
        "    \"\"\"\n",
        "    Runs the CharacterAgent on a given scene and prints a cleaned summary of results:\n",
        "    - Consistency verdict\n",
        "    - Short explanation\n",
        "    - 2 recommended interactions\n",
        "    - Agent's internal thoughts\n",
        "\n",
        "    Args:\n",
        "        agent (CharacterAgent): The CharacterAgent instance.\n",
        "        scene_description (str): The current scene's description.\n",
        "        scene_number (int): The scene number being evaluated.\n",
        "\n",
        "    Returns:\n",
        "        Tuple of:\n",
        "            - character_histories (dict)\n",
        "            - is_consistent (bool)\n",
        "            - explanation (str)\n",
        "            - recommendations (str)\n",
        "            - internal_thoughts (list of str)\n",
        "    \"\"\"\n",
        "    print(f\"🔁 Agent will consider the last {agent.num_scenes} scene(s) for context.\\n\")\n",
        "\n",
        "    character_histories, is_consistent, explanation, recommendations, thoughts = agent.run(\n",
        "        scene_description=scene_description,\n",
        "        scene_number=scene_number\n",
        "    )\n",
        "\n",
        "    # Extract short explanation only\n",
        "    short_explanation = \"\"\n",
        "    for line in explanation.split(\"\\n\"):\n",
        "        if line.strip().startswith(\"2. Short Explanation Why:\"):\n",
        "            short_explanation = line.strip()\n",
        "            break\n",
        "\n",
        "    # Only keep the two interaction suggestions (strip label)\n",
        "    clean_recommendations = \"\\n\".join([\n",
        "        line for line in recommendations.split(\"\\n\")\n",
        "        if line.strip().startswith(\"1.\") or line.strip().startswith(\"2.\")\n",
        "    ])\n",
        "\n",
        "    print(f\"Scene {scene_number} — Consistency: {'✅ Consistent' if is_consistent else '❌ Inconsistent'}\\n\")\n",
        "    print(\"Explanation:\")\n",
        "    print(short_explanation if short_explanation else explanation.strip())\n",
        "    print(\"\\nInteraction Improvement Recommendations:\")\n",
        "    print(clean_recommendations.strip())\n",
        "    print(\"\\nAgent's Internal Thoughts:\")\n",
        "    for thought in thoughts:\n",
        "        print(\"-\", thought)\n",
        "\n",
        "    return character_histories, is_consistent, explanation, recommendations, thoughts\n"
      ],
      "metadata": {
        "id": "NwCX0frHbH79"
      },
      "execution_count": 39,
      "outputs": []
    },
    {
      "cell_type": "code",
      "source": [
        "character_agent = CharacterAgent(\n",
        "    client=client,\n",
        "    vector_metadata=scene_metadata,\n",
        "    num_scenes=1\n",
        ")\n",
        "\n",
        "evaluate_character_agent_scene(\n",
        "    agent=character_agent,\n",
        "    scene_description=scene_2_desc,\n",
        "    scene_number=2,\n",
        ");\n"
      ],
      "metadata": {
        "colab": {
          "base_uri": "https://localhost:8080/"
        },
        "id": "hKJmwR86bKe9",
        "outputId": "8ebafeef-5bd9-4f01-c87b-e6fcee3eafe3"
      },
      "execution_count": 40,
      "outputs": [
        {
          "output_type": "stream",
          "name": "stdout",
          "text": [
            "🔁 Agent will consider the last 1 scene(s) for context.\n",
            "\n",
            "📚 Retrieving script metadata for scene(s): [1]\n",
            "Scene 2 — Consistency: ✅ Consistent\n",
            "\n",
            "Explanation:\n",
            "2. Short Explanation Why: Jimmy's optimistic and resilient personality is consistent with his reaction to Alexis's unexpected arrival. His good-humored and tolerant nature is also consistent with his ability to handle the awkward and emotional situation. Alexis's boldness is consistent with her decision to confront Jimmy. However, more information is needed to fully assess the consistency of Alexis's character.\n",
            "\n",
            "Interaction Improvement Recommendations:\n",
            "1. Jimmy, upon seeing Alexis, unconsciously fiddles with a lock and key he has been working on, using humor to diffuse the tension by joking about how she \"has a knack for picking locks, just like her old man.\" — (In Scene 1, Jimmy is revealed to have a past as a cat burglar, which he now uses as a source of humor. His joke serves to lighten the situation while acknowledging their shared history.)\n",
            "2. Alexis, in a bold move, reaches out to Jimmy and tells him that she's not here to reopen old wounds but to build a new relationship. She even offers to help him with his new locksmith business. — (Given Alexis' unexpected entrance and revelation in Scene 2, her courageous approach fits her character, and her offer to help signifies an attempt to mend their strained relationship.)\n",
            "\n",
            "Agent's Internal Thoughts:\n",
            "- Think: Identified characters ['Jimmy', 'Alexis'] in Scene 2.\n",
            "- Act: Retrieved profiles for ['Jimmy', 'Alexis'].\n",
            "- Observe: Scene is consistent.\n",
            "- Recommend: Provided suggestions for enhancing character dynamics.\n"
          ]
        }
      ]
    },
    {
      "cell_type": "code",
      "source": [
        "\n",
        "# Initialize the agent\n",
        "character_agent = CharacterAgent(\n",
        "    client=client,\n",
        "    vector_metadata=scene_metadata,\n",
        "    num_scenes=1  # optional — defaults to 1\n",
        ")\n",
        "\n",
        "character_histories, is_consistent, explanation, char_recommendations, thoughts = character_agent.run(\n",
        "    scene_description=scene_2_desc,\n",
        "    scene_number=2\n",
        ")\n",
        "\n",
        "print(f\"Scene {2} — Consistency: {'✅ Consistent' if is_consistent else '❌ Inconsistent'}\")\n",
        "print(\"\\nExplanation:\\n\", explanation)\n",
        "\n",
        "print(\"\\nInteraction Improvement Recommendations:\\n\", char_recommendations)\n",
        "\n",
        "print(\"\\nAgent's Internal Thoughts:\")\n",
        "for thought in thoughts:\n",
        "    print(\"-\", thought)\n",
        "\n"
      ],
      "metadata": {
        "colab": {
          "base_uri": "https://localhost:8080/",
          "height": 207
        },
        "id": "xHyBKNKi_axD",
        "outputId": "8cb8e661-dbc5-4c1e-fbbd-0d95d2747cdb"
      },
      "execution_count": 37,
      "outputs": [
        {
          "output_type": "error",
          "ename": "AttributeError",
          "evalue": "'CharacterAgent' object has no attribute 'run'",
          "traceback": [
            "\u001b[0;31m---------------------------------------------------------------------------\u001b[0m",
            "\u001b[0;31mAttributeError\u001b[0m                            Traceback (most recent call last)",
            "\u001b[0;32m<ipython-input-37-08af6fc83e52>\u001b[0m in \u001b[0;36m<cell line: 0>\u001b[0;34m()\u001b[0m\n\u001b[1;32m      6\u001b[0m )\n\u001b[1;32m      7\u001b[0m \u001b[0;34m\u001b[0m\u001b[0m\n\u001b[0;32m----> 8\u001b[0;31m character_histories, is_consistent, explanation, char_recommendations, thoughts = character_agent.run(\n\u001b[0m\u001b[1;32m      9\u001b[0m     \u001b[0mscene_description\u001b[0m\u001b[0;34m=\u001b[0m\u001b[0mscene_2_desc\u001b[0m\u001b[0;34m,\u001b[0m\u001b[0;34m\u001b[0m\u001b[0;34m\u001b[0m\u001b[0m\n\u001b[1;32m     10\u001b[0m     \u001b[0mscene_number\u001b[0m\u001b[0;34m=\u001b[0m\u001b[0;36m2\u001b[0m\u001b[0;34m\u001b[0m\u001b[0;34m\u001b[0m\u001b[0m\n",
            "\u001b[0;31mAttributeError\u001b[0m: 'CharacterAgent' object has no attribute 'run'"
          ]
        }
      ]
    },
    {
      "cell_type": "code",
      "source": [
        "stop"
      ],
      "metadata": {
        "id": "4WxczsuupXV2"
      },
      "execution_count": null,
      "outputs": []
    },
    {
      "cell_type": "markdown",
      "source": [
        "### Comedy Agent"
      ],
      "metadata": {
        "id": "uJ5OAsU-z6dN"
      }
    },
    {
      "cell_type": "code",
      "source": [
        "# Initialize the agent\n",
        "comedic_agent = ComedicAgent(\n",
        "    client=client,\n",
        "    vector_metadata=scene_metadata,\n",
        "    num_scenes=1  # optional — defaults to 3\n",
        ")\n",
        "\n",
        "# Run the full ReAct loop\n",
        "context, is_consistent, analysis_text, com_recommendations, thoughts = comedic_agent.run(\n",
        "    scene_description=scene_2_desc,\n",
        "    scene_number=2\n",
        ")\n",
        "\n",
        "# Print formatted output\n",
        "print(f\"Scene {2} — Comedic Tone: {'✅ Consistent' if is_consistent else '❌ Inconsistent'}\")\n",
        "\n",
        "print(\"\\nComedic Tone Analysis:\\n\", analysis_text)\n",
        "\n",
        "print(\"\\nComedic Improvement Recommendations:\\n\", com_recommendations)\n",
        "\n",
        "print(\"\\nComedic Agent's Internal Thoughts:\")\n",
        "for thought in thoughts:\n",
        "    print(\"-\", thought)\n"
      ],
      "metadata": {
        "id": "zBilko_8_aqH",
        "colab": {
          "base_uri": "https://localhost:8080/",
          "height": 350
        },
        "outputId": "d447c47c-4fd0-438d-9c23-2b6ea0bd70a1"
      },
      "execution_count": 36,
      "outputs": [
        {
          "output_type": "error",
          "ename": "KeyboardInterrupt",
          "evalue": "",
          "traceback": [
            "\u001b[0;31m---------------------------------------------------------------------------\u001b[0m",
            "\u001b[0;31mKeyboardInterrupt\u001b[0m                         Traceback (most recent call last)",
            "\u001b[0;32m<ipython-input-36-2e130f2b8767>\u001b[0m in \u001b[0;36m<cell line: 0>\u001b[0;34m()\u001b[0m\n\u001b[1;32m      7\u001b[0m \u001b[0;34m\u001b[0m\u001b[0m\n\u001b[1;32m      8\u001b[0m \u001b[0;31m# Run the full ReAct loop\u001b[0m\u001b[0;34m\u001b[0m\u001b[0;34m\u001b[0m\u001b[0m\n\u001b[0;32m----> 9\u001b[0;31m context, is_consistent, analysis_text, com_recommendations, thoughts = comedic_agent.run(\n\u001b[0m\u001b[1;32m     10\u001b[0m     \u001b[0mscene_description\u001b[0m\u001b[0;34m=\u001b[0m\u001b[0mscene_2_desc\u001b[0m\u001b[0;34m,\u001b[0m\u001b[0;34m\u001b[0m\u001b[0;34m\u001b[0m\u001b[0m\n\u001b[1;32m     11\u001b[0m     \u001b[0mscene_number\u001b[0m\u001b[0;34m=\u001b[0m\u001b[0;36m2\u001b[0m\u001b[0;34m\u001b[0m\u001b[0;34m\u001b[0m\u001b[0m\n",
            "\u001b[0;32m/content/drive/MyDrive/Spring 2025/Gen AI with LLM/Project/utils/agents/comedy_agent.py\u001b[0m in \u001b[0;36mrun\u001b[0;34m(self, scene_description, scene_number)\u001b[0m\n\u001b[1;32m     80\u001b[0m         \u001b[0mcontext\u001b[0m \u001b[0;34m=\u001b[0m \u001b[0mself\u001b[0m\u001b[0;34m.\u001b[0m\u001b[0mthink\u001b[0m\u001b[0;34m(\u001b[0m\u001b[0mscene_description\u001b[0m\u001b[0;34m,\u001b[0m \u001b[0mscene_number\u001b[0m\u001b[0;34m)\u001b[0m\u001b[0;34m\u001b[0m\u001b[0;34m\u001b[0m\u001b[0m\n\u001b[1;32m     81\u001b[0m         \u001b[0mis_consistent\u001b[0m\u001b[0;34m,\u001b[0m \u001b[0manalysis_text\u001b[0m \u001b[0;34m=\u001b[0m \u001b[0mself\u001b[0m\u001b[0;34m.\u001b[0m\u001b[0mobserve\u001b[0m\u001b[0;34m(\u001b[0m\u001b[0mscene_description\u001b[0m\u001b[0;34m)\u001b[0m\u001b[0;34m\u001b[0m\u001b[0;34m\u001b[0m\u001b[0m\n\u001b[0;32m---> 82\u001b[0;31m         \u001b[0mrecommendations\u001b[0m \u001b[0;34m=\u001b[0m \u001b[0mself\u001b[0m\u001b[0;34m.\u001b[0m\u001b[0mrecommend\u001b[0m\u001b[0;34m(\u001b[0m\u001b[0mscene_description\u001b[0m\u001b[0;34m,\u001b[0m \u001b[0mis_consistent\u001b[0m\u001b[0;34m,\u001b[0m \u001b[0manalysis_text\u001b[0m\u001b[0;34m)\u001b[0m\u001b[0;34m\u001b[0m\u001b[0;34m\u001b[0m\u001b[0m\n\u001b[0m\u001b[1;32m     83\u001b[0m         \u001b[0;32mreturn\u001b[0m \u001b[0mcontext\u001b[0m\u001b[0;34m,\u001b[0m \u001b[0mis_consistent\u001b[0m\u001b[0;34m,\u001b[0m \u001b[0manalysis_text\u001b[0m\u001b[0;34m,\u001b[0m \u001b[0mrecommendations\u001b[0m\u001b[0;34m,\u001b[0m \u001b[0mself\u001b[0m\u001b[0;34m.\u001b[0m\u001b[0minternal_thoughts\u001b[0m\u001b[0;34m\u001b[0m\u001b[0;34m\u001b[0m\u001b[0m\n",
            "\u001b[0;32m/content/drive/MyDrive/Spring 2025/Gen AI with LLM/Project/utils/agents/comedy_agent.py\u001b[0m in \u001b[0;36mrecommend\u001b[0;34m(self, scene_description, is_consistent, analysis_text)\u001b[0m\n\u001b[1;32m     58\u001b[0m         \u001b[0mRecommend\u001b[0m \u001b[0mstep\u001b[0m\u001b[0;34m:\u001b[0m \u001b[0mSuggest\u001b[0m \u001b[0mcomedic\u001b[0m \u001b[0mpunch\u001b[0m\u001b[0;34m-\u001b[0m\u001b[0mups\u001b[0m \u001b[0;32mor\u001b[0m \u001b[0mtonal\u001b[0m \u001b[0mfixes\u001b[0m\u001b[0;34m.\u001b[0m\u001b[0;34m\u001b[0m\u001b[0;34m\u001b[0m\u001b[0m\n\u001b[1;32m     59\u001b[0m         \"\"\"\n\u001b[0;32m---> 60\u001b[0;31m         recommendations = recommend_comedic_improvements(\n\u001b[0m\u001b[1;32m     61\u001b[0m             \u001b[0mclient\u001b[0m\u001b[0;34m=\u001b[0m\u001b[0mself\u001b[0m\u001b[0;34m.\u001b[0m\u001b[0mclient\u001b[0m\u001b[0;34m,\u001b[0m\u001b[0;34m\u001b[0m\u001b[0;34m\u001b[0m\u001b[0m\n\u001b[1;32m     62\u001b[0m             \u001b[0mscene_description\u001b[0m\u001b[0;34m=\u001b[0m\u001b[0mscene_description\u001b[0m\u001b[0;34m,\u001b[0m\u001b[0;34m\u001b[0m\u001b[0;34m\u001b[0m\u001b[0m\n",
            "\u001b[0;32m/content/drive/MyDrive/Spring 2025/Gen AI with LLM/Project/utils/agents/comedy_helpers.py\u001b[0m in \u001b[0;36mrecommend_comedic_improvements\u001b[0;34m(client, scene_description, is_consistent, consistency_result)\u001b[0m\n\u001b[1;32m    122\u001b[0m \"\"\"\n\u001b[1;32m    123\u001b[0m \u001b[0;34m\u001b[0m\u001b[0m\n\u001b[0;32m--> 124\u001b[0;31m     response = client.chat.completions.create(\n\u001b[0m\u001b[1;32m    125\u001b[0m         \u001b[0mmodel\u001b[0m\u001b[0;34m=\u001b[0m\u001b[0;34m\"gpt-4\"\u001b[0m\u001b[0;34m,\u001b[0m\u001b[0;34m\u001b[0m\u001b[0;34m\u001b[0m\u001b[0m\n\u001b[1;32m    126\u001b[0m         \u001b[0mmessages\u001b[0m\u001b[0;34m=\u001b[0m\u001b[0;34m[\u001b[0m\u001b[0;34m{\u001b[0m\u001b[0;34m\"role\"\u001b[0m\u001b[0;34m:\u001b[0m \u001b[0;34m\"user\"\u001b[0m\u001b[0;34m,\u001b[0m \u001b[0;34m\"content\"\u001b[0m\u001b[0;34m:\u001b[0m \u001b[0mprompt\u001b[0m\u001b[0;34m}\u001b[0m\u001b[0;34m]\u001b[0m\u001b[0;34m,\u001b[0m\u001b[0;34m\u001b[0m\u001b[0;34m\u001b[0m\u001b[0m\n",
            "\u001b[0;32m/usr/local/lib/python3.11/dist-packages/openai/_utils/_utils.py\u001b[0m in \u001b[0;36mwrapper\u001b[0;34m(*args, **kwargs)\u001b[0m\n\u001b[1;32m    285\u001b[0m                         \u001b[0mmsg\u001b[0m \u001b[0;34m=\u001b[0m \u001b[0;34mf\"Missing required argument: {quote(missing[0])}\"\u001b[0m\u001b[0;34m\u001b[0m\u001b[0;34m\u001b[0m\u001b[0m\n\u001b[1;32m    286\u001b[0m                 \u001b[0;32mraise\u001b[0m \u001b[0mTypeError\u001b[0m\u001b[0;34m(\u001b[0m\u001b[0mmsg\u001b[0m\u001b[0;34m)\u001b[0m\u001b[0;34m\u001b[0m\u001b[0;34m\u001b[0m\u001b[0m\n\u001b[0;32m--> 287\u001b[0;31m             \u001b[0;32mreturn\u001b[0m \u001b[0mfunc\u001b[0m\u001b[0;34m(\u001b[0m\u001b[0;34m*\u001b[0m\u001b[0margs\u001b[0m\u001b[0;34m,\u001b[0m \u001b[0;34m**\u001b[0m\u001b[0mkwargs\u001b[0m\u001b[0;34m)\u001b[0m\u001b[0;34m\u001b[0m\u001b[0;34m\u001b[0m\u001b[0m\n\u001b[0m\u001b[1;32m    288\u001b[0m \u001b[0;34m\u001b[0m\u001b[0m\n\u001b[1;32m    289\u001b[0m         \u001b[0;32mreturn\u001b[0m \u001b[0mwrapper\u001b[0m  \u001b[0;31m# type: ignore\u001b[0m\u001b[0;34m\u001b[0m\u001b[0;34m\u001b[0m\u001b[0m\n",
            "\u001b[0;32m/usr/local/lib/python3.11/dist-packages/openai/resources/chat/completions/completions.py\u001b[0m in \u001b[0;36mcreate\u001b[0;34m(self, messages, model, audio, frequency_penalty, function_call, functions, logit_bias, logprobs, max_completion_tokens, max_tokens, metadata, modalities, n, parallel_tool_calls, prediction, presence_penalty, reasoning_effort, response_format, seed, service_tier, stop, store, stream, stream_options, temperature, tool_choice, tools, top_logprobs, top_p, user, web_search_options, extra_headers, extra_query, extra_body, timeout)\u001b[0m\n\u001b[1;32m    923\u001b[0m     ) -> ChatCompletion | Stream[ChatCompletionChunk]:\n\u001b[1;32m    924\u001b[0m         \u001b[0mvalidate_response_format\u001b[0m\u001b[0;34m(\u001b[0m\u001b[0mresponse_format\u001b[0m\u001b[0;34m)\u001b[0m\u001b[0;34m\u001b[0m\u001b[0;34m\u001b[0m\u001b[0m\n\u001b[0;32m--> 925\u001b[0;31m         return self._post(\n\u001b[0m\u001b[1;32m    926\u001b[0m             \u001b[0;34m\"/chat/completions\"\u001b[0m\u001b[0;34m,\u001b[0m\u001b[0;34m\u001b[0m\u001b[0;34m\u001b[0m\u001b[0m\n\u001b[1;32m    927\u001b[0m             body=maybe_transform(\n",
            "\u001b[0;32m/usr/local/lib/python3.11/dist-packages/openai/_base_client.py\u001b[0m in \u001b[0;36mpost\u001b[0;34m(self, path, cast_to, body, options, files, stream, stream_cls)\u001b[0m\n\u001b[1;32m   1237\u001b[0m             \u001b[0mmethod\u001b[0m\u001b[0;34m=\u001b[0m\u001b[0;34m\"post\"\u001b[0m\u001b[0;34m,\u001b[0m \u001b[0murl\u001b[0m\u001b[0;34m=\u001b[0m\u001b[0mpath\u001b[0m\u001b[0;34m,\u001b[0m \u001b[0mjson_data\u001b[0m\u001b[0;34m=\u001b[0m\u001b[0mbody\u001b[0m\u001b[0;34m,\u001b[0m \u001b[0mfiles\u001b[0m\u001b[0;34m=\u001b[0m\u001b[0mto_httpx_files\u001b[0m\u001b[0;34m(\u001b[0m\u001b[0mfiles\u001b[0m\u001b[0;34m)\u001b[0m\u001b[0;34m,\u001b[0m \u001b[0;34m**\u001b[0m\u001b[0moptions\u001b[0m\u001b[0;34m\u001b[0m\u001b[0;34m\u001b[0m\u001b[0m\n\u001b[1;32m   1238\u001b[0m         )\n\u001b[0;32m-> 1239\u001b[0;31m         \u001b[0;32mreturn\u001b[0m \u001b[0mcast\u001b[0m\u001b[0;34m(\u001b[0m\u001b[0mResponseT\u001b[0m\u001b[0;34m,\u001b[0m \u001b[0mself\u001b[0m\u001b[0;34m.\u001b[0m\u001b[0mrequest\u001b[0m\u001b[0;34m(\u001b[0m\u001b[0mcast_to\u001b[0m\u001b[0;34m,\u001b[0m \u001b[0mopts\u001b[0m\u001b[0;34m,\u001b[0m \u001b[0mstream\u001b[0m\u001b[0;34m=\u001b[0m\u001b[0mstream\u001b[0m\u001b[0;34m,\u001b[0m \u001b[0mstream_cls\u001b[0m\u001b[0;34m=\u001b[0m\u001b[0mstream_cls\u001b[0m\u001b[0;34m)\u001b[0m\u001b[0;34m)\u001b[0m\u001b[0;34m\u001b[0m\u001b[0;34m\u001b[0m\u001b[0m\n\u001b[0m\u001b[1;32m   1240\u001b[0m \u001b[0;34m\u001b[0m\u001b[0m\n\u001b[1;32m   1241\u001b[0m     def patch(\n",
            "\u001b[0;32m/usr/local/lib/python3.11/dist-packages/openai/_base_client.py\u001b[0m in \u001b[0;36mrequest\u001b[0;34m(self, cast_to, options, stream, stream_cls)\u001b[0m\n\u001b[1;32m    967\u001b[0m             \u001b[0mresponse\u001b[0m \u001b[0;34m=\u001b[0m \u001b[0;32mNone\u001b[0m\u001b[0;34m\u001b[0m\u001b[0;34m\u001b[0m\u001b[0m\n\u001b[1;32m    968\u001b[0m             \u001b[0;32mtry\u001b[0m\u001b[0;34m:\u001b[0m\u001b[0;34m\u001b[0m\u001b[0;34m\u001b[0m\u001b[0m\n\u001b[0;32m--> 969\u001b[0;31m                 response = self._client.send(\n\u001b[0m\u001b[1;32m    970\u001b[0m                     \u001b[0mrequest\u001b[0m\u001b[0;34m,\u001b[0m\u001b[0;34m\u001b[0m\u001b[0;34m\u001b[0m\u001b[0m\n\u001b[1;32m    971\u001b[0m                     \u001b[0mstream\u001b[0m\u001b[0;34m=\u001b[0m\u001b[0mstream\u001b[0m \u001b[0;32mor\u001b[0m \u001b[0mself\u001b[0m\u001b[0;34m.\u001b[0m\u001b[0m_should_stream_response_body\u001b[0m\u001b[0;34m(\u001b[0m\u001b[0mrequest\u001b[0m\u001b[0;34m=\u001b[0m\u001b[0mrequest\u001b[0m\u001b[0;34m)\u001b[0m\u001b[0;34m,\u001b[0m\u001b[0;34m\u001b[0m\u001b[0;34m\u001b[0m\u001b[0m\n",
            "\u001b[0;32m/usr/local/lib/python3.11/dist-packages/httpx/_client.py\u001b[0m in \u001b[0;36msend\u001b[0;34m(self, request, stream, auth, follow_redirects)\u001b[0m\n\u001b[1;32m    912\u001b[0m         \u001b[0mauth\u001b[0m \u001b[0;34m=\u001b[0m \u001b[0mself\u001b[0m\u001b[0;34m.\u001b[0m\u001b[0m_build_request_auth\u001b[0m\u001b[0;34m(\u001b[0m\u001b[0mrequest\u001b[0m\u001b[0;34m,\u001b[0m \u001b[0mauth\u001b[0m\u001b[0;34m)\u001b[0m\u001b[0;34m\u001b[0m\u001b[0;34m\u001b[0m\u001b[0m\n\u001b[1;32m    913\u001b[0m \u001b[0;34m\u001b[0m\u001b[0m\n\u001b[0;32m--> 914\u001b[0;31m         response = self._send_handling_auth(\n\u001b[0m\u001b[1;32m    915\u001b[0m             \u001b[0mrequest\u001b[0m\u001b[0;34m,\u001b[0m\u001b[0;34m\u001b[0m\u001b[0;34m\u001b[0m\u001b[0m\n\u001b[1;32m    916\u001b[0m             \u001b[0mauth\u001b[0m\u001b[0;34m=\u001b[0m\u001b[0mauth\u001b[0m\u001b[0;34m,\u001b[0m\u001b[0;34m\u001b[0m\u001b[0;34m\u001b[0m\u001b[0m\n",
            "\u001b[0;32m/usr/local/lib/python3.11/dist-packages/httpx/_client.py\u001b[0m in \u001b[0;36m_send_handling_auth\u001b[0;34m(self, request, auth, follow_redirects, history)\u001b[0m\n\u001b[1;32m    940\u001b[0m \u001b[0;34m\u001b[0m\u001b[0m\n\u001b[1;32m    941\u001b[0m             \u001b[0;32mwhile\u001b[0m \u001b[0;32mTrue\u001b[0m\u001b[0;34m:\u001b[0m\u001b[0;34m\u001b[0m\u001b[0;34m\u001b[0m\u001b[0m\n\u001b[0;32m--> 942\u001b[0;31m                 response = self._send_handling_redirects(\n\u001b[0m\u001b[1;32m    943\u001b[0m                     \u001b[0mrequest\u001b[0m\u001b[0;34m,\u001b[0m\u001b[0;34m\u001b[0m\u001b[0;34m\u001b[0m\u001b[0m\n\u001b[1;32m    944\u001b[0m                     \u001b[0mfollow_redirects\u001b[0m\u001b[0;34m=\u001b[0m\u001b[0mfollow_redirects\u001b[0m\u001b[0;34m,\u001b[0m\u001b[0;34m\u001b[0m\u001b[0;34m\u001b[0m\u001b[0m\n",
            "\u001b[0;32m/usr/local/lib/python3.11/dist-packages/httpx/_client.py\u001b[0m in \u001b[0;36m_send_handling_redirects\u001b[0;34m(self, request, follow_redirects, history)\u001b[0m\n\u001b[1;32m    977\u001b[0m                 \u001b[0mhook\u001b[0m\u001b[0;34m(\u001b[0m\u001b[0mrequest\u001b[0m\u001b[0;34m)\u001b[0m\u001b[0;34m\u001b[0m\u001b[0;34m\u001b[0m\u001b[0m\n\u001b[1;32m    978\u001b[0m \u001b[0;34m\u001b[0m\u001b[0m\n\u001b[0;32m--> 979\u001b[0;31m             \u001b[0mresponse\u001b[0m \u001b[0;34m=\u001b[0m \u001b[0mself\u001b[0m\u001b[0;34m.\u001b[0m\u001b[0m_send_single_request\u001b[0m\u001b[0;34m(\u001b[0m\u001b[0mrequest\u001b[0m\u001b[0;34m)\u001b[0m\u001b[0;34m\u001b[0m\u001b[0;34m\u001b[0m\u001b[0m\n\u001b[0m\u001b[1;32m    980\u001b[0m             \u001b[0;32mtry\u001b[0m\u001b[0;34m:\u001b[0m\u001b[0;34m\u001b[0m\u001b[0;34m\u001b[0m\u001b[0m\n\u001b[1;32m    981\u001b[0m                 \u001b[0;32mfor\u001b[0m \u001b[0mhook\u001b[0m \u001b[0;32min\u001b[0m \u001b[0mself\u001b[0m\u001b[0;34m.\u001b[0m\u001b[0m_event_hooks\u001b[0m\u001b[0;34m[\u001b[0m\u001b[0;34m\"response\"\u001b[0m\u001b[0;34m]\u001b[0m\u001b[0;34m:\u001b[0m\u001b[0;34m\u001b[0m\u001b[0;34m\u001b[0m\u001b[0m\n",
            "\u001b[0;32m/usr/local/lib/python3.11/dist-packages/httpx/_client.py\u001b[0m in \u001b[0;36m_send_single_request\u001b[0;34m(self, request)\u001b[0m\n\u001b[1;32m   1012\u001b[0m \u001b[0;34m\u001b[0m\u001b[0m\n\u001b[1;32m   1013\u001b[0m         \u001b[0;32mwith\u001b[0m \u001b[0mrequest_context\u001b[0m\u001b[0;34m(\u001b[0m\u001b[0mrequest\u001b[0m\u001b[0;34m=\u001b[0m\u001b[0mrequest\u001b[0m\u001b[0;34m)\u001b[0m\u001b[0;34m:\u001b[0m\u001b[0;34m\u001b[0m\u001b[0;34m\u001b[0m\u001b[0m\n\u001b[0;32m-> 1014\u001b[0;31m             \u001b[0mresponse\u001b[0m \u001b[0;34m=\u001b[0m \u001b[0mtransport\u001b[0m\u001b[0;34m.\u001b[0m\u001b[0mhandle_request\u001b[0m\u001b[0;34m(\u001b[0m\u001b[0mrequest\u001b[0m\u001b[0;34m)\u001b[0m\u001b[0;34m\u001b[0m\u001b[0;34m\u001b[0m\u001b[0m\n\u001b[0m\u001b[1;32m   1015\u001b[0m \u001b[0;34m\u001b[0m\u001b[0m\n\u001b[1;32m   1016\u001b[0m         \u001b[0;32massert\u001b[0m \u001b[0misinstance\u001b[0m\u001b[0;34m(\u001b[0m\u001b[0mresponse\u001b[0m\u001b[0;34m.\u001b[0m\u001b[0mstream\u001b[0m\u001b[0;34m,\u001b[0m \u001b[0mSyncByteStream\u001b[0m\u001b[0;34m)\u001b[0m\u001b[0;34m\u001b[0m\u001b[0;34m\u001b[0m\u001b[0m\n",
            "\u001b[0;32m/usr/local/lib/python3.11/dist-packages/httpx/_transports/default.py\u001b[0m in \u001b[0;36mhandle_request\u001b[0;34m(self, request)\u001b[0m\n\u001b[1;32m    248\u001b[0m         )\n\u001b[1;32m    249\u001b[0m         \u001b[0;32mwith\u001b[0m \u001b[0mmap_httpcore_exceptions\u001b[0m\u001b[0;34m(\u001b[0m\u001b[0;34m)\u001b[0m\u001b[0;34m:\u001b[0m\u001b[0;34m\u001b[0m\u001b[0;34m\u001b[0m\u001b[0m\n\u001b[0;32m--> 250\u001b[0;31m             \u001b[0mresp\u001b[0m \u001b[0;34m=\u001b[0m \u001b[0mself\u001b[0m\u001b[0;34m.\u001b[0m\u001b[0m_pool\u001b[0m\u001b[0;34m.\u001b[0m\u001b[0mhandle_request\u001b[0m\u001b[0;34m(\u001b[0m\u001b[0mreq\u001b[0m\u001b[0;34m)\u001b[0m\u001b[0;34m\u001b[0m\u001b[0;34m\u001b[0m\u001b[0m\n\u001b[0m\u001b[1;32m    251\u001b[0m \u001b[0;34m\u001b[0m\u001b[0m\n\u001b[1;32m    252\u001b[0m         \u001b[0;32massert\u001b[0m \u001b[0misinstance\u001b[0m\u001b[0;34m(\u001b[0m\u001b[0mresp\u001b[0m\u001b[0;34m.\u001b[0m\u001b[0mstream\u001b[0m\u001b[0;34m,\u001b[0m \u001b[0mtyping\u001b[0m\u001b[0;34m.\u001b[0m\u001b[0mIterable\u001b[0m\u001b[0;34m)\u001b[0m\u001b[0;34m\u001b[0m\u001b[0;34m\u001b[0m\u001b[0m\n",
            "\u001b[0;32m/usr/local/lib/python3.11/dist-packages/httpcore/_sync/connection_pool.py\u001b[0m in \u001b[0;36mhandle_request\u001b[0;34m(self, request)\u001b[0m\n\u001b[1;32m    254\u001b[0m \u001b[0;34m\u001b[0m\u001b[0m\n\u001b[1;32m    255\u001b[0m             \u001b[0mself\u001b[0m\u001b[0;34m.\u001b[0m\u001b[0m_close_connections\u001b[0m\u001b[0;34m(\u001b[0m\u001b[0mclosing\u001b[0m\u001b[0;34m)\u001b[0m\u001b[0;34m\u001b[0m\u001b[0;34m\u001b[0m\u001b[0m\n\u001b[0;32m--> 256\u001b[0;31m             \u001b[0;32mraise\u001b[0m \u001b[0mexc\u001b[0m \u001b[0;32mfrom\u001b[0m \u001b[0;32mNone\u001b[0m\u001b[0;34m\u001b[0m\u001b[0;34m\u001b[0m\u001b[0m\n\u001b[0m\u001b[1;32m    257\u001b[0m \u001b[0;34m\u001b[0m\u001b[0m\n\u001b[1;32m    258\u001b[0m         \u001b[0;31m# Return the response. Note that in this case we still have to manage\u001b[0m\u001b[0;34m\u001b[0m\u001b[0;34m\u001b[0m\u001b[0m\n",
            "\u001b[0;32m/usr/local/lib/python3.11/dist-packages/httpcore/_sync/connection_pool.py\u001b[0m in \u001b[0;36mhandle_request\u001b[0;34m(self, request)\u001b[0m\n\u001b[1;32m    234\u001b[0m                 \u001b[0;32mtry\u001b[0m\u001b[0;34m:\u001b[0m\u001b[0;34m\u001b[0m\u001b[0;34m\u001b[0m\u001b[0m\n\u001b[1;32m    235\u001b[0m                     \u001b[0;31m# Send the request on the assigned connection.\u001b[0m\u001b[0;34m\u001b[0m\u001b[0;34m\u001b[0m\u001b[0m\n\u001b[0;32m--> 236\u001b[0;31m                     response = connection.handle_request(\n\u001b[0m\u001b[1;32m    237\u001b[0m                         \u001b[0mpool_request\u001b[0m\u001b[0;34m.\u001b[0m\u001b[0mrequest\u001b[0m\u001b[0;34m\u001b[0m\u001b[0;34m\u001b[0m\u001b[0m\n\u001b[1;32m    238\u001b[0m                     )\n",
            "\u001b[0;32m/usr/local/lib/python3.11/dist-packages/httpcore/_sync/connection.py\u001b[0m in \u001b[0;36mhandle_request\u001b[0;34m(self, request)\u001b[0m\n\u001b[1;32m    101\u001b[0m             \u001b[0;32mraise\u001b[0m \u001b[0mexc\u001b[0m\u001b[0;34m\u001b[0m\u001b[0;34m\u001b[0m\u001b[0m\n\u001b[1;32m    102\u001b[0m \u001b[0;34m\u001b[0m\u001b[0m\n\u001b[0;32m--> 103\u001b[0;31m         \u001b[0;32mreturn\u001b[0m \u001b[0mself\u001b[0m\u001b[0;34m.\u001b[0m\u001b[0m_connection\u001b[0m\u001b[0;34m.\u001b[0m\u001b[0mhandle_request\u001b[0m\u001b[0;34m(\u001b[0m\u001b[0mrequest\u001b[0m\u001b[0;34m)\u001b[0m\u001b[0;34m\u001b[0m\u001b[0;34m\u001b[0m\u001b[0m\n\u001b[0m\u001b[1;32m    104\u001b[0m \u001b[0;34m\u001b[0m\u001b[0m\n\u001b[1;32m    105\u001b[0m     \u001b[0;32mdef\u001b[0m \u001b[0m_connect\u001b[0m\u001b[0;34m(\u001b[0m\u001b[0mself\u001b[0m\u001b[0;34m,\u001b[0m \u001b[0mrequest\u001b[0m\u001b[0;34m:\u001b[0m \u001b[0mRequest\u001b[0m\u001b[0;34m)\u001b[0m \u001b[0;34m->\u001b[0m \u001b[0mNetworkStream\u001b[0m\u001b[0;34m:\u001b[0m\u001b[0;34m\u001b[0m\u001b[0;34m\u001b[0m\u001b[0m\n",
            "\u001b[0;32m/usr/local/lib/python3.11/dist-packages/httpcore/_sync/http11.py\u001b[0m in \u001b[0;36mhandle_request\u001b[0;34m(self, request)\u001b[0m\n\u001b[1;32m    134\u001b[0m                 \u001b[0;32mwith\u001b[0m \u001b[0mTrace\u001b[0m\u001b[0;34m(\u001b[0m\u001b[0;34m\"response_closed\"\u001b[0m\u001b[0;34m,\u001b[0m \u001b[0mlogger\u001b[0m\u001b[0;34m,\u001b[0m \u001b[0mrequest\u001b[0m\u001b[0;34m)\u001b[0m \u001b[0;32mas\u001b[0m \u001b[0mtrace\u001b[0m\u001b[0;34m:\u001b[0m\u001b[0;34m\u001b[0m\u001b[0;34m\u001b[0m\u001b[0m\n\u001b[1;32m    135\u001b[0m                     \u001b[0mself\u001b[0m\u001b[0;34m.\u001b[0m\u001b[0m_response_closed\u001b[0m\u001b[0;34m(\u001b[0m\u001b[0;34m)\u001b[0m\u001b[0;34m\u001b[0m\u001b[0;34m\u001b[0m\u001b[0m\n\u001b[0;32m--> 136\u001b[0;31m             \u001b[0;32mraise\u001b[0m \u001b[0mexc\u001b[0m\u001b[0;34m\u001b[0m\u001b[0;34m\u001b[0m\u001b[0m\n\u001b[0m\u001b[1;32m    137\u001b[0m \u001b[0;34m\u001b[0m\u001b[0m\n\u001b[1;32m    138\u001b[0m     \u001b[0;31m# Sending the request...\u001b[0m\u001b[0;34m\u001b[0m\u001b[0;34m\u001b[0m\u001b[0m\n",
            "\u001b[0;32m/usr/local/lib/python3.11/dist-packages/httpcore/_sync/http11.py\u001b[0m in \u001b[0;36mhandle_request\u001b[0;34m(self, request)\u001b[0m\n\u001b[1;32m    104\u001b[0m                     \u001b[0mheaders\u001b[0m\u001b[0;34m,\u001b[0m\u001b[0;34m\u001b[0m\u001b[0;34m\u001b[0m\u001b[0m\n\u001b[1;32m    105\u001b[0m                     \u001b[0mtrailing_data\u001b[0m\u001b[0;34m,\u001b[0m\u001b[0;34m\u001b[0m\u001b[0;34m\u001b[0m\u001b[0m\n\u001b[0;32m--> 106\u001b[0;31m                 ) = self._receive_response_headers(**kwargs)\n\u001b[0m\u001b[1;32m    107\u001b[0m                 trace.return_value = (\n\u001b[1;32m    108\u001b[0m                     \u001b[0mhttp_version\u001b[0m\u001b[0;34m,\u001b[0m\u001b[0;34m\u001b[0m\u001b[0;34m\u001b[0m\u001b[0m\n",
            "\u001b[0;32m/usr/local/lib/python3.11/dist-packages/httpcore/_sync/http11.py\u001b[0m in \u001b[0;36m_receive_response_headers\u001b[0;34m(self, request)\u001b[0m\n\u001b[1;32m    175\u001b[0m \u001b[0;34m\u001b[0m\u001b[0m\n\u001b[1;32m    176\u001b[0m         \u001b[0;32mwhile\u001b[0m \u001b[0;32mTrue\u001b[0m\u001b[0;34m:\u001b[0m\u001b[0;34m\u001b[0m\u001b[0;34m\u001b[0m\u001b[0m\n\u001b[0;32m--> 177\u001b[0;31m             \u001b[0mevent\u001b[0m \u001b[0;34m=\u001b[0m \u001b[0mself\u001b[0m\u001b[0;34m.\u001b[0m\u001b[0m_receive_event\u001b[0m\u001b[0;34m(\u001b[0m\u001b[0mtimeout\u001b[0m\u001b[0;34m=\u001b[0m\u001b[0mtimeout\u001b[0m\u001b[0;34m)\u001b[0m\u001b[0;34m\u001b[0m\u001b[0;34m\u001b[0m\u001b[0m\n\u001b[0m\u001b[1;32m    178\u001b[0m             \u001b[0;32mif\u001b[0m \u001b[0misinstance\u001b[0m\u001b[0;34m(\u001b[0m\u001b[0mevent\u001b[0m\u001b[0;34m,\u001b[0m \u001b[0mh11\u001b[0m\u001b[0;34m.\u001b[0m\u001b[0mResponse\u001b[0m\u001b[0;34m)\u001b[0m\u001b[0;34m:\u001b[0m\u001b[0;34m\u001b[0m\u001b[0;34m\u001b[0m\u001b[0m\n\u001b[1;32m    179\u001b[0m                 \u001b[0;32mbreak\u001b[0m\u001b[0;34m\u001b[0m\u001b[0;34m\u001b[0m\u001b[0m\n",
            "\u001b[0;32m/usr/local/lib/python3.11/dist-packages/httpcore/_sync/http11.py\u001b[0m in \u001b[0;36m_receive_event\u001b[0;34m(self, timeout)\u001b[0m\n\u001b[1;32m    215\u001b[0m \u001b[0;34m\u001b[0m\u001b[0m\n\u001b[1;32m    216\u001b[0m             \u001b[0;32mif\u001b[0m \u001b[0mevent\u001b[0m \u001b[0;32mis\u001b[0m \u001b[0mh11\u001b[0m\u001b[0;34m.\u001b[0m\u001b[0mNEED_DATA\u001b[0m\u001b[0;34m:\u001b[0m\u001b[0;34m\u001b[0m\u001b[0;34m\u001b[0m\u001b[0m\n\u001b[0;32m--> 217\u001b[0;31m                 data = self._network_stream.read(\n\u001b[0m\u001b[1;32m    218\u001b[0m                     \u001b[0mself\u001b[0m\u001b[0;34m.\u001b[0m\u001b[0mREAD_NUM_BYTES\u001b[0m\u001b[0;34m,\u001b[0m \u001b[0mtimeout\u001b[0m\u001b[0;34m=\u001b[0m\u001b[0mtimeout\u001b[0m\u001b[0;34m\u001b[0m\u001b[0;34m\u001b[0m\u001b[0m\n\u001b[1;32m    219\u001b[0m                 )\n",
            "\u001b[0;32m/usr/local/lib/python3.11/dist-packages/httpcore/_backends/sync.py\u001b[0m in \u001b[0;36mread\u001b[0;34m(self, max_bytes, timeout)\u001b[0m\n\u001b[1;32m    126\u001b[0m         \u001b[0;32mwith\u001b[0m \u001b[0mmap_exceptions\u001b[0m\u001b[0;34m(\u001b[0m\u001b[0mexc_map\u001b[0m\u001b[0;34m)\u001b[0m\u001b[0;34m:\u001b[0m\u001b[0;34m\u001b[0m\u001b[0;34m\u001b[0m\u001b[0m\n\u001b[1;32m    127\u001b[0m             \u001b[0mself\u001b[0m\u001b[0;34m.\u001b[0m\u001b[0m_sock\u001b[0m\u001b[0;34m.\u001b[0m\u001b[0msettimeout\u001b[0m\u001b[0;34m(\u001b[0m\u001b[0mtimeout\u001b[0m\u001b[0;34m)\u001b[0m\u001b[0;34m\u001b[0m\u001b[0;34m\u001b[0m\u001b[0m\n\u001b[0;32m--> 128\u001b[0;31m             \u001b[0;32mreturn\u001b[0m \u001b[0mself\u001b[0m\u001b[0;34m.\u001b[0m\u001b[0m_sock\u001b[0m\u001b[0;34m.\u001b[0m\u001b[0mrecv\u001b[0m\u001b[0;34m(\u001b[0m\u001b[0mmax_bytes\u001b[0m\u001b[0;34m)\u001b[0m\u001b[0;34m\u001b[0m\u001b[0;34m\u001b[0m\u001b[0m\n\u001b[0m\u001b[1;32m    129\u001b[0m \u001b[0;34m\u001b[0m\u001b[0m\n\u001b[1;32m    130\u001b[0m     \u001b[0;32mdef\u001b[0m \u001b[0mwrite\u001b[0m\u001b[0;34m(\u001b[0m\u001b[0mself\u001b[0m\u001b[0;34m,\u001b[0m \u001b[0mbuffer\u001b[0m\u001b[0;34m:\u001b[0m \u001b[0mbytes\u001b[0m\u001b[0;34m,\u001b[0m \u001b[0mtimeout\u001b[0m\u001b[0;34m:\u001b[0m \u001b[0mfloat\u001b[0m \u001b[0;34m|\u001b[0m \u001b[0;32mNone\u001b[0m \u001b[0;34m=\u001b[0m \u001b[0;32mNone\u001b[0m\u001b[0;34m)\u001b[0m \u001b[0;34m->\u001b[0m \u001b[0;32mNone\u001b[0m\u001b[0;34m:\u001b[0m\u001b[0;34m\u001b[0m\u001b[0;34m\u001b[0m\u001b[0m\n",
            "\u001b[0;32m/usr/lib/python3.11/ssl.py\u001b[0m in \u001b[0;36mrecv\u001b[0;34m(self, buflen, flags)\u001b[0m\n\u001b[1;32m   1293\u001b[0m                     \u001b[0;34m\"non-zero flags not allowed in calls to recv() on %s\"\u001b[0m \u001b[0;34m%\u001b[0m\u001b[0;34m\u001b[0m\u001b[0;34m\u001b[0m\u001b[0m\n\u001b[1;32m   1294\u001b[0m                     self.__class__)\n\u001b[0;32m-> 1295\u001b[0;31m             \u001b[0;32mreturn\u001b[0m \u001b[0mself\u001b[0m\u001b[0;34m.\u001b[0m\u001b[0mread\u001b[0m\u001b[0;34m(\u001b[0m\u001b[0mbuflen\u001b[0m\u001b[0;34m)\u001b[0m\u001b[0;34m\u001b[0m\u001b[0;34m\u001b[0m\u001b[0m\n\u001b[0m\u001b[1;32m   1296\u001b[0m         \u001b[0;32melse\u001b[0m\u001b[0;34m:\u001b[0m\u001b[0;34m\u001b[0m\u001b[0;34m\u001b[0m\u001b[0m\n\u001b[1;32m   1297\u001b[0m             \u001b[0;32mreturn\u001b[0m \u001b[0msuper\u001b[0m\u001b[0;34m(\u001b[0m\u001b[0;34m)\u001b[0m\u001b[0;34m.\u001b[0m\u001b[0mrecv\u001b[0m\u001b[0;34m(\u001b[0m\u001b[0mbuflen\u001b[0m\u001b[0;34m,\u001b[0m \u001b[0mflags\u001b[0m\u001b[0;34m)\u001b[0m\u001b[0;34m\u001b[0m\u001b[0;34m\u001b[0m\u001b[0m\n",
            "\u001b[0;32m/usr/lib/python3.11/ssl.py\u001b[0m in \u001b[0;36mread\u001b[0;34m(self, len, buffer)\u001b[0m\n\u001b[1;32m   1166\u001b[0m                 \u001b[0;32mreturn\u001b[0m \u001b[0mself\u001b[0m\u001b[0;34m.\u001b[0m\u001b[0m_sslobj\u001b[0m\u001b[0;34m.\u001b[0m\u001b[0mread\u001b[0m\u001b[0;34m(\u001b[0m\u001b[0mlen\u001b[0m\u001b[0;34m,\u001b[0m \u001b[0mbuffer\u001b[0m\u001b[0;34m)\u001b[0m\u001b[0;34m\u001b[0m\u001b[0;34m\u001b[0m\u001b[0m\n\u001b[1;32m   1167\u001b[0m             \u001b[0;32melse\u001b[0m\u001b[0;34m:\u001b[0m\u001b[0;34m\u001b[0m\u001b[0;34m\u001b[0m\u001b[0m\n\u001b[0;32m-> 1168\u001b[0;31m                 \u001b[0;32mreturn\u001b[0m \u001b[0mself\u001b[0m\u001b[0;34m.\u001b[0m\u001b[0m_sslobj\u001b[0m\u001b[0;34m.\u001b[0m\u001b[0mread\u001b[0m\u001b[0;34m(\u001b[0m\u001b[0mlen\u001b[0m\u001b[0;34m)\u001b[0m\u001b[0;34m\u001b[0m\u001b[0;34m\u001b[0m\u001b[0m\n\u001b[0m\u001b[1;32m   1169\u001b[0m         \u001b[0;32mexcept\u001b[0m \u001b[0mSSLError\u001b[0m \u001b[0;32mas\u001b[0m \u001b[0mx\u001b[0m\u001b[0;34m:\u001b[0m\u001b[0;34m\u001b[0m\u001b[0;34m\u001b[0m\u001b[0m\n\u001b[1;32m   1170\u001b[0m             \u001b[0;32mif\u001b[0m \u001b[0mx\u001b[0m\u001b[0;34m.\u001b[0m\u001b[0margs\u001b[0m\u001b[0;34m[\u001b[0m\u001b[0;36m0\u001b[0m\u001b[0;34m]\u001b[0m \u001b[0;34m==\u001b[0m \u001b[0mSSL_ERROR_EOF\u001b[0m \u001b[0;32mand\u001b[0m \u001b[0mself\u001b[0m\u001b[0;34m.\u001b[0m\u001b[0msuppress_ragged_eofs\u001b[0m\u001b[0;34m:\u001b[0m\u001b[0;34m\u001b[0m\u001b[0;34m\u001b[0m\u001b[0m\n",
            "\u001b[0;31mKeyboardInterrupt\u001b[0m: "
          ]
        }
      ]
    },
    {
      "cell_type": "markdown",
      "source": [
        "### Enviroment Agent\n",
        "\n"
      ],
      "metadata": {
        "id": "i74j5_NyQ7bf"
      }
    },
    {
      "cell_type": "code",
      "source": [
        "# Initialize the environment agent\n",
        "environment_agent = EnvironmentReActAgent(\n",
        "    client=client,\n",
        "    vector_metadata=scene_metadata,  # prior scene metadata\n",
        "    num_scenes=1  # how many scenes to look back\n",
        ")\n",
        "\n",
        "# Run the ReAct cycle for scene 2\n",
        "context, is_consistent, explanation, environment_details_suggestions, env_thoughts = environment_agent.run(\n",
        "    scene_description=scene_2_desc,\n",
        "    scene_number=2\n",
        ")\n",
        "\n",
        "# Display the results\n",
        "print(f\"Scene {2} — Environment Transition: {'✅ Consistent' if is_consistent else '❌ Inconsistent'}\")\n",
        "\n",
        "print(\"\\nExplanation:\\n\", explanation)\n",
        "\n",
        "print(\"\\nEnvironment Detail Suggestions:\\n\", environment_details_suggestions)\n",
        "\n",
        "print(\"\\nEnvironment Agent's Internal Thoughts:\")\n",
        "for thought in env_thoughts:\n",
        "    print(\"-\", thought)\n"
      ],
      "metadata": {
        "id": "ENRyo7XRQ_Rv",
        "colab": {
          "base_uri": "https://localhost:8080/"
        },
        "outputId": "e9d1a45e-d713-442b-ee58-143186dc836d"
      },
      "execution_count": null,
      "outputs": [
        {
          "output_type": "stream",
          "name": "stdout",
          "text": [
            "Scene 2 — Environment Transition: ✅ Consistent\n",
            "\n",
            "Explanation:\n",
            " Short Explanation: The transition is logical as the characters are still in the same location, Chuckles' Shop. The name might be slightly different, but it's clear that it's the same place. There's no need for a setup or linking action in this case.\n",
            "\n",
            "Environment Detail Suggestions:\n",
            " Environment Details Suggestions:\n",
            "- As Samantha's nerves reach a new high, she starts fidgeting with a small wind-up toy clown that Chuckles' Shop has on the counter. The clown toy suddenly springs to life, flailing its tiny arms and bobbing its head, which only adds to the awkwardness of the situation.\n",
            "- The shop also has a novelty doorbell that plays a silly, upbeat jingle every time someone enters or exits. The jingle loudly interrupts a particularly tense moment, causing the characters to jump and then laugh awkwardly to ease the tension.\n",
            "\n",
            "Environment Agent's Internal Thoughts:\n",
            "- Think: Analyzed environment features for Scene 2.\n",
            "- Observe: Scene transition is consistent.\n",
            "- Recommend: Provided environmental enhancement suggestions.\n"
          ]
        }
      ]
    },
    {
      "cell_type": "code",
      "source": [],
      "metadata": {
        "id": "0TO5QdlMY1D9"
      },
      "execution_count": null,
      "outputs": []
    },
    {
      "cell_type": "code",
      "source": [
        "stop"
      ],
      "metadata": {
        "colab": {
          "base_uri": "https://localhost:8080/",
          "height": 139
        },
        "id": "obtIhas6Q_Hp",
        "outputId": "7541c345-1625-4f68-9626-dc0c958ee25a"
      },
      "execution_count": null,
      "outputs": [
        {
          "output_type": "error",
          "ename": "NameError",
          "evalue": "name 'stop' is not defined",
          "traceback": [
            "\u001b[0;31m---------------------------------------------------------------------------\u001b[0m",
            "\u001b[0;31mNameError\u001b[0m                                 Traceback (most recent call last)",
            "\u001b[0;32m<ipython-input-24-4f76a9dad686>\u001b[0m in \u001b[0;36m<cell line: 0>\u001b[0;34m()\u001b[0m\n\u001b[0;32m----> 1\u001b[0;31m \u001b[0mstop\u001b[0m\u001b[0;34m\u001b[0m\u001b[0;34m\u001b[0m\u001b[0m\n\u001b[0m",
            "\u001b[0;31mNameError\u001b[0m: name 'stop' is not defined"
          ]
        }
      ]
    },
    {
      "cell_type": "markdown",
      "source": [
        "### Scene Planner Agent"
      ],
      "metadata": {
        "id": "50e9gy8LB0aj"
      }
    },
    {
      "cell_type": "code",
      "source": [
        "scene_planner_agent = ScenePlannerAgent(client=client)\n",
        "\n",
        "scene_2_plan = scene_planner_agent.plan_next_scene_explicit(\n",
        "    character_recommendations=char_recommendations,\n",
        "    comedic_recommendations=com_recommendations,\n",
        "    environment_details_suggestions=environment_details_suggestions,\n",
        "    scene_number=2\n",
        ")"
      ],
      "metadata": {
        "id": "59hqnint9VYo"
      },
      "execution_count": null,
      "outputs": []
    },
    {
      "cell_type": "code",
      "source": [
        "print(scene_2_plan)"
      ],
      "metadata": {
        "id": "dlxXKfGr9VVB"
      },
      "execution_count": null,
      "outputs": []
    },
    {
      "cell_type": "markdown",
      "source": [
        "### Generating Scene 2 Script"
      ],
      "metadata": {
        "id": "lyMGXxykE-3i"
      }
    },
    {
      "cell_type": "markdown",
      "source": [
        "**Make sure the physical enviroment is conssitent over the whole scene**\n",
        "\n",
        "**Define what a scene is to the agent**"
      ],
      "metadata": {
        "id": "e05wyWydbEPz"
      }
    },
    {
      "cell_type": "code",
      "source": [
        "scene_2_script = generate_scene(\n",
        "    client=client,\n",
        "    scene_plan=scene_2_plan,\n",
        "    scene_number= 2\n",
        ")\n",
        "\n",
        "print(scene_2_script)"
      ],
      "metadata": {
        "id": "BnxkFMQR1syY"
      },
      "execution_count": null,
      "outputs": []
    },
    {
      "cell_type": "markdown",
      "source": [
        "### Adding Metadata to Vector Database"
      ],
      "metadata": {
        "id": "crS4eTxLnoi2"
      }
    },
    {
      "cell_type": "code",
      "source": [
        "scene_metadata_2 = summarize_scene(\n",
        "    client=client,\n",
        "    sitcom_title=sitcom_title,\n",
        "    scene_script=scene_2_script\n",
        ")\n"
      ],
      "metadata": {
        "id": "zcOy2Xminpi0"
      },
      "execution_count": null,
      "outputs": []
    },
    {
      "cell_type": "code",
      "source": [
        "# Adds scene to the vector database\n",
        "add_scene_to_vector_db(\n",
        "    scene_metadata_2,\n",
        "    full_script=scene_2_script,\n",
        "    embedding_model=embedding_model,\n",
        "    index=index,\n",
        "    vector_metadata=vector_metadata\n",
        ")\n"
      ],
      "metadata": {
        "id": "sKUtCjW-npgb"
      },
      "execution_count": null,
      "outputs": []
    },
    {
      "cell_type": "code",
      "source": [
        "print(\"Total scenes stored in vector DB:\", index.ntotal, \"\\n\")\n",
        "\n",
        "for i, meta in enumerate(vector_metadata):\n",
        "    print(f\"\\nScene {i + 1}\")\n",
        "    print(\"Summary:\", meta[\"summary\"])\n",
        "    print(\"Characters:\", meta[\"characters\"])\n",
        "    print(\"Location:\", meta[\"location\"])\n",
        "    print(\"Recurring Joke:\", meta[\"recurring_joke\"])\n",
        "    print(\"Emotional Tone:\", meta[\"emotional_tone\"])\n"
      ],
      "metadata": {
        "id": "gG2QXVz5n81H"
      },
      "execution_count": null,
      "outputs": []
    },
    {
      "cell_type": "markdown",
      "source": [
        "## Scene 3 Generation"
      ],
      "metadata": {
        "id": "7pteDxs7i5vn"
      }
    },
    {
      "cell_type": "code",
      "source": [
        "scene_3_desc = extract_scene(outline, 3)\n",
        "print(scene_3_desc)"
      ],
      "metadata": {
        "id": "xFVSwC2S2fg_"
      },
      "execution_count": null,
      "outputs": []
    },
    {
      "cell_type": "markdown",
      "source": [
        "### Character Agent"
      ],
      "metadata": {
        "id": "4CKIVGewp-9H"
      }
    },
    {
      "cell_type": "code",
      "source": [
        "# Initialize the agent\n",
        "character_agent = CharacterAgent(\n",
        "    client=client,\n",
        "    vector_metadata=vector_metadata,\n",
        "    num_scenes=2\n",
        ")\n",
        "\n",
        "character_histories, is_consistent, explanation, char_recommendations, thoughts = character_agent.run(\n",
        "    scene_description=scene_3_desc,\n",
        "    scene_number=3\n",
        ")\n",
        "\n",
        "# Outputs\n",
        "print(f\"Scene {3} — Consistency: {'✅ Consistent' if is_consistent else '❌ Inconsistent'}\")\n",
        "print(\"\\nExplanation:\\n\", explanation)\n",
        "\n",
        "print(\"\\nInteraction Improvement Recommendations:\\n\", char_recommendations)\n",
        "\n",
        "print(\"\\nAgent's Internal Thoughts:\")\n",
        "for thought in thoughts:\n",
        "    print(\"-\", thought)\n"
      ],
      "metadata": {
        "id": "oQXW-nswz2us"
      },
      "execution_count": null,
      "outputs": []
    },
    {
      "cell_type": "markdown",
      "source": [
        "### Comedy Agent"
      ],
      "metadata": {
        "id": "SoZ5YFR9q-vT"
      }
    },
    {
      "cell_type": "code",
      "source": [
        "comedic_agent = ComedicAgent(client=client, vector_metadata=vector_metadata)\n",
        "\n",
        "is_consistent, analysis_text, com_recommendations, thoughts = comedic_agent.run(\n",
        "    scene_description=scene_3_desc,\n",
        "    scene_number=3\n",
        ")\n",
        "\n",
        "print(\"Is Consistent:\", is_consistent)\n",
        "print(\"Analysis:\\n\", analysis_text)\n",
        "print(\"Recommendations:\\n\", com_recommendations)\n",
        "print(\"Internal Thoughts:\\n\", thoughts)"
      ],
      "metadata": {
        "id": "d1rkV9qqz2r6"
      },
      "execution_count": null,
      "outputs": []
    },
    {
      "cell_type": "markdown",
      "source": [
        "### Enviroment Agent\n"
      ],
      "metadata": {
        "id": "s1o8wr8jtsuE"
      }
    },
    {
      "cell_type": "code",
      "source": [
        "environment_agent = EnvironmentReActAgent(\n",
        "    client=client,\n",
        "    vector_metadata=vector_metadata,  # your list of prior scene metadata\n",
        "    num_scenes=2  # or 2, 3, 5 — however many past scenes you want it to look at\n",
        ")"
      ],
      "metadata": {
        "id": "vuQawzfLz2pY"
      },
      "execution_count": null,
      "outputs": []
    },
    {
      "cell_type": "code",
      "source": [
        "environment_analysis, transition_check, environment_details_suggestions, env_thoughts = environment_agent.run(\n",
        "    scene_description=scene_3_desc,\n",
        "    scene_number=3\n",
        ")"
      ],
      "metadata": {
        "id": "rWRPSBiWz2m_"
      },
      "execution_count": null,
      "outputs": []
    },
    {
      "cell_type": "code",
      "source": [
        "print(environment_details_suggestions)"
      ],
      "metadata": {
        "id": "lEMoknH8z2kh"
      },
      "execution_count": null,
      "outputs": []
    },
    {
      "cell_type": "markdown",
      "source": [
        "### Scene Planner Agent"
      ],
      "metadata": {
        "id": "p_pZJkH3uInh"
      }
    },
    {
      "cell_type": "code",
      "source": [
        "scene_planner_agent = ScenePlannerAgent(client=client)\n",
        "\n",
        "scene_3_plan = scene_planner_agent.plan_next_scene_explicit(\n",
        "    character_recommendations=char_recommendations,\n",
        "    comedic_recommendations=com_recommendations,\n",
        "    environment_details_suggestions=environment_details_suggestions,\n",
        "    scene_number=3\n",
        ")"
      ],
      "metadata": {
        "id": "SzoOQcYGz2h9"
      },
      "execution_count": null,
      "outputs": []
    },
    {
      "cell_type": "code",
      "source": [
        "print(scene_3_plan)"
      ],
      "metadata": {
        "id": "LvPrcuz2uNlX"
      },
      "execution_count": null,
      "outputs": []
    },
    {
      "cell_type": "markdown",
      "source": [
        "### Generating Scene 3 Script"
      ],
      "metadata": {
        "id": "SoCkylEXvB7u"
      }
    },
    {
      "cell_type": "code",
      "source": [
        "scene_3_script = generate_scene(\n",
        "    client=client,\n",
        "    scene_plan=scene_3_plan,\n",
        "    scene_number= 3\n",
        ")\n",
        "\n",
        "print(scene_3_script)"
      ],
      "metadata": {
        "id": "OVxGUmjiuUGU"
      },
      "execution_count": null,
      "outputs": []
    },
    {
      "cell_type": "markdown",
      "source": [
        "### Adding Metadata to Vector Database"
      ],
      "metadata": {
        "id": "fjFh5eocvYhU"
      }
    },
    {
      "cell_type": "code",
      "source": [
        "'''\n",
        "MAKE FUNCTION!!!\n",
        "'''\n",
        "\n",
        "scene_metadata_3 = summarize_scene(\n",
        "    client=client,\n",
        "    sitcom_title=sitcom_title,\n",
        "    scene_script=scene_3_script\n",
        ")\n",
        "\n",
        "\n",
        "# Adds scene to the vector database\n",
        "add_scene_to_vector_db(\n",
        "    scene_metadata_3,\n",
        "    full_script=scene_3_script,\n",
        "    embedding_model=embedding_model,\n",
        "    index=index,\n",
        "    vector_metadata=vector_metadata\n",
        ")\n",
        "\n",
        "\n",
        "print(\"Total scenes stored in vector DB:\", index.ntotal, \"\\n\")\n",
        "\n",
        "for i, meta in enumerate(vector_metadata):\n",
        "    print(f\"\\nScene {i + 1}\")\n",
        "    print(\"Summary:\", meta[\"summary\"])\n",
        "    print(\"Characters:\", meta[\"characters\"])\n",
        "    print(\"Location:\", meta[\"location\"])\n",
        "    print(\"Recurring Joke:\", meta[\"recurring_joke\"])\n",
        "    print(\"Emotional Tone:\", meta[\"emotional_tone\"])\n"
      ],
      "metadata": {
        "id": "uFZ41BBxvE0c"
      },
      "execution_count": null,
      "outputs": []
    },
    {
      "cell_type": "markdown",
      "source": [
        "## Scene 4 Generation"
      ],
      "metadata": {
        "id": "RztuMTttcJ-h"
      }
    },
    {
      "cell_type": "code",
      "source": [
        "scene_4_desc = extract_scene(outline, 4)\n",
        "print(scene_4_desc)"
      ],
      "metadata": {
        "id": "YnDuemb9aVpE"
      },
      "execution_count": null,
      "outputs": []
    },
    {
      "cell_type": "markdown",
      "source": [
        "### Character Agent"
      ],
      "metadata": {
        "id": "RdUaKCUWe5AN"
      }
    },
    {
      "cell_type": "code",
      "source": [
        "# Initialize the agent\n",
        "character_agent = CharacterAgent(\n",
        "    client=client,\n",
        "    vector_metadata=vector_metadata,\n",
        "    num_scenes=3\n",
        ")\n",
        "\n",
        "character_histories, is_consistent, explanation, char_recommendations, thoughts = character_agent.run(\n",
        "    scene_description=scene_4_desc,\n",
        "    scene_number=4\n",
        ")\n",
        "\n",
        "# Outputs\n",
        "print(f\"Scene {4} — Consistency: {'✅ Consistent' if is_consistent else '❌ Inconsistent'}\")\n",
        "print(\"\\nExplanation:\\n\", explanation)\n",
        "\n",
        "print(\"\\nInteraction Improvement Recommendations:\\n\", char_recommendations)\n",
        "\n",
        "print(\"\\nAgent's Internal Thoughts:\")\n",
        "for thought in thoughts:\n",
        "    print(\"-\", thought)\n"
      ],
      "metadata": {
        "id": "NBweVSqldifu"
      },
      "execution_count": null,
      "outputs": []
    },
    {
      "cell_type": "markdown",
      "source": [
        "### Comedy Agent"
      ],
      "metadata": {
        "id": "9jGq4PUYftR6"
      }
    },
    {
      "cell_type": "code",
      "source": [
        "comedic_agent = ComedicAgent(client=client, vector_metadata=vector_metadata)\n",
        "\n",
        "is_consistent, analysis_text, com_recommendations, thoughts = comedic_agent.run(\n",
        "    scene_description=scene_4_desc,\n",
        "    scene_number=4\n",
        ")\n",
        "\n",
        "print(\"Is Consistent:\", is_consistent)\n",
        "print(\"Analysis:\\n\", analysis_text)\n",
        "print(\"Recommendations:\\n\", com_recommendations)\n",
        "print(\"Internal Thoughts:\\n\", thoughts)"
      ],
      "metadata": {
        "id": "5MiSLgNGdidC"
      },
      "execution_count": null,
      "outputs": []
    },
    {
      "cell_type": "markdown",
      "source": [
        "### Enviroment Agent\n"
      ],
      "metadata": {
        "id": "VfaoW5xGgpsF"
      }
    },
    {
      "cell_type": "code",
      "source": [
        "environment_agent = EnvironmentReActAgent(\n",
        "    client=client,\n",
        "    vector_metadata=vector_metadata,  # your list of prior scene metadata\n",
        "    num_scenes=3\n",
        ")"
      ],
      "metadata": {
        "id": "hT4tXUNVfxoM"
      },
      "execution_count": null,
      "outputs": []
    },
    {
      "cell_type": "code",
      "source": [
        "environment_analysis, transition_check, environment_details_suggestions, env_thoughts = environment_agent.run(\n",
        "    scene_description=scene_4_desc,\n",
        "    scene_number=4\n",
        ")"
      ],
      "metadata": {
        "id": "UzN2eU2ddial"
      },
      "execution_count": null,
      "outputs": []
    },
    {
      "cell_type": "code",
      "source": [
        "print(environment_details_suggestions)"
      ],
      "metadata": {
        "id": "T7TZsePndiWx"
      },
      "execution_count": null,
      "outputs": []
    },
    {
      "cell_type": "markdown",
      "source": [
        "### Scene Planner Agent"
      ],
      "metadata": {
        "id": "X5R8wnYMhN1z"
      }
    },
    {
      "cell_type": "code",
      "source": [
        "scene_planner_agent = ScenePlannerAgent(client=client)\n",
        "\n",
        "scene_4_plan = scene_planner_agent.plan_next_scene_explicit(\n",
        "    character_recommendations=char_recommendations,\n",
        "    comedic_recommendations=com_recommendations,\n",
        "    environment_details_suggestions=environment_details_suggestions,\n",
        "    scene_number=4\n",
        ")"
      ],
      "metadata": {
        "id": "jlm50ArShIfb"
      },
      "execution_count": null,
      "outputs": []
    },
    {
      "cell_type": "code",
      "source": [
        "print(scene_4_plan)"
      ],
      "metadata": {
        "id": "OVts3626ioxo"
      },
      "execution_count": null,
      "outputs": []
    },
    {
      "cell_type": "markdown",
      "source": [
        "### Generating Scene 4 Script"
      ],
      "metadata": {
        "id": "d-7NmcB9i5TD"
      }
    },
    {
      "cell_type": "code",
      "source": [
        "scene_4_script = generate_scene(\n",
        "    client=client,\n",
        "    scene_plan=scene_4_plan,\n",
        "    scene_number= 4\n",
        ")\n",
        "\n",
        "print(scene_4_script)"
      ],
      "metadata": {
        "id": "Lpq3ac1_i04z"
      },
      "execution_count": null,
      "outputs": []
    },
    {
      "cell_type": "markdown",
      "source": [
        "## Scene 5 Generation"
      ],
      "metadata": {
        "id": "ItrjexUZjHPx"
      }
    },
    {
      "cell_type": "code",
      "source": [
        "scene_5_desc = extract_scene(outline, 5)\n",
        "print(scene_5_desc)"
      ],
      "metadata": {
        "id": "PFMmuKXii80n"
      },
      "execution_count": null,
      "outputs": []
    },
    {
      "cell_type": "markdown",
      "source": [
        "### Character Agent"
      ],
      "metadata": {
        "id": "f3BPmDELjVq8"
      }
    },
    {
      "cell_type": "code",
      "source": [
        "# Initialize the agent\n",
        "character_agent = CharacterAgent(\n",
        "    client=client,\n",
        "    vector_metadata=vector_metadata,\n",
        "    num_scenes=3\n",
        ")\n",
        "\n",
        "character_histories, is_consistent, explanation, char_recommendations, thoughts = character_agent.run(\n",
        "    scene_description=scene_5_desc,\n",
        "    scene_number=5\n",
        ")\n",
        "\n",
        "# Outputs\n",
        "print(f\"Scene {5} — Consistency: {'✅ Consistent' if is_consistent else '❌ Inconsistent'}\")\n",
        "print(\"\\nExplanation:\\n\", explanation)\n",
        "\n",
        "print(\"\\nInteraction Improvement Recommendations:\\n\", char_recommendations)\n",
        "\n",
        "print(\"\\nAgent's Internal Thoughts:\")\n",
        "for thought in thoughts:\n",
        "    print(\"-\", thought)\n"
      ],
      "metadata": {
        "id": "FHImKv05jSem"
      },
      "execution_count": null,
      "outputs": []
    },
    {
      "cell_type": "markdown",
      "source": [
        "### Comedy Agent"
      ],
      "metadata": {
        "id": "U62wKQeEjvCK"
      }
    },
    {
      "cell_type": "code",
      "source": [
        "comedic_agent = ComedicAgent(client=client, vector_metadata=vector_metadata)\n",
        "\n",
        "is_consistent, analysis_text, com_recommendations, thoughts = comedic_agent.run(\n",
        "    scene_description=scene_5_desc,\n",
        "    scene_number=5\n",
        ")\n",
        "\n",
        "print(\"Is Consistent:\", is_consistent)\n",
        "print(\"Analysis:\\n\", analysis_text)\n",
        "print(\"Recommendations:\\n\", com_recommendations)\n",
        "print(\"Internal Thoughts:\\n\", thoughts)"
      ],
      "metadata": {
        "id": "h1tpW2Qpjubk"
      },
      "execution_count": null,
      "outputs": []
    },
    {
      "cell_type": "markdown",
      "source": [
        "### Enviroment Agent\n"
      ],
      "metadata": {
        "id": "KrjcVF_EmsEU"
      }
    },
    {
      "cell_type": "code",
      "source": [
        "environment_agent = EnvironmentReActAgent(\n",
        "    client=client,\n",
        "    vector_metadata=vector_metadata,  # your list of prior scene metadata\n",
        "    num_scenes=3\n",
        ")\n",
        "\n",
        "environment_analysis, transition_check, environment_details_suggestions, env_thoughts = environment_agent.run(\n",
        "    scene_description=scene_5_desc,\n",
        "    scene_number=5\n",
        ")\n",
        "\n",
        "print(environment_details_suggestions)"
      ],
      "metadata": {
        "id": "ICkQ00Hejqyx"
      },
      "execution_count": null,
      "outputs": []
    },
    {
      "cell_type": "markdown",
      "source": [
        "### Scene Planner Agent"
      ],
      "metadata": {
        "id": "OA3-guYQmwKo"
      }
    },
    {
      "cell_type": "code",
      "source": [
        "scene_planner_agent = ScenePlannerAgent(client=client)\n",
        "\n",
        "scene_5_plan = scene_planner_agent.plan_next_scene_explicit(\n",
        "    character_recommendations=char_recommendations,\n",
        "    comedic_recommendations=com_recommendations,\n",
        "    environment_details_suggestions=environment_details_suggestions,\n",
        "    scene_number=5\n",
        ")\n",
        "\n",
        "print(scene_5_plan)"
      ],
      "metadata": {
        "id": "axlPG5Bmjqvd"
      },
      "execution_count": null,
      "outputs": []
    },
    {
      "cell_type": "markdown",
      "source": [
        "### Generating Scene 5 Script"
      ],
      "metadata": {
        "id": "35ulfOk_nIas"
      }
    },
    {
      "cell_type": "code",
      "source": [
        "scene_5_script = generate_scene(\n",
        "    client=client,\n",
        "    scene_plan=scene_5_plan,\n",
        "    scene_number= 5\n",
        ")\n",
        "\n",
        "print(scene_5_script)"
      ],
      "metadata": {
        "id": "qfi_382Kjqr_"
      },
      "execution_count": null,
      "outputs": []
    },
    {
      "cell_type": "markdown",
      "source": [
        "## Combining Scripts\n",
        "\n"
      ],
      "metadata": {
        "id": "lVQJkSBVneFY"
      }
    },
    {
      "cell_type": "code",
      "source": [
        "# List your scene scripts in order\n",
        "scene_scripts = [\n",
        "    scene_1_script,\n",
        "    scene_2_script,\n",
        "    scene_3_script,\n",
        "    scene_4_script,\n",
        "    scene_5_script\n",
        "]\n",
        "\n",
        "# Combine with optional scene headers\n",
        "full_episode_script = \"\\n\\n\".join([\n",
        "    f\"### Scene {i+1} ###\\n{script.strip()}\"\n",
        "    for i, script in enumerate(scene_scripts)\n",
        "])\n",
        "\n",
        "print(full_episode_script)"
      ],
      "metadata": {
        "id": "llXvGlN2jqhi"
      },
      "execution_count": null,
      "outputs": []
    },
    {
      "cell_type": "code",
      "source": [],
      "metadata": {
        "id": "HX-W-qU6jZTq"
      },
      "execution_count": null,
      "outputs": []
    },
    {
      "cell_type": "code",
      "source": [],
      "metadata": {
        "id": "YXcVKO4MoRfJ"
      },
      "execution_count": null,
      "outputs": []
    }
  ]
}