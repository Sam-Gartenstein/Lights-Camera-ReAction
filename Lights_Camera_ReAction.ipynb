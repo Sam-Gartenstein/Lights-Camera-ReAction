{
  "nbformat": 4,
  "nbformat_minor": 0,
  "metadata": {
    "colab": {
      "provenance": []
    },
    "kernelspec": {
      "name": "python3",
      "display_name": "Python 3"
    },
    "language_info": {
      "name": "python"
    }
  },
  "cells": [
    {
      "cell_type": "markdown",
      "source": [
        "# 🎬 Lights, Camera, ReAction Functions\n",
        "\n",
        "This notebook builds a full **sitcom script generation pipeline** powered by **ReAct-based agents** — a powerful framework that combines **reasoning** (thinking through a problem) with **acting** (taking structured steps).\n",
        "\n",
        "We start by **generating a sitcom concept** from creative keywords, then **outlining** the pilot episode scene-by-scene.  \n",
        "**Scene 1** is generated directly from the outline to establish the world and tone.  \n",
        "After that, each new scene is **scripted, reviewed, and improved** using specialized **ReAct agents** — a **Character Agent**, **Comedy Agent**, and **Environment Agent** — that simulate a real sitcom writers' room.\n",
        "\n",
        "---\n",
        "\n",
        "✅ **Benefits of using ReAct agents**:\n",
        "\n",
        "- **More structured and transparent thinking:** Agents reason step-by-step before making edits.\n",
        "- **Dynamic adaptation:** Agents flexibly plan the next creative moves based on scene history.\n",
        "- **Better long-term coherence:** Scenes evolve logically, with tracked character growth, running jokes, emotional arcs, and worldbuilding.\n",
        "\n",
        "---\n",
        "\n",
        "After generation, each scene is **summarized and stored in a vector database**, enabling fast retrieval of scene metadata for future story planning.  \n",
        "By combining **structured agent workflows** and **retrieval-augmented memory**, we bring sitcom worlds to life — one coherent, character-driven scene at a time.\n"
      ],
      "metadata": {
        "id": "Si2nsv2ClE1h"
      }
    },
    {
      "cell_type": "code",
      "execution_count": 1,
      "metadata": {
        "id": "LuoY6uscnEfB"
      },
      "outputs": [],
      "source": [
        "#!pip install datasets\n",
        "#!pip install sentence-transformers faiss-cpu"
      ]
    },
    {
      "cell_type": "code",
      "source": [
        "from google.colab import drive\n",
        "drive.mount('/content/drive')"
      ],
      "metadata": {
        "colab": {
          "base_uri": "https://localhost:8080/"
        },
        "id": "j251JmmEogd5",
        "outputId": "f84c9d05-d196-4df8-db6a-46abcb4b518a"
      },
      "execution_count": 2,
      "outputs": [
        {
          "output_type": "stream",
          "name": "stdout",
          "text": [
            "Drive already mounted at /content/drive; to attempt to forcibly remount, call drive.mount(\"/content/drive\", force_remount=True).\n"
          ]
        }
      ]
    },
    {
      "cell_type": "code",
      "source": [
        "\n",
        "import sys\n",
        "sys.path.append(\"/content/drive/MyDrive/Spring 2025/Gen AI with LLM/Project/utils\") #Change to your path\n"
      ],
      "metadata": {
        "id": "nnNm07REpAhP"
      },
      "execution_count": 3,
      "outputs": []
    },
    {
      "cell_type": "code",
      "source": [
        "!ls \"/content/drive/MyDrive/Spring 2025/Gen AI with LLM/Project/utils\""
      ],
      "metadata": {
        "colab": {
          "base_uri": "https://localhost:8080/"
        },
        "id": "jqZoviZnFBDS",
        "outputId": "b46a7653-4651-447a-8171-9347b8692fb3"
      },
      "execution_count": 4,
      "outputs": [
        {
          "output_type": "stream",
          "name": "stdout",
          "text": [
            "character_agent.py     environment_helpers.py  script_review.py\n",
            "character_helpers.py   outline_generation.py   text_utils.py\n",
            "comedy_agent.py        __pycache__\t       vector_db_utils.py\n",
            "comedy_helpers.py      scene_planner_agent.py\n",
            "environment_agents.py  screen_writing.py\n"
          ]
        }
      ]
    },
    {
      "cell_type": "code",
      "source": [
        "from character_agent import CharacterAgent\n",
        "from comedy_agent import ComedicAgent\n",
        "from environment_agents import EnvironmentReActAgent\n",
        "from scene_planner_agent import ScenePlannerAgent\n",
        "\n",
        "from text_utils import (\n",
        "    display_markdown_output,\n",
        "    extract_scene,\n",
        "    extract_title,\n",
        ")\n",
        "\n",
        "from outline_generation import (\n",
        "    generate_sitcom_pitch,\n",
        "    generate_pilot_episode_outline\n",
        ")\n",
        "\n",
        "\n",
        "from script_review import (\n",
        "    validate_episode_outline,\n",
        ")\n",
        "\n",
        "from screen_writing import (\n",
        "    generate_scene_1_script,\n",
        "    generate_scene\n",
        ")\n",
        "\n",
        "\n",
        "from vector_db_utils import (\n",
        "    summarize_scene,\n",
        "    add_scene_to_vector_db\n",
        ")"
      ],
      "metadata": {
        "id": "aiTHmw_gpBmq"
      },
      "execution_count": 5,
      "outputs": []
    },
    {
      "cell_type": "code",
      "source": [
        "import numpy as np\n",
        "import openai\n",
        "from openai import OpenAI\n",
        "from IPython.display import Markdown, display\n",
        "import re\n",
        "import time\n",
        "from datetime import timedelta"
      ],
      "metadata": {
        "id": "-mhv4xoTpBgr"
      },
      "execution_count": 8,
      "outputs": []
    },
    {
      "cell_type": "code",
      "source": [
        "print(openai.__version__)"
      ],
      "metadata": {
        "colab": {
          "base_uri": "https://localhost:8080/"
        },
        "id": "v36UAh3ipr79",
        "outputId": "b6eaaecd-c4b9-4735-f157-38c20d123723"
      },
      "execution_count": 9,
      "outputs": [
        {
          "output_type": "stream",
          "name": "stdout",
          "text": [
            "1.75.0\n"
          ]
        }
      ]
    },
    {
      "cell_type": "code",
      "source": [
        "from google.colab import userdata\n",
        "import os\n",
        "\n",
        "api_key = userdata.get('OPENAI_API_KEY')\n",
        "client = OpenAI(api_key=api_key)"
      ],
      "metadata": {
        "id": "hbLOMS0bpr5r"
      },
      "execution_count": 10,
      "outputs": []
    },
    {
      "cell_type": "markdown",
      "source": [
        "### Vector Database"
      ],
      "metadata": {
        "id": "sCtF2fBzquY1"
      }
    },
    {
      "cell_type": "code",
      "source": [
        "from sentence_transformers import SentenceTransformer\n",
        "import faiss\n",
        "import numpy as np\n",
        "\n",
        "# Load embedding model\n",
        "embedding_model = SentenceTransformer(\"all-MiniLM-L6-v2\")\n",
        "\n",
        "# Vector store initialization\n",
        "dimension = embedding_model.get_sentence_embedding_dimension()\n",
        "index = faiss.IndexFlatL2(dimension)\n",
        "\n",
        "# To track metadata\n",
        "vector_metadata = []\n"
      ],
      "metadata": {
        "id": "CxvSxk0Gpr3f",
        "colab": {
          "base_uri": "https://localhost:8080/"
        },
        "outputId": "56edb1c2-aec8-42fc-98da-2db3559865fe"
      },
      "execution_count": 11,
      "outputs": [
        {
          "output_type": "stream",
          "name": "stderr",
          "text": [
            "/usr/local/lib/python3.11/dist-packages/huggingface_hub/utils/_auth.py:94: UserWarning: \n",
            "The secret `HF_TOKEN` does not exist in your Colab secrets.\n",
            "To authenticate with the Hugging Face Hub, create a token in your settings tab (https://huggingface.co/settings/tokens), set it as secret in your Google Colab and restart your session.\n",
            "You will be able to reuse this secret in all of your notebooks.\n",
            "Please note that authentication is recommended but still optional to access public models or datasets.\n",
            "  warnings.warn(\n"
          ]
        }
      ]
    },
    {
      "cell_type": "markdown",
      "source": [
        "### Generating Pitch\n",
        "\n",
        "- Generates pitch with key words"
      ],
      "metadata": {
        "id": "h4C0y2mRq9Hy"
      }
    },
    {
      "cell_type": "code",
      "source": [
        "keywords = [\n",
        "    \"urban locksmith shop\",\n",
        "    \"ex-con protagonist\",\n",
        "    \"estranged daughter\",\n",
        "    \"quirky parole officer\",\n",
        "    \"second chances\",\n",
        "    \"buddy comedy\",\n",
        "    \"New York City\",\n",
        "    \"heartfelt absurdism\",\n",
        "    \"odd couple dynamic\"\n",
        "]"
      ],
      "metadata": {
        "id": "axDx39kupBZO"
      },
      "execution_count": 12,
      "outputs": []
    },
    {
      "cell_type": "code",
      "source": [
        "start_time = time.time()\n",
        "\n",
        "# Generating Sitcom Pitch\n",
        "sitcom_pitch = generate_sitcom_pitch(client, keywords)\n",
        "display(Markdown(f\"### Sitcom Concept:\\n\\n{sitcom_pitch}\"))\n",
        "\n",
        "end_time = time.time()\n",
        "elapsed_time = end_time - start_time\n",
        "\n",
        "print(\" \")\n",
        "print(f\"Generation time: {elapsed_time:.2f} seconds\")\n"
      ],
      "metadata": {
        "colab": {
          "base_uri": "https://localhost:8080/",
          "height": 240
        },
        "id": "qSowDzaVq5yt",
        "outputId": "1ec77554-748f-4fcc-8890-d592e66b3115"
      },
      "execution_count": 13,
      "outputs": [
        {
          "output_type": "display_data",
          "data": {
            "text/plain": [
              "<IPython.core.display.Markdown object>"
            ],
            "text/markdown": "### Sitcom Concept:\n\nTitle: \"Unlocked\"\n\nDescription: \"Unlocked\" is a heartwarming, absurdly comedic take on second chances set against the backdrop of a vibrant, urban locksmith shop located deep in the heart of New York City. The sitcom follows the life of our ex-con protagonist, Charlie, a former safe-cracker who's trying to straighten his life out. He opens a locksmith shop as a form of repentance and attempts to reconnect with his estranged daughter, Abby, who's wary of his criminal past but reluctantly joins him in his new venture. The show thrives on the odd couple dynamic of Charlie and his quirky parole officer, Marv, who surprisingly becomes Charlie's best friend and silent partner in the locksmith shop. Marv's unorthodox methods of parole supervision often lead to hilariously unpredictable situations. Laden with buddy comedy moments, \"Unlocked\" tackles the theme of redemption in a bustling city that never sleeps, all while showcasing the funny and often poignant trials of a father and daughter trying to rebuild their relationship amidst keys, locks, and the constant possibility of relapse."
          },
          "metadata": {}
        },
        {
          "output_type": "stream",
          "name": "stdout",
          "text": [
            " \n",
            "Generation time: 12.57 seconds\n"
          ]
        }
      ]
    },
    {
      "cell_type": "markdown",
      "source": [
        "### Episode Outline"
      ],
      "metadata": {
        "id": "BtozqXT4rmna"
      }
    },
    {
      "cell_type": "code",
      "source": [
        "outline = generate_pilot_episode_outline(client, sitcom_pitch)\n",
        "display(Markdown(f\"### Sitcom Concept:\\n\\n{outline}\"))"
      ],
      "metadata": {
        "colab": {
          "base_uri": "https://localhost:8080/",
          "height": 660
        },
        "id": "SkdjzNUuq5uw",
        "outputId": "f96f7bac-1a86-4cd8-d877-6d7ab4e0115a"
      },
      "execution_count": 14,
      "outputs": [
        {
          "output_type": "display_data",
          "data": {
            "text/plain": [
              "<IPython.core.display.Markdown object>"
            ],
            "text/markdown": "### Sitcom Concept:\n\nEpisode Concept: In the pilot episode of \"Unlocked\", ex-con Charlie opens his locksmith shop, gets the surprise of his life when his daughter Abby shows up, and navigates the unexpected challenges of running a business under the watchful eye of his eccentric parole officer Marv.\n\nScene 1: \"The Shop Opens\" Charlie, with a mix of excitement and nervousness, opens his locksmith shop for the first time; a comedic exchange with a suspicious passerby sets the tone for his new life.\n\nScene 2: \"Routine Check\" Marv pops in for an unexpected parole check, leading to humorous misunderstandings about his unorthodox approach to parole supervision.\n\nScene 3: \"Surprise Visit\" Abby enters the shop, surprising Charlie and sparking a tense but ultimately heartwarming father-daughter reunion.\n\nScene 4: \"Skeletons in the Closet\" Charlie and Abby have a heartfelt conversation about their past, with Charlie expressing his hope for a second chance at being a better father.\n\nScene 5: \"The First Customer\" The shop's first customer brings a complex lock problem that is hilariously solved by Charlie's ex-con skills.\n\nScene 6: \"Marv's Motives\" Marv's frequent visits to the shop are revealed to be due to his interest in becoming a silent partner, leading to a comedic negotiation scene.\n\nScene 7: \"Abby's Reluctance\" Abby expresses her skepticism about Charlie's new venture and her fear of his possible relapse, adding depth to her character.\n\nScene 8: \"The Odd Couple\" Marv and Charlie's opposing personalities lead to a series of funny interactions as they try to run the shop together.\n\nScene 9: \"Lock-Picking Lesson\" Charlie gives Abby a lock-picking lesson, creating a heartfelt bonding moment between father and daughter.\n\nScene 10: \"Marv's Unorthodox Methods\" Marv's unconventional parole methods lead to a hilarious situation involving a potential customer and a misunderstanding about a stolen lock.\n\nScene 11: \"Old Habits Die Hard\" Charlie is tempted to return to his criminal ways, creating tension and underscoring his struggle for redemption.\n\nScene 12: \"Abby's Decision\" Abby decides to help her father, shifting the dynamic and setting the stage for future episodes.\n\nScene 13: \"Partnership Problems\" Charlie and Marv's partnership is tested by a ridiculous business situation, showcasing their comedic chemistry.\n\nScene 14: \"Tricky Customer\" A picky customer’s demands lead to humorous interactions and creative problem-solving by the team.\n\nScene 15: \"Father-Daughter Moment\" Abby opens up to Charlie about her feelings, and they share a touching father-daughter moment.\n\nScene 16: \"Marv's Surprise\" Marv surprises the duo with a witty idea to attract more customers, leading to a funny planning session.\n\nScene 17: \"The Heist Temptation\" A customer's valuable lock tempts Charlie, testing his resolve and creating a suspenseful, comedic situation.\n\nScene 18: \"Unexpected Success\" The team is surprised by a sudden influx of customers, leading to a series of hilarious mishaps.\n\nScene 19: \"Redemption Realized\" Charlie resists the temptation to return to crime, reinforcing the theme of redemption and strengthening his bond with Abby.\n\nScene 20: \"Locking Up\" The closing scene features Charlie, Abby, and Marv locking up after a long day, sharing a laugh, and leaving viewers eager for the next episode’s adventures."
          },
          "metadata": {}
        }
      ]
    },
    {
      "cell_type": "code",
      "source": [
        "validation = validate_episode_outline(client, sitcom_pitch, outline)\n",
        "display(Markdown(f\"### Coherence Evaluation:\\n\\n{validation}\"))"
      ],
      "metadata": {
        "colab": {
          "base_uri": "https://localhost:8080/",
          "height": 246
        },
        "id": "cSFjmE7cq5sN",
        "outputId": "20e768fe-fe64-405a-ef8c-a6e032498b5d"
      },
      "execution_count": 15,
      "outputs": [
        {
          "output_type": "display_data",
          "data": {
            "text/plain": [
              "<IPython.core.display.Markdown object>"
            ],
            "text/markdown": "### Coherence Evaluation:\n\nCoherence: Yes\n\nReasoning:\n- The outline is consistent with the sitcom's premise. It introduces Charlie's new life as a locksmith, his relationship with his estranged daughter Abby, and his quirky dynamic with his parole officer, Marv.\n- The sequence of events is logical and gradually builds up the characters and their relationships. For example, it starts with Charlie opening his shop, then Abby's unexpected arrival, and finally Marv's involvement in the business.\n- The tone of the sitcom is maintained throughout the outline. The humorous interactions, heartfelt moments, and the underlying theme of redemption are all well-balanced.\n- The outline effectively sets up potential storylines for future episodes, such as the evolution of Charlie and Abby's relationship, the odd couple dynamic between Charlie and Marv, and Charlie's struggle to resist his criminal past."
          },
          "metadata": {}
        }
      ]
    },
    {
      "cell_type": "markdown",
      "source": [
        "## Scene 1 Generation"
      ],
      "metadata": {
        "id": "8aUL4_lrmVI9"
      }
    },
    {
      "cell_type": "code",
      "source": [
        "scene_1_desc = extract_scene(outline, 1)\n",
        "print(scene_1_desc)"
      ],
      "metadata": {
        "colab": {
          "base_uri": "https://localhost:8080/"
        },
        "id": "-5JuA8trsdJs",
        "outputId": "bcddbcda-01d0-4675-ab72-019fcccb3bb0"
      },
      "execution_count": 16,
      "outputs": [
        {
          "output_type": "stream",
          "name": "stdout",
          "text": [
            "Scene 1: \"The Shop Opens\" Charlie, with a mix of excitement and nervousness, opens his locksmith shop for the first time; a comedic exchange with a suspicious passerby sets the tone for his new life.\n"
          ]
        }
      ]
    },
    {
      "cell_type": "code",
      "source": [
        "# Extracting title\n",
        "sitcom_title = extract_title(sitcom_pitch)\n",
        "print(sitcom_title)"
      ],
      "metadata": {
        "colab": {
          "base_uri": "https://localhost:8080/"
        },
        "id": "qoduPi8Eq5oj",
        "outputId": "79197f93-518c-4828-c70d-206b8218d2a4"
      },
      "execution_count": 17,
      "outputs": [
        {
          "output_type": "stream",
          "name": "stdout",
          "text": [
            "Unlocked\n"
          ]
        }
      ]
    },
    {
      "cell_type": "code",
      "source": [
        "scene_1_script = generate_scene_1_script(\n",
        "    client=client,\n",
        "    sitcom_title=sitcom_title,\n",
        "    scene_description=scene_1_desc,\n",
        "    rag_context=None,\n",
        "    line_target=(55, 75)\n",
        ")"
      ],
      "metadata": {
        "id": "SbPXID3TsicA"
      },
      "execution_count": 18,
      "outputs": []
    },
    {
      "cell_type": "code",
      "source": [
        "print(scene_1_script)"
      ],
      "metadata": {
        "colab": {
          "base_uri": "https://localhost:8080/"
        },
        "id": "Qy9xfJCssy9m",
        "outputId": "47063112-540d-4d29-ddc0-dfedf29c09c8"
      },
      "execution_count": 19,
      "outputs": [
        {
          "output_type": "stream",
          "name": "stdout",
          "text": [
            "\n",
            "INT. CHARLIE'S LOCKSMITH SHOP - DAY\n",
            "\n",
            "CHARLIE, a middle-aged man with a tool belt around his waist, hangs an \"Open\" sign on the door of his quaint locksmith shop. He surveys his new domain with a mix of excitement and trepidation. \n",
            "\n",
            "CHARLIE\n",
            "(to himself)\n",
            "Here goes nothing. \n",
            "\n",
            "Just as he turns back, a SUSPICIOUS PASSERBY, a grizzled man with a shifty gaze, peeks through the window.\n",
            "\n",
            "SUSPICIOUS PASSERBY\n",
            "(grinning)\n",
            "You the new locksmith in town, eh?\n",
            "\n",
            "CHARLIE\n",
            "(smiling nervously)\n",
            "Sure am! Can I help you with something?\n",
            "\n",
            "SUSPICIOUS PASSERBY\n",
            "Just sizing up the competition. \n",
            "\n",
            "[LAUGH TRACK]\n",
            "\n",
            "CHARLIE\n",
            "(looking confused)\n",
            "Competition? You're a locksmith too?\n",
            "\n",
            "SUSPICIOUS PASSERBY\n",
            "(leaning in)\n",
            "Not exactly. I specialize in... let's call it... \"unauthorized access\".\n",
            "\n",
            "[LAUGH TRACK]\n",
            "\n",
            "CHARLIE\n",
            "(laughs uncomfortably)\n",
            "So... a burglar?\n",
            "\n",
            "SUSPICIOUS PASSERBY\n",
            "(shrugging)\n",
            "I prefer the term \"lock enthusiast.\"\n",
            "\n",
            "[LAUGH TRACK]\n",
            "\n",
            "CHARLIE\n",
            "(sarcastically)\n",
            "Well, it's always good to meet a fellow enthusiast.\n",
            "\n",
            "SUSPICIOUS PASSERBY\n",
            "(nods)\n",
            "Indeed. Just remember, every lock you sell is a challenge I accept.\n",
            "\n",
            "[LAUGH TRACK]\n",
            "\n",
            "CHARLIE\n",
            "(nervously)\n",
            "I'll keep that in mind.\n",
            "\n",
            "The SUSPICIOUS PASSERBY saunters off, leaving CHARLIE staring after him, slightly bewildered.\n",
            "\n",
            "CHARLIE\n",
            "(shaking his head)\n",
            "I've definitely unlocked a new chapter in my life.\n",
            "\n",
            "[LAUGH TRACK]\n",
            "\n",
            "As CHARLIE turns back to his shop, he takes a deep breath, steeling himself for the challenges (and eccentric characters) his new venture would undoubtedly bring. \n",
            "\n",
            "FADE OUT.\n"
          ]
        }
      ]
    },
    {
      "cell_type": "markdown",
      "source": [
        "### Adding Metadata to Vector Database"
      ],
      "metadata": {
        "id": "ZdbXY1cEt-1O"
      }
    },
    {
      "cell_type": "code",
      "source": [
        "scene_metadata = summarize_scene(\n",
        "    client=client,\n",
        "    sitcom_title=sitcom_title,\n",
        "    scene_script=scene_1_script\n",
        ")\n",
        "\n"
      ],
      "metadata": {
        "id": "17KUHCNNsy7a"
      },
      "execution_count": 20,
      "outputs": []
    },
    {
      "cell_type": "code",
      "source": [
        "# Adds scene to the vector database\n",
        "add_scene_to_vector_db(\n",
        "    scene_metadata,\n",
        "    full_script=scene_1_script,\n",
        "    embedding_model=embedding_model,\n",
        "    index=index,\n",
        "    vector_metadata=vector_metadata\n",
        ")\n"
      ],
      "metadata": {
        "id": "9Fg2u-7fsy5S"
      },
      "execution_count": 21,
      "outputs": []
    },
    {
      "cell_type": "code",
      "source": [
        "print(\"Total scenes stored in vector DB:\", index.ntotal, \"\\n\")\n",
        "\n",
        "for i, meta in enumerate(vector_metadata):\n",
        "    print(f\"\\nScene {i + 1}\")\n",
        "    print(\"Summary:\", meta[\"summary\"])\n",
        "    print(\"Characters:\", meta[\"characters\"])\n",
        "    print(\"Location:\", meta[\"location\"])\n",
        "    print(\"Recurring Joke:\", meta[\"recurring_joke\"])\n",
        "    print(\"Emotional Tone:\", meta[\"emotional_tone\"])\n"
      ],
      "metadata": {
        "colab": {
          "base_uri": "https://localhost:8080/"
        },
        "id": "YOAaREImuIwB",
        "outputId": "ec9377c2-1e02-4d07-ee63-44463bd654b2"
      },
      "execution_count": 22,
      "outputs": [
        {
          "output_type": "stream",
          "name": "stdout",
          "text": [
            "Total scenes stored in vector DB: 1 \n",
            "\n",
            "\n",
            "Scene 1\n",
            "Summary: In this scene, Charlie, a middle-aged man, opens his new locksmith shop with a mix of excitement and trepidation. He is soon approached by a Suspicious Passerby who introduces himself as a \"lock enthusiast\", implying that he is a burglar. The interaction is filled with humor as they discuss their shared interest in locks, albeit from different perspectives. The Suspicious Passerby leaves Charlie with a cryptic warning about every lock being a challenge he accepts. Charlie, left slightly bewildered, acknowledges that he's embarked on a new chapter in his life, preparing himself for the challenges and eccentric characters his new venture will bring.\n",
            "Characters: ['Charlie', 'Suspicious Passerby']\n",
            "Location: Charlie's Locksmith Shop\n",
            "Recurring Joke: None\n",
            "Emotional Tone: Humorous, Tense\n"
          ]
        }
      ]
    },
    {
      "cell_type": "markdown",
      "source": [
        "## Scene 2 Generation"
      ],
      "metadata": {
        "id": "CbVu600kbqDr"
      }
    },
    {
      "cell_type": "code",
      "source": [
        "scene_2_desc = extract_scene(outline, 2)\n",
        "print(scene_2_desc)"
      ],
      "metadata": {
        "colab": {
          "base_uri": "https://localhost:8080/"
        },
        "id": "qJhaegD1yK2O",
        "outputId": "1858f1c9-b59e-477e-be67-ed5fadd085a2"
      },
      "execution_count": 23,
      "outputs": [
        {
          "output_type": "stream",
          "name": "stdout",
          "text": [
            "Scene 2: \"Routine Check\" Marv pops in for an unexpected parole check, leading to humorous misunderstandings about his unorthodox approach to parole supervision.\n"
          ]
        }
      ]
    },
    {
      "cell_type": "markdown",
      "source": [
        "### Character Agent"
      ],
      "metadata": {
        "id": "TgYclpbdbvON"
      }
    },
    {
      "cell_type": "code",
      "source": [
        "# Initialize the agent\n",
        "character_agent = CharacterAgent(\n",
        "    client=client,\n",
        "    vector_metadata=vector_metadata\n",
        ")\n",
        "\n",
        "character_histories, is_consistent, explanation, char_recommendations, thoughts = character_agent.run(\n",
        "    scene_description=scene_2_desc,\n",
        "    scene_number=2\n",
        ")\n",
        "\n",
        "# Outputs\n",
        "print(f\"Scene {2} — Consistency: {'✅ Consistent' if is_consistent else '❌ Inconsistent'}\")\n",
        "print(\"\\nExplanation:\\n\", explanation)\n",
        "\n",
        "print(\"\\nInteraction Improvement Recommendations:\\n\", char_recommendations)\n",
        "\n",
        "print(\"\\nAgent's Internal Thoughts:\")\n",
        "for thought in thoughts:\n",
        "    print(\"-\", thought)\n"
      ],
      "metadata": {
        "colab": {
          "base_uri": "https://localhost:8080/"
        },
        "id": "xHyBKNKi_axD",
        "outputId": "f2e6edde-f810-4452-e9c8-b0211ab96595"
      },
      "execution_count": 24,
      "outputs": [
        {
          "output_type": "stream",
          "name": "stdout",
          "text": [
            "Scene 2 — Consistency: ❌ Inconsistent\n",
            "\n",
            "Explanation:\n",
            " 1. Consistency Verdict: No\n",
            "2. Short Explanation: The character Marv has not been introduced or described in the character profiles, so it's impossible to determine if his behavior in the planned scene is consistent with his established profile. Charlie's consistency cannot be determined without the actual dialogue or actions from the scene.\n",
            "3. Specific Suggestions if inconsistencies exist: Provide a character profile for Marv, including his personality traits, speaking style and quirks, relationships with other characters, and emotional arc. Also, provide more details about the planned scene, including the dialogue and actions of the characters, to determine if they are behaving consistently with their established profiles.\n",
            "\n",
            "Interaction Improvement Recommendations:\n",
            " Interaction Recommendations:\n",
            "- [Suggestion 1] Marv, being a parole officer, could enter Charlie's shop with a stern demeanor, setting a serious tone. This can lead Charlie to initially mistake Marv for a customer with a \"tough guy\" act. He tries to lighten the mood with a locksmith joke, which either flies over Marv's head or earns a deadpan response, reinforcing Marv's serious demeanor and setting up contrast between the characters.\n",
            "  \n",
            "- [Suggestion 2] When Marv reveals he's there for a parole check, Charlie, still trying to maintain a light atmosphere, could playfully pretend to be the parolee, asking Marv about the \"do's and don'ts\" of parole. This could spark some humorous banter, as Marv clarifies he's there for a routine check and Charlie continues to tease him about his serious job, offering to \"lock up\" any unruly parolees for him.\n",
            "\n",
            "- [Suggestion 3] Charlie could offer to show Marv his collection of special locks, making the joke that it's his version of an \"ankle monitor\" for unruly customers. Marv could either seem unimpressed, or show a surprising interest, providing an opportunity for Charlie to show off his knowledge and passion for locks.\n",
            "\n",
            "- [Suggestion 4] Just as Marv is leaving the shop, Charlie could give him a “special” lock as a parting gift, with a cryptic comment about its function, mirroring the Suspicious Passerby's cryptic warning from the first scene. This leaves Marv puzzled, but also intrigued, setting up potential interactions for future episodes.\n",
            "\n",
            "Agent's Internal Thoughts:\n",
            "- Think: Identified characters ['Marv', 'Charlie'] in Scene 2.\n",
            "- Act: Retrieved profiles for ['Marv', 'Charlie'].\n",
            "- Observe: Scene is inconsistent.\n",
            "- Recommend: Provided suggestions for enhancing character dynamics.\n"
          ]
        }
      ]
    },
    {
      "cell_type": "markdown",
      "source": [
        "### Comedy Agent"
      ],
      "metadata": {
        "id": "uJ5OAsU-z6dN"
      }
    },
    {
      "cell_type": "code",
      "source": [
        "comedic_agent = ComedicAgent(client=client, vector_metadata=vector_metadata)\n",
        "\n",
        "is_consistent, analysis_text, com_recommendations, thoughts = comedic_agent.run(\n",
        "    scene_description=scene_2_desc,\n",
        "    scene_number=2\n",
        ")\n",
        "\n",
        "print(\"Is Consistent:\", is_consistent)\n",
        "print(\"Analysis:\\n\", analysis_text)\n",
        "print(\"Recommendations:\\n\", com_recommendations)\n",
        "print(\"Internal Thoughts:\\n\", thoughts)"
      ],
      "metadata": {
        "id": "zBilko_8_aqH",
        "colab": {
          "base_uri": "https://localhost:8080/"
        },
        "outputId": "80279ed8-74ce-4f50-ae1e-e913723751c4"
      },
      "execution_count": 25,
      "outputs": [
        {
          "output_type": "stream",
          "name": "stdout",
          "text": [
            "Is Consistent: True\n",
            "Analysis:\n",
            " 1. Detected Tone: Absurdity\n",
            "2. Consistency Verdict: Yes\n",
            "3. Short Explanation: The comedic tone of absurdity is consistent with the previous scene. Both scenes use unusual characters (a \"lock enthusiast\" and an unorthodox parole officer) and unexpected situations to create humor.\n",
            "4. Overuse Check: None\n",
            "5. Specific Suggestions if inconsistencies or overuse exist: Not applicable.\n",
            "Recommendations:\n",
            " Interaction Recommendations:\n",
            "- [Suggestion 1] Marv, the parole officer, could have a strange fascination with house plants and often gets distracted by them during his visits. In this scene, he could mistake a common houseplant for a rare, illegal species and start questioning the parolee about it, creating a humorous misunderstanding.\n",
            "\n",
            "- [Suggestion 2] Marv could use unconventional methods for parole check, like using a pair of socks to check for dust under the couch or asking the parolee to do 10 push-ups to ensure they're staying healthy. This creates a funny contrast between Marv's seriousness and the absurdity of his methods.\n",
            "\n",
            "- [Suggestion 3] Marv could carry a giant, outdated camcorder to document his parole visits, struggling to operate it and often accidentally zooming in too close or recording himself instead of the parolee. \n",
            "\n",
            "- [Suggestion 4] Marv could bring an unusual \"contraband-sniffing\" animal, like a ferret or a parrot, instead of a dog. The creature could create havoc in the house, adding to the hilarity of his visit. \n",
            "\n",
            "Incorporate a running joke of Marv always forgetting his glasses and struggling to read documents or identify objects, compounding the misunderstandings.\n",
            "Internal Thoughts:\n",
            " ['Analyzed and verified comedic consistency for Scene 2.', 'Provided comedic enhancement suggestions.']\n"
          ]
        }
      ]
    },
    {
      "cell_type": "markdown",
      "source": [
        "### Enviroment Agent\n",
        "\n"
      ],
      "metadata": {
        "id": "i74j5_NyQ7bf"
      }
    },
    {
      "cell_type": "code",
      "source": [
        "environment_agent = EnvironmentReActAgent(\n",
        "    client=client,\n",
        "    vector_metadata=vector_metadata,  # your list of prior scene metadata\n",
        "    num_scenes=1  # or 2, 3, 5 — however many past scenes you want it to look at\n",
        ")"
      ],
      "metadata": {
        "id": "ENRyo7XRQ_Rv"
      },
      "execution_count": 26,
      "outputs": []
    },
    {
      "cell_type": "code",
      "source": [
        "environment_analysis, transition_check, environment_details_suggestions, env_thoughts = environment_agent.run(\n",
        "    scene_description=scene_2_desc,\n",
        "    scene_number=2\n",
        ")"
      ],
      "metadata": {
        "id": "0TO5QdlMY1D9"
      },
      "execution_count": 27,
      "outputs": []
    },
    {
      "cell_type": "code",
      "source": [
        "print(environment_details_suggestions)"
      ],
      "metadata": {
        "colab": {
          "base_uri": "https://localhost:8080/"
        },
        "id": "obtIhas6Q_Hp",
        "outputId": "1cdfafb4-332b-4662-ccaf-2177e1591d65"
      },
      "execution_count": 28,
      "outputs": [
        {
          "output_type": "stream",
          "name": "stdout",
          "text": [
            "Environment Details Suggestions:\n",
            "- [Suggestion 1] As Charlie enters Marv's home, he's immediately greeted by an old, squeaky hamster wheel that Marv has repurposed as a noise-making security system to alert him of any intruders.\n",
            "- [Suggestion 2] A kitchen table cluttered with Marv's paperwork, including his parole documents, but also a 'Parolees for Dummies' book and a DIY home decor magazine, suggesting Marv's attempts to turn his life around.\n",
            "- [Suggestion 3] A peculiar smell wafts through Marv's home, a mix of brewed coffee and burnt toast, Marv's unique, albeit unsuccessful, attempt at cooking breakfast. The burnt toast is humorously mistaken for a potential fire hazard violation by Charlie.\n"
          ]
        }
      ]
    },
    {
      "cell_type": "markdown",
      "source": [
        "### Scene Planner Agent"
      ],
      "metadata": {
        "id": "50e9gy8LB0aj"
      }
    },
    {
      "cell_type": "code",
      "source": [
        "scene_planner_agent = ScenePlannerAgent(client=client)\n",
        "\n",
        "scene_2_plan = scene_planner_agent.plan_next_scene_explicit(\n",
        "    character_recommendations=char_recommendations,\n",
        "    comedic_recommendations=com_recommendations,\n",
        "    environment_details_suggestions=environment_details_suggestions,\n",
        "    scene_number=2\n",
        ")"
      ],
      "metadata": {
        "id": "59hqnint9VYo"
      },
      "execution_count": 29,
      "outputs": []
    },
    {
      "cell_type": "code",
      "source": [
        "print(scene_2_plan)"
      ],
      "metadata": {
        "colab": {
          "base_uri": "https://localhost:8080/"
        },
        "id": "dlxXKfGr9VVB",
        "outputId": "64441b8d-42f7-450a-e210-dd748c34e68b"
      },
      "execution_count": 30,
      "outputs": [
        {
          "output_type": "stream",
          "name": "stdout",
          "text": [
            "Scene Plan:\n",
            "Character Goals:\n",
            "- [Goal 1] Marv, the parole officer, enters Charlie's locksmith shop with a stern demeanor, leading Charlie to initially mistake him for a customer with a \"tough guy\" act. Charlie tries to lighten the mood with a locksmith joke which earns a deadpan response from Marv.\n",
            "- [Goal 2] Just as Marv is leaving the shop, Charlie gives him a “special” lock as a parting gift, with a cryptic comment about its function, leaving Marv puzzled but also intrigued.\n",
            "\n",
            "Comedic Goal:\n",
            "- [Goal 1] Marv carries a giant, outdated camcorder to document his parole visits, struggling to operate it and often accidentally zooming in too close or recording himself instead of the parolee.\n",
            "\n",
            "Environment Detail:\n",
            "- [Detail] As Charlie enters Marv's home, he's immediately greeted by an old, squeaky hamster wheel that Marv has repurposed as a noise-making security system to alert him of any intruders.\n",
            "\n",
            "Creative Suggestion:\n",
            "- [Suggestion] In the next scene, Charlie could visit Marv's home to fix a lock. As he enters, the hamster wheel squeaks loudly, startling both of them. As Charlie tries to understand and fix the lock, Marv starts documenting the visit on his camcorder but struggles to operate it, inadvertently recording close-ups of his own face. Charlie, amused, teases Marv about his technology skills, and introduces him to the concept of a digital lock, sparking Marv's interest. This could lead to future scenes where Marv tries to adapt to modern technology, providing more comic relief.\n"
          ]
        }
      ]
    },
    {
      "cell_type": "markdown",
      "source": [
        "### Generating Scene 2 Script"
      ],
      "metadata": {
        "id": "lyMGXxykE-3i"
      }
    },
    {
      "cell_type": "code",
      "source": [
        "scene_2_script = generate_scene(\n",
        "    client=client,\n",
        "    scene_plan=scene_2_plan,\n",
        "    scene_number= 2\n",
        ")\n",
        "\n",
        "print(scene_2_script)"
      ],
      "metadata": {
        "colab": {
          "base_uri": "https://localhost:8080/"
        },
        "id": "BnxkFMQR1syY",
        "outputId": "035a8319-9fce-4ecb-c522-001d7c69202f"
      },
      "execution_count": 31,
      "outputs": [
        {
          "output_type": "stream",
          "name": "stdout",
          "text": [
            "INT. CHARLIE'S LOCKSMITH SHOP - DAY\n",
            "\n",
            "Marv, a gruff parole officer holding a giant, outdated camcorder, walks in. Charlie, a friendly locksmith, looks up from his workbench, surprised by Marv's stern demeanor.\n",
            "\n",
            "CHARLIE\n",
            "(cheerful)\n",
            "Well, aren't you a bolt out of the blue! What can I do for you today?\n",
            "\n",
            "Marv grunts, fumbling with the camcorder. He accidentally zooms in on his own face, squinting into the lens.\n",
            "\n",
            "MARV\n",
            "(gruff)\n",
            "I'm here for a parole visit. And it's Marv, not \"bolt.\"\n",
            "\n",
            "Charlie chuckles, trying to lighten the mood.\n",
            "\n",
            "CHARLIE\n",
            "(laughing)\n",
            "Sorry, Marv. A locksmith humor. How about this one - why don't we play safe and avoid any lock-y puns?\n",
            "\n",
            "Marv gives a deadpan look, not amused.\n",
            "\n",
            "MARV\n",
            "(deadpan)\n",
            "That was... quite the knee-slapper, Charlie.\n",
            "\n",
            "Charlie hands Marv a “special” lock from the counter.\n",
            "\n",
            "CHARLIE\n",
            "(teasing)\n",
            "Here, a parting gift. It's a lock with a few tricks up its sleeve.\n",
            "\n",
            "Marv looks puzzled but intrigued. He exits the shop, still struggling with his camcorder.\n",
            "\n",
            "CUT TO:\n",
            "\n",
            "INT. MARV'S HOME - DAY\n",
            "\n",
            "Charlie enters Marv's home and is immediately greeted by an old, squeaky hamster wheel acting as a security system. It startles both of them.\n",
            "\n",
            "CHARLIE\n",
            "(surprised)\n",
            "Well, that's one way to repurpose a hamster wheel!\n",
            "\n",
            "Marv starts documenting Charlie's visit with his camcorder but struggles to focus it on Charlie. Instead, he keeps recording close-ups of his own face.\n",
            "\n",
            "CHARLIE\n",
            "(amused)\n",
            "Marv, I think the lock isn't the only thing you need to upgrade around here. Ever heard of a digital camera?\n",
            "\n",
            "Charlie holds up a small, sleek digital lock.\n",
            "\n",
            "CHARLIE\n",
            "(teasing)\n",
            "Or how about a digital lock? It's the future, Marv!\n",
            "\n",
            "Marv looks intrigued but still puzzled as he accidentally zooms in on the digital lock, filling the camcorder screen.\n",
            "\n",
            "FADE OUT.\n"
          ]
        }
      ]
    },
    {
      "cell_type": "markdown",
      "source": [
        "### Adding Metadata to Vector Database"
      ],
      "metadata": {
        "id": "crS4eTxLnoi2"
      }
    },
    {
      "cell_type": "code",
      "source": [
        "scene_metadata_2 = summarize_scene(\n",
        "    client=client,\n",
        "    sitcom_title=sitcom_title,\n",
        "    scene_script=scene_2_script\n",
        ")\n"
      ],
      "metadata": {
        "id": "zcOy2Xminpi0"
      },
      "execution_count": 32,
      "outputs": []
    },
    {
      "cell_type": "code",
      "source": [
        "# Adds scene to the vector database\n",
        "add_scene_to_vector_db(\n",
        "    scene_metadata_2,\n",
        "    full_script=scene_2_script,\n",
        "    embedding_model=embedding_model,\n",
        "    index=index,\n",
        "    vector_metadata=vector_metadata\n",
        ")\n"
      ],
      "metadata": {
        "id": "sKUtCjW-npgb"
      },
      "execution_count": 33,
      "outputs": []
    },
    {
      "cell_type": "code",
      "source": [
        "print(\"Total scenes stored in vector DB:\", index.ntotal, \"\\n\")\n",
        "\n",
        "for i, meta in enumerate(vector_metadata):\n",
        "    print(f\"\\nScene {i + 1}\")\n",
        "    print(\"Summary:\", meta[\"summary\"])\n",
        "    print(\"Characters:\", meta[\"characters\"])\n",
        "    print(\"Location:\", meta[\"location\"])\n",
        "    print(\"Recurring Joke:\", meta[\"recurring_joke\"])\n",
        "    print(\"Emotional Tone:\", meta[\"emotional_tone\"])\n"
      ],
      "metadata": {
        "colab": {
          "base_uri": "https://localhost:8080/"
        },
        "id": "gG2QXVz5n81H",
        "outputId": "d80d2c8c-54d9-413b-f820-a9383ac2272c"
      },
      "execution_count": 34,
      "outputs": [
        {
          "output_type": "stream",
          "name": "stdout",
          "text": [
            "Total scenes stored in vector DB: 2 \n",
            "\n",
            "\n",
            "Scene 1\n",
            "Summary: In this scene, Charlie, a middle-aged man, opens his new locksmith shop with a mix of excitement and trepidation. He is soon approached by a Suspicious Passerby who introduces himself as a \"lock enthusiast\", implying that he is a burglar. The interaction is filled with humor as they discuss their shared interest in locks, albeit from different perspectives. The Suspicious Passerby leaves Charlie with a cryptic warning about every lock being a challenge he accepts. Charlie, left slightly bewildered, acknowledges that he's embarked on a new chapter in his life, preparing himself for the challenges and eccentric characters his new venture will bring.\n",
            "Characters: ['Charlie', 'Suspicious Passerby']\n",
            "Location: Charlie's Locksmith Shop\n",
            "Recurring Joke: None\n",
            "Emotional Tone: Humorous, Tense\n",
            "\n",
            "Scene 2\n",
            "Summary: In this scene, Marv, a gruff parole officer, visits Charlie, a friendly locksmith, at his shop for a parole visit. Marv struggles with an outdated camcorder, which he uses to document the visit. Charlie attempts to lighten the mood with locksmith humor, but Marv remains unamused. Before Marv leaves, Charlie hands him a \"special\" lock with tricks. The scene transitions to Marv's home, where Charlie is startled by a repurposed hamster wheel acting as a security system. Charlie suggests that Marv upgrade his security system and his recording equipment, presenting a sleek digital lock as an example of modern technology. Marv is intrigued but confused, accidentally zooming in on the digital lock with his camcorder.\n",
            "Characters: ['Marv', 'Charlie']\n",
            "Location: - Charlie's Locksmith Shop\n",
            "- Marv's Home\n",
            "Recurring Joke: Marv's inability to operate his outdated camcorder, repeatedly zooming in on his own face and other close-ups.\n",
            "Emotional Tone: Amusing\n"
          ]
        }
      ]
    },
    {
      "cell_type": "markdown",
      "source": [
        "## Scene 3 Generation"
      ],
      "metadata": {
        "id": "7pteDxs7i5vn"
      }
    },
    {
      "cell_type": "code",
      "source": [
        "scene_3_desc = extract_scene(outline, 3)\n",
        "print(scene_3_desc)"
      ],
      "metadata": {
        "id": "xFVSwC2S2fg_",
        "colab": {
          "base_uri": "https://localhost:8080/"
        },
        "outputId": "a6eab0fd-3371-473a-e7da-aff99775d856"
      },
      "execution_count": 35,
      "outputs": [
        {
          "output_type": "stream",
          "name": "stdout",
          "text": [
            "Scene 3: \"Surprise Visit\" Abby enters the shop, surprising Charlie and sparking a tense but ultimately heartwarming father-daughter reunion.\n"
          ]
        }
      ]
    },
    {
      "cell_type": "markdown",
      "source": [
        "### Character Agent"
      ],
      "metadata": {
        "id": "4CKIVGewp-9H"
      }
    },
    {
      "cell_type": "code",
      "source": [
        "# Initialize the agent\n",
        "character_agent = CharacterAgent(\n",
        "    client=client,\n",
        "    vector_metadata=vector_metadata\n",
        ")\n",
        "\n",
        "character_histories, is_consistent, explanation, char_recommendations, thoughts = character_agent.run(\n",
        "    scene_description=scene_3_desc,\n",
        "    scene_number=3\n",
        ")\n",
        "\n",
        "# Outputs\n",
        "print(f\"Scene {3} — Consistency: {'✅ Consistent' if is_consistent else '❌ Inconsistent'}\")\n",
        "print(\"\\nExplanation:\\n\", explanation)\n",
        "\n",
        "print(\"\\nInteraction Improvement Recommendations:\\n\", char_recommendations)\n",
        "\n",
        "print(\"\\nAgent's Internal Thoughts:\")\n",
        "for thought in thoughts:\n",
        "    print(\"-\", thought)\n"
      ],
      "metadata": {
        "id": "oQXW-nswz2us",
        "colab": {
          "base_uri": "https://localhost:8080/"
        },
        "outputId": "a41f146d-84cc-4223-8aa8-b63ac77a314f"
      },
      "execution_count": 36,
      "outputs": [
        {
          "output_type": "stream",
          "name": "stdout",
          "text": [
            "Scene 3 — Consistency: ✅ Consistent\n",
            "\n",
            "Explanation:\n",
            " 1. Consistency Verdict (Yes/No)\n",
            "The text does not provide enough information to determine consistency.\n",
            "\n",
            "2. Short Explanation (max 5 lines)\n",
            "The text does not provide enough information about Abby's personality traits, speaking style, and quirks to determine if her behavior in the planned scene is consistent with her established profile. Similarly, the text does not provide enough information about Charlie's reaction to Abby's surprise visit to determine if his behavior is consistent with his established profile.\n",
            "\n",
            "3. Specific Suggestions if inconsistencies exist\n",
            "To determine consistency, the text should provide more information about Abby's personality traits, speaking style, and quirks. It should also provide more information about Charlie's reaction to Abby's surprise visit, including his emotions, dialogue, and actions.\n",
            "\n",
            "Interaction Improvement Recommendations:\n",
            " Interaction Recommendations:\n",
            "- Suggestion 1: Charlie could initially mistake Abby for a customer, allowing for some humorous confusion. He might greet her with his usual locksmith humor, making a joke about locks or keys. Abby's response could be warm but sardonic, hinting at their familiar relationship before she reveals her identity. This would showcase Charlie's humor and naivety while also introducing some initial tension.\n",
            "  \n",
            "- Suggestion 2: To bring in the element of conflict, Abby could express her concern about Charlie's new venture, citing the Suspicious Passerby incident as an example. Charlie could respond by light-heartedly assuring her with a locksmith metaphor, showing his innovative thinking and also his tendency to handle tense situations with humor. This would also serve to highlight their complicated yet loving relationship.\n",
            "  \n",
            "- Suggestion 3: Abby could bring up an old, personal memory that only she and Charlie share, perhaps a funny or heartwarming anecdote from her childhood. This could be a touching moment that diffuses the earlier tension and showcases their deep father-daughter bond. Charlie's response could be both humorous and emotional, reflecting on the memory with a mix of nostalgia and his usual light-hearted humor.\n",
            "\n",
            "- Suggestion 4: In a callback to his running behavior, Charlie could offer to show Abby a new lock or gadget he's working on, trying to impress her or perhaps change the topic. Abby could respond with a teasing comment about his fascination with locks, bringing in a touch of humor and familiarity to their interaction.\n",
            "\n",
            "Agent's Internal Thoughts:\n",
            "- Think: Identified characters ['Abby', 'Charlie'] in Scene 3.\n",
            "- Act: Retrieved profiles for ['Abby', 'Charlie'].\n",
            "- Observe: Scene is consistent.\n",
            "- Recommend: Provided suggestions for enhancing character dynamics.\n"
          ]
        }
      ]
    },
    {
      "cell_type": "markdown",
      "source": [
        "### Comedy Agent"
      ],
      "metadata": {
        "id": "SoZ5YFR9q-vT"
      }
    },
    {
      "cell_type": "code",
      "source": [
        "comedic_agent = ComedicAgent(client=client, vector_metadata=vector_metadata)\n",
        "\n",
        "is_consistent, analysis_text, com_recommendations, thoughts = comedic_agent.run(\n",
        "    scene_description=scene_3_desc,\n",
        "    scene_number=3\n",
        ")\n",
        "\n",
        "print(\"Is Consistent:\", is_consistent)\n",
        "print(\"Analysis:\\n\", analysis_text)\n",
        "print(\"Recommendations:\\n\", com_recommendations)\n",
        "print(\"Internal Thoughts:\\n\", thoughts)"
      ],
      "metadata": {
        "id": "d1rkV9qqz2r6",
        "colab": {
          "base_uri": "https://localhost:8080/"
        },
        "outputId": "e99b9898-e126-4895-b512-fabafab1d669"
      },
      "execution_count": 37,
      "outputs": [
        {
          "output_type": "stream",
          "name": "stdout",
          "text": [
            "Is Consistent: True\n",
            "Analysis:\n",
            " 1. Detected Tone: Heartwarming humor\n",
            "2. Consistency Verdict: Yes\n",
            "3. Short Explanation: The humor in this scene is consistent with the previous scenes. It maintains the light-hearted and humorous tone, but adds a touch of warmth and sentimentality due to the father-daughter reunion.\n",
            "4. Overuse Check: None\n",
            "5. Specific Suggestions if inconsistencies or overuse exist: N/A\n",
            "Recommendations:\n",
            " Interaction Recommendations:\n",
            "- [Suggestion 1]: As Abby enters the shop, she knocks over a stack of cans in the doorway, causing a loud crash. Charlie, without seeing who it is, scolds \"Hey, watch it!\" before realizing it's his daughter. It can be a running joke that Charlie always scolds people for knocking over the cans without checking who it is.\n",
            "- [Suggestion 2]: Abby, knowing Charlie's love for trivia, can try to ease the tension by challenging him to a trivia contest. They exchange a few questions back and forth, with Charlie getting his facts hilariously wrong but insisting he's right until Abby proves him wrong with her smartphone.\n",
            "- [Suggestion 3]: The heartwarming moment can be heightened with humor by having Charlie try to give Abby a serious, fatherly advice that ends up being about how to best handle a sandwich (a callback to Charlie's absurd sandwich obsession in previous episodes).\n",
            "- [Suggestion 4]: Abby can gift Charlie a 'World's Worst Trivia Player' mug as a peace offering, which Charlie accepts with good humor - another running joke could be the collection of 'worst at...' mugs Charlie has.\n",
            "Internal Thoughts:\n",
            " ['Analyzed and verified comedic consistency for Scene 3.', 'Provided comedic enhancement suggestions.']\n"
          ]
        }
      ]
    },
    {
      "cell_type": "markdown",
      "source": [
        "### Enviroment Agent\n"
      ],
      "metadata": {
        "id": "s1o8wr8jtsuE"
      }
    },
    {
      "cell_type": "code",
      "source": [
        "environment_agent = EnvironmentReActAgent(\n",
        "    client=client,\n",
        "    vector_metadata=vector_metadata,  # your list of prior scene metadata\n",
        "    num_scenes=2  # or 2, 3, 5 — however many past scenes you want it to look at\n",
        ")"
      ],
      "metadata": {
        "id": "vuQawzfLz2pY"
      },
      "execution_count": 38,
      "outputs": []
    },
    {
      "cell_type": "code",
      "source": [
        "environment_analysis, transition_check, environment_details_suggestions, env_thoughts = environment_agent.run(\n",
        "    scene_description=scene_3_desc,\n",
        "    scene_number=3\n",
        ")"
      ],
      "metadata": {
        "id": "rWRPSBiWz2m_"
      },
      "execution_count": 39,
      "outputs": []
    },
    {
      "cell_type": "code",
      "source": [
        "print(environment_details_suggestions)"
      ],
      "metadata": {
        "id": "lEMoknH8z2kh",
        "colab": {
          "base_uri": "https://localhost:8080/"
        },
        "outputId": "590a68bb-211e-4470-c72d-f4255271a340"
      },
      "execution_count": 40,
      "outputs": [
        {
          "output_type": "stream",
          "name": "stdout",
          "text": [
            "Environment Details Suggestions:\n",
            "- [Suggestion 1] As Marv enters the shop, a little bell jingles above the door, attracting everyone's attention. The bell is broken and jingles non-stop until Marv awkwardly reaches up to stop it, giving a humorous start to the scene.\n",
            "- [Suggestion 2] The shopkeeper, an elderly man with a quirky character, is trying to control a naughty parrot that keeps repeating random customer conversations, adding a light-hearted and funny element to the background.\n",
            "- [Suggestion 3] The shop has a distinct smell of old books and lavender air freshener, which Marv comments on, saying it's an unusual but surprisingly pleasant combination.\n"
          ]
        }
      ]
    },
    {
      "cell_type": "markdown",
      "source": [
        "### Scene Planner Agent"
      ],
      "metadata": {
        "id": "p_pZJkH3uInh"
      }
    },
    {
      "cell_type": "code",
      "source": [
        "scene_planner_agent = ScenePlannerAgent(client=client)\n",
        "\n",
        "scene_3_plan = scene_planner_agent.plan_next_scene_explicit(\n",
        "    character_recommendations=char_recommendations,\n",
        "    comedic_recommendations=com_recommendations,\n",
        "    environment_details_suggestions=environment_details_suggestions,\n",
        "    scene_number=3\n",
        ")"
      ],
      "metadata": {
        "id": "SzoOQcYGz2h9"
      },
      "execution_count": 41,
      "outputs": []
    },
    {
      "cell_type": "code",
      "source": [
        "print(scene_3_plan)"
      ],
      "metadata": {
        "colab": {
          "base_uri": "https://localhost:8080/"
        },
        "id": "LvPrcuz2uNlX",
        "outputId": "090e46d6-a9da-4f8e-ac54-44b3ac0e89d1"
      },
      "execution_count": 42,
      "outputs": [
        {
          "output_type": "stream",
          "name": "stdout",
          "text": [
            "Scene Plan:\n",
            "Character Goals:\n",
            "- [Goal 1]: To showcase Charlie's humor and naivety, he initially mistakes Abby for a customer and greets her with his usual locksmith humor. Abby's response is warm but sardonic, hinting at their familiar relationship before she reveals her identity.\n",
            "- [Goal 2]: To create an element of conflict, Abby expresses her concern about Charlie's new venture, citing the Suspicious Passerby incident as an example. Charlie responds by light-heartedly assuring her with a locksmith metaphor, showing his innovative thinking and also his tendency to handle tense situations with humor.\n",
            "\n",
            "Comedic Goal:\n",
            "- [Goal 1]: To lighten the mood, Abby challenges Charlie to a trivia contest. They exchange a few questions, with Charlie getting his facts hilariously wrong but insisting he's right until Abby proves him wrong with her smartphone.\n",
            "\n",
            "Environment Detail:\n",
            "- [Detail]: A little bell jingles above the door as Abby enters the shop. The bell is broken and jingles non-stop until Abby awkwardly reaches up to stop it.\n",
            "\n",
            "Creative Suggestion:\n",
            "- [Suggestion]: To naturally progress the scene and reinforce these goals, Abby could try to leave, but her keys are stuck in the lock. Charlie laughs and teases her about how it's a good thing she knows a locksmith. As he gets her keys free, Abby surprises him with an emotional statement about how she worries for him, tying back to her previous concern about his new venture. This moment brings back the conflict but in a more heartfelt manner, highlighting their complicated yet loving relationship. Charlie responds with a locksmith metaphor about how keys sometimes get stuck, but it doesn't mean the lock is broken, reassuring Abby in his own humorous way.\n"
          ]
        }
      ]
    },
    {
      "cell_type": "markdown",
      "source": [
        "### Generating Scene 3 Script"
      ],
      "metadata": {
        "id": "SoCkylEXvB7u"
      }
    },
    {
      "cell_type": "code",
      "source": [
        "scene_3_script = generate_scene(\n",
        "    client=client,\n",
        "    scene_plan=scene_3_plan,\n",
        "    scene_number= 3\n",
        ")\n",
        "\n",
        "print(scene_3_script)"
      ],
      "metadata": {
        "colab": {
          "base_uri": "https://localhost:8080/"
        },
        "id": "OVxGUmjiuUGU",
        "outputId": "4f6a3acb-600a-4b40-85ef-4eff7a0c1e35"
      },
      "execution_count": 43,
      "outputs": [
        {
          "output_type": "stream",
          "name": "stdout",
          "text": [
            "INT. CHARLIE'S LOCKSMITH SHOP - DAY\n",
            "\n",
            "The little bell above the door JINGLES non-stop as ABBY, a witty woman in her late 30s enters. She awkwardly reaches up to stop it.\n",
            "\n",
            "CHARLIE, a goofy locksmith in his early 40s, looks up from his work desk, his eyes sparkling with mischief.\n",
            "\n",
            "CHARLIE\n",
            "(cheerfully)\n",
            "Hi there, ma'am! Got a lock that even Houdini couldn't crack?\n",
            "\n",
            "Abby rolls her eyes, a grin creeping onto her face.\n",
            "\n",
            "ABBY\n",
            "(sarcastically)\n",
            "Wow, Charlie. You've really outdone yourself with the humor today.\n",
            "\n",
            "Charlie chuckles then realizing who it is, his face lights up.\n",
            "\n",
            "CHARLIE\n",
            "(surprised)\n",
            "Abby! I didn't recognize you at first!\n",
            "\n",
            "Abby crosses her arms, looking around the shop with concern.\n",
            "\n",
            "ABBY\n",
            "(worried)\n",
            "Charlie, are you sure about this new venture? Remember that Suspicious Passerby incident?\n",
            "\n",
            "Charlie waves off her concern, laughing it off.\n",
            "\n",
            "CHARLIE\n",
            "(teasing)\n",
            "Ah, come on Abby! Life's like a tricky lock, sometimes it just takes a few wrong turns to find the right groove.\n",
            "\n",
            "Abby smirks at Charlie's metaphor, challenging him.\n",
            "\n",
            "ABBY\n",
            "(competitive)\n",
            "Alright, Mr. Philosopher Locksmith. Trivia challenge?\n",
            "\n",
            "Charlie grins, ready for the challenge.\n",
            "\n",
            "CHARLIE\n",
            "(excited)\n",
            "Bring it on!\n",
            "\n",
            "They exchange a few questions. Charlie answers hilariously wrong but insists he's right. Abby proves him wrong with her smartphone, both laughing at the absurdity.\n",
            "\n",
            "Abby gets up to leave, her keys get stuck in the lock. Charlie laughs, teasing her.\n",
            "\n",
            "CHARLIE\n",
            "(teasing)\n",
            "Well, look at that. Good thing you know a locksmith, Abby!\n",
            "\n",
            "As Charlie gets her keys free, Abby surprises him with an emotional statement.\n",
            "\n",
            "ABBY\n",
            "(emotional)\n",
            "Charlie, I worry about you.\n",
            "\n",
            "The room falls silent. Charlie looks at Abby, a soft smile on his face.\n",
            "\n",
            "CHARLIE\n",
            "(reassuring)\n",
            "Abby, a key getting stuck doesn't mean the lock's broken. It just needs a bit of jiggling. \n",
            "\n",
            "Abby looks at Charlie, touched by his metaphor and reassured by his humor. They share a warm, silent moment before the non-stop JINGLING bell above the door breaks their silence, making them burst into laughter.\n",
            "\n",
            "FADE OUT.\n"
          ]
        }
      ]
    },
    {
      "cell_type": "markdown",
      "source": [
        "### Adding Metadata to Vector Database"
      ],
      "metadata": {
        "id": "fjFh5eocvYhU"
      }
    },
    {
      "cell_type": "code",
      "source": [
        "scene_metadata_3 = summarize_scene(\n",
        "    client=client,\n",
        "    sitcom_title=sitcom_title,\n",
        "    scene_script=scene_3_script\n",
        ")\n",
        "\n",
        "\n",
        "# Adds scene to the vector database\n",
        "add_scene_to_vector_db(\n",
        "    scene_metadata_3,\n",
        "    full_script=scene_3_script,\n",
        "    embedding_model=embedding_model,\n",
        "    index=index,\n",
        "    vector_metadata=vector_metadata\n",
        ")\n",
        "\n",
        "\n",
        "print(\"Total scenes stored in vector DB:\", index.ntotal, \"\\n\")\n",
        "\n",
        "for i, meta in enumerate(vector_metadata):\n",
        "    print(f\"\\nScene {i + 1}\")\n",
        "    print(\"Summary:\", meta[\"summary\"])\n",
        "    print(\"Characters:\", meta[\"characters\"])\n",
        "    print(\"Location:\", meta[\"location\"])\n",
        "    print(\"Recurring Joke:\", meta[\"recurring_joke\"])\n",
        "    print(\"Emotional Tone:\", meta[\"emotional_tone\"])\n"
      ],
      "metadata": {
        "colab": {
          "base_uri": "https://localhost:8080/"
        },
        "id": "uFZ41BBxvE0c",
        "outputId": "1ed8a421-42ce-4222-8b52-d332daeeb2d8"
      },
      "execution_count": 44,
      "outputs": [
        {
          "output_type": "stream",
          "name": "stdout",
          "text": [
            "Total scenes stored in vector DB: 3 \n",
            "\n",
            "\n",
            "Scene 1\n",
            "Summary: In this scene, Charlie, a middle-aged man, opens his new locksmith shop with a mix of excitement and trepidation. He is soon approached by a Suspicious Passerby who introduces himself as a \"lock enthusiast\", implying that he is a burglar. The interaction is filled with humor as they discuss their shared interest in locks, albeit from different perspectives. The Suspicious Passerby leaves Charlie with a cryptic warning about every lock being a challenge he accepts. Charlie, left slightly bewildered, acknowledges that he's embarked on a new chapter in his life, preparing himself for the challenges and eccentric characters his new venture will bring.\n",
            "Characters: ['Charlie', 'Suspicious Passerby']\n",
            "Location: Charlie's Locksmith Shop\n",
            "Recurring Joke: None\n",
            "Emotional Tone: Humorous, Tense\n",
            "\n",
            "Scene 2\n",
            "Summary: In this scene, Marv, a gruff parole officer, visits Charlie, a friendly locksmith, at his shop for a parole visit. Marv struggles with an outdated camcorder, which he uses to document the visit. Charlie attempts to lighten the mood with locksmith humor, but Marv remains unamused. Before Marv leaves, Charlie hands him a \"special\" lock with tricks. The scene transitions to Marv's home, where Charlie is startled by a repurposed hamster wheel acting as a security system. Charlie suggests that Marv upgrade his security system and his recording equipment, presenting a sleek digital lock as an example of modern technology. Marv is intrigued but confused, accidentally zooming in on the digital lock with his camcorder.\n",
            "Characters: ['Marv', 'Charlie']\n",
            "Location: - Charlie's Locksmith Shop\n",
            "- Marv's Home\n",
            "Recurring Joke: Marv's inability to operate his outdated camcorder, repeatedly zooming in on his own face and other close-ups.\n",
            "Emotional Tone: Amusing\n",
            "\n",
            "Scene 3\n",
            "Summary: Abby, a witty woman, visits Charlie's locksmith shop. The two share a playful, teasing relationship, evident in their banter and a trivia challenge. Despite their humor, Abby expresses concern for Charlie's new venture, referencing a past incident. Charlie reassures her with a lock metaphor, which Abby appreciates. The scene ends with a touching moment between the two, broken by the continuous jingling of the shop's bell, causing them to laugh. The scene highlights their close relationship, Charlie's carefree attitude, and Abby's concern for him, encapsulated in a mix of humor and emotional depth.\n",
            "Characters: ['Abby', 'Charlie']\n",
            "Location: Charlie's Locksmith Shop\n",
            "Recurring Joke: The jingling bell above the door that Abby tries to stop at the beginning and which interrupts their moment at the end.\n",
            "Emotional Tone: Humorous, Touching\n"
          ]
        }
      ]
    }
  ]
}