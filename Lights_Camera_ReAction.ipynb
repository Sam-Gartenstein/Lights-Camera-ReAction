{
  "nbformat": 4,
  "nbformat_minor": 0,
  "metadata": {
    "colab": {
      "provenance": []
    },
    "kernelspec": {
      "name": "python3",
      "display_name": "Python 3"
    },
    "language_info": {
      "name": "python"
    }
  },
  "cells": [
    {
      "cell_type": "markdown",
      "source": [
        "# Lights, Camera, ReAction 🎬🎥😆\n",
        "\n",
        "\n",
        "**ADD HOW INFO IS STORED IN META DATA**\n",
        "\n",
        "This notebook builds a full **sitcom script generation pipeline** powered by **ReAct-based agents** — a powerful framework that combines **reasoning** (thinking through a problem) with **acting** (taking structured steps).\n",
        "\n",
        "We start by **generating a sitcom concept** from creative keywords, then **outlining** the pilot episode scene-by-scene.  \n",
        "**Scene 1** is generated directly from the outline to establish the world and tone.  \n",
        "After that, each new scene is **scripted, reviewed, and improved** using specialized **ReAct agents** — a **Character Agent**, **Comedy Agent**, and **Environment Agent** — that simulate a real sitcom writers' room.\n",
        "\n",
        "---\n",
        "\n",
        " **Benefits of using ReAct agents**:\n",
        "\n",
        "- **More structured and transparent thinking:** Agents reason step-by-step before making edits.\n",
        "- **Dynamic adaptation:** Agents flexibly plan the next creative moves based on scene history.\n",
        "- **Better long-term coherence:** Scenes evolve logically, with tracked character growth, running jokes, emotional arcs, and worldbuilding.\n",
        "\n",
        "---\n",
        "\n",
        "After generation, each scene is **summarized and stored in a vector database**, enabling fast retrieval of scene metadata for future story planning.  \n",
        "By combining **structured agent workflows** and **retrieval-augmented memory**, we bring sitcom worlds to life — one coherent, character-driven scene at a time.\n"
      ],
      "metadata": {
        "id": "Si2nsv2ClE1h"
      }
    },
    {
      "cell_type": "code",
      "execution_count": 1,
      "metadata": {
        "id": "LuoY6uscnEfB",
        "colab": {
          "base_uri": "https://localhost:8080/"
        },
        "outputId": "e2bb6d8f-9721-4161-a77e-1eefbb0dcad3"
      },
      "outputs": [
        {
          "output_type": "stream",
          "name": "stdout",
          "text": [
            "Requirement already satisfied: datasets in /usr/local/lib/python3.11/dist-packages (3.6.0)\n",
            "Requirement already satisfied: filelock in /usr/local/lib/python3.11/dist-packages (from datasets) (3.18.0)\n",
            "Requirement already satisfied: numpy>=1.17 in /usr/local/lib/python3.11/dist-packages (from datasets) (2.0.2)\n",
            "Requirement already satisfied: pyarrow>=15.0.0 in /usr/local/lib/python3.11/dist-packages (from datasets) (18.1.0)\n",
            "Requirement already satisfied: dill<0.3.9,>=0.3.0 in /usr/local/lib/python3.11/dist-packages (from datasets) (0.3.8)\n",
            "Requirement already satisfied: pandas in /usr/local/lib/python3.11/dist-packages (from datasets) (2.2.2)\n",
            "Requirement already satisfied: requests>=2.32.2 in /usr/local/lib/python3.11/dist-packages (from datasets) (2.32.3)\n",
            "Requirement already satisfied: tqdm>=4.66.3 in /usr/local/lib/python3.11/dist-packages (from datasets) (4.67.1)\n",
            "Requirement already satisfied: xxhash in /usr/local/lib/python3.11/dist-packages (from datasets) (3.5.0)\n",
            "Requirement already satisfied: multiprocess<0.70.17 in /usr/local/lib/python3.11/dist-packages (from datasets) (0.70.16)\n",
            "Requirement already satisfied: fsspec<=2025.3.0,>=2023.1.0 in /usr/local/lib/python3.11/dist-packages (from fsspec[http]<=2025.3.0,>=2023.1.0->datasets) (2025.3.0)\n",
            "Requirement already satisfied: huggingface-hub>=0.24.0 in /usr/local/lib/python3.11/dist-packages (from datasets) (0.30.2)\n",
            "Requirement already satisfied: packaging in /usr/local/lib/python3.11/dist-packages (from datasets) (24.2)\n",
            "Requirement already satisfied: pyyaml>=5.1 in /usr/local/lib/python3.11/dist-packages (from datasets) (6.0.2)\n",
            "Requirement already satisfied: aiohttp!=4.0.0a0,!=4.0.0a1 in /usr/local/lib/python3.11/dist-packages (from fsspec[http]<=2025.3.0,>=2023.1.0->datasets) (3.11.15)\n",
            "Requirement already satisfied: typing-extensions>=3.7.4.3 in /usr/local/lib/python3.11/dist-packages (from huggingface-hub>=0.24.0->datasets) (4.13.2)\n",
            "Requirement already satisfied: charset-normalizer<4,>=2 in /usr/local/lib/python3.11/dist-packages (from requests>=2.32.2->datasets) (3.4.1)\n",
            "Requirement already satisfied: idna<4,>=2.5 in /usr/local/lib/python3.11/dist-packages (from requests>=2.32.2->datasets) (3.10)\n",
            "Requirement already satisfied: urllib3<3,>=1.21.1 in /usr/local/lib/python3.11/dist-packages (from requests>=2.32.2->datasets) (2.4.0)\n",
            "Requirement already satisfied: certifi>=2017.4.17 in /usr/local/lib/python3.11/dist-packages (from requests>=2.32.2->datasets) (2025.4.26)\n",
            "Requirement already satisfied: python-dateutil>=2.8.2 in /usr/local/lib/python3.11/dist-packages (from pandas->datasets) (2.9.0.post0)\n",
            "Requirement already satisfied: pytz>=2020.1 in /usr/local/lib/python3.11/dist-packages (from pandas->datasets) (2025.2)\n",
            "Requirement already satisfied: tzdata>=2022.7 in /usr/local/lib/python3.11/dist-packages (from pandas->datasets) (2025.2)\n",
            "Requirement already satisfied: aiohappyeyeballs>=2.3.0 in /usr/local/lib/python3.11/dist-packages (from aiohttp!=4.0.0a0,!=4.0.0a1->fsspec[http]<=2025.3.0,>=2023.1.0->datasets) (2.6.1)\n",
            "Requirement already satisfied: aiosignal>=1.1.2 in /usr/local/lib/python3.11/dist-packages (from aiohttp!=4.0.0a0,!=4.0.0a1->fsspec[http]<=2025.3.0,>=2023.1.0->datasets) (1.3.2)\n",
            "Requirement already satisfied: attrs>=17.3.0 in /usr/local/lib/python3.11/dist-packages (from aiohttp!=4.0.0a0,!=4.0.0a1->fsspec[http]<=2025.3.0,>=2023.1.0->datasets) (25.3.0)\n",
            "Requirement already satisfied: frozenlist>=1.1.1 in /usr/local/lib/python3.11/dist-packages (from aiohttp!=4.0.0a0,!=4.0.0a1->fsspec[http]<=2025.3.0,>=2023.1.0->datasets) (1.6.0)\n",
            "Requirement already satisfied: multidict<7.0,>=4.5 in /usr/local/lib/python3.11/dist-packages (from aiohttp!=4.0.0a0,!=4.0.0a1->fsspec[http]<=2025.3.0,>=2023.1.0->datasets) (6.4.3)\n",
            "Requirement already satisfied: propcache>=0.2.0 in /usr/local/lib/python3.11/dist-packages (from aiohttp!=4.0.0a0,!=4.0.0a1->fsspec[http]<=2025.3.0,>=2023.1.0->datasets) (0.3.1)\n",
            "Requirement already satisfied: yarl<2.0,>=1.17.0 in /usr/local/lib/python3.11/dist-packages (from aiohttp!=4.0.0a0,!=4.0.0a1->fsspec[http]<=2025.3.0,>=2023.1.0->datasets) (1.20.0)\n",
            "Requirement already satisfied: six>=1.5 in /usr/local/lib/python3.11/dist-packages (from python-dateutil>=2.8.2->pandas->datasets) (1.17.0)\n",
            "Requirement already satisfied: sentence-transformers in /usr/local/lib/python3.11/dist-packages (3.4.1)\n",
            "Requirement already satisfied: faiss-cpu in /usr/local/lib/python3.11/dist-packages (1.11.0)\n",
            "Requirement already satisfied: transformers<5.0.0,>=4.41.0 in /usr/local/lib/python3.11/dist-packages (from sentence-transformers) (4.51.3)\n",
            "Requirement already satisfied: tqdm in /usr/local/lib/python3.11/dist-packages (from sentence-transformers) (4.67.1)\n",
            "Requirement already satisfied: torch>=1.11.0 in /usr/local/lib/python3.11/dist-packages (from sentence-transformers) (2.6.0+cu124)\n",
            "Requirement already satisfied: scikit-learn in /usr/local/lib/python3.11/dist-packages (from sentence-transformers) (1.6.1)\n",
            "Requirement already satisfied: scipy in /usr/local/lib/python3.11/dist-packages (from sentence-transformers) (1.15.2)\n",
            "Requirement already satisfied: huggingface-hub>=0.20.0 in /usr/local/lib/python3.11/dist-packages (from sentence-transformers) (0.30.2)\n",
            "Requirement already satisfied: Pillow in /usr/local/lib/python3.11/dist-packages (from sentence-transformers) (11.2.1)\n",
            "Requirement already satisfied: numpy<3.0,>=1.25.0 in /usr/local/lib/python3.11/dist-packages (from faiss-cpu) (2.0.2)\n",
            "Requirement already satisfied: packaging in /usr/local/lib/python3.11/dist-packages (from faiss-cpu) (24.2)\n",
            "Requirement already satisfied: filelock in /usr/local/lib/python3.11/dist-packages (from huggingface-hub>=0.20.0->sentence-transformers) (3.18.0)\n",
            "Requirement already satisfied: fsspec>=2023.5.0 in /usr/local/lib/python3.11/dist-packages (from huggingface-hub>=0.20.0->sentence-transformers) (2025.3.0)\n",
            "Requirement already satisfied: pyyaml>=5.1 in /usr/local/lib/python3.11/dist-packages (from huggingface-hub>=0.20.0->sentence-transformers) (6.0.2)\n",
            "Requirement already satisfied: requests in /usr/local/lib/python3.11/dist-packages (from huggingface-hub>=0.20.0->sentence-transformers) (2.32.3)\n",
            "Requirement already satisfied: typing-extensions>=3.7.4.3 in /usr/local/lib/python3.11/dist-packages (from huggingface-hub>=0.20.0->sentence-transformers) (4.13.2)\n",
            "Requirement already satisfied: networkx in /usr/local/lib/python3.11/dist-packages (from torch>=1.11.0->sentence-transformers) (3.4.2)\n",
            "Requirement already satisfied: jinja2 in /usr/local/lib/python3.11/dist-packages (from torch>=1.11.0->sentence-transformers) (3.1.6)\n",
            "Requirement already satisfied: nvidia-cuda-nvrtc-cu12==12.4.127 in /usr/local/lib/python3.11/dist-packages (from torch>=1.11.0->sentence-transformers) (12.4.127)\n",
            "Requirement already satisfied: nvidia-cuda-runtime-cu12==12.4.127 in /usr/local/lib/python3.11/dist-packages (from torch>=1.11.0->sentence-transformers) (12.4.127)\n",
            "Requirement already satisfied: nvidia-cuda-cupti-cu12==12.4.127 in /usr/local/lib/python3.11/dist-packages (from torch>=1.11.0->sentence-transformers) (12.4.127)\n",
            "Requirement already satisfied: nvidia-cudnn-cu12==9.1.0.70 in /usr/local/lib/python3.11/dist-packages (from torch>=1.11.0->sentence-transformers) (9.1.0.70)\n",
            "Requirement already satisfied: nvidia-cublas-cu12==12.4.5.8 in /usr/local/lib/python3.11/dist-packages (from torch>=1.11.0->sentence-transformers) (12.4.5.8)\n",
            "Requirement already satisfied: nvidia-cufft-cu12==11.2.1.3 in /usr/local/lib/python3.11/dist-packages (from torch>=1.11.0->sentence-transformers) (11.2.1.3)\n",
            "Requirement already satisfied: nvidia-curand-cu12==10.3.5.147 in /usr/local/lib/python3.11/dist-packages (from torch>=1.11.0->sentence-transformers) (10.3.5.147)\n",
            "Requirement already satisfied: nvidia-cusolver-cu12==11.6.1.9 in /usr/local/lib/python3.11/dist-packages (from torch>=1.11.0->sentence-transformers) (11.6.1.9)\n",
            "Requirement already satisfied: nvidia-cusparse-cu12==12.3.1.170 in /usr/local/lib/python3.11/dist-packages (from torch>=1.11.0->sentence-transformers) (12.3.1.170)\n",
            "Requirement already satisfied: nvidia-cusparselt-cu12==0.6.2 in /usr/local/lib/python3.11/dist-packages (from torch>=1.11.0->sentence-transformers) (0.6.2)\n",
            "Requirement already satisfied: nvidia-nccl-cu12==2.21.5 in /usr/local/lib/python3.11/dist-packages (from torch>=1.11.0->sentence-transformers) (2.21.5)\n",
            "Requirement already satisfied: nvidia-nvtx-cu12==12.4.127 in /usr/local/lib/python3.11/dist-packages (from torch>=1.11.0->sentence-transformers) (12.4.127)\n",
            "Requirement already satisfied: nvidia-nvjitlink-cu12==12.4.127 in /usr/local/lib/python3.11/dist-packages (from torch>=1.11.0->sentence-transformers) (12.4.127)\n",
            "Requirement already satisfied: triton==3.2.0 in /usr/local/lib/python3.11/dist-packages (from torch>=1.11.0->sentence-transformers) (3.2.0)\n",
            "Requirement already satisfied: sympy==1.13.1 in /usr/local/lib/python3.11/dist-packages (from torch>=1.11.0->sentence-transformers) (1.13.1)\n",
            "Requirement already satisfied: mpmath<1.4,>=1.1.0 in /usr/local/lib/python3.11/dist-packages (from sympy==1.13.1->torch>=1.11.0->sentence-transformers) (1.3.0)\n",
            "Requirement already satisfied: regex!=2019.12.17 in /usr/local/lib/python3.11/dist-packages (from transformers<5.0.0,>=4.41.0->sentence-transformers) (2024.11.6)\n",
            "Requirement already satisfied: tokenizers<0.22,>=0.21 in /usr/local/lib/python3.11/dist-packages (from transformers<5.0.0,>=4.41.0->sentence-transformers) (0.21.1)\n",
            "Requirement already satisfied: safetensors>=0.4.3 in /usr/local/lib/python3.11/dist-packages (from transformers<5.0.0,>=4.41.0->sentence-transformers) (0.5.3)\n",
            "Requirement already satisfied: joblib>=1.2.0 in /usr/local/lib/python3.11/dist-packages (from scikit-learn->sentence-transformers) (1.4.2)\n",
            "Requirement already satisfied: threadpoolctl>=3.1.0 in /usr/local/lib/python3.11/dist-packages (from scikit-learn->sentence-transformers) (3.6.0)\n",
            "Requirement already satisfied: MarkupSafe>=2.0 in /usr/local/lib/python3.11/dist-packages (from jinja2->torch>=1.11.0->sentence-transformers) (3.0.2)\n",
            "Requirement already satisfied: charset-normalizer<4,>=2 in /usr/local/lib/python3.11/dist-packages (from requests->huggingface-hub>=0.20.0->sentence-transformers) (3.4.1)\n",
            "Requirement already satisfied: idna<4,>=2.5 in /usr/local/lib/python3.11/dist-packages (from requests->huggingface-hub>=0.20.0->sentence-transformers) (3.10)\n",
            "Requirement already satisfied: urllib3<3,>=1.21.1 in /usr/local/lib/python3.11/dist-packages (from requests->huggingface-hub>=0.20.0->sentence-transformers) (2.4.0)\n",
            "Requirement already satisfied: certifi>=2017.4.17 in /usr/local/lib/python3.11/dist-packages (from requests->huggingface-hub>=0.20.0->sentence-transformers) (2025.4.26)\n"
          ]
        }
      ],
      "source": [
        "!pip install datasets\n",
        "!pip install sentence-transformers faiss-cpu"
      ]
    },
    {
      "cell_type": "markdown",
      "source": [
        "### Mounting Drive and Appending System"
      ],
      "metadata": {
        "id": "ofEhivTyplTz"
      }
    },
    {
      "cell_type": "code",
      "source": [
        "from google.colab import drive\n",
        "import sys\n",
        "\n",
        "drive.mount('/content/drive')\n",
        "sys.path.append(\"/content/drive/MyDrive/Spring 2025/Gen AI with LLM/Project/utils\")\n",
        "sys.path.append(\"/content/drive/MyDrive/Spring 2025/Gen AI with LLM/Project/utils/agents\")\n"
      ],
      "metadata": {
        "colab": {
          "base_uri": "https://localhost:8080/"
        },
        "id": "j251JmmEogd5",
        "outputId": "20def9d6-fead-4aef-a0be-e7f597fbe656"
      },
      "execution_count": 1,
      "outputs": [
        {
          "output_type": "stream",
          "name": "stdout",
          "text": [
            "Drive already mounted at /content/drive; to attempt to forcibly remount, call drive.mount(\"/content/drive\", force_remount=True).\n"
          ]
        }
      ]
    },
    {
      "cell_type": "code",
      "source": [
        "# TO DELETE\n",
        "\n",
        "!ls \"/content/drive/MyDrive/Spring 2025/Gen AI with LLM/Project/utils\"\n"
      ],
      "metadata": {
        "colab": {
          "base_uri": "https://localhost:8080/"
        },
        "id": "jqZoviZnFBDS",
        "outputId": "19923079-5f5a-4347-9de0-95810aff0bd3"
      },
      "execution_count": 2,
      "outputs": [
        {
          "output_type": "stream",
          "name": "stdout",
          "text": [
            "agents\t\t       __pycache__\t  script_review.py  vector_db_utils.py\n",
            "outline_generation.py  screen_writing.py  text_utils.py\n"
          ]
        }
      ]
    },
    {
      "cell_type": "code",
      "source": [
        "import importlib\n",
        "import agent_evaluation\n",
        "\n",
        "importlib.reload(agent_evaluation)\n"
      ],
      "metadata": {
        "id": "uPSEANSTDSzl",
        "colab": {
          "base_uri": "https://localhost:8080/"
        },
        "outputId": "055bebeb-1467-44c7-bf0d-f682821b5361"
      },
      "execution_count": 3,
      "outputs": [
        {
          "output_type": "execute_result",
          "data": {
            "text/plain": [
              "<module 'agent_evaluation' from '/content/drive/MyDrive/Spring 2025/Gen AI with LLM/Project/utils/agents/agent_evaluation.py'>"
            ]
          },
          "metadata": {},
          "execution_count": 3
        }
      ]
    },
    {
      "cell_type": "code",
      "source": [
        "from agents.character_agent import CharacterAgent\n",
        "from agents.comedy_agent import ComedicAgent\n",
        "from agents.environment_agent import EnvironmentAgent\n",
        "from agents.scene_planner_agent import ScenePlannerAgent\n",
        "\n",
        "from agent_evaluation import (\n",
        "    evaluate_character_agent_scene,\n",
        "    evaluate_comedic_agent_scene,\n",
        "    evaluate_environment_agent_scene\n",
        ")\n",
        "\n",
        "from text_utils import (\n",
        "    display_markdown_output,\n",
        "    extract_scene,\n",
        "    extract_title,\n",
        ")\n",
        "\n",
        "from outline_generation import (\n",
        "    generate_sitcom_pitch,\n",
        "    generate_pilot_episode_outline\n",
        ")\n",
        "\n",
        "from script_review import (\n",
        "    validate_episode_outline,\n",
        ")\n",
        "\n",
        "from screen_writing import (\n",
        "    generate_scene_1_script,\n",
        "    generate_scene\n",
        ")\n",
        "\n",
        "from vector_db_utils import (\n",
        "    summarize_scene,\n",
        "    add_scene_to_vector_db\n",
        ")"
      ],
      "metadata": {
        "id": "aiTHmw_gpBmq"
      },
      "execution_count": 4,
      "outputs": []
    },
    {
      "cell_type": "code",
      "source": [
        "import numpy as np\n",
        "import openai\n",
        "from openai import OpenAI\n",
        "from IPython.display import Markdown, display\n",
        "import re\n",
        "import time\n",
        "from datetime import timedelta\n",
        "from google.colab import userdata\n",
        "import os\n",
        "from sentence_transformers import SentenceTransformer\n",
        "import faiss"
      ],
      "metadata": {
        "id": "-mhv4xoTpBgr"
      },
      "execution_count": 5,
      "outputs": []
    },
    {
      "cell_type": "code",
      "source": [
        "api_key = userdata.get('OPENAI_API_KEY')\n",
        "client = OpenAI(api_key=api_key)"
      ],
      "metadata": {
        "id": "hbLOMS0bpr5r"
      },
      "execution_count": 6,
      "outputs": []
    },
    {
      "cell_type": "markdown",
      "source": [
        "### Vector Database\n",
        "\n",
        "This block initializes the sentence embedding model and sets up a FAISS index to store vector representations of scenes. The `all-MiniLM-L6-v2` model encodes scenes into fixed-size embeddings, and the FAISS index enables fast vector operations. The `scene_metadata` list stores contextual information linked to each scene embedding.\n"
      ],
      "metadata": {
        "id": "sCtF2fBzquY1"
      }
    },
    {
      "cell_type": "code",
      "source": [
        "# Load embedding model\n",
        "embedding_model = SentenceTransformer(\"all-MiniLM-L6-v2\")\n",
        "\n",
        "# Vector store initialization\n",
        "dimension = embedding_model.get_sentence_embedding_dimension()\n",
        "index = faiss.IndexFlatL2(dimension)\n",
        "\n",
        "# To track metadata\n",
        "vector_metadata = []\n"
      ],
      "metadata": {
        "id": "CxvSxk0Gpr3f"
      },
      "execution_count": 54,
      "outputs": []
    },
    {
      "cell_type": "markdown",
      "source": [
        "### 🎬 Generating the Sitcom Pitch\n",
        "\n",
        "This step generates a sitcom concept using the `generate_sitcom_pitch` function. The function takes in a dictionary of categorized keywords (e.g., setting, characters, themes, tone/genre) to guide the generation process.\n",
        "\n",
        "- The language model plays the role of a **professional screenwriter**.\n",
        "- It produces a 1-paragraph pitch that includes a **title** and a **detailed premise**, highlighting the setting, main characters, their dynamics, and the overall tone of the show.\n",
        "- Keywords help ground the pitch in user-defined ideas, ensuring thematic and narrative consistency."
      ],
      "metadata": {
        "id": "h4C0y2mRq9Hy"
      }
    },
    {
      "cell_type": "code",
      "source": [
        "keywords = {\n",
        "    \"setting\": [\"urban locksmith shop\", \"New York City\"],\n",
        "    \"characters\": [\"ex-con protagonist\", \"estranged daughter\", \"quirky parole officer\"],\n",
        "    \"themes\": [\"second chances\", \"odd couple dynamic\"],\n",
        "    \"tone_genre\": [\"buddy comedy\", \"heartfelt absurdism\"]\n",
        "}\n"
      ],
      "metadata": {
        "id": "axDx39kupBZO"
      },
      "execution_count": 8,
      "outputs": []
    },
    {
      "cell_type": "markdown",
      "source": [
        "**TODO**\n",
        "\n",
        "Make sure the title is quotation marks"
      ],
      "metadata": {
        "id": "uWN3wwatZtkU"
      }
    },
    {
      "cell_type": "code",
      "source": [
        "# Generating Sitcom Pitch\n",
        "sitcom_pitch = generate_sitcom_pitch(client, keywords)\n",
        "display(Markdown(f\"### Sitcom Concept:\\n\\n{sitcom_pitch}\"))\n"
      ],
      "metadata": {
        "colab": {
          "base_uri": "https://localhost:8080/",
          "height": 189
        },
        "id": "qSowDzaVq5yt",
        "outputId": "28fe4b79-4b2c-4b89-8623-a6d356a0748a"
      },
      "execution_count": 9,
      "outputs": [
        {
          "output_type": "display_data",
          "data": {
            "text/plain": [
              "<IPython.core.display.Markdown object>"
            ],
            "text/markdown": "### Sitcom Concept:\n\nTitle: \"Second Lock\"\n\n\"Second Lock\" is an absurd yet heartwarming buddy comedy set in an urban locksmith shop in New York City. The show follows our ex-con protagonist, Jimmy \"The Key\" Kellerman, who is trying to genuinely reform his life and run his newly inherited locksmith shop. This is made complicated by his estranged, whip-smart daughter, Zoe, who unexpectedly moves in with him and isn’t afraid to challenge her dad's old ways of thinking. Adding to the madness is Steve, Jimmy's eccentric parole officer, who takes the \"buddy\" part of his job too seriously, frequently dropping by the shop to meddle – and often causing more trouble than he prevents. With an underlying theme of second chances and a heavy odd-couple dynamic, \"Second Lock\" combines heartfelt moments with hilarious hijinks, as these three misfits navigate their way through locked doors, both literal and metaphorical, on their journey towards a second chance at life."
          },
          "metadata": {}
        }
      ]
    },
    {
      "cell_type": "markdown",
      "source": [
        "### 📝 Generating a Pilot Episode Outline\n",
        "\n",
        "The next part is to generate an episode outline for the pilot of the show, which is done using the `generate_pilot_episode_outline` function. This function takes in the sitcom pitch and produces a structured scene-by-scene breakdown of the pilot episode, simulating the voice of a **professional sitcom writer** preparing a network pitch.\n",
        "\n",
        "- Begins with a concise **Episode Concept** (1–2 sentences).\n",
        "- Breaks the episode into approximately 20 **numbered scenes**, each with a **title in quotation marks** and a brief description.\n",
        "- Each scene summary includes what happens, who is involved, and the intended tone (e.g., funny, awkward, heartfelt).\n",
        "\n",
        "This outline provides the narrative foundation for generating full scene scripts in the next stage.\n"
      ],
      "metadata": {
        "id": "BtozqXT4rmna"
      }
    },
    {
      "cell_type": "code",
      "source": [
        "outline = generate_pilot_episode_outline(client, sitcom_pitch)\n",
        "display(Markdown(f\"### Sitcom Outline:\\n\\n{outline}\"))"
      ],
      "metadata": {
        "colab": {
          "base_uri": "https://localhost:8080/",
          "height": 575
        },
        "id": "SkdjzNUuq5uw",
        "outputId": "4a9a5bcc-7302-438b-de1e-58ccd2272afa"
      },
      "execution_count": 10,
      "outputs": [
        {
          "output_type": "display_data",
          "data": {
            "text/plain": [
              "<IPython.core.display.Markdown object>"
            ],
            "text/markdown": "### Sitcom Outline:\n\nEpisode Concept: In the pilot episode, Jimmy struggles to balance the demands of running his locksmith shop, dealing with the unexpected arrival of his estranged daughter, Zoe, and managing the overbearing presence of his parole officer, Steve.\n\nScene 1: \"Opening Lock\" Jimmy is seen at his locksmith shop, expertly crafting a lock, demonstrating his masterful skills and setting the tone for the unique setting.\n\nScene 2: \"Unexpected Key\" Zoe unexpectedly shows up at Jimmy's shop, surprising him and setting up their awkward reunion.\n\nScene 3: \"The First Challenge\" Zoe challenges Jimmy's traditional thinking by suggesting improvements to his locksmith shop, creating a tension-filled funny moment. \n\nScene 4: \"Buddy Parole Officer\" Steve, Jimmy's parole officer, shows up at the shop, showing his oddball personality and overbearing nature.\n\nScene 5: \"Living Quarters\" Jimmy shows Zoe her old bedroom at his modest apartment, sparking a heartfelt conversation about their past. \n\nScene 6: \"Lock of the Past\" Jimmy finds an old lock he made for Zoe, leading to a nostalgic and emotional moment. \n\nScene 7: \"First Customer Interaction\" Jimmy deals with a difficult customer at the shop, showcasing his patience and flair for comedy.\n\nScene 8: \"Parole Meeting\" Steve conducts an official parole check at the shop, leading to awkward and funny misunderstandings. \n\nScene 9: \"Zoe's First Day\" Zoe starts working at the shop and struggles with her first customer, creating a hilarious situation.\n\nScene 10: \"Customer Complaint\" A disgruntled customer returns, causing Jimmy and Zoe to work together, improving their relationship.\n\nScene 11: \"A Serious Conversation\" Jimmy and Zoe have a heartfelt conversation about why she returned, adding depth to their relationship.\n\nScene 12: \"Steve's Intervention\" Steve drops by unexpectedly, causing chaos at the shop with his well-meaning but misguided help.\n\nScene 13: \"Locksmith Lessons\" Jimmy teaches Zoe how to make a lock, leading to funny mishaps and a bonding moment. \n\nScene 14: \"Customer Triumph\" Zoe successfully helps a customer, showing growth and earning her dad's approval. \n\nScene 15: \"Shop Closing\" Jimmy and Zoe close the shop for the day, ending with a heartwarming moment of newfound understanding and respect.\n\nScene 16: \"Steve's Apology\" Steve apologizes for his earlier interference, resulting in a funny scene of him trying to make amends.\n\nScene 17: \"Father-Daughter Dinner\" Jimmy and Zoe share a quiet dinner, leading to more heartfelt conversation and bonding. \n\nScene 18: \"Late Night Customer\" A late-night customer leads to another comedic event where Jimmy shows his expertise.\n\nScene 19: \"Zoe's Revelation\" Zoe confesses that she wants to stay and learn the locksmith trade, leading to a surprise for Jimmy and a touching moment. \n\nScene 20: \"Closing Keys\" The day ends with Jimmy, Zoe and Steve sharing a goofy, light-hearted moment at the shop, setting the stage for future episodes."
          },
          "metadata": {}
        }
      ]
    },
    {
      "cell_type": "markdown",
      "source": [
        "### ✅ Episode Validation\n",
        "\n",
        "To ensure that the sitcom pilot outline is coherent and aligns with the original pitch, we use the `validate_episode_outline` function. This function simulates the voice of a **veteran sitcom writer** who evaluates whether the episode outline makes narrative sense and fits the tone and premise.\n",
        "\n",
        "- Checks for overall **coherence**, including consistency of tone, logical character progression, and structural viability.\n",
        "- Returns a clear **\"Yes\" or \"No\"** on coherence, along with 2–4 bullet points of reasoning.\n",
        "- If the episode is not coherent, it also provides concrete suggestions for improvement.\n",
        "\n",
        "This validation step helps maintain narrative quality before moving into full scene scripting.\n",
        "\n",
        "\n",
        "**TODO**\n",
        "\n",
        "- Make sure it can re-generate the script\n",
        "- Delte timedelta"
      ],
      "metadata": {
        "id": "zxtWr4JuLcMV"
      }
    },
    {
      "cell_type": "code",
      "source": [
        "validation = validate_episode_outline(client, sitcom_pitch, outline)\n",
        "display(Markdown(f\"### Coherence Evaluation:\\n\\n{validation}\"))"
      ],
      "metadata": {
        "colab": {
          "base_uri": "https://localhost:8080/",
          "height": 212
        },
        "id": "cSFjmE7cq5sN",
        "outputId": "29ec3aa7-10a9-496c-9be8-98112e798c1b"
      },
      "execution_count": 11,
      "outputs": [
        {
          "output_type": "display_data",
          "data": {
            "text/plain": [
              "<IPython.core.display.Markdown object>"
            ],
            "text/markdown": "### Coherence Evaluation:\n\nCoherence: Yes\n\nReasoning:\n- The outline aligns well with the sitcom pitch, including the main characters, setting, and theme of second chances. \n- The progression of the plot is logical and consistent. The episode begins with the surprise arrival of Zoe and ends with her decision to stay and learn the trade, which is a clear and satisfying arc for a pilot episode.\n- The balance between comedic and heartfelt moments is well maintained, reflecting the intended tone of the sitcom.\n- The characters are introduced and developed appropriately. Jimmy's skills and patience, Zoe's assertiveness and adaptability, and Steve's eccentricity and overbearing nature are all clearly demonstrated."
          },
          "metadata": {}
        }
      ]
    },
    {
      "cell_type": "markdown",
      "source": [
        "## Scene 1 Generation"
      ],
      "metadata": {
        "id": "8aUL4_lrmVI9"
      }
    },
    {
      "cell_type": "code",
      "source": [
        "scene_1_desc = extract_scene(outline, 1)\n",
        "display(Markdown(scene_1_desc))"
      ],
      "metadata": {
        "colab": {
          "base_uri": "https://localhost:8080/",
          "height": 46
        },
        "id": "-5JuA8trsdJs",
        "outputId": "1f9a9ff3-dd72-47fa-a95f-4d07827bcee2"
      },
      "execution_count": 12,
      "outputs": [
        {
          "output_type": "display_data",
          "data": {
            "text/plain": [
              "<IPython.core.display.Markdown object>"
            ],
            "text/markdown": "Scene 1: \"Opening Lock\" Jimmy is seen at his locksmith shop, expertly crafting a lock, demonstrating his masterful skills and setting the tone for the unique setting."
          },
          "metadata": {}
        }
      ]
    },
    {
      "cell_type": "code",
      "source": [
        "# Extracting title\n",
        "sitcom_title = extract_title(sitcom_pitch)\n",
        "print(sitcom_title)"
      ],
      "metadata": {
        "colab": {
          "base_uri": "https://localhost:8080/"
        },
        "id": "qoduPi8Eq5oj",
        "outputId": "eb8a528a-c853-4b38-8572-9644db45ca2a"
      },
      "execution_count": 13,
      "outputs": [
        {
          "output_type": "stream",
          "name": "stdout",
          "text": [
            "Second Lock\n"
          ]
        }
      ]
    },
    {
      "cell_type": "code",
      "source": [
        "scene_1_script = generate_scene_1_script(\n",
        "    client=client,\n",
        "    sitcom_title=sitcom_title,\n",
        "    scene_description=scene_1_desc,\n",
        "    rag_context=None,\n",
        "    line_target=(55, 75)\n",
        ")"
      ],
      "metadata": {
        "id": "SbPXID3TsicA"
      },
      "execution_count": 14,
      "outputs": []
    },
    {
      "cell_type": "code",
      "source": [
        "display(Markdown(scene_1_script))"
      ],
      "metadata": {
        "colab": {
          "base_uri": "https://localhost:8080/",
          "height": 690
        },
        "id": "Qy9xfJCssy9m",
        "outputId": "bc607d76-ac8b-44ec-8605-7d39ebfeda57"
      },
      "execution_count": 15,
      "outputs": [
        {
          "output_type": "display_data",
          "data": {
            "text/plain": [
              "<IPython.core.display.Markdown object>"
            ],
            "text/markdown": "\nINT. JIMMY'S LOCKSMITH SHOP - DAY\n[Opening theme fades out]\n\nJIMMY, mid 40s, the quintessential old school locksmith with thick glasses and a magnifying glass on his head, is meticulously crafting a lock.\n\nJIMMY\n(whispering to himself)\nPrecision... Perfection...\n\nSuddenly, the door swings open with a CREAK. In walks KAREN, late 30s, an overbearing but loveable customer.\n\nKAREN\n(excited)\nJimmy, I need a lock!\n\nJIMMY\n(startled)\nKaren! You scared the life out of me!\n\n[LAUGH TRACK]\n\nKAREN\n(smirks)\nJust keeping you on your toes, Jimmy.\n\nJIMMY\n(sighs)\nWhat can I do for you today, Karen?\n\nKAREN\n(flustered)\nI need a lock for my diary. My husband keeps snooping!\n\nJIMMY\n(raised eyebrows)\nYour diary? That's it?\n\nKAREN\n(defensive)\nYes, Jimmy. My thoughts are precious.\n\n[LAUGH TRACK]\n\nJIMMY\n(mischievous smile)\nWell, Karen, for precious thoughts, we need a precious lock.\n\nKaren rolls her eyes. Jimmy gets back to work, showing off his skills as he creates a miniature lock.\n\nJIMMY\n(concentrated)\nThis is an art, Karen... a balance of strength and delicacy.\n\nKAREN\n(amused)\nStrength and delicacy? Sounds like my mother's meatloaf.\n\n[LAUGH TRACK]\n\nJimmy chuckles and hands over the finished lock to Karen.\n\nJIMMY\n(proud)\nHere it is, Karen. The Fort Knox of diary locks.\n\nKAREN\n(surprised)\nOh, Jimmy! It's perfect!\n\nShe tries to give Jimmy a hug, but he steps back, protecting his workbench.\n\nJIMMY\n(slightly panicked)\nCareful, Karen! I've got a delicate ecosystem here.\n\n[LAUGH TRACK]\n\nKAREN\n(laughs)\nOkay, okay! Just keep my diary safe, Jimmy.\n\nShe exits the shop, leaving Jimmy alone with his locks. He looks around, proudly.\n\nJIMMY\n(to himself)\nAnother day, another lock.\n\n[LAUGH TRACK]\n\nFADE OUT."
          },
          "metadata": {}
        }
      ]
    },
    {
      "cell_type": "markdown",
      "source": [
        "### 🗂️ Adding Metadata to the Vector Database\n",
        "\n",
        "To extract structured information from each generated sitcom scene, we use th `summarize_scene` function. This function simulates the head writer of the show and analyzes the scene script to produce a concise summary along with key metadata.\n",
        "\n",
        "- **Summary**: A 100–150 word overview of the scene’s key actions, character dynamics, and notable moments.\n",
        "- **Characters**: A list of characters who appear or speak in the scene.\n",
        "- **Location**: The main setting of the scene, if clearly identifiable (e.g., “locksmith shop,” “apartment hallway”).\n",
        "- **Recurring Joke**: Any running gag or callback featured in the scene.\n",
        "- **Emotional Tone**: A 1–2 word description of the scene’s mood (e.g., “chaotic,” “hopeful,” “awkward”).\n",
        "\n",
        "The metadata is returned as a dictionary and appended to the `scene_metadata` list using the `add_scene_to_vector_db` function. This step is crucial: instead of supplying the full script to the next generation phase, we pass a concise summary and key elements to guide smoother, context-aware scene generation.\n"
      ],
      "metadata": {
        "id": "ZdbXY1cEt-1O"
      }
    },
    {
      "cell_type": "code",
      "source": [
        "scene_1_summary = summarize_scene(\n",
        "    client=client,\n",
        "    sitcom_title=sitcom_title,\n",
        "    scene_script=scene_1_script\n",
        ")"
      ],
      "metadata": {
        "id": "17KUHCNNsy7a"
      },
      "execution_count": 16,
      "outputs": []
    },
    {
      "cell_type": "code",
      "source": [
        "# Adds scene to the vector database\n",
        "add_scene_to_vector_db(\n",
        "    scene_1_summary,\n",
        "    full_script=scene_1_script,\n",
        "    embedding_model=embedding_model,\n",
        "    index=index,\n",
        "    vector_metadata=vector_metadata\n",
        ")\n"
      ],
      "metadata": {
        "id": "9Fg2u-7fsy5S"
      },
      "execution_count": 17,
      "outputs": []
    },
    {
      "cell_type": "code",
      "source": [
        "print(\"Total scenes stored in vector DB:\", index.ntotal, \"\\n\")\n",
        "\n",
        "for i, meta in enumerate(vector_metadata):\n",
        "    print(f\"\\nScene {i + 1}\")\n",
        "    print(\"Summary:\", meta[\"summary\"])\n",
        "    print(\"Characters:\", meta[\"characters\"])\n",
        "    print(\"Location:\", meta[\"location\"])\n",
        "    print(\"Recurring Joke:\", meta[\"recurring_joke\"])\n",
        "    print(\"Emotional Tone:\", meta[\"emotional_tone\"])\n"
      ],
      "metadata": {
        "colab": {
          "base_uri": "https://localhost:8080/"
        },
        "id": "YOAaREImuIwB",
        "outputId": "2ea9c27e-85ee-4c40-aae3-6110b1cf6b7c"
      },
      "execution_count": 18,
      "outputs": [
        {
          "output_type": "stream",
          "name": "stdout",
          "text": [
            "Total scenes stored in vector DB: 1 \n",
            "\n",
            "\n",
            "Scene 1\n",
            "Summary: In this scene, Jimmy, a dedicated locksmith, is crafting a lock when Karen, a regular customer, enters his shop. She startles him, and they exchange a few jokes, revealing a friendly, teasing relationship. Karen requests a lock for her diary to keep her husband from snooping, which Jimmy finds amusing but agrees to create. As he works, he explains his craft to Karen, comparing it to an art of strength and delicacy. Karen makes a joke, comparing it to her mother's meatloaf. Once the lock is ready, Karen tries to hug Jimmy, but he steps back, protecting his workbench. Karen leaves, and Jimmy, left alone, reflects on his day with satisfaction.\n",
            "Characters: ['Jimmy', 'Karen']\n",
            "Location: Jimmy's Locksmith Shop\n",
            "Recurring Joke: None\n",
            "Emotional Tone: Amusing\n"
          ]
        }
      ]
    },
    {
      "cell_type": "markdown",
      "source": [
        "## 🎬 Scene 2 Generation\n",
        "\n",
        "The next part is to generate Scene 2. This is one of the most important scenes in the script, as it’s where the ReAct (Reasoning + Acting) system comes into play.\n",
        "\n",
        "Metadata from Scene 1 is retrieved and interpreted by the `CharacterAgent`, `ComedyAgent`, and `EnvironmentAgent`. Each agent reasons over the metadata independently and provides creative suggestions based on its area of expertise—such as character consistency, comedic dynamics, or environmental context.\n",
        "\n",
        "These agent responses are then passed to the `ScenePlannerAgent`, which integrates their inputs and plans the next scene accordingly. This collaborative reasoning-and-acting process ensures that each scene builds logically and creatively on what came before.\n",
        "\n",
        "The advantage of using ReAct-style agents over purely role-based agents is that each agent not only plays a role but also actively reasons and adapts based on prior context—making the generation more dynamic, context-aware, and narratively coherent.\n"
      ],
      "metadata": {
        "id": "CbVu600kbqDr"
      }
    },
    {
      "cell_type": "code",
      "source": [
        "scene_2_desc = extract_scene(outline, 2)\n",
        "print(scene_2_desc)"
      ],
      "metadata": {
        "colab": {
          "base_uri": "https://localhost:8080/"
        },
        "id": "qJhaegD1yK2O",
        "outputId": "fc7ecaf0-2e7c-4c00-f33c-ef7ad50595ae"
      },
      "execution_count": 19,
      "outputs": [
        {
          "output_type": "stream",
          "name": "stdout",
          "text": [
            "Scene 2: \"Unexpected Key\" Zoe unexpectedly shows up at Jimmy's shop, surprising him and setting up their awkward reunion.\n"
          ]
        }
      ]
    },
    {
      "cell_type": "markdown",
      "source": [
        "### 🎭 Character Agent\n",
        "\n",
        "The first step is to analyze the characters using the `CharacterAgent`. This agent is responsible for tracking which characters appear in each scene, evaluating their consistency with past behavior, and recommending meaningful interactions to advance the story.\n",
        "\n",
        "The `CharacterAgent` operates using a **ReAct workflow**, where each phase reflects a specific role in a sitcom writers’ room:\n",
        "\n",
        "- **Think**: Identifies which characters are present in the current scene and determines the relevant prior scenes to draw context from — like a **Writers' Assistant** reviewing past episodes. This step also retrieves the relevant script metadata used to guide character evaluation.\n",
        "- **Act**: Retrieves character histories by analyzing summaries from earlier scenes — like a **Script Coordinator** maintaining continuity.\n",
        "- **Observe**: Checks whether characters behave consistently with their established traits and arcs — like a **Head Writer** reviewing for narrative logic.\n",
        "- **Recommend**: Suggests specific character interactions that align with the scene’s tone or resolve inconsistencies — like a **Co-Executive Producer** steering character development.\n",
        "\n",
        "This structure ensures character arcs are coherent, grounded, and creatively engaging throughout the scriptwriting process.\n"
      ],
      "metadata": {
        "id": "TgYclpbdbvON"
      }
    },
    {
      "cell_type": "code",
      "source": [
        "import importlib\n",
        "import agents.character_agent\n",
        "importlib.reload(agents.character_agent)\n",
        "from agents.character_agent import CharacterAgent\n"
      ],
      "metadata": {
        "id": "yeBN-SzXo2Wh"
      },
      "execution_count": 20,
      "outputs": []
    },
    {
      "cell_type": "code",
      "source": [
        "'''\n",
        "from typing import Tuple, Dict, List\n",
        "\n",
        "def evaluate_character_agent_scene(\n",
        "    agent: CharacterAgent,\n",
        "    scene_description: str,\n",
        "    scene_number: int\n",
        ") -> Tuple[Dict[str, Dict], bool, str, str, List[str]]:\n",
        "    \"\"\"\n",
        "    Runs the CharacterAgent on a given scene and prints a cleaned summary of results:\n",
        "    - Consistency verdict\n",
        "    - Short explanation\n",
        "    - 2 recommended interactions\n",
        "    - Agent's internal thoughts\n",
        "\n",
        "    Args:\n",
        "        agent (CharacterAgent): The CharacterAgent instance.\n",
        "        scene_description (str): The current scene's description.\n",
        "        scene_number (int): The scene number being evaluated.\n",
        "\n",
        "    Returns:\n",
        "        Tuple of:\n",
        "            - character_histories (dict)\n",
        "            - is_consistent (bool)\n",
        "            - explanation (str)\n",
        "            - recommendations (str)\n",
        "            - internal_thoughts (list of str)\n",
        "    \"\"\"\n",
        "    print(f\"🔁 Agent will consider the last {agent.num_scenes} scene(s) for context.\\n\")\n",
        "\n",
        "    character_histories, is_consistent, explanation, recommendations, thoughts = agent.run(\n",
        "        scene_description=scene_description,\n",
        "        scene_number=scene_number\n",
        "    )\n",
        "\n",
        "    # Extract short explanation only\n",
        "    short_explanation = \"\"\n",
        "    for line in explanation.split(\"\\n\"):\n",
        "        if line.strip().startswith(\"2. Short Explanation Why:\"):\n",
        "            short_explanation = line.strip()\n",
        "            break\n",
        "\n",
        "    # Only keep the two interaction suggestions (strip label)\n",
        "    clean_recommendations = \"\\n\".join([\n",
        "        line for line in recommendations.split(\"\\n\")\n",
        "        if line.strip().startswith(\"1.\") or line.strip().startswith(\"2.\")\n",
        "    ])\n",
        "\n",
        "    print(f\"Scene {scene_number} — Consistency: {'✅ Consistent' if is_consistent else '❌ Inconsistent'}\\n\")\n",
        "    print(\"Explanation:\")\n",
        "    print(short_explanation if short_explanation else explanation.strip())\n",
        "    print(\"\\nInteraction Improvement Recommendations:\")\n",
        "    print(clean_recommendations.strip())\n",
        "    print(\"\\nAgent's Internal Thoughts:\")\n",
        "    for thought in thoughts:\n",
        "        print(\"-\", thought)\n",
        "\n",
        "    return character_histories, is_consistent, explanation, recommendations, thoughts\n",
        "\n",
        "'''"
      ],
      "metadata": {
        "id": "NwCX0frHbH79",
        "colab": {
          "base_uri": "https://localhost:8080/",
          "height": 137
        },
        "outputId": "4cdc3f9a-c56d-4373-a235-d2bdfa5fc90f"
      },
      "execution_count": 21,
      "outputs": [
        {
          "output_type": "execute_result",
          "data": {
            "text/plain": [
              "'\\nfrom typing import Tuple, Dict, List\\n\\ndef evaluate_character_agent_scene(\\n    agent: CharacterAgent,\\n    scene_description: str,\\n    scene_number: int\\n) -> Tuple[Dict[str, Dict], bool, str, str, List[str]]:\\n    \"\"\"\\n    Runs the CharacterAgent on a given scene and prints a cleaned summary of results:\\n    - Consistency verdict\\n    - Short explanation\\n    - 2 recommended interactions\\n    - Agent\\'s internal thoughts\\n\\n    Args:\\n        agent (CharacterAgent): The CharacterAgent instance.\\n        scene_description (str): The current scene\\'s description.\\n        scene_number (int): The scene number being evaluated.\\n\\n    Returns:\\n        Tuple of:\\n            - character_histories (dict)\\n            - is_consistent (bool)\\n            - explanation (str)\\n            - recommendations (str)\\n            - internal_thoughts (list of str)\\n    \"\"\"\\n    print(f\"🔁 Agent will consider the last {agent.num_scenes} scene(s) for context.\\n\")\\n\\n    character_histories, is_consistent, explanation, recommendations, thoughts = agent.run(\\n        scene_description=scene_description,\\n        scene_number=scene_number\\n    )\\n\\n    # Extract short explanation only\\n    short_explanation = \"\"\\n    for line in explanation.split(\"\\n\"):\\n        if line.strip().startswith(\"2. Short Explanation Why:\"):\\n            short_explanation = line.strip()\\n            break\\n\\n    # Only keep the two interaction suggestions (strip label)\\n    clean_recommendations = \"\\n\".join([\\n        line for line in recommendations.split(\"\\n\")\\n        if line.strip().startswith(\"1.\") or line.strip().startswith(\"2.\")\\n    ])\\n\\n    print(f\"Scene {scene_number} — Consistency: {\\'✅ Consistent\\' if is_consistent else \\'❌ Inconsistent\\'}\\n\")\\n    print(\"Explanation:\")\\n    print(short_explanation if short_explanation else explanation.strip())\\n    print(\"\\nInteraction Improvement Recommendations:\")\\n    print(clean_recommendations.strip())\\n    print(\"\\nAgent\\'s Internal Thoughts:\")\\n    for thought in thoughts:\\n        print(\"-\", thought)\\n\\n    return character_histories, is_consistent, explanation, recommendations, thoughts\\n\\n'"
            ],
            "application/vnd.google.colaboratory.intrinsic+json": {
              "type": "string"
            }
          },
          "metadata": {},
          "execution_count": 21
        }
      ]
    },
    {
      "cell_type": "code",
      "source": [
        "# Initialize the character agent\n",
        "character_agent = CharacterAgent(\n",
        "    client=client,\n",
        "    vector_metadata=scene_metadata,\n",
        "    num_scenes=1\n",
        ")\n",
        "\n",
        "# Run and store results from the character agent\n",
        "char_histories, char_is_consistent, char_explanation, char_recommendations, char_thoughts = evaluate_character_agent_scene(\n",
        "    agent=character_agent,\n",
        "    scene_description=scene_2_desc,\n",
        "    scene_number=2\n",
        ")\n"
      ],
      "metadata": {
        "colab": {
          "base_uri": "https://localhost:8080/"
        },
        "id": "hKJmwR86bKe9",
        "outputId": "acfebae6-1b53-4e8d-d224-dd3436e6e62e"
      },
      "execution_count": 22,
      "outputs": [
        {
          "output_type": "stream",
          "name": "stdout",
          "text": [
            "🔁 Agent will consider the last 1 scene(s) for context.\n",
            "\n",
            "📚 Retrieving script metadata for scene(s): [1]\n",
            "Scene 2 — Consistency: ✅ Consistent\n",
            "\n",
            "Explanation:\n",
            "2. Short Explanation Why: Based on the information provided, Jimmy's surprise at Zoe's unexpected arrival is consistent with his established personality traits. His dedication to his work might make him less prepared for personal surprises. Zoe's boldness in showing up unannounced is also consistent with her spontaneous and unpredictable nature. However, without more information about their past relationship or Zoe's speaking style, it's hard to fully assess the consistency.\n",
            "\n",
            "Interaction Improvement Recommendations:\n",
            "1. Zoe, in her spontaneous and bold style, could try to lighten the mood of the awkward reunion by cracking a joke about Jimmy's lock-making, similar to how he and Karen banter in scene 1. This interaction can show that Zoe is familiar with Jimmy's work and their shared past. — (This interaction is justified as we know from Scene 1 that Jimmy appreciates a good joke and is passionate about his lock-making work.)\n",
            "2. Jimmy, after a moment of surprise, could revert to his professional demeanor and invite Zoe to explain why she's come to his shop. This would serve as a way for him to regain control over the situation and keep his emotions in check, while still being friendly and polite. — (This interaction is justified by Jimmy's demonstrated professionalism in Scene 1, especially when he steps back to protect his workbench from Karen's hug, showing he can maintain boundaries when necessary.)\n",
            "\n",
            "Agent's Internal Thoughts:\n",
            "- Think: Identified characters ['Zoe', 'Jimmy'] using context from scene(s) [1].\n",
            "- Act: Retrieved profiles for ['Zoe', 'Jimmy'].\n",
            "- Observe: Scene is consistent.\n",
            "- Recommend: Provided suggestions for enhancing character dynamics.\n"
          ]
        }
      ]
    },
    {
      "cell_type": "markdown",
      "source": [
        "### 🎤 Comedic Agent\n",
        "\n",
        "\n",
        "The `ComedicAgent` is responsible for maintaining the tonal consistency of humor throughout the sitcom and making targeted punch-up recommendations to enhance comedic value.\n",
        "\n",
        "This agent operates using a **ReAct workflow**, where each phase mimics a specific role in a sitcom writers’ room and draws on **prior scene metadata** for context:\n",
        "\n",
        "- **Think**: Logs which scene is under review and determines which previous scenes will provide comedic context — like a **Writers' Assistant** flagging what material to reference.\n",
        "- **Act**: Retrieves summaries and running jokes from recent scenes by referencing stored **vector metadata** — like a **Script Coordinator** tracking comedic beats.\n",
        "- **Observe**: Evaluates whether the new scene's humor is consistent with previous tone and joke usage — like a **Head Writer** preserving the show's comedic style.\n",
        "- **Recommend**: Suggests two realistic comedic improvements grounded in the scene’s context and character behavior — like a **Co-Executive Producer** overseeing punch-up work.\n",
        "\n",
        "This design ensures each scene contributes to a cohesive comedic voice and builds on established humor organically, enhancing audience engagement.\n",
        "\n",
        "\n",
        "**Maybe better note how this suggestions also based off inconsistency or not**"
      ],
      "metadata": {
        "id": "uJ5OAsU-z6dN"
      }
    },
    {
      "cell_type": "code",
      "source": [
        "import importlib\n",
        "import agents.comedy_agent\n",
        "importlib.reload(agents.comedy_agent)\n",
        "from agents.comedy_agent import ComedicAgent\n"
      ],
      "metadata": {
        "id": "GVfwkJmpPj6u"
      },
      "execution_count": 23,
      "outputs": []
    },
    {
      "cell_type": "code",
      "source": [
        "# Initialize the comedy agent\n",
        "comedic_agent = ComedicAgent(\n",
        "    client=client,\n",
        "    vector_metadata=vector_metadata,\n",
        "    num_scenes=1  # how many scenes to look back\n",
        ")\n",
        "\n",
        "# Run and store results from the comedy agent\n",
        "com_context, com_is_consistent, com_analysis_text, com_recommendations, com_thoughts = evaluate_comedic_agent_scene(\n",
        "    agent=comedic_agent,\n",
        "    scene_description=scene_2_desc,\n",
        "    scene_number=2\n",
        ")"
      ],
      "metadata": {
        "colab": {
          "base_uri": "https://localhost:8080/"
        },
        "id": "cgfY-48-Rtx2",
        "outputId": "7b0469a0-96d2-4307-c86a-aa85d8dfe176"
      },
      "execution_count": 25,
      "outputs": [
        {
          "output_type": "stream",
          "name": "stdout",
          "text": [
            "🔁 Agent will consider the last 1 scene(s) for context.\n",
            "\n",
            "📚 Retrieving script metadata for scene(s): [1]\n",
            "Scene 2 — Comedic Tone: ❌ Inconsistent\n",
            "\n",
            "Comedic Tone Analysis:\n",
            "3. Short Explanation: The comedic tone in the new scene seems to be consistent with the previous scene. Both scenes involve Jimmy being surprised by a customer's arrival, leading to humorous interactions. The awkward humor in the current scene is a natural progression from the friendly, teasing humor in the previous scene.\n",
            "\n",
            "Comedic Improvement Recommendations:\n",
            "1. [Suggestion] - Zoe, upon entering the shop, should immediately start critiquing the layout and organization of Jimmy's shop in a teasing manner, suggesting to him that he could use her help. This could be a callback to a previous running joke about Jimmy's disorganization skills. The humor lies in Zoe's immediate critique, exaggerating Jimmy's lack of order. — (This suggestion builds on their existing dynamic of friendly teasing from previous scenes where Jimmy's disorganization has been a point of humor.)\n",
            "2. [Suggestion] - Jimmy, surprised by Zoe's unexpected visit, should comically overreact by dropping what he's holding or stumbling over something. This could lead to a humorous moment where Zoe teases him about his clumsiness. Then, Jimmy could retort with a light-hearted comment about how Zoe always knows how to make an entrance, linking back to a running joke about Zoe's knack for surprising people. — (This suggestion adds physical comedy to the scene, which has been a consistent tone in Jimmy's character from previous scenes.)\n",
            "\n",
            "Comedic Agent's Internal Thoughts:\n",
            "- Think: Will retrieve summaries and jokes from scene(s) [1] for Scene 2.\n",
            "- Act: Retrieved summaries and jokes from prior scenes.\n",
            "- Observe: Scene is inconsistent with prior comedic tone.\n",
            "- Recommend: Provided comedic improvements.\n"
          ]
        }
      ]
    },
    {
      "cell_type": "markdown",
      "source": [
        "### 🌆 Environment Agent\n",
        "\n",
        "The `EnvironmentAgent` is responsible for ensuring spatial continuity and logical scene transitions in a sitcom setting. It verifies that each new scene's location aligns naturally with prior ones and suggests immersive environmental details to enhance tone and narrative flow.\n",
        "\n",
        "This agent operates using a **ReAct workflow**, where each step mimics a professional role in a sitcom writers' room and draws on **prior scene metadata**:\n",
        "\n",
        "- **Think**: Logs which scene is being reviewed and determines which previous environments will provide context — like a **Writers' Assistant** organizing location continuity.\n",
        "- **Act**: Analyzes the current scene’s setting and identifies key environmental elements — like a **Script Coordinator** extracting staging needs from a scene.\n",
        "- **Observe**: Evaluates whether the environment transition feels natural given recent scenes — like a **Head Writer** safeguarding spatial logic and pacing.\n",
        "- **Recommend**: Suggests sensory or scenic details to support the environment or smooth jarring transitions — like a **Co-Executive Producer** fine-tuning atmosphere with practical details.\n",
        "\n",
        "Together, these steps ensure that every scene change feels intentional, immersive, and narratively cohesive — supporting both visual consistency and comedic timing.\n",
        "\n"
      ],
      "metadata": {
        "id": "i74j5_NyQ7bf"
      }
    },
    {
      "cell_type": "code",
      "source": [
        "# TO DELETE\n",
        "import importlib\n",
        "import agents.environment_agent\n",
        "importlib.reload(agents.environment_agent)\n",
        "from agents.environment_agent import EnvironmentAgent\n"
      ],
      "metadata": {
        "id": "PSmyEM4Yh4ho"
      },
      "execution_count": 27,
      "outputs": []
    },
    {
      "cell_type": "code",
      "source": [
        "'''\n",
        "\n",
        "from typing import Tuple, Dict, List\n",
        "\n",
        "def evaluate_environment_agent_scene(\n",
        "    agent,\n",
        "    scene_description: str,\n",
        "    scene_number: int\n",
        ") -> Tuple[Dict, bool, str, str, List[str]]:\n",
        "    \"\"\"\n",
        "    Runs the EnvironmentReActAgent on a given scene and prints a structured summary:\n",
        "    - Whether the environment transition is logical\n",
        "    - Explanation or critique\n",
        "    - Suggested environment detail enhancements\n",
        "    - Internal reasoning trace from the agent\n",
        "\n",
        "    Args:\n",
        "        agent: An initialized EnvironmentReActAgent\n",
        "        scene_description (str): Description of the current scene\n",
        "        scene_number (int): Scene number (for indexing and logging)\n",
        "\n",
        "    Returns:\n",
        "        Tuple containing:\n",
        "            - context (dict): Location and analysis metadata\n",
        "            - is_consistent (bool): Whether the transition is logical\n",
        "            - explanation (str): The model's explanation\n",
        "            - suggestions (str): Proposed environment enhancements\n",
        "            - internal_thoughts (list): Agent's reasoning log\n",
        "    \"\"\"\n",
        "    print(f\"🔁 Environment Agent will consider the last {agent.num_scenes} scene(s) for context.\\n\")\n",
        "\n",
        "    context, is_consistent, explanation, suggestions, thoughts = agent.run(\n",
        "        scene_description=scene_description,\n",
        "        scene_number=scene_number\n",
        "    )\n",
        "\n",
        "    print(f\"Scene {scene_number} — Environment Transition: {'✅ Consistent' if is_consistent else '❌ Inconsistent'}\\n\")\n",
        "\n",
        "    print(\"Explanation:\")\n",
        "    print(explanation.strip())\n",
        "\n",
        "    print(\"\\nEnvironment Detail Suggestions:\")\n",
        "    print(suggestions.strip())\n",
        "\n",
        "    print(\"\\nEnvironment Agent's Internal Thoughts:\")\n",
        "    for thought in thoughts:\n",
        "        print(\"-\", thought)\n",
        "\n",
        "    return context, is_consistent, explanation, suggestions, thoughts\n",
        "\n",
        "'''"
      ],
      "metadata": {
        "id": "TtOiKBcjg3IX",
        "colab": {
          "base_uri": "https://localhost:8080/",
          "height": 137
        },
        "outputId": "7d427f5e-06e9-4309-a039-0e3128f75996"
      },
      "execution_count": 28,
      "outputs": [
        {
          "output_type": "execute_result",
          "data": {
            "text/plain": [
              "'\\n\\nfrom typing import Tuple, Dict, List\\n\\ndef evaluate_environment_agent_scene(\\n    agent,\\n    scene_description: str,\\n    scene_number: int\\n) -> Tuple[Dict, bool, str, str, List[str]]:\\n    \"\"\"\\n    Runs the EnvironmentReActAgent on a given scene and prints a structured summary:\\n    - Whether the environment transition is logical\\n    - Explanation or critique\\n    - Suggested environment detail enhancements\\n    - Internal reasoning trace from the agent\\n\\n    Args:\\n        agent: An initialized EnvironmentReActAgent\\n        scene_description (str): Description of the current scene\\n        scene_number (int): Scene number (for indexing and logging)\\n\\n    Returns:\\n        Tuple containing:\\n            - context (dict): Location and analysis metadata\\n            - is_consistent (bool): Whether the transition is logical\\n            - explanation (str): The model\\'s explanation\\n            - suggestions (str): Proposed environment enhancements\\n            - internal_thoughts (list): Agent\\'s reasoning log\\n    \"\"\"\\n    print(f\"🔁 Environment Agent will consider the last {agent.num_scenes} scene(s) for context.\\n\")\\n\\n    context, is_consistent, explanation, suggestions, thoughts = agent.run(\\n        scene_description=scene_description,\\n        scene_number=scene_number\\n    )\\n\\n    print(f\"Scene {scene_number} — Environment Transition: {\\'✅ Consistent\\' if is_consistent else \\'❌ Inconsistent\\'}\\n\")\\n\\n    print(\"Explanation:\")\\n    print(explanation.strip())\\n\\n    print(\"\\nEnvironment Detail Suggestions:\")\\n    print(suggestions.strip())\\n\\n    print(\"\\nEnvironment Agent\\'s Internal Thoughts:\")\\n    for thought in thoughts:\\n        print(\"-\", thought)\\n\\n    return context, is_consistent, explanation, suggestions, thoughts\\n\\n'"
            ],
            "application/vnd.google.colaboratory.intrinsic+json": {
              "type": "string"
            }
          },
          "metadata": {},
          "execution_count": 28
        }
      ]
    },
    {
      "cell_type": "code",
      "source": [
        "# Initialize the environment agent\n",
        "environment_agent = EnvironmentAgent(\n",
        "    client=client,\n",
        "    vector_metadata=vector_metadata,  # prior scene metadata\n",
        "    num_scenes=1  # how many scenes to look back\n",
        ")\n",
        "\n",
        "context, is_consistent, explanation, env_recommendations, env_thoughts = evaluate_environment_agent_scene(\n",
        "    agent=environment_agent,\n",
        "    scene_description=scene_2_desc,\n",
        "    scene_number=2\n",
        ")"
      ],
      "metadata": {
        "colab": {
          "base_uri": "https://localhost:8080/"
        },
        "id": "xK7FaSvghasp",
        "outputId": "41a1dadc-1724-4960-d9c5-1698312c27be"
      },
      "execution_count": 32,
      "outputs": [
        {
          "output_type": "stream",
          "name": "stdout",
          "text": [
            "🔁 Environment Agent will consider the last 1 scene(s) for context.\n",
            "\n",
            "📚 Retrieving script metadata for scene(s): [1]\n",
            "Scene 2 — Environment Transition: ✅ Consistent\n",
            "\n",
            "Explanation:\n",
            "Short Explanation: The transition from \"Jimmy's Locksmith Shop\" to \"Jimmy's Shop\" is logical and believable. It's likely that \"Jimmy's Shop\" is just a shortened version of \"Jimmy's Locksmith Shop\", so the audience would understand that it's the same location. \n",
            "- Suggested Transition Setup: Not necessary in this case.\n",
            "\n",
            "Environment Detail Suggestions:\n",
            "Environment Details Suggestions:\n",
            "- Suggestion 1: As the characters converse, the background noise of a key-making machine whirring and grinding intermittently could add a touch of realism to the scene. This could also create some funny moments, like a character getting startled or having to raise their voice over the noise. \n",
            "- Suggestion 2: A wall of countless keys hanging behind Jimmy could be visually interesting, and could lead to comedic moments where Jimmy can't find the right key or accidentally knocks a bunch of them down. Another sensory detail could be the distinct metallic smell of freshly cut keys.\n",
            "\n",
            "Environment Agent's Internal Thoughts:\n",
            "- Think: Retrieved summaries and environment context from scene(s) [1] for Scene 2.\n",
            "- Act: Analyzed environment features for Scene 2.\n",
            "- Observe: Scene transition is consistent.\n",
            "- Recommend: Provided environmental enhancement suggestions.\n"
          ]
        }
      ]
    },
    {
      "cell_type": "markdown",
      "source": [
        "### 🧠 Scene Planner Agent\n",
        "\n",
        "The `ScenePlannerAgent` acts as the **Executive Producer**, responsible for synthesizing suggestions from all other agents and outlining a coherent, engaging plan for the next scene.\n",
        "\n",
        "Rather than simply selecting from character, comedic, and environment recommendations, this agent **distills key themes and feedback** into a unified set of creative objectives that drive the sitcom forward.\n",
        "\n",
        "The agent uses a **ReAct-based synthesis approach**, interpreting prior agent outputs and generating new, structured goals:\n",
        "\n",
        "- **Character Goals (2)** — derived from the `CharacterAgent`'s recommendations, focusing on growth, conflict, or relationships.\n",
        "- **Comedic Goal (1)** — distilled from tone analysis and punch-up suggestions made by the `ComedicAgent`.\n",
        "- **Environment Detail (1)** — extracted from the `EnvironmentAgent`'s observations and setting enhancements.\n",
        "- **Creative Suggestion (1)** — an original narrative nudge that naturally integrates all the above goals into a sitcom-appropriate next step.\n",
        "\n",
        "This agent ensures every new scene is **purposeful, tonally consistent, and narratively aligned**, helping maintain momentum and coherence throughout the episode.\n"
      ],
      "metadata": {
        "id": "50e9gy8LB0aj"
      }
    },
    {
      "cell_type": "code",
      "source": [
        "# TO DELETE\n",
        "import importlib\n",
        "import agents.scene_planner_agent\n",
        "importlib.reload(agents.scene_planner_agent)\n",
        "from agents.scene_planner_agent import ScenePlannerAgent"
      ],
      "metadata": {
        "id": "KdELZBI2ZuQX"
      },
      "execution_count": 34,
      "outputs": []
    },
    {
      "cell_type": "code",
      "source": [
        "scene_planner_agent = ScenePlannerAgent(client=client)\n",
        "\n",
        "scene_2_plan = scene_planner_agent.plan_next_scene(\n",
        "    character_recommendations=char_recommendations,\n",
        "    comedic_recommendations=com_recommendations,\n",
        "    environment_recommendations=env_recommendations,\n",
        "    scene_number=2\n",
        ")"
      ],
      "metadata": {
        "id": "59hqnint9VYo"
      },
      "execution_count": 36,
      "outputs": []
    },
    {
      "cell_type": "code",
      "source": [
        "display(Markdown(scene_2_plan))"
      ],
      "metadata": {
        "colab": {
          "base_uri": "https://localhost:8080/",
          "height": 326
        },
        "id": "rIrLydYnZMaZ",
        "outputId": "5d9c5a4b-c68b-4de5-ad6e-e83a653b2007"
      },
      "execution_count": 37,
      "outputs": [
        {
          "output_type": "display_data",
          "data": {
            "text/plain": [
              "<IPython.core.display.Markdown object>"
            ],
            "text/markdown": "Scene Plan:\nCharacter Goals:\n- [Goal 1] Showcase Zoe's bold and playful nature by having her break the tense atmosphere of the reunion with a joke about Jimmy's lock-making, subtly revealing her familiarity with his work and their shared history.\n- [Goal 2] Have Jimmy regain composure after his initial surprise, revealing his professional and boundary-setting side by courteously inviting Zoe to share the reason for her visit.\n\nComedic Goal:\n- [Goal] Inject humor into the scene by capitalizing on Jimmy's surprise at Zoe's visit, leading to physical comedy, followed by witty banter that references their shared past and ongoing jokes about Zoe's knack for dramatic entrances and Jimmy's disorganization.\n\nEnvironment Detail:\n- [Detail] Enhance the shop's atmosphere with the continuous sounds of a key-cutting machine in the background. This could be leveraged for comedic moments and to emphasize the reality of Jimmy's work environment.\n\nCreative Suggestion:\n- [Suggestion] As Zoe starts to explain her reason for visiting, the conversation is regularly interrupted by the loud noise of the key-cutting machine, leading to funny exchanges and misunderstandings. Meanwhile, Jimmy tries to find a specific key from his disorganized wall of keys, creating physical comedy and an opportunity for Zoe to offer her assistance in a teasing manner."
          },
          "metadata": {}
        }
      ]
    },
    {
      "cell_type": "code",
      "source": [
        "print(scene_2_plan)"
      ],
      "metadata": {
        "id": "dlxXKfGr9VVB",
        "colab": {
          "base_uri": "https://localhost:8080/"
        },
        "outputId": "303a16c5-ea45-454e-a7a8-64980ecd3ffb"
      },
      "execution_count": 38,
      "outputs": [
        {
          "output_type": "stream",
          "name": "stdout",
          "text": [
            "Scene Plan:\n",
            "Character Goals:\n",
            "- [Goal 1] Showcase Zoe's bold and playful nature by having her break the tense atmosphere of the reunion with a joke about Jimmy's lock-making, subtly revealing her familiarity with his work and their shared history.\n",
            "- [Goal 2] Have Jimmy regain composure after his initial surprise, revealing his professional and boundary-setting side by courteously inviting Zoe to share the reason for her visit.\n",
            "\n",
            "Comedic Goal:\n",
            "- [Goal] Inject humor into the scene by capitalizing on Jimmy's surprise at Zoe's visit, leading to physical comedy, followed by witty banter that references their shared past and ongoing jokes about Zoe's knack for dramatic entrances and Jimmy's disorganization.\n",
            "\n",
            "Environment Detail:\n",
            "- [Detail] Enhance the shop's atmosphere with the continuous sounds of a key-cutting machine in the background. This could be leveraged for comedic moments and to emphasize the reality of Jimmy's work environment.\n",
            "\n",
            "Creative Suggestion:\n",
            "- [Suggestion] As Zoe starts to explain her reason for visiting, the conversation is regularly interrupted by the loud noise of the key-cutting machine, leading to funny exchanges and misunderstandings. Meanwhile, Jimmy tries to find a specific key from his disorganized wall of keys, creating physical comedy and an opportunity for Zoe to offer her assistance in a teasing manner.\n"
          ]
        }
      ]
    },
    {
      "cell_type": "markdown",
      "source": [
        "### Generating Scene 2 Script"
      ],
      "metadata": {
        "id": "lyMGXxykE-3i"
      }
    },
    {
      "cell_type": "code",
      "source": [
        "import importlib\n",
        "import screen_writing\n",
        "importlib.reload(screen_writing)\n"
      ],
      "metadata": {
        "colab": {
          "base_uri": "https://localhost:8080/"
        },
        "id": "aYlYUHaTb6sf",
        "outputId": "1e8b13a8-f2b5-4c39-8995-3b99444d46b4"
      },
      "execution_count": 50,
      "outputs": [
        {
          "output_type": "execute_result",
          "data": {
            "text/plain": [
              "<module 'screen_writing' from '/content/drive/MyDrive/Spring 2025/Gen AI with LLM/Project/utils/screen_writing.py'>"
            ]
          },
          "metadata": {},
          "execution_count": 50
        }
      ]
    },
    {
      "cell_type": "code",
      "source": [
        "scene_2_script = generate_scene(\n",
        "    client=client,\n",
        "    scene_plan=scene_2_plan,\n",
        "    scene_number= 2\n",
        ")\n",
        "\n",
        "print(scene_2_script)"
      ],
      "metadata": {
        "id": "BnxkFMQR1syY",
        "colab": {
          "base_uri": "https://localhost:8080/"
        },
        "outputId": "a4d59387-8dd2-4669-c41e-441c2c55bd68"
      },
      "execution_count": 51,
      "outputs": [
        {
          "output_type": "stream",
          "name": "stdout",
          "text": [
            "INT. JIMMY'S LOCKSMITH SHOP - DAY\n",
            "\n",
            "Jimmy, a middle-aged locksmith, is hunched over his workbench, engrossed in his work. The sound of a KEY-CUTTING MACHINE fills the room. Suddenly the door swings open with a bang.\n",
            "\n",
            "Zoe, an expressive woman in her late thirties, stands in the doorway, striking a dramatic pose.\n",
            "\n",
            "ZOE: (grinning) \"Remember when you said you'd make me a key to your heart, Jimmy?\"\n",
            "\n",
            "Jimmy jumps in surprise, knocking a pile of keys off the workbench, creating a clatter.\n",
            "\n",
            "JIMMY: (flustered) \"Zoe! You scared the life out of me.\"\n",
            "\n",
            "Zoe chuckles, stepping over the scattered keys to approach Jimmy.\n",
            "\n",
            "ZOE: (teasing) \"Well, someone's got to keep you on your toes, Jimmy. Besides, you've always been a mess.\"\n",
            "\n",
            "Jimmy regains his composure, standing tall as he meets Zoe's playful gaze.\n",
            "\n",
            "JIMMY: (smiling) \"I see you haven't lost your dramatic flair, Zoe. What brings you here?\"\n",
            "\n",
            "ZOE: (grinning) \"Well, I was in town and thought I'd visit my favorite locksmith.\"\n",
            "\n",
            "Just as Zoe starts to speak again, the KEY-CUTTING MACHINE cuts her off with a loud WHIRRING sound. They both wince, then laugh.\n",
            "\n",
            "JIMMY: (over the noise) \"I didn't catch that, Zoe!\"\n",
            "\n",
            "Zoe gestures for Jimmy to turn off the machine. Jimmy, in his confusion, accidentally sends another pile of keys flying.\n",
            "\n",
            "ZOE: (laughing) \"Still the king of chaos I see!\"\n",
            "\n",
            "Jimmy finally turns off the machine, shaking his head with a grin.\n",
            "\n",
            "JIMMY: (chuckles) \"Alright, alright. What was that you were saying?\"\n",
            "\n",
            "Zoe glances at the scattered keys and then at Jimmy's disorganized wall of keys.\n",
            "\n",
            "ZOE: (grinning) \"I said, I need a key made. But by the looks of it, you might need my help finding the right one!\"\n",
            "\n",
            "They both burst out laughing, the tension from their reunion completely dissolved, replaced by the familiar rhythm of their shared past.\n"
          ]
        }
      ]
    },
    {
      "cell_type": "code",
      "source": [
        "display(Markdown(scene_2_script))"
      ],
      "metadata": {
        "colab": {
          "base_uri": "https://localhost:8080/",
          "height": 500
        },
        "id": "aP9RCBFsadjM",
        "outputId": "3a96420c-1c2f-4b1d-bea1-8cbb30091c3b"
      },
      "execution_count": 52,
      "outputs": [
        {
          "output_type": "display_data",
          "data": {
            "text/plain": [
              "<IPython.core.display.Markdown object>"
            ],
            "text/markdown": "INT. JIMMY'S LOCKSMITH SHOP - DAY\n\nJimmy, a middle-aged locksmith, is hunched over his workbench, engrossed in his work. The sound of a KEY-CUTTING MACHINE fills the room. Suddenly the door swings open with a bang.\n\nZoe, an expressive woman in her late thirties, stands in the doorway, striking a dramatic pose.\n\nZOE: (grinning) \"Remember when you said you'd make me a key to your heart, Jimmy?\"\n\nJimmy jumps in surprise, knocking a pile of keys off the workbench, creating a clatter.\n\nJIMMY: (flustered) \"Zoe! You scared the life out of me.\"\n\nZoe chuckles, stepping over the scattered keys to approach Jimmy.\n\nZOE: (teasing) \"Well, someone's got to keep you on your toes, Jimmy. Besides, you've always been a mess.\"\n\nJimmy regains his composure, standing tall as he meets Zoe's playful gaze.\n\nJIMMY: (smiling) \"I see you haven't lost your dramatic flair, Zoe. What brings you here?\"\n\nZOE: (grinning) \"Well, I was in town and thought I'd visit my favorite locksmith.\"\n\nJust as Zoe starts to speak again, the KEY-CUTTING MACHINE cuts her off with a loud WHIRRING sound. They both wince, then laugh.\n\nJIMMY: (over the noise) \"I didn't catch that, Zoe!\"\n\nZoe gestures for Jimmy to turn off the machine. Jimmy, in his confusion, accidentally sends another pile of keys flying.\n\nZOE: (laughing) \"Still the king of chaos I see!\"\n\nJimmy finally turns off the machine, shaking his head with a grin.\n\nJIMMY: (chuckles) \"Alright, alright. What was that you were saying?\"\n\nZoe glances at the scattered keys and then at Jimmy's disorganized wall of keys.\n\nZOE: (grinning) \"I said, I need a key made. But by the looks of it, you might need my help finding the right one!\"\n\nThey both burst out laughing, the tension from their reunion completely dissolved, replaced by the familiar rhythm of their shared past."
          },
          "metadata": {}
        }
      ]
    },
    {
      "cell_type": "markdown",
      "source": [
        "### Adding Scene 2 to Vector Database"
      ],
      "metadata": {
        "id": "crS4eTxLnoi2"
      }
    },
    {
      "cell_type": "code",
      "source": [
        "scene_metadata_2 = summarize_scene(\n",
        "    client=client,\n",
        "    sitcom_title=sitcom_title,\n",
        "    scene_script=scene_2_script\n",
        ")\n",
        "\n",
        "# Adds scene to the vector database\n",
        "add_scene_to_vector_db(\n",
        "    scene_metadata_2,\n",
        "    full_script=scene_2_script,\n",
        "    embedding_model=embedding_model,\n",
        "    index=index,\n",
        "    vector_metadata=vector_metadata\n",
        ")\n",
        "\n",
        "print(\"Total scenes stored in vector DB:\", index.ntotal, \"\\n\")\n",
        "\n",
        "for i, meta in enumerate(vector_metadata):\n",
        "    print(f\"\\nScene {i + 1}\")\n",
        "    print(\"Summary:\", meta[\"summary\"])\n",
        "    print(\"Characters:\", meta[\"characters\"])\n",
        "    print(\"Location:\", meta[\"location\"])\n",
        "    print(\"Recurring Joke:\", meta[\"recurring_joke\"])\n",
        "    print(\"Emotional Tone:\", meta[\"emotional_tone\"])\n"
      ],
      "metadata": {
        "id": "zcOy2Xminpi0",
        "colab": {
          "base_uri": "https://localhost:8080/"
        },
        "outputId": "f6c74cd6-ae7e-41d1-cc83-74ccd5587353"
      },
      "execution_count": 41,
      "outputs": [
        {
          "output_type": "stream",
          "name": "stdout",
          "text": [
            "Total scenes stored in vector DB: 2 \n",
            "\n",
            "\n",
            "Scene 1\n",
            "Summary: In this scene, Jimmy, a dedicated locksmith, is crafting a lock when Karen, a regular customer, enters his shop. She startles him, and they exchange a few jokes, revealing a friendly, teasing relationship. Karen requests a lock for her diary to keep her husband from snooping, which Jimmy finds amusing but agrees to create. As he works, he explains his craft to Karen, comparing it to an art of strength and delicacy. Karen makes a joke, comparing it to her mother's meatloaf. Once the lock is ready, Karen tries to hug Jimmy, but he steps back, protecting his workbench. Karen leaves, and Jimmy, left alone, reflects on his day with satisfaction.\n",
            "Characters: ['Jimmy', 'Karen']\n",
            "Location: Jimmy's Locksmith Shop\n",
            "Recurring Joke: None\n",
            "Emotional Tone: Amusing\n",
            "\n",
            "Scene 2\n",
            "Summary: In the locksmith shop, Jimmy is cutting a key when Zoe enters, surprising him. Their playful banter reveals a shared history and familiarity. Zoe teases Jimmy about his disorganized wall of keys and his tendency to be easily startled, while Jimmy defends his \"organized chaos\" and enjoys Zoe's dramatic entrances. Zoe needs a key, but her request is initially drowned out by the key-cutting machine. Jimmy continues to search for the right key among his chaotic collection, despite Zoe's offer to help, while they continue their light-hearted conversation.\n",
            "Characters: ['Jimmy', 'Zoe']\n",
            "Location: Locksmith shop\n",
            "Recurring Joke: None\n",
            "Emotional Tone: Playful\n"
          ]
        }
      ]
    },
    {
      "cell_type": "code",
      "source": [],
      "metadata": {
        "id": "sKUtCjW-npgb"
      },
      "execution_count": null,
      "outputs": []
    },
    {
      "cell_type": "code",
      "source": [
        "\n"
      ],
      "metadata": {
        "id": "gG2QXVz5n81H"
      },
      "execution_count": null,
      "outputs": []
    },
    {
      "cell_type": "markdown",
      "source": [
        "## 🎬 Scene 3 Generation\n",
        "\n",
        "Scene 3 (through 20) will follow the same exact structure as Scene 2"
      ],
      "metadata": {
        "id": "7pteDxs7i5vn"
      }
    },
    {
      "cell_type": "code",
      "source": [
        "scene_3_desc = extract_scene(outline, 3)\n",
        "print(scene_3_desc)"
      ],
      "metadata": {
        "id": "xFVSwC2S2fg_",
        "colab": {
          "base_uri": "https://localhost:8080/"
        },
        "outputId": "50f1ce1a-4542-4521-99d5-72bbabf138dd"
      },
      "execution_count": 53,
      "outputs": [
        {
          "output_type": "stream",
          "name": "stdout",
          "text": [
            "Scene 3: \"The First Challenge\" Zoe challenges Jimmy's traditional thinking by suggesting improvements to his locksmith shop, creating a tension-filled funny moment.\n"
          ]
        }
      ]
    },
    {
      "cell_type": "markdown",
      "source": [
        "### Character Agent"
      ],
      "metadata": {
        "id": "4CKIVGewp-9H"
      }
    },
    {
      "cell_type": "code",
      "source": [],
      "metadata": {
        "id": "oQXW-nswz2us"
      },
      "execution_count": null,
      "outputs": []
    },
    {
      "cell_type": "markdown",
      "source": [
        "### Comedy Agent"
      ],
      "metadata": {
        "id": "SoZ5YFR9q-vT"
      }
    },
    {
      "cell_type": "code",
      "source": [],
      "metadata": {
        "id": "d1rkV9qqz2r6"
      },
      "execution_count": null,
      "outputs": []
    },
    {
      "cell_type": "markdown",
      "source": [
        "### Enviroment Agent\n"
      ],
      "metadata": {
        "id": "s1o8wr8jtsuE"
      }
    },
    {
      "cell_type": "code",
      "source": [],
      "metadata": {
        "id": "vuQawzfLz2pY"
      },
      "execution_count": null,
      "outputs": []
    },
    {
      "cell_type": "markdown",
      "source": [
        "### Scene Planner Agent"
      ],
      "metadata": {
        "id": "p_pZJkH3uInh"
      }
    },
    {
      "cell_type": "code",
      "source": [
        "scene_planner_agent = ScenePlannerAgent(client=client)\n",
        "\n",
        "scene_3_plan = scene_planner_agent.plan_next_scene_explicit(\n",
        "    character_recommendations=char_recommendations,\n",
        "    comedic_recommendations=com_recommendations,\n",
        "    environment_details_suggestions=environment_details_suggestions,\n",
        "    scene_number=3\n",
        ")"
      ],
      "metadata": {
        "id": "SzoOQcYGz2h9"
      },
      "execution_count": null,
      "outputs": []
    },
    {
      "cell_type": "code",
      "source": [
        "print(scene_3_plan)"
      ],
      "metadata": {
        "id": "LvPrcuz2uNlX"
      },
      "execution_count": null,
      "outputs": []
    },
    {
      "cell_type": "markdown",
      "source": [
        "### Generating Scene 3 Script"
      ],
      "metadata": {
        "id": "SoCkylEXvB7u"
      }
    },
    {
      "cell_type": "code",
      "source": [
        "scene_3_script = generate_scene(\n",
        "    client=client,\n",
        "    scene_plan=scene_3_plan,\n",
        "    scene_number= 3\n",
        ")\n",
        "\n",
        "print(scene_3_script)"
      ],
      "metadata": {
        "id": "OVxGUmjiuUGU"
      },
      "execution_count": null,
      "outputs": []
    },
    {
      "cell_type": "markdown",
      "source": [
        "### Adding Metadata to Vector Database"
      ],
      "metadata": {
        "id": "fjFh5eocvYhU"
      }
    },
    {
      "cell_type": "code",
      "source": [
        "'''\n",
        "MAKE FUNCTION!!!\n",
        "'''\n",
        "\n",
        "scene_metadata_3 = summarize_scene(\n",
        "    client=client,\n",
        "    sitcom_title=sitcom_title,\n",
        "    scene_script=scene_3_script\n",
        ")\n",
        "\n",
        "\n",
        "# Adds scene to the vector database\n",
        "add_scene_to_vector_db(\n",
        "    scene_metadata_3,\n",
        "    full_script=scene_3_script,\n",
        "    embedding_model=embedding_model,\n",
        "    index=index,\n",
        "    vector_metadata=vector_metadata\n",
        ")\n",
        "\n",
        "\n",
        "print(\"Total scenes stored in vector DB:\", index.ntotal, \"\\n\")\n",
        "\n",
        "for i, meta in enumerate(vector_metadata):\n",
        "    print(f\"\\nScene {i + 1}\")\n",
        "    print(\"Summary:\", meta[\"summary\"])\n",
        "    print(\"Characters:\", meta[\"characters\"])\n",
        "    print(\"Location:\", meta[\"location\"])\n",
        "    print(\"Recurring Joke:\", meta[\"recurring_joke\"])\n",
        "    print(\"Emotional Tone:\", meta[\"emotional_tone\"])\n"
      ],
      "metadata": {
        "id": "uFZ41BBxvE0c"
      },
      "execution_count": null,
      "outputs": []
    },
    {
      "cell_type": "markdown",
      "source": [
        "## Scene 4 Generation"
      ],
      "metadata": {
        "id": "RztuMTttcJ-h"
      }
    },
    {
      "cell_type": "code",
      "source": [
        "scene_4_desc = extract_scene(outline, 4)\n",
        "print(scene_4_desc)"
      ],
      "metadata": {
        "id": "YnDuemb9aVpE"
      },
      "execution_count": null,
      "outputs": []
    },
    {
      "cell_type": "markdown",
      "source": [
        "### Character Agent"
      ],
      "metadata": {
        "id": "RdUaKCUWe5AN"
      }
    },
    {
      "cell_type": "code",
      "source": [
        "# Initialize the agent\n",
        "character_agent = CharacterAgent(\n",
        "    client=client,\n",
        "    vector_metadata=vector_metadata,\n",
        "    num_scenes=3\n",
        ")\n",
        "\n",
        "character_histories, is_consistent, explanation, char_recommendations, thoughts = character_agent.run(\n",
        "    scene_description=scene_4_desc,\n",
        "    scene_number=4\n",
        ")\n",
        "\n",
        "# Outputs\n",
        "print(f\"Scene {4} — Consistency: {'✅ Consistent' if is_consistent else '❌ Inconsistent'}\")\n",
        "print(\"\\nExplanation:\\n\", explanation)\n",
        "\n",
        "print(\"\\nInteraction Improvement Recommendations:\\n\", char_recommendations)\n",
        "\n",
        "print(\"\\nAgent's Internal Thoughts:\")\n",
        "for thought in thoughts:\n",
        "    print(\"-\", thought)\n"
      ],
      "metadata": {
        "id": "NBweVSqldifu"
      },
      "execution_count": null,
      "outputs": []
    },
    {
      "cell_type": "markdown",
      "source": [
        "### Comedy Agent"
      ],
      "metadata": {
        "id": "9jGq4PUYftR6"
      }
    },
    {
      "cell_type": "code",
      "source": [
        "comedic_agent = ComedicAgent(client=client, vector_metadata=vector_metadata)\n",
        "\n",
        "is_consistent, analysis_text, com_recommendations, thoughts = comedic_agent.run(\n",
        "    scene_description=scene_4_desc,\n",
        "    scene_number=4\n",
        ")\n",
        "\n",
        "print(\"Is Consistent:\", is_consistent)\n",
        "print(\"Analysis:\\n\", analysis_text)\n",
        "print(\"Recommendations:\\n\", com_recommendations)\n",
        "print(\"Internal Thoughts:\\n\", thoughts)"
      ],
      "metadata": {
        "id": "5MiSLgNGdidC"
      },
      "execution_count": null,
      "outputs": []
    },
    {
      "cell_type": "markdown",
      "source": [
        "### Enviroment Agent\n"
      ],
      "metadata": {
        "id": "VfaoW5xGgpsF"
      }
    },
    {
      "cell_type": "code",
      "source": [
        "environment_agent = EnvironmentReActAgent(\n",
        "    client=client,\n",
        "    vector_metadata=vector_metadata,  # your list of prior scene metadata\n",
        "    num_scenes=3\n",
        ")"
      ],
      "metadata": {
        "id": "hT4tXUNVfxoM"
      },
      "execution_count": null,
      "outputs": []
    },
    {
      "cell_type": "code",
      "source": [
        "environment_analysis, transition_check, environment_details_suggestions, env_thoughts = environment_agent.run(\n",
        "    scene_description=scene_4_desc,\n",
        "    scene_number=4\n",
        ")"
      ],
      "metadata": {
        "id": "UzN2eU2ddial"
      },
      "execution_count": null,
      "outputs": []
    },
    {
      "cell_type": "code",
      "source": [
        "print(environment_details_suggestions)"
      ],
      "metadata": {
        "id": "T7TZsePndiWx"
      },
      "execution_count": null,
      "outputs": []
    },
    {
      "cell_type": "markdown",
      "source": [
        "### Scene Planner Agent"
      ],
      "metadata": {
        "id": "X5R8wnYMhN1z"
      }
    },
    {
      "cell_type": "code",
      "source": [
        "scene_planner_agent = ScenePlannerAgent(client=client)\n",
        "\n",
        "scene_4_plan = scene_planner_agent.plan_next_scene_explicit(\n",
        "    character_recommendations=char_recommendations,\n",
        "    comedic_recommendations=com_recommendations,\n",
        "    environment_details_suggestions=environment_details_suggestions,\n",
        "    scene_number=4\n",
        ")"
      ],
      "metadata": {
        "id": "jlm50ArShIfb"
      },
      "execution_count": null,
      "outputs": []
    },
    {
      "cell_type": "code",
      "source": [
        "print(scene_4_plan)"
      ],
      "metadata": {
        "id": "OVts3626ioxo"
      },
      "execution_count": null,
      "outputs": []
    },
    {
      "cell_type": "markdown",
      "source": [
        "### Generating Scene 4 Script"
      ],
      "metadata": {
        "id": "d-7NmcB9i5TD"
      }
    },
    {
      "cell_type": "code",
      "source": [
        "scene_4_script = generate_scene(\n",
        "    client=client,\n",
        "    scene_plan=scene_4_plan,\n",
        "    scene_number= 4\n",
        ")\n",
        "\n",
        "print(scene_4_script)"
      ],
      "metadata": {
        "id": "Lpq3ac1_i04z"
      },
      "execution_count": null,
      "outputs": []
    },
    {
      "cell_type": "markdown",
      "source": [
        "## Scene 5 Generation"
      ],
      "metadata": {
        "id": "ItrjexUZjHPx"
      }
    },
    {
      "cell_type": "code",
      "source": [
        "scene_5_desc = extract_scene(outline, 5)\n",
        "print(scene_5_desc)"
      ],
      "metadata": {
        "id": "PFMmuKXii80n"
      },
      "execution_count": null,
      "outputs": []
    },
    {
      "cell_type": "markdown",
      "source": [
        "### Character Agent"
      ],
      "metadata": {
        "id": "f3BPmDELjVq8"
      }
    },
    {
      "cell_type": "code",
      "source": [
        "# Initialize the agent\n",
        "character_agent = CharacterAgent(\n",
        "    client=client,\n",
        "    vector_metadata=vector_metadata,\n",
        "    num_scenes=3\n",
        ")\n",
        "\n",
        "character_histories, is_consistent, explanation, char_recommendations, thoughts = character_agent.run(\n",
        "    scene_description=scene_5_desc,\n",
        "    scene_number=5\n",
        ")\n",
        "\n",
        "# Outputs\n",
        "print(f\"Scene {5} — Consistency: {'✅ Consistent' if is_consistent else '❌ Inconsistent'}\")\n",
        "print(\"\\nExplanation:\\n\", explanation)\n",
        "\n",
        "print(\"\\nInteraction Improvement Recommendations:\\n\", char_recommendations)\n",
        "\n",
        "print(\"\\nAgent's Internal Thoughts:\")\n",
        "for thought in thoughts:\n",
        "    print(\"-\", thought)\n"
      ],
      "metadata": {
        "id": "FHImKv05jSem"
      },
      "execution_count": null,
      "outputs": []
    },
    {
      "cell_type": "markdown",
      "source": [
        "### Comedy Agent"
      ],
      "metadata": {
        "id": "U62wKQeEjvCK"
      }
    },
    {
      "cell_type": "code",
      "source": [
        "comedic_agent = ComedicAgent(client=client, vector_metadata=vector_metadata)\n",
        "\n",
        "is_consistent, analysis_text, com_recommendations, thoughts = comedic_agent.run(\n",
        "    scene_description=scene_5_desc,\n",
        "    scene_number=5\n",
        ")\n",
        "\n",
        "print(\"Is Consistent:\", is_consistent)\n",
        "print(\"Analysis:\\n\", analysis_text)\n",
        "print(\"Recommendations:\\n\", com_recommendations)\n",
        "print(\"Internal Thoughts:\\n\", thoughts)"
      ],
      "metadata": {
        "id": "h1tpW2Qpjubk"
      },
      "execution_count": null,
      "outputs": []
    },
    {
      "cell_type": "markdown",
      "source": [
        "### Enviroment Agent\n"
      ],
      "metadata": {
        "id": "KrjcVF_EmsEU"
      }
    },
    {
      "cell_type": "code",
      "source": [
        "environment_agent = EnvironmentReActAgent(\n",
        "    client=client,\n",
        "    vector_metadata=vector_metadata,  # your list of prior scene metadata\n",
        "    num_scenes=3\n",
        ")\n",
        "\n",
        "environment_analysis, transition_check, environment_details_suggestions, env_thoughts = environment_agent.run(\n",
        "    scene_description=scene_5_desc,\n",
        "    scene_number=5\n",
        ")\n",
        "\n",
        "print(environment_details_suggestions)"
      ],
      "metadata": {
        "id": "ICkQ00Hejqyx"
      },
      "execution_count": null,
      "outputs": []
    },
    {
      "cell_type": "markdown",
      "source": [
        "### Scene Planner Agent"
      ],
      "metadata": {
        "id": "OA3-guYQmwKo"
      }
    },
    {
      "cell_type": "code",
      "source": [
        "scene_planner_agent = ScenePlannerAgent(client=client)\n",
        "\n",
        "scene_5_plan = scene_planner_agent.plan_next_scene_explicit(\n",
        "    character_recommendations=char_recommendations,\n",
        "    comedic_recommendations=com_recommendations,\n",
        "    environment_details_suggestions=environment_details_suggestions,\n",
        "    scene_number=5\n",
        ")\n",
        "\n",
        "print(scene_5_plan)"
      ],
      "metadata": {
        "id": "axlPG5Bmjqvd"
      },
      "execution_count": null,
      "outputs": []
    },
    {
      "cell_type": "markdown",
      "source": [
        "### Generating Scene 5 Script"
      ],
      "metadata": {
        "id": "35ulfOk_nIas"
      }
    },
    {
      "cell_type": "code",
      "source": [
        "scene_5_script = generate_scene(\n",
        "    client=client,\n",
        "    scene_plan=scene_5_plan,\n",
        "    scene_number= 5\n",
        ")\n",
        "\n",
        "print(scene_5_script)"
      ],
      "metadata": {
        "id": "qfi_382Kjqr_"
      },
      "execution_count": null,
      "outputs": []
    },
    {
      "cell_type": "markdown",
      "source": [
        "## Combining Scripts\n",
        "\n"
      ],
      "metadata": {
        "id": "lVQJkSBVneFY"
      }
    },
    {
      "cell_type": "code",
      "source": [
        "# List your scene scripts in order\n",
        "scene_scripts = [\n",
        "    scene_1_script,\n",
        "    scene_2_script,\n",
        "    scene_3_script,\n",
        "    scene_4_script,\n",
        "    scene_5_script\n",
        "]\n",
        "\n",
        "# Combine with optional scene headers\n",
        "full_episode_script = \"\\n\\n\".join([\n",
        "    f\"### Scene {i+1} ###\\n{script.strip()}\"\n",
        "    for i, script in enumerate(scene_scripts)\n",
        "])\n",
        "\n",
        "print(full_episode_script)"
      ],
      "metadata": {
        "id": "llXvGlN2jqhi"
      },
      "execution_count": null,
      "outputs": []
    },
    {
      "cell_type": "code",
      "source": [],
      "metadata": {
        "id": "HX-W-qU6jZTq"
      },
      "execution_count": null,
      "outputs": []
    },
    {
      "cell_type": "code",
      "source": [],
      "metadata": {
        "id": "YXcVKO4MoRfJ"
      },
      "execution_count": null,
      "outputs": []
    }
  ]
}