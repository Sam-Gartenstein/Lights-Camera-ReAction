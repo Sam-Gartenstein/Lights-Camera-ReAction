{
  "nbformat": 4,
  "nbformat_minor": 0,
  "metadata": {
    "colab": {
      "provenance": []
    },
    "kernelspec": {
      "name": "python3",
      "display_name": "Python 3"
    },
    "language_info": {
      "name": "python"
    }
  },
  "cells": [
    {
      "cell_type": "markdown",
      "source": [
        "# 🎬 Baseline Workflow\n",
        "\n",
        "This notebook implements the baseline workflow. Each scene is generated independently using only its description from the episode outline and a rolling window of up to three previously generated scripts. These prior scenes are passed to the language model as raw text, without summaries, planning signals, or agent feedback. The LLM operates purely autoregressively, with no structured memory or mechanism for long-term narrative tracking.\n"
      ],
      "metadata": {
        "id": "Iq0Tt3xoCts1"
      }
    },
    {
      "cell_type": "markdown",
      "source": [
        "## Mounting Drive and Appending System"
      ],
      "metadata": {
        "id": "2OJBpxEsw25F"
      }
    },
    {
      "cell_type": "code",
      "source": [
        "# Import necessary modules\n",
        "from google.colab import drive\n",
        "import sys\n",
        "\n",
        "# Mount Google Drive to access files stored in your Google Drive\n",
        "drive.mount('/content/drive')\n",
        "\n",
        "# NOTE: Update the paths below to match the location of your project files in Google Drive.\n",
        "# Replace with your own directory if different.\n",
        "\n",
        "# Add the main 'utils' directory to Python's module search path\n",
        "# This allows you to import custom utility modules from this folder\n",
        "sys.path.append(\"/content/drive/MyDrive/Spring 2025/Gen AI with LLM/Project/utils\")\n",
        "\n",
        "# Add the 'agents' subdirectory to the module search path\n",
        "# Useful if you have agent-specific Python scripts you want to import\n",
        "sys.path.append(\"/content/drive/MyDrive/Spring 2025/Gen AI with LLM/Project/utils/agents\")"
      ],
      "metadata": {
        "colab": {
          "base_uri": "https://localhost:8080/",
          "height": 350
        },
        "id": "_JUBAySbEtJ5",
        "outputId": "13ccdf8e-0e1d-4f4d-87d6-e51db0e43ed1"
      },
      "execution_count": null,
      "outputs": [
        {
          "output_type": "error",
          "ename": "MessageError",
          "evalue": "Error: credential propagation was unsuccessful",
          "traceback": [
            "\u001b[0;31m---------------------------------------------------------------------------\u001b[0m",
            "\u001b[0;31mMessageError\u001b[0m                              Traceback (most recent call last)",
            "\u001b[0;32m<ipython-input-1-cabcd6e57073>\u001b[0m in \u001b[0;36m<cell line: 0>\u001b[0;34m()\u001b[0m\n\u001b[1;32m      4\u001b[0m \u001b[0;34m\u001b[0m\u001b[0m\n\u001b[1;32m      5\u001b[0m \u001b[0;31m# Mount Google Drive to access files stored in your Google Drive\u001b[0m\u001b[0;34m\u001b[0m\u001b[0;34m\u001b[0m\u001b[0m\n\u001b[0;32m----> 6\u001b[0;31m \u001b[0mdrive\u001b[0m\u001b[0;34m.\u001b[0m\u001b[0mmount\u001b[0m\u001b[0;34m(\u001b[0m\u001b[0;34m'/content/drive'\u001b[0m\u001b[0;34m)\u001b[0m\u001b[0;34m\u001b[0m\u001b[0;34m\u001b[0m\u001b[0m\n\u001b[0m\u001b[1;32m      7\u001b[0m \u001b[0;34m\u001b[0m\u001b[0m\n\u001b[1;32m      8\u001b[0m \u001b[0;31m# NOTE: Update the paths below to match the location of your project files in Google Drive.\u001b[0m\u001b[0;34m\u001b[0m\u001b[0;34m\u001b[0m\u001b[0m\n",
            "\u001b[0;32m/usr/local/lib/python3.11/dist-packages/google/colab/drive.py\u001b[0m in \u001b[0;36mmount\u001b[0;34m(mountpoint, force_remount, timeout_ms, readonly)\u001b[0m\n\u001b[1;32m     98\u001b[0m \u001b[0;32mdef\u001b[0m \u001b[0mmount\u001b[0m\u001b[0;34m(\u001b[0m\u001b[0mmountpoint\u001b[0m\u001b[0;34m,\u001b[0m \u001b[0mforce_remount\u001b[0m\u001b[0;34m=\u001b[0m\u001b[0;32mFalse\u001b[0m\u001b[0;34m,\u001b[0m \u001b[0mtimeout_ms\u001b[0m\u001b[0;34m=\u001b[0m\u001b[0;36m120000\u001b[0m\u001b[0;34m,\u001b[0m \u001b[0mreadonly\u001b[0m\u001b[0;34m=\u001b[0m\u001b[0;32mFalse\u001b[0m\u001b[0;34m)\u001b[0m\u001b[0;34m:\u001b[0m\u001b[0;34m\u001b[0m\u001b[0;34m\u001b[0m\u001b[0m\n\u001b[1;32m     99\u001b[0m   \u001b[0;34m\"\"\"Mount your Google Drive at the specified mountpoint path.\"\"\"\u001b[0m\u001b[0;34m\u001b[0m\u001b[0;34m\u001b[0m\u001b[0m\n\u001b[0;32m--> 100\u001b[0;31m   return _mount(\n\u001b[0m\u001b[1;32m    101\u001b[0m       \u001b[0mmountpoint\u001b[0m\u001b[0;34m,\u001b[0m\u001b[0;34m\u001b[0m\u001b[0;34m\u001b[0m\u001b[0m\n\u001b[1;32m    102\u001b[0m       \u001b[0mforce_remount\u001b[0m\u001b[0;34m=\u001b[0m\u001b[0mforce_remount\u001b[0m\u001b[0;34m,\u001b[0m\u001b[0;34m\u001b[0m\u001b[0;34m\u001b[0m\u001b[0m\n",
            "\u001b[0;32m/usr/local/lib/python3.11/dist-packages/google/colab/drive.py\u001b[0m in \u001b[0;36m_mount\u001b[0;34m(mountpoint, force_remount, timeout_ms, ephemeral, readonly)\u001b[0m\n\u001b[1;32m    135\u001b[0m   )\n\u001b[1;32m    136\u001b[0m   \u001b[0;32mif\u001b[0m \u001b[0mephemeral\u001b[0m\u001b[0;34m:\u001b[0m\u001b[0;34m\u001b[0m\u001b[0;34m\u001b[0m\u001b[0m\n\u001b[0;32m--> 137\u001b[0;31m     _message.blocking_request(\n\u001b[0m\u001b[1;32m    138\u001b[0m         \u001b[0;34m'request_auth'\u001b[0m\u001b[0;34m,\u001b[0m\u001b[0;34m\u001b[0m\u001b[0;34m\u001b[0m\u001b[0m\n\u001b[1;32m    139\u001b[0m         \u001b[0mrequest\u001b[0m\u001b[0;34m=\u001b[0m\u001b[0;34m{\u001b[0m\u001b[0;34m'authType'\u001b[0m\u001b[0;34m:\u001b[0m \u001b[0;34m'dfs_ephemeral'\u001b[0m\u001b[0;34m}\u001b[0m\u001b[0;34m,\u001b[0m\u001b[0;34m\u001b[0m\u001b[0;34m\u001b[0m\u001b[0m\n",
            "\u001b[0;32m/usr/local/lib/python3.11/dist-packages/google/colab/_message.py\u001b[0m in \u001b[0;36mblocking_request\u001b[0;34m(request_type, request, timeout_sec, parent)\u001b[0m\n\u001b[1;32m    174\u001b[0m       \u001b[0mrequest_type\u001b[0m\u001b[0;34m,\u001b[0m \u001b[0mrequest\u001b[0m\u001b[0;34m,\u001b[0m \u001b[0mparent\u001b[0m\u001b[0;34m=\u001b[0m\u001b[0mparent\u001b[0m\u001b[0;34m,\u001b[0m \u001b[0mexpect_reply\u001b[0m\u001b[0;34m=\u001b[0m\u001b[0;32mTrue\u001b[0m\u001b[0;34m\u001b[0m\u001b[0;34m\u001b[0m\u001b[0m\n\u001b[1;32m    175\u001b[0m   )\n\u001b[0;32m--> 176\u001b[0;31m   \u001b[0;32mreturn\u001b[0m \u001b[0mread_reply_from_input\u001b[0m\u001b[0;34m(\u001b[0m\u001b[0mrequest_id\u001b[0m\u001b[0;34m,\u001b[0m \u001b[0mtimeout_sec\u001b[0m\u001b[0;34m)\u001b[0m\u001b[0;34m\u001b[0m\u001b[0;34m\u001b[0m\u001b[0m\n\u001b[0m",
            "\u001b[0;32m/usr/local/lib/python3.11/dist-packages/google/colab/_message.py\u001b[0m in \u001b[0;36mread_reply_from_input\u001b[0;34m(message_id, timeout_sec)\u001b[0m\n\u001b[1;32m    101\u001b[0m     ):\n\u001b[1;32m    102\u001b[0m       \u001b[0;32mif\u001b[0m \u001b[0;34m'error'\u001b[0m \u001b[0;32min\u001b[0m \u001b[0mreply\u001b[0m\u001b[0;34m:\u001b[0m\u001b[0;34m\u001b[0m\u001b[0;34m\u001b[0m\u001b[0m\n\u001b[0;32m--> 103\u001b[0;31m         \u001b[0;32mraise\u001b[0m \u001b[0mMessageError\u001b[0m\u001b[0;34m(\u001b[0m\u001b[0mreply\u001b[0m\u001b[0;34m[\u001b[0m\u001b[0;34m'error'\u001b[0m\u001b[0;34m]\u001b[0m\u001b[0;34m)\u001b[0m\u001b[0;34m\u001b[0m\u001b[0;34m\u001b[0m\u001b[0m\n\u001b[0m\u001b[1;32m    104\u001b[0m       \u001b[0;32mreturn\u001b[0m \u001b[0mreply\u001b[0m\u001b[0;34m.\u001b[0m\u001b[0mget\u001b[0m\u001b[0;34m(\u001b[0m\u001b[0;34m'data'\u001b[0m\u001b[0;34m,\u001b[0m \u001b[0;32mNone\u001b[0m\u001b[0;34m)\u001b[0m\u001b[0;34m\u001b[0m\u001b[0;34m\u001b[0m\u001b[0m\n\u001b[1;32m    105\u001b[0m \u001b[0;34m\u001b[0m\u001b[0m\n",
            "\u001b[0;31mMessageError\u001b[0m: Error: credential propagation was unsuccessful"
          ]
        }
      ]
    },
    {
      "cell_type": "markdown",
      "source": [
        "## Importing Libraries and Packages"
      ],
      "metadata": {
        "id": "Krtwt3LgxWOl"
      }
    },
    {
      "cell_type": "code",
      "source": [
        "# Import text utility functions for formatting and extracting key components\n",
        "from text_utils import (\n",
        "    display_markdown_output,\n",
        "    extract_scene,\n",
        ")\n",
        "\n",
        "# Import scene writing functions\n",
        "from screen_writing import (\n",
        "    generate_scene_1_script,\n",
        "    generate_scene_baseline\n",
        ")"
      ],
      "metadata": {
        "id": "bLztsuKyEsBi"
      },
      "execution_count": null,
      "outputs": []
    },
    {
      "cell_type": "code",
      "source": [
        "from openai import OpenAI\n",
        "from google.colab import userdata\n",
        "import os\n",
        "import re\n",
        "from IPython.display import Markdown, display"
      ],
      "metadata": {
        "id": "xbQint3ezRXl"
      },
      "execution_count": null,
      "outputs": []
    },
    {
      "cell_type": "markdown",
      "source": [
        "### 🔑 Initializing the OpenAI API Client"
      ],
      "metadata": {
        "id": "NuWIQAOVzSgn"
      }
    },
    {
      "cell_type": "code",
      "source": [
        "api_key = userdata.get('OPENAI_API_KEY')\n",
        "client = OpenAI(api_key=api_key)"
      ],
      "metadata": {
        "id": "a35TYW1wzRwC"
      },
      "execution_count": null,
      "outputs": []
    },
    {
      "cell_type": "markdown",
      "source": [
        "### Reading Title and Episode Outline\n"
      ],
      "metadata": {
        "id": "KlOqKrXzD5AY"
      }
    },
    {
      "cell_type": "code",
      "source": [
        "# Define file paths\n",
        "title_path = \"/content/drive/MyDrive/Spring 2025/Gen AI with LLM/Project/pilot episode data/pilot episode 5/sitcom_title_5.txt\"\n",
        "outline_path = \"/content/drive/MyDrive/Spring 2025/Gen AI with LLM/Project/pilot episode data/pilot episode 5/episode_outline_5.txt\"\n",
        "\n",
        "# Function to read text files\n",
        "def read_text_file(path):\n",
        "    with open(path, \"r\") as f:\n",
        "        return f.read()\n",
        "\n",
        "# Load data\n",
        "sitcom_title = read_text_file(title_path)\n",
        "episode_outline = read_text_file(outline_path)\n",
        "\n",
        "# Print previews\n",
        "print(\"Sitcom Title:\")\n",
        "print(sitcom_title)\n",
        "print(\"\\n\" + \"=\"*80 + \"\\n\")\n",
        "print(\"Full Episode Outline:\")\n",
        "print(episode_outline)"
      ],
      "metadata": {
        "colab": {
          "base_uri": "https://localhost:8080/"
        },
        "id": "NS9CoVxhymJn",
        "outputId": "2de32726-7995-446d-ae20-f0bfeb6b55a6"
      },
      "execution_count": null,
      "outputs": [
        {
          "output_type": "stream",
          "name": "stdout",
          "text": [
            "Sitcom Title:\n",
            "Unlocked Potential\n",
            "\n",
            "================================================================================\n",
            "\n",
            "Full Episode Outline:\n",
            "Episode Concept: In the pilot episode, Frankie is released from prison and discovers he has inherited his uncle's locksmith shop; meanwhile, he meets his quirky parole officer, Len, and reconnects with his estranged daughter, Ellie.\n",
            "\n",
            "Scene 1: \"Fresh Start\" Frankie is released from prison, with a mix of joy and nervousness as he starts his new life.\n",
            "\n",
            "Scene 2: \"Unexpected Inheritance\" Frankie discovers he has inherited his late uncle's locksmith shop, a surprising and overwhelming revelation.\n",
            "\n",
            "Scene 3: \"First Encounter\" Frankie meets Len, his oddball parole officer, for the first time, leading to comedic misunderstandings.\n",
            "\n",
            "Scene 4: \"Home Sweet Home?\" Frankie moves into the small apartment above the locksmith shop, finding it filled with his uncle's strange collection of locks and keys.\n",
            "\n",
            "Scene 5: \"The Shop Downstairs\" Frankie explores the locksmith shop, overwhelmed by the complexity of the trade he's expected to take up.\n",
            "\n",
            "Scene 6: \"Len's Magic Obsession\" Len visits Frankie at the shop and reveals his obsession with magic tricks, leading to an awkwardly funny magic trick demonstration.\n",
            "\n",
            "Scene 7: \"Surprise Visit\" Frankie's estranged daughter, Ellie, unexpectedly shows up at the locksmith shop, adding tension and unexpected humor.\n",
            "\n",
            "Scene 8: \"Father-Daughter Reunion\" Frankie and Ellie have an awkward and emotional reunion, struggling to reconnect after years of estrangement.\n",
            "\n",
            "Scene 9: \"Ellie Moves In\" Ellie, having nowhere else to go, moves in with Frankie, adding to the chaos in his life.\n",
            "\n",
            "Scene 10: \"Locksmith Lessons\" Frankie attempts to learn the locksmith trade, resulting in hilariously disastrous attempts at fixing locks.\n",
            "\n",
            "Scene 11: \"Philosophy with Len\" Len uses his philosophical approach to life to encourage Frankie, leading to humorous and deep conversations.\n",
            "\n",
            "Scene 12: \"First Customer\" Frankie and Len deal with their first customer, a situation filled with confusion and blunders.\n",
            "\n",
            "Scene 13: \"Ellie's Street Smarts\" Ellie uses her street-smart skills to help Frankie and Len deal with a difficult customer, showing her potential.\n",
            "\n",
            "Scene 14: \"Dinner Time Disaster\" The trio tries to have a peaceful dinner together, which inevitably turns into a comedic disaster.\n",
            "\n",
            "Scene 15: \"Lock Metaphors\" Len uses a lock and key as a metaphor for Frankie's situation, leading to laughter and self-realization.\n",
            "\n",
            "Scene 16: \"Late Night Bonding\" Frankie and Ellie share a heartfelt conversation late at night, taking steps towards mending their relationship.\n",
            "\n",
            "Scene 17: \"Shop Improvements\" The trio work together to improve the locksmith shop, leading to comedic renovations and bonding moments.\n",
            "\n",
            "Scene 18: \"Second Chance\" Frankie reflects on his second chance at life, leading to a heartfelt monologue about redemption and hope.\n",
            "\n",
            "Scene 19: \"Unexpected Success\" Frankie successfully helps a customer with a lock problem, resulting in an unexpected win and a confidence boost.\n",
            "\n",
            "Scene 20: \"Locking Up\" The trio end their first day running the locksmith shop together, closing the shop with a feeling of accomplishment and anticipation for what's next.\n"
          ]
        }
      ]
    },
    {
      "cell_type": "markdown",
      "source": [
        "## 🎬 Scene 1 Generation\n",
        "\n",
        "Scene generation is performed using the `generate_scene_1_script` function, which is also used in the ReAct workflow. It takes in the sitcom title and scene description as inputs but is applied here without any ReAct-style reasoning or agent feedback.\n"
      ],
      "metadata": {
        "id": "MgsWB1fLFsdb"
      }
    },
    {
      "cell_type": "code",
      "source": [
        "# Extract the description for Scene 1 from the episode outline\n",
        "scene_1_desc = extract_scene(episode_outline, 1)\n",
        "print(scene_1_desc)"
      ],
      "metadata": {
        "colab": {
          "base_uri": "https://localhost:8080/"
        },
        "id": "kVoLLifuF60c",
        "outputId": "2c6aae27-efaa-41b2-be6a-e4e7f527b57f"
      },
      "execution_count": null,
      "outputs": [
        {
          "output_type": "stream",
          "name": "stdout",
          "text": [
            "Scene 1: \"Fresh Start\" Frankie is released from prison, with a mix of joy and nervousness as he starts his new life.\n"
          ]
        }
      ]
    },
    {
      "cell_type": "code",
      "source": [
        "# Generate the full script for Scene 1 based on the scene description\n",
        "scene_1_script = generate_scene_1_script(\n",
        "    client=client,\n",
        "    sitcom_title=sitcom_title,\n",
        "    scene_description=scene_1_desc,\n",
        "    scene_index=0,\n",
        "    rag_context=None,\n",
        ")\n",
        "\n",
        "print(scene_1_script)"
      ],
      "metadata": {
        "colab": {
          "base_uri": "https://localhost:8080/"
        },
        "id": "c668YatCCtH3",
        "outputId": "10f72ca5-9f89-4f41-a04b-3819ed68e2b0"
      },
      "execution_count": null,
      "outputs": [
        {
          "output_type": "stream",
          "name": "stdout",
          "text": [
            "# Scene 1\n",
            "\n",
            "INT. PRISON GATES - DAY\n",
            "\n",
            "FRANKIE, early 50s, a bit worn but with a twinkle in his eye, steps through the prison gates, suitcase in hand.\n",
            "\n",
            "FRANKIE\n",
            "(squinting against the sunlight)\n",
            "Well, Frankie, welcome to the rest of your life.\n",
            "\n",
            "[LAUGH TRACK]\n",
            "\n",
            "A beat-up taxi pulls up. AL, the taxi driver, 60s, gruff but friendly, leans out the window.\n",
            "\n",
            "AL\n",
            "You Frankie?\n",
            "\n",
            "FRANKIE\n",
            "(smiles)\n",
            "Depends. You the Feds?\n",
            "\n",
            "[LAUGH TRACK]\n",
            "\n",
            "AL\n",
            "(chuckles)\n",
            "Nope, just your chariot to freedom.\n",
            "\n",
            "FRANKIE\n",
            "(sincere)\n",
            "Thank God. Thought I was going back for a moment there.\n",
            "\n",
            "[LAUGH TRACK]\n",
            "\n",
            "Frankie gets in the taxi. He looks back at the prison, a bit melancholy.\n",
            "\n",
            "FRANKIE\n",
            "(to himself)\n",
            "Goodbye, old life.\n",
            "\n",
            "AL\n",
            "(turning around)\n",
            "You say something?\n",
            "\n",
            "FRANKIE\n",
            "(startled)\n",
            "No, no. Just talking to myself. Comes with the territory.\n",
            "\n",
            "[LAUGH TRACK]\n",
            "\n",
            "Al starts driving. Frankie looks out the window, soaking in the view.\n",
            "\n",
            "AL\n",
            "(concerned)\n",
            "You okay back there?\n",
            "\n",
            "FRANKIE\n",
            "(smiles)\n",
            "Yeah, Al. I'm just getting used to seeing things without bars.\n",
            "\n",
            "[LAUGH TRACK]\n",
            "\n",
            "AL\n",
            "(laughs)\n",
            "Well, enjoy the view. You’ve earned it.\n",
            "\n",
            "FRANKIE\n",
            "(smiles)\n",
            "Thanks, Al. I plan to.\n",
            "\n",
            "They drive off, leaving the prison behind.\n",
            "\n",
            "FRANKIE\n",
            "(sighs)\n",
            "Fresh start. Here we go.\n",
            "\n",
            "FADE OUT.\n"
          ]
        }
      ]
    },
    {
      "cell_type": "markdown",
      "source": [
        "## 🎬 Scene 2 Generation\n",
        "\n",
        "Scene 2 is generated using the full script of Scene 1 and the description of Scene 2. This pattern continues throughout the baseline workflow:  \n",
        "- Scene 3 is generated using the scripts from Scenes 1 and 2, along with its own description.  \n",
        "- Scene 4 and all subsequent scenes are generated using a rolling window of the previous three full scripts plus the current scene’s description.\n",
        "\n",
        "This approach ensures that each scene has access to recent narrative context, but only in the form of raw text—without structured metadata, agent guidance, or planning signals."
      ],
      "metadata": {
        "id": "REyrDqSXJ_Nm"
      }
    },
    {
      "cell_type": "code",
      "source": [
        "# Extract the description for Scene 2 from the episode outline\n",
        "scene_2_desc = extract_scene(episode_outline, 2)\n",
        "print(scene_2_desc)"
      ],
      "metadata": {
        "colab": {
          "base_uri": "https://localhost:8080/"
        },
        "id": "McpftxayCtD0",
        "outputId": "8f8d7c4b-9aae-48c6-9b17-509d68e79abd"
      },
      "execution_count": null,
      "outputs": [
        {
          "output_type": "stream",
          "name": "stdout",
          "text": [
            "Scene 2: \"Unexpected Inheritance\" Frankie discovers he has inherited his late uncle's locksmith shop, a surprising and overwhelming revelation.\n"
          ]
        }
      ]
    },
    {
      "cell_type": "code",
      "source": [
        "# Generate the full script for Scene 2 based on its description and the completed Scene 1 script\n",
        "scene_2_script = generate_scene_baseline(\n",
        "    client=client,\n",
        "    sitcom_title=sitcom_title,\n",
        "    scene_description=scene_2_desc,\n",
        "    previous_scenes=[scene_1_script]\n",
        ")\n",
        "\n",
        "print(scene_2_script)"
      ],
      "metadata": {
        "colab": {
          "base_uri": "https://localhost:8080/"
        },
        "id": "a9kltQ1TLMNs",
        "outputId": "dcab91d9-2b4b-46fc-b060-82b2334fd8cc"
      },
      "execution_count": null,
      "outputs": [
        {
          "output_type": "stream",
          "name": "stdout",
          "text": [
            "INT. EARL'S LOCKSMITH SHOP - DAY\n",
            "\n",
            "Al pulls up outside a rundown locksmith shop. A sign hangs precariously above the door: \"EARL'S LOCKS & KEYS.\"\n",
            "\n",
            "AL\n",
            "(reading the sign)\n",
            "Earl's Locks & Keys? This your place?\n",
            "\n",
            "FRANKIE\n",
            "(confused)\n",
            "I don't think so...\n",
            "\n",
            "Al points to a letter lying on the passenger seat. Frankie picks it up and reads it. His eyes widen.\n",
            "\n",
            "FRANKIE\n",
            "(astonished)\n",
            "Holy... This is my uncle's shop. He left it to me.\n",
            "\n",
            "AL\n",
            "(surprised)\n",
            "Well, ain't that something?\n",
            "\n",
            "[LAUGH TRACK]\n",
            "\n",
            "Frankie gets out of the taxi, staring at the shop. He approaches the door, hesitates, then slowly opens it.\n",
            "\n",
            "INT. EARL'S LOCKSMITH SHOP - CONTINUOUS\n",
            "\n",
            "Frankie steps inside, taking in the dust-covered counters, jumbled keys, and worn-out lock displays.\n",
            "\n",
            "FRANKIE\n",
            "(mutters to himself)\n",
            "Well, Frankie, you wanted a fresh start.\n",
            "\n",
            "[LAUGH TRACK]\n",
            "\n",
            "Suddenly, a CAT jumps from a high shelf, startling Frankie.\n",
            "\n",
            "FRANKIE\n",
            "(yelps)\n",
            "Jesus!\n",
            "\n",
            "[LAUGH TRACK]\n",
            "\n",
            "He catches his breath, then laughs, shaking his head.\n",
            "\n",
            "FRANKIE\n",
            "(to the cat)\n",
            "Well, you must be the welcoming committee.\n",
            "\n",
            "[LAUGH TRACK]\n",
            "\n",
            "Al pokes his head in the door, grinning.\n",
            "\n",
            "AL\n",
            "(teasing)\n",
            "You doing okay in there, Frankie?\n",
            "\n",
            "FRANKIE\n",
            "(smiling)\n",
            "Just fine, Al. Got my first customer already.\n",
            "\n",
            "He points to the cat, which is now purring and rubbing against his leg.\n",
            "\n",
            "AL\n",
            "(laughs)\n",
            "Well, good luck with your new venture, Frankie.\n",
            "\n",
            "Frankie waves as Al drives off. He looks around the shop, a mix of bewilderment and excitement on his face.\n",
            "\n",
            "FRANKIE\n",
            "(to himself)\n",
            "Welcome to the rest of your life, Frankie.\n",
            "\n",
            "He chuckles, shakes his head, and starts sorting through the mess on the counter.\n",
            "\n",
            "FADE OUT.\n"
          ]
        }
      ]
    },
    {
      "cell_type": "markdown",
      "source": [
        "## 🎬 Scene 3 Generation"
      ],
      "metadata": {
        "id": "hoTfz4RQLthg"
      }
    },
    {
      "cell_type": "code",
      "source": [
        "# Extract the description for Scene 3 from the episode outline\n",
        "scene_3_desc = extract_scene(episode_outline, 3)\n",
        "display(Markdown(scene_3_desc))"
      ],
      "metadata": {
        "colab": {
          "base_uri": "https://localhost:8080/",
          "height": 46
        },
        "id": "-xpywojUL3J6",
        "outputId": "af90928f-09f1-4afb-eca1-6f1457f455ac"
      },
      "execution_count": null,
      "outputs": [
        {
          "output_type": "display_data",
          "data": {
            "text/plain": [
              "<IPython.core.display.Markdown object>"
            ],
            "text/markdown": "Scene 3: \"First Encounter\" Frankie meets Len, his oddball parole officer, for the first time, leading to comedic misunderstandings."
          },
          "metadata": {}
        }
      ]
    },
    {
      "cell_type": "code",
      "source": [
        "# Generate the full script for Scene 3 using its description and the completed scripts for Scenes 1 and 2 as context\n",
        "scene_3_script = generate_scene_baseline(\n",
        "    client=client,\n",
        "    sitcom_title=sitcom_title,\n",
        "    scene_description=scene_3_desc,\n",
        "    previous_scenes=[scene_1_script, scene_2_script]\n",
        ")\n",
        "\n",
        "print(scene_3_script)"
      ],
      "metadata": {
        "colab": {
          "base_uri": "https://localhost:8080/"
        },
        "id": "HaJdcG-BCtBt",
        "outputId": "3c5e33dd-3aab-4f0f-8fd9-5697391e9bc1"
      },
      "execution_count": null,
      "outputs": [
        {
          "output_type": "stream",
          "name": "stdout",
          "text": [
            "INT. EARL'S LOCKSMITH SHOP - DAY\n",
            "\n",
            "Frankie is still behind the counter, sorting through the mess. Suddenly, the door jingles and LEN, a quirky man in his 40s with a clipboard, steps inside.\n",
            "\n",
            "LEN\n",
            "(looking at clipboard)\n",
            "Frankie?\n",
            "\n",
            "FRANKIE\n",
            "(turns, startled)\n",
            "Jesus! You people really need to stop sneaking up on me!\n",
            "\n",
            "[LAUGH TRACK]\n",
            "\n",
            "LEN\n",
            "(laughs)\n",
            "Sorry about that. I'm Len, your parole officer.\n",
            "\n",
            "FRANKIE\n",
            "(relieved)\n",
            "Oh, thank God. Thought you were the taxman.\n",
            "\n",
            "[LAUGH TRACK]\n",
            "\n",
            "Len chuckles and extends his hand to Frankie.\n",
            "\n",
            "LEN\n",
            "(grinning)\n",
            "Nah, just here to make sure you're not up to any old tricks.\n",
            "\n",
            "Frankie shakes Len's hand, a bit wary.\n",
            "\n",
            "FRANKIE\n",
            "(sarcastic)\n",
            "Well, if my old tricks involve dusting and sorting keys, then I'm guilty as charged.\n",
            "\n",
            "[LAUGH TRACK]\n",
            "\n",
            "Len laughs and glances around the shop.\n",
            "\n",
            "LEN\n",
            "(amused)\n",
            "Your uncle left you quite the place.\n",
            "\n",
            "FRANKIE\n",
            "(smiling)\n",
            "Yeah, he always had a thing for locks. Said they were like people. Every one unique and full of potential.\n",
            "\n",
            "Len looks at Frankie, intrigued.\n",
            "\n",
            "LEN\n",
            "(raising an eyebrow)\n",
            "Is that so?\n",
            "\n",
            "FRANKIE\n",
            "(nods)\n",
            "Yeah. And just like people, all they need is the right key to unlock them.\n",
            "\n",
            "[LAUGH TRACK]\n",
            "\n",
            "Len chuckles and pats Frankie on the back.\n",
            "\n",
            "LEN\n",
            "(smiling)\n",
            "Well, Frankie, looks like you've got a lot of unlocking to do.\n",
            "\n",
            "FRANKIE\n",
            "(smirks)\n",
            "You have no idea, Len.\n",
            "\n",
            "They share a laugh. Len waves and heads towards the door.\n",
            "\n",
            "LEN\n",
            "(turning around)\n",
            "Alright, Frankie. I'll see you next week. Stay out of trouble.\n",
            "\n",
            "FRANKIE\n",
            "(salutes)\n",
            "Can do, Len.\n",
            "\n",
            "Len exits the shop, leaving Frankie alone with his keys and locks.\n",
            "\n",
            "FRANKIE\n",
            "(to himself)\n",
            "Unlocking potential, huh? Well, Frankie, let's see what you got.\n",
            "\n",
            "[LAUGH TRACK]\n",
            "\n",
            "Frankie picks up a lock and a set of keys, a determined look on his face.\n",
            "\n",
            "FADE OUT.\n"
          ]
        }
      ]
    },
    {
      "cell_type": "markdown",
      "source": [
        "## 🎬 Scene 4 Generation"
      ],
      "metadata": {
        "id": "tzQcxXEwjpfr"
      }
    },
    {
      "cell_type": "code",
      "source": [
        "# Extract the description for Scene 4 from the episode outline\n",
        "scene_4_desc = extract_scene(episode_outline, 4)\n",
        "display(Markdown(scene_4_desc))"
      ],
      "metadata": {
        "colab": {
          "base_uri": "https://localhost:8080/",
          "height": 63
        },
        "id": "ZtYOL98FMA29",
        "outputId": "9badab6d-fecf-4d57-b0dd-67617d311dff"
      },
      "execution_count": null,
      "outputs": [
        {
          "output_type": "display_data",
          "data": {
            "text/plain": [
              "<IPython.core.display.Markdown object>"
            ],
            "text/markdown": "Scene 4: \"Home Sweet Home?\" Frankie moves into the small apartment above the locksmith shop, finding it filled with his uncle's strange collection of locks and keys."
          },
          "metadata": {}
        }
      ]
    },
    {
      "cell_type": "code",
      "source": [
        "# Generate the full script for Scene 4 using its description and the completed scripts for Scenes 1 to 3 as context\n",
        "scene_4_script = generate_scene_baseline(\n",
        "    client=client,\n",
        "    sitcom_title=sitcom_title,\n",
        "    scene_description=scene_4_desc,\n",
        "    previous_scenes=[scene_1_script, scene_2_script, scene_3_script]\n",
        ")\n",
        "\n",
        "print(scene_4_script)"
      ],
      "metadata": {
        "colab": {
          "base_uri": "https://localhost:8080/"
        },
        "id": "IPhQBF0bmNIe",
        "outputId": "feb20d40-6c9c-4c2a-d1ea-1991f87c9b75"
      },
      "execution_count": null,
      "outputs": [
        {
          "output_type": "stream",
          "name": "stdout",
          "text": [
            "INT. EARL'S LOCKSMITH SHOP - UPSTAIRS APARTMENT - DAY\n",
            "\n",
            "Frankie climbs up a narrow staircase, carrying a suitcase. He opens the door to the apartment, revealing an equally cluttered space filled with lock-related paraphernalia.\n",
            "\n",
            "FRANKIE\n",
            "(looking around)\n",
            "Well, at least the decor's consistent.\n",
            "\n",
            "[LAUGH TRACK]\n",
            "\n",
            "Frankie steps inside, accidentally knocking over a stack of lock-picking books.\n",
            "\n",
            "FRANKIE\n",
            "(startled)\n",
            "Whoa!\n",
            "\n",
            "[LAUGH TRACK]\n",
            "\n",
            "He picks up one of the books and flips through it.\n",
            "\n",
            "FRANKIE\n",
            "(reading aloud)\n",
            "\"Unlocking the Mysteries of Locks: A Comprehensive Guide.\"\n",
            "\n",
            "He looks at the book, then at the room filled with locks and keys.\n",
            "\n",
            "FRANKIE\n",
            "(mocking)\n",
            "Oh great, bedtime reading.\n",
            "\n",
            "[LAUGH TRACK]\n",
            "\n",
            "Suddenly, the CAT from the shop jumps onto a nearby table, causing a cascade of keys to fall onto the floor.\n",
            "\n",
            "FRANKIE\n",
            "(yelps)\n",
            "Not you again!\n",
            "\n",
            "[LAUGH TRACK]\n",
            "\n",
            "He sighs, looking around the room. His gaze falls on a beautiful antique lock displayed on a shelf.\n",
            "\n",
            "FRANKIE\n",
            "(picks it up)\n",
            "Well, aren't you a beauty?\n",
            "\n",
            "He studies the lock, intrigued. Suddenly, his eyes widen as he finds a hidden compartment. He opens it to reveal a key.\n",
            "\n",
            "FRANKIE\n",
            "(surprised)\n",
            "Now, what's this?\n",
            "\n",
            "Frankie inserts the key into the lock, and it turns with a satisfying click. He grins, holding up the unlocked lock.\n",
            "\n",
            "FRANKIE\n",
            "(laughs)\n",
            "Well, I'll be. Maybe there's hope for me yet.\n",
            "\n",
            "[LAUGH TRACK]\n",
            "\n",
            "Frankie chuckles, placing the lock back on the shelf. He looks around the room, a renewed sense of determination in his eyes.\n",
            "\n",
            "FRANKIE\n",
            "(to himself)\n",
            "Alright, Frankie. Let's unlock some potential.\n",
            "\n",
            "FADE OUT.\n"
          ]
        }
      ]
    },
    {
      "cell_type": "markdown",
      "source": [
        "## 🎬 Scene 5 Generation"
      ],
      "metadata": {
        "id": "QUeT03e2l8xO"
      }
    },
    {
      "cell_type": "code",
      "source": [
        "# Extract the description for Scene 5 from the episode outline\n",
        "scene_5_desc = extract_scene(episode_outline, 5)\n",
        "print(scene_5_desc)"
      ],
      "metadata": {
        "colab": {
          "base_uri": "https://localhost:8080/"
        },
        "id": "_pAWwOPLMNU8",
        "outputId": "cfb5ebbf-d229-4fbe-debd-9b516049884c"
      },
      "execution_count": null,
      "outputs": [
        {
          "output_type": "stream",
          "name": "stdout",
          "text": [
            "Scene 5: \"The Shop Downstairs\" Frankie explores the locksmith shop, overwhelmed by the complexity of the trade he's expected to take up.\n"
          ]
        }
      ]
    },
    {
      "cell_type": "code",
      "source": [
        "# Generate the full script for Scene 5 using its description and the completed scripts for Scenes 2 to 4 as context\n",
        "scene_5_script = generate_scene_baseline(\n",
        "    client=client,\n",
        "    sitcom_title=sitcom_title,\n",
        "    scene_description=scene_5_desc,\n",
        "    previous_scenes=[scene_2_script, scene_3_script, scene_4_script]\n",
        ")\n",
        "\n",
        "print(scene_5_script)"
      ],
      "metadata": {
        "colab": {
          "base_uri": "https://localhost:8080/"
        },
        "id": "bshuhYGzmNo4",
        "outputId": "41ac0eb6-8130-4df0-9414-41ca93434817"
      },
      "execution_count": null,
      "outputs": [
        {
          "output_type": "stream",
          "name": "stdout",
          "text": [
            "INT. EARL'S LOCKSMITH SHOP - DAY\n",
            "\n",
            "Frankie is standing behind the counter, examining a lock with a complex design. He looks frustrated as he tries to pick it. The CAT watches from the counter, swishing its tail.\n",
            "\n",
            "FRANKIE\n",
            "(grumbling)\n",
            "Unlocking potential my foot...\n",
            "\n",
            "[LAUGH TRACK]\n",
            "\n",
            "Suddenly, the lock clicks open. Frankie looks surprised, then triumphant.\n",
            "\n",
            "FRANKIE\n",
            "(pumps fist)\n",
            "Yes! Eat that, lock!\n",
            "\n",
            "[LAUGH TRACK]\n",
            "\n",
            "The cat meows, unimpressed. Frankie glares at it.\n",
            "\n",
            "FRANKIE\n",
            "(defensive)\n",
            "Hey, I don't see you picking any locks.\n",
            "\n",
            "The cat yawns and stretches, ignoring him. Frankie grins and ruffles its fur.\n",
            "\n",
            "FRANKIE\n",
            "(smiling)\n",
            "That's what I thought.\n",
            "\n",
            "Suddenly, the door jingles and a WOMAN, mid 30s, stylish and flustered, enters.\n",
            "\n",
            "WOMAN\n",
            "(anxious)\n",
            "Oh thank God, you're open. I need a key duplicated. Can you do it right now?\n",
            "\n",
            "Frankie looks taken aback, then nods, trying to appear confident.\n",
            "\n",
            "FRANKIE\n",
            "(confident)\n",
            "Of course, ma'am. No job too big or small for Frankie's Locksmith services.\n",
            "\n",
            "The woman hands over a fancy-looking key. Frankie's confidence wanes as he takes it.\n",
            "\n",
            "FRANKIE\n",
            "(swallowing)\n",
            "Sure...uh, just give me a minute.\n",
            "\n",
            "He goes to the key duplicator, fumbling with the key and the machine. The woman watches, drumming her fingers impatiently.\n",
            "\n",
            "WOMAN\n",
            "(nervous)\n",
            "Is there a problem?\n",
            "\n",
            "FRANKIE\n",
            "(sweating)\n",
            "No, no problem. Just...uh, making sure it's perfect.\n",
            "\n",
            "He finally manages to duplicate the key. He hands it over, grinning nervously.\n",
            "\n",
            "FRANKIE\n",
            "(proud)\n",
            "And there you go. One perfect duplicate.\n",
            "\n",
            "The woman inspects the key, then smiles, relieved.\n",
            "\n",
            "WOMAN\n",
            "(thankful)\n",
            "Oh, thank you! I thought I'd have to break into my own house tonight.\n",
            "\n",
            "[LAUGH TRACK]\n",
            "\n",
            "Frankie chuckles, relieved.\n",
            "\n",
            "FRANKIE\n",
            "(laughs)\n",
            "Well, we definitely don't want that.\n",
            "\n",
            "The woman pays Frankie and leaves, waving.\n",
            "\n",
            "WOMAN\n",
            "(grateful)\n",
            "Thank you again!\n",
            "\n",
            "Frankie waves back, then slumps onto the counter, relieved.\n",
            "\n",
            "FRANKIE\n",
            "(to himself)\n",
            "Alright, Frankie. One customer down, a million to go.\n",
            "\n",
            "[LAUGH TRACK]\n",
            "\n",
            "He looks at the cat, which is now purring and napping on the counter.\n",
            "\n",
            "FRANKIE\n",
            "(to the cat)\n",
            "At least one of us is relaxed.\n",
            "\n",
            "[LAUGH TRACK]\n",
            "\n",
            "Frankie picks up another lock, a determined look on his face.\n",
            "\n",
            "FRANKIE\n",
            "(to himself)\n",
            "Alright, Frankie. Let's unlock some more potential.\n",
            "\n",
            "FADE OUT.\n"
          ]
        }
      ]
    },
    {
      "cell_type": "markdown",
      "source": [
        "## 🎬 Scene 6 Generation"
      ],
      "metadata": {
        "id": "Er44xsKGmAKm"
      }
    },
    {
      "cell_type": "code",
      "source": [
        "# Extract the description for Scene 6 from the episode outline\n",
        "scene_6_desc = extract_scene(episode_outline, 6)\n",
        "print(scene_6_desc)"
      ],
      "metadata": {
        "colab": {
          "base_uri": "https://localhost:8080/"
        },
        "id": "FzIjviiUmOCO",
        "outputId": "e1346d7a-eace-4e1f-f65b-f8b12f6553d2"
      },
      "execution_count": null,
      "outputs": [
        {
          "output_type": "stream",
          "name": "stdout",
          "text": [
            "Scene 6: \"Len's Magic Obsession\" Len visits Frankie at the shop and reveals his obsession with magic tricks, leading to an awkwardly funny magic trick demonstration.\n"
          ]
        }
      ]
    },
    {
      "cell_type": "code",
      "source": [
        "# Generate the full script for Scene 6 using its description and the completed scripts for Scenes 3 to 5 as context\n",
        "scene_6_script = generate_scene_baseline(\n",
        "    client=client,\n",
        "    sitcom_title=sitcom_title,\n",
        "    scene_description=scene_6_desc,\n",
        "    previous_scenes=[scene_3_script, scene_4_script, scene_5_script]\n",
        ")\n",
        "\n",
        "print(scene_6_script)"
      ],
      "metadata": {
        "colab": {
          "base_uri": "https://localhost:8080/"
        },
        "id": "iP_azcK2MNPR",
        "outputId": "3f388e64-39d1-4976-acac-079336e99eb4"
      },
      "execution_count": null,
      "outputs": [
        {
          "output_type": "stream",
          "name": "stdout",
          "text": [
            "INT. EARL'S LOCKSMITH SHOP - DAY\n",
            "\n",
            "Frankie is behind the counter, examining another intricate lock. The CAT is batting at a key hanging from a string. The door jingles and LEN enters, a wide grin on his face and a deck of cards in his hand.\n",
            "\n",
            "LEN\n",
            "(beaming)\n",
            "Frankie, my man!\n",
            "\n",
            "FRANKIE\n",
            "(startled)\n",
            "Len! You gotta stop doing that!\n",
            "\n",
            "[LAUGH TRACK]\n",
            "\n",
            "LEN\n",
            "(laughs)\n",
            "Sorry, couldn't resist. How's the unlocking going?\n",
            "\n",
            "FRANKIE\n",
            "(moans)\n",
            "It's more like I'm unlocking a headache.\n",
            "\n",
            "[LAUGH TRACK]\n",
            "\n",
            "Len chuckles, then glances at the deck of cards in his hand.\n",
            "\n",
            "LEN\n",
            "(slyly)\n",
            "Well, maybe you need a break. Fancy a magic trick?\n",
            "\n",
            "Frankie raises an eyebrow, intrigued.\n",
            "\n",
            "FRANKIE\n",
            "(curious)\n",
            "Magic? You?\n",
            "\n",
            "LEN\n",
            "(smiling)\n",
            "Oh yeah. I'm a regular Houdini.\n",
            "\n",
            "Frankie chuckles, leaning back on the counter.\n",
            "\n",
            "FRANKIE\n",
            "(amused)\n",
            "Alright, Len. Let's see what you got.\n",
            "\n",
            "Len grins, shuffling the deck of cards. He performs a few simple tricks, much to Frankie's amusement. Then, he attempts a more complex trick, but the cards slip from his hands, scattering all over the floor.\n",
            "\n",
            "[LAUGH TRACK]\n",
            "\n",
            "LEN\n",
            "(chuckles, embarrassed)\n",
            "Well, that one needs a bit more practice.\n",
            "\n",
            "Frankie laughs, leaning over the counter.\n",
            "\n",
            "FRANKIE\n",
            "(laughs)\n",
            "Yeah, just a bit.\n",
            "\n",
            "[LAUGH TRACK]\n",
            "\n",
            "Len picks up the cards, grinning sheepishly.\n",
            "\n",
            "LEN\n",
            "(smiling)\n",
            "Well, at least it wasn't a disappearing act.\n",
            "\n",
            "Frankie chuckles, shaking his head.\n",
            "\n",
            "FRANKIE\n",
            "(smiling)\n",
            "No, Len. That was definitely an appearance act.\n",
            "\n",
            "[LAUGH TRACK]\n",
            "\n",
            "Len laughs, stuffing the cards back into his pocket.\n",
            "\n",
            "LEN\n",
            "(grinning)\n",
            "Alright, Frankie. I'll see you next week. And remember, no magic tricks with the locks.\n",
            "\n",
            "Frankie salutes, a smirk on his face.\n",
            "\n",
            "FRANKIE\n",
            "(salutes)\n",
            "Can do, Len. No magic, just keys.\n",
            "\n",
            "Len exits the shop, leaving Frankie alone with his locks and scattered playing cards. The CAT pounces on one of the cards, batting it around.\n",
            "\n",
            "FRANKIE\n",
            "(to the cat)\n",
            "You think you can do a better job?\n",
            "\n",
            "[LAUGH TRACK]\n",
            "\n",
            "FADE OUT.\n"
          ]
        }
      ]
    },
    {
      "cell_type": "markdown",
      "source": [
        "## 🎬 Scene 7 Generation"
      ],
      "metadata": {
        "id": "WySS0glCmAk9"
      }
    },
    {
      "cell_type": "code",
      "source": [
        "# Extract the description for Scene 7 from the episode outline\n",
        "scene_7_desc = extract_scene(episode_outline, 7)\n",
        "print(scene_7_desc)"
      ],
      "metadata": {
        "colab": {
          "base_uri": "https://localhost:8080/"
        },
        "id": "oGswYk3HmOYh",
        "outputId": "921afc42-7b54-411a-e676-8bdadbd252a9"
      },
      "execution_count": null,
      "outputs": [
        {
          "output_type": "stream",
          "name": "stdout",
          "text": [
            "Scene 7: \"Surprise Visit\" Frankie's estranged daughter, Ellie, unexpectedly shows up at the locksmith shop, adding tension and unexpected humor.\n"
          ]
        }
      ]
    },
    {
      "cell_type": "code",
      "source": [
        "# Generate the full script for Scene 7 using its description and the completed scripts for Scenes 4 to 6 as context\n",
        "scene_7_script = generate_scene_baseline(\n",
        "    client=client,\n",
        "    sitcom_title=sitcom_title,\n",
        "    scene_description=scene_7_desc,\n",
        "    previous_scenes=[scene_4_script, scene_5_script, scene_6_script]\n",
        ")\n",
        "\n",
        "print(scene_7_script)"
      ],
      "metadata": {
        "colab": {
          "base_uri": "https://localhost:8080/"
        },
        "id": "EhYDv1HRMNLm",
        "outputId": "8617f65e-793d-44a7-c462-db576d30dcaa"
      },
      "execution_count": null,
      "outputs": [
        {
          "output_type": "stream",
          "name": "stdout",
          "text": [
            "INT. EARL'S LOCKSMITH SHOP - DAY\n",
            "\n",
            "Frankie is behind the counter, picking at a particularly tricky lock. The CAT is perched on the counter, watching a fly buzz around. The door jingles and ELLIE, late 20s, free-spirited and unconventional, enters.\n",
            "\n",
            "FRANKIE\n",
            "(surprised)\n",
            "Ellie?\n",
            "\n",
            "ELLIE\n",
            "(smiling)\n",
            "Hey, Dad.\n",
            "\n",
            "Frankie looks shocked, then recovers.\n",
            "\n",
            "FRANKIE\n",
            "(stammering)\n",
            "What...how...when did you get into town?\n",
            "\n",
            "ELLIE\n",
            "(shrugs)\n",
            "Just now. Thought I'd surprise you.\n",
            "\n",
            "FRANKIE\n",
            "(chuckles)\n",
            "Well, you definitely did that.\n",
            "\n",
            "[LAUGH TRACK]\n",
            "\n",
            "Ellie looks around the shop, intrigued.\n",
            "\n",
            "ELLIE\n",
            "(looking at locks)\n",
            "So, this is what you've been doing. Playing with locks all day.\n",
            "\n",
            "FRANKIE\n",
            "(defensive)\n",
            "It's not playing, it's...it's serious business.\n",
            "\n",
            "Ellie picks up a lock, studying it.\n",
            "\n",
            "ELLIE\n",
            "(slyly)\n",
            "Oh, I can see that. The look of intense concentration, the furrowed brow...\n",
            "\n",
            "Frankie frowns, looking at her.\n",
            "\n",
            "FRANKIE\n",
            "(skeptical)\n",
            "Are you making fun of me?\n",
            "\n",
            "Ellie grins, holding up her hands in surrender.\n",
            "\n",
            "ELLIE\n",
            "(laughs)\n",
            "Would I do that?\n",
            "\n",
            "[LAUGH TRACK]\n",
            "\n",
            "Frankie gives her a look, then smiles, shaking his head.\n",
            "\n",
            "FRANKIE\n",
            "(smiling)\n",
            "You haven't changed a bit, Ellie.\n",
            "\n",
            "Ellie smiles, looking around the shop.\n",
            "\n",
            "ELLIE\n",
            "(teasing)\n",
            "And you've become a lock whisperer.\n",
            "\n",
            "[LAUGH TRACK]\n",
            "\n",
            "Frankie chuckles, then looks at her, serious.\n",
            "\n",
            "FRANKIE\n",
            "(serious)\n",
            "Ellie...why are you here?\n",
            "\n",
            "Ellie hesitates, then sighs, looking at him.\n",
            "\n",
            "ELLIE\n",
            "(sincerely)\n",
            "I missed you, Dad.\n",
            "\n",
            "Frankie looks taken aback, then smiles, a hint of tears in his eyes.\n",
            "\n",
            "FRANKIE\n",
            "(choked)\n",
            "I missed you too, kiddo.\n",
            "\n",
            "They share a moment, then Ellie breaks the silence.\n",
            "\n",
            "ELLIE\n",
            "(smiling)\n",
            "So, think you can teach me how to pick a lock?\n",
            "\n",
            "Frankie chuckles, shaking his head.\n",
            "\n",
            "FRANKIE\n",
            "(laughs)\n",
            "One headache at a time, Ellie.\n",
            "\n",
            "[LAUGH TRACK]\n",
            "\n",
            "FADE OUT.\n"
          ]
        }
      ]
    },
    {
      "cell_type": "markdown",
      "source": [
        "## 🎬 Scene 8 Generation"
      ],
      "metadata": {
        "id": "DfS1IpV_mBAL"
      }
    },
    {
      "cell_type": "code",
      "source": [
        "# Extract the description for Scene 8 from the episode outline\n",
        "scene_8_desc = extract_scene(episode_outline, 8)\n",
        "print(scene_8_desc)"
      ],
      "metadata": {
        "colab": {
          "base_uri": "https://localhost:8080/"
        },
        "id": "70HpCZfymOuy",
        "outputId": "12702cb5-ceb6-469c-e073-02dffda89f60"
      },
      "execution_count": null,
      "outputs": [
        {
          "output_type": "stream",
          "name": "stdout",
          "text": [
            "Scene 8: \"Father-Daughter Reunion\" Frankie and Ellie have an awkward and emotional reunion, struggling to reconnect after years of estrangement.\n"
          ]
        }
      ]
    },
    {
      "cell_type": "code",
      "source": [
        "# Generate the full script for Scene 8 using its description and the completed scripts for Scenes 5 to 7 as context\n",
        "scene_8_script = generate_scene_baseline(\n",
        "    client=client,\n",
        "    sitcom_title=sitcom_title,\n",
        "    scene_description=scene_8_desc,\n",
        "    previous_scenes=[scene_5_script, scene_6_script, scene_7_script]\n",
        ")\n",
        "\n",
        "print(scene_8_script)"
      ],
      "metadata": {
        "colab": {
          "base_uri": "https://localhost:8080/"
        },
        "id": "skxMnFLimBXd",
        "outputId": "000343ce-400b-47db-ff3c-8e58a2cf7679"
      },
      "execution_count": null,
      "outputs": [
        {
          "output_type": "stream",
          "name": "stdout",
          "text": [
            "INT. EARL'S LOCKSMITH SHOP - DAY\n",
            "\n",
            "Frankie is still behind the counter, Ellie is examining a lock. The CAT is playing with a feather.\n",
            "\n",
            "FRANKIE\n",
            "(amused)\n",
            "You sure you want to learn this?\n",
            "\n",
            "ELLIE\n",
            "(nods)\n",
            "Yeah, Dad. It's about time I learned the family business.\n",
            "\n",
            "FRANKIE\n",
            "(surprised)\n",
            "Family business? Ellie, it's just me and a bunch of locks here.\n",
            "\n",
            "[LAUGH TRACK]\n",
            "\n",
            "Ellie grins, picking up a lock.\n",
            "\n",
            "ELLIE\n",
            "(teasing)\n",
            "And don't forget the cat.\n",
            "\n",
            "Frankie chuckles, shaking his head.\n",
            "\n",
            "FRANKIE\n",
            "(laughs)\n",
            "Oh, right. The cat.\n",
            "\n",
            "[LAUGH TRACK]\n",
            "\n",
            "Frankie hands her a lock and a set of picks. Ellie looks at them, then at the lock, confused.\n",
            "\n",
            "FRANKIE\n",
            "(encouraging)\n",
            "Just feel it out, Ellie. It's all about the touch.\n",
            "\n",
            "Ellie looks skeptical, then tries to pick the lock. She fumbles, dropping the picks. \n",
            "\n",
            "ELLIE\n",
            "(frustrated)\n",
            "This is impossible!\n",
            "\n",
            "Frankie chuckles, shaking his head.\n",
            "\n",
            "FRANKIE\n",
            "(teasing)\n",
            "You've barely started, Ellie. It's not rocket science.\n",
            "\n",
            "[LAUGH TRACK]\n",
            "\n",
            "Ellie huffs, picking up the picks again. She tries again, but the lock refuses to open.\n",
            "\n",
            "ELLIE\n",
            "(disappointed)\n",
            "Maybe I'm not cut out for this.\n",
            "\n",
            "Frankie looks at her, serious.\n",
            "\n",
            "FRANKIE\n",
            "(serious)\n",
            "Ellie, you can't expect to master it in a day. It takes time and patience.\n",
            "\n",
            "Ellie sighs, looking at the lock.\n",
            "\n",
            "ELLIE\n",
            "(wistfully)\n",
            "Just like our relationship, huh?\n",
            "\n",
            "Frankie looks taken aback, then nods, smiling sadly.\n",
            "\n",
            "FRANKIE\n",
            "(sincerely)\n",
            "Yeah, kiddo. Just like our relationship.\n",
            "\n",
            "They share a moment, then Ellie picks up the picks again, determined.\n",
            "\n",
            "ELLIE\n",
            "(determined)\n",
            "Alright, let's do this. I'm not giving up.\n",
            "\n",
            "Frankie chuckles, patting her shoulder.\n",
            "\n",
            "FRANKIE\n",
            "(proud)\n",
            "That's my girl.\n",
            "\n",
            "They continue working on the lock, a new understanding between them.\n",
            "\n",
            "FADE OUT.\n"
          ]
        }
      ]
    },
    {
      "cell_type": "markdown",
      "source": [
        "## 🎬 Scene 9 Generation"
      ],
      "metadata": {
        "id": "fJOIrrammBwv"
      }
    },
    {
      "cell_type": "code",
      "source": [
        "# Extract the description for Scene 9 from the episode outline\n",
        "scene_9_desc = extract_scene(episode_outline, 9)\n",
        "print(scene_9_desc)"
      ],
      "metadata": {
        "colab": {
          "base_uri": "https://localhost:8080/"
        },
        "id": "Iylk5DNMmPFG",
        "outputId": "09ac9cd2-59dc-40d1-ce28-b9a3142fc331"
      },
      "execution_count": null,
      "outputs": [
        {
          "output_type": "stream",
          "name": "stdout",
          "text": [
            "Scene 9: \"Ellie Moves In\" Ellie, having nowhere else to go, moves in with Frankie, adding to the chaos in his life.\n"
          ]
        }
      ]
    },
    {
      "cell_type": "code",
      "source": [
        "# Generate the full script for Scene 9 using its description and the completed scripts for Scenes 6 to 8 as context\n",
        "scene_9_script = generate_scene_baseline(\n",
        "    client=client,\n",
        "    sitcom_title=sitcom_title,\n",
        "    scene_description=scene_9_desc,\n",
        "    previous_scenes=[scene_6_script, scene_7_script, scene_8_script]\n",
        ")\n",
        "\n",
        "print(scene_9_script)"
      ],
      "metadata": {
        "colab": {
          "base_uri": "https://localhost:8080/"
        },
        "id": "oPQ45QiMmCE4",
        "outputId": "d05a308d-679b-4683-9a7d-41893e677cd0"
      },
      "execution_count": null,
      "outputs": [
        {
          "output_type": "stream",
          "name": "stdout",
          "text": [
            "INT. EARL'S LOCKSMITH SHOP - DAY\n",
            "\n",
            "Frankie and Ellie are still at the counter, Ellie struggling with the lock. The CAT is watching from a distance, its tail twitching.\n",
            "\n",
            "ELLIE\n",
            "(frustrated)\n",
            "This is harder than it looks!\n",
            "\n",
            "FRANKIE\n",
            "(smirks)\n",
            "Welcome to my world.\n",
            "\n",
            "[LAUGH TRACK]\n",
            "\n",
            "Ellie huffs, setting down the lock and picks.\n",
            "\n",
            "ELLIE\n",
            "(defeated)\n",
            "Maybe I should just stick to things I'm good at.\n",
            "\n",
            "FRANKIE\n",
            "(teasing)\n",
            "Like moving around and making my life chaotic?\n",
            "\n",
            "[LAUGH TRACK]\n",
            "\n",
            "Ellie grins, shrugging.\n",
            "\n",
            "ELLIE\n",
            "(laughs)\n",
            "Well, I am pretty good at that.\n",
            "\n",
            "Frankie chuckles, nodding.\n",
            "\n",
            "FRANKIE\n",
            "(smiling)\n",
            "That you are, kiddo.\n",
            "\n",
            "Ellie looks around, then back at Frankie.\n",
            "\n",
            "ELLIE\n",
            "(serious)\n",
            "Dad, I need a place to stay.\n",
            "\n",
            "Frankie looks taken aback, then recovers.\n",
            "\n",
            "FRANKIE\n",
            "(surprised)\n",
            "You want to stay here?\n",
            "\n",
            "Ellie nods, looking hopeful.\n",
            "\n",
            "ELLIE\n",
            "(nods)\n",
            "If that's okay with you.\n",
            "\n",
            "Frankie looks thoughtful, then smiles, nodding.\n",
            "\n",
            "FRANKIE\n",
            "(smiling)\n",
            "Of course, Ellie. You're always welcome here.\n",
            "\n",
            "Ellie grins, relief washing over her.\n",
            "\n",
            "ELLIE\n",
            "(exhales)\n",
            "Thanks, Dad.\n",
            "\n",
            "Frankie chuckles, shaking his head.\n",
            "\n",
            "FRANKIE\n",
            "(teasing)\n",
            "But you're not getting out of lock picking that easy.\n",
            "\n",
            "[LAUGH TRACK]\n",
            "\n",
            "Ellie groans, picking up the lock and picks again.\n",
            "\n",
            "ELLIE\n",
            "(sighs)\n",
            "Here we go again.\n",
            "\n",
            "They continue working on the lock, the CAT curiously watching from the counter.\n",
            "\n",
            "FADE OUT.\n"
          ]
        }
      ]
    },
    {
      "cell_type": "markdown",
      "source": [
        "## 🎬 Scene 10 Generation"
      ],
      "metadata": {
        "id": "ZpTSiaOGmILK"
      }
    },
    {
      "cell_type": "code",
      "source": [
        "# Extract the description for Scene 10 from the episode outline\n",
        "scene_10_desc = extract_scene(episode_outline, 10)\n",
        "print(scene_10_desc)"
      ],
      "metadata": {
        "colab": {
          "base_uri": "https://localhost:8080/"
        },
        "id": "yUDp3YTTmPZz",
        "outputId": "0700eafd-82f6-4737-bb97-94082edad542"
      },
      "execution_count": null,
      "outputs": [
        {
          "output_type": "stream",
          "name": "stdout",
          "text": [
            "Scene 10: \"Locksmith Lessons\" Frankie attempts to learn the locksmith trade, resulting in hilariously disastrous attempts at fixing locks.\n"
          ]
        }
      ]
    },
    {
      "cell_type": "code",
      "source": [
        "# Generate the full script for Scene 10 using its description and the completed scripts for Scenes 7 to 9 as context\n",
        "scene_10_script = generate_scene_baseline(\n",
        "    client=client,\n",
        "    sitcom_title=sitcom_title,\n",
        "    scene_description=scene_10_desc,\n",
        "    previous_scenes=[scene_7_script, scene_8_script, scene_9_script]\n",
        ")\n",
        "\n",
        "print(scene_10_script)"
      ],
      "metadata": {
        "colab": {
          "base_uri": "https://localhost:8080/"
        },
        "id": "HCSK7N5GmIY7",
        "outputId": "e1576ca7-d6a0-4866-be2c-9bee41a7cf09"
      },
      "execution_count": null,
      "outputs": [
        {
          "output_type": "stream",
          "name": "stdout",
          "text": [
            "INT. EARL'S LOCKSMITH SHOP - DAY\n",
            "\n",
            "Frankie and Ellie are still at the counter, Ellie fumbling with the lock. The CAT is batting a feather on the floor.\n",
            "\n",
            "ELLIE\n",
            "(frustrated)\n",
            "This is impossible!\n",
            "\n",
            "FRANKIE\n",
            "(teasing)\n",
            "Welcome to my world, Ellie.\n",
            "\n",
            "[LAUGH TRACK]\n",
            "\n",
            "Ellie sighs, setting the lock and picks down.\n",
            "\n",
            "ELLIE\n",
            "(defeated)\n",
            "Maybe locksmithing isn't my calling.\n",
            "\n",
            "Frankie smiles, shaking his head.\n",
            "\n",
            "FRANKIE\n",
            "(amused)\n",
            "It's not for everyone. But you're not off the hook. \n",
            "\n",
            "Ellie raises an eyebrow, intrigued.\n",
            "\n",
            "ELLIE\n",
            "(curious)\n",
            "Oh? What's next then?\n",
            "\n",
            "Frankie grins, revealing a tiny, delicate lock.\n",
            "\n",
            "FRANKIE\n",
            "(smiling)\n",
            "Lock picking for beginners.\n",
            "\n",
            "Ellie sighs dramatically, picking up the lock and picks.\n",
            "\n",
            "ELLIE\n",
            "(determined)\n",
            "Alright, bring it on.\n",
            "\n",
            "[LAUGH TRACK]\n",
            "\n",
            "Frankie chuckles, watching as Ellie starts to fumble with the new lock.\n",
            "\n",
            "FRANKIE\n",
            "(teasing)\n",
            "Patience, Ellie. Patience.\n",
            "\n",
            "Ellie huffs, but continues with her task. Suddenly, there's a CLICK. Ellie looks up, surprised.\n",
            "\n",
            "ELLIE\n",
            "(surprised)\n",
            "Did I...?\n",
            "\n",
            "Frankie grins, nodding.\n",
            "\n",
            "FRANKIE\n",
            "(proud)\n",
            "You did it, kiddo.\n",
            "\n",
            "Ellie grins, holding up the lock.\n",
            "\n",
            "ELLIE\n",
            "(excited)\n",
            "I did it! I picked a lock!\n",
            "\n",
            "Frankie chuckles, shaking his head.\n",
            "\n",
            "FRANKIE\n",
            "(smiling)\n",
            "One lock down, a thousand more to go.\n",
            "\n",
            "[LAUGH TRACK]\n",
            "\n",
            "Ellie groans, dropping the lock.\n",
            "\n",
            "ELLIE\n",
            "(sighs)\n",
            "Maybe I'll stick to being a nomad.\n",
            "\n",
            "Frankie chuckles, patting her shoulder.\n",
            "\n",
            "FRANKIE\n",
            "(teasing)\n",
            "You can always fall back on chaos, Ellie.\n",
            "\n",
            "Ellie grins, standing up and stretching.\n",
            "\n",
            "ELLIE\n",
            "(yawning)\n",
            "Speaking of chaos, I think I'll go create some in your guest room.\n",
            "\n",
            "Frankie laughs, shaking his head.\n",
            "\n",
            "FRANKIE\n",
            "(laughs)\n",
            "Just don't lock yourself in.\n",
            "\n",
            "[LAUGH TRACK]\n",
            "\n",
            "Ellie grins, heading towards the back of the shop.\n",
            "\n",
            "ELLIE\n",
            "(shouting)\n",
            "No promises!\n",
            "\n",
            "Frankie chuckles, shaking his head as he watches Ellie disappear into the back.\n",
            "\n",
            "FADE OUT.\n"
          ]
        }
      ]
    },
    {
      "cell_type": "markdown",
      "source": [
        "## 🎬 Scene 11 Generation"
      ],
      "metadata": {
        "id": "QFWORE-SN625"
      }
    },
    {
      "cell_type": "code",
      "source": [
        "# Extract the description for Scene 11 from the episode outline\n",
        "scene_11_desc = extract_scene(episode_outline, 11)\n",
        "print(scene_11_desc)"
      ],
      "metadata": {
        "id": "X3hGis-1N6kD",
        "colab": {
          "base_uri": "https://localhost:8080/"
        },
        "outputId": "f0baf597-cf36-421e-c488-6125fdd98226"
      },
      "execution_count": null,
      "outputs": [
        {
          "output_type": "stream",
          "name": "stdout",
          "text": [
            "Scene 11: \"Philosophy with Len\" Len uses his philosophical approach to life to encourage Frankie, leading to humorous and deep conversations.\n"
          ]
        }
      ]
    },
    {
      "cell_type": "code",
      "source": [
        "# Generate the full script for Scene 11 using its description and the completed scripts for Scenes 8 to 10 as context\n",
        "scene_11_script = generate_scene_baseline(\n",
        "    client=client,\n",
        "    sitcom_title=sitcom_title,\n",
        "    scene_description=scene_11_desc,\n",
        "    previous_scenes=[scene_8_script, scene_9_script, scene_10_script]\n",
        ")\n",
        "\n",
        "print(scene_11_script)"
      ],
      "metadata": {
        "id": "FFCeeTQ_N6hB",
        "colab": {
          "base_uri": "https://localhost:8080/"
        },
        "outputId": "9f92e737-7a46-4546-9cb3-6246f32ada25"
      },
      "execution_count": null,
      "outputs": [
        {
          "output_type": "stream",
          "name": "stdout",
          "text": [
            "INT. EARL'S LOCKSMITH SHOP - DAY\n",
            "\n",
            "Frankie is at the counter, working on a lock. Ellie emerges from the back, stretching. Len, a regular customer, enters the shop, his friendly smile on display.\n",
            "\n",
            "LEN\n",
            "(cheerfully)\n",
            "Hello, Frankie! And Ellie, back again I see.\n",
            "\n",
            "ELLIE\n",
            "(smiling)\n",
            "Hi, Len. Yes, trying to unlock my hidden talents.\n",
            "\n",
            "[LAUGH TRACK]\n",
            "\n",
            "Len chuckles, approaching the counter.\n",
            "\n",
            "LEN\n",
            "(grinning)\n",
            "I see what you did there. \n",
            "\n",
            "Frankie smiles, shaking his head.\n",
            "\n",
            "FRANKIE\n",
            "(amused)\n",
            "She's been here all day, Len. I think the lock picking's gone to her head.\n",
            "\n",
            "[LAUGH TRACK]\n",
            "\n",
            "Len laughs, looking at Ellie.\n",
            "\n",
            "LEN\n",
            "(philosophical)\n",
            "Well, Ellie, just remember - a lock is like life. You can't force it. You have to feel it out, find the right combination.\n",
            "\n",
            "Ellie looks at Len, impressed.\n",
            "\n",
            "ELLIE\n",
            "(wide-eyed)\n",
            "Wow, Len. That's deep.\n",
            "\n",
            "Len chuckles, shrugging.\n",
            "\n",
            "LEN\n",
            "(smiling)\n",
            "Just something I picked up along the way.\n",
            "\n",
            "Frankie rolls his eyes, grinning.\n",
            "\n",
            "FRANKIE\n",
            "(teasing)\n",
            "Don't encourage him, Ellie. He'll start talking about the meaning of life next.\n",
            "\n",
            "[LAUGH TRACK]\n",
            "\n",
            "Len laughs, nodding.\n",
            "\n",
            "LEN\n",
            "(laughs)\n",
            "Frankie, you know me too well.\n",
            "\n",
            "They all share a laugh, then Len looks at Ellie, serious.\n",
            "\n",
            "LEN\n",
            "(encouraging)\n",
            "But seriously, Ellie. Don't give up. It takes time, but once you get it, it's like a eureka moment.\n",
            "\n",
            "Ellie smiles, nodding.\n",
            "\n",
            "ELLIE\n",
            "(resolute)\n",
            "Thanks, Len. I'll keep that in mind.\n",
            "\n",
            "Len nods, then turns to Frankie.\n",
            "\n",
            "LEN\n",
            "(smiling)\n",
            "Alright, Frankie. I'm here for my usual. \n",
            "\n",
            "Frankie grins, reaching for a lock.\n",
            "\n",
            "FRANKIE\n",
            "(teasing)\n",
            "Sure thing, Len. One philosophical lock, coming right up.\n",
            "\n",
            "[LAUGH TRACK]\n",
            "\n",
            "Len chuckles, shaking his head as Frankie hands him a lock. Ellie watches them, a smile on her face. The CAT jumps onto the counter, purring.\n",
            "\n",
            "FADE OUT.\n"
          ]
        }
      ]
    },
    {
      "cell_type": "markdown",
      "source": [
        "## 🎬 Scene 12 Generation"
      ],
      "metadata": {
        "id": "mMRxSR5rN7w5"
      }
    },
    {
      "cell_type": "code",
      "source": [
        "# Extract the description for Scene 12 from the episode outline\n",
        "scene_12_desc = extract_scene(episode_outline, 12)\n",
        "print(scene_12_desc)"
      ],
      "metadata": {
        "id": "eQBPHduON6e4",
        "colab": {
          "base_uri": "https://localhost:8080/"
        },
        "outputId": "e2296862-6704-4ca9-f582-bad524f70e6f"
      },
      "execution_count": null,
      "outputs": [
        {
          "output_type": "stream",
          "name": "stdout",
          "text": [
            "Scene 12: \"First Customer\" Frankie and Len deal with their first customer, a situation filled with confusion and blunders.\n"
          ]
        }
      ]
    },
    {
      "cell_type": "code",
      "source": [
        "# Generate the full script for Scene 12 using its description and the completed scripts for Scenes 9 to 11 as context\n",
        "scene_12_script = generate_scene_baseline(\n",
        "    client=client,\n",
        "    sitcom_title=sitcom_title,\n",
        "    scene_description=scene_12_desc,\n",
        "    previous_scenes=[scene_9_script, scene_10_script, scene_11_script]\n",
        ")\n",
        "\n",
        "print(scene_12_script)"
      ],
      "metadata": {
        "id": "njMmI7GlN6ck",
        "colab": {
          "base_uri": "https://localhost:8080/"
        },
        "outputId": "db412f12-b60c-443d-9658-45939c2d91c0"
      },
      "execution_count": null,
      "outputs": [
        {
          "output_type": "stream",
          "name": "stdout",
          "text": [
            "INT. EARL'S LOCKSMITH SHOP - DAY\n",
            "\n",
            "Frankie is at the counter, working on a lock. Ellie is sorting through a box of keys. The CAT is asleep on the counter. The DOORBELL RINGS, and a NERVOUS WOMAN enters, looking around.\n",
            "\n",
            "NERVOUS WOMAN\n",
            "(awkwardly)\n",
            "Um, hi. I need a key made?\n",
            "\n",
            "Frankie glances at Ellie, who straightens up, eager.\n",
            "\n",
            "FRANKIE\n",
            "(slyly)\n",
            "Ellie, why don’t you handle this one?\n",
            "\n",
            "ELLIE\n",
            "(surprised)\n",
            "Really? You trust me with a customer?\n",
            "\n",
            "FRANKIE\n",
            "(teasing)\n",
            "I didn’t say that. I just said handle it.\n",
            "\n",
            "[LAUGH TRACK]\n",
            "\n",
            "Ellie rolls her eyes, but steps forward, smiling at the Nervous Woman.\n",
            "\n",
            "ELLIE\n",
            "(smiling)\n",
            "Of course. What kind of key do you need?\n",
            "\n",
            "Nervous Woman hands Ellie a small, intricate key. Ellie takes it, her eyes wide.\n",
            "\n",
            "ELLIE\n",
            "(nervously)\n",
            "Oh, this is... this is a nice key.\n",
            "\n",
            "[LAUGH TRACK]\n",
            "\n",
            "Nervous Woman raises an eyebrow.\n",
            "\n",
            "NERVOUS WOMAN\n",
            "(confused)\n",
            "Yes... Can you duplicate it?\n",
            "\n",
            "Ellie glances at Frankie, who gives her a thumbs up. Ellie nods, turning back to the Nervous Woman.\n",
            "\n",
            "ELLIE\n",
            "(confidently)\n",
            "Absolutely!\n",
            "\n",
            "Ellie starts to work on the key, but struggles to find the right blank. Frankie watches, amused. Len enters, looking around.\n",
            "\n",
            "LEN\n",
            "(laughs)\n",
            "Looks like you have your hands full, Frankie.\n",
            "\n",
            "Frankie grins, shaking his head.\n",
            "\n",
            "FRANKIE\n",
            "(amused)\n",
            "Just letting Ellie learn the ropes, Len.\n",
            "\n",
            "[LAUGH TRACK]\n",
            "\n",
            "Len chuckles, watching as Ellie continues to struggle. The Cat wakes up, stretches, and knocks over a jar of keys.\n",
            "\n",
            "ELLIE\n",
            "(frustrated)\n",
            "Oh, you've got to be kidding me!\n",
            "\n",
            "[LAUGH TRACK]\n",
            "\n",
            "Frankie laughs, shaking his head.\n",
            "\n",
            "FRANKIE\n",
            "(teasing)\n",
            "Remember, Ellie, patience.\n",
            "\n",
            "Ellie huffs, but smiles, picking up the spilled keys. Len chuckles, watching the chaos.\n",
            "\n",
            "LEN\n",
            "(laughs)\n",
            "I see the chaos is contagious.\n",
            "\n",
            "Frankie grins, shrugging.\n",
            "\n",
            "FRANKIE\n",
            "(teasing)\n",
            "I blame the cat.\n",
            "\n",
            "[LAUGH TRACK]\n",
            "\n",
            "Ellie finally finds the right blank and starts to cut the key. She hands the duplicate to the Nervous Woman, who thanks her and leaves. Ellie looks relieved, turning to Frankie.\n",
            "\n",
            "ELLIE\n",
            "(sighs)\n",
            "Well, that was... stressful.\n",
            "\n",
            "Frankie chuckles, patting her shoulder.\n",
            "\n",
            "FRANKIE\n",
            "(smiling)\n",
            "Welcome to the world of locksmithing, kiddo.\n",
            "\n",
            "Ellie grins, shaking her head.\n",
            "\n",
            "ELLIE\n",
            "(laughs)\n",
            "Maybe I should stick to causing chaos.\n",
            "\n",
            "Frankie laughs, shaking his head.\n",
            "\n",
            "FRANKIE\n",
            "(teasing)\n",
            "Just remember, Ellie. Chaos is not a career.\n",
            "\n",
            "[LAUGH TRACK]\n",
            "\n",
            "FADE OUT.\n"
          ]
        }
      ]
    },
    {
      "cell_type": "markdown",
      "source": [
        "## 🎬 Scene 13 Generation"
      ],
      "metadata": {
        "id": "vDeUqskvN8MP"
      }
    },
    {
      "cell_type": "code",
      "source": [
        "# Extract the description for Scene 13 from the episode outline\n",
        "scene_13_desc = extract_scene(episode_outline, 13)\n",
        "print(scene_13_desc)"
      ],
      "metadata": {
        "id": "5OaaraEON6aS",
        "colab": {
          "base_uri": "https://localhost:8080/"
        },
        "outputId": "db4c94a2-791f-4cee-dee2-8e553944fda4"
      },
      "execution_count": null,
      "outputs": [
        {
          "output_type": "stream",
          "name": "stdout",
          "text": [
            "Scene 13: \"Ellie's Street Smarts\" Ellie uses her street-smart skills to help Frankie and Len deal with a difficult customer, showing her potential.\n"
          ]
        }
      ]
    },
    {
      "cell_type": "code",
      "source": [
        "# Generate the full script for Scene 13 using its description and the completed scripts for Scenes 10 to 12 as context\n",
        "scene_13_script = generate_scene_baseline(\n",
        "    client=client,\n",
        "    sitcom_title=sitcom_title,\n",
        "    scene_description=scene_13_desc,\n",
        "    previous_scenes=[scene_10_script, scene_11_script, scene_12_script]\n",
        ")\n",
        "\n",
        "print(scene_13_script)"
      ],
      "metadata": {
        "id": "y1dbEgZRN6Q5",
        "colab": {
          "base_uri": "https://localhost:8080/"
        },
        "outputId": "f0ef7129-288d-4533-ab7e-09259ea9a320"
      },
      "execution_count": null,
      "outputs": [
        {
          "output_type": "stream",
          "name": "stdout",
          "text": [
            "INT. EARL'S LOCKSMITH SHOP - DAY\n",
            "\n",
            "Frankie is at the counter, working on a lock. Ellie is cleaning up the spilled keys. Len is browsing locks. The CAT is back to sleep on the counter. The DOORBELL RINGS, and a GRUFF MAN enters, looking annoyed.\n",
            "\n",
            "GRUFF MAN\n",
            "(gruffly)\n",
            "I need a lock opened. Now!\n",
            "\n",
            "Frankie looks surprised, then grins at Ellie.\n",
            "\n",
            "FRANKIE\n",
            "(slyly)\n",
            "Ellie, want to give it a shot?\n",
            "\n",
            "ELLIE\n",
            "(surprised)\n",
            "Wait, you mean I should pick a lock? In front of a customer?\n",
            "\n",
            "Frankie shrugs, grinning.\n",
            "\n",
            "FRANKIE\n",
            "(teasing)\n",
            "Why not? You've unlocked your potential, haven't you?\n",
            "\n",
            "[LAUGH TRACK]\n",
            "\n",
            "Ellie rolls her eyes, but steps forward, smiling nervously at the Gruff Man.\n",
            "\n",
            "ELLIE\n",
            "(nervously)\n",
            "Sure, I can do that. \n",
            "\n",
            "She takes the lock from the Gruff Man and begins to work on it, her hands shaking. Frankie and Len watch, amused.\n",
            "\n",
            "LEN\n",
            "(laughs)\n",
            "This should be interesting.\n",
            "\n",
            "Frankie nods, grinning.\n",
            "\n",
            "FRANKIE\n",
            "(amused)\n",
            "Oh, it will be.\n",
            "\n",
            "[LAUGH TRACK]\n",
            "\n",
            "Ellie struggles with the lock, her face turning red. The Gruff Man looks impatient.\n",
            "\n",
            "GRUFF MAN\n",
            "(gruffly)\n",
            "This is taking too long.\n",
            "\n",
            "Ellie glances at Frankie, who gives her a thumbs up. She takes a deep breath, then starts talking to the Gruff Man.\n",
            "\n",
            "ELLIE\n",
            "(smiling)\n",
            "So, do you come here often?\n",
            "\n",
            "GRUFF MAN\n",
            "(confused)\n",
            "What?\n",
            "\n",
            "Ellie shrugs, continuing to work on the lock.\n",
            "\n",
            "ELLIE\n",
            "(teasing)\n",
            "Just trying to make small talk. It helps with the... lock picking process.\n",
            "\n",
            "[LAUGH TRACK]\n",
            "\n",
            "The Gruff Man looks even more confused, but Ellie keeps talking, distracting him. Suddenly, there's a CLICK. Ellie looks up, grinning.\n",
            "\n",
            "ELLIE\n",
            "(excited)\n",
            "Got it!\n",
            "\n",
            "The Gruff Man looks surprised, then grumbles a thank you and leaves. Ellie turns to Frankie, looking proud.\n",
            "\n",
            "ELLIE\n",
            "(smiling)\n",
            "I did it!\n",
            "\n",
            "Frankie laughs, shaking his head.\n",
            "\n",
            "FRANKIE\n",
            "(teasing)\n",
            "You did. And you managed to confuse a customer in the process.\n",
            "\n",
            "[LAUGH TRACK]\n",
            "\n",
            "Ellie grins, shrugging.\n",
            "\n",
            "ELLIE\n",
            "(laughs)\n",
            "Just using my street smarts.\n",
            "\n",
            "Len chuckles, shaking his head.\n",
            "\n",
            "LEN\n",
            "(laughs)\n",
            "You're full of surprises, Ellie.\n",
            "\n",
            "Ellie grins, then turns to Frankie.\n",
            "\n",
            "ELLIE\n",
            "(smiling)\n",
            "So, what's next?\n",
            "\n",
            "Frankie grins, revealing a large, complex lock.\n",
            "\n",
            "FRANKIE\n",
            "(teasing)\n",
            "How about this one?\n",
            "\n",
            "Ellie groans, but smiles, picking up the lock.\n",
            "\n",
            "ELLIE\n",
            "(defiant)\n",
            "Bring it on.\n",
            "\n",
            "[LAUGH TRACK]\n",
            "\n",
            "FADE OUT.\n"
          ]
        }
      ]
    },
    {
      "cell_type": "markdown",
      "source": [
        "## 🎬 Scene 14 Generation"
      ],
      "metadata": {
        "id": "s6Ge_mVLN8qw"
      }
    },
    {
      "cell_type": "code",
      "source": [
        "# Extract the description for Scene 14 from the episode outline\n",
        "scene_14_desc = extract_scene(episode_outline, 14)\n",
        "print(scene_14_desc)"
      ],
      "metadata": {
        "id": "SXcwSKxcN9Ej",
        "colab": {
          "base_uri": "https://localhost:8080/"
        },
        "outputId": "212eb681-91d8-4c16-e0a6-64d781aa6452"
      },
      "execution_count": null,
      "outputs": [
        {
          "output_type": "stream",
          "name": "stdout",
          "text": [
            "Scene 14: \"Dinner Time Disaster\" The trio tries to have a peaceful dinner together, which inevitably turns into a comedic disaster.\n"
          ]
        }
      ]
    },
    {
      "cell_type": "code",
      "source": [
        "# Generate the full script for Scene 14 using its description and the completed scripts for Scenes 11 to 13 as context\n",
        "scene_14_script = generate_scene_baseline(\n",
        "    client=client,\n",
        "    sitcom_title=sitcom_title,\n",
        "    scene_description=scene_14_desc,\n",
        "    previous_scenes=[scene_11_script, scene_12_script, scene_13_script]\n",
        ")\n",
        "\n",
        "print(scene_14_script)"
      ],
      "metadata": {
        "id": "SdI6BEd-N9s0",
        "colab": {
          "base_uri": "https://localhost:8080/"
        },
        "outputId": "a8f21fc4-6735-477f-aa5b-fdcb2505f21d"
      },
      "execution_count": null,
      "outputs": [
        {
          "output_type": "stream",
          "name": "stdout",
          "text": [
            "INT. EARL'S LOCKSMITH SHOP - DAY\n",
            "\n",
            "Ellie is examining the complex lock, a look of determination on her face. Frankie is grinning at her. Len is chuckling in the background. The CAT is asleep on the counter. The DOORBELL RINGS, and a DELIVERY GUY enters with a huge box.\n",
            "\n",
            "DELIVERY GUY\n",
            "(struggling)\n",
            "Delivery for... Frankie?\n",
            "\n",
            "Frankie looks surprised, then grins at Ellie.\n",
            "\n",
            "FRANKIE\n",
            "(slyly)\n",
            "Ellie, why don’t you sign for this?\n",
            "\n",
            "ELLIE\n",
            "(confused)\n",
            "Me? But it's not my delivery.\n",
            "\n",
            "Frankie shrugs, grinning.\n",
            "\n",
            "FRANKIE\n",
            "(teasing)\n",
            "Consider it another part of your locksmith training.\n",
            "\n",
            "[LAUGH TRACK]\n",
            "\n",
            "Ellie rolls her eyes, but steps forward, signing for the delivery. The Delivery Guy leaves, and Ellie turns to Frankie, looking at the box.\n",
            "\n",
            "ELLIE\n",
            "(curious)\n",
            "So, what's in the box?\n",
            "\n",
            "Frankie grins, opening the box to reveal a large, elaborate LOCK.\n",
            "\n",
            "FRANKIE\n",
            "(amused)\n",
            "Just a little something to keep you on your toes.\n",
            "\n",
            "[LAUGH TRACK]\n",
            "\n",
            "Ellie groans, but smiles, picking up the lock.\n",
            "\n",
            "ELLIE\n",
            "(teasing)\n",
            "Is this your way of saying dinner's cancelled?\n",
            "\n",
            "Frankie laughs, shaking his head.\n",
            "\n",
            "FRANKIE\n",
            "(teasing)\n",
            "No, dinner's still on. But you might want to bring this with you. \n",
            "\n",
            "Len chuckles, shaking his head.\n",
            "\n",
            "LEN\n",
            "(laughs)\n",
            "I'll bring the pizza, you bring the lock.\n",
            "\n",
            "Ellie grins, then turns to Frankie.\n",
            "\n",
            "ELLIE\n",
            "(defiant)\n",
            "Deal. \n",
            "\n",
            "FADE OUT.\n",
            "\n",
            "INT. FRANKIE'S APARTMENT - NIGHT\n",
            "\n",
            "The trio is seated around a small table. Pizza boxes are open, and Ellie's complex lock sits in the middle of the table. They're all laughing and eating. Suddenly, the CAT jumps onto the table, knocking over a glass of water.\n",
            "\n",
            "ELLIE\n",
            "(surprised)\n",
            "Oh no!\n",
            "\n",
            "[LAUGH TRACK]\n",
            "\n",
            "Frankie quickly moves the lock out of the way, while Len tries to catch the Cat. They all laugh.\n",
            "\n",
            "FRANKIE\n",
            "(teasing)\n",
            "Well, this dinner is going just as smoothly as the day did.\n",
            "\n",
            "[LAUGH TRACK]\n",
            "\n",
            "Ellie grins, shaking her head.\n",
            "\n",
            "ELLIE\n",
            "(teasing)\n",
            "Hey, at least I didn't spill the keys this time.\n",
            "\n",
            "Frankie laughs, shaking his head.\n",
            "\n",
            "FRANKIE\n",
            "(teasing)\n",
            "True. But the night is still young.\n",
            "\n",
            "[LAUGH TRACK]\n",
            "\n",
            "Len finally catches the Cat, grinning.\n",
            "\n",
            "LEN\n",
            "(laughs)\n",
            "And the chaos continues.\n",
            "\n",
            "They all share a laugh, then continue eating, the complex lock still sitting in the middle of the table.\n",
            "\n",
            "FADE OUT.\n"
          ]
        }
      ]
    },
    {
      "cell_type": "markdown",
      "source": [
        "## 🎬 Scene 15 Generation"
      ],
      "metadata": {
        "id": "TN-bBOw1N-Fk"
      }
    },
    {
      "cell_type": "code",
      "source": [
        "# Extract the description for Scene 15 from the episode outline\n",
        "scene_15_desc = extract_scene(episode_outline, 15)\n",
        "print(scene_15_desc)"
      ],
      "metadata": {
        "id": "xIuTpa6zN9qL",
        "colab": {
          "base_uri": "https://localhost:8080/"
        },
        "outputId": "8cca35fd-bedc-41c6-bf04-55f65454686f"
      },
      "execution_count": null,
      "outputs": [
        {
          "output_type": "stream",
          "name": "stdout",
          "text": [
            "Scene 15: \"Lock Metaphors\" Len uses a lock and key as a metaphor for Frankie's situation, leading to laughter and self-realization.\n"
          ]
        }
      ]
    },
    {
      "cell_type": "code",
      "source": [
        "# Generate the full script for Scene 15 using its description and the completed scripts for Scenes 12 to 14 as context\n",
        "scene_15_script = generate_scene_baseline(\n",
        "    client=client,\n",
        "    sitcom_title=sitcom_title,\n",
        "    scene_description=scene_15_desc,\n",
        "    previous_scenes=[scene_12_script, scene_13_script, scene_14_script]\n",
        ")\n",
        "\n",
        "print(scene_15_script)"
      ],
      "metadata": {
        "id": "g93S_LgYN9na",
        "colab": {
          "base_uri": "https://localhost:8080/"
        },
        "outputId": "606254ef-13af-43dd-a3bb-8270fb90d80a"
      },
      "execution_count": null,
      "outputs": [
        {
          "output_type": "stream",
          "name": "stdout",
          "text": [
            "INT. FRANKIE'S APARTMENT - NIGHT\n",
            "\n",
            "They're still sitting around the small table. The pizza boxes are empty, and Ellie's complex lock is now disassembled on the table. The CAT is sleeping in Len's lap. Frankie is wiping pizza grease off his hands and smirking at Ellie.\n",
            "\n",
            "FRANKIE\n",
            "(smiling)\n",
            "So, how's that lock coming along, kiddo?\n",
            "\n",
            "Ellie looks at the disassembled lock parts scattered on the table, then at Frankie.\n",
            "\n",
            "ELLIE\n",
            "(defiant)\n",
            "Better than your pizza cutting skills.\n",
            "\n",
            "[LAUGH TRACK]\n",
            "\n",
            "Frankie chuckles, picking up a tiny lock piece with a napkin.\n",
            "\n",
            "FRANKIE\n",
            "(teasing)\n",
            "This little piece is the key to your success, you know.\n",
            "\n",
            "Ellie raises an eyebrow, looking at Frankie.\n",
            "\n",
            "ELLIE\n",
            "(skeptical)\n",
            "Really? How so?\n",
            "\n",
            "Frankie smirks, holding up the tiny piece.\n",
            "\n",
            "FRANKIE\n",
            "(slyly)\n",
            "Well, you see, this piece is like... your ability to handle chaos. Without it, the whole lock falls apart.\n",
            "\n",
            "Len laughs, petting the Cat.\n",
            "\n",
            "LEN\n",
            "(laughs)\n",
            "And without chaos, this place would be pretty boring.\n",
            "\n",
            "[LAUGH TRACK]\n",
            "\n",
            "Ellie smiles, picking up the tiny piece.\n",
            "\n",
            "ELLIE\n",
            "(teasing)\n",
            "So, what you're saying is... I'm the key to this place's entertainment.\n",
            "\n",
            "Frankie laughs, shaking his head.\n",
            "\n",
            "FRANKIE\n",
            "(teasing)\n",
            "I wouldn't go that far.\n",
            "\n",
            "[LAUGH TRACK]\n",
            "\n",
            "Ellie grins, looking at the disassembled lock.\n",
            "\n",
            "ELLIE\n",
            "(smiling)\n",
            "Well, I think I can handle this lock now.\n",
            "\n",
            "Frankie raises an eyebrow, looking at Ellie.\n",
            "\n",
            "FRANKIE\n",
            "(amused)\n",
            "Oh, really? \n",
            "\n",
            "ELLIE\n",
            "(defiant)\n",
            "Yeah, really. Watch and learn.\n",
            "\n",
            "Ellie starts to reassemble the lock. Frankie and Len watch, amused. The Cat wakes up, stretches, and jumps onto the table, knocking over a few lock pieces.\n",
            "\n",
            "ELLIE\n",
            "(frustrated)\n",
            "Oh, you've got to be kidding me!\n",
            "\n",
            "[LAUGH TRACK]\n",
            "\n",
            "Frankie and Len laugh, watching as Ellie chases after the Cat.\n",
            "\n",
            "FADE OUT.\n"
          ]
        }
      ]
    },
    {
      "cell_type": "markdown",
      "source": [
        "## 🎬 Scene 16 Generation"
      ],
      "metadata": {
        "id": "l2pJTjK9N-mp"
      }
    },
    {
      "cell_type": "code",
      "source": [
        "# Extract the description for Scene 16 from the episode outline\n",
        "scene_16_desc = extract_scene(episode_outline, 16)\n",
        "print(scene_16_desc)"
      ],
      "metadata": {
        "id": "qpUy19FON9hd",
        "colab": {
          "base_uri": "https://localhost:8080/"
        },
        "outputId": "871667ba-83e9-4d74-9ec5-f2f484ee0af9"
      },
      "execution_count": null,
      "outputs": [
        {
          "output_type": "stream",
          "name": "stdout",
          "text": [
            "Scene 16: \"Late Night Bonding\" Frankie and Ellie share a heartfelt conversation late at night, taking steps towards mending their relationship.\n"
          ]
        }
      ]
    },
    {
      "cell_type": "code",
      "source": [
        "# Generate the full script for Scene 16 using its description and the completed scripts for Scenes 13 to 15 as context\n",
        "scene_16_script = generate_scene_baseline(\n",
        "    client=client,\n",
        "    sitcom_title=sitcom_title,\n",
        "    scene_description=scene_16_desc,\n",
        "    previous_scenes=[scene_13_script, scene_14_script, scene_15_script]\n",
        ")\n",
        "\n",
        "print(scene_16_script)"
      ],
      "metadata": {
        "id": "-NHn__nQN9ZR",
        "colab": {
          "base_uri": "https://localhost:8080/"
        },
        "outputId": "60a948b8-a1ab-44b0-e017-5f0bc2992f25"
      },
      "execution_count": null,
      "outputs": [
        {
          "output_type": "stream",
          "name": "stdout",
          "text": [
            "INT. FRANKIE'S APARTMENT - LATE NIGHT\n",
            "\n",
            "The table is now clear, except for the reassembled lock and a few crumbs. Len has left, and the CAT is curled up asleep in the corner. Frankie and Ellie are sitting across from each other, looking at the lock.\n",
            "\n",
            "FRANKIE\n",
            "(smiling)\n",
            "You know, you did a pretty good job with that.\n",
            "\n",
            "ELLIE\n",
            "(surprised)\n",
            "Really?\n",
            "\n",
            "Frankie nods, picking up the lock and examining it.\n",
            "\n",
            "FRANKIE\n",
            "(amused)\n",
            "Yeah, I mean, you only broke it twice. That's a new record.\n",
            "\n",
            "[LAUGH TRACK]\n",
            "\n",
            "Ellie rolls her eyes, but smiles.\n",
            "\n",
            "ELLIE\n",
            "(teasing)\n",
            "Well, I'm glad I could entertain you.\n",
            "\n",
            "Frankie chuckles, setting the lock back down.\n",
            "\n",
            "FRANKIE\n",
            "(smiling)\n",
            "You know, Ellie, it's not just about the entertainment.\n",
            "\n",
            "Ellie looks at Frankie, curious.\n",
            "\n",
            "ELLIE\n",
            "(confused)\n",
            "Then what is it about?\n",
            "\n",
            "Frankie looks thoughtful, choosing his words carefully.\n",
            "\n",
            "FRANKIE\n",
            "(serious)\n",
            "It's about unlocking potential. Yours, mine, even that grumpy cat's.\n",
            "\n",
            "Ellie laughs, looking at the sleeping Cat.\n",
            "\n",
            "ELLIE\n",
            "(teasing)\n",
            "Well, his potential to cause chaos is definitely unlocked.\n",
            "\n",
            "[LAUGH TRACK]\n",
            "\n",
            "Frankie chuckles, then looks at Ellie, serious again.\n",
            "\n",
            "FRANKIE\n",
            "(smiling)\n",
            "But seriously, Ellie, you have potential. And I'm glad I get to help unlock it.\n",
            "\n",
            "Ellie looks surprised, then smiles.\n",
            "\n",
            "ELLIE\n",
            "(smiling)\n",
            "Thanks, Frankie. That... means a lot.\n",
            "\n",
            "Frankie grins, clapping his hands together.\n",
            "\n",
            "FRANKIE\n",
            "(teasing)\n",
            "Good, because tomorrow, we're tackling a safe.\n",
            "\n",
            "Ellie groans, but laughs.\n",
            "\n",
            "ELLIE\n",
            "(teasing)\n",
            "Can't wait.\n",
            "\n",
            "[LAUGH TRACK]\n",
            "\n",
            "Frankie laughs, standing up and stretching.\n",
            "\n",
            "FRANKIE\n",
            "(teasing)\n",
            "Well, you better get some sleep then. You'll need it.\n",
            "\n",
            "Ellie laughs, standing up as well.\n",
            "\n",
            "ELLIE\n",
            "(laughs)\n",
            "Yeah, I think I will. Goodnight, Frankie.\n",
            "\n",
            "Frankie smiles, waving Ellie out.\n",
            "\n",
            "FRANKIE\n",
            "(smiling)\n",
            "Goodnight, Ellie. See you in the morning.\n",
            "\n",
            "Ellie waves back, leaving the apartment. Frankie looks at the lock on the table, smiles, then turns off the light.\n",
            "\n",
            "FADE OUT.\n"
          ]
        }
      ]
    },
    {
      "cell_type": "markdown",
      "source": [
        "## 🎬 Scene 17 Generation"
      ],
      "metadata": {
        "id": "FwtGZbIGOP8R"
      }
    },
    {
      "cell_type": "code",
      "source": [
        "# Extract the description for Scene 17 from the episode outline\n",
        "scene_17_desc = extract_scene(episode_outline, 17)\n",
        "print(scene_17_desc)"
      ],
      "metadata": {
        "id": "g_tfzzHaOPuE",
        "colab": {
          "base_uri": "https://localhost:8080/"
        },
        "outputId": "bf13dd82-1ad7-4af4-d170-889640ba96c5"
      },
      "execution_count": null,
      "outputs": [
        {
          "output_type": "stream",
          "name": "stdout",
          "text": [
            "Scene 17: \"Shop Improvements\" The trio work together to improve the locksmith shop, leading to comedic renovations and bonding moments.\n"
          ]
        }
      ]
    },
    {
      "cell_type": "code",
      "source": [
        "# Generate the full script for Scene 17 using its description and the completed scripts for Scenes 14 to 16 as context\n",
        "scene_17_script = generate_scene_baseline(\n",
        "    client=client,\n",
        "    sitcom_title=sitcom_title,\n",
        "    scene_description=scene_17_desc,\n",
        "    previous_scenes=[scene_14_script, scene_15_script, scene_16_script]\n",
        ")\n",
        "\n",
        "print(scene_17_script)"
      ],
      "metadata": {
        "id": "jJ1iJUBtOPrr",
        "colab": {
          "base_uri": "https://localhost:8080/"
        },
        "outputId": "7bc8545a-d223-4100-8f10-c5a45fbf226a"
      },
      "execution_count": null,
      "outputs": [
        {
          "output_type": "stream",
          "name": "stdout",
          "text": [
            "INT. EARL'S LOCKSMITH SHOP - MORNING\n",
            "\n",
            "The shop is cluttered with tools, locks, and keys. Frankie is at the counter, sipping coffee. Ellie enters the shop, looking refreshed but slightly nervous. Len is already there, organizing keys. The CAT is asleep on a pile of locks.\n",
            "\n",
            "ELLIE\n",
            "(smiling)\n",
            "Good morning, Frankie. Len.\n",
            "\n",
            "FRANKIE\n",
            "(teasing)\n",
            "Morning, Ellie. Ready for your safe-cracking session?\n",
            "\n",
            "LEN\n",
            "(laughs)\n",
            "More like safe-cracking chaos.\n",
            "\n",
            "[LAUGH TRACK]\n",
            "\n",
            "Ellie rolls her eyes, but grins.\n",
            "\n",
            "ELLIE\n",
            "(teasing)\n",
            "Hey, I handled that lock last night, didn't I?\n",
            "\n",
            "Frankie chuckles, raising his coffee cup in a toast.\n",
            "\n",
            "FRANKIE\n",
            "(smiling)\n",
            "You did, kiddo. You did.\n",
            "\n",
            "Ellie looks around the shop, an idea forming.\n",
            "\n",
            "ELLIE\n",
            "(curious)\n",
            "You know, this place could use a little sprucing up.\n",
            "\n",
            "Frankie raises an eyebrow, looking around.\n",
            "\n",
            "FRANKIE\n",
            "(amused)\n",
            "Oh, really? And what do you suggest?\n",
            "\n",
            "Ellie grins, looking at Len.\n",
            "\n",
            "ELLIE\n",
            "(slyly)\n",
            "How about a little shop renovation?\n",
            "\n",
            "Len chuckles, shaking his head.\n",
            "\n",
            "LEN\n",
            "(laughs)\n",
            "Now that's a disaster waiting to happen.\n",
            "\n",
            "[LAUGH TRACK]\n",
            "\n",
            "Ellie grins, pulling out a notepad and pen.\n",
            "\n",
            "ELLIE\n",
            "(defiant)\n",
            "Just you watch. This place will be a whole new shop by the end of the day.\n",
            "\n",
            "Frankie looks amused, leaning back in his chair.\n",
            "\n",
            "FRANKIE\n",
            "(teasing)\n",
            "Well, this should be entertaining.\n",
            "\n",
            "Ellie starts to sketch out her ideas, while Frankie and Len watch, amused. Suddenly, the Cat wakes up and jumps onto Ellie's notepad, smudging her sketches.\n",
            "\n",
            "ELLIE\n",
            "(frustrated)\n",
            "Oh, come on!\n",
            "\n",
            "[LAUGH TRACK]\n",
            "\n",
            "Frankie and Len laugh, watching as Ellie tries to shoo the Cat off her notepad.\n",
            "\n",
            "FRANKIE\n",
            "(laughs)\n",
            "Looks like someone else wants to help with the renovation.\n",
            "\n",
            "Len chuckles, shaking his head.\n",
            "\n",
            "LEN\n",
            "(smiling)\n",
            "Or just cause more chaos.\n",
            "\n",
            "Ellie finally manages to move the Cat, looking at her smudged sketches.\n",
            "\n",
            "ELLIE\n",
            "(sighs)\n",
            "Well, so much for that plan.\n",
            "\n",
            "[LAUGH TRACK]\n",
            "\n",
            "Frankie grins, standing up.\n",
            "\n",
            "FRANKIE\n",
            "(amused)\n",
            "Well, Ellie, looks like we're going with plan B.\n",
            "\n",
            "Ellie raises an eyebrow, looking at Frankie.\n",
            "\n",
            "ELLIE\n",
            "(confused)\n",
            "And what's plan B?\n",
            "\n",
            "Frankie grins, picking up a broom.\n",
            "\n",
            "FRANKIE\n",
            "(teasing)\n",
            "Cleaning. Lots and lots of cleaning.\n",
            "\n",
            "Ellie groans, but laughs, picking up a dustpan.\n",
            "\n",
            "ELLIE\n",
            "(teasing)\n",
            "Well, I guess that's one way to improve the shop.\n",
            "\n",
            "Frankie laughs, shaking his head.\n",
            "\n",
            "FRANKIE\n",
            "(teasing)\n",
            "It's the only way, kiddo.\n",
            "\n",
            "They all share a laugh, then start to clean the shop, the Cat watching from the counter.\n",
            "\n",
            "FADE OUT.\n"
          ]
        }
      ]
    },
    {
      "cell_type": "markdown",
      "source": [
        "## 🎬 Scene 18 Generation"
      ],
      "metadata": {
        "id": "fGxufFyAOQ-v"
      }
    },
    {
      "cell_type": "code",
      "source": [
        "# Extract the description for Scene 18 from the episode outline\n",
        "scene_18_desc = extract_scene(episode_outline, 18)\n",
        "print(scene_18_desc)"
      ],
      "metadata": {
        "id": "ZR45tgN6OPol",
        "colab": {
          "base_uri": "https://localhost:8080/"
        },
        "outputId": "1a420269-2ca6-484a-ee04-f9f5da2a8842"
      },
      "execution_count": null,
      "outputs": [
        {
          "output_type": "stream",
          "name": "stdout",
          "text": [
            "Scene 18: \"Second Chance\" Frankie reflects on his second chance at life, leading to a heartfelt monologue about redemption and hope.\n"
          ]
        }
      ]
    },
    {
      "cell_type": "code",
      "source": [
        "# Generate the full script for Scene 18 using its description and the completed scripts for Scenes 15 to 17 as context\n",
        "scene_18_script = generate_scene_baseline(\n",
        "    client=client,\n",
        "    sitcom_title=sitcom_title,\n",
        "    scene_description=scene_18_desc,\n",
        "    previous_scenes=[scene_15_script, scene_16_script, scene_17_script]\n",
        ")\n",
        "\n",
        "print(scene_18_script)"
      ],
      "metadata": {
        "id": "LkvB4n6NOSE_",
        "colab": {
          "base_uri": "https://localhost:8080/"
        },
        "outputId": "2fb8d2f7-2f0c-4ae8-c3f3-250cf51fb9af"
      },
      "execution_count": null,
      "outputs": [
        {
          "output_type": "stream",
          "name": "stdout",
          "text": [
            "INT. EARL'S LOCKSMITH SHOP - LATE AFTERNOON\n",
            "\n",
            "The shop is half-cleaned, half-chaotic. Ellie is on a ladder, dusting a high shelf. Frankie is sweeping, and Len is sorting locks on the counter. The CAT is watching from a safe distance, tail twitching.\n",
            "\n",
            "FRANKIE\n",
            "(teasing)\n",
            "Ellie, you missed a spot.\n",
            "\n",
            "Ellie looks down, mock-glaring at Frankie.\n",
            "\n",
            "ELLIE\n",
            "(defiant)\n",
            "And you missed a broom.\n",
            "\n",
            "[LAUGH TRACK]\n",
            "\n",
            "Frankie chuckles, shaking his head.\n",
            "\n",
            "FRANKIE\n",
            "(smiling)\n",
            "Just trying to keep you on your toes, kiddo.\n",
            "\n",
            "Ellie rolls her eyes, but grins, continuing to dust. Suddenly, the ladder wobbles. Ellie gasps, trying to steady herself.\n",
            "\n",
            "ELLIE\n",
            "(scared)\n",
            "Whoa!\n",
            "\n",
            "Len looks up, alarmed. Frankie drops his broom, rushing to steady the ladder.\n",
            "\n",
            "FRANKIE\n",
            "(concerned)\n",
            "Ellie!\n",
            "\n",
            "Frankie manages to steady the ladder just in time. Ellie sighs in relief, smiling at Frankie.\n",
            "\n",
            "ELLIE\n",
            "(relieved)\n",
            "Thanks, Frankie.\n",
            "\n",
            "Frankie smiles, stepping back.\n",
            "\n",
            "FRANKIE\n",
            "(teasing)\n",
            "Just part of the job.\n",
            "\n",
            "[LAUGH TRACK]\n",
            "\n",
            "Ellie rolls her eyes, but grins, climbing down the ladder.\n",
            "\n",
            "ELLIE\n",
            "(teasing)\n",
            "Well, I think I'll take a break from dusting.\n",
            "\n",
            "Frankie chuckles, picking up his broom.\n",
            "\n",
            "FRANKIE\n",
            "(smiling)\n",
            "Probably a good idea.\n",
            "\n",
            "As they continue cleaning, Frankie suddenly pauses, looking thoughtful.\n",
            "\n",
            "FRANKIE\n",
            "(serious)\n",
            "You know, this whole cleaning thing... it's kind of like a second chance.\n",
            "\n",
            "Ellie raises an eyebrow, looking at Frankie.\n",
            "\n",
            "ELLIE\n",
            "(confused)\n",
            "What do you mean?\n",
            "\n",
            "Frankie leans on his broom, looking at the half-cleaned shop.\n",
            "\n",
            "FRANKIE\n",
            "(reflective)\n",
            "Well, it's like... we're cleaning up the past, making room for the future. It's a second chance at... potential.\n",
            "\n",
            "Ellie looks surprised, then smiles.\n",
            "\n",
            "ELLIE\n",
            "(smiling)\n",
            "That's... actually pretty deep, Frankie.\n",
            "\n",
            "Frankie grins, shrugging.\n",
            "\n",
            "FRANKIE\n",
            "(teasing)\n",
            "What can I say? I'm full of surprises.\n",
            "\n",
            "[LAUGH TRACK]\n",
            "\n",
            "Ellie laughs, shaking her head.\n",
            "\n",
            "ELLIE\n",
            "(teasing)\n",
            "Yeah, like your secret love for cleaning.\n",
            "\n",
            "Frankie chuckles, shaking his head.\n",
            "\n",
            "FRANKIE\n",
            "(teasing)\n",
            "Oh, you've got me there.\n",
            "\n",
            "[LAUGH TRACK]\n",
            "\n",
            "Ellie grins, looking at the half-cleaned shop.\n",
            "\n",
            "ELLIE\n",
            "(smiling)\n",
            "Well, I guess we better get back to it then.\n",
            "\n",
            "Frankie nods, picking up his broom.\n",
            "\n",
            "FRANKIE\n",
            "(smiling)\n",
            "Yeah, let's unlock this shop's potential.\n",
            "\n",
            "They share a laugh, then go back to cleaning, the CAT watching with interest.\n",
            "\n",
            "FADE OUT.\n"
          ]
        }
      ]
    },
    {
      "cell_type": "markdown",
      "source": [
        "## 🎬 Scene 19 Generation"
      ],
      "metadata": {
        "id": "FG_EUZC_OSW4"
      }
    },
    {
      "cell_type": "code",
      "source": [
        "# Extract the description for Scene 19 from the episode outline\n",
        "scene_19_desc = extract_scene(episode_outline, 19)\n",
        "print(scene_19_desc)"
      ],
      "metadata": {
        "id": "RXWjuC3fOSCn",
        "colab": {
          "base_uri": "https://localhost:8080/"
        },
        "outputId": "d211e45e-4e9e-4dd0-b564-4911a30c3a5a"
      },
      "execution_count": null,
      "outputs": [
        {
          "output_type": "stream",
          "name": "stdout",
          "text": [
            "Scene 19: \"Unexpected Success\" Frankie successfully helps a customer with a lock problem, resulting in an unexpected win and a confidence boost.\n"
          ]
        }
      ]
    },
    {
      "cell_type": "code",
      "source": [
        "# Generate the full script for Scene 19 using its description and the completed scripts for Scenes 16 to 18 as context\n",
        "scene_19_script = generate_scene_baseline(\n",
        "    client=client,\n",
        "    sitcom_title=sitcom_title,\n",
        "    scene_description=scene_19_desc,\n",
        "    previous_scenes=[scene_16_script, scene_17_script, scene_18_script]\n",
        ")\n",
        "\n",
        "print(scene_19_script)"
      ],
      "metadata": {
        "id": "vga4ryUmOR_2",
        "colab": {
          "base_uri": "https://localhost:8080/"
        },
        "outputId": "ce2e35c5-b5e1-4eb0-dd79-a148e019ed9a"
      },
      "execution_count": null,
      "outputs": [
        {
          "output_type": "stream",
          "name": "stdout",
          "text": [
            "INT. EARL'S LOCKSMITH SHOP - LATE AFTERNOON\n",
            "\n",
            "The shop is now clean and organized. The CAT is napping on a newly cleaned counter. Ellie is helping a CUSTOMER with a lock problem, while Frankie and Len watch from a distance.\n",
            "\n",
            "CUSTOMER\n",
            "(frantic)\n",
            "I just can't seem to get this lock open!\n",
            "\n",
            "ELLIE\n",
            "(calm)\n",
            "Don't worry, sir. We'll figure this out.\n",
            "\n",
            "Frankie watches, looking worried.\n",
            "\n",
            "FRANKIE\n",
            "(whispering to Len)\n",
            "Do you think she can handle it?\n",
            "\n",
            "LEN\n",
            "(smiling)\n",
            "Let's see what she's got.\n",
            "\n",
            "Ellie examines the lock, then tries a few keys. The lock doesn't open. She looks at the keys, then at the lock, deep in thought.\n",
            "\n",
            "ELLIE\n",
            "(thinking aloud)\n",
            "Maybe... \n",
            "\n",
            "She tries a different key. The lock clicks open. The customer looks amazed.\n",
            "\n",
            "CUSTOMER\n",
            "(astonished)\n",
            "You did it!\n",
            "\n",
            "ELLIE\n",
            "(smiling)\n",
            "Just a little bit of detective work.\n",
            "\n",
            "Frankie and Len share a surprised look.\n",
            "\n",
            "FRANKIE\n",
            "(amazed)\n",
            "She did it.\n",
            "\n",
            "LEN\n",
            "(smiling)\n",
            "Told you she had potential.\n",
            "\n",
            "[LAUGH TRACK]\n",
            "\n",
            "Frankie looks proud, walking over to Ellie.\n",
            "\n",
            "FRANKIE\n",
            "(proud)\n",
            "Great job, Ellie.\n",
            "\n",
            "Ellie grins, looking at the open lock.\n",
            "\n",
            "ELLIE\n",
            "(teasing)\n",
            "Thanks, Frankie. Maybe I do have a knack for this.\n",
            "\n",
            "Frankie chuckles, looking around the clean shop.\n",
            "\n",
            "FRANKIE\n",
            "(teasing)\n",
            "Yeah, but can you clean a shop?\n",
            "\n",
            "[LAUGH TRACK]\n",
            "\n",
            "Ellie rolls her eyes, but laughs.\n",
            "\n",
            "ELLIE\n",
            "(teasing)\n",
            "Oh, you're never going to let that go, are you?\n",
            "\n",
            "Frankie grins, shaking his head.\n",
            "\n",
            "FRANKIE\n",
            "(teasing)\n",
            "Not a chance.\n",
            "\n",
            "[LAUGH TRACK]\n",
            "\n",
            "The customer thanks Ellie again, then leaves the shop. Ellie turns to Frankie, looking serious.\n",
            "\n",
            "ELLIE\n",
            "(smiling)\n",
            "You know, Frankie, I think I might actually enjoy this.\n",
            "\n",
            "Frankie looks surprised, then smiles.\n",
            "\n",
            "FRANKIE\n",
            "(smiling)\n",
            "Well, Ellie, I think you've unlocked your potential.\n",
            "\n",
            "Ellie laughs, shaking her head.\n",
            "\n",
            "ELLIE\n",
            "(teasing)\n",
            "And you've unlocked your potential for cheesy lines.\n",
            "\n",
            "[LAUGH TRACK]\n",
            "\n",
            "Frankie grins, leaning on the counter.\n",
            "\n",
            "FRANKIE\n",
            "(teasing)\n",
            "It's a gift.\n",
            "\n",
            "They share a laugh, then get back to work, the CAT watching from its spot on the counter.\n",
            "\n",
            "FADE OUT.\n"
          ]
        }
      ]
    },
    {
      "cell_type": "markdown",
      "source": [
        "## 🎬 Scene 20 Generation"
      ],
      "metadata": {
        "id": "iHP6jEB4O8hs"
      }
    },
    {
      "cell_type": "code",
      "source": [
        "# Extract the description for Scene 20 from the episode outline\n",
        "scene_20_desc = extract_scene(episode_outline, 20)\n",
        "print(scene_20_desc)"
      ],
      "metadata": {
        "id": "fTiKlzG2O9wA",
        "colab": {
          "base_uri": "https://localhost:8080/"
        },
        "outputId": "04540e08-0548-446d-ee07-02d2d1de1fc5"
      },
      "execution_count": null,
      "outputs": [
        {
          "output_type": "stream",
          "name": "stdout",
          "text": [
            "Scene 20: \"Locking Up\" The trio end their first day running the locksmith shop together, closing the shop with a feeling of accomplishment and anticipation for what's next.\n"
          ]
        }
      ]
    },
    {
      "cell_type": "code",
      "source": [
        "# Generate the full script for Scene 20 using its description and the completed scripts for Scenes 17 to 19 as context\n",
        "scene_20_script = generate_scene_baseline(\n",
        "    client=client,\n",
        "    sitcom_title=sitcom_title,\n",
        "    scene_description=scene_20_desc,\n",
        "    previous_scenes=[scene_17_script, scene_18_script, scene_19_script]\n",
        ")\n",
        "\n",
        "print(scene_20_script)"
      ],
      "metadata": {
        "id": "naOt9bnnO9sw",
        "colab": {
          "base_uri": "https://localhost:8080/"
        },
        "outputId": "4f52656f-8275-413c-ada2-16de255e946c"
      },
      "execution_count": null,
      "outputs": [
        {
          "output_type": "stream",
          "name": "stdout",
          "text": [
            "INT. EARL'S LOCKSMITH SHOP - EVENING\n",
            "\n",
            "The shop is now spotless. Locks and keys are organized neatly on the shelves. Ellie, Frankie, and Len are standing at the counter, finishing up their work. The CAT is napping peacefully on the counter.\n",
            "\n",
            "FRANKIE\n",
            "(satisfied)\n",
            "Well, we did it. The shop's never looked better.\n",
            "\n",
            "LEN\n",
            "(smiling)\n",
            "And we didn't even break anything. That's a first.\n",
            "\n",
            "[LAUGH TRACK]\n",
            "\n",
            "Ellie grins, looking at the cleaned shop.\n",
            "\n",
            "ELLIE\n",
            "(teasing)\n",
            "Well, not for lack of trying.\n",
            "\n",
            "Frankie chuckles, shaking his head.\n",
            "\n",
            "FRANKIE\n",
            "(teasing)\n",
            "Hey, I only knocked over that one shelf.\n",
            "\n",
            "Ellie laughs, shaking her head.\n",
            "\n",
            "ELLIE\n",
            "(teasing)\n",
            "Once an hour, maybe.\n",
            "\n",
            "[LAUGH TRACK]\n",
            "\n",
            "They all share a laugh, then go back to their work. Frankie looks at the clock, then at Ellie and Len.\n",
            "\n",
            "FRANKIE\n",
            "(smiling)\n",
            "Alright, I think it's time to call it a day. What do you say?\n",
            "\n",
            "Ellie and Len look at each other, then at Frankie.\n",
            "\n",
            "ELLIE\n",
            "(smiling)\n",
            "I think that sounds like a great idea.\n",
            "\n",
            "Len nods, smiling.\n",
            "\n",
            "LEN\n",
            "(smiling)\n",
            "I agree. It's been a long day.\n",
            "\n",
            "Frankie grins, walking over to the door.\n",
            "\n",
            "FRANKIE\n",
            "(satisfied)\n",
            "Then let's lock up and head out.\n",
            "\n",
            "Ellie and Len follow Frankie to the door. Frankie turns to Ellie, handing her the keys.\n",
            "\n",
            "FRANKIE\n",
            "(teasing)\n",
            "Here you go, Ellie. Why don't you do the honors?\n",
            "\n",
            "Ellie looks surprised, then smiles, taking the keys.\n",
            "\n",
            "ELLIE\n",
            "(teasing)\n",
            "Why, thank you, Frankie. I'll try not to lock us in.\n",
            "\n",
            "[LAUGH TRACK]\n",
            "\n",
            "Frankie laughs, shaking his head.\n",
            "\n",
            "FRANKIE\n",
            "(teasing)\n",
            "Please don't. I don't think we have the keys for that one.\n",
            "\n",
            "[LAUGH TRACK]\n",
            "\n",
            "Ellie rolls her eyes, but grins, unlocking the door. They all step outside, then Ellie locks the door behind them.\n",
            "\n",
            "ELLIE\n",
            "(smiling)\n",
            "Well, that's it. Our first day running the shop together.\n",
            "\n",
            "Frankie nods, looking at the locked door.\n",
            "\n",
            "FRANKIE\n",
            "(smiling)\n",
            "And many more to come.\n",
            "\n",
            "Len looks at Frankie and Ellie, smiling.\n",
            "\n",
            "LEN\n",
            "(smiling)\n",
            "I can't wait to see what's next.\n",
            "\n",
            "They all share a smile, then walk away from the shop, the CAT watching from the window.\n",
            "\n",
            "FADE OUT.\n"
          ]
        }
      ]
    },
    {
      "cell_type": "markdown",
      "source": [
        "## Combining Scripts"
      ],
      "metadata": {
        "id": "-ZzTCdyrt7vJ"
      }
    },
    {
      "cell_type": "code",
      "source": [
        "# List your scene scripts in order\n",
        "scene_scripts = [\n",
        "    scene_1_script,\n",
        "    scene_2_script,\n",
        "    scene_3_script,\n",
        "    scene_4_script,\n",
        "    scene_5_script,\n",
        "    scene_6_script,\n",
        "    scene_7_script,\n",
        "    scene_8_script,\n",
        "    scene_9_script,\n",
        "    scene_10_script,\n",
        "    scene_11_script,\n",
        "    scene_12_script,\n",
        "    scene_13_script,\n",
        "    scene_14_script,\n",
        "    scene_15_script,\n",
        "    scene_16_script,\n",
        "    scene_17_script,\n",
        "    scene_18_script,\n",
        "    scene_19_script,\n",
        "    scene_20_script\n",
        "]\n",
        "\n",
        "# Combine with optional scene headers\n",
        "full_episode_script = \"\\n\\n\".join([\n",
        "    f\"### Scene {i+1} ###\\n{script.strip()}\"\n",
        "    for i, script in enumerate(scene_scripts)\n",
        "])\n",
        "\n",
        "# Preview the first 500 characters\n",
        "print(full_episode_script[:500])"
      ],
      "metadata": {
        "colab": {
          "base_uri": "https://localhost:8080/"
        },
        "id": "Ga4pSdYJt85G",
        "outputId": "de5637d9-4731-46f4-f1c0-6a50fcaceebb"
      },
      "execution_count": null,
      "outputs": [
        {
          "output_type": "stream",
          "name": "stdout",
          "text": [
            "### Scene 1 ###\n",
            "# Scene 1\n",
            "\n",
            "INT. PRISON GATES - DAY\n",
            "\n",
            "FRANKIE, early 50s, a bit worn but with a twinkle in his eye, steps through the prison gates, suitcase in hand.\n",
            "\n",
            "FRANKIE\n",
            "(squinting against the sunlight)\n",
            "Well, Frankie, welcome to the rest of your life.\n",
            "\n",
            "[LAUGH TRACK]\n",
            "\n",
            "A beat-up taxi pulls up. AL, the taxi driver, 60s, gruff but friendly, leans out the window.\n",
            "\n",
            "AL\n",
            "You Frankie?\n",
            "\n",
            "FRANKIE\n",
            "(smiles)\n",
            "Depends. You the Feds?\n",
            "\n",
            "[LAUGH TRACK]\n",
            "\n",
            "AL\n",
            "(chuckles)\n",
            "Nope, just your chariot to freedom.\n",
            "\n",
            "FRANKIE\n",
            "(si\n"
          ]
        }
      ]
    },
    {
      "cell_type": "code",
      "source": [
        "path = \"/content/drive/MyDrive/Spring 2025/Gen AI with LLM/Project/pilot episode data/pilot episode 5/baseline_pilot_ep_scrpt_5.txt\"\n",
        "\n",
        "with open(path, \"w\") as f:\n",
        "    f.write(full_episode_script)\n",
        "\n",
        "print(f\"Script saved to {path}\")"
      ],
      "metadata": {
        "colab": {
          "base_uri": "https://localhost:8080/"
        },
        "id": "2Pk2OeRZt9w2",
        "outputId": "2af5be0c-e449-4e31-c41a-61153679d86a"
      },
      "execution_count": null,
      "outputs": [
        {
          "output_type": "stream",
          "name": "stdout",
          "text": [
            "Script saved to /content/drive/MyDrive/Spring 2025/Gen AI with LLM/Project/pilot episode data/pilot episode 5/baseline_pilot_ep_scrpt_5.txt\n"
          ]
        }
      ]
    }
  ]
}