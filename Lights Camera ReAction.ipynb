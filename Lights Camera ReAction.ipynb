{
  "nbformat": 4,
  "nbformat_minor": 0,
  "metadata": {
    "colab": {
      "provenance": [],
      "gpuType": "T4"
    },
    "kernelspec": {
      "name": "python3",
      "display_name": "Python 3"
    },
    "language_info": {
      "name": "python"
    },
    "widgets": {
      "application/vnd.jupyter.widget-state+json": {
        "021b96c054004c0bb233a55b660cbd3a": {
          "model_module": "@jupyter-widgets/controls",
          "model_name": "HBoxModel",
          "model_module_version": "1.5.0",
          "state": {
            "_dom_classes": [],
            "_model_module": "@jupyter-widgets/controls",
            "_model_module_version": "1.5.0",
            "_model_name": "HBoxModel",
            "_view_count": null,
            "_view_module": "@jupyter-widgets/controls",
            "_view_module_version": "1.5.0",
            "_view_name": "HBoxView",
            "box_style": "",
            "children": [
              "IPY_MODEL_36f79e93ddfd4de9b2c44cafa47df945",
              "IPY_MODEL_e3302e2837f5435b9ed800f4be4414ac",
              "IPY_MODEL_2949c5dc2978441bbf138065f4f4e613"
            ],
            "layout": "IPY_MODEL_7d609c8e340f47cd8119e0e135ca87bc"
          }
        },
        "36f79e93ddfd4de9b2c44cafa47df945": {
          "model_module": "@jupyter-widgets/controls",
          "model_name": "HTMLModel",
          "model_module_version": "1.5.0",
          "state": {
            "_dom_classes": [],
            "_model_module": "@jupyter-widgets/controls",
            "_model_module_version": "1.5.0",
            "_model_name": "HTMLModel",
            "_view_count": null,
            "_view_module": "@jupyter-widgets/controls",
            "_view_module_version": "1.5.0",
            "_view_name": "HTMLView",
            "description": "",
            "description_tooltip": null,
            "layout": "IPY_MODEL_d75dde24bac34eb0a90a58262a979223",
            "placeholder": "​",
            "style": "IPY_MODEL_04ca518d30724de1af359d54eeae6d3d",
            "value": "modules.json: 100%"
          }
        },
        "e3302e2837f5435b9ed800f4be4414ac": {
          "model_module": "@jupyter-widgets/controls",
          "model_name": "FloatProgressModel",
          "model_module_version": "1.5.0",
          "state": {
            "_dom_classes": [],
            "_model_module": "@jupyter-widgets/controls",
            "_model_module_version": "1.5.0",
            "_model_name": "FloatProgressModel",
            "_view_count": null,
            "_view_module": "@jupyter-widgets/controls",
            "_view_module_version": "1.5.0",
            "_view_name": "ProgressView",
            "bar_style": "success",
            "description": "",
            "description_tooltip": null,
            "layout": "IPY_MODEL_97f998bfb51a442e9104084540cacde8",
            "max": 349,
            "min": 0,
            "orientation": "horizontal",
            "style": "IPY_MODEL_629d3b35aa2e4e2c9e906caab0437f42",
            "value": 349
          }
        },
        "2949c5dc2978441bbf138065f4f4e613": {
          "model_module": "@jupyter-widgets/controls",
          "model_name": "HTMLModel",
          "model_module_version": "1.5.0",
          "state": {
            "_dom_classes": [],
            "_model_module": "@jupyter-widgets/controls",
            "_model_module_version": "1.5.0",
            "_model_name": "HTMLModel",
            "_view_count": null,
            "_view_module": "@jupyter-widgets/controls",
            "_view_module_version": "1.5.0",
            "_view_name": "HTMLView",
            "description": "",
            "description_tooltip": null,
            "layout": "IPY_MODEL_7bf84749b0de43b5b4126ebfc11840bf",
            "placeholder": "​",
            "style": "IPY_MODEL_0c1956889f4e465088abb49bbbf1c6e3",
            "value": " 349/349 [00:00&lt;00:00, 35.6kB/s]"
          }
        },
        "7d609c8e340f47cd8119e0e135ca87bc": {
          "model_module": "@jupyter-widgets/base",
          "model_name": "LayoutModel",
          "model_module_version": "1.2.0",
          "state": {
            "_model_module": "@jupyter-widgets/base",
            "_model_module_version": "1.2.0",
            "_model_name": "LayoutModel",
            "_view_count": null,
            "_view_module": "@jupyter-widgets/base",
            "_view_module_version": "1.2.0",
            "_view_name": "LayoutView",
            "align_content": null,
            "align_items": null,
            "align_self": null,
            "border": null,
            "bottom": null,
            "display": null,
            "flex": null,
            "flex_flow": null,
            "grid_area": null,
            "grid_auto_columns": null,
            "grid_auto_flow": null,
            "grid_auto_rows": null,
            "grid_column": null,
            "grid_gap": null,
            "grid_row": null,
            "grid_template_areas": null,
            "grid_template_columns": null,
            "grid_template_rows": null,
            "height": null,
            "justify_content": null,
            "justify_items": null,
            "left": null,
            "margin": null,
            "max_height": null,
            "max_width": null,
            "min_height": null,
            "min_width": null,
            "object_fit": null,
            "object_position": null,
            "order": null,
            "overflow": null,
            "overflow_x": null,
            "overflow_y": null,
            "padding": null,
            "right": null,
            "top": null,
            "visibility": null,
            "width": null
          }
        },
        "d75dde24bac34eb0a90a58262a979223": {
          "model_module": "@jupyter-widgets/base",
          "model_name": "LayoutModel",
          "model_module_version": "1.2.0",
          "state": {
            "_model_module": "@jupyter-widgets/base",
            "_model_module_version": "1.2.0",
            "_model_name": "LayoutModel",
            "_view_count": null,
            "_view_module": "@jupyter-widgets/base",
            "_view_module_version": "1.2.0",
            "_view_name": "LayoutView",
            "align_content": null,
            "align_items": null,
            "align_self": null,
            "border": null,
            "bottom": null,
            "display": null,
            "flex": null,
            "flex_flow": null,
            "grid_area": null,
            "grid_auto_columns": null,
            "grid_auto_flow": null,
            "grid_auto_rows": null,
            "grid_column": null,
            "grid_gap": null,
            "grid_row": null,
            "grid_template_areas": null,
            "grid_template_columns": null,
            "grid_template_rows": null,
            "height": null,
            "justify_content": null,
            "justify_items": null,
            "left": null,
            "margin": null,
            "max_height": null,
            "max_width": null,
            "min_height": null,
            "min_width": null,
            "object_fit": null,
            "object_position": null,
            "order": null,
            "overflow": null,
            "overflow_x": null,
            "overflow_y": null,
            "padding": null,
            "right": null,
            "top": null,
            "visibility": null,
            "width": null
          }
        },
        "04ca518d30724de1af359d54eeae6d3d": {
          "model_module": "@jupyter-widgets/controls",
          "model_name": "DescriptionStyleModel",
          "model_module_version": "1.5.0",
          "state": {
            "_model_module": "@jupyter-widgets/controls",
            "_model_module_version": "1.5.0",
            "_model_name": "DescriptionStyleModel",
            "_view_count": null,
            "_view_module": "@jupyter-widgets/base",
            "_view_module_version": "1.2.0",
            "_view_name": "StyleView",
            "description_width": ""
          }
        },
        "97f998bfb51a442e9104084540cacde8": {
          "model_module": "@jupyter-widgets/base",
          "model_name": "LayoutModel",
          "model_module_version": "1.2.0",
          "state": {
            "_model_module": "@jupyter-widgets/base",
            "_model_module_version": "1.2.0",
            "_model_name": "LayoutModel",
            "_view_count": null,
            "_view_module": "@jupyter-widgets/base",
            "_view_module_version": "1.2.0",
            "_view_name": "LayoutView",
            "align_content": null,
            "align_items": null,
            "align_self": null,
            "border": null,
            "bottom": null,
            "display": null,
            "flex": null,
            "flex_flow": null,
            "grid_area": null,
            "grid_auto_columns": null,
            "grid_auto_flow": null,
            "grid_auto_rows": null,
            "grid_column": null,
            "grid_gap": null,
            "grid_row": null,
            "grid_template_areas": null,
            "grid_template_columns": null,
            "grid_template_rows": null,
            "height": null,
            "justify_content": null,
            "justify_items": null,
            "left": null,
            "margin": null,
            "max_height": null,
            "max_width": null,
            "min_height": null,
            "min_width": null,
            "object_fit": null,
            "object_position": null,
            "order": null,
            "overflow": null,
            "overflow_x": null,
            "overflow_y": null,
            "padding": null,
            "right": null,
            "top": null,
            "visibility": null,
            "width": null
          }
        },
        "629d3b35aa2e4e2c9e906caab0437f42": {
          "model_module": "@jupyter-widgets/controls",
          "model_name": "ProgressStyleModel",
          "model_module_version": "1.5.0",
          "state": {
            "_model_module": "@jupyter-widgets/controls",
            "_model_module_version": "1.5.0",
            "_model_name": "ProgressStyleModel",
            "_view_count": null,
            "_view_module": "@jupyter-widgets/base",
            "_view_module_version": "1.2.0",
            "_view_name": "StyleView",
            "bar_color": null,
            "description_width": ""
          }
        },
        "7bf84749b0de43b5b4126ebfc11840bf": {
          "model_module": "@jupyter-widgets/base",
          "model_name": "LayoutModel",
          "model_module_version": "1.2.0",
          "state": {
            "_model_module": "@jupyter-widgets/base",
            "_model_module_version": "1.2.0",
            "_model_name": "LayoutModel",
            "_view_count": null,
            "_view_module": "@jupyter-widgets/base",
            "_view_module_version": "1.2.0",
            "_view_name": "LayoutView",
            "align_content": null,
            "align_items": null,
            "align_self": null,
            "border": null,
            "bottom": null,
            "display": null,
            "flex": null,
            "flex_flow": null,
            "grid_area": null,
            "grid_auto_columns": null,
            "grid_auto_flow": null,
            "grid_auto_rows": null,
            "grid_column": null,
            "grid_gap": null,
            "grid_row": null,
            "grid_template_areas": null,
            "grid_template_columns": null,
            "grid_template_rows": null,
            "height": null,
            "justify_content": null,
            "justify_items": null,
            "left": null,
            "margin": null,
            "max_height": null,
            "max_width": null,
            "min_height": null,
            "min_width": null,
            "object_fit": null,
            "object_position": null,
            "order": null,
            "overflow": null,
            "overflow_x": null,
            "overflow_y": null,
            "padding": null,
            "right": null,
            "top": null,
            "visibility": null,
            "width": null
          }
        },
        "0c1956889f4e465088abb49bbbf1c6e3": {
          "model_module": "@jupyter-widgets/controls",
          "model_name": "DescriptionStyleModel",
          "model_module_version": "1.5.0",
          "state": {
            "_model_module": "@jupyter-widgets/controls",
            "_model_module_version": "1.5.0",
            "_model_name": "DescriptionStyleModel",
            "_view_count": null,
            "_view_module": "@jupyter-widgets/base",
            "_view_module_version": "1.2.0",
            "_view_name": "StyleView",
            "description_width": ""
          }
        },
        "6c1bdafdfee247d48a9c193cc7530b8e": {
          "model_module": "@jupyter-widgets/controls",
          "model_name": "HBoxModel",
          "model_module_version": "1.5.0",
          "state": {
            "_dom_classes": [],
            "_model_module": "@jupyter-widgets/controls",
            "_model_module_version": "1.5.0",
            "_model_name": "HBoxModel",
            "_view_count": null,
            "_view_module": "@jupyter-widgets/controls",
            "_view_module_version": "1.5.0",
            "_view_name": "HBoxView",
            "box_style": "",
            "children": [
              "IPY_MODEL_5a871fa4ed5749519a2ed55ad07e2297",
              "IPY_MODEL_801bcc23ca6a446a99f31177f4a4a700",
              "IPY_MODEL_89be615927f7455280bb414aafc1e944"
            ],
            "layout": "IPY_MODEL_ef69249ceba74aa3aa74afcee3e216fb"
          }
        },
        "5a871fa4ed5749519a2ed55ad07e2297": {
          "model_module": "@jupyter-widgets/controls",
          "model_name": "HTMLModel",
          "model_module_version": "1.5.0",
          "state": {
            "_dom_classes": [],
            "_model_module": "@jupyter-widgets/controls",
            "_model_module_version": "1.5.0",
            "_model_name": "HTMLModel",
            "_view_count": null,
            "_view_module": "@jupyter-widgets/controls",
            "_view_module_version": "1.5.0",
            "_view_name": "HTMLView",
            "description": "",
            "description_tooltip": null,
            "layout": "IPY_MODEL_4aaa1fa84e794aabacd3308973dcbd4f",
            "placeholder": "​",
            "style": "IPY_MODEL_0d40506185574930a8786176f1dc66a7",
            "value": "config_sentence_transformers.json: 100%"
          }
        },
        "801bcc23ca6a446a99f31177f4a4a700": {
          "model_module": "@jupyter-widgets/controls",
          "model_name": "FloatProgressModel",
          "model_module_version": "1.5.0",
          "state": {
            "_dom_classes": [],
            "_model_module": "@jupyter-widgets/controls",
            "_model_module_version": "1.5.0",
            "_model_name": "FloatProgressModel",
            "_view_count": null,
            "_view_module": "@jupyter-widgets/controls",
            "_view_module_version": "1.5.0",
            "_view_name": "ProgressView",
            "bar_style": "success",
            "description": "",
            "description_tooltip": null,
            "layout": "IPY_MODEL_aaf49bb784b94e90bce498ca8a813eb5",
            "max": 116,
            "min": 0,
            "orientation": "horizontal",
            "style": "IPY_MODEL_2676db92369a48fa84e556d97aba2835",
            "value": 116
          }
        },
        "89be615927f7455280bb414aafc1e944": {
          "model_module": "@jupyter-widgets/controls",
          "model_name": "HTMLModel",
          "model_module_version": "1.5.0",
          "state": {
            "_dom_classes": [],
            "_model_module": "@jupyter-widgets/controls",
            "_model_module_version": "1.5.0",
            "_model_name": "HTMLModel",
            "_view_count": null,
            "_view_module": "@jupyter-widgets/controls",
            "_view_module_version": "1.5.0",
            "_view_name": "HTMLView",
            "description": "",
            "description_tooltip": null,
            "layout": "IPY_MODEL_89f8808fcd4d4f8cbf207d91916fc7bf",
            "placeholder": "​",
            "style": "IPY_MODEL_905acd30b8374f03b3f5af4cc54274ba",
            "value": " 116/116 [00:00&lt;00:00, 7.87kB/s]"
          }
        },
        "ef69249ceba74aa3aa74afcee3e216fb": {
          "model_module": "@jupyter-widgets/base",
          "model_name": "LayoutModel",
          "model_module_version": "1.2.0",
          "state": {
            "_model_module": "@jupyter-widgets/base",
            "_model_module_version": "1.2.0",
            "_model_name": "LayoutModel",
            "_view_count": null,
            "_view_module": "@jupyter-widgets/base",
            "_view_module_version": "1.2.0",
            "_view_name": "LayoutView",
            "align_content": null,
            "align_items": null,
            "align_self": null,
            "border": null,
            "bottom": null,
            "display": null,
            "flex": null,
            "flex_flow": null,
            "grid_area": null,
            "grid_auto_columns": null,
            "grid_auto_flow": null,
            "grid_auto_rows": null,
            "grid_column": null,
            "grid_gap": null,
            "grid_row": null,
            "grid_template_areas": null,
            "grid_template_columns": null,
            "grid_template_rows": null,
            "height": null,
            "justify_content": null,
            "justify_items": null,
            "left": null,
            "margin": null,
            "max_height": null,
            "max_width": null,
            "min_height": null,
            "min_width": null,
            "object_fit": null,
            "object_position": null,
            "order": null,
            "overflow": null,
            "overflow_x": null,
            "overflow_y": null,
            "padding": null,
            "right": null,
            "top": null,
            "visibility": null,
            "width": null
          }
        },
        "4aaa1fa84e794aabacd3308973dcbd4f": {
          "model_module": "@jupyter-widgets/base",
          "model_name": "LayoutModel",
          "model_module_version": "1.2.0",
          "state": {
            "_model_module": "@jupyter-widgets/base",
            "_model_module_version": "1.2.0",
            "_model_name": "LayoutModel",
            "_view_count": null,
            "_view_module": "@jupyter-widgets/base",
            "_view_module_version": "1.2.0",
            "_view_name": "LayoutView",
            "align_content": null,
            "align_items": null,
            "align_self": null,
            "border": null,
            "bottom": null,
            "display": null,
            "flex": null,
            "flex_flow": null,
            "grid_area": null,
            "grid_auto_columns": null,
            "grid_auto_flow": null,
            "grid_auto_rows": null,
            "grid_column": null,
            "grid_gap": null,
            "grid_row": null,
            "grid_template_areas": null,
            "grid_template_columns": null,
            "grid_template_rows": null,
            "height": null,
            "justify_content": null,
            "justify_items": null,
            "left": null,
            "margin": null,
            "max_height": null,
            "max_width": null,
            "min_height": null,
            "min_width": null,
            "object_fit": null,
            "object_position": null,
            "order": null,
            "overflow": null,
            "overflow_x": null,
            "overflow_y": null,
            "padding": null,
            "right": null,
            "top": null,
            "visibility": null,
            "width": null
          }
        },
        "0d40506185574930a8786176f1dc66a7": {
          "model_module": "@jupyter-widgets/controls",
          "model_name": "DescriptionStyleModel",
          "model_module_version": "1.5.0",
          "state": {
            "_model_module": "@jupyter-widgets/controls",
            "_model_module_version": "1.5.0",
            "_model_name": "DescriptionStyleModel",
            "_view_count": null,
            "_view_module": "@jupyter-widgets/base",
            "_view_module_version": "1.2.0",
            "_view_name": "StyleView",
            "description_width": ""
          }
        },
        "aaf49bb784b94e90bce498ca8a813eb5": {
          "model_module": "@jupyter-widgets/base",
          "model_name": "LayoutModel",
          "model_module_version": "1.2.0",
          "state": {
            "_model_module": "@jupyter-widgets/base",
            "_model_module_version": "1.2.0",
            "_model_name": "LayoutModel",
            "_view_count": null,
            "_view_module": "@jupyter-widgets/base",
            "_view_module_version": "1.2.0",
            "_view_name": "LayoutView",
            "align_content": null,
            "align_items": null,
            "align_self": null,
            "border": null,
            "bottom": null,
            "display": null,
            "flex": null,
            "flex_flow": null,
            "grid_area": null,
            "grid_auto_columns": null,
            "grid_auto_flow": null,
            "grid_auto_rows": null,
            "grid_column": null,
            "grid_gap": null,
            "grid_row": null,
            "grid_template_areas": null,
            "grid_template_columns": null,
            "grid_template_rows": null,
            "height": null,
            "justify_content": null,
            "justify_items": null,
            "left": null,
            "margin": null,
            "max_height": null,
            "max_width": null,
            "min_height": null,
            "min_width": null,
            "object_fit": null,
            "object_position": null,
            "order": null,
            "overflow": null,
            "overflow_x": null,
            "overflow_y": null,
            "padding": null,
            "right": null,
            "top": null,
            "visibility": null,
            "width": null
          }
        },
        "2676db92369a48fa84e556d97aba2835": {
          "model_module": "@jupyter-widgets/controls",
          "model_name": "ProgressStyleModel",
          "model_module_version": "1.5.0",
          "state": {
            "_model_module": "@jupyter-widgets/controls",
            "_model_module_version": "1.5.0",
            "_model_name": "ProgressStyleModel",
            "_view_count": null,
            "_view_module": "@jupyter-widgets/base",
            "_view_module_version": "1.2.0",
            "_view_name": "StyleView",
            "bar_color": null,
            "description_width": ""
          }
        },
        "89f8808fcd4d4f8cbf207d91916fc7bf": {
          "model_module": "@jupyter-widgets/base",
          "model_name": "LayoutModel",
          "model_module_version": "1.2.0",
          "state": {
            "_model_module": "@jupyter-widgets/base",
            "_model_module_version": "1.2.0",
            "_model_name": "LayoutModel",
            "_view_count": null,
            "_view_module": "@jupyter-widgets/base",
            "_view_module_version": "1.2.0",
            "_view_name": "LayoutView",
            "align_content": null,
            "align_items": null,
            "align_self": null,
            "border": null,
            "bottom": null,
            "display": null,
            "flex": null,
            "flex_flow": null,
            "grid_area": null,
            "grid_auto_columns": null,
            "grid_auto_flow": null,
            "grid_auto_rows": null,
            "grid_column": null,
            "grid_gap": null,
            "grid_row": null,
            "grid_template_areas": null,
            "grid_template_columns": null,
            "grid_template_rows": null,
            "height": null,
            "justify_content": null,
            "justify_items": null,
            "left": null,
            "margin": null,
            "max_height": null,
            "max_width": null,
            "min_height": null,
            "min_width": null,
            "object_fit": null,
            "object_position": null,
            "order": null,
            "overflow": null,
            "overflow_x": null,
            "overflow_y": null,
            "padding": null,
            "right": null,
            "top": null,
            "visibility": null,
            "width": null
          }
        },
        "905acd30b8374f03b3f5af4cc54274ba": {
          "model_module": "@jupyter-widgets/controls",
          "model_name": "DescriptionStyleModel",
          "model_module_version": "1.5.0",
          "state": {
            "_model_module": "@jupyter-widgets/controls",
            "_model_module_version": "1.5.0",
            "_model_name": "DescriptionStyleModel",
            "_view_count": null,
            "_view_module": "@jupyter-widgets/base",
            "_view_module_version": "1.2.0",
            "_view_name": "StyleView",
            "description_width": ""
          }
        },
        "e56ab86569ec4b12851598e522e351a2": {
          "model_module": "@jupyter-widgets/controls",
          "model_name": "HBoxModel",
          "model_module_version": "1.5.0",
          "state": {
            "_dom_classes": [],
            "_model_module": "@jupyter-widgets/controls",
            "_model_module_version": "1.5.0",
            "_model_name": "HBoxModel",
            "_view_count": null,
            "_view_module": "@jupyter-widgets/controls",
            "_view_module_version": "1.5.0",
            "_view_name": "HBoxView",
            "box_style": "",
            "children": [
              "IPY_MODEL_b330726d5c1b47e3bc440939173560f3",
              "IPY_MODEL_1779d757248a444abced3483ae426f32",
              "IPY_MODEL_e6ca92788ab849f5870c17e915ed0b4d"
            ],
            "layout": "IPY_MODEL_8946ddde867f419f8fbb98e0cc4efe8e"
          }
        },
        "b330726d5c1b47e3bc440939173560f3": {
          "model_module": "@jupyter-widgets/controls",
          "model_name": "HTMLModel",
          "model_module_version": "1.5.0",
          "state": {
            "_dom_classes": [],
            "_model_module": "@jupyter-widgets/controls",
            "_model_module_version": "1.5.0",
            "_model_name": "HTMLModel",
            "_view_count": null,
            "_view_module": "@jupyter-widgets/controls",
            "_view_module_version": "1.5.0",
            "_view_name": "HTMLView",
            "description": "",
            "description_tooltip": null,
            "layout": "IPY_MODEL_887387688bcf4808b88ecd0c83e77919",
            "placeholder": "​",
            "style": "IPY_MODEL_aa8742eb4ca943e3a0a25aa9f0fd5428",
            "value": "README.md: 100%"
          }
        },
        "1779d757248a444abced3483ae426f32": {
          "model_module": "@jupyter-widgets/controls",
          "model_name": "FloatProgressModel",
          "model_module_version": "1.5.0",
          "state": {
            "_dom_classes": [],
            "_model_module": "@jupyter-widgets/controls",
            "_model_module_version": "1.5.0",
            "_model_name": "FloatProgressModel",
            "_view_count": null,
            "_view_module": "@jupyter-widgets/controls",
            "_view_module_version": "1.5.0",
            "_view_name": "ProgressView",
            "bar_style": "success",
            "description": "",
            "description_tooltip": null,
            "layout": "IPY_MODEL_f9256354b6404b73b2a493d91818f9c1",
            "max": 10454,
            "min": 0,
            "orientation": "horizontal",
            "style": "IPY_MODEL_20e948ba860046cfbe94c7451306e734",
            "value": 10454
          }
        },
        "e6ca92788ab849f5870c17e915ed0b4d": {
          "model_module": "@jupyter-widgets/controls",
          "model_name": "HTMLModel",
          "model_module_version": "1.5.0",
          "state": {
            "_dom_classes": [],
            "_model_module": "@jupyter-widgets/controls",
            "_model_module_version": "1.5.0",
            "_model_name": "HTMLModel",
            "_view_count": null,
            "_view_module": "@jupyter-widgets/controls",
            "_view_module_version": "1.5.0",
            "_view_name": "HTMLView",
            "description": "",
            "description_tooltip": null,
            "layout": "IPY_MODEL_323ffe68807741769970106315df598a",
            "placeholder": "​",
            "style": "IPY_MODEL_b63a557bfb744512b5223ef7a8d33c9a",
            "value": " 10.5k/10.5k [00:00&lt;00:00, 654kB/s]"
          }
        },
        "8946ddde867f419f8fbb98e0cc4efe8e": {
          "model_module": "@jupyter-widgets/base",
          "model_name": "LayoutModel",
          "model_module_version": "1.2.0",
          "state": {
            "_model_module": "@jupyter-widgets/base",
            "_model_module_version": "1.2.0",
            "_model_name": "LayoutModel",
            "_view_count": null,
            "_view_module": "@jupyter-widgets/base",
            "_view_module_version": "1.2.0",
            "_view_name": "LayoutView",
            "align_content": null,
            "align_items": null,
            "align_self": null,
            "border": null,
            "bottom": null,
            "display": null,
            "flex": null,
            "flex_flow": null,
            "grid_area": null,
            "grid_auto_columns": null,
            "grid_auto_flow": null,
            "grid_auto_rows": null,
            "grid_column": null,
            "grid_gap": null,
            "grid_row": null,
            "grid_template_areas": null,
            "grid_template_columns": null,
            "grid_template_rows": null,
            "height": null,
            "justify_content": null,
            "justify_items": null,
            "left": null,
            "margin": null,
            "max_height": null,
            "max_width": null,
            "min_height": null,
            "min_width": null,
            "object_fit": null,
            "object_position": null,
            "order": null,
            "overflow": null,
            "overflow_x": null,
            "overflow_y": null,
            "padding": null,
            "right": null,
            "top": null,
            "visibility": null,
            "width": null
          }
        },
        "887387688bcf4808b88ecd0c83e77919": {
          "model_module": "@jupyter-widgets/base",
          "model_name": "LayoutModel",
          "model_module_version": "1.2.0",
          "state": {
            "_model_module": "@jupyter-widgets/base",
            "_model_module_version": "1.2.0",
            "_model_name": "LayoutModel",
            "_view_count": null,
            "_view_module": "@jupyter-widgets/base",
            "_view_module_version": "1.2.0",
            "_view_name": "LayoutView",
            "align_content": null,
            "align_items": null,
            "align_self": null,
            "border": null,
            "bottom": null,
            "display": null,
            "flex": null,
            "flex_flow": null,
            "grid_area": null,
            "grid_auto_columns": null,
            "grid_auto_flow": null,
            "grid_auto_rows": null,
            "grid_column": null,
            "grid_gap": null,
            "grid_row": null,
            "grid_template_areas": null,
            "grid_template_columns": null,
            "grid_template_rows": null,
            "height": null,
            "justify_content": null,
            "justify_items": null,
            "left": null,
            "margin": null,
            "max_height": null,
            "max_width": null,
            "min_height": null,
            "min_width": null,
            "object_fit": null,
            "object_position": null,
            "order": null,
            "overflow": null,
            "overflow_x": null,
            "overflow_y": null,
            "padding": null,
            "right": null,
            "top": null,
            "visibility": null,
            "width": null
          }
        },
        "aa8742eb4ca943e3a0a25aa9f0fd5428": {
          "model_module": "@jupyter-widgets/controls",
          "model_name": "DescriptionStyleModel",
          "model_module_version": "1.5.0",
          "state": {
            "_model_module": "@jupyter-widgets/controls",
            "_model_module_version": "1.5.0",
            "_model_name": "DescriptionStyleModel",
            "_view_count": null,
            "_view_module": "@jupyter-widgets/base",
            "_view_module_version": "1.2.0",
            "_view_name": "StyleView",
            "description_width": ""
          }
        },
        "f9256354b6404b73b2a493d91818f9c1": {
          "model_module": "@jupyter-widgets/base",
          "model_name": "LayoutModel",
          "model_module_version": "1.2.0",
          "state": {
            "_model_module": "@jupyter-widgets/base",
            "_model_module_version": "1.2.0",
            "_model_name": "LayoutModel",
            "_view_count": null,
            "_view_module": "@jupyter-widgets/base",
            "_view_module_version": "1.2.0",
            "_view_name": "LayoutView",
            "align_content": null,
            "align_items": null,
            "align_self": null,
            "border": null,
            "bottom": null,
            "display": null,
            "flex": null,
            "flex_flow": null,
            "grid_area": null,
            "grid_auto_columns": null,
            "grid_auto_flow": null,
            "grid_auto_rows": null,
            "grid_column": null,
            "grid_gap": null,
            "grid_row": null,
            "grid_template_areas": null,
            "grid_template_columns": null,
            "grid_template_rows": null,
            "height": null,
            "justify_content": null,
            "justify_items": null,
            "left": null,
            "margin": null,
            "max_height": null,
            "max_width": null,
            "min_height": null,
            "min_width": null,
            "object_fit": null,
            "object_position": null,
            "order": null,
            "overflow": null,
            "overflow_x": null,
            "overflow_y": null,
            "padding": null,
            "right": null,
            "top": null,
            "visibility": null,
            "width": null
          }
        },
        "20e948ba860046cfbe94c7451306e734": {
          "model_module": "@jupyter-widgets/controls",
          "model_name": "ProgressStyleModel",
          "model_module_version": "1.5.0",
          "state": {
            "_model_module": "@jupyter-widgets/controls",
            "_model_module_version": "1.5.0",
            "_model_name": "ProgressStyleModel",
            "_view_count": null,
            "_view_module": "@jupyter-widgets/base",
            "_view_module_version": "1.2.0",
            "_view_name": "StyleView",
            "bar_color": null,
            "description_width": ""
          }
        },
        "323ffe68807741769970106315df598a": {
          "model_module": "@jupyter-widgets/base",
          "model_name": "LayoutModel",
          "model_module_version": "1.2.0",
          "state": {
            "_model_module": "@jupyter-widgets/base",
            "_model_module_version": "1.2.0",
            "_model_name": "LayoutModel",
            "_view_count": null,
            "_view_module": "@jupyter-widgets/base",
            "_view_module_version": "1.2.0",
            "_view_name": "LayoutView",
            "align_content": null,
            "align_items": null,
            "align_self": null,
            "border": null,
            "bottom": null,
            "display": null,
            "flex": null,
            "flex_flow": null,
            "grid_area": null,
            "grid_auto_columns": null,
            "grid_auto_flow": null,
            "grid_auto_rows": null,
            "grid_column": null,
            "grid_gap": null,
            "grid_row": null,
            "grid_template_areas": null,
            "grid_template_columns": null,
            "grid_template_rows": null,
            "height": null,
            "justify_content": null,
            "justify_items": null,
            "left": null,
            "margin": null,
            "max_height": null,
            "max_width": null,
            "min_height": null,
            "min_width": null,
            "object_fit": null,
            "object_position": null,
            "order": null,
            "overflow": null,
            "overflow_x": null,
            "overflow_y": null,
            "padding": null,
            "right": null,
            "top": null,
            "visibility": null,
            "width": null
          }
        },
        "b63a557bfb744512b5223ef7a8d33c9a": {
          "model_module": "@jupyter-widgets/controls",
          "model_name": "DescriptionStyleModel",
          "model_module_version": "1.5.0",
          "state": {
            "_model_module": "@jupyter-widgets/controls",
            "_model_module_version": "1.5.0",
            "_model_name": "DescriptionStyleModel",
            "_view_count": null,
            "_view_module": "@jupyter-widgets/base",
            "_view_module_version": "1.2.0",
            "_view_name": "StyleView",
            "description_width": ""
          }
        },
        "b01ab5286f3e4185b0eb10dd49b8ab25": {
          "model_module": "@jupyter-widgets/controls",
          "model_name": "HBoxModel",
          "model_module_version": "1.5.0",
          "state": {
            "_dom_classes": [],
            "_model_module": "@jupyter-widgets/controls",
            "_model_module_version": "1.5.0",
            "_model_name": "HBoxModel",
            "_view_count": null,
            "_view_module": "@jupyter-widgets/controls",
            "_view_module_version": "1.5.0",
            "_view_name": "HBoxView",
            "box_style": "",
            "children": [
              "IPY_MODEL_268261d8969143d08bc954e09e18cad5",
              "IPY_MODEL_92f9e2cc8d834418bfd85a90b727e623",
              "IPY_MODEL_a018dcadf2cb4e84b6da6b4c4d0fd8e7"
            ],
            "layout": "IPY_MODEL_cba5b265ba5d41d7b2f472851594e97b"
          }
        },
        "268261d8969143d08bc954e09e18cad5": {
          "model_module": "@jupyter-widgets/controls",
          "model_name": "HTMLModel",
          "model_module_version": "1.5.0",
          "state": {
            "_dom_classes": [],
            "_model_module": "@jupyter-widgets/controls",
            "_model_module_version": "1.5.0",
            "_model_name": "HTMLModel",
            "_view_count": null,
            "_view_module": "@jupyter-widgets/controls",
            "_view_module_version": "1.5.0",
            "_view_name": "HTMLView",
            "description": "",
            "description_tooltip": null,
            "layout": "IPY_MODEL_9050df8fc563459ab37690ddafeae549",
            "placeholder": "​",
            "style": "IPY_MODEL_5d051fcdaedc4f70b3593f5c6a815647",
            "value": "sentence_bert_config.json: 100%"
          }
        },
        "92f9e2cc8d834418bfd85a90b727e623": {
          "model_module": "@jupyter-widgets/controls",
          "model_name": "FloatProgressModel",
          "model_module_version": "1.5.0",
          "state": {
            "_dom_classes": [],
            "_model_module": "@jupyter-widgets/controls",
            "_model_module_version": "1.5.0",
            "_model_name": "FloatProgressModel",
            "_view_count": null,
            "_view_module": "@jupyter-widgets/controls",
            "_view_module_version": "1.5.0",
            "_view_name": "ProgressView",
            "bar_style": "success",
            "description": "",
            "description_tooltip": null,
            "layout": "IPY_MODEL_8bf0b436491b4df18fdb1fc30eecffd1",
            "max": 53,
            "min": 0,
            "orientation": "horizontal",
            "style": "IPY_MODEL_480583f675af4b4ab981d8c723d8fb53",
            "value": 53
          }
        },
        "a018dcadf2cb4e84b6da6b4c4d0fd8e7": {
          "model_module": "@jupyter-widgets/controls",
          "model_name": "HTMLModel",
          "model_module_version": "1.5.0",
          "state": {
            "_dom_classes": [],
            "_model_module": "@jupyter-widgets/controls",
            "_model_module_version": "1.5.0",
            "_model_name": "HTMLModel",
            "_view_count": null,
            "_view_module": "@jupyter-widgets/controls",
            "_view_module_version": "1.5.0",
            "_view_name": "HTMLView",
            "description": "",
            "description_tooltip": null,
            "layout": "IPY_MODEL_bad65d78cd224ff2be4441a9e75340f7",
            "placeholder": "​",
            "style": "IPY_MODEL_f8c7dc9ec6784f6bbab9b7fb3e645d8e",
            "value": " 53.0/53.0 [00:00&lt;00:00, 3.12kB/s]"
          }
        },
        "cba5b265ba5d41d7b2f472851594e97b": {
          "model_module": "@jupyter-widgets/base",
          "model_name": "LayoutModel",
          "model_module_version": "1.2.0",
          "state": {
            "_model_module": "@jupyter-widgets/base",
            "_model_module_version": "1.2.0",
            "_model_name": "LayoutModel",
            "_view_count": null,
            "_view_module": "@jupyter-widgets/base",
            "_view_module_version": "1.2.0",
            "_view_name": "LayoutView",
            "align_content": null,
            "align_items": null,
            "align_self": null,
            "border": null,
            "bottom": null,
            "display": null,
            "flex": null,
            "flex_flow": null,
            "grid_area": null,
            "grid_auto_columns": null,
            "grid_auto_flow": null,
            "grid_auto_rows": null,
            "grid_column": null,
            "grid_gap": null,
            "grid_row": null,
            "grid_template_areas": null,
            "grid_template_columns": null,
            "grid_template_rows": null,
            "height": null,
            "justify_content": null,
            "justify_items": null,
            "left": null,
            "margin": null,
            "max_height": null,
            "max_width": null,
            "min_height": null,
            "min_width": null,
            "object_fit": null,
            "object_position": null,
            "order": null,
            "overflow": null,
            "overflow_x": null,
            "overflow_y": null,
            "padding": null,
            "right": null,
            "top": null,
            "visibility": null,
            "width": null
          }
        },
        "9050df8fc563459ab37690ddafeae549": {
          "model_module": "@jupyter-widgets/base",
          "model_name": "LayoutModel",
          "model_module_version": "1.2.0",
          "state": {
            "_model_module": "@jupyter-widgets/base",
            "_model_module_version": "1.2.0",
            "_model_name": "LayoutModel",
            "_view_count": null,
            "_view_module": "@jupyter-widgets/base",
            "_view_module_version": "1.2.0",
            "_view_name": "LayoutView",
            "align_content": null,
            "align_items": null,
            "align_self": null,
            "border": null,
            "bottom": null,
            "display": null,
            "flex": null,
            "flex_flow": null,
            "grid_area": null,
            "grid_auto_columns": null,
            "grid_auto_flow": null,
            "grid_auto_rows": null,
            "grid_column": null,
            "grid_gap": null,
            "grid_row": null,
            "grid_template_areas": null,
            "grid_template_columns": null,
            "grid_template_rows": null,
            "height": null,
            "justify_content": null,
            "justify_items": null,
            "left": null,
            "margin": null,
            "max_height": null,
            "max_width": null,
            "min_height": null,
            "min_width": null,
            "object_fit": null,
            "object_position": null,
            "order": null,
            "overflow": null,
            "overflow_x": null,
            "overflow_y": null,
            "padding": null,
            "right": null,
            "top": null,
            "visibility": null,
            "width": null
          }
        },
        "5d051fcdaedc4f70b3593f5c6a815647": {
          "model_module": "@jupyter-widgets/controls",
          "model_name": "DescriptionStyleModel",
          "model_module_version": "1.5.0",
          "state": {
            "_model_module": "@jupyter-widgets/controls",
            "_model_module_version": "1.5.0",
            "_model_name": "DescriptionStyleModel",
            "_view_count": null,
            "_view_module": "@jupyter-widgets/base",
            "_view_module_version": "1.2.0",
            "_view_name": "StyleView",
            "description_width": ""
          }
        },
        "8bf0b436491b4df18fdb1fc30eecffd1": {
          "model_module": "@jupyter-widgets/base",
          "model_name": "LayoutModel",
          "model_module_version": "1.2.0",
          "state": {
            "_model_module": "@jupyter-widgets/base",
            "_model_module_version": "1.2.0",
            "_model_name": "LayoutModel",
            "_view_count": null,
            "_view_module": "@jupyter-widgets/base",
            "_view_module_version": "1.2.0",
            "_view_name": "LayoutView",
            "align_content": null,
            "align_items": null,
            "align_self": null,
            "border": null,
            "bottom": null,
            "display": null,
            "flex": null,
            "flex_flow": null,
            "grid_area": null,
            "grid_auto_columns": null,
            "grid_auto_flow": null,
            "grid_auto_rows": null,
            "grid_column": null,
            "grid_gap": null,
            "grid_row": null,
            "grid_template_areas": null,
            "grid_template_columns": null,
            "grid_template_rows": null,
            "height": null,
            "justify_content": null,
            "justify_items": null,
            "left": null,
            "margin": null,
            "max_height": null,
            "max_width": null,
            "min_height": null,
            "min_width": null,
            "object_fit": null,
            "object_position": null,
            "order": null,
            "overflow": null,
            "overflow_x": null,
            "overflow_y": null,
            "padding": null,
            "right": null,
            "top": null,
            "visibility": null,
            "width": null
          }
        },
        "480583f675af4b4ab981d8c723d8fb53": {
          "model_module": "@jupyter-widgets/controls",
          "model_name": "ProgressStyleModel",
          "model_module_version": "1.5.0",
          "state": {
            "_model_module": "@jupyter-widgets/controls",
            "_model_module_version": "1.5.0",
            "_model_name": "ProgressStyleModel",
            "_view_count": null,
            "_view_module": "@jupyter-widgets/base",
            "_view_module_version": "1.2.0",
            "_view_name": "StyleView",
            "bar_color": null,
            "description_width": ""
          }
        },
        "bad65d78cd224ff2be4441a9e75340f7": {
          "model_module": "@jupyter-widgets/base",
          "model_name": "LayoutModel",
          "model_module_version": "1.2.0",
          "state": {
            "_model_module": "@jupyter-widgets/base",
            "_model_module_version": "1.2.0",
            "_model_name": "LayoutModel",
            "_view_count": null,
            "_view_module": "@jupyter-widgets/base",
            "_view_module_version": "1.2.0",
            "_view_name": "LayoutView",
            "align_content": null,
            "align_items": null,
            "align_self": null,
            "border": null,
            "bottom": null,
            "display": null,
            "flex": null,
            "flex_flow": null,
            "grid_area": null,
            "grid_auto_columns": null,
            "grid_auto_flow": null,
            "grid_auto_rows": null,
            "grid_column": null,
            "grid_gap": null,
            "grid_row": null,
            "grid_template_areas": null,
            "grid_template_columns": null,
            "grid_template_rows": null,
            "height": null,
            "justify_content": null,
            "justify_items": null,
            "left": null,
            "margin": null,
            "max_height": null,
            "max_width": null,
            "min_height": null,
            "min_width": null,
            "object_fit": null,
            "object_position": null,
            "order": null,
            "overflow": null,
            "overflow_x": null,
            "overflow_y": null,
            "padding": null,
            "right": null,
            "top": null,
            "visibility": null,
            "width": null
          }
        },
        "f8c7dc9ec6784f6bbab9b7fb3e645d8e": {
          "model_module": "@jupyter-widgets/controls",
          "model_name": "DescriptionStyleModel",
          "model_module_version": "1.5.0",
          "state": {
            "_model_module": "@jupyter-widgets/controls",
            "_model_module_version": "1.5.0",
            "_model_name": "DescriptionStyleModel",
            "_view_count": null,
            "_view_module": "@jupyter-widgets/base",
            "_view_module_version": "1.2.0",
            "_view_name": "StyleView",
            "description_width": ""
          }
        },
        "593dc7698c844b3ab240fda74c13606c": {
          "model_module": "@jupyter-widgets/controls",
          "model_name": "HBoxModel",
          "model_module_version": "1.5.0",
          "state": {
            "_dom_classes": [],
            "_model_module": "@jupyter-widgets/controls",
            "_model_module_version": "1.5.0",
            "_model_name": "HBoxModel",
            "_view_count": null,
            "_view_module": "@jupyter-widgets/controls",
            "_view_module_version": "1.5.0",
            "_view_name": "HBoxView",
            "box_style": "",
            "children": [
              "IPY_MODEL_bc4cc51fd8e44292aff16d3ae87890cb",
              "IPY_MODEL_06decadb81c8475f86c5b097e87664d6",
              "IPY_MODEL_5469f41c66ea4e3ea55199bdf4067c97"
            ],
            "layout": "IPY_MODEL_499a6577f11c4fc49a6e7fdb9c2acacf"
          }
        },
        "bc4cc51fd8e44292aff16d3ae87890cb": {
          "model_module": "@jupyter-widgets/controls",
          "model_name": "HTMLModel",
          "model_module_version": "1.5.0",
          "state": {
            "_dom_classes": [],
            "_model_module": "@jupyter-widgets/controls",
            "_model_module_version": "1.5.0",
            "_model_name": "HTMLModel",
            "_view_count": null,
            "_view_module": "@jupyter-widgets/controls",
            "_view_module_version": "1.5.0",
            "_view_name": "HTMLView",
            "description": "",
            "description_tooltip": null,
            "layout": "IPY_MODEL_6788e1ae0009433d965d302cd89fa8ac",
            "placeholder": "​",
            "style": "IPY_MODEL_3476d256da77494a8821ee9263f53f2d",
            "value": "config.json: 100%"
          }
        },
        "06decadb81c8475f86c5b097e87664d6": {
          "model_module": "@jupyter-widgets/controls",
          "model_name": "FloatProgressModel",
          "model_module_version": "1.5.0",
          "state": {
            "_dom_classes": [],
            "_model_module": "@jupyter-widgets/controls",
            "_model_module_version": "1.5.0",
            "_model_name": "FloatProgressModel",
            "_view_count": null,
            "_view_module": "@jupyter-widgets/controls",
            "_view_module_version": "1.5.0",
            "_view_name": "ProgressView",
            "bar_style": "success",
            "description": "",
            "description_tooltip": null,
            "layout": "IPY_MODEL_c2673079dc524cac8f296b823773b173",
            "max": 612,
            "min": 0,
            "orientation": "horizontal",
            "style": "IPY_MODEL_11a5740cc87e4ed4811acf6b951fd1a6",
            "value": 612
          }
        },
        "5469f41c66ea4e3ea55199bdf4067c97": {
          "model_module": "@jupyter-widgets/controls",
          "model_name": "HTMLModel",
          "model_module_version": "1.5.0",
          "state": {
            "_dom_classes": [],
            "_model_module": "@jupyter-widgets/controls",
            "_model_module_version": "1.5.0",
            "_model_name": "HTMLModel",
            "_view_count": null,
            "_view_module": "@jupyter-widgets/controls",
            "_view_module_version": "1.5.0",
            "_view_name": "HTMLView",
            "description": "",
            "description_tooltip": null,
            "layout": "IPY_MODEL_759a8bc75233479691c3f8b6ae229011",
            "placeholder": "​",
            "style": "IPY_MODEL_5a2d0d43d6d244f7904a219c33d7324e",
            "value": " 612/612 [00:00&lt;00:00, 63.4kB/s]"
          }
        },
        "499a6577f11c4fc49a6e7fdb9c2acacf": {
          "model_module": "@jupyter-widgets/base",
          "model_name": "LayoutModel",
          "model_module_version": "1.2.0",
          "state": {
            "_model_module": "@jupyter-widgets/base",
            "_model_module_version": "1.2.0",
            "_model_name": "LayoutModel",
            "_view_count": null,
            "_view_module": "@jupyter-widgets/base",
            "_view_module_version": "1.2.0",
            "_view_name": "LayoutView",
            "align_content": null,
            "align_items": null,
            "align_self": null,
            "border": null,
            "bottom": null,
            "display": null,
            "flex": null,
            "flex_flow": null,
            "grid_area": null,
            "grid_auto_columns": null,
            "grid_auto_flow": null,
            "grid_auto_rows": null,
            "grid_column": null,
            "grid_gap": null,
            "grid_row": null,
            "grid_template_areas": null,
            "grid_template_columns": null,
            "grid_template_rows": null,
            "height": null,
            "justify_content": null,
            "justify_items": null,
            "left": null,
            "margin": null,
            "max_height": null,
            "max_width": null,
            "min_height": null,
            "min_width": null,
            "object_fit": null,
            "object_position": null,
            "order": null,
            "overflow": null,
            "overflow_x": null,
            "overflow_y": null,
            "padding": null,
            "right": null,
            "top": null,
            "visibility": null,
            "width": null
          }
        },
        "6788e1ae0009433d965d302cd89fa8ac": {
          "model_module": "@jupyter-widgets/base",
          "model_name": "LayoutModel",
          "model_module_version": "1.2.0",
          "state": {
            "_model_module": "@jupyter-widgets/base",
            "_model_module_version": "1.2.0",
            "_model_name": "LayoutModel",
            "_view_count": null,
            "_view_module": "@jupyter-widgets/base",
            "_view_module_version": "1.2.0",
            "_view_name": "LayoutView",
            "align_content": null,
            "align_items": null,
            "align_self": null,
            "border": null,
            "bottom": null,
            "display": null,
            "flex": null,
            "flex_flow": null,
            "grid_area": null,
            "grid_auto_columns": null,
            "grid_auto_flow": null,
            "grid_auto_rows": null,
            "grid_column": null,
            "grid_gap": null,
            "grid_row": null,
            "grid_template_areas": null,
            "grid_template_columns": null,
            "grid_template_rows": null,
            "height": null,
            "justify_content": null,
            "justify_items": null,
            "left": null,
            "margin": null,
            "max_height": null,
            "max_width": null,
            "min_height": null,
            "min_width": null,
            "object_fit": null,
            "object_position": null,
            "order": null,
            "overflow": null,
            "overflow_x": null,
            "overflow_y": null,
            "padding": null,
            "right": null,
            "top": null,
            "visibility": null,
            "width": null
          }
        },
        "3476d256da77494a8821ee9263f53f2d": {
          "model_module": "@jupyter-widgets/controls",
          "model_name": "DescriptionStyleModel",
          "model_module_version": "1.5.0",
          "state": {
            "_model_module": "@jupyter-widgets/controls",
            "_model_module_version": "1.5.0",
            "_model_name": "DescriptionStyleModel",
            "_view_count": null,
            "_view_module": "@jupyter-widgets/base",
            "_view_module_version": "1.2.0",
            "_view_name": "StyleView",
            "description_width": ""
          }
        },
        "c2673079dc524cac8f296b823773b173": {
          "model_module": "@jupyter-widgets/base",
          "model_name": "LayoutModel",
          "model_module_version": "1.2.0",
          "state": {
            "_model_module": "@jupyter-widgets/base",
            "_model_module_version": "1.2.0",
            "_model_name": "LayoutModel",
            "_view_count": null,
            "_view_module": "@jupyter-widgets/base",
            "_view_module_version": "1.2.0",
            "_view_name": "LayoutView",
            "align_content": null,
            "align_items": null,
            "align_self": null,
            "border": null,
            "bottom": null,
            "display": null,
            "flex": null,
            "flex_flow": null,
            "grid_area": null,
            "grid_auto_columns": null,
            "grid_auto_flow": null,
            "grid_auto_rows": null,
            "grid_column": null,
            "grid_gap": null,
            "grid_row": null,
            "grid_template_areas": null,
            "grid_template_columns": null,
            "grid_template_rows": null,
            "height": null,
            "justify_content": null,
            "justify_items": null,
            "left": null,
            "margin": null,
            "max_height": null,
            "max_width": null,
            "min_height": null,
            "min_width": null,
            "object_fit": null,
            "object_position": null,
            "order": null,
            "overflow": null,
            "overflow_x": null,
            "overflow_y": null,
            "padding": null,
            "right": null,
            "top": null,
            "visibility": null,
            "width": null
          }
        },
        "11a5740cc87e4ed4811acf6b951fd1a6": {
          "model_module": "@jupyter-widgets/controls",
          "model_name": "ProgressStyleModel",
          "model_module_version": "1.5.0",
          "state": {
            "_model_module": "@jupyter-widgets/controls",
            "_model_module_version": "1.5.0",
            "_model_name": "ProgressStyleModel",
            "_view_count": null,
            "_view_module": "@jupyter-widgets/base",
            "_view_module_version": "1.2.0",
            "_view_name": "StyleView",
            "bar_color": null,
            "description_width": ""
          }
        },
        "759a8bc75233479691c3f8b6ae229011": {
          "model_module": "@jupyter-widgets/base",
          "model_name": "LayoutModel",
          "model_module_version": "1.2.0",
          "state": {
            "_model_module": "@jupyter-widgets/base",
            "_model_module_version": "1.2.0",
            "_model_name": "LayoutModel",
            "_view_count": null,
            "_view_module": "@jupyter-widgets/base",
            "_view_module_version": "1.2.0",
            "_view_name": "LayoutView",
            "align_content": null,
            "align_items": null,
            "align_self": null,
            "border": null,
            "bottom": null,
            "display": null,
            "flex": null,
            "flex_flow": null,
            "grid_area": null,
            "grid_auto_columns": null,
            "grid_auto_flow": null,
            "grid_auto_rows": null,
            "grid_column": null,
            "grid_gap": null,
            "grid_row": null,
            "grid_template_areas": null,
            "grid_template_columns": null,
            "grid_template_rows": null,
            "height": null,
            "justify_content": null,
            "justify_items": null,
            "left": null,
            "margin": null,
            "max_height": null,
            "max_width": null,
            "min_height": null,
            "min_width": null,
            "object_fit": null,
            "object_position": null,
            "order": null,
            "overflow": null,
            "overflow_x": null,
            "overflow_y": null,
            "padding": null,
            "right": null,
            "top": null,
            "visibility": null,
            "width": null
          }
        },
        "5a2d0d43d6d244f7904a219c33d7324e": {
          "model_module": "@jupyter-widgets/controls",
          "model_name": "DescriptionStyleModel",
          "model_module_version": "1.5.0",
          "state": {
            "_model_module": "@jupyter-widgets/controls",
            "_model_module_version": "1.5.0",
            "_model_name": "DescriptionStyleModel",
            "_view_count": null,
            "_view_module": "@jupyter-widgets/base",
            "_view_module_version": "1.2.0",
            "_view_name": "StyleView",
            "description_width": ""
          }
        },
        "e3b0d93c8ad641479f3f874a8cfad860": {
          "model_module": "@jupyter-widgets/controls",
          "model_name": "HBoxModel",
          "model_module_version": "1.5.0",
          "state": {
            "_dom_classes": [],
            "_model_module": "@jupyter-widgets/controls",
            "_model_module_version": "1.5.0",
            "_model_name": "HBoxModel",
            "_view_count": null,
            "_view_module": "@jupyter-widgets/controls",
            "_view_module_version": "1.5.0",
            "_view_name": "HBoxView",
            "box_style": "",
            "children": [
              "IPY_MODEL_557bee96e37d43f5ab289aa01f4f1739",
              "IPY_MODEL_9c99ce6739144a8fac1fdeda8ffa3a84",
              "IPY_MODEL_60814d7aafe84ad090666dbd3b87cf3a"
            ],
            "layout": "IPY_MODEL_5e4292af21ea49b1a98f302ac5931584"
          }
        },
        "557bee96e37d43f5ab289aa01f4f1739": {
          "model_module": "@jupyter-widgets/controls",
          "model_name": "HTMLModel",
          "model_module_version": "1.5.0",
          "state": {
            "_dom_classes": [],
            "_model_module": "@jupyter-widgets/controls",
            "_model_module_version": "1.5.0",
            "_model_name": "HTMLModel",
            "_view_count": null,
            "_view_module": "@jupyter-widgets/controls",
            "_view_module_version": "1.5.0",
            "_view_name": "HTMLView",
            "description": "",
            "description_tooltip": null,
            "layout": "IPY_MODEL_afddbfcd10784e87bc455bee70cb0044",
            "placeholder": "​",
            "style": "IPY_MODEL_56de243836ab40cd830b8829e2a18eb4",
            "value": "model.safetensors: 100%"
          }
        },
        "9c99ce6739144a8fac1fdeda8ffa3a84": {
          "model_module": "@jupyter-widgets/controls",
          "model_name": "FloatProgressModel",
          "model_module_version": "1.5.0",
          "state": {
            "_dom_classes": [],
            "_model_module": "@jupyter-widgets/controls",
            "_model_module_version": "1.5.0",
            "_model_name": "FloatProgressModel",
            "_view_count": null,
            "_view_module": "@jupyter-widgets/controls",
            "_view_module_version": "1.5.0",
            "_view_name": "ProgressView",
            "bar_style": "success",
            "description": "",
            "description_tooltip": null,
            "layout": "IPY_MODEL_e76321d422b04fd1b99b5c91e404ddf9",
            "max": 90868376,
            "min": 0,
            "orientation": "horizontal",
            "style": "IPY_MODEL_b6e1b51452344af0ac05520aa004fc1d",
            "value": 90868376
          }
        },
        "60814d7aafe84ad090666dbd3b87cf3a": {
          "model_module": "@jupyter-widgets/controls",
          "model_name": "HTMLModel",
          "model_module_version": "1.5.0",
          "state": {
            "_dom_classes": [],
            "_model_module": "@jupyter-widgets/controls",
            "_model_module_version": "1.5.0",
            "_model_name": "HTMLModel",
            "_view_count": null,
            "_view_module": "@jupyter-widgets/controls",
            "_view_module_version": "1.5.0",
            "_view_name": "HTMLView",
            "description": "",
            "description_tooltip": null,
            "layout": "IPY_MODEL_a78704d3c9e847329897a737c3f0d8ab",
            "placeholder": "​",
            "style": "IPY_MODEL_48ca8d177637454b81343e8b8a12e661",
            "value": " 90.9M/90.9M [00:01&lt;00:00, 85.9MB/s]"
          }
        },
        "5e4292af21ea49b1a98f302ac5931584": {
          "model_module": "@jupyter-widgets/base",
          "model_name": "LayoutModel",
          "model_module_version": "1.2.0",
          "state": {
            "_model_module": "@jupyter-widgets/base",
            "_model_module_version": "1.2.0",
            "_model_name": "LayoutModel",
            "_view_count": null,
            "_view_module": "@jupyter-widgets/base",
            "_view_module_version": "1.2.0",
            "_view_name": "LayoutView",
            "align_content": null,
            "align_items": null,
            "align_self": null,
            "border": null,
            "bottom": null,
            "display": null,
            "flex": null,
            "flex_flow": null,
            "grid_area": null,
            "grid_auto_columns": null,
            "grid_auto_flow": null,
            "grid_auto_rows": null,
            "grid_column": null,
            "grid_gap": null,
            "grid_row": null,
            "grid_template_areas": null,
            "grid_template_columns": null,
            "grid_template_rows": null,
            "height": null,
            "justify_content": null,
            "justify_items": null,
            "left": null,
            "margin": null,
            "max_height": null,
            "max_width": null,
            "min_height": null,
            "min_width": null,
            "object_fit": null,
            "object_position": null,
            "order": null,
            "overflow": null,
            "overflow_x": null,
            "overflow_y": null,
            "padding": null,
            "right": null,
            "top": null,
            "visibility": null,
            "width": null
          }
        },
        "afddbfcd10784e87bc455bee70cb0044": {
          "model_module": "@jupyter-widgets/base",
          "model_name": "LayoutModel",
          "model_module_version": "1.2.0",
          "state": {
            "_model_module": "@jupyter-widgets/base",
            "_model_module_version": "1.2.0",
            "_model_name": "LayoutModel",
            "_view_count": null,
            "_view_module": "@jupyter-widgets/base",
            "_view_module_version": "1.2.0",
            "_view_name": "LayoutView",
            "align_content": null,
            "align_items": null,
            "align_self": null,
            "border": null,
            "bottom": null,
            "display": null,
            "flex": null,
            "flex_flow": null,
            "grid_area": null,
            "grid_auto_columns": null,
            "grid_auto_flow": null,
            "grid_auto_rows": null,
            "grid_column": null,
            "grid_gap": null,
            "grid_row": null,
            "grid_template_areas": null,
            "grid_template_columns": null,
            "grid_template_rows": null,
            "height": null,
            "justify_content": null,
            "justify_items": null,
            "left": null,
            "margin": null,
            "max_height": null,
            "max_width": null,
            "min_height": null,
            "min_width": null,
            "object_fit": null,
            "object_position": null,
            "order": null,
            "overflow": null,
            "overflow_x": null,
            "overflow_y": null,
            "padding": null,
            "right": null,
            "top": null,
            "visibility": null,
            "width": null
          }
        },
        "56de243836ab40cd830b8829e2a18eb4": {
          "model_module": "@jupyter-widgets/controls",
          "model_name": "DescriptionStyleModel",
          "model_module_version": "1.5.0",
          "state": {
            "_model_module": "@jupyter-widgets/controls",
            "_model_module_version": "1.5.0",
            "_model_name": "DescriptionStyleModel",
            "_view_count": null,
            "_view_module": "@jupyter-widgets/base",
            "_view_module_version": "1.2.0",
            "_view_name": "StyleView",
            "description_width": ""
          }
        },
        "e76321d422b04fd1b99b5c91e404ddf9": {
          "model_module": "@jupyter-widgets/base",
          "model_name": "LayoutModel",
          "model_module_version": "1.2.0",
          "state": {
            "_model_module": "@jupyter-widgets/base",
            "_model_module_version": "1.2.0",
            "_model_name": "LayoutModel",
            "_view_count": null,
            "_view_module": "@jupyter-widgets/base",
            "_view_module_version": "1.2.0",
            "_view_name": "LayoutView",
            "align_content": null,
            "align_items": null,
            "align_self": null,
            "border": null,
            "bottom": null,
            "display": null,
            "flex": null,
            "flex_flow": null,
            "grid_area": null,
            "grid_auto_columns": null,
            "grid_auto_flow": null,
            "grid_auto_rows": null,
            "grid_column": null,
            "grid_gap": null,
            "grid_row": null,
            "grid_template_areas": null,
            "grid_template_columns": null,
            "grid_template_rows": null,
            "height": null,
            "justify_content": null,
            "justify_items": null,
            "left": null,
            "margin": null,
            "max_height": null,
            "max_width": null,
            "min_height": null,
            "min_width": null,
            "object_fit": null,
            "object_position": null,
            "order": null,
            "overflow": null,
            "overflow_x": null,
            "overflow_y": null,
            "padding": null,
            "right": null,
            "top": null,
            "visibility": null,
            "width": null
          }
        },
        "b6e1b51452344af0ac05520aa004fc1d": {
          "model_module": "@jupyter-widgets/controls",
          "model_name": "ProgressStyleModel",
          "model_module_version": "1.5.0",
          "state": {
            "_model_module": "@jupyter-widgets/controls",
            "_model_module_version": "1.5.0",
            "_model_name": "ProgressStyleModel",
            "_view_count": null,
            "_view_module": "@jupyter-widgets/base",
            "_view_module_version": "1.2.0",
            "_view_name": "StyleView",
            "bar_color": null,
            "description_width": ""
          }
        },
        "a78704d3c9e847329897a737c3f0d8ab": {
          "model_module": "@jupyter-widgets/base",
          "model_name": "LayoutModel",
          "model_module_version": "1.2.0",
          "state": {
            "_model_module": "@jupyter-widgets/base",
            "_model_module_version": "1.2.0",
            "_model_name": "LayoutModel",
            "_view_count": null,
            "_view_module": "@jupyter-widgets/base",
            "_view_module_version": "1.2.0",
            "_view_name": "LayoutView",
            "align_content": null,
            "align_items": null,
            "align_self": null,
            "border": null,
            "bottom": null,
            "display": null,
            "flex": null,
            "flex_flow": null,
            "grid_area": null,
            "grid_auto_columns": null,
            "grid_auto_flow": null,
            "grid_auto_rows": null,
            "grid_column": null,
            "grid_gap": null,
            "grid_row": null,
            "grid_template_areas": null,
            "grid_template_columns": null,
            "grid_template_rows": null,
            "height": null,
            "justify_content": null,
            "justify_items": null,
            "left": null,
            "margin": null,
            "max_height": null,
            "max_width": null,
            "min_height": null,
            "min_width": null,
            "object_fit": null,
            "object_position": null,
            "order": null,
            "overflow": null,
            "overflow_x": null,
            "overflow_y": null,
            "padding": null,
            "right": null,
            "top": null,
            "visibility": null,
            "width": null
          }
        },
        "48ca8d177637454b81343e8b8a12e661": {
          "model_module": "@jupyter-widgets/controls",
          "model_name": "DescriptionStyleModel",
          "model_module_version": "1.5.0",
          "state": {
            "_model_module": "@jupyter-widgets/controls",
            "_model_module_version": "1.5.0",
            "_model_name": "DescriptionStyleModel",
            "_view_count": null,
            "_view_module": "@jupyter-widgets/base",
            "_view_module_version": "1.2.0",
            "_view_name": "StyleView",
            "description_width": ""
          }
        },
        "e4155557d72e48d49de2f5f3fe810f58": {
          "model_module": "@jupyter-widgets/controls",
          "model_name": "HBoxModel",
          "model_module_version": "1.5.0",
          "state": {
            "_dom_classes": [],
            "_model_module": "@jupyter-widgets/controls",
            "_model_module_version": "1.5.0",
            "_model_name": "HBoxModel",
            "_view_count": null,
            "_view_module": "@jupyter-widgets/controls",
            "_view_module_version": "1.5.0",
            "_view_name": "HBoxView",
            "box_style": "",
            "children": [
              "IPY_MODEL_b49ea92414ea409e9d5e424e6e584857",
              "IPY_MODEL_deaa75998cbe41319cae5b3f3c011930",
              "IPY_MODEL_610ab4abb2d34943a7af4cc68368fd07"
            ],
            "layout": "IPY_MODEL_d76f479044244803b9b89d77468e67bd"
          }
        },
        "b49ea92414ea409e9d5e424e6e584857": {
          "model_module": "@jupyter-widgets/controls",
          "model_name": "HTMLModel",
          "model_module_version": "1.5.0",
          "state": {
            "_dom_classes": [],
            "_model_module": "@jupyter-widgets/controls",
            "_model_module_version": "1.5.0",
            "_model_name": "HTMLModel",
            "_view_count": null,
            "_view_module": "@jupyter-widgets/controls",
            "_view_module_version": "1.5.0",
            "_view_name": "HTMLView",
            "description": "",
            "description_tooltip": null,
            "layout": "IPY_MODEL_ccc2974d973d4c81af6be46662993416",
            "placeholder": "​",
            "style": "IPY_MODEL_fdab52e006514d4799ef2b1fb76f6ddc",
            "value": "tokenizer_config.json: 100%"
          }
        },
        "deaa75998cbe41319cae5b3f3c011930": {
          "model_module": "@jupyter-widgets/controls",
          "model_name": "FloatProgressModel",
          "model_module_version": "1.5.0",
          "state": {
            "_dom_classes": [],
            "_model_module": "@jupyter-widgets/controls",
            "_model_module_version": "1.5.0",
            "_model_name": "FloatProgressModel",
            "_view_count": null,
            "_view_module": "@jupyter-widgets/controls",
            "_view_module_version": "1.5.0",
            "_view_name": "ProgressView",
            "bar_style": "success",
            "description": "",
            "description_tooltip": null,
            "layout": "IPY_MODEL_d042acb7e38e46e182295a7475267e8f",
            "max": 350,
            "min": 0,
            "orientation": "horizontal",
            "style": "IPY_MODEL_61b0f307cb1c458ab3454745c7e0c28a",
            "value": 350
          }
        },
        "610ab4abb2d34943a7af4cc68368fd07": {
          "model_module": "@jupyter-widgets/controls",
          "model_name": "HTMLModel",
          "model_module_version": "1.5.0",
          "state": {
            "_dom_classes": [],
            "_model_module": "@jupyter-widgets/controls",
            "_model_module_version": "1.5.0",
            "_model_name": "HTMLModel",
            "_view_count": null,
            "_view_module": "@jupyter-widgets/controls",
            "_view_module_version": "1.5.0",
            "_view_name": "HTMLView",
            "description": "",
            "description_tooltip": null,
            "layout": "IPY_MODEL_ca68b80e6c454bd3b7a574f425de2931",
            "placeholder": "​",
            "style": "IPY_MODEL_b2a8b1e064e144628d1ba57b8fe29c7f",
            "value": " 350/350 [00:00&lt;00:00, 20.6kB/s]"
          }
        },
        "d76f479044244803b9b89d77468e67bd": {
          "model_module": "@jupyter-widgets/base",
          "model_name": "LayoutModel",
          "model_module_version": "1.2.0",
          "state": {
            "_model_module": "@jupyter-widgets/base",
            "_model_module_version": "1.2.0",
            "_model_name": "LayoutModel",
            "_view_count": null,
            "_view_module": "@jupyter-widgets/base",
            "_view_module_version": "1.2.0",
            "_view_name": "LayoutView",
            "align_content": null,
            "align_items": null,
            "align_self": null,
            "border": null,
            "bottom": null,
            "display": null,
            "flex": null,
            "flex_flow": null,
            "grid_area": null,
            "grid_auto_columns": null,
            "grid_auto_flow": null,
            "grid_auto_rows": null,
            "grid_column": null,
            "grid_gap": null,
            "grid_row": null,
            "grid_template_areas": null,
            "grid_template_columns": null,
            "grid_template_rows": null,
            "height": null,
            "justify_content": null,
            "justify_items": null,
            "left": null,
            "margin": null,
            "max_height": null,
            "max_width": null,
            "min_height": null,
            "min_width": null,
            "object_fit": null,
            "object_position": null,
            "order": null,
            "overflow": null,
            "overflow_x": null,
            "overflow_y": null,
            "padding": null,
            "right": null,
            "top": null,
            "visibility": null,
            "width": null
          }
        },
        "ccc2974d973d4c81af6be46662993416": {
          "model_module": "@jupyter-widgets/base",
          "model_name": "LayoutModel",
          "model_module_version": "1.2.0",
          "state": {
            "_model_module": "@jupyter-widgets/base",
            "_model_module_version": "1.2.0",
            "_model_name": "LayoutModel",
            "_view_count": null,
            "_view_module": "@jupyter-widgets/base",
            "_view_module_version": "1.2.0",
            "_view_name": "LayoutView",
            "align_content": null,
            "align_items": null,
            "align_self": null,
            "border": null,
            "bottom": null,
            "display": null,
            "flex": null,
            "flex_flow": null,
            "grid_area": null,
            "grid_auto_columns": null,
            "grid_auto_flow": null,
            "grid_auto_rows": null,
            "grid_column": null,
            "grid_gap": null,
            "grid_row": null,
            "grid_template_areas": null,
            "grid_template_columns": null,
            "grid_template_rows": null,
            "height": null,
            "justify_content": null,
            "justify_items": null,
            "left": null,
            "margin": null,
            "max_height": null,
            "max_width": null,
            "min_height": null,
            "min_width": null,
            "object_fit": null,
            "object_position": null,
            "order": null,
            "overflow": null,
            "overflow_x": null,
            "overflow_y": null,
            "padding": null,
            "right": null,
            "top": null,
            "visibility": null,
            "width": null
          }
        },
        "fdab52e006514d4799ef2b1fb76f6ddc": {
          "model_module": "@jupyter-widgets/controls",
          "model_name": "DescriptionStyleModel",
          "model_module_version": "1.5.0",
          "state": {
            "_model_module": "@jupyter-widgets/controls",
            "_model_module_version": "1.5.0",
            "_model_name": "DescriptionStyleModel",
            "_view_count": null,
            "_view_module": "@jupyter-widgets/base",
            "_view_module_version": "1.2.0",
            "_view_name": "StyleView",
            "description_width": ""
          }
        },
        "d042acb7e38e46e182295a7475267e8f": {
          "model_module": "@jupyter-widgets/base",
          "model_name": "LayoutModel",
          "model_module_version": "1.2.0",
          "state": {
            "_model_module": "@jupyter-widgets/base",
            "_model_module_version": "1.2.0",
            "_model_name": "LayoutModel",
            "_view_count": null,
            "_view_module": "@jupyter-widgets/base",
            "_view_module_version": "1.2.0",
            "_view_name": "LayoutView",
            "align_content": null,
            "align_items": null,
            "align_self": null,
            "border": null,
            "bottom": null,
            "display": null,
            "flex": null,
            "flex_flow": null,
            "grid_area": null,
            "grid_auto_columns": null,
            "grid_auto_flow": null,
            "grid_auto_rows": null,
            "grid_column": null,
            "grid_gap": null,
            "grid_row": null,
            "grid_template_areas": null,
            "grid_template_columns": null,
            "grid_template_rows": null,
            "height": null,
            "justify_content": null,
            "justify_items": null,
            "left": null,
            "margin": null,
            "max_height": null,
            "max_width": null,
            "min_height": null,
            "min_width": null,
            "object_fit": null,
            "object_position": null,
            "order": null,
            "overflow": null,
            "overflow_x": null,
            "overflow_y": null,
            "padding": null,
            "right": null,
            "top": null,
            "visibility": null,
            "width": null
          }
        },
        "61b0f307cb1c458ab3454745c7e0c28a": {
          "model_module": "@jupyter-widgets/controls",
          "model_name": "ProgressStyleModel",
          "model_module_version": "1.5.0",
          "state": {
            "_model_module": "@jupyter-widgets/controls",
            "_model_module_version": "1.5.0",
            "_model_name": "ProgressStyleModel",
            "_view_count": null,
            "_view_module": "@jupyter-widgets/base",
            "_view_module_version": "1.2.0",
            "_view_name": "StyleView",
            "bar_color": null,
            "description_width": ""
          }
        },
        "ca68b80e6c454bd3b7a574f425de2931": {
          "model_module": "@jupyter-widgets/base",
          "model_name": "LayoutModel",
          "model_module_version": "1.2.0",
          "state": {
            "_model_module": "@jupyter-widgets/base",
            "_model_module_version": "1.2.0",
            "_model_name": "LayoutModel",
            "_view_count": null,
            "_view_module": "@jupyter-widgets/base",
            "_view_module_version": "1.2.0",
            "_view_name": "LayoutView",
            "align_content": null,
            "align_items": null,
            "align_self": null,
            "border": null,
            "bottom": null,
            "display": null,
            "flex": null,
            "flex_flow": null,
            "grid_area": null,
            "grid_auto_columns": null,
            "grid_auto_flow": null,
            "grid_auto_rows": null,
            "grid_column": null,
            "grid_gap": null,
            "grid_row": null,
            "grid_template_areas": null,
            "grid_template_columns": null,
            "grid_template_rows": null,
            "height": null,
            "justify_content": null,
            "justify_items": null,
            "left": null,
            "margin": null,
            "max_height": null,
            "max_width": null,
            "min_height": null,
            "min_width": null,
            "object_fit": null,
            "object_position": null,
            "order": null,
            "overflow": null,
            "overflow_x": null,
            "overflow_y": null,
            "padding": null,
            "right": null,
            "top": null,
            "visibility": null,
            "width": null
          }
        },
        "b2a8b1e064e144628d1ba57b8fe29c7f": {
          "model_module": "@jupyter-widgets/controls",
          "model_name": "DescriptionStyleModel",
          "model_module_version": "1.5.0",
          "state": {
            "_model_module": "@jupyter-widgets/controls",
            "_model_module_version": "1.5.0",
            "_model_name": "DescriptionStyleModel",
            "_view_count": null,
            "_view_module": "@jupyter-widgets/base",
            "_view_module_version": "1.2.0",
            "_view_name": "StyleView",
            "description_width": ""
          }
        },
        "80b2c8b7d9c246dfaf81cab75b31e974": {
          "model_module": "@jupyter-widgets/controls",
          "model_name": "HBoxModel",
          "model_module_version": "1.5.0",
          "state": {
            "_dom_classes": [],
            "_model_module": "@jupyter-widgets/controls",
            "_model_module_version": "1.5.0",
            "_model_name": "HBoxModel",
            "_view_count": null,
            "_view_module": "@jupyter-widgets/controls",
            "_view_module_version": "1.5.0",
            "_view_name": "HBoxView",
            "box_style": "",
            "children": [
              "IPY_MODEL_99977a14b9c948a3b894e5a27b4d5dd8",
              "IPY_MODEL_5a7a26050a39452ca434c75aa7012c91",
              "IPY_MODEL_b41e07b5da5141b88c32189135c6a133"
            ],
            "layout": "IPY_MODEL_f2143c876ccb461ca68f9278dc912724"
          }
        },
        "99977a14b9c948a3b894e5a27b4d5dd8": {
          "model_module": "@jupyter-widgets/controls",
          "model_name": "HTMLModel",
          "model_module_version": "1.5.0",
          "state": {
            "_dom_classes": [],
            "_model_module": "@jupyter-widgets/controls",
            "_model_module_version": "1.5.0",
            "_model_name": "HTMLModel",
            "_view_count": null,
            "_view_module": "@jupyter-widgets/controls",
            "_view_module_version": "1.5.0",
            "_view_name": "HTMLView",
            "description": "",
            "description_tooltip": null,
            "layout": "IPY_MODEL_653357573b1c459084af3f4e72bc27b5",
            "placeholder": "​",
            "style": "IPY_MODEL_0083e3b6e60943488137dd6ffb8a55a5",
            "value": "vocab.txt: 100%"
          }
        },
        "5a7a26050a39452ca434c75aa7012c91": {
          "model_module": "@jupyter-widgets/controls",
          "model_name": "FloatProgressModel",
          "model_module_version": "1.5.0",
          "state": {
            "_dom_classes": [],
            "_model_module": "@jupyter-widgets/controls",
            "_model_module_version": "1.5.0",
            "_model_name": "FloatProgressModel",
            "_view_count": null,
            "_view_module": "@jupyter-widgets/controls",
            "_view_module_version": "1.5.0",
            "_view_name": "ProgressView",
            "bar_style": "success",
            "description": "",
            "description_tooltip": null,
            "layout": "IPY_MODEL_63145e4867f8461c9395ead5b5498a91",
            "max": 231508,
            "min": 0,
            "orientation": "horizontal",
            "style": "IPY_MODEL_bc006a4447524fe7a9755bb0669901b4",
            "value": 231508
          }
        },
        "b41e07b5da5141b88c32189135c6a133": {
          "model_module": "@jupyter-widgets/controls",
          "model_name": "HTMLModel",
          "model_module_version": "1.5.0",
          "state": {
            "_dom_classes": [],
            "_model_module": "@jupyter-widgets/controls",
            "_model_module_version": "1.5.0",
            "_model_name": "HTMLModel",
            "_view_count": null,
            "_view_module": "@jupyter-widgets/controls",
            "_view_module_version": "1.5.0",
            "_view_name": "HTMLView",
            "description": "",
            "description_tooltip": null,
            "layout": "IPY_MODEL_cc5523f797004da790833b6c4b06df60",
            "placeholder": "​",
            "style": "IPY_MODEL_8b30d55bd35d409c8a82b0fb1dca35c3",
            "value": " 232k/232k [00:00&lt;00:00, 2.25MB/s]"
          }
        },
        "f2143c876ccb461ca68f9278dc912724": {
          "model_module": "@jupyter-widgets/base",
          "model_name": "LayoutModel",
          "model_module_version": "1.2.0",
          "state": {
            "_model_module": "@jupyter-widgets/base",
            "_model_module_version": "1.2.0",
            "_model_name": "LayoutModel",
            "_view_count": null,
            "_view_module": "@jupyter-widgets/base",
            "_view_module_version": "1.2.0",
            "_view_name": "LayoutView",
            "align_content": null,
            "align_items": null,
            "align_self": null,
            "border": null,
            "bottom": null,
            "display": null,
            "flex": null,
            "flex_flow": null,
            "grid_area": null,
            "grid_auto_columns": null,
            "grid_auto_flow": null,
            "grid_auto_rows": null,
            "grid_column": null,
            "grid_gap": null,
            "grid_row": null,
            "grid_template_areas": null,
            "grid_template_columns": null,
            "grid_template_rows": null,
            "height": null,
            "justify_content": null,
            "justify_items": null,
            "left": null,
            "margin": null,
            "max_height": null,
            "max_width": null,
            "min_height": null,
            "min_width": null,
            "object_fit": null,
            "object_position": null,
            "order": null,
            "overflow": null,
            "overflow_x": null,
            "overflow_y": null,
            "padding": null,
            "right": null,
            "top": null,
            "visibility": null,
            "width": null
          }
        },
        "653357573b1c459084af3f4e72bc27b5": {
          "model_module": "@jupyter-widgets/base",
          "model_name": "LayoutModel",
          "model_module_version": "1.2.0",
          "state": {
            "_model_module": "@jupyter-widgets/base",
            "_model_module_version": "1.2.0",
            "_model_name": "LayoutModel",
            "_view_count": null,
            "_view_module": "@jupyter-widgets/base",
            "_view_module_version": "1.2.0",
            "_view_name": "LayoutView",
            "align_content": null,
            "align_items": null,
            "align_self": null,
            "border": null,
            "bottom": null,
            "display": null,
            "flex": null,
            "flex_flow": null,
            "grid_area": null,
            "grid_auto_columns": null,
            "grid_auto_flow": null,
            "grid_auto_rows": null,
            "grid_column": null,
            "grid_gap": null,
            "grid_row": null,
            "grid_template_areas": null,
            "grid_template_columns": null,
            "grid_template_rows": null,
            "height": null,
            "justify_content": null,
            "justify_items": null,
            "left": null,
            "margin": null,
            "max_height": null,
            "max_width": null,
            "min_height": null,
            "min_width": null,
            "object_fit": null,
            "object_position": null,
            "order": null,
            "overflow": null,
            "overflow_x": null,
            "overflow_y": null,
            "padding": null,
            "right": null,
            "top": null,
            "visibility": null,
            "width": null
          }
        },
        "0083e3b6e60943488137dd6ffb8a55a5": {
          "model_module": "@jupyter-widgets/controls",
          "model_name": "DescriptionStyleModel",
          "model_module_version": "1.5.0",
          "state": {
            "_model_module": "@jupyter-widgets/controls",
            "_model_module_version": "1.5.0",
            "_model_name": "DescriptionStyleModel",
            "_view_count": null,
            "_view_module": "@jupyter-widgets/base",
            "_view_module_version": "1.2.0",
            "_view_name": "StyleView",
            "description_width": ""
          }
        },
        "63145e4867f8461c9395ead5b5498a91": {
          "model_module": "@jupyter-widgets/base",
          "model_name": "LayoutModel",
          "model_module_version": "1.2.0",
          "state": {
            "_model_module": "@jupyter-widgets/base",
            "_model_module_version": "1.2.0",
            "_model_name": "LayoutModel",
            "_view_count": null,
            "_view_module": "@jupyter-widgets/base",
            "_view_module_version": "1.2.0",
            "_view_name": "LayoutView",
            "align_content": null,
            "align_items": null,
            "align_self": null,
            "border": null,
            "bottom": null,
            "display": null,
            "flex": null,
            "flex_flow": null,
            "grid_area": null,
            "grid_auto_columns": null,
            "grid_auto_flow": null,
            "grid_auto_rows": null,
            "grid_column": null,
            "grid_gap": null,
            "grid_row": null,
            "grid_template_areas": null,
            "grid_template_columns": null,
            "grid_template_rows": null,
            "height": null,
            "justify_content": null,
            "justify_items": null,
            "left": null,
            "margin": null,
            "max_height": null,
            "max_width": null,
            "min_height": null,
            "min_width": null,
            "object_fit": null,
            "object_position": null,
            "order": null,
            "overflow": null,
            "overflow_x": null,
            "overflow_y": null,
            "padding": null,
            "right": null,
            "top": null,
            "visibility": null,
            "width": null
          }
        },
        "bc006a4447524fe7a9755bb0669901b4": {
          "model_module": "@jupyter-widgets/controls",
          "model_name": "ProgressStyleModel",
          "model_module_version": "1.5.0",
          "state": {
            "_model_module": "@jupyter-widgets/controls",
            "_model_module_version": "1.5.0",
            "_model_name": "ProgressStyleModel",
            "_view_count": null,
            "_view_module": "@jupyter-widgets/base",
            "_view_module_version": "1.2.0",
            "_view_name": "StyleView",
            "bar_color": null,
            "description_width": ""
          }
        },
        "cc5523f797004da790833b6c4b06df60": {
          "model_module": "@jupyter-widgets/base",
          "model_name": "LayoutModel",
          "model_module_version": "1.2.0",
          "state": {
            "_model_module": "@jupyter-widgets/base",
            "_model_module_version": "1.2.0",
            "_model_name": "LayoutModel",
            "_view_count": null,
            "_view_module": "@jupyter-widgets/base",
            "_view_module_version": "1.2.0",
            "_view_name": "LayoutView",
            "align_content": null,
            "align_items": null,
            "align_self": null,
            "border": null,
            "bottom": null,
            "display": null,
            "flex": null,
            "flex_flow": null,
            "grid_area": null,
            "grid_auto_columns": null,
            "grid_auto_flow": null,
            "grid_auto_rows": null,
            "grid_column": null,
            "grid_gap": null,
            "grid_row": null,
            "grid_template_areas": null,
            "grid_template_columns": null,
            "grid_template_rows": null,
            "height": null,
            "justify_content": null,
            "justify_items": null,
            "left": null,
            "margin": null,
            "max_height": null,
            "max_width": null,
            "min_height": null,
            "min_width": null,
            "object_fit": null,
            "object_position": null,
            "order": null,
            "overflow": null,
            "overflow_x": null,
            "overflow_y": null,
            "padding": null,
            "right": null,
            "top": null,
            "visibility": null,
            "width": null
          }
        },
        "8b30d55bd35d409c8a82b0fb1dca35c3": {
          "model_module": "@jupyter-widgets/controls",
          "model_name": "DescriptionStyleModel",
          "model_module_version": "1.5.0",
          "state": {
            "_model_module": "@jupyter-widgets/controls",
            "_model_module_version": "1.5.0",
            "_model_name": "DescriptionStyleModel",
            "_view_count": null,
            "_view_module": "@jupyter-widgets/base",
            "_view_module_version": "1.2.0",
            "_view_name": "StyleView",
            "description_width": ""
          }
        },
        "ead2f335b71d4fc1b5a0314c74f41e88": {
          "model_module": "@jupyter-widgets/controls",
          "model_name": "HBoxModel",
          "model_module_version": "1.5.0",
          "state": {
            "_dom_classes": [],
            "_model_module": "@jupyter-widgets/controls",
            "_model_module_version": "1.5.0",
            "_model_name": "HBoxModel",
            "_view_count": null,
            "_view_module": "@jupyter-widgets/controls",
            "_view_module_version": "1.5.0",
            "_view_name": "HBoxView",
            "box_style": "",
            "children": [
              "IPY_MODEL_7d2d5e21c4df4110b947581928a7caa0",
              "IPY_MODEL_cf27d80ee6cc4bc4acfa3992eb3c5ce2",
              "IPY_MODEL_a16f152bbcb540cb92cc64839cb49105"
            ],
            "layout": "IPY_MODEL_dbca0c53461a41e2b89e54747581e9c4"
          }
        },
        "7d2d5e21c4df4110b947581928a7caa0": {
          "model_module": "@jupyter-widgets/controls",
          "model_name": "HTMLModel",
          "model_module_version": "1.5.0",
          "state": {
            "_dom_classes": [],
            "_model_module": "@jupyter-widgets/controls",
            "_model_module_version": "1.5.0",
            "_model_name": "HTMLModel",
            "_view_count": null,
            "_view_module": "@jupyter-widgets/controls",
            "_view_module_version": "1.5.0",
            "_view_name": "HTMLView",
            "description": "",
            "description_tooltip": null,
            "layout": "IPY_MODEL_45194a45298f49e5b58d9f6e5be8ca7f",
            "placeholder": "​",
            "style": "IPY_MODEL_93e6c4328a814e7cb20fb849b4c62f08",
            "value": "tokenizer.json: 100%"
          }
        },
        "cf27d80ee6cc4bc4acfa3992eb3c5ce2": {
          "model_module": "@jupyter-widgets/controls",
          "model_name": "FloatProgressModel",
          "model_module_version": "1.5.0",
          "state": {
            "_dom_classes": [],
            "_model_module": "@jupyter-widgets/controls",
            "_model_module_version": "1.5.0",
            "_model_name": "FloatProgressModel",
            "_view_count": null,
            "_view_module": "@jupyter-widgets/controls",
            "_view_module_version": "1.5.0",
            "_view_name": "ProgressView",
            "bar_style": "success",
            "description": "",
            "description_tooltip": null,
            "layout": "IPY_MODEL_5d366b8ff5544e0ebe6ae71ade80126b",
            "max": 466247,
            "min": 0,
            "orientation": "horizontal",
            "style": "IPY_MODEL_18fed35f963e4ce49cc64a22f3f84bb3",
            "value": 466247
          }
        },
        "a16f152bbcb540cb92cc64839cb49105": {
          "model_module": "@jupyter-widgets/controls",
          "model_name": "HTMLModel",
          "model_module_version": "1.5.0",
          "state": {
            "_dom_classes": [],
            "_model_module": "@jupyter-widgets/controls",
            "_model_module_version": "1.5.0",
            "_model_name": "HTMLModel",
            "_view_count": null,
            "_view_module": "@jupyter-widgets/controls",
            "_view_module_version": "1.5.0",
            "_view_name": "HTMLView",
            "description": "",
            "description_tooltip": null,
            "layout": "IPY_MODEL_13e39247a33943f48ec966949c2ecdea",
            "placeholder": "​",
            "style": "IPY_MODEL_92650a4ff1ba420c9cd5b5a4e426e83e",
            "value": " 466k/466k [00:00&lt;00:00, 1.96MB/s]"
          }
        },
        "dbca0c53461a41e2b89e54747581e9c4": {
          "model_module": "@jupyter-widgets/base",
          "model_name": "LayoutModel",
          "model_module_version": "1.2.0",
          "state": {
            "_model_module": "@jupyter-widgets/base",
            "_model_module_version": "1.2.0",
            "_model_name": "LayoutModel",
            "_view_count": null,
            "_view_module": "@jupyter-widgets/base",
            "_view_module_version": "1.2.0",
            "_view_name": "LayoutView",
            "align_content": null,
            "align_items": null,
            "align_self": null,
            "border": null,
            "bottom": null,
            "display": null,
            "flex": null,
            "flex_flow": null,
            "grid_area": null,
            "grid_auto_columns": null,
            "grid_auto_flow": null,
            "grid_auto_rows": null,
            "grid_column": null,
            "grid_gap": null,
            "grid_row": null,
            "grid_template_areas": null,
            "grid_template_columns": null,
            "grid_template_rows": null,
            "height": null,
            "justify_content": null,
            "justify_items": null,
            "left": null,
            "margin": null,
            "max_height": null,
            "max_width": null,
            "min_height": null,
            "min_width": null,
            "object_fit": null,
            "object_position": null,
            "order": null,
            "overflow": null,
            "overflow_x": null,
            "overflow_y": null,
            "padding": null,
            "right": null,
            "top": null,
            "visibility": null,
            "width": null
          }
        },
        "45194a45298f49e5b58d9f6e5be8ca7f": {
          "model_module": "@jupyter-widgets/base",
          "model_name": "LayoutModel",
          "model_module_version": "1.2.0",
          "state": {
            "_model_module": "@jupyter-widgets/base",
            "_model_module_version": "1.2.0",
            "_model_name": "LayoutModel",
            "_view_count": null,
            "_view_module": "@jupyter-widgets/base",
            "_view_module_version": "1.2.0",
            "_view_name": "LayoutView",
            "align_content": null,
            "align_items": null,
            "align_self": null,
            "border": null,
            "bottom": null,
            "display": null,
            "flex": null,
            "flex_flow": null,
            "grid_area": null,
            "grid_auto_columns": null,
            "grid_auto_flow": null,
            "grid_auto_rows": null,
            "grid_column": null,
            "grid_gap": null,
            "grid_row": null,
            "grid_template_areas": null,
            "grid_template_columns": null,
            "grid_template_rows": null,
            "height": null,
            "justify_content": null,
            "justify_items": null,
            "left": null,
            "margin": null,
            "max_height": null,
            "max_width": null,
            "min_height": null,
            "min_width": null,
            "object_fit": null,
            "object_position": null,
            "order": null,
            "overflow": null,
            "overflow_x": null,
            "overflow_y": null,
            "padding": null,
            "right": null,
            "top": null,
            "visibility": null,
            "width": null
          }
        },
        "93e6c4328a814e7cb20fb849b4c62f08": {
          "model_module": "@jupyter-widgets/controls",
          "model_name": "DescriptionStyleModel",
          "model_module_version": "1.5.0",
          "state": {
            "_model_module": "@jupyter-widgets/controls",
            "_model_module_version": "1.5.0",
            "_model_name": "DescriptionStyleModel",
            "_view_count": null,
            "_view_module": "@jupyter-widgets/base",
            "_view_module_version": "1.2.0",
            "_view_name": "StyleView",
            "description_width": ""
          }
        },
        "5d366b8ff5544e0ebe6ae71ade80126b": {
          "model_module": "@jupyter-widgets/base",
          "model_name": "LayoutModel",
          "model_module_version": "1.2.0",
          "state": {
            "_model_module": "@jupyter-widgets/base",
            "_model_module_version": "1.2.0",
            "_model_name": "LayoutModel",
            "_view_count": null,
            "_view_module": "@jupyter-widgets/base",
            "_view_module_version": "1.2.0",
            "_view_name": "LayoutView",
            "align_content": null,
            "align_items": null,
            "align_self": null,
            "border": null,
            "bottom": null,
            "display": null,
            "flex": null,
            "flex_flow": null,
            "grid_area": null,
            "grid_auto_columns": null,
            "grid_auto_flow": null,
            "grid_auto_rows": null,
            "grid_column": null,
            "grid_gap": null,
            "grid_row": null,
            "grid_template_areas": null,
            "grid_template_columns": null,
            "grid_template_rows": null,
            "height": null,
            "justify_content": null,
            "justify_items": null,
            "left": null,
            "margin": null,
            "max_height": null,
            "max_width": null,
            "min_height": null,
            "min_width": null,
            "object_fit": null,
            "object_position": null,
            "order": null,
            "overflow": null,
            "overflow_x": null,
            "overflow_y": null,
            "padding": null,
            "right": null,
            "top": null,
            "visibility": null,
            "width": null
          }
        },
        "18fed35f963e4ce49cc64a22f3f84bb3": {
          "model_module": "@jupyter-widgets/controls",
          "model_name": "ProgressStyleModel",
          "model_module_version": "1.5.0",
          "state": {
            "_model_module": "@jupyter-widgets/controls",
            "_model_module_version": "1.5.0",
            "_model_name": "ProgressStyleModel",
            "_view_count": null,
            "_view_module": "@jupyter-widgets/base",
            "_view_module_version": "1.2.0",
            "_view_name": "StyleView",
            "bar_color": null,
            "description_width": ""
          }
        },
        "13e39247a33943f48ec966949c2ecdea": {
          "model_module": "@jupyter-widgets/base",
          "model_name": "LayoutModel",
          "model_module_version": "1.2.0",
          "state": {
            "_model_module": "@jupyter-widgets/base",
            "_model_module_version": "1.2.0",
            "_model_name": "LayoutModel",
            "_view_count": null,
            "_view_module": "@jupyter-widgets/base",
            "_view_module_version": "1.2.0",
            "_view_name": "LayoutView",
            "align_content": null,
            "align_items": null,
            "align_self": null,
            "border": null,
            "bottom": null,
            "display": null,
            "flex": null,
            "flex_flow": null,
            "grid_area": null,
            "grid_auto_columns": null,
            "grid_auto_flow": null,
            "grid_auto_rows": null,
            "grid_column": null,
            "grid_gap": null,
            "grid_row": null,
            "grid_template_areas": null,
            "grid_template_columns": null,
            "grid_template_rows": null,
            "height": null,
            "justify_content": null,
            "justify_items": null,
            "left": null,
            "margin": null,
            "max_height": null,
            "max_width": null,
            "min_height": null,
            "min_width": null,
            "object_fit": null,
            "object_position": null,
            "order": null,
            "overflow": null,
            "overflow_x": null,
            "overflow_y": null,
            "padding": null,
            "right": null,
            "top": null,
            "visibility": null,
            "width": null
          }
        },
        "92650a4ff1ba420c9cd5b5a4e426e83e": {
          "model_module": "@jupyter-widgets/controls",
          "model_name": "DescriptionStyleModel",
          "model_module_version": "1.5.0",
          "state": {
            "_model_module": "@jupyter-widgets/controls",
            "_model_module_version": "1.5.0",
            "_model_name": "DescriptionStyleModel",
            "_view_count": null,
            "_view_module": "@jupyter-widgets/base",
            "_view_module_version": "1.2.0",
            "_view_name": "StyleView",
            "description_width": ""
          }
        },
        "5a2eba3005474441b2dbce85e4edb502": {
          "model_module": "@jupyter-widgets/controls",
          "model_name": "HBoxModel",
          "model_module_version": "1.5.0",
          "state": {
            "_dom_classes": [],
            "_model_module": "@jupyter-widgets/controls",
            "_model_module_version": "1.5.0",
            "_model_name": "HBoxModel",
            "_view_count": null,
            "_view_module": "@jupyter-widgets/controls",
            "_view_module_version": "1.5.0",
            "_view_name": "HBoxView",
            "box_style": "",
            "children": [
              "IPY_MODEL_85cd293bb29a41d1b7b537e60a38a129",
              "IPY_MODEL_26ed1fda21fe422799133a56eb267f84",
              "IPY_MODEL_9a440e4b2b3d4533acc55df98a871d92"
            ],
            "layout": "IPY_MODEL_e6cf915a729343de8f65aea957363b1c"
          }
        },
        "85cd293bb29a41d1b7b537e60a38a129": {
          "model_module": "@jupyter-widgets/controls",
          "model_name": "HTMLModel",
          "model_module_version": "1.5.0",
          "state": {
            "_dom_classes": [],
            "_model_module": "@jupyter-widgets/controls",
            "_model_module_version": "1.5.0",
            "_model_name": "HTMLModel",
            "_view_count": null,
            "_view_module": "@jupyter-widgets/controls",
            "_view_module_version": "1.5.0",
            "_view_name": "HTMLView",
            "description": "",
            "description_tooltip": null,
            "layout": "IPY_MODEL_526c455806f14d5180a2228124926f3d",
            "placeholder": "​",
            "style": "IPY_MODEL_e7e2980d01344760acc78781ce88531f",
            "value": "special_tokens_map.json: 100%"
          }
        },
        "26ed1fda21fe422799133a56eb267f84": {
          "model_module": "@jupyter-widgets/controls",
          "model_name": "FloatProgressModel",
          "model_module_version": "1.5.0",
          "state": {
            "_dom_classes": [],
            "_model_module": "@jupyter-widgets/controls",
            "_model_module_version": "1.5.0",
            "_model_name": "FloatProgressModel",
            "_view_count": null,
            "_view_module": "@jupyter-widgets/controls",
            "_view_module_version": "1.5.0",
            "_view_name": "ProgressView",
            "bar_style": "success",
            "description": "",
            "description_tooltip": null,
            "layout": "IPY_MODEL_8cfe370873244ddba1a6cf81d4710f09",
            "max": 112,
            "min": 0,
            "orientation": "horizontal",
            "style": "IPY_MODEL_53f457d881d44192bef08bf511d164bb",
            "value": 112
          }
        },
        "9a440e4b2b3d4533acc55df98a871d92": {
          "model_module": "@jupyter-widgets/controls",
          "model_name": "HTMLModel",
          "model_module_version": "1.5.0",
          "state": {
            "_dom_classes": [],
            "_model_module": "@jupyter-widgets/controls",
            "_model_module_version": "1.5.0",
            "_model_name": "HTMLModel",
            "_view_count": null,
            "_view_module": "@jupyter-widgets/controls",
            "_view_module_version": "1.5.0",
            "_view_name": "HTMLView",
            "description": "",
            "description_tooltip": null,
            "layout": "IPY_MODEL_89ebbf88054c4e0d9e6c7308a75fceb0",
            "placeholder": "​",
            "style": "IPY_MODEL_d932e3f8348e4cdfbb79d0cb253a704c",
            "value": " 112/112 [00:00&lt;00:00, 11.0kB/s]"
          }
        },
        "e6cf915a729343de8f65aea957363b1c": {
          "model_module": "@jupyter-widgets/base",
          "model_name": "LayoutModel",
          "model_module_version": "1.2.0",
          "state": {
            "_model_module": "@jupyter-widgets/base",
            "_model_module_version": "1.2.0",
            "_model_name": "LayoutModel",
            "_view_count": null,
            "_view_module": "@jupyter-widgets/base",
            "_view_module_version": "1.2.0",
            "_view_name": "LayoutView",
            "align_content": null,
            "align_items": null,
            "align_self": null,
            "border": null,
            "bottom": null,
            "display": null,
            "flex": null,
            "flex_flow": null,
            "grid_area": null,
            "grid_auto_columns": null,
            "grid_auto_flow": null,
            "grid_auto_rows": null,
            "grid_column": null,
            "grid_gap": null,
            "grid_row": null,
            "grid_template_areas": null,
            "grid_template_columns": null,
            "grid_template_rows": null,
            "height": null,
            "justify_content": null,
            "justify_items": null,
            "left": null,
            "margin": null,
            "max_height": null,
            "max_width": null,
            "min_height": null,
            "min_width": null,
            "object_fit": null,
            "object_position": null,
            "order": null,
            "overflow": null,
            "overflow_x": null,
            "overflow_y": null,
            "padding": null,
            "right": null,
            "top": null,
            "visibility": null,
            "width": null
          }
        },
        "526c455806f14d5180a2228124926f3d": {
          "model_module": "@jupyter-widgets/base",
          "model_name": "LayoutModel",
          "model_module_version": "1.2.0",
          "state": {
            "_model_module": "@jupyter-widgets/base",
            "_model_module_version": "1.2.0",
            "_model_name": "LayoutModel",
            "_view_count": null,
            "_view_module": "@jupyter-widgets/base",
            "_view_module_version": "1.2.0",
            "_view_name": "LayoutView",
            "align_content": null,
            "align_items": null,
            "align_self": null,
            "border": null,
            "bottom": null,
            "display": null,
            "flex": null,
            "flex_flow": null,
            "grid_area": null,
            "grid_auto_columns": null,
            "grid_auto_flow": null,
            "grid_auto_rows": null,
            "grid_column": null,
            "grid_gap": null,
            "grid_row": null,
            "grid_template_areas": null,
            "grid_template_columns": null,
            "grid_template_rows": null,
            "height": null,
            "justify_content": null,
            "justify_items": null,
            "left": null,
            "margin": null,
            "max_height": null,
            "max_width": null,
            "min_height": null,
            "min_width": null,
            "object_fit": null,
            "object_position": null,
            "order": null,
            "overflow": null,
            "overflow_x": null,
            "overflow_y": null,
            "padding": null,
            "right": null,
            "top": null,
            "visibility": null,
            "width": null
          }
        },
        "e7e2980d01344760acc78781ce88531f": {
          "model_module": "@jupyter-widgets/controls",
          "model_name": "DescriptionStyleModel",
          "model_module_version": "1.5.0",
          "state": {
            "_model_module": "@jupyter-widgets/controls",
            "_model_module_version": "1.5.0",
            "_model_name": "DescriptionStyleModel",
            "_view_count": null,
            "_view_module": "@jupyter-widgets/base",
            "_view_module_version": "1.2.0",
            "_view_name": "StyleView",
            "description_width": ""
          }
        },
        "8cfe370873244ddba1a6cf81d4710f09": {
          "model_module": "@jupyter-widgets/base",
          "model_name": "LayoutModel",
          "model_module_version": "1.2.0",
          "state": {
            "_model_module": "@jupyter-widgets/base",
            "_model_module_version": "1.2.0",
            "_model_name": "LayoutModel",
            "_view_count": null,
            "_view_module": "@jupyter-widgets/base",
            "_view_module_version": "1.2.0",
            "_view_name": "LayoutView",
            "align_content": null,
            "align_items": null,
            "align_self": null,
            "border": null,
            "bottom": null,
            "display": null,
            "flex": null,
            "flex_flow": null,
            "grid_area": null,
            "grid_auto_columns": null,
            "grid_auto_flow": null,
            "grid_auto_rows": null,
            "grid_column": null,
            "grid_gap": null,
            "grid_row": null,
            "grid_template_areas": null,
            "grid_template_columns": null,
            "grid_template_rows": null,
            "height": null,
            "justify_content": null,
            "justify_items": null,
            "left": null,
            "margin": null,
            "max_height": null,
            "max_width": null,
            "min_height": null,
            "min_width": null,
            "object_fit": null,
            "object_position": null,
            "order": null,
            "overflow": null,
            "overflow_x": null,
            "overflow_y": null,
            "padding": null,
            "right": null,
            "top": null,
            "visibility": null,
            "width": null
          }
        },
        "53f457d881d44192bef08bf511d164bb": {
          "model_module": "@jupyter-widgets/controls",
          "model_name": "ProgressStyleModel",
          "model_module_version": "1.5.0",
          "state": {
            "_model_module": "@jupyter-widgets/controls",
            "_model_module_version": "1.5.0",
            "_model_name": "ProgressStyleModel",
            "_view_count": null,
            "_view_module": "@jupyter-widgets/base",
            "_view_module_version": "1.2.0",
            "_view_name": "StyleView",
            "bar_color": null,
            "description_width": ""
          }
        },
        "89ebbf88054c4e0d9e6c7308a75fceb0": {
          "model_module": "@jupyter-widgets/base",
          "model_name": "LayoutModel",
          "model_module_version": "1.2.0",
          "state": {
            "_model_module": "@jupyter-widgets/base",
            "_model_module_version": "1.2.0",
            "_model_name": "LayoutModel",
            "_view_count": null,
            "_view_module": "@jupyter-widgets/base",
            "_view_module_version": "1.2.0",
            "_view_name": "LayoutView",
            "align_content": null,
            "align_items": null,
            "align_self": null,
            "border": null,
            "bottom": null,
            "display": null,
            "flex": null,
            "flex_flow": null,
            "grid_area": null,
            "grid_auto_columns": null,
            "grid_auto_flow": null,
            "grid_auto_rows": null,
            "grid_column": null,
            "grid_gap": null,
            "grid_row": null,
            "grid_template_areas": null,
            "grid_template_columns": null,
            "grid_template_rows": null,
            "height": null,
            "justify_content": null,
            "justify_items": null,
            "left": null,
            "margin": null,
            "max_height": null,
            "max_width": null,
            "min_height": null,
            "min_width": null,
            "object_fit": null,
            "object_position": null,
            "order": null,
            "overflow": null,
            "overflow_x": null,
            "overflow_y": null,
            "padding": null,
            "right": null,
            "top": null,
            "visibility": null,
            "width": null
          }
        },
        "d932e3f8348e4cdfbb79d0cb253a704c": {
          "model_module": "@jupyter-widgets/controls",
          "model_name": "DescriptionStyleModel",
          "model_module_version": "1.5.0",
          "state": {
            "_model_module": "@jupyter-widgets/controls",
            "_model_module_version": "1.5.0",
            "_model_name": "DescriptionStyleModel",
            "_view_count": null,
            "_view_module": "@jupyter-widgets/base",
            "_view_module_version": "1.2.0",
            "_view_name": "StyleView",
            "description_width": ""
          }
        },
        "1afca3767ffc4f38bf4c9dac2ffa370d": {
          "model_module": "@jupyter-widgets/controls",
          "model_name": "HBoxModel",
          "model_module_version": "1.5.0",
          "state": {
            "_dom_classes": [],
            "_model_module": "@jupyter-widgets/controls",
            "_model_module_version": "1.5.0",
            "_model_name": "HBoxModel",
            "_view_count": null,
            "_view_module": "@jupyter-widgets/controls",
            "_view_module_version": "1.5.0",
            "_view_name": "HBoxView",
            "box_style": "",
            "children": [
              "IPY_MODEL_5dce4db48fa34d77973f8d6059861885",
              "IPY_MODEL_8d65b7dd9dbf4b4bbf5ff0d2af70d2d1",
              "IPY_MODEL_7d7d4663e3ef487da17c14c534c2ad57"
            ],
            "layout": "IPY_MODEL_1cdd393aec5348b3ba9c8bc60427e622"
          }
        },
        "5dce4db48fa34d77973f8d6059861885": {
          "model_module": "@jupyter-widgets/controls",
          "model_name": "HTMLModel",
          "model_module_version": "1.5.0",
          "state": {
            "_dom_classes": [],
            "_model_module": "@jupyter-widgets/controls",
            "_model_module_version": "1.5.0",
            "_model_name": "HTMLModel",
            "_view_count": null,
            "_view_module": "@jupyter-widgets/controls",
            "_view_module_version": "1.5.0",
            "_view_name": "HTMLView",
            "description": "",
            "description_tooltip": null,
            "layout": "IPY_MODEL_9df52e6ad3434eb69eae256cd08fc8ec",
            "placeholder": "​",
            "style": "IPY_MODEL_a3664e1c3c8f45aabd2a05cd2365ecd1",
            "value": "config.json: 100%"
          }
        },
        "8d65b7dd9dbf4b4bbf5ff0d2af70d2d1": {
          "model_module": "@jupyter-widgets/controls",
          "model_name": "FloatProgressModel",
          "model_module_version": "1.5.0",
          "state": {
            "_dom_classes": [],
            "_model_module": "@jupyter-widgets/controls",
            "_model_module_version": "1.5.0",
            "_model_name": "FloatProgressModel",
            "_view_count": null,
            "_view_module": "@jupyter-widgets/controls",
            "_view_module_version": "1.5.0",
            "_view_name": "ProgressView",
            "bar_style": "success",
            "description": "",
            "description_tooltip": null,
            "layout": "IPY_MODEL_211869076f974a65ac1408f3dc25a068",
            "max": 190,
            "min": 0,
            "orientation": "horizontal",
            "style": "IPY_MODEL_e39f38a7195843c18f8c2dbfeafded6e",
            "value": 190
          }
        },
        "7d7d4663e3ef487da17c14c534c2ad57": {
          "model_module": "@jupyter-widgets/controls",
          "model_name": "HTMLModel",
          "model_module_version": "1.5.0",
          "state": {
            "_dom_classes": [],
            "_model_module": "@jupyter-widgets/controls",
            "_model_module_version": "1.5.0",
            "_model_name": "HTMLModel",
            "_view_count": null,
            "_view_module": "@jupyter-widgets/controls",
            "_view_module_version": "1.5.0",
            "_view_name": "HTMLView",
            "description": "",
            "description_tooltip": null,
            "layout": "IPY_MODEL_89ada840ebc44dcb8d42220014fdf0b0",
            "placeholder": "​",
            "style": "IPY_MODEL_3c0e16f48e5e40cfbed39c2167c9de45",
            "value": " 190/190 [00:00&lt;00:00, 14.3kB/s]"
          }
        },
        "1cdd393aec5348b3ba9c8bc60427e622": {
          "model_module": "@jupyter-widgets/base",
          "model_name": "LayoutModel",
          "model_module_version": "1.2.0",
          "state": {
            "_model_module": "@jupyter-widgets/base",
            "_model_module_version": "1.2.0",
            "_model_name": "LayoutModel",
            "_view_count": null,
            "_view_module": "@jupyter-widgets/base",
            "_view_module_version": "1.2.0",
            "_view_name": "LayoutView",
            "align_content": null,
            "align_items": null,
            "align_self": null,
            "border": null,
            "bottom": null,
            "display": null,
            "flex": null,
            "flex_flow": null,
            "grid_area": null,
            "grid_auto_columns": null,
            "grid_auto_flow": null,
            "grid_auto_rows": null,
            "grid_column": null,
            "grid_gap": null,
            "grid_row": null,
            "grid_template_areas": null,
            "grid_template_columns": null,
            "grid_template_rows": null,
            "height": null,
            "justify_content": null,
            "justify_items": null,
            "left": null,
            "margin": null,
            "max_height": null,
            "max_width": null,
            "min_height": null,
            "min_width": null,
            "object_fit": null,
            "object_position": null,
            "order": null,
            "overflow": null,
            "overflow_x": null,
            "overflow_y": null,
            "padding": null,
            "right": null,
            "top": null,
            "visibility": null,
            "width": null
          }
        },
        "9df52e6ad3434eb69eae256cd08fc8ec": {
          "model_module": "@jupyter-widgets/base",
          "model_name": "LayoutModel",
          "model_module_version": "1.2.0",
          "state": {
            "_model_module": "@jupyter-widgets/base",
            "_model_module_version": "1.2.0",
            "_model_name": "LayoutModel",
            "_view_count": null,
            "_view_module": "@jupyter-widgets/base",
            "_view_module_version": "1.2.0",
            "_view_name": "LayoutView",
            "align_content": null,
            "align_items": null,
            "align_self": null,
            "border": null,
            "bottom": null,
            "display": null,
            "flex": null,
            "flex_flow": null,
            "grid_area": null,
            "grid_auto_columns": null,
            "grid_auto_flow": null,
            "grid_auto_rows": null,
            "grid_column": null,
            "grid_gap": null,
            "grid_row": null,
            "grid_template_areas": null,
            "grid_template_columns": null,
            "grid_template_rows": null,
            "height": null,
            "justify_content": null,
            "justify_items": null,
            "left": null,
            "margin": null,
            "max_height": null,
            "max_width": null,
            "min_height": null,
            "min_width": null,
            "object_fit": null,
            "object_position": null,
            "order": null,
            "overflow": null,
            "overflow_x": null,
            "overflow_y": null,
            "padding": null,
            "right": null,
            "top": null,
            "visibility": null,
            "width": null
          }
        },
        "a3664e1c3c8f45aabd2a05cd2365ecd1": {
          "model_module": "@jupyter-widgets/controls",
          "model_name": "DescriptionStyleModel",
          "model_module_version": "1.5.0",
          "state": {
            "_model_module": "@jupyter-widgets/controls",
            "_model_module_version": "1.5.0",
            "_model_name": "DescriptionStyleModel",
            "_view_count": null,
            "_view_module": "@jupyter-widgets/base",
            "_view_module_version": "1.2.0",
            "_view_name": "StyleView",
            "description_width": ""
          }
        },
        "211869076f974a65ac1408f3dc25a068": {
          "model_module": "@jupyter-widgets/base",
          "model_name": "LayoutModel",
          "model_module_version": "1.2.0",
          "state": {
            "_model_module": "@jupyter-widgets/base",
            "_model_module_version": "1.2.0",
            "_model_name": "LayoutModel",
            "_view_count": null,
            "_view_module": "@jupyter-widgets/base",
            "_view_module_version": "1.2.0",
            "_view_name": "LayoutView",
            "align_content": null,
            "align_items": null,
            "align_self": null,
            "border": null,
            "bottom": null,
            "display": null,
            "flex": null,
            "flex_flow": null,
            "grid_area": null,
            "grid_auto_columns": null,
            "grid_auto_flow": null,
            "grid_auto_rows": null,
            "grid_column": null,
            "grid_gap": null,
            "grid_row": null,
            "grid_template_areas": null,
            "grid_template_columns": null,
            "grid_template_rows": null,
            "height": null,
            "justify_content": null,
            "justify_items": null,
            "left": null,
            "margin": null,
            "max_height": null,
            "max_width": null,
            "min_height": null,
            "min_width": null,
            "object_fit": null,
            "object_position": null,
            "order": null,
            "overflow": null,
            "overflow_x": null,
            "overflow_y": null,
            "padding": null,
            "right": null,
            "top": null,
            "visibility": null,
            "width": null
          }
        },
        "e39f38a7195843c18f8c2dbfeafded6e": {
          "model_module": "@jupyter-widgets/controls",
          "model_name": "ProgressStyleModel",
          "model_module_version": "1.5.0",
          "state": {
            "_model_module": "@jupyter-widgets/controls",
            "_model_module_version": "1.5.0",
            "_model_name": "ProgressStyleModel",
            "_view_count": null,
            "_view_module": "@jupyter-widgets/base",
            "_view_module_version": "1.2.0",
            "_view_name": "StyleView",
            "bar_color": null,
            "description_width": ""
          }
        },
        "89ada840ebc44dcb8d42220014fdf0b0": {
          "model_module": "@jupyter-widgets/base",
          "model_name": "LayoutModel",
          "model_module_version": "1.2.0",
          "state": {
            "_model_module": "@jupyter-widgets/base",
            "_model_module_version": "1.2.0",
            "_model_name": "LayoutModel",
            "_view_count": null,
            "_view_module": "@jupyter-widgets/base",
            "_view_module_version": "1.2.0",
            "_view_name": "LayoutView",
            "align_content": null,
            "align_items": null,
            "align_self": null,
            "border": null,
            "bottom": null,
            "display": null,
            "flex": null,
            "flex_flow": null,
            "grid_area": null,
            "grid_auto_columns": null,
            "grid_auto_flow": null,
            "grid_auto_rows": null,
            "grid_column": null,
            "grid_gap": null,
            "grid_row": null,
            "grid_template_areas": null,
            "grid_template_columns": null,
            "grid_template_rows": null,
            "height": null,
            "justify_content": null,
            "justify_items": null,
            "left": null,
            "margin": null,
            "max_height": null,
            "max_width": null,
            "min_height": null,
            "min_width": null,
            "object_fit": null,
            "object_position": null,
            "order": null,
            "overflow": null,
            "overflow_x": null,
            "overflow_y": null,
            "padding": null,
            "right": null,
            "top": null,
            "visibility": null,
            "width": null
          }
        },
        "3c0e16f48e5e40cfbed39c2167c9de45": {
          "model_module": "@jupyter-widgets/controls",
          "model_name": "DescriptionStyleModel",
          "model_module_version": "1.5.0",
          "state": {
            "_model_module": "@jupyter-widgets/controls",
            "_model_module_version": "1.5.0",
            "_model_name": "DescriptionStyleModel",
            "_view_count": null,
            "_view_module": "@jupyter-widgets/base",
            "_view_module_version": "1.2.0",
            "_view_name": "StyleView",
            "description_width": ""
          }
        }
      }
    },
    "accelerator": "GPU"
  },
  "cells": [
    {
      "cell_type": "markdown",
      "source": [
        "# Lights, Camera, ReAction\n",
        "\n",
        "This notebook builds a full sitcom script generation pipeline powered by ReAct-based agents, a framework that combines reasoning (thinking through a problem) with acting (taking structured steps).\n",
        "\n",
        "We start by generating a sitcom concept from creative keywords, then outlining the pilot episode scene-by-scene. Scene 1 is generated directly from the outline to establish the world and tone. After that, each new scene is scripted, reviewed, and improved using specialized ReAct agents, a Character Agent, Comedy Agent, and Environment Agent, that simulate a real sitcom writers' room.\n",
        "\n",
        "---\n",
        "\n",
        "**Benefits of using ReAct agents:**\n",
        "\n",
        "- **More structured and transparent thinking**: agents reason step-by-step before making edits.  \n",
        "- **Dynamic adaptation**: agents flexibly plan the next creative moves based on scene history.  \n",
        "- **Better long-term coherence**: scenes evolve logically, with tracked character growth, running jokes, emotional arcs, and worldbuilding.\n",
        "\n",
        "---\n",
        "\n",
        "After generation, each scene is summarized and stored as metadata, including characters, tone, location, and running jokes, in a vector database. This structured memory lets agents retrieve recent scene information to guide their evaluations and suggestions for new scenes.\n",
        "\n",
        "By combining agent workflows and retrieval-based memory, the system produces scripts with greater consistency, character continuity, and narrative depth.\n"
      ],
      "metadata": {
        "id": "Si2nsv2ClE1h"
      }
    },
    {
      "cell_type": "code",
      "execution_count": 1,
      "metadata": {
        "id": "LuoY6uscnEfB"
      },
      "outputs": [],
      "source": [
        "#!pip install datasets\n",
        "#!pip install sentence-transformers faiss-cpu"
      ]
    },
    {
      "cell_type": "markdown",
      "source": [
        "## Mounting Drive and Appending System"
      ],
      "metadata": {
        "id": "ofEhivTyplTz"
      }
    },
    {
      "cell_type": "code",
      "source": [
        "# Import necessary modules\n",
        "from google.colab import drive\n",
        "import sys\n",
        "\n",
        "# Mount Google Drive to access files stored in your Google Drive\n",
        "drive.mount('/content/drive')\n",
        "\n",
        "# NOTE: Update the paths below to match the location of your project files in Google Drive.\n",
        "# Replace with your own directory if different.\n",
        "\n",
        "# Add the main 'utils' directory to Python's module search path\n",
        "# This allows you to import custom utility modules from this folder\n",
        "sys.path.append(\"/content/drive/MyDrive/Spring 2025/Gen AI with LLM/Project/utils\")\n",
        "\n",
        "# Add the 'agents' subdirectory to the module search path\n",
        "# Useful if you have agent-specific Python scripts you want to import\n",
        "sys.path.append(\"/content/drive/MyDrive/Spring 2025/Gen AI with LLM/Project/utils/agents\")"
      ],
      "metadata": {
        "colab": {
          "base_uri": "https://localhost:8080/"
        },
        "id": "j251JmmEogd5",
        "outputId": "5c07d4ac-d16a-4eca-aefb-b01576ae1867"
      },
      "execution_count": 2,
      "outputs": [
        {
          "output_type": "stream",
          "name": "stdout",
          "text": [
            "Drive already mounted at /content/drive; to attempt to forcibly remount, call drive.mount(\"/content/drive\", force_remount=True).\n"
          ]
        }
      ]
    },
    {
      "cell_type": "code",
      "source": [
        "'''\n",
        "TO DELETE\n",
        "\n",
        "\n",
        "import importlib\n",
        "import agent_evaluation\n",
        "\n",
        "importlib.reload(agent_evaluation)\n",
        "'''"
      ],
      "metadata": {
        "id": "uPSEANSTDSzl",
        "colab": {
          "base_uri": "https://localhost:8080/",
          "height": 35
        },
        "outputId": "af2b87cd-9050-4e32-ea50-7255899bb745"
      },
      "execution_count": 3,
      "outputs": [
        {
          "output_type": "execute_result",
          "data": {
            "text/plain": [
              "'\\nTO DELETE\\n\\n\\nimport importlib\\nimport agent_evaluation\\n\\nimportlib.reload(agent_evaluation)\\n'"
            ],
            "application/vnd.google.colaboratory.intrinsic+json": {
              "type": "string"
            }
          },
          "metadata": {},
          "execution_count": 3
        }
      ]
    },
    {
      "cell_type": "markdown",
      "source": [
        "## Importing Libraries and Packages"
      ],
      "metadata": {
        "id": "2CwIJbulfC28"
      }
    },
    {
      "cell_type": "code",
      "source": [
        "# Import sitcom agents responsible for generating specific scene elements\n",
        "from agents.character_agent import CharacterAgent\n",
        "from agents.comedy_agent import ComedicAgent\n",
        "from agents.environment_agent import EnvironmentAgent\n",
        "from agents.scene_planner_agent import ScenePlannerAgent\n",
        "\n",
        "# Import evaluation functions to assess the quality of generated scenes\n",
        "from agent_evaluation import (\n",
        "    evaluate_character_agent_scene,\n",
        "    evaluate_comedic_agent_scene,\n",
        "    evaluate_environment_agent_scene\n",
        ")\n",
        "\n",
        "# Import text utility functions for formatting and extracting key components\n",
        "from text_utils import (\n",
        "    display_markdown_output,\n",
        "    extract_scene,\n",
        "    extract_title\n",
        ")\n",
        "\n",
        "# Import functions for generating sitcom concepts and outlines\n",
        "from outline_generation import (\n",
        "    generate_sitcom_pitch,\n",
        "    generate_pilot_episode_outline\n",
        ")\n",
        "\n",
        "# Import functions to validate the structure and consistency of episodes\n",
        "from script_review import (\n",
        "    validate_episode_outline,\n",
        ")\n",
        "\n",
        "# Import scene writing functions\n",
        "from screen_writing import (\n",
        "    generate_scene_1_script,\n",
        "    generate_scene\n",
        ")\n",
        "\n",
        "# Import vector database utilities for storing and retrieving scene information\n",
        "from vector_db_utils import (\n",
        "    summarize_scene,\n",
        "    add_scene_to_vector_db,\n",
        "    store_scene_in_vector_db\n",
        ")"
      ],
      "metadata": {
        "id": "aiTHmw_gpBmq"
      },
      "execution_count": 4,
      "outputs": []
    },
    {
      "cell_type": "code",
      "source": [
        "# Core Python Libraries\n",
        "import os\n",
        "import re\n",
        "\n",
        "# Math and Data Manipulation\n",
        "import numpy as np\n",
        "\n",
        "# Display Utilities\n",
        "from IPython.display import Markdown, display\n",
        "\n",
        "# OpenAI API\n",
        "import openai\n",
        "from openai import OpenAI\n",
        "\n",
        "# Google Colab Specific\n",
        "from google.colab import userdata\n",
        "\n",
        "# Sentence Embeddings and Vector Search\n",
        "from sentence_transformers import SentenceTransformer\n",
        "import faiss"
      ],
      "metadata": {
        "id": "-mhv4xoTpBgr"
      },
      "execution_count": 5,
      "outputs": []
    },
    {
      "cell_type": "markdown",
      "source": [
        "### Package Versions"
      ],
      "metadata": {
        "id": "o_8v6kdWf2IP"
      }
    },
    {
      "cell_type": "code",
      "source": [
        "import pkg_resources\n",
        "\n",
        "print(\"numpy:\", np.__version__)\n",
        "print(\"openai:\", openai.__version__)\n",
        "print(\"sentence-transformers:\", pkg_resources.get_distribution(\"sentence-transformers\").version)\n",
        "print(\"faiss:\", faiss.__version__ if hasattr(faiss, '__version__') else \"version attribute not available\")"
      ],
      "metadata": {
        "colab": {
          "base_uri": "https://localhost:8080/"
        },
        "id": "vIaGxHOIgGb5",
        "outputId": "9acac5ee-3c5d-4ec2-be7f-77a371a3a606"
      },
      "execution_count": 6,
      "outputs": [
        {
          "output_type": "stream",
          "name": "stdout",
          "text": [
            "numpy: 2.0.2\n",
            "openai: 1.78.0\n",
            "sentence-transformers: 4.1.0\n",
            "faiss: 1.11.0\n"
          ]
        }
      ]
    },
    {
      "cell_type": "markdown",
      "source": [
        "\n",
        "### 🔑 Initializing the OpenAI API Client"
      ],
      "metadata": {
        "id": "GC29DW7LfnFl"
      }
    },
    {
      "cell_type": "code",
      "source": [
        "api_key = userdata.get('OPENAI_API_KEY')  # Securely fetch API key from Colab's stored credentials\n",
        "client = OpenAI(api_key=api_key)          # Initialize the OpenAI client with the retrieved key"
      ],
      "metadata": {
        "id": "hbLOMS0bpr5r"
      },
      "execution_count": 7,
      "outputs": []
    },
    {
      "cell_type": "markdown",
      "source": [
        "### Vector Database\n",
        "\n",
        "This block initializes the sentence embedding model and sets up a FAISS index to store vector representations of scenes. The `all-MiniLM-L6-v2` model encodes scenes into fixed-size embeddings, and the FAISS index enables fast vector operations. The `scene_metadata` list stores contextual information linked to each scene embedding.\n"
      ],
      "metadata": {
        "id": "sCtF2fBzquY1"
      }
    },
    {
      "cell_type": "code",
      "source": [
        "# Load embedding model\n",
        "embedding_model = SentenceTransformer(\"all-MiniLM-L6-v2\")\n",
        "\n",
        "# Vector store initialization\n",
        "dimension = embedding_model.get_sentence_embedding_dimension()\n",
        "index = faiss.IndexFlatL2(dimension)\n",
        "\n",
        "# To track metadata\n",
        "vector_metadata = []"
      ],
      "metadata": {
        "id": "CxvSxk0Gpr3f",
        "colab": {
          "base_uri": "https://localhost:8080/",
          "height": 491,
          "referenced_widgets": [
            "021b96c054004c0bb233a55b660cbd3a",
            "36f79e93ddfd4de9b2c44cafa47df945",
            "e3302e2837f5435b9ed800f4be4414ac",
            "2949c5dc2978441bbf138065f4f4e613",
            "7d609c8e340f47cd8119e0e135ca87bc",
            "d75dde24bac34eb0a90a58262a979223",
            "04ca518d30724de1af359d54eeae6d3d",
            "97f998bfb51a442e9104084540cacde8",
            "629d3b35aa2e4e2c9e906caab0437f42",
            "7bf84749b0de43b5b4126ebfc11840bf",
            "0c1956889f4e465088abb49bbbf1c6e3",
            "6c1bdafdfee247d48a9c193cc7530b8e",
            "5a871fa4ed5749519a2ed55ad07e2297",
            "801bcc23ca6a446a99f31177f4a4a700",
            "89be615927f7455280bb414aafc1e944",
            "ef69249ceba74aa3aa74afcee3e216fb",
            "4aaa1fa84e794aabacd3308973dcbd4f",
            "0d40506185574930a8786176f1dc66a7",
            "aaf49bb784b94e90bce498ca8a813eb5",
            "2676db92369a48fa84e556d97aba2835",
            "89f8808fcd4d4f8cbf207d91916fc7bf",
            "905acd30b8374f03b3f5af4cc54274ba",
            "e56ab86569ec4b12851598e522e351a2",
            "b330726d5c1b47e3bc440939173560f3",
            "1779d757248a444abced3483ae426f32",
            "e6ca92788ab849f5870c17e915ed0b4d",
            "8946ddde867f419f8fbb98e0cc4efe8e",
            "887387688bcf4808b88ecd0c83e77919",
            "aa8742eb4ca943e3a0a25aa9f0fd5428",
            "f9256354b6404b73b2a493d91818f9c1",
            "20e948ba860046cfbe94c7451306e734",
            "323ffe68807741769970106315df598a",
            "b63a557bfb744512b5223ef7a8d33c9a",
            "b01ab5286f3e4185b0eb10dd49b8ab25",
            "268261d8969143d08bc954e09e18cad5",
            "92f9e2cc8d834418bfd85a90b727e623",
            "a018dcadf2cb4e84b6da6b4c4d0fd8e7",
            "cba5b265ba5d41d7b2f472851594e97b",
            "9050df8fc563459ab37690ddafeae549",
            "5d051fcdaedc4f70b3593f5c6a815647",
            "8bf0b436491b4df18fdb1fc30eecffd1",
            "480583f675af4b4ab981d8c723d8fb53",
            "bad65d78cd224ff2be4441a9e75340f7",
            "f8c7dc9ec6784f6bbab9b7fb3e645d8e",
            "593dc7698c844b3ab240fda74c13606c",
            "bc4cc51fd8e44292aff16d3ae87890cb",
            "06decadb81c8475f86c5b097e87664d6",
            "5469f41c66ea4e3ea55199bdf4067c97",
            "499a6577f11c4fc49a6e7fdb9c2acacf",
            "6788e1ae0009433d965d302cd89fa8ac",
            "3476d256da77494a8821ee9263f53f2d",
            "c2673079dc524cac8f296b823773b173",
            "11a5740cc87e4ed4811acf6b951fd1a6",
            "759a8bc75233479691c3f8b6ae229011",
            "5a2d0d43d6d244f7904a219c33d7324e",
            "e3b0d93c8ad641479f3f874a8cfad860",
            "557bee96e37d43f5ab289aa01f4f1739",
            "9c99ce6739144a8fac1fdeda8ffa3a84",
            "60814d7aafe84ad090666dbd3b87cf3a",
            "5e4292af21ea49b1a98f302ac5931584",
            "afddbfcd10784e87bc455bee70cb0044",
            "56de243836ab40cd830b8829e2a18eb4",
            "e76321d422b04fd1b99b5c91e404ddf9",
            "b6e1b51452344af0ac05520aa004fc1d",
            "a78704d3c9e847329897a737c3f0d8ab",
            "48ca8d177637454b81343e8b8a12e661",
            "e4155557d72e48d49de2f5f3fe810f58",
            "b49ea92414ea409e9d5e424e6e584857",
            "deaa75998cbe41319cae5b3f3c011930",
            "610ab4abb2d34943a7af4cc68368fd07",
            "d76f479044244803b9b89d77468e67bd",
            "ccc2974d973d4c81af6be46662993416",
            "fdab52e006514d4799ef2b1fb76f6ddc",
            "d042acb7e38e46e182295a7475267e8f",
            "61b0f307cb1c458ab3454745c7e0c28a",
            "ca68b80e6c454bd3b7a574f425de2931",
            "b2a8b1e064e144628d1ba57b8fe29c7f",
            "80b2c8b7d9c246dfaf81cab75b31e974",
            "99977a14b9c948a3b894e5a27b4d5dd8",
            "5a7a26050a39452ca434c75aa7012c91",
            "b41e07b5da5141b88c32189135c6a133",
            "f2143c876ccb461ca68f9278dc912724",
            "653357573b1c459084af3f4e72bc27b5",
            "0083e3b6e60943488137dd6ffb8a55a5",
            "63145e4867f8461c9395ead5b5498a91",
            "bc006a4447524fe7a9755bb0669901b4",
            "cc5523f797004da790833b6c4b06df60",
            "8b30d55bd35d409c8a82b0fb1dca35c3",
            "ead2f335b71d4fc1b5a0314c74f41e88",
            "7d2d5e21c4df4110b947581928a7caa0",
            "cf27d80ee6cc4bc4acfa3992eb3c5ce2",
            "a16f152bbcb540cb92cc64839cb49105",
            "dbca0c53461a41e2b89e54747581e9c4",
            "45194a45298f49e5b58d9f6e5be8ca7f",
            "93e6c4328a814e7cb20fb849b4c62f08",
            "5d366b8ff5544e0ebe6ae71ade80126b",
            "18fed35f963e4ce49cc64a22f3f84bb3",
            "13e39247a33943f48ec966949c2ecdea",
            "92650a4ff1ba420c9cd5b5a4e426e83e",
            "5a2eba3005474441b2dbce85e4edb502",
            "85cd293bb29a41d1b7b537e60a38a129",
            "26ed1fda21fe422799133a56eb267f84",
            "9a440e4b2b3d4533acc55df98a871d92",
            "e6cf915a729343de8f65aea957363b1c",
            "526c455806f14d5180a2228124926f3d",
            "e7e2980d01344760acc78781ce88531f",
            "8cfe370873244ddba1a6cf81d4710f09",
            "53f457d881d44192bef08bf511d164bb",
            "89ebbf88054c4e0d9e6c7308a75fceb0",
            "d932e3f8348e4cdfbb79d0cb253a704c",
            "1afca3767ffc4f38bf4c9dac2ffa370d",
            "5dce4db48fa34d77973f8d6059861885",
            "8d65b7dd9dbf4b4bbf5ff0d2af70d2d1",
            "7d7d4663e3ef487da17c14c534c2ad57",
            "1cdd393aec5348b3ba9c8bc60427e622",
            "9df52e6ad3434eb69eae256cd08fc8ec",
            "a3664e1c3c8f45aabd2a05cd2365ecd1",
            "211869076f974a65ac1408f3dc25a068",
            "e39f38a7195843c18f8c2dbfeafded6e",
            "89ada840ebc44dcb8d42220014fdf0b0",
            "3c0e16f48e5e40cfbed39c2167c9de45"
          ]
        },
        "outputId": "8d083d1d-1be1-40a5-9f59-4e26b6b3687c"
      },
      "execution_count": 8,
      "outputs": [
        {
          "output_type": "stream",
          "name": "stderr",
          "text": [
            "/usr/local/lib/python3.11/dist-packages/huggingface_hub/utils/_auth.py:94: UserWarning: \n",
            "The secret `HF_TOKEN` does not exist in your Colab secrets.\n",
            "To authenticate with the Hugging Face Hub, create a token in your settings tab (https://huggingface.co/settings/tokens), set it as secret in your Google Colab and restart your session.\n",
            "You will be able to reuse this secret in all of your notebooks.\n",
            "Please note that authentication is recommended but still optional to access public models or datasets.\n",
            "  warnings.warn(\n"
          ]
        },
        {
          "output_type": "display_data",
          "data": {
            "text/plain": [
              "modules.json:   0%|          | 0.00/349 [00:00<?, ?B/s]"
            ],
            "application/vnd.jupyter.widget-view+json": {
              "version_major": 2,
              "version_minor": 0,
              "model_id": "021b96c054004c0bb233a55b660cbd3a"
            }
          },
          "metadata": {}
        },
        {
          "output_type": "display_data",
          "data": {
            "text/plain": [
              "config_sentence_transformers.json:   0%|          | 0.00/116 [00:00<?, ?B/s]"
            ],
            "application/vnd.jupyter.widget-view+json": {
              "version_major": 2,
              "version_minor": 0,
              "model_id": "6c1bdafdfee247d48a9c193cc7530b8e"
            }
          },
          "metadata": {}
        },
        {
          "output_type": "display_data",
          "data": {
            "text/plain": [
              "README.md:   0%|          | 0.00/10.5k [00:00<?, ?B/s]"
            ],
            "application/vnd.jupyter.widget-view+json": {
              "version_major": 2,
              "version_minor": 0,
              "model_id": "e56ab86569ec4b12851598e522e351a2"
            }
          },
          "metadata": {}
        },
        {
          "output_type": "display_data",
          "data": {
            "text/plain": [
              "sentence_bert_config.json:   0%|          | 0.00/53.0 [00:00<?, ?B/s]"
            ],
            "application/vnd.jupyter.widget-view+json": {
              "version_major": 2,
              "version_minor": 0,
              "model_id": "b01ab5286f3e4185b0eb10dd49b8ab25"
            }
          },
          "metadata": {}
        },
        {
          "output_type": "display_data",
          "data": {
            "text/plain": [
              "config.json:   0%|          | 0.00/612 [00:00<?, ?B/s]"
            ],
            "application/vnd.jupyter.widget-view+json": {
              "version_major": 2,
              "version_minor": 0,
              "model_id": "593dc7698c844b3ab240fda74c13606c"
            }
          },
          "metadata": {}
        },
        {
          "output_type": "display_data",
          "data": {
            "text/plain": [
              "model.safetensors:   0%|          | 0.00/90.9M [00:00<?, ?B/s]"
            ],
            "application/vnd.jupyter.widget-view+json": {
              "version_major": 2,
              "version_minor": 0,
              "model_id": "e3b0d93c8ad641479f3f874a8cfad860"
            }
          },
          "metadata": {}
        },
        {
          "output_type": "display_data",
          "data": {
            "text/plain": [
              "tokenizer_config.json:   0%|          | 0.00/350 [00:00<?, ?B/s]"
            ],
            "application/vnd.jupyter.widget-view+json": {
              "version_major": 2,
              "version_minor": 0,
              "model_id": "e4155557d72e48d49de2f5f3fe810f58"
            }
          },
          "metadata": {}
        },
        {
          "output_type": "display_data",
          "data": {
            "text/plain": [
              "vocab.txt:   0%|          | 0.00/232k [00:00<?, ?B/s]"
            ],
            "application/vnd.jupyter.widget-view+json": {
              "version_major": 2,
              "version_minor": 0,
              "model_id": "80b2c8b7d9c246dfaf81cab75b31e974"
            }
          },
          "metadata": {}
        },
        {
          "output_type": "display_data",
          "data": {
            "text/plain": [
              "tokenizer.json:   0%|          | 0.00/466k [00:00<?, ?B/s]"
            ],
            "application/vnd.jupyter.widget-view+json": {
              "version_major": 2,
              "version_minor": 0,
              "model_id": "ead2f335b71d4fc1b5a0314c74f41e88"
            }
          },
          "metadata": {}
        },
        {
          "output_type": "display_data",
          "data": {
            "text/plain": [
              "special_tokens_map.json:   0%|          | 0.00/112 [00:00<?, ?B/s]"
            ],
            "application/vnd.jupyter.widget-view+json": {
              "version_major": 2,
              "version_minor": 0,
              "model_id": "5a2eba3005474441b2dbce85e4edb502"
            }
          },
          "metadata": {}
        },
        {
          "output_type": "display_data",
          "data": {
            "text/plain": [
              "config.json:   0%|          | 0.00/190 [00:00<?, ?B/s]"
            ],
            "application/vnd.jupyter.widget-view+json": {
              "version_major": 2,
              "version_minor": 0,
              "model_id": "1afca3767ffc4f38bf4c9dac2ffa370d"
            }
          },
          "metadata": {}
        }
      ]
    },
    {
      "cell_type": "markdown",
      "source": [
        "### 🎬 Generating the Sitcom Pitch\n",
        "\n",
        "This step generates a sitcom concept using the `generate_sitcom_pitch` function. The function takes in a dictionary of categorized keywords (e.g., setting, characters, themes, tone/genre) to guide the generation process.\n",
        "\n",
        "- The language model plays the role of a **professional screenwriter**.\n",
        "- It produces a 1-paragraph pitch that includes a **title** and a **detailed premise**, highlighting the setting, main characters, their dynamics, and the overall tone of the show.\n",
        "- Keywords help ground the pitch in user-defined ideas, ensuring thematic and narrative consistency."
      ],
      "metadata": {
        "id": "h4C0y2mRq9Hy"
      }
    },
    {
      "cell_type": "code",
      "source": [
        "# Define key elements for sitcom generation: setting, characters, themes, and tone\n",
        "keywords = {\n",
        "    \"setting\": [\"urban locksmith shop\", \"New York City\"],\n",
        "    \"characters\": [\"ex-con protagonist\", \"estranged daughter\", \"quirky parole officer\"],\n",
        "    \"themes\": [\"second chances\", \"odd couple dynamic\"],\n",
        "    \"tone_genre\": [\"buddy comedy\", \"heartfelt absurdism\"]\n",
        "}"
      ],
      "metadata": {
        "id": "axDx39kupBZO"
      },
      "execution_count": 9,
      "outputs": []
    },
    {
      "cell_type": "code",
      "source": [
        "# Generate sitcom pitch using the language model\n",
        "sitcom_pitch = generate_sitcom_pitch(client, keywords)\n",
        "\n",
        "# Display the generated outline in formatted Markdown\n",
        "display(Markdown(f\"### Sitcom Concept:\\n\\n{sitcom_pitch}\"))\n"
      ],
      "metadata": {
        "colab": {
          "base_uri": "https://localhost:8080/",
          "height": 206
        },
        "id": "qSowDzaVq5yt",
        "outputId": "7e2ea73e-b7d3-4e14-a8c7-2c53f80fda17"
      },
      "execution_count": 10,
      "outputs": [
        {
          "output_type": "display_data",
          "data": {
            "text/plain": [
              "<IPython.core.display.Markdown object>"
            ],
            "text/markdown": "### Sitcom Concept:\n\nTitle: \"Second Lock\"\n\n\"Second Lock\" is a heartfelt yet absurd buddy comedy set in a small, quirky locksmith shop in the heart of New York City. The protagonist, Jimmy, is an ex-con turned locksmith who's trying to live a straight and narrow life, but his past keeps knocking. His estranged daughter, Sophie, a stubborn yet endearing teenager, unexpectedly shows up, challenging his new life and adding a layer of familial chaos. To add to the mix, Jimmy's eccentric parole officer, Earl, who has a bizarre obsession with locks and keys, frequently drops by, often blurring the line between professional supervision and genuine friendship. The show explores themes of second chances and the odd couple dynamic, with Jimmy and Earl's unlikely friendship serving as the hilarious backbone, while Sophie's attempts to reconnect with her father bring both comical and touching moments. The comedy is infused with heartfelt absurdism, as the characters navigate the challenges of life, family, and locksmithing in the Big Apple."
          },
          "metadata": {}
        }
      ]
    },
    {
      "cell_type": "markdown",
      "source": [
        "#### Extracting Title\n",
        "\n",
        "Below, we extract the sitcom title from the generated pitch. This title will be reused by the script generation functions (both Baseline and ReAct versions).\n"
      ],
      "metadata": {
        "id": "68_jGPR21sRn"
      }
    },
    {
      "cell_type": "code",
      "source": [
        "# Extract title\n",
        "sitcom_title = extract_title(sitcom_pitch)\n",
        "print(sitcom_title)"
      ],
      "metadata": {
        "colab": {
          "base_uri": "https://localhost:8080/"
        },
        "id": "Vba3_3ih1ryv",
        "outputId": "041b60d9-e278-421d-b071-f2c9b77582ad"
      },
      "execution_count": 11,
      "outputs": [
        {
          "output_type": "stream",
          "name": "stdout",
          "text": [
            "Second Lock\n"
          ]
        }
      ]
    },
    {
      "cell_type": "markdown",
      "source": [
        "### 📝 Generating a Pilot Episode Outline\n",
        "\n",
        "The next part is to generate an episode outline for the pilot of the show, which is done using the `generate_pilot_episode_outline` function. This function takes in the sitcom pitch and produces a structured scene-by-scene breakdown of the pilot episode, simulating the voice of a **professional sitcom writer** preparing a network pitch.\n",
        "\n",
        "- Begins with a concise **Episode Concept** (1–2 sentences).\n",
        "- Breaks the episode into approximately 20 **numbered scenes**, each with a **title in quotation marks** and a brief description.\n",
        "- Each scene summary includes what happens, who is involved, and the intended tone (e.g., funny, awkward, heartfelt).\n",
        "\n",
        "This outline provides the narrative foundation for generating full scene scripts in the next stage.\n"
      ],
      "metadata": {
        "id": "BtozqXT4rmna"
      }
    },
    {
      "cell_type": "code",
      "source": [
        "# Generate episode outline from sitcom pitch using the language model\n",
        "episode_outline = generate_pilot_episode_outline(client, sitcom_pitch)\n",
        "\n",
        "# Display the generated outline in formatted Markdown\n",
        "display(Markdown(f\"### Sitcom Outline:\\n\\n{episode_outline}\"))"
      ],
      "metadata": {
        "colab": {
          "base_uri": "https://localhost:8080/",
          "height": 660
        },
        "id": "SkdjzNUuq5uw",
        "outputId": "a432ef24-cc8c-4903-b519-487baf003a84"
      },
      "execution_count": 12,
      "outputs": [
        {
          "output_type": "display_data",
          "data": {
            "text/plain": [
              "<IPython.core.display.Markdown object>"
            ],
            "text/markdown": "### Sitcom Outline:\n\n**Episode Concept:** Jimmy's estranged daughter, Sophie, unexpectedly shows up at his locksmith shop, the same day he receives a mysterious package from his past. Meanwhile, his parole officer, Earl, is dealing with his own issues, leading to a day full of chaos, laughter, and heart.\n\nScene 1: \"Opening the Locks\" Jimmy opens up his locksmith shop for the day, showcasing his quirky daily routine. The tone is light and funny.\n\nScene 2: \"Unexpected Delivery\" Jimmy receives a mysterious package, sparking curiosity and a bit of anxiety. The atmosphere is suspenseful yet comical.\n\nScene 3: \"Earl's Obsession\" Earl, the eccentric parole officer, visits Jimmy at the shop and shows off his latest lock-related obsession. The interaction is amusing and friendly.\n\nScene 4: \"Blast from the Past\" Jimmy opens the mysterious package to find a lock from his criminal past, causing him to reminisce. The tone is a mix of nostalgia and humor.\n\nScene 5: \"Lock of Trouble\" Jimmy and Earl try to open the lock, turning the situation into a humorous mess.\n\nScene 6: \"Sophie's Arrival\" Sophie, Jimmy's estranged daughter, unexpectedly shows up at the shop, creating an awkward and emotional moment.\n\nScene 7: \"Father-Daughter Tensions\" Sophie and Jimmy engage in a tense conversation about their past and why she has come. The scene is emotional yet comical due to their differences.\n\nScene 8: \"Earl's Intervention\" Earl tries to mediate the situation between Sophie and Jimmy, leading to a funny and awkward moment.\n\nScene 9: \"A Locksmith's Lesson\" Jimmy reluctantly agrees to teach Sophie some locksmithing skills, leading to a series of funny and touching moments.\n\nScene 10: \"Earl's Dilemma\" Earl receives a call about a personal issue, adding another layer of chaos to the day. The tone is comical and frantic.\n\nScene 11: \"Locksmithing Mishaps\" Sophie struggles with the locksmithing tasks, leading to hilarious blunders and bonding moments with Jimmy.\n\nScene 12: \"Earl's Solution\" Earl comes up with a humorous and unconventional solution to his problem. The scene is light-hearted and silly.\n\nScene 13: \"Heart-to-Heart\" Sophie and Jimmy have a heartfelt conversation about their relationship while working on locks. The tone is emotional and sincere.\n\nScene 14: \"The Open Lock\" Jimmy and Sophie manage to open the lock from the mysterious package, leading to a surprising revelation. The atmosphere is suspenseful and funny.\n\nScene 15: \"Earl's Return\" Earl returns to the shop, bringing his own chaos with him. The scene is chaotic and hilarious.\n\nScene 16: \"Shared Histories\" Jimmy, Sophie, and Earl share stories from their past, adding depth to their relationships. The tone is humorous and sentimental.\n\nScene 17: \"Locking Up\" As they close the shop, Jimmy, Sophie, and Earl reflect on the day's events. The atmosphere is light and reflective.\n\nScene 18: \"Earl's Surprise\" Earl reveals his personal issue has been resolved in an unexpected way. The scene is surprising and comical.\n\nScene 19: \"A New Beginning\" Sophie decides to stick around and learn more about locksmithing, signifying a new start for her and Jimmy. The tone is hopeful and heartwarming.\n\nScene 20: \"Closing the Day\" The day ends with Jimmy, Sophie, and Earl sharing a laugh, promising more hilarious adventures to come. The atmosphere is light and funny."
          },
          "metadata": {}
        }
      ]
    },
    {
      "cell_type": "markdown",
      "source": [
        "#### Exporting Outline and Title Name\n",
        "\n",
        "Below, we export the sitcom title and episode outline. This ensures that both the Baseline and ReAct models use the same input for consistency in script generation."
      ],
      "metadata": {
        "id": "_3heTh0l00SF"
      }
    },
    {
      "cell_type": "code",
      "source": [
        "# Define file paths for saving the sitcom title and episode outline\n",
        "title_path = \"/content/drive/MyDrive/Spring 2025/Gen AI with LLM/Project/pilot episode data/pilot episode 3/sitcom_title_3.txt\"\n",
        "outline_path = \"/content/drive/MyDrive/Spring 2025/Gen AI with LLM/Project/pilot episode data/pilot episode 3/episode_outline_3.txt\"\n",
        "\n",
        "# Write the sitcom title to a text file\n",
        "with open(title_path, \"w\") as f:\n",
        "    f.write(sitcom_title)\n",
        "\n",
        "# Write the episode outline to a text file\n",
        "with open(outline_path, \"w\") as f:\n",
        "    f.write(episode_outline)\n"
      ],
      "metadata": {
        "id": "FkAUrCCS0wo7"
      },
      "execution_count": 13,
      "outputs": []
    },
    {
      "cell_type": "markdown",
      "source": [
        "### ✅ Episode Validation\n",
        "\n",
        "To ensure that the sitcom pilot outline is coherent and aligns with the original pitch, we use the `validate_episode_outline` function. This function simulates the voice of a **veteran sitcom writer** who evaluates whether the episode outline makes narrative sense and fits the tone and premise.\n",
        "\n",
        "- Checks for overall **coherence**, including consistency of tone, logical character progression, and structural viability.\n",
        "- Returns a clear **\"Yes\" or \"No\"** on coherence, along with 2–4 bullet points of reasoning.\n",
        "- If the episode is not coherent, it also provides concrete suggestions for improvement.\n",
        "\n",
        "This validation step helps maintain narrative quality before moving into full scene scripting.\n",
        "\n",
        "\n",
        "**TODO**\n",
        "\n",
        "- Make sure it can re-generate the script\n",
        "- Delte timedelta"
      ],
      "metadata": {
        "id": "zxtWr4JuLcMV"
      }
    },
    {
      "cell_type": "code",
      "source": [
        "# Validate the episode outline for coherence and consistency using the language model\n",
        "validation = validate_episode_outline(client, sitcom_pitch, episode_outline)\n",
        "\n",
        "# Display the validation result in formatted Markdown\n",
        "display(Markdown(f\"### Coherence Evaluation:\\n\\n{validation}\"))"
      ],
      "metadata": {
        "colab": {
          "base_uri": "https://localhost:8080/",
          "height": 246
        },
        "id": "cSFjmE7cq5sN",
        "outputId": "cbe6bb46-f2f2-4fe1-a1a7-579456e2630d"
      },
      "execution_count": 14,
      "outputs": [
        {
          "output_type": "display_data",
          "data": {
            "text/plain": [
              "<IPython.core.display.Markdown object>"
            ],
            "text/markdown": "### Coherence Evaluation:\n\nCoherence: Yes\n\nReasoning:\n- The outline follows the premise of the sitcom pitch very well. The characters are consistent with their descriptions, and the plot progresses logically from Jimmy's regular day at the shop, to the arrival of Sophie and her decision to stay.\n- The tone remains consistent throughout the episode, balancing humor with heartfelt moments, which aligns with the show's description of being a \"heartfelt yet absurd buddy comedy.\"\n- The episode outline introduces and explores the dynamics between the three main characters, setting the stage for future episodes. It also incorporates the locksmithing theme throughout, which is a unique aspect of the show.\n- The subplot of Earl dealing with a personal issue adds another layer of humor and chaos to the episode, which further contributes to the overall tone of the show."
          },
          "metadata": {}
        }
      ]
    },
    {
      "cell_type": "markdown",
      "source": [
        "## Scene 1 Generation"
      ],
      "metadata": {
        "id": "8aUL4_lrmVI9"
      }
    },
    {
      "cell_type": "code",
      "source": [
        "# Extract the description for Scene 1 from the episode outline\n",
        "scene_1_desc = extract_scene(episode_outline, 1)\n",
        "print(scene_1_desc)"
      ],
      "metadata": {
        "colab": {
          "base_uri": "https://localhost:8080/"
        },
        "id": "-5JuA8trsdJs",
        "outputId": "1bd3401f-cdc8-498c-edcb-6907b5bf10e9"
      },
      "execution_count": 15,
      "outputs": [
        {
          "output_type": "stream",
          "name": "stdout",
          "text": [
            "Scene 1: \"Opening the Locks\" Jimmy opens up his locksmith shop for the day, showcasing his quirky daily routine. The tone is light and funny.\n"
          ]
        }
      ]
    },
    {
      "cell_type": "code",
      "source": [
        "# Generate the full script for Scene 1 based on the scene description\n",
        "scene_1_script = generate_scene_1_script(\n",
        "    client=client,\n",
        "    sitcom_title=sitcom_title,\n",
        "    scene_description=scene_1_desc,\n",
        "    scene_index=0,\n",
        "    rag_context=None,\n",
        ")\n",
        "\n",
        "print(scene_1_script)"
      ],
      "metadata": {
        "id": "SbPXID3TsicA",
        "colab": {
          "base_uri": "https://localhost:8080/"
        },
        "outputId": "680bcd4d-4ac7-4a3f-ea71-fafa913920f1"
      },
      "execution_count": 16,
      "outputs": [
        {
          "output_type": "stream",
          "name": "stdout",
          "text": [
            "# Scene 1\n",
            "\n",
            "INT. JIMMY'S LOCKSMITH SHOP - MORNING\n",
            "\n",
            "JIMMY, mid 40s, opens the door to his shop, a jumble of keys jingling from his belt. He flips the sign from CLOSED to OPEN. He's wearing a t-shirt that says, \"I've Got the Key to Your Heart.\"\n",
            "\n",
            "JIMMY\n",
            "(To himself)\n",
            "Another day, another lock to pick. \n",
            "\n",
            "Jimmy begins his peculiar morning routine. He pulls out a lock from his pocket and tries to pick it using a hairpin.\n",
            "\n",
            "JIMMY\n",
            "(To the lock)\n",
            "You're a tough one, aren't you? \n",
            "\n",
            "[LAUGH TRACK]\n",
            "\n",
            "Suddenly, a cat, WHISKERS, jumps on the counter. Jimmy reacts with surprise.\n",
            "\n",
            "JIMMY\n",
            "Whiskers! You sneaky little locksmith, you!\n",
            "\n",
            "[LAUGH TRACK]\n",
            "\n",
            "Jimmy then pulls out a fancy looking key from a drawer.\n",
            "\n",
            "JIMMY\n",
            "(To the key)\n",
            "Ah, the master key. Opens all doors but can't open a can of tuna.\n",
            "\n",
            "[LAUGH TRACK]\n",
            "\n",
            "Jimmy attempts to use the master key to open a can of tuna for Whiskers. It doesn't work. He sighs, then pulls out a can opener from another drawer and opens the can.\n",
            "\n",
            "JIMMY\n",
            "(To Whiskers)\n",
            "Fine, you win this round, buddy.\n",
            "\n",
            "[LAUGH TRACK]\n",
            "\n",
            "Suddenly, the shop door opens and a breeze of wind knocks over a stack of keys. Jimmy jumps to catch them but ends up falling over instead.\n",
            "\n",
            "JIMMY\n",
            "(From the floor)\n",
            "Well, I guess it's not a morning without a little fall.\n",
            "\n",
            "[LAUGH TRACK]\n",
            "\n",
            "Jimmy gets up, dusts himself off, and stands behind the counter, ready to greet his customers.\n",
            "\n",
            "JIMMY\n",
            "(To himself)\n",
            "Bring on the locked doors, lost keys, and broken hearts.\n",
            "\n",
            "Jimmy smiles, ending the scene on a light note.\n"
          ]
        }
      ]
    },
    {
      "cell_type": "markdown",
      "source": [
        "### 🗂️ Adding Metadata to the Vector Database\n",
        "\n",
        "To extract structured information from each generated sitcom scene, we use th `summarize_scene` function. This function simulates the head writer of the show and analyzes the scene script to produce a concise summary along with key metadata.\n",
        "\n",
        "- **Summary**: A 100–150 word overview of the scene’s key actions, character dynamics, and notable moments.\n",
        "- **Characters**: A list of characters who appear or speak in the scene.\n",
        "- **Location**: The main setting of the scene, if clearly identifiable (e.g., “locksmith shop,” “apartment hallway”).\n",
        "- **Recurring Joke**: Any running gag or callback featured in the scene.\n",
        "- **Emotional Tone**: A 1–2 word description of the scene’s mood (e.g., “chaotic,” “hopeful,” “awkward”).\n",
        "\n",
        "The metadata is returned as a dictionary and appended to the `scene_metadata` list using the `add_scene_to_vector_db` function. This step is crucial: instead of supplying the full script to the next generation phase, we pass a concise summary and key elements to guide smoother, context-aware scene generation.\n"
      ],
      "metadata": {
        "id": "ZdbXY1cEt-1O"
      }
    },
    {
      "cell_type": "code",
      "source": [
        "# Store the generated Scene 1 script in the vector database for future retrieval and context\n",
        "store_scene_in_vector_db(\n",
        "    client=client,\n",
        "    sitcom_title=sitcom_title,\n",
        "    scene_script=scene_1_script,\n",
        "    embedding_model=embedding_model,\n",
        "    index=index,\n",
        "    vector_metadata=vector_metadata\n",
        ")"
      ],
      "metadata": {
        "colab": {
          "base_uri": "https://localhost:8080/"
        },
        "id": "P2DIPMaRjkdq",
        "outputId": "dd88ffbe-c75a-4c2f-95b7-eb77bc11e80d"
      },
      "execution_count": 17,
      "outputs": [
        {
          "output_type": "stream",
          "name": "stdout",
          "text": [
            "Total scenes stored in vector DB: 1 \n",
            "\n",
            "\n",
            "Scene 1\n",
            "Summary: In this opening scene, Jimmy, a locksmith in his mid-40s, starts his day at his shop. He begins with a quirky morning routine of trying to pick a lock with a hairpin. His cat, Whiskers, surprises him by jumping on the counter, leading to a humorous interaction involving a master key and a can of tuna. A gust of wind causes a stack of keys to fall, and Jimmy takes a tumble trying to catch them. Despite the mishap, he dusts himself off and prepares to face the day's challenges, showing his resilience and good humor.\n",
            "Characters: ['Jimmy', 'Whiskers']\n",
            "Location: Jimmy's Locksmith Shop\n",
            "Recurring Joke: Jimmy's attempts to use keys for non-lock related tasks (e.g., using the master key to open a can of tuna) and his playful banter with his cat, Whiskers, are recurring jokes.\n",
            "Emotional Tone: Humorous, Light-hearted\n"
          ]
        }
      ]
    },
    {
      "cell_type": "markdown",
      "source": [
        "## 🎬 Scene 2 Generation\n",
        "\n",
        "The next part is to generate Scene 2. This is one of the most important scenes in the script, as it’s where the ReAct (Reasoning + Acting) system comes into play.\n",
        "\n",
        "Metadata from Scene 1 is retrieved and interpreted by the `CharacterAgent`, `ComedyAgent`, and `EnvironmentAgent`. Each agent reasons over the metadata independently and provides creative suggestions based on its area of expertise—such as character consistency, comedic dynamics, or environmental context.\n",
        "\n",
        "These agent responses are then passed to the `ScenePlannerAgent`, which integrates their inputs and plans the next scene accordingly. This collaborative reasoning-and-acting process ensures that each scene builds logically and creatively on what came before.\n",
        "\n",
        "The advantage of using ReAct-style agents over purely role-based agents is that each agent not only plays a role but also actively reasons and adapts based on prior context—making the generation more dynamic, context-aware, and narratively coherent.\n"
      ],
      "metadata": {
        "id": "CbVu600kbqDr"
      }
    },
    {
      "cell_type": "code",
      "source": [
        "# Extract the description for Scene 2 from the episode outline\n",
        "scene_2_desc = extract_scene(episode_outline, 2)\n",
        "print(scene_2_desc)"
      ],
      "metadata": {
        "colab": {
          "base_uri": "https://localhost:8080/"
        },
        "id": "qJhaegD1yK2O",
        "outputId": "36f9128f-f8f1-4941-ee8c-98b41657949e"
      },
      "execution_count": 18,
      "outputs": [
        {
          "output_type": "stream",
          "name": "stdout",
          "text": [
            "Scene 2: \"Unexpected Delivery\" Jimmy receives a mysterious package, sparking curiosity and a bit of anxiety. The atmosphere is suspenseful yet comical.\n"
          ]
        }
      ]
    },
    {
      "cell_type": "markdown",
      "source": [
        "### 🎭 Character Agent\n",
        "\n",
        "The first step is to analyze the characters using the `CharacterAgent`. This agent is responsible for tracking which characters appear in each scene, evaluating their consistency with past behavior, and recommending meaningful interactions to advance the story.\n",
        "\n",
        "The `CharacterAgent` operates using a **ReAct workflow**, where each phase reflects a specific role in a sitcom writers’ room:\n",
        "\n",
        "- **Think**: Identifies which characters are present in the current scene and determines the relevant prior scenes to draw context from — like a **Writers' Assistant** reviewing past episodes. This step also retrieves the relevant script metadata used to guide character evaluation.\n",
        "- **Act**: Retrieves character histories by analyzing summaries from earlier scenes — like a **Script Coordinator** maintaining continuity.\n",
        "- **Observe**: Checks whether characters behave consistently with their established traits and arcs — like a **Head Writer** reviewing for narrative logic.\n",
        "- **Recommend**: Suggests specific character interactions that align with the scene’s tone or resolve inconsistencies — like a **Co-Executive Producer** steering character development.\n",
        "\n",
        "This structure ensures character arcs are coherent, grounded, and creatively engaging throughout the scriptwriting process.\n"
      ],
      "metadata": {
        "id": "TgYclpbdbvON"
      }
    },
    {
      "cell_type": "code",
      "source": [
        "'''\n",
        "import importlib\n",
        "import agents.character_agent\n",
        "importlib.reload(agents.character_agent)\n",
        "from agents.character_agent import CharacterAgent\n",
        "'''"
      ],
      "metadata": {
        "id": "yeBN-SzXo2Wh",
        "colab": {
          "base_uri": "https://localhost:8080/",
          "height": 35
        },
        "outputId": "16646bd6-d18f-46fb-a386-c94c00d3d2ba"
      },
      "execution_count": 19,
      "outputs": [
        {
          "output_type": "execute_result",
          "data": {
            "text/plain": [
              "'\\nimport importlib\\nimport agents.character_agent\\nimportlib.reload(agents.character_agent)\\nfrom agents.character_agent import CharacterAgent\\n'"
            ],
            "application/vnd.google.colaboratory.intrinsic+json": {
              "type": "string"
            }
          },
          "metadata": {},
          "execution_count": 19
        }
      ]
    },
    {
      "cell_type": "code",
      "source": [],
      "metadata": {
        "id": "NwCX0frHbH79"
      },
      "execution_count": 19,
      "outputs": []
    },
    {
      "cell_type": "code",
      "source": [
        "# Initialize the character agent with the language model client, metadata store, and total number of scenes\n",
        "character_agent = CharacterAgent(\n",
        "    client=client,\n",
        "    vector_metadata=vector_metadata,\n",
        "    num_scenes=1\n",
        ")\n",
        "\n",
        "# Evaluate Scene 2 using the character agent and store the evaluation results\n",
        "char_histories, char_is_consistent, char_explanation, char_recommendations, char_thoughts = evaluate_character_agent_scene(\n",
        "    agent=character_agent,\n",
        "    scene_description=scene_2_desc,\n",
        "    scene_number=2\n",
        ")"
      ],
      "metadata": {
        "colab": {
          "base_uri": "https://localhost:8080/"
        },
        "id": "hKJmwR86bKe9",
        "outputId": "7c6f596b-1a4d-44a7-fe79-bec2a024c74c"
      },
      "execution_count": 20,
      "outputs": [
        {
          "output_type": "stream",
          "name": "stdout",
          "text": [
            "🔁 Agent will consider the last 1 scene(s) for context.\n",
            "\n",
            "📚 Retrieving script metadata for scene(s): [1]\n",
            "Scene 2 — Consistency: ✅ Consistent\n",
            "\n",
            "Explanation:\n",
            "2. Short Explanation Why: The planned scene plays well with Jimmy's established personality traits. His quirky nature could manifest in his reaction to the mysterious package, while his resilience could see him handle the situation logically. His good-humored nature might add a comical spin to the suspenseful atmosphere. The scene doesn't contradict any previously established traits or relationships.\n",
            "\n",
            "Interaction Improvement Recommendations:\n",
            "1. Jimmy opens the mysterious package with a hairpin rather than a conventional tool like a knife or scissors — (This fits because, in Scene 1, Jimmy is portrayed as a quirky individual who uses unconventional methods to perform everyday tasks. Using a hairpin to open a package not only highlights his unique personality but also ties back to his unusual morning routine of trying to pick a lock with a hairpin.)\n",
            "2. Jimmy attempts to share the suspense of the mysterious package with his cat, Whiskers, by jokingly asking the cat for its opinion on what could be inside — (This interaction is justified by the opening scene where Jimmy is shown to have a close and humorous relationship with his cat. Despite the suspenseful atmosphere, this interaction maintains the comical tone of the sitcom and further emphasizes Jimmy's good-humored nature.)\n",
            "\n",
            "Agent's Internal Thoughts:\n",
            "- Think: Identified characters ['Jimmy'] using context from scene(s) [1].\n",
            "- Act: Retrieved profiles for ['Jimmy'].\n",
            "- Observe: Scene is consistent.\n",
            "- Recommend: Provided suggestions for enhancing character dynamics.\n"
          ]
        }
      ]
    },
    {
      "cell_type": "markdown",
      "source": [
        "### 🎤 Comedic Agent\n",
        "\n",
        "\n",
        "The `ComedicAgent` is responsible for maintaining the tonal consistency of humor throughout the sitcom and making targeted punch-up recommendations to enhance comedic value.\n",
        "\n",
        "This agent operates using a **ReAct workflow**, where each phase mimics a specific role in a sitcom writers’ room and draws on **prior scene metadata** for context:\n",
        "\n",
        "- **Think**: Logs which scene is under review and determines which previous scenes will provide comedic context — like a **Writers' Assistant** flagging what material to reference.\n",
        "- **Act**: Retrieves summaries and running jokes from recent scenes by referencing stored **vector metadata** — like a **Script Coordinator** tracking comedic beats.\n",
        "- **Observe**: Evaluates whether the new scene's humor is consistent with previous tone and joke usage — like a **Head Writer** preserving the show's comedic style.\n",
        "- **Recommend**: Suggests two realistic comedic improvements grounded in the scene’s context and character behavior — like a **Co-Executive Producer** overseeing punch-up work.\n",
        "\n",
        "This design ensures each scene contributes to a cohesive comedic voice and builds on established humor organically, enhancing audience engagement.\n",
        "\n",
        "\n",
        "**Maybe better note how this suggestions also based off inconsistency or not**"
      ],
      "metadata": {
        "id": "uJ5OAsU-z6dN"
      }
    },
    {
      "cell_type": "code",
      "source": [
        "'''\n",
        "import importlib\n",
        "import agents.comedy_agent\n",
        "importlib.reload(agents.comedy_agent)\n",
        "from agents.comedy_agent import ComedicAgent\n",
        "'''"
      ],
      "metadata": {
        "id": "GVfwkJmpPj6u",
        "colab": {
          "base_uri": "https://localhost:8080/",
          "height": 35
        },
        "outputId": "b4604e00-797e-423a-a554-33fe673ef1c2"
      },
      "execution_count": 21,
      "outputs": [
        {
          "output_type": "execute_result",
          "data": {
            "text/plain": [
              "'\\nimport importlib\\nimport agents.comedy_agent\\nimportlib.reload(agents.comedy_agent)\\nfrom agents.comedy_agent import ComedicAgent\\n'"
            ],
            "application/vnd.google.colaboratory.intrinsic+json": {
              "type": "string"
            }
          },
          "metadata": {},
          "execution_count": 21
        }
      ]
    },
    {
      "cell_type": "code",
      "source": [
        "# Initialize the comedy agent with the language model client, metadata store, and scene history window\n",
        "comedic_agent = ComedicAgent(\n",
        "    client=client,\n",
        "    vector_metadata=vector_metadata,\n",
        "    num_scenes=1\n",
        ")\n",
        "\n",
        "# Evaluate Scene 2 using the comedy agent and store the evaluation results\n",
        "com_context, com_is_consistent, com_analysis_text, com_recommendations, com_thoughts = evaluate_comedic_agent_scene(\n",
        "    agent=comedic_agent,\n",
        "    scene_description=scene_2_desc,\n",
        "    scene_number=2\n",
        ")"
      ],
      "metadata": {
        "colab": {
          "base_uri": "https://localhost:8080/"
        },
        "id": "cgfY-48-Rtx2",
        "outputId": "ad86de03-9757-4c07-f220-cf4d13d913f9"
      },
      "execution_count": 22,
      "outputs": [
        {
          "output_type": "stream",
          "name": "stdout",
          "text": [
            "🔁 Agent will consider the last 1 scene(s) for context.\n",
            "\n",
            "📚 Retrieving script metadata for scene(s): [1]\n",
            "Scene 2 — Comedic Tone: ✅ Consistent\n",
            "\n",
            "Comedic Tone Analysis:\n",
            "3. Short Explanation: The suspenseful humor in the new scene is consistent with the quirky and playful humor from the previous scene. Jimmy's character is maintained as he faces unexpected situations with a sense of humor.\n",
            "\n",
            "Comedic Improvement Recommendations:\n",
            "1. [Suggestion] — As Jimmy tries to guess what's inside the mysterious package, his roommate, Martin, walks in. Jimmy holds up the package and asks, \"Guess what's inside?\" Martin, who is always diet-conscious and obsessed with health foods, responds without missing a beat, \"Oh, it's my organic, gluten-free, non-GMO, cruelty-free, locally sourced, vegan protein powder?\" Jimmy shakes the box next to his ear, \"Doesn't sound like it.\" — (This suggestion reinforces Martin's character quirk of being health conscious and adds a light-hearted joke that fits within the context of the scene and the character dynamics.)\n",
            "2. [Suggestion] — Jimmy finally decides to open the package. As he's about to cut the tape, their elderly neighbor, Mrs. Jenkins, bursts in exclaiming, \"Wait! Don't open it! It could be a bomb!\" Jimmy and Martin both jump, startled. After a beat, Jimmy says, \"Well, if it is, we should probably stop shaking it.\" Mrs. Jenkins then reveals she's been watching too many crime shows lately. — (This interaction adds an element of surprise and plays on the suspenseful tone of the scene. The humor comes from the exaggerated fear of the harmless, yet mysterious package, and Jimmy's nonchalant response. It also references Mrs. Jenkins' character trait of being overly dramatic due to her love for crime shows.)\n",
            "\n",
            "Comedic Agent's Internal Thoughts:\n",
            "- Think: Will retrieve summaries and jokes from scene(s) [1] for Scene 2.\n",
            "- Act: Retrieved summaries and jokes from prior scenes.\n",
            "- Observe: Scene is consistent with prior comedic tone.\n",
            "- Recommend: Provided comedic improvements.\n"
          ]
        }
      ]
    },
    {
      "cell_type": "markdown",
      "source": [
        "### 🌆 Environment Agent\n",
        "\n",
        "The `EnvironmentAgent` is responsible for ensuring spatial continuity and logical scene transitions in a sitcom setting. It verifies that each new scene's location aligns naturally with prior ones and suggests immersive environmental details to enhance tone and narrative flow.\n",
        "\n",
        "This agent operates using a **ReAct workflow**, where each step mimics a professional role in a sitcom writers' room and draws on **prior scene metadata**:\n",
        "\n",
        "- **Think**: Logs which scene is being reviewed and determines which previous environments will provide context — like a **Writers' Assistant** organizing location continuity.\n",
        "- **Act**: Analyzes the current scene’s setting and identifies key environmental elements — like a **Script Coordinator** extracting staging needs from a scene.\n",
        "- **Observe**: Evaluates whether the environment transition feels natural given recent scenes — like a **Head Writer** safeguarding spatial logic and pacing.\n",
        "- **Recommend**: Suggests sensory or scenic details to support the environment or smooth jarring transitions — like a **Co-Executive Producer** fine-tuning atmosphere with practical details.\n",
        "\n",
        "Together, these steps ensure that every scene change feels intentional, immersive, and narratively cohesive — supporting both visual consistency and comedic timing.\n",
        "\n"
      ],
      "metadata": {
        "id": "i74j5_NyQ7bf"
      }
    },
    {
      "cell_type": "code",
      "source": [
        "'''\n",
        "# TO DELETE\n",
        "import importlib\n",
        "import agents.environment_agent\n",
        "importlib.reload(agents.environment_agent)\n",
        "from agents.environment_agent import EnvironmentAgent\n",
        "'''"
      ],
      "metadata": {
        "id": "PSmyEM4Yh4ho",
        "colab": {
          "base_uri": "https://localhost:8080/",
          "height": 52
        },
        "outputId": "3a0729d8-eb36-4f9c-c2ef-54ef0de3bbae"
      },
      "execution_count": 23,
      "outputs": [
        {
          "output_type": "execute_result",
          "data": {
            "text/plain": [
              "'\\n# TO DELETE\\nimport importlib\\nimport agents.environment_agent\\nimportlib.reload(agents.environment_agent)\\nfrom agents.environment_agent import EnvironmentAgent\\n'"
            ],
            "application/vnd.google.colaboratory.intrinsic+json": {
              "type": "string"
            }
          },
          "metadata": {},
          "execution_count": 23
        }
      ]
    },
    {
      "cell_type": "code",
      "source": [],
      "metadata": {
        "id": "TtOiKBcjg3IX"
      },
      "execution_count": 23,
      "outputs": []
    },
    {
      "cell_type": "code",
      "source": [
        "# Initialize the environment agent with the language model client, metadata store, and scene history window\n",
        "environment_agent = EnvironmentAgent(\n",
        "    client=client,\n",
        "    vector_metadata=vector_metadata,  # prior scene metadata\n",
        "    num_scenes=1\n",
        ")\n",
        "\n",
        "# Evaluate Scene 2 using the environment agent and store the evaluation results\n",
        "context, is_consistent, explanation, env_recommendations, env_thoughts = evaluate_environment_agent_scene(\n",
        "    agent=environment_agent,\n",
        "    scene_description=scene_2_desc,\n",
        "    scene_number=2\n",
        ")"
      ],
      "metadata": {
        "id": "xK7FaSvghasp",
        "colab": {
          "base_uri": "https://localhost:8080/"
        },
        "outputId": "9456be29-841e-447e-df06-2ea0a1f8d0ca"
      },
      "execution_count": 24,
      "outputs": [
        {
          "output_type": "stream",
          "name": "stdout",
          "text": [
            "🔁 Environment Agent will consider the last 1 scene(s) for context.\n",
            "\n",
            "📚 Retrieving script metadata for scene(s): [1]\n",
            "Scene 2 — Environment Transition: ✅ Consistent\n",
            "\n",
            "Explanation:\n",
            "Short Explanation: It is logical for a character to move from their place of work to their home, in this case, from Jimmy's Locksmith Shop to Jimmy's Living Room. This is a common transition in many sitcoms and does not require any additional setup.\n",
            "\n",
            "Environment Detail Suggestions:\n",
            "Environment Details Suggestions:\n",
            "- [Suggestion 1]: As Jimmy enters the living room, he trips over a large package that's mysteriously placed near the entrance. The package is wrapped in brown paper and tied with a thick twine, looking out of place in Jimmy's otherwise neat and organized living room. This could add a touch of humor and intrigue.\n",
            "- [Suggestion 2]: Jimmy's pet parrot squawks loudly from its cage as Jimmy walks in, reacting to the mysterious package in the room. The parrot keeps repeating the phrase \"Stranger Danger!\" which Jimmy had taught it as a joke, adding a layer of comedic suspense.\n",
            "\n",
            "Environment Agent's Internal Thoughts:\n",
            "- Think: Retrieved summaries and environment context from scene(s) [1] for Scene 2.\n",
            "- Act: Analyzed environment features for Scene 2.\n",
            "- Observe: Scene transition is consistent.\n",
            "- Recommend: Provided environmental enhancement suggestions.\n"
          ]
        }
      ]
    },
    {
      "cell_type": "markdown",
      "source": [
        "### 🧠 Scene Planner Agent\n",
        "\n",
        "The `ScenePlannerAgent` acts as the **Executive Producer**, responsible for synthesizing suggestions from all other agents and outlining a coherent, engaging plan for the next scene.\n",
        "\n",
        "Rather than simply selecting from character, comedic, and environment recommendations, this agent **distills key themes and feedback** into a unified set of creative objectives that drive the sitcom forward.\n",
        "\n",
        "The agent uses a **ReAct-based synthesis approach**, interpreting prior agent outputs and generating new, structured goals:\n",
        "\n",
        "- **Character Goals (2)** — derived from the `CharacterAgent`'s recommendations, focusing on growth, conflict, or relationships.\n",
        "- **Comedic Goal (1)** — distilled from tone analysis and punch-up suggestions made by the `ComedicAgent`.\n",
        "- **Environment Detail (1)** — extracted from the `EnvironmentAgent`'s observations and setting enhancements.\n",
        "- **Creative Suggestion (1)** — an original narrative nudge that naturally integrates all the above goals into a sitcom-appropriate next step.\n",
        "\n",
        "This agent ensures every new scene is **purposeful, tonally consistent, and narratively aligned**, helping maintain momentum and coherence throughout the episode.\n"
      ],
      "metadata": {
        "id": "50e9gy8LB0aj"
      }
    },
    {
      "cell_type": "code",
      "source": [
        "'''\n",
        "\n",
        "# TO DELETE\n",
        "import importlib\n",
        "import agents.scene_planner_agent\n",
        "importlib.reload(agents.scene_planner_agent)\n",
        "from agents.scene_planner_agent import ScenePlannerAgent\n",
        "\n",
        "'''"
      ],
      "metadata": {
        "id": "KdELZBI2ZuQX",
        "colab": {
          "base_uri": "https://localhost:8080/",
          "height": 52
        },
        "outputId": "772f8447-866b-4360-87e7-907dc40304c2"
      },
      "execution_count": 25,
      "outputs": [
        {
          "output_type": "execute_result",
          "data": {
            "text/plain": [
              "'\\n\\n# TO DELETE\\nimport importlib\\nimport agents.scene_planner_agent\\nimportlib.reload(agents.scene_planner_agent)\\nfrom agents.scene_planner_agent import ScenePlannerAgent\\n\\n'"
            ],
            "application/vnd.google.colaboratory.intrinsic+json": {
              "type": "string"
            }
          },
          "metadata": {},
          "execution_count": 25
        }
      ]
    },
    {
      "cell_type": "code",
      "source": [
        "# Initialize the scene planner agent with the language model client\n",
        "scene_planner_agent = ScenePlannerAgent(client=client)\n",
        "\n",
        "# Generate a plan for Scene 2 by integrating recommendations from all three agents\n",
        "scene_2_plan = scene_planner_agent.plan_next_scene(\n",
        "    character_recommendations=char_recommendations,\n",
        "    comedic_recommendations=com_recommendations,\n",
        "    environment_recommendations=env_recommendations,\n",
        "    scene_number=2\n",
        ")\n",
        "\n",
        "print(scene_2_plan)"
      ],
      "metadata": {
        "id": "59hqnint9VYo",
        "colab": {
          "base_uri": "https://localhost:8080/"
        },
        "outputId": "d2c996d1-7b6a-4473-908c-df876510e20a"
      },
      "execution_count": 26,
      "outputs": [
        {
          "output_type": "stream",
          "name": "stdout",
          "text": [
            "Scene Plan:\n",
            "Character Goals:\n",
            "- [Goal 1]: Establish Jimmy's unconventional approach to solving problems by using a hairpin to open the mysterious package, reinforcing his quirky personality.\n",
            "- [Goal 2]: Demonstrate Jimmy's endearing relationship with his pets by engaging in a humorous dialogue with his cat Whiskers and parrot, increasing the comedic value and adding depth to his character.\n",
            "\n",
            "Comedic Goal:\n",
            "- [Goal]: Incorporate a humor-filled interaction involving Jimmy's health-conscious roommate, Martin, and their over-dramatic neighbor, Mrs. Jenkins, around the suspense of the mysterious package. The comedic exchanges should maintain the light-hearted atmosphere and highlight the contrast between the characters' reactions.\n",
            "\n",
            "Environment Detail:\n",
            "- [Detail]: The living room should be impeccably organized, except for the unusual presence of the mysterious package by the entrance. Jimmy's parrot, from its cage, plays a comedic role by repeating phrases that Jimmy has taught it, adding to the suspense and humor.\n",
            "\n",
            "Creative Suggestion:\n",
            "- [Suggestion]: As Jimmy tries to open the package with a hairpin, Whiskers knocks over a plant, distracting Jimmy. Martin enters, delivering his comedic line about his health food. As they laugh, Mrs. Jenkins barges in with her over-dramatic warning. After the laughter subsides, Jimmy finally opens the package to reveal a simple hairpin set, much to the amusement and relief of everyone. This allows for comedic interplay between characters while maintaining suspense and showcasing character quirks.\n"
          ]
        }
      ]
    },
    {
      "cell_type": "markdown",
      "source": [
        "### 🎬 Generating Scene 2 Script"
      ],
      "metadata": {
        "id": "lyMGXxykE-3i"
      }
    },
    {
      "cell_type": "code",
      "source": [
        "'''\n",
        "import importlib\n",
        "import screen_writing\n",
        "importlib.reload(screen_writing)\n",
        "'''"
      ],
      "metadata": {
        "colab": {
          "base_uri": "https://localhost:8080/",
          "height": 35
        },
        "id": "aYlYUHaTb6sf",
        "outputId": "5d13ee62-bd6d-4b5b-dc88-9c09fbebb7e6"
      },
      "execution_count": 27,
      "outputs": [
        {
          "output_type": "execute_result",
          "data": {
            "text/plain": [
              "'\\nimport importlib\\nimport screen_writing\\nimportlib.reload(screen_writing)\\n'"
            ],
            "application/vnd.google.colaboratory.intrinsic+json": {
              "type": "string"
            }
          },
          "metadata": {},
          "execution_count": 27
        }
      ]
    },
    {
      "cell_type": "code",
      "source": [
        "# Generate the full script for Scene 2 based on the structured scene plan\n",
        "scene_2_script = generate_scene(\n",
        "    client=client,\n",
        "    scene_plan=scene_2_plan,\n",
        "    scene_number= 2\n",
        ")\n",
        "\n",
        "print(scene_2_script)"
      ],
      "metadata": {
        "id": "BnxkFMQR1syY",
        "colab": {
          "base_uri": "https://localhost:8080/"
        },
        "outputId": "19231d6e-00fd-4153-f26b-996f54a3b8ec"
      },
      "execution_count": 28,
      "outputs": [
        {
          "output_type": "stream",
          "name": "stdout",
          "text": [
            "INT. LIVING ROOM - DAY\n",
            "\n",
            "JIMMY, a man of unconventional habits, is on the floor, a MYSTERIOUS PACKAGE beside him. He holds a HAIRPIN in his hand.\n",
            "\n",
            "JIMMY\n",
            "(To Whiskers, the cat)\n",
            "Whiskers, my dear, when conventional methods fail, it's time to think out of the box.\n",
            "\n",
            "[Laugh Track]\n",
            "\n",
            "Jimmy's PARROT, from its cage, squawks.\n",
            "\n",
            "PARROT\n",
            "Out of the box, out of the box!\n",
            "\n",
            "[Laugh Track]\n",
            "\n",
            "As Jimmy leans in to open the package, Whiskers, the cat, knocks over a PLANT. Jimmy jumps back.\n",
            "\n",
            "JIMMY\n",
            "(To Whiskers)\n",
            "Well, thanks for the distraction, Whiskers!\n",
            "\n",
            "[Laugh Track]\n",
            "\n",
            "The front door opens, and MARTIN, Jimmy's health-conscious roommate, walks in, holding a bag of organic groceries.\n",
            "\n",
            "MARTIN\n",
            "(Sees plant on floor)\n",
            "Jimmy, did you try to feed the plant your junk food again?\n",
            "\n",
            "[Laugh Track]\n",
            "\n",
            "JIMMY\n",
            "(Grins)\n",
            "Not this time, Martin. Just a minor cat-astrophe.\n",
            "\n",
            "[Laugh Track]\n",
            "\n",
            "Suddenly, the door bursts open, and MRS. JENKINS, their over-dramatic neighbor, rushes in.\n",
            "\n",
            "MRS. JENKINS\n",
            "(Breathless)\n",
            "I saw it from my window... The mysterious package!\n",
            "\n",
            "MARTIN\n",
            "(Laughs)\n",
            "Mrs. Jenkins, it's just a package, not an alien invasion.\n",
            "\n",
            "[Laugh Track]\n",
            "\n",
            "JIMMY\n",
            "(Opens package)\n",
            "And the mystery is solved!\n",
            "\n",
            "He holds up a simple HAIRPIN SET. Everyone laughs.\n",
            "\n",
            "[Laugh Track]\n",
            "\n",
            "MRS. JENKINS\n",
            "(Leaves, grumbling)\n",
            "Next time, it could be aliens...\n",
            "\n",
            "MARTIN\n",
            "(To Jimmy)\n",
            "Your hairpin obsession is getting out of hand, buddy.\n",
            "\n",
            "JIMMY\n",
            "(Chuckles)\n",
            "Well, it does come in handy, doesn't it?\n",
            "\n",
            "They all share a laugh as the parrot squawks.\n",
            "\n",
            "PARROT\n",
            "Out of hand, out of hand!\n",
            "\n",
            "[Laugh Track]\n",
            "\n",
            "END OF SCENE\n"
          ]
        }
      ]
    },
    {
      "cell_type": "code",
      "source": [],
      "metadata": {
        "id": "aP9RCBFsadjM"
      },
      "execution_count": 28,
      "outputs": []
    },
    {
      "cell_type": "markdown",
      "source": [
        "### Adding Scene 2 to Vector Database"
      ],
      "metadata": {
        "id": "crS4eTxLnoi2"
      }
    },
    {
      "cell_type": "code",
      "source": [
        "# Store the generated Scene 2 script in the vector database for future retrieval and context\n",
        "store_scene_in_vector_db(\n",
        "    client=client,\n",
        "    sitcom_title=sitcom_title,\n",
        "    scene_script=scene_2_script,\n",
        "    embedding_model=embedding_model,\n",
        "    index=index,\n",
        "    vector_metadata=vector_metadata\n",
        ")"
      ],
      "metadata": {
        "colab": {
          "base_uri": "https://localhost:8080/"
        },
        "id": "4HQfvTmTlzi2",
        "outputId": "537fb280-eb78-4af5-b8d0-1028439a703d"
      },
      "execution_count": 29,
      "outputs": [
        {
          "output_type": "stream",
          "name": "stdout",
          "text": [
            "Total scenes stored in vector DB: 2 \n",
            "\n",
            "\n",
            "Scene 1\n",
            "Summary: In this opening scene, Jimmy, a locksmith in his mid-40s, starts his day at his shop. He begins with a quirky morning routine of trying to pick a lock with a hairpin. His cat, Whiskers, surprises him by jumping on the counter, leading to a humorous interaction involving a master key and a can of tuna. A gust of wind causes a stack of keys to fall, and Jimmy takes a tumble trying to catch them. Despite the mishap, he dusts himself off and prepares to face the day's challenges, showing his resilience and good humor.\n",
            "Characters: ['Jimmy', 'Whiskers']\n",
            "Location: Jimmy's Locksmith Shop\n",
            "Recurring Joke: Jimmy's attempts to use keys for non-lock related tasks (e.g., using the master key to open a can of tuna) and his playful banter with his cat, Whiskers, are recurring jokes.\n",
            "Emotional Tone: Humorous, Light-hearted\n",
            "\n",
            "Scene 2\n",
            "Summary: In the scene, Jimmy, a man with unconventional habits, tries to open a mysterious package with a hairpin. His cat, Whiskers, and his parrot add comedic relief with their antics. Jimmy's health-conscious roommate, Martin, walks in and jokes about Jimmy's failed attempts to feed their plant junk food. Their over-dramatic neighbor, Mrs. Jenkins, rushes in, having noticed the mysterious package from her window. She leaves disappointed when Jimmy reveals the package contains a simple hairpin set. The scene ends with Martin joking about Jimmy's obsession with hairpins, and everyone shares a laugh.\n",
            "Characters: ['Jimmy', 'Whiskers (the cat)', 'Parrot', 'Martin', 'Mrs. Jenkins']\n",
            "Location: Living Room\n",
            "Recurring Joke: The parrot repeating phrases in a humorous context (\"Out of the box, out of the box!\", \"Out of hand, out of hand!\")\n",
            "Emotional Tone: Humorous\n"
          ]
        }
      ]
    },
    {
      "cell_type": "markdown",
      "source": [
        "## 🎬 Scene 3 Generation\n",
        "\n",
        "Scene 3 (through 20) will follow the same exact structure as Scene 2"
      ],
      "metadata": {
        "id": "7pteDxs7i5vn"
      }
    },
    {
      "cell_type": "code",
      "source": [
        "# Extract the description for Scene 3 from the episode outline\n",
        "scene_3_desc = extract_scene(episode_outline, 3)\n",
        "print(scene_3_desc)"
      ],
      "metadata": {
        "id": "xFVSwC2S2fg_",
        "colab": {
          "base_uri": "https://localhost:8080/"
        },
        "outputId": "a67ad139-492d-4012-d2f7-82eb99cd031d"
      },
      "execution_count": 30,
      "outputs": [
        {
          "output_type": "stream",
          "name": "stdout",
          "text": [
            "Scene 3: \"Earl's Obsession\" Earl, the eccentric parole officer, visits Jimmy at the shop and shows off his latest lock-related obsession. The interaction is amusing and friendly.\n"
          ]
        }
      ]
    },
    {
      "cell_type": "markdown",
      "source": [
        "### Character Agent"
      ],
      "metadata": {
        "id": "4CKIVGewp-9H"
      }
    },
    {
      "cell_type": "code",
      "source": [
        "# Re-initialize the character agent with the language model client, metadata store, and total number of scenes\n",
        "character_agent = CharacterAgent(\n",
        "    client=client,\n",
        "    vector_metadata=vector_metadata,\n",
        "    num_scenes=2\n",
        ")\n",
        "\n",
        "# Evaluate Scene 3 using the character agent and store the evaluation results\n",
        "char_histories, char_is_consistent, char_explanation, char_recommendations, char_thoughts = evaluate_character_agent_scene(\n",
        "    agent=character_agent,\n",
        "    scene_description=scene_3_desc,\n",
        "    scene_number=3\n",
        ")"
      ],
      "metadata": {
        "id": "oQXW-nswz2us",
        "colab": {
          "base_uri": "https://localhost:8080/"
        },
        "outputId": "efc1a13c-816a-4171-c7e5-c290b2beafc6"
      },
      "execution_count": 31,
      "outputs": [
        {
          "output_type": "stream",
          "name": "stdout",
          "text": [
            "🔁 Agent will consider the last 2 scene(s) for context.\n",
            "\n",
            "📚 Retrieving script metadata for scene(s): [1, 2]\n",
            "Scene 3 — Consistency: ✅ Consistent\n",
            "\n",
            "Explanation:\n",
            "2. Short Explanation Why: Earl's eccentricity is consistent with his previous obsession with locks, and his friendly visit to Jimmy aligns with their established relationship. Jimmy's resilience, good humor, and unconventional habits are maintained as he interacts with Earl. The scene's humor aligns with the sitcom's tone, and no contradictions are present based on the past scenes.\n",
            "\n",
            "Interaction Improvement Recommendations:\n",
            "1. Earl, fascinated by Jimmy's hairpin, asks if he can borrow it to examine its potential as a lock-picking tool. Jimmy, amused, hands it over while jokingly warning Earl not to lose it. — (This interaction showcases Earl's eccentric obsession with locks from Scene 3 and Jimmy's unconventional obsession with hairpins from Scenes 1 and 2.)\n",
            "2. As they continue their chat, Earl, in his sociable manner, asks Jimmy about the plant he's been trying to feed junk food. Jimmy, with his good humor, responds that it's a work in progress and Earl, intrigued, promises to bring over some \"lock nutrients\" next time. — (This interaction builds on Jimmy's unconventional habit of feeding the plant junk food from Scene 2, while also highlighting Earl's sociable personality and eccentricity from Scene 3.)\n",
            "\n",
            "Agent's Internal Thoughts:\n",
            "- Think: Identified characters ['Earl', 'Jimmy'] using context from scene(s) [1, 2].\n",
            "- Act: Retrieved profiles for ['Earl', 'Jimmy'].\n",
            "- Observe: Scene is consistent.\n",
            "- Recommend: Provided suggestions for enhancing character dynamics.\n"
          ]
        }
      ]
    },
    {
      "cell_type": "markdown",
      "source": [
        "### Comedy Agent"
      ],
      "metadata": {
        "id": "SoZ5YFR9q-vT"
      }
    },
    {
      "cell_type": "code",
      "source": [
        "# Re-initialize the comedy agent with the language model client, metadata store, and scene history window\n",
        "comedic_agent = ComedicAgent(\n",
        "    client=client,\n",
        "    vector_metadata=vector_metadata,\n",
        "    num_scenes=2\n",
        ")\n",
        "\n",
        "# Evaluate Scene 3 using the comedy agent and store the evaluation results\n",
        "com_context, com_is_consistent, com_analysis_text, com_recommendations, com_thoughts = evaluate_comedic_agent_scene(\n",
        "    agent=comedic_agent,\n",
        "    scene_description=scene_3_desc,\n",
        "    scene_number=3\n",
        ")"
      ],
      "metadata": {
        "id": "d1rkV9qqz2r6",
        "colab": {
          "base_uri": "https://localhost:8080/"
        },
        "outputId": "2f828b7f-bd51-461b-c9e0-5215a0c8c40c"
      },
      "execution_count": 32,
      "outputs": [
        {
          "output_type": "stream",
          "name": "stdout",
          "text": [
            "🔁 Agent will consider the last 2 scene(s) for context.\n",
            "\n",
            "📚 Retrieving script metadata for scene(s): [1, 2]\n",
            "Scene 3 — Comedic Tone: ✅ Consistent\n",
            "\n",
            "Comedic Tone Analysis:\n",
            "3. Short Explanation: The comedic tone of the new scene is consistent with the previous scenes. The humor is light-hearted and revolves around the eccentricities of the characters and their interactions.\n",
            "\n",
            "Comedic Improvement Recommendations:\n",
            "1. Suggestion: When Earl shows off his latest obsession – an antique lock – he attempts to demonstrate its \"unbreakable\" feature by challenging Jimmy to pick it. After a series of unsuccessful attempts, Earl takes back the lock only to accidentally lock his own fingers together, much to Jimmy's amusement. Earl, however, insists this is a \"safety feature\". — This suggestion builds on Earl's eccentric character and his obsession with locks. It also introduces a funny visual gag that aligns well with the comedic style of the sitcom. \n",
            "2. Suggestion: Earlier in the series, it was established that Earl has a habit of misplacing his glasses. As he's showing off his new lock, he once again can't find his glasses and hilariously ends up using a large, comically oversized magnifying glass from the shop counter to examine the lock. Jimmy finds Earl's glasses in his shirt pocket, but doesn't interrupt Earl's magnifying glass antics, instead sharing a knowing smile with the audience. — This suggestion reinforces a light running joke about Earl's forgetfulness and creates a humorous situation that's grounded in the characters' established behaviors. It also provides an opportunity for subtle, character-driven comedy without overusing the running joke.\n",
            "\n",
            "Comedic Agent's Internal Thoughts:\n",
            "- Think: Will retrieve summaries and jokes from scene(s) [1, 2] for Scene 3.\n",
            "- Act: Retrieved summaries and jokes from prior scenes.\n",
            "- Observe: Scene is consistent with prior comedic tone.\n",
            "- Recommend: Provided comedic improvements.\n"
          ]
        }
      ]
    },
    {
      "cell_type": "markdown",
      "source": [
        "### Enviroment Agent\n"
      ],
      "metadata": {
        "id": "s1o8wr8jtsuE"
      }
    },
    {
      "cell_type": "code",
      "source": [
        "# Re-initialize the environment agent with the language model client, metadata store, and scene history window\n",
        "environment_agent = EnvironmentAgent(\n",
        "    client=client,\n",
        "    vector_metadata=vector_metadata,\n",
        "    num_scenes=2\n",
        ")\n",
        "\n",
        "# Evaluate Scene 3 using the environment agent and store the evaluation results\n",
        "context, is_consistent, explanation, env_recommendations, env_thoughts = evaluate_environment_agent_scene(\n",
        "    agent=environment_agent,\n",
        "    scene_description=scene_3_desc,\n",
        "    scene_number=3\n",
        ")"
      ],
      "metadata": {
        "id": "vuQawzfLz2pY",
        "colab": {
          "base_uri": "https://localhost:8080/"
        },
        "outputId": "1bd01234-5b4f-44e8-e924-d8e2ddab524c"
      },
      "execution_count": 33,
      "outputs": [
        {
          "output_type": "stream",
          "name": "stdout",
          "text": [
            "🔁 Environment Agent will consider the last 2 scene(s) for context.\n",
            "\n",
            "📚 Retrieving script metadata for scene(s): [1, 2]\n",
            "Scene 3 — Environment Transition: ✅ Consistent\n",
            "\n",
            "Explanation:\n",
            "Short Explanation: The transition from the living room back to Jimmy's Shop is logical. It's plausible that the characters could have left the living room and returned to the shop for any number of reasons. \n",
            "- Suggested Transition Setup: Not necessary in this case.\n",
            "\n",
            "Environment Detail Suggestions:\n",
            "Environment Details Suggestions:\n",
            "- [Suggestion 1]: As a nod to Earl's lock-related obsession, there can be a comedic moment where we see Earl trying to pick a particularly stubborn lock on an antique trunk that Jimmy's shop is supposed to fix. This could add a humorous and character-relevant background action to the scene.\n",
            "- [Suggestion 2]: The sound of a bell jingling every time the shop door opens can be incorporated. This could bring a classic, small-business charm to the shop setting and also serve as a comedic cue for characters to react to new entrants.\n",
            "\n",
            "Environment Agent's Internal Thoughts:\n",
            "- Think: Retrieved summaries and environment context from scene(s) [1, 2] for Scene 3.\n",
            "- Act: Analyzed environment features for Scene 3.\n",
            "- Observe: Scene transition is consistent.\n",
            "- Recommend: Provided environmental enhancement suggestions.\n"
          ]
        }
      ]
    },
    {
      "cell_type": "markdown",
      "source": [
        "### Scene Planner Agent"
      ],
      "metadata": {
        "id": "p_pZJkH3uInh"
      }
    },
    {
      "cell_type": "code",
      "source": [
        "# Generate a plan for Scene 3 by integrating recommendations from all three agents\n",
        "scene_3_plan = scene_planner_agent.plan_next_scene(\n",
        "    character_recommendations=char_recommendations,\n",
        "    comedic_recommendations=com_recommendations,\n",
        "    environment_recommendations=env_recommendations,\n",
        "    scene_number=3\n",
        ")\n",
        "\n",
        "print(scene_3_plan)"
      ],
      "metadata": {
        "id": "SzoOQcYGz2h9",
        "colab": {
          "base_uri": "https://localhost:8080/"
        },
        "outputId": "07c8f34f-2880-4ba1-f056-908191da951a"
      },
      "execution_count": 34,
      "outputs": [
        {
          "output_type": "stream",
          "name": "stdout",
          "text": [
            "Scene Plan:\n",
            "Character Goals:\n",
            "- [Goal 1]: Establish a deeper connection between Earl and Jimmy through a shared moment of fascination with Jimmy's hairpin, highlighting Earl's eccentricity and Jimmy's unconventional interests.\n",
            "- [Goal 2]: Further develop Earl's sociable personality by having him show genuine interest in Jimmy's unusual plant-care habits, promising to contribute his own eccentric solution.\n",
            "\n",
            "Comedic Goal:\n",
            "- [Goal]: Introduce a humorous sequence where Earl accidentally locks his fingers together while demonstrating an \"unbreakable\" lock, and exacerbates his forgetfulness by using an oversized magnifying glass to inspect the lock, unaware that his glasses are in his pocket.\n",
            "\n",
            "Environment Detail:\n",
            "- [Detail]: Incorporate a variety of unique, antique locks and keys displayed around Jimmy's shop, each with their own peculiarities, which Earl is frequently seen tinkering with in the background.\n",
            "\n",
            "Creative Suggestion:\n",
            "- [Suggestion]: As the scene unfolds, Earl's attempts to pick the \"unbreakable\" lock could progressively become more desperate, culminating in him using Jimmy's hairpin. At the same time, Jimmy, amused by Earl's antics, subtly feeds his plant a cheese puff. This could lead to a comedic climax where the stubborn lock finally gives way, launching the hairpin into the plant pot. Earl, having promised to help Jimmy's plant, sees this as serendipitous \"lock nutrients\".\n"
          ]
        }
      ]
    },
    {
      "cell_type": "markdown",
      "source": [
        "### Generating Scene 3 Script"
      ],
      "metadata": {
        "id": "SoCkylEXvB7u"
      }
    },
    {
      "cell_type": "code",
      "source": [
        "# Generate the full script for Scene 3 based on the structured scene plan\n",
        "scene_3_script = generate_scene(\n",
        "    client=client,\n",
        "    scene_plan=scene_3_plan,\n",
        "    scene_number= 3\n",
        ")\n",
        "\n",
        "print(scene_3_script)"
      ],
      "metadata": {
        "id": "OVxGUmjiuUGU",
        "colab": {
          "base_uri": "https://localhost:8080/"
        },
        "outputId": "5fa7e800-ce69-405a-f3fd-b69701298a60"
      },
      "execution_count": 35,
      "outputs": [
        {
          "output_type": "stream",
          "name": "stdout",
          "text": [
            "INT. JIMMY'S LOCKSMITH SHOP - DAY\n",
            "\n",
            "A variety of antique locks and keys are displayed around the shop. EARL, an eccentric man in his 60s, is examining a peculiar lock with an oversized magnifying glass, his glasses conspicuously poking out from his pocket. JIMMY, a young, unconventional locksmith, is trimming a bizarre plant with a pair of small scissors. \n",
            "\n",
            "EARL:\n",
            "(Looking through the magnifying glass)\n",
            "This lock is... (squints) ...fascinating! Just like your hairpin, Jimmy.\n",
            "\n",
            "[Laugh Track]\n",
            "\n",
            "JIMMY:\n",
            "(Chuckles)\n",
            "You're the only one who'd find a hairpin fascinating, Earl.\n",
            "\n",
            "EARL:\n",
            "(Still inspecting)\n",
            "And you're the only one who'd feed a plant cheese puffs. \n",
            "\n",
            "[Laugh Track]\n",
            "\n",
            "Jimmy shrugs and tosses a cheese puff to the plant.\n",
            "\n",
            "JIMMY:\n",
            "(Smiling)\n",
            "It's an acquired taste. \n",
            "\n",
            "EARL:\n",
            "(Excited)\n",
            "Wait till I tell you about my compost tea. \n",
            "\n",
            "[Laugh Track]\n",
            "\n",
            "Earl, still peering through the magnifying glass, attempts to demonstrate an \"unbreakable\" lock, but locks his fingers together instead.\n",
            "\n",
            "EARL:\n",
            "(Struggling)\n",
            "Uh, Jimmy, could you lend me that hairpin?\n",
            "\n",
            "JIMMY:\n",
            "(Handing Earl his hairpin)\n",
            "You're not going to pick the lock with this, are you?\n",
            "\n",
            "EARL:\n",
            "(Grinning)\n",
            "No, I'm going to pick my fingers free!\n",
            "\n",
            "[Laugh Track]\n",
            "\n",
            "As Earl struggles, he inadvertently sends the hairpin flying into Jimmy's plant pot.\n",
            "\n",
            "EARL:\n",
            "(Laughs)\n",
            "Well, there you go. A bit of metal for your plant. Consider it...lock nutrients.\n",
            "\n",
            "[Laugh Track]\n",
            "\n",
            "Jimmy shakes his head, chuckling.\n",
            "\n",
            "JIMMY:\n",
            "Only you, Earl. Only you. \n",
            "\n",
            "They both laugh as Earl continues to struggle with the lock, ending the scene on a humorous note.\n"
          ]
        }
      ]
    },
    {
      "cell_type": "markdown",
      "source": [
        "### Adding Metadata to Vector Database"
      ],
      "metadata": {
        "id": "fjFh5eocvYhU"
      }
    },
    {
      "cell_type": "code",
      "source": [
        "# Store the generated Scene 3 script in the vector database for future retrieval and context\n",
        "store_scene_in_vector_db(\n",
        "    client=client,\n",
        "    sitcom_title=sitcom_title,\n",
        "    scene_script=scene_3_script,\n",
        "    embedding_model=embedding_model,\n",
        "    index=index,\n",
        "    vector_metadata=vector_metadata\n",
        ")"
      ],
      "metadata": {
        "id": "uFZ41BBxvE0c",
        "colab": {
          "base_uri": "https://localhost:8080/"
        },
        "outputId": "c5a2df7f-09a6-4bff-f550-a3bcd3fcf961"
      },
      "execution_count": 36,
      "outputs": [
        {
          "output_type": "stream",
          "name": "stdout",
          "text": [
            "Total scenes stored in vector DB: 3 \n",
            "\n",
            "\n",
            "Scene 1\n",
            "Summary: In this opening scene, Jimmy, a locksmith in his mid-40s, starts his day at his shop. He begins with a quirky morning routine of trying to pick a lock with a hairpin. His cat, Whiskers, surprises him by jumping on the counter, leading to a humorous interaction involving a master key and a can of tuna. A gust of wind causes a stack of keys to fall, and Jimmy takes a tumble trying to catch them. Despite the mishap, he dusts himself off and prepares to face the day's challenges, showing his resilience and good humor.\n",
            "Characters: ['Jimmy', 'Whiskers']\n",
            "Location: Jimmy's Locksmith Shop\n",
            "Recurring Joke: Jimmy's attempts to use keys for non-lock related tasks (e.g., using the master key to open a can of tuna) and his playful banter with his cat, Whiskers, are recurring jokes.\n",
            "Emotional Tone: Humorous, Light-hearted\n",
            "\n",
            "Scene 2\n",
            "Summary: In the scene, Jimmy, a man with unconventional habits, tries to open a mysterious package with a hairpin. His cat, Whiskers, and his parrot add comedic relief with their antics. Jimmy's health-conscious roommate, Martin, walks in and jokes about Jimmy's failed attempts to feed their plant junk food. Their over-dramatic neighbor, Mrs. Jenkins, rushes in, having noticed the mysterious package from her window. She leaves disappointed when Jimmy reveals the package contains a simple hairpin set. The scene ends with Martin joking about Jimmy's obsession with hairpins, and everyone shares a laugh.\n",
            "Characters: ['Jimmy', 'Whiskers (the cat)', 'Parrot', 'Martin', 'Mrs. Jenkins']\n",
            "Location: Living Room\n",
            "Recurring Joke: The parrot repeating phrases in a humorous context (\"Out of the box, out of the box!\", \"Out of hand, out of hand!\")\n",
            "Emotional Tone: Humorous\n",
            "\n",
            "Scene 3\n",
            "Summary: In Jimmy's locksmith shop, Earl, an eccentric older man, is fascinated by an unusual lock and Jimmy's hairpin. Jimmy, a young locksmith with unconventional practices, is feeding his plant cheese puffs. They exchange humorous banter about their unique interests, with Earl expressing eagerness to share about his compost tea. Earl attempts to demonstrate an \"unbreakable\" lock, but ends up locking his fingers together. He uses Jimmy's hairpin to try and free his fingers, but accidentally flings it into Jimmy's plant pot, making a joke about it being \"lock nutrients\". The scene ends with both of them laughing at the situation.\n",
            "Characters: ['Earl', 'Jimmy']\n",
            "Location: Jimmy's Locksmith Shop\n",
            "Recurring Joke: None\n",
            "Emotional Tone: Humorous\n"
          ]
        }
      ]
    },
    {
      "cell_type": "markdown",
      "source": [
        "## Scene 4 Generation\n",
        "\n",
        "For scenes 4 and beyond, the 3 previous scenes are retreived."
      ],
      "metadata": {
        "id": "RztuMTttcJ-h"
      }
    },
    {
      "cell_type": "code",
      "source": [
        "# Extract the description for Scene 4 from the episode outline\n",
        "scene_4_desc = extract_scene(episode_outline, 4)\n",
        "print(scene_4_desc)"
      ],
      "metadata": {
        "id": "YnDuemb9aVpE",
        "colab": {
          "base_uri": "https://localhost:8080/"
        },
        "outputId": "7b07d6b5-7d01-4b8b-b59d-b95dd4a38293"
      },
      "execution_count": 37,
      "outputs": [
        {
          "output_type": "stream",
          "name": "stdout",
          "text": [
            "Scene 4: \"Blast from the Past\" Jimmy opens the mysterious package to find a lock from his criminal past, causing him to reminisce. The tone is a mix of nostalgia and humor.\n"
          ]
        }
      ]
    },
    {
      "cell_type": "markdown",
      "source": [
        "### 🎭 Character Agent\n"
      ],
      "metadata": {
        "id": "RdUaKCUWe5AN"
      }
    },
    {
      "cell_type": "code",
      "source": [
        "# Re-initialize the character agent with the language model client, metadata store, and total number of scenes\n",
        "character_agent = CharacterAgent(\n",
        "    client=client,\n",
        "    vector_metadata=vector_metadata,\n",
        "    num_scenes=3\n",
        ")\n",
        "\n",
        "# Evaluate Scene 4 using the character agent and store the evaluation results\n",
        "char_histories, char_is_consistent, char_explanation, char_recommendations, char_thoughts = evaluate_character_agent_scene(\n",
        "    agent=character_agent,\n",
        "    scene_description=scene_4_desc,\n",
        "    scene_number=4\n",
        ")"
      ],
      "metadata": {
        "id": "NBweVSqldifu",
        "colab": {
          "base_uri": "https://localhost:8080/"
        },
        "outputId": "63d3481c-e859-460b-ce89-960a53a49931"
      },
      "execution_count": 38,
      "outputs": [
        {
          "output_type": "stream",
          "name": "stdout",
          "text": [
            "🔁 Agent will consider the last 3 scene(s) for context.\n",
            "\n",
            "📚 Retrieving script metadata for scene(s): [1, 2, 3]\n",
            "Scene 4 — Consistency: ✅ Consistent\n",
            "\n",
            "Explanation:\n",
            "2. Short Explanation Why: Jimmy's actions in the planned scene align with his established personality, emotional arc, and speaking style. His humor is consistent with previous scenes, as is his use of a hairpin to open the package. The introduction of a lock from his past speaks to his unconventional and eccentric character. His reminiscing could also add depth to his character, fitting in with the growing acceptance of his quirks seen in Scene 3.\n",
            "\n",
            "Interaction Improvement Recommendations:\n",
            "1. Jimmy uses a hairpin to unlock the old lock from his past, and in a moment of nostalgia, shares a funny story about his hairpin adventures to Mrs. Jenkins, the nosy neighbor. — (This interaction fits because it continues the running joke about Jimmy's unconventional use of hairpins as seen in Scenes 1, 2, and 3. It also builds on the friendly conflict hinted at in Scene 2, where Mrs. Jenkins was disappointed by the ordinary contents of Jimmy's previous package.)\n",
            "2. Jimmy's roommate, Martin, walks in on him reminiscing and jokingly asks if he's planning a return to his criminal past. Jimmy responds with good-humored banter, assuring him that he's very much reformed, but can't resist adding a playful warning about keeping his valuables safe. — (This interaction reflects Jimmy's humorous speaking style seen in Scenes 1, 2, and 3, and also builds on the comfortable relationship between Jimmy and Martin established in Scene 2. It also highlights Jimmy's resilience as he makes light of his past.)\n",
            "\n",
            "Agent's Internal Thoughts:\n",
            "- Think: Identified characters ['Jimmy'] using context from scene(s) [1, 2, 3].\n",
            "- Act: Retrieved profiles for ['Jimmy'].\n",
            "- Observe: Scene is consistent.\n",
            "- Recommend: Provided suggestions for enhancing character dynamics.\n"
          ]
        }
      ]
    },
    {
      "cell_type": "markdown",
      "source": [
        "### 🎤 Comedic Agent\n"
      ],
      "metadata": {
        "id": "9jGq4PUYftR6"
      }
    },
    {
      "cell_type": "code",
      "source": [
        "# Re-initialize the comedy agent with the language model client, metadata store, and scene history window\n",
        "comedic_agent = ComedicAgent(\n",
        "    client=client,\n",
        "    vector_metadata=vector_metadata,\n",
        "    num_scenes=3\n",
        ")\n",
        "\n",
        "# Evaluate Scene 4 using the comedy agent and store the evaluation results\n",
        "com_context, com_is_consistent, com_analysis_text, com_recommendations, com_thoughts = evaluate_comedic_agent_scene(\n",
        "    agent=comedic_agent,\n",
        "    scene_description=scene_4_desc,\n",
        "    scene_number=4\n",
        ")"
      ],
      "metadata": {
        "id": "5MiSLgNGdidC",
        "colab": {
          "base_uri": "https://localhost:8080/"
        },
        "outputId": "492509ba-3c75-42d8-fefe-d492c2cf61ac"
      },
      "execution_count": 39,
      "outputs": [
        {
          "output_type": "stream",
          "name": "stdout",
          "text": [
            "🔁 Agent will consider the last 3 scene(s) for context.\n",
            "\n",
            "📚 Retrieving script metadata for scene(s): [1, 2, 3]\n",
            "Scene 4 — Comedic Tone: ✅ Consistent\n",
            "\n",
            "Comedic Tone Analysis:\n",
            "3. Short Explanation: The tone of nostalgic humor in the new scene is consistent with the quirky and light-hearted humor of the previous scenes. The humor is derived from Jimmy's unconventional habits and interactions with his pets and friends, which is a recurring theme.\n",
            "\n",
            "Comedic Improvement Recommendations:\n",
            "1. [Suggestion] — As Jimmy opens the package, he pulls out the lock and lets out a surprised, \"Oh, wow... my old lock pick.\" His roommate, Ben, deadpans, \"You mean the one you used to break into the school gym to steal the mascot costume?\" Jimmy grins sheepishly, \"No, the one I used to break into the Principal's office to change my grades. The mascot thing was a completely different lock pick.\" This addition builds on Jimmy's past as a mischievous character and brings in humor through the unexpected escalation of his past exploits. It also plays on the comedic dynamic between Jimmy and Ben, where Ben often serves as the straight man to Jimmy's wild stories. \n",
            "2. [Suggestion] — During Jimmy's reminiscence, he mentions the one time he accidentally locked himself inside a bank vault while attempting a heist. He says, \"You know, it's not as fun as it sounds. Very cold. And the echo is just... annoying.\" This suggestion adds humor by revealing a humorous failure from Jimmy's past, while also bringing a light, self-deprecating tone to the character. It also plays into the running joke of Jimmy's past life as a criminal always going hilariously wrong.\n",
            "\n",
            "Comedic Agent's Internal Thoughts:\n",
            "- Think: Will retrieve summaries and jokes from scene(s) [1, 2, 3] for Scene 4.\n",
            "- Act: Retrieved summaries and jokes from prior scenes.\n",
            "- Observe: Scene is consistent with prior comedic tone.\n",
            "- Recommend: Provided comedic improvements.\n"
          ]
        }
      ]
    },
    {
      "cell_type": "markdown",
      "source": [
        "### 🌆 Environment Agent\n"
      ],
      "metadata": {
        "id": "VfaoW5xGgpsF"
      }
    },
    {
      "cell_type": "code",
      "source": [
        "# Re-initialize the environment agent with the language model client, metadata store, and scene history window\n",
        "environment_agent = EnvironmentAgent(\n",
        "    client=client,\n",
        "    vector_metadata=vector_metadata,\n",
        "    num_scenes=3\n",
        ")\n",
        "\n",
        "# Evaluate Scene 4 using the environment agent and store the evaluation results\n",
        "context, is_consistent, explanation, env_recommendations, env_thoughts = evaluate_environment_agent_scene(\n",
        "    agent=environment_agent,\n",
        "    scene_description=scene_4_desc,\n",
        "    scene_number=4\n",
        ")"
      ],
      "metadata": {
        "id": "hT4tXUNVfxoM",
        "colab": {
          "base_uri": "https://localhost:8080/"
        },
        "outputId": "3cc51392-c728-44ff-e0c6-9b8c8d7bc724"
      },
      "execution_count": 40,
      "outputs": [
        {
          "output_type": "stream",
          "name": "stdout",
          "text": [
            "🔁 Environment Agent will consider the last 3 scene(s) for context.\n",
            "\n",
            "📚 Retrieving script metadata for scene(s): [1, 2, 3]\n",
            "Scene 4 — Environment Transition: ✅ Consistent\n",
            "\n",
            "Explanation:\n",
            "Short Explanation: The transition from Jimmy's Locksmith Shop to Jimmy's House is logical and believable. It's reasonable to assume that after a day at work, Jimmy would return home. The audience would expect this kind of transition in a sitcom.\n",
            "- Suggested Transition Setup: Not necessary in this case.\n",
            "\n",
            "Environment Detail Suggestions:\n",
            "Environment Details Suggestions:\n",
            "- [Suggestion 1]: As Jimmy enters his house, he absentmindedly tries to pick the lock of his own front door before realizing he doesn't need to, giving a nod to his criminal past. \n",
            "- [Suggestion 2]: The mysterious package on the kitchen table is wrapped in an extravagantly colorful paper and a large, flamboyant bow, contrasting with the otherwise mundane surroundings of Jimmy's house. It keeps making a weird ticking noise, causing Jimmy to jump every time it ticks.\n",
            "\n",
            "Environment Agent's Internal Thoughts:\n",
            "- Think: Retrieved summaries and environment context from scene(s) [1, 2, 3] for Scene 4.\n",
            "- Act: Analyzed environment features for Scene 4.\n",
            "- Observe: Scene transition is consistent.\n",
            "- Recommend: Provided environmental enhancement suggestions.\n"
          ]
        }
      ]
    },
    {
      "cell_type": "markdown",
      "source": [
        "### 🧠 Scene Planner Agent\n"
      ],
      "metadata": {
        "id": "X5R8wnYMhN1z"
      }
    },
    {
      "cell_type": "code",
      "source": [
        "# Generate a plan for Scene 4 by integrating recommendations from all three agents\n",
        "scene_4_plan = scene_planner_agent.plan_next_scene(\n",
        "    character_recommendations=char_recommendations,\n",
        "    comedic_recommendations=com_recommendations,\n",
        "    environment_recommendations=env_recommendations,\n",
        "    scene_number=4\n",
        ")\n",
        "\n",
        "print(scene_4_plan)"
      ],
      "metadata": {
        "id": "jlm50ArShIfb",
        "colab": {
          "base_uri": "https://localhost:8080/"
        },
        "outputId": "4c502950-3bef-4d1f-dd14-b36db593edd2"
      },
      "execution_count": 41,
      "outputs": [
        {
          "output_type": "stream",
          "name": "stdout",
          "text": [
            "Scene Plan:\n",
            "Character Goals:\n",
            "- [Goal 1] Jimmy must continue to showcase his playful side and resilience by using his hairpin to unlock a mysterious package, sparking nostalgia and a humorous interaction with Mrs. Jenkins. This interaction should further develop their friendly rivalry and showcase more of Jimmy's unconventional skills.\n",
            "- [Goal 2] Jimmy should engage in playful banter with Martin, revealing more about his past and establishing a strong bond between the two, while also reinforcing the comedic theme of Jimmy's reformed criminal past.\n",
            "\n",
            "Comedic Goal:\n",
            "- [Goal] Jimmy should reveal his mischievous past in a comedic manner, escalating the humor by sharing unexpected and increasingly outrageous stories of his criminal exploits. The humor should come from Jimmy's casual recollection of these incidents and his roommate's deadpan reactions.\n",
            "\n",
            "Environment Detail:\n",
            "- [Detail] The scene should take place in Jimmy's home, which is decorated with subtle reminders of his past life, like a framed photograph of him wearing a stolen mascot costume. The mysterious package, with its flamboyant wrapping and odd ticking sound, should be a stark contrast to the rest of the environment.\n",
            "\n",
            "Creative Suggestion:\n",
            "- [Suggestion] As the scene progresses, Jimmy could find an old note inside the package, which triggers a series of flashbacks of his past exploits. The flashbacks could be presented in a humorous way, with Jimmy narrating the events as if they were just harmless pranks. This would not only provide more comedic material, but also deepen the audience's understanding of Jimmy's character. The flashbacks could also serve as a setup for future episodes, hinting at unresolved issues from Jimmy's past that could come back to haunt him.\n"
          ]
        }
      ]
    },
    {
      "cell_type": "markdown",
      "source": [
        "### Generating Scene 4 Script"
      ],
      "metadata": {
        "id": "d-7NmcB9i5TD"
      }
    },
    {
      "cell_type": "code",
      "source": [
        "# Generate the full script for Scene 4 based on the structured scene plan\n",
        "scene_4_script = generate_scene(\n",
        "    client=client,\n",
        "    scene_plan=scene_4_plan,\n",
        "    scene_number= 4\n",
        ")\n",
        "\n",
        "print(scene_4_script)"
      ],
      "metadata": {
        "id": "Lpq3ac1_i04z",
        "colab": {
          "base_uri": "https://localhost:8080/"
        },
        "outputId": "0e53f346-18fe-4b7a-dd60-8b11604f59f1"
      },
      "execution_count": 42,
      "outputs": [
        {
          "output_type": "stream",
          "name": "stdout",
          "text": [
            "INT. JIMMY'S APARTMENT - DAY\n",
            "\n",
            "Jimmy is sitting on the couch, a flamboyantly wrapped package on the coffee table. A FRAMED PHOTOGRAPH of him wearing a stolen mascot costume hangs on the wall. He picks up a hairpin from the table.\n",
            "\n",
            "JIMMY: (examining the package) Hmm. A ticking sound. Just like old times. \n",
            "\n",
            "[Laugh Track]\n",
            "\n",
            "He begins to pick the lock with the hairpin. Mrs. Jenkins, his elderly neighbor, enters the apartment.\n",
            "\n",
            "MRS. JENKINS: (raising an eyebrow) Still up to your old tricks, I see.\n",
            "\n",
            "JIMMY: (grinning) It's like riding a bike, Mrs. J.\n",
            "\n",
            "[Laugh Track]\n",
            "\n",
            "Jimmy successfully opens the package to reveal an OLD NOTE. He reads it aloud.\n",
            "\n",
            "JIMMY: (reading) \"Remember the time you stole the zoo monkey?\"\n",
            "\n",
            "[Laugh Track]\n",
            "\n",
            "Mrs. Jenkins looks horrified. Jimmy chuckles.\n",
            "\n",
            "JIMMY: (nostalgic) Ah, the good old days.\n",
            "\n",
            "Martin, Jimmy's roommate, walks in.\n",
            "\n",
            "MARTIN: (deadpan) I'm afraid to ask. The zoo monkey?\n",
            "\n",
            "JIMMY: (nodding) Yep. Dressed him up in a suit, taught him to pick pockets. Made a killing at the county fair.\n",
            "\n",
            "[Laugh Track]\n",
            "\n",
            "Martin shakes his head, smiling despite himself.\n",
            "\n",
            "MARTIN: (amused) And you're not in jail because...?\n",
            "\n",
            "JIMMY: (shrugging) Good behavior?\n",
            "\n",
            "[Laugh Track]\n",
            "\n",
            "Martin laughs. Mrs. Jenkins rolls her eyes.\n",
            "\n",
            "MRS. JENKINS: (sarcastically) Yes, because stealing a zoo monkey is the epitome of good behavior.\n",
            "\n",
            "Jimmy grins, unbothered.\n",
            "\n",
            "JIMMY: (cheerfully) Well, Mrs. J, it's all water under the bridge now.\n",
            "\n",
            "He raises the old note in a toast, triggering another bout of laughter from Martin.\n",
            "\n",
            "MARTIN: (smiling) To water under the bridge, then.\n",
            "\n",
            "They clink imaginary glasses, the laughter fading as they reminisce about Jimmy's colorful past.\n",
            "\n",
            "[Laugh Track] \n",
            "\n",
            "End of Scene 4.\n"
          ]
        }
      ]
    },
    {
      "cell_type": "markdown",
      "source": [
        "### 🗂️ Adding Metadata to Vector Database"
      ],
      "metadata": {
        "id": "a6EtyiLTtd1e"
      }
    },
    {
      "cell_type": "code",
      "source": [
        "# Store the generated Scene 4 script in the vector database for future retrieval and context\n",
        "store_scene_in_vector_db(\n",
        "    client=client,\n",
        "    sitcom_title=sitcom_title,\n",
        "    scene_script=scene_4_script,\n",
        "    embedding_model=embedding_model,\n",
        "    index=index,\n",
        "    vector_metadata=vector_metadata\n",
        ")"
      ],
      "metadata": {
        "id": "pVjlm5whteGc",
        "colab": {
          "base_uri": "https://localhost:8080/"
        },
        "outputId": "afe49a24-562d-4659-b5c9-1fba09c86b48"
      },
      "execution_count": 43,
      "outputs": [
        {
          "output_type": "stream",
          "name": "stdout",
          "text": [
            "Total scenes stored in vector DB: 4 \n",
            "\n",
            "\n",
            "Scene 1\n",
            "Summary: In this opening scene, Jimmy, a locksmith in his mid-40s, starts his day at his shop. He begins with a quirky morning routine of trying to pick a lock with a hairpin. His cat, Whiskers, surprises him by jumping on the counter, leading to a humorous interaction involving a master key and a can of tuna. A gust of wind causes a stack of keys to fall, and Jimmy takes a tumble trying to catch them. Despite the mishap, he dusts himself off and prepares to face the day's challenges, showing his resilience and good humor.\n",
            "Characters: ['Jimmy', 'Whiskers']\n",
            "Location: Jimmy's Locksmith Shop\n",
            "Recurring Joke: Jimmy's attempts to use keys for non-lock related tasks (e.g., using the master key to open a can of tuna) and his playful banter with his cat, Whiskers, are recurring jokes.\n",
            "Emotional Tone: Humorous, Light-hearted\n",
            "\n",
            "Scene 2\n",
            "Summary: In the scene, Jimmy, a man with unconventional habits, tries to open a mysterious package with a hairpin. His cat, Whiskers, and his parrot add comedic relief with their antics. Jimmy's health-conscious roommate, Martin, walks in and jokes about Jimmy's failed attempts to feed their plant junk food. Their over-dramatic neighbor, Mrs. Jenkins, rushes in, having noticed the mysterious package from her window. She leaves disappointed when Jimmy reveals the package contains a simple hairpin set. The scene ends with Martin joking about Jimmy's obsession with hairpins, and everyone shares a laugh.\n",
            "Characters: ['Jimmy', 'Whiskers (the cat)', 'Parrot', 'Martin', 'Mrs. Jenkins']\n",
            "Location: Living Room\n",
            "Recurring Joke: The parrot repeating phrases in a humorous context (\"Out of the box, out of the box!\", \"Out of hand, out of hand!\")\n",
            "Emotional Tone: Humorous\n",
            "\n",
            "Scene 3\n",
            "Summary: In Jimmy's locksmith shop, Earl, an eccentric older man, is fascinated by an unusual lock and Jimmy's hairpin. Jimmy, a young locksmith with unconventional practices, is feeding his plant cheese puffs. They exchange humorous banter about their unique interests, with Earl expressing eagerness to share about his compost tea. Earl attempts to demonstrate an \"unbreakable\" lock, but ends up locking his fingers together. He uses Jimmy's hairpin to try and free his fingers, but accidentally flings it into Jimmy's plant pot, making a joke about it being \"lock nutrients\". The scene ends with both of them laughing at the situation.\n",
            "Characters: ['Earl', 'Jimmy']\n",
            "Location: Jimmy's Locksmith Shop\n",
            "Recurring Joke: None\n",
            "Emotional Tone: Humorous\n",
            "\n",
            "Scene 4\n",
            "Summary: In Jimmy's apartment, Jimmy finds a flamboyantly wrapped package with a ticking sound. Using a hairpin, he picks the lock, revealing an old note that brings back memories of his past mischief. His elderly neighbor, Mrs. Jenkins, enters and comments on his unchanged behavior. The note reminds Jimmy of a time he stole a zoo monkey, dressed it in a suit, and taught it to pick pockets at the county fair. His roommate, Martin, enters and joins in the reminiscing, questioning how Jimmy avoided jail. Jimmy responds with a joke about good behavior, leading to a toast to \"water under the bridge\". The scene ends with the characters laughing and reminiscing about Jimmy's past.\n",
            "Characters: ['Jimmy', 'Mrs. Jenkins', 'Martin']\n",
            "Location: Jimmy's Apartment\n",
            "Recurring Joke: Jimmy's past mischiefs and his ability to avoid jail despite them.\n",
            "Emotional Tone: Nostalgic, Humorous\n"
          ]
        }
      ]
    },
    {
      "cell_type": "markdown",
      "source": [
        "## Scene 5 Generation"
      ],
      "metadata": {
        "id": "ItrjexUZjHPx"
      }
    },
    {
      "cell_type": "code",
      "source": [
        "# Extract the description for Scene 5 from the episode outline\n",
        "scene_5_desc = extract_scene(episode_outline, 5)\n",
        "print(scene_5_desc)"
      ],
      "metadata": {
        "id": "PFMmuKXii80n",
        "colab": {
          "base_uri": "https://localhost:8080/"
        },
        "outputId": "93ce5411-0a20-4234-a04f-79e0d886a2cf"
      },
      "execution_count": 44,
      "outputs": [
        {
          "output_type": "stream",
          "name": "stdout",
          "text": [
            "Scene 5: \"Lock of Trouble\" Jimmy and Earl try to open the lock, turning the situation into a humorous mess.\n"
          ]
        }
      ]
    },
    {
      "cell_type": "markdown",
      "source": [
        "### 🎭 Character Agent\n"
      ],
      "metadata": {
        "id": "f3BPmDELjVq8"
      }
    },
    {
      "cell_type": "code",
      "source": [
        "# Re-initialize the character agent with the updated vector metadata\n",
        "character_agent = CharacterAgent(\n",
        "    client=client,\n",
        "    vector_metadata=vector_metadata,\n",
        "    num_scenes=3\n",
        ")\n",
        "\n",
        "# Evaluate Scene 5 using the character agent and store the evaluation results\n",
        "char_histories, char_is_consistent, char_explanation, char_recommendations, char_thoughts = evaluate_character_agent_scene(\n",
        "    agent=character_agent,\n",
        "    scene_description=scene_5_desc,\n",
        "    scene_number=5\n",
        ")"
      ],
      "metadata": {
        "id": "FHImKv05jSem",
        "colab": {
          "base_uri": "https://localhost:8080/"
        },
        "outputId": "6aa1e082-dd36-4404-a9a2-146d5a0125af"
      },
      "execution_count": 45,
      "outputs": [
        {
          "output_type": "stream",
          "name": "stdout",
          "text": [
            "🔁 Agent will consider the last 3 scene(s) for context.\n",
            "\n",
            "📚 Retrieving script metadata for scene(s): [2, 3, 4]\n",
            "Scene 5 — Consistency: ✅ Consistent\n",
            "\n",
            "Explanation:\n",
            "1. Consistency Verdict (Yes/No)\n",
            "Yes\n",
            "2. Short Explanation Why (max 5 lines)\n",
            "Both Jimmy and Earl behave consistently with their established personalities in this planned scene. Jimmy's unconventional and humorous traits are reflected in the scenario of turning lock opening into a humorous mess. Similarly, Earl's eccentricity and humor are also consistent with the situation. Their actions and dialogue are likely to remain consistent with the traits and relationships established in the past scenes.\n",
            "\n",
            "Interaction Improvement Recommendations:\n",
            "1. Jimmy attempts to open the lock with a hairpin, causing Earl to chuckle and joke that he's feeding the lock \"lock nutrients\" like he does with his plant. — This interaction draws on Jimmy's unconventional use of hairpins and his humorous relationship with Earl from Scene 2. It also references Jimmy's running joke of feeding his plant junk food from Scenes 1 and 2.\n",
            "2. Earl accidentally locks his fingers together while trying to help Jimmy, leading to a bout of laughter and reminiscing from Jimmy about his past mischiefs. — This interaction builds on Earl's eccentricity and humorous situation creation from the previous scene and ties in with Jimmy's nostalgic side that was showcased in Scene 3.\n",
            "\n",
            "Agent's Internal Thoughts:\n",
            "- Think: Identified characters ['Jimmy', 'Earl'] using context from scene(s) [2, 3, 4].\n",
            "- Act: Retrieved profiles for ['Jimmy', 'Earl'].\n",
            "- Observe: Scene is consistent.\n",
            "- Recommend: Provided suggestions for enhancing character dynamics.\n"
          ]
        }
      ]
    },
    {
      "cell_type": "markdown",
      "source": [
        "### 🎤 Comedic Agent\n"
      ],
      "metadata": {
        "id": "U62wKQeEjvCK"
      }
    },
    {
      "cell_type": "code",
      "source": [
        "# Re-initialize the comedy agent with the updated vector metadata\n",
        "comedic_agent = ComedicAgent(\n",
        "    client=client,\n",
        "    vector_metadata=vector_metadata,\n",
        "    num_scenes=3\n",
        ")\n",
        "\n",
        "# Evaluate Scene 5 using the comedy agent and store the evaluation results\n",
        "com_context, com_is_consistent, com_analysis_text, com_recommendations, com_thoughts = evaluate_comedic_agent_scene(\n",
        "    agent=comedic_agent,\n",
        "    scene_description=scene_5_desc,\n",
        "    scene_number=5\n",
        ")"
      ],
      "metadata": {
        "id": "h1tpW2Qpjubk",
        "colab": {
          "base_uri": "https://localhost:8080/"
        },
        "outputId": "a9ba26bb-fc4a-432f-ccf6-d9533894605a"
      },
      "execution_count": 46,
      "outputs": [
        {
          "output_type": "stream",
          "name": "stdout",
          "text": [
            "🔁 Agent will consider the last 3 scene(s) for context.\n",
            "\n",
            "📚 Retrieving script metadata for scene(s): [2, 3, 4]\n",
            "Scene 5 — Comedic Tone: ✅ Consistent\n",
            "\n",
            "Comedic Tone Analysis:\n",
            "3. Short Explanation: The comedic tone of absurdity and slapstick is consistent with the previous scenes. The characters continue to find themselves in ridiculous situations, and the humor is derived from their unconventional responses and physical comedy.\n",
            "\n",
            "Comedic Improvement Recommendations:\n",
            "1. [Suggestion] — In a previous scene, Jimmy showed a tendency to overthink and get lost in his thoughts. Use this character trait here. As Jimmy and Earl struggle with the lock, Jimmy starts giving a lengthy, overly-analytical explanation about the mechanics of locks, meanwhile, Earl has been mindlessly jiggling the lock which suddenly opens. Have Earl cut Jimmy's lengthy explanation with a simple, \"It's open.\" — This not only adds humor through character contrast but also reinforces Jimmy's tendency to overcomplicate things.\n",
            "2. [Suggestion] — In a previous episode, we established that Earl is comically bad at reading. Have him pull out an instruction manual to open the lock, but he misreads the instructions hilariously. For instance, the manual says, \"Turn right twice\", but Earl interprets it as \"Turn right two times\", leading to them turning the lock in the wrong direction. — This not only adds humor through the misinterpretation but also reinforces the running joke about Earl's reading struggles.\n",
            "\n",
            "Comedic Agent's Internal Thoughts:\n",
            "- Think: Will retrieve summaries and jokes from scene(s) [2, 3, 4] for Scene 5.\n",
            "- Act: Retrieved summaries and jokes from prior scenes.\n",
            "- Observe: Scene is consistent with prior comedic tone.\n",
            "- Recommend: Provided comedic improvements.\n"
          ]
        }
      ]
    },
    {
      "cell_type": "markdown",
      "source": [
        "### 🌆 Environment Agent\n"
      ],
      "metadata": {
        "id": "KrjcVF_EmsEU"
      }
    },
    {
      "cell_type": "code",
      "source": [
        "# Re-initialize the environment agent with the updated vector metadata\n",
        "environment_agent = EnvironmentAgent(\n",
        "    client=client,\n",
        "    vector_metadata=vector_metadata,\n",
        "    num_scenes=3\n",
        ")\n",
        "\n",
        "# Evaluate Scene 5 using the environment agent and store the evaluation results\n",
        "context, is_consistent, explanation, env_recommendations, env_thoughts = evaluate_environment_agent_scene(\n",
        "    agent=environment_agent,\n",
        "    scene_description=scene_5_desc,\n",
        "    scene_number=5\n",
        ")"
      ],
      "metadata": {
        "id": "ICkQ00Hejqyx",
        "colab": {
          "base_uri": "https://localhost:8080/"
        },
        "outputId": "e9246cb5-df69-4d6e-aca9-ad6f22d6ac34"
      },
      "execution_count": 47,
      "outputs": [
        {
          "output_type": "stream",
          "name": "stdout",
          "text": [
            "🔁 Environment Agent will consider the last 3 scene(s) for context.\n",
            "\n",
            "📚 Retrieving script metadata for scene(s): [2, 3, 4]\n",
            "Scene 5 — Environment Transition: ❌ Inconsistent\n",
            "\n",
            "Explanation:\n",
            "Short Explanation: Without knowing the current scene environment, it's impossible to determine if the transition is logical or not. The previous scenes have followed a logical progression, but the current scene is unknown.\n",
            "- Suggested Transition Setup: Once the current scene environment is known, a transition setup can be suggested. For example, if the next scene is at a restaurant, a setup could be Jimmy mentioning he's hungry or has a date after leaving his apartment.\n",
            "\n",
            "Environment Detail Suggestions:\n",
            "Environment Details Suggestions:\n",
            "- [Suggestion 1]: If the next scene is in a restaurant, start the scene with a waiter dropping a tray of dishes, followed by a comedic reaction from the main characters. This adds a touch of humor, sets the location, and provides a natural transition.\n",
            "- [Suggestion 2]: If the next scene is in an office, have one of the characters struggle with a jammed photocopier, spilling papers everywhere. This not only sets the location but also provides a comedic moment.\n",
            "\n",
            "Environment Agent's Internal Thoughts:\n",
            "- Think: Retrieved summaries and environment context from scene(s) [2, 3, 4] for Scene 5.\n",
            "- Act: Analyzed environment features for Scene 5.\n",
            "- Observe: Scene transition is inconsistent.\n",
            "- Recommend: Provided environmental enhancement suggestions.\n"
          ]
        }
      ]
    },
    {
      "cell_type": "markdown",
      "source": [
        "### 🧠 Scene Planner Agent\n"
      ],
      "metadata": {
        "id": "OA3-guYQmwKo"
      }
    },
    {
      "cell_type": "code",
      "source": [
        "# Generate a plan for Scene 5 by integrating recommendations from all three agents\n",
        "scene_5_plan = scene_planner_agent.plan_next_scene(\n",
        "    character_recommendations=char_recommendations,\n",
        "    comedic_recommendations=com_recommendations,\n",
        "    environment_recommendations=env_recommendations,\n",
        "    scene_number=5\n",
        ")\n",
        "\n",
        "print(scene_5_plan)"
      ],
      "metadata": {
        "id": "axlPG5Bmjqvd",
        "colab": {
          "base_uri": "https://localhost:8080/"
        },
        "outputId": "036cd104-7ec9-4c24-95ac-3e05a227a1b8"
      },
      "execution_count": 48,
      "outputs": [
        {
          "output_type": "stream",
          "name": "stdout",
          "text": [
            "Scene Plan:\n",
            "Character Goals:\n",
            "- [Goal 1]: Develop Jimmy's character by showcasing his tendency to overthink simple situations and his unconventional problem-solving methods, such as using a hairpin to pick a lock.\n",
            "- [Goal 2]: Highlight Earl's eccentricity and comedic ineptitude through physical comedy, such as accidentally locking his fingers together or hilariously misreading simple instructions.\n",
            "\n",
            "Comedic Goal:\n",
            "- [Goal]: Incorporate humor through character contrast and running gags, such as Jimmy's overcomplication of situations and Earl's reading struggles.\n",
            "\n",
            "Environment Detail:\n",
            "- [Detail]: If the next scene takes place in a home setting, introduce a malfunctioning coffee maker that the characters attempt to fix, providing a comedic moment and setting the stage for the lock-picking scenario.\n",
            "\n",
            "Creative Suggestion:\n",
            "- [Suggestion]: As the scene progresses, Jimmy and Earl's attempts to pick the lock could trigger a series of comedic mishaps. The malfunctioning coffee maker could explode, causing Earl to misread the cleanup instructions and further complicate the situation. Meanwhile, Jimmy, lost in his thoughts, might unintentionally solve another unrelated problem. This series of events would maintain the comedic momentum while highlighting the characters' quirks and the sitcom's running gags.\n"
          ]
        }
      ]
    },
    {
      "cell_type": "markdown",
      "source": [
        "### Generating Scene 5 Script"
      ],
      "metadata": {
        "id": "35ulfOk_nIas"
      }
    },
    {
      "cell_type": "code",
      "source": [
        "# Generate the full script for Scene 5 based on the structured scene plan\n",
        "scene_5_script = generate_scene(\n",
        "    client=client,\n",
        "    scene_plan=scene_5_plan,\n",
        "    scene_number= 5\n",
        ")\n",
        "\n",
        "print(scene_5_script)"
      ],
      "metadata": {
        "id": "qfi_382Kjqr_",
        "colab": {
          "base_uri": "https://localhost:8080/"
        },
        "outputId": "1ca868d2-6414-41f3-b681-d4b0e1531f72"
      },
      "execution_count": 49,
      "outputs": [
        {
          "output_type": "stream",
          "name": "stdout",
          "text": [
            "INT. KITCHEN - MORNING\n",
            "\n",
            "[EARL, a bumbling yet lovable character, is fumbling with a COFFEE MAKER.]\n",
            "\n",
            "EARL\n",
            "(reading instructions)\n",
            "\"Insert the... coffee... into the... filer?\"\n",
            "\n",
            "[Laugh Track]\n",
            "\n",
            "JIMMY, a neurotic character who overthinks every situation, enters the room.\n",
            "\n",
            "JIMMY\n",
            "That's \"filter\", Earl.\n",
            "\n",
            "EARL\n",
            "Oh, right. \"Filter\". \n",
            "\n",
            "[Earl pours coffee grounds directly into the water reservoir.]\n",
            "\n",
            "[Laugh Track]\n",
            "\n",
            "JIMMY\n",
            "No, Earl! The filter, not the water tank!\n",
            "\n",
            "EARL\n",
            "Oh... Oops!\n",
            "\n",
            "[Jimmy sighs and tries to open the coffee maker to fix Earl's mistake. The door is stuck.]\n",
            "\n",
            "JIMMY\n",
            "It's locked. Earl, do you have a hairpin?\n",
            "\n",
            "[Laugh Track]\n",
            "\n",
            "EARL\n",
            "(looking confused)\n",
            "A hairpin? For what, a new hairstyle?\n",
            "\n",
            "JIMMY\n",
            "(smirking)\n",
            "No, Earl, to pick the lock.\n",
            "\n",
            "[Jimmy takes the hairpin and starts to pick the lock.]\n",
            "\n",
            "[Earl tries to wipe up the spilled coffee grounds but accidentally glues his fingers together with a sticky sponge.]\n",
            "\n",
            "[Laugh Track]\n",
            "\n",
            "EARL\n",
            "(panicking)\n",
            "Jimmy, I can't separate my fingers!\n",
            "\n",
            "JIMMY\n",
            "(still focused on the lock)\n",
            "Just read the instructions on the sponge packaging, Earl.\n",
            "\n",
            "[Earl struggles to read the instructions, mispronouncing words.]\n",
            "\n",
            "[Laugh Track]\n",
            "\n",
            "EARL\n",
            "\"Remove sticky... substance with... hot waiter?\" \n",
            "\n",
            "JIMMY\n",
            "(laughs)\n",
            "That's \"water\", Earl.\n",
            "\n",
            "[Just as Jimmy manages to unlock the coffee maker, it suddenly explodes, covering them both in coffee grounds.]\n",
            "\n",
            "[Laugh Track]\n",
            "\n",
            "JIMMY\n",
            "(wiping coffee from his face)\n",
            "Well, at least we won't need a cup.\n",
            "\n",
            "[They both laugh as the scene ends.]\n",
            "\n",
            "[End Scene]\n"
          ]
        }
      ]
    },
    {
      "cell_type": "markdown",
      "source": [
        "### 🗂️ Adding Metadata to Vector Database"
      ],
      "metadata": {
        "id": "5mHFUp7Ku4Mb"
      }
    },
    {
      "cell_type": "code",
      "source": [
        "# Store the generated Scene 5 script in the vector database for future retrieval and context\n",
        "store_scene_in_vector_db(\n",
        "    client=client,\n",
        "    sitcom_title=sitcom_title,\n",
        "    scene_script=scene_5_script,\n",
        "    embedding_model=embedding_model,\n",
        "    index=index,\n",
        "    vector_metadata=vector_metadata\n",
        ")"
      ],
      "metadata": {
        "id": "8KEI0oq4u39I",
        "colab": {
          "base_uri": "https://localhost:8080/"
        },
        "outputId": "3229a521-f401-407d-c9ea-56828a95461f"
      },
      "execution_count": 50,
      "outputs": [
        {
          "output_type": "stream",
          "name": "stdout",
          "text": [
            "Total scenes stored in vector DB: 5 \n",
            "\n",
            "\n",
            "Scene 1\n",
            "Summary: In this opening scene, Jimmy, a locksmith in his mid-40s, starts his day at his shop. He begins with a quirky morning routine of trying to pick a lock with a hairpin. His cat, Whiskers, surprises him by jumping on the counter, leading to a humorous interaction involving a master key and a can of tuna. A gust of wind causes a stack of keys to fall, and Jimmy takes a tumble trying to catch them. Despite the mishap, he dusts himself off and prepares to face the day's challenges, showing his resilience and good humor.\n",
            "Characters: ['Jimmy', 'Whiskers']\n",
            "Location: Jimmy's Locksmith Shop\n",
            "Recurring Joke: Jimmy's attempts to use keys for non-lock related tasks (e.g., using the master key to open a can of tuna) and his playful banter with his cat, Whiskers, are recurring jokes.\n",
            "Emotional Tone: Humorous, Light-hearted\n",
            "\n",
            "Scene 2\n",
            "Summary: In the scene, Jimmy, a man with unconventional habits, tries to open a mysterious package with a hairpin. His cat, Whiskers, and his parrot add comedic relief with their antics. Jimmy's health-conscious roommate, Martin, walks in and jokes about Jimmy's failed attempts to feed their plant junk food. Their over-dramatic neighbor, Mrs. Jenkins, rushes in, having noticed the mysterious package from her window. She leaves disappointed when Jimmy reveals the package contains a simple hairpin set. The scene ends with Martin joking about Jimmy's obsession with hairpins, and everyone shares a laugh.\n",
            "Characters: ['Jimmy', 'Whiskers (the cat)', 'Parrot', 'Martin', 'Mrs. Jenkins']\n",
            "Location: Living Room\n",
            "Recurring Joke: The parrot repeating phrases in a humorous context (\"Out of the box, out of the box!\", \"Out of hand, out of hand!\")\n",
            "Emotional Tone: Humorous\n",
            "\n",
            "Scene 3\n",
            "Summary: In Jimmy's locksmith shop, Earl, an eccentric older man, is fascinated by an unusual lock and Jimmy's hairpin. Jimmy, a young locksmith with unconventional practices, is feeding his plant cheese puffs. They exchange humorous banter about their unique interests, with Earl expressing eagerness to share about his compost tea. Earl attempts to demonstrate an \"unbreakable\" lock, but ends up locking his fingers together. He uses Jimmy's hairpin to try and free his fingers, but accidentally flings it into Jimmy's plant pot, making a joke about it being \"lock nutrients\". The scene ends with both of them laughing at the situation.\n",
            "Characters: ['Earl', 'Jimmy']\n",
            "Location: Jimmy's Locksmith Shop\n",
            "Recurring Joke: None\n",
            "Emotional Tone: Humorous\n",
            "\n",
            "Scene 4\n",
            "Summary: In Jimmy's apartment, Jimmy finds a flamboyantly wrapped package with a ticking sound. Using a hairpin, he picks the lock, revealing an old note that brings back memories of his past mischief. His elderly neighbor, Mrs. Jenkins, enters and comments on his unchanged behavior. The note reminds Jimmy of a time he stole a zoo monkey, dressed it in a suit, and taught it to pick pockets at the county fair. His roommate, Martin, enters and joins in the reminiscing, questioning how Jimmy avoided jail. Jimmy responds with a joke about good behavior, leading to a toast to \"water under the bridge\". The scene ends with the characters laughing and reminiscing about Jimmy's past.\n",
            "Characters: ['Jimmy', 'Mrs. Jenkins', 'Martin']\n",
            "Location: Jimmy's Apartment\n",
            "Recurring Joke: Jimmy's past mischiefs and his ability to avoid jail despite them.\n",
            "Emotional Tone: Nostalgic, Humorous\n",
            "\n",
            "Scene 5\n",
            "Summary: In the scene, the bumbling yet endearing character, Earl, struggles with making coffee, misreading instructions, and even pouring coffee grounds into the water reservoir. Jimmy, a neurotic character, enters and tries to correct Earl's mistakes, even attempting to pick the lock of the coffee maker with a hairpin. Earl, in his clumsiness, accidentally glues his fingers together with a sticky sponge. Jimmy suggests Earl read the instructions on the sponge packaging, leading to more mispronunciations. Just as Jimmy successfully unlocks the coffee maker, it explodes, covering them both in coffee grounds. Despite the chaos, they find humor in the situation, ending the scene with a laugh.\n",
            "Characters: ['Earl', 'Jimmy']\n",
            "Location: Kitchen\n",
            "Recurring Joke: Earl's consistent misreading of instructions and Jimmy's attempts to correct him.\n",
            "Emotional Tone: Comical\n"
          ]
        }
      ]
    },
    {
      "cell_type": "markdown",
      "source": [
        "## Scene 6 Generation"
      ],
      "metadata": {
        "id": "PezAdYSevDlF"
      }
    },
    {
      "cell_type": "code",
      "source": [
        "# Extract the description for Scene 6 from the episode outline\n",
        "scene_6_desc = extract_scene(episode_outline, 6)\n",
        "print(scene_6_desc)"
      ],
      "metadata": {
        "colab": {
          "base_uri": "https://localhost:8080/"
        },
        "id": "Ts4ouxjZu36U",
        "outputId": "6962d582-2362-4586-ae41-dff3925d1080"
      },
      "execution_count": 51,
      "outputs": [
        {
          "output_type": "stream",
          "name": "stdout",
          "text": [
            "Scene 6: \"Sophie's Arrival\" Sophie, Jimmy's estranged daughter, unexpectedly shows up at the shop, creating an awkward and emotional moment.\n"
          ]
        }
      ]
    },
    {
      "cell_type": "markdown",
      "source": [
        "### 🎭 Character Agent\n"
      ],
      "metadata": {
        "id": "IhpT7OxfvKc-"
      }
    },
    {
      "cell_type": "code",
      "source": [
        "# Re-initialize the character agent with the updated vector metadata\n",
        "character_agent = CharacterAgent(\n",
        "    client=client,\n",
        "    vector_metadata=vector_metadata,\n",
        "    num_scenes=3\n",
        ")\n",
        "\n",
        "# Evaluate Scene 6 using the character agent and store the evaluation results\n",
        "char_histories, char_is_consistent, char_explanation, char_recommendations, char_thoughts = evaluate_character_agent_scene(\n",
        "    agent=character_agent,\n",
        "    scene_description=scene_6_desc,\n",
        "    scene_number=6\n",
        ")"
      ],
      "metadata": {
        "id": "_OVa0uq6u33K",
        "colab": {
          "base_uri": "https://localhost:8080/"
        },
        "outputId": "19a1eb59-c78f-47a6-8abd-4bcec6f43e4e"
      },
      "execution_count": 52,
      "outputs": [
        {
          "output_type": "stream",
          "name": "stdout",
          "text": [
            "🔁 Agent will consider the last 3 scene(s) for context.\n",
            "\n",
            "📚 Retrieving script metadata for scene(s): [3, 4, 5]\n",
            "Scene 6 — Consistency: ✅ Consistent\n",
            "\n",
            "Explanation:\n",
            "2. Short Explanation Why: Based on the past scenes, Jimmy's encounter with his estranged daughter Sophie is consistent with his unconventional personality and emotional arc. His ability to find humor in awkward situations may likely play out in this scene. However, Sophie's personality and speaking style are not described in the past scenes, making it hard to anticipate her behavior.\n",
            "\n",
            "Interaction Improvement Recommendations:\n",
            "1. Jimmy, taken aback by Sophie's appearance, instinctively tries to diffuse the tension with humor, cracking a joke about how he was just about to use his hairpin to pick a lock. — (This interaction is consistent with Jimmy's humorous personality and his habit of using humor in uncomfortable situations, as shown in Scene 2 when he jokes about his criminal past. It also includes his running behavior of lock picking with a hairpin, observed in Scenes 1, 2, and 3.)\n",
            "2. Sophie, in a bid to reconcile, brings a bag of cheese puffs as a peace offering for Jimmy's plant. This gesture surprises Jimmy, revealing a softer, more emotional side to him. — (This interaction fits because it references Jimmy's unconventional trait of feeding his plant cheese puffs from Scene 1. It also introduces an emotional layer to Jimmy's character, which we haven't seen in the previous scenes but is plausible given the unexpected visit from his estranged daughter.)\n",
            "\n",
            "Agent's Internal Thoughts:\n",
            "- Think: Identified characters ['Sophie', 'Jimmy'] using context from scene(s) [3, 4, 5].\n",
            "- Act: Retrieved profiles for ['Sophie', 'Jimmy'].\n",
            "- Observe: Scene is consistent.\n",
            "- Recommend: Provided suggestions for enhancing character dynamics.\n"
          ]
        }
      ]
    },
    {
      "cell_type": "markdown",
      "source": [
        "### 🎤 Comedic Agent\n"
      ],
      "metadata": {
        "id": "pohIfqPHvKzP"
      }
    },
    {
      "cell_type": "code",
      "source": [
        "# Re-initialize the comedy agent with the updated vector metadata\n",
        "comedic_agent = ComedicAgent(\n",
        "    client=client,\n",
        "    vector_metadata=vector_metadata,\n",
        "    num_scenes=3\n",
        ")\n",
        "\n",
        "# Evaluate Scene 6 using the comedy agent and store the evaluation results\n",
        "com_context, com_is_consistent, com_analysis_text, com_recommendations, com_thoughts = evaluate_comedic_agent_scene(\n",
        "    agent=comedic_agent,\n",
        "    scene_description=scene_6_desc,\n",
        "    scene_number=6\n",
        ")"
      ],
      "metadata": {
        "id": "Q6JMY-Vlu30X",
        "colab": {
          "base_uri": "https://localhost:8080/"
        },
        "outputId": "7a761193-97d5-4646-b298-d088ec4892d9"
      },
      "execution_count": 53,
      "outputs": [
        {
          "output_type": "stream",
          "name": "stdout",
          "text": [
            "🔁 Agent will consider the last 3 scene(s) for context.\n",
            "\n",
            "📚 Retrieving script metadata for scene(s): [3, 4, 5]\n",
            "Scene 6 — Comedic Tone: ❌ Inconsistent\n",
            "\n",
            "Comedic Tone Analysis:\n",
            "3. Short Explanation: The previous scenes have been characterized by physical comedy and humorous banter, with a focus on Jimmy's past mischief and Earl's misreading of instructions. The introduction of an estranged daughter and the potential for emotional humor is a new element that hasn't been previously established.\n",
            "\n",
            "Comedic Improvement Recommendations:\n",
            "1. [Suggestion] - As Sophie enters the shop, she accidentally knocks over a display of car parts due to her clumsiness, a trait she's inherited from Jimmy. This initiates a humorous chain reaction, where Earl frantically tries to catch the falling items, but misreads the situation and instead grabs a bucket of oil, spilling it all over the floor. Sophie, Jimmy, and Earl all end up slipping and sliding around the shop in the oil, bringing physical comedy into the scene. — (This builds on the physical humor and running gags from previous scenes, such as Jimmy's clumsiness and Earl's misinterpretation of situations.)\n",
            "2. [Suggestion] - After the physical comedy subsides, Sophie takes a moment to explain why she's there. She mentions she's heard so much about Jimmy's past mischief and wanted to see if she could outdo him. This could lead to a humorous exchange where Sophie reveals some of her own mischief, perhaps even outdoing some of Jimmy's past antics. Jimmy could react with a mix of disbelief and pride, while Earl, still trying to clean up the mess, misreads the situation and congratulates Sophie on her \"achievements\", further adding to the humor. — (This suggestion introduces Sophie's inherited mischief from Jimmy, adding depth to their relationship, and continues the running joke of Earl's misinterpretations.)\n",
            "\n",
            "Comedic Agent's Internal Thoughts:\n",
            "- Think: Will retrieve summaries and jokes from scene(s) [3, 4, 5] for Scene 6.\n",
            "- Act: Retrieved summaries and jokes from prior scenes.\n",
            "- Observe: Scene is inconsistent with prior comedic tone.\n",
            "- Recommend: Provided comedic improvements.\n"
          ]
        }
      ]
    },
    {
      "cell_type": "markdown",
      "source": [
        "### 🌆 Environment Agent\n"
      ],
      "metadata": {
        "id": "C2GslBZ-vwvI"
      }
    },
    {
      "cell_type": "code",
      "source": [
        "# Re-initialize the environment agent with the updated vector metadata\n",
        "environment_agent = EnvironmentAgent(\n",
        "    client=client,\n",
        "    vector_metadata=vector_metadata,\n",
        "    num_scenes=3\n",
        ")\n",
        "\n",
        "# Evaluate Scene 6 using the environment agent and store the evaluation results\n",
        "context, is_consistent, explanation, env_recommendations, env_thoughts = evaluate_environment_agent_scene(\n",
        "    agent=environment_agent,\n",
        "    scene_description=scene_6_desc,\n",
        "    scene_number=6\n",
        ")"
      ],
      "metadata": {
        "id": "PRgA0abLu3xQ",
        "colab": {
          "base_uri": "https://localhost:8080/"
        },
        "outputId": "3193a8c8-99cd-4f01-d853-57d3b8ed576c"
      },
      "execution_count": 54,
      "outputs": [
        {
          "output_type": "stream",
          "name": "stdout",
          "text": [
            "🔁 Environment Agent will consider the last 3 scene(s) for context.\n",
            "\n",
            "📚 Retrieving script metadata for scene(s): [3, 4, 5]\n",
            "Scene 6 — Environment Transition: ✅ Consistent\n",
            "\n",
            "Explanation:\n",
            "Short Explanation: The transition from the kitchen in Jimmy's apartment to the shop is logical. It's plausible that after spending time in his apartment, Jimmy could go back to his locksmith shop for work or any other reason. \n",
            "- Suggested Transition Setup: Not necessary.\n",
            "\n",
            "Environment Detail Suggestions:\n",
            "Environment Details Suggestions:\n",
            "- [Suggestion 1]: As Jimmy enters the shop, a jingling bell over the door signals his arrival. The bell is comically oversized for such a small shop, suggesting that Jimmy has a quirky sense of humor despite his serious profession.\n",
            "- [Suggestion 2]: The smell of metal and oil is strong, a reminder of the shop's primary function as a locksmith business. There's a small, slightly dented, \"World's Best Dad\" mug on the counter filled with various keys, adding a touch of irony and humor given the situation with his estranged daughter.\n",
            "\n",
            "Environment Agent's Internal Thoughts:\n",
            "- Think: Retrieved summaries and environment context from scene(s) [3, 4, 5] for Scene 6.\n",
            "- Act: Analyzed environment features for Scene 6.\n",
            "- Observe: Scene transition is consistent.\n",
            "- Recommend: Provided environmental enhancement suggestions.\n"
          ]
        }
      ]
    },
    {
      "cell_type": "markdown",
      "source": [
        "### 🧠 Scene Planner Agent\n"
      ],
      "metadata": {
        "id": "OcgUPy8dvy65"
      }
    },
    {
      "cell_type": "code",
      "source": [
        "# Generate a plan for Scene 6 by integrating recommendations from all three agents\n",
        "scene_6_plan = scene_planner_agent.plan_next_scene(\n",
        "    character_recommendations=char_recommendations,\n",
        "    comedic_recommendations=com_recommendations,\n",
        "    environment_recommendations=env_recommendations,\n",
        "    scene_number=6\n",
        ")\n",
        "\n",
        "print(scene_6_plan)"
      ],
      "metadata": {
        "id": "_-H4OQBTv-qe",
        "colab": {
          "base_uri": "https://localhost:8080/"
        },
        "outputId": "963bc95f-f05d-44f4-84c5-f7d9af4c294c"
      },
      "execution_count": 55,
      "outputs": [
        {
          "output_type": "stream",
          "name": "stdout",
          "text": [
            "Scene Plan:\n",
            "Character Goals:\n",
            "- [Goal 1]: Develop Jimmy's emotional depth by having him react to Sophie's peace offering in a vulnerable way, revealing a side of him we haven't seen before.\n",
            "- [Goal 2]: Introduce Sophie's mischievous side as she attempts to outdo Jimmy's past antics, strengthening their father-daughter bond and adding depth to her character.\n",
            "\n",
            "Comedic Goal:\n",
            "- [Goal]: Incorporate physical comedy through a chain reaction initiated by Sophie's clumsiness, followed by Earl's misinterpretation of the situation, leading to a comedic chaos in the shop.\n",
            "\n",
            "Environment Detail:\n",
            "- [Detail]: The locksmith shop is filled with an array of eccentric items that reflect Jimmy's humorous and quirky personality, including an absurdly large bell over the door, and a key-filled \"World's Best Dad\" mug, adding a layer of irony given his estranged relationship with Sophie.\n",
            "\n",
            "Creative Suggestion:\n",
            "- [Suggestion]: As Sophie attempts to outdo Jimmy's past antics, she unwittingly triggers an old prank Jimmy set up in the shop, leading to a funny yet heartwarming moment where Jimmy, Sophie, and Earl all end up covered in cheese puff dust. This moment could serve as a catalyst for Sophie and Jimmy's reconciliation, while also providing a comedic payoff for Jimmy's earlier joke about feeding his plant cheese puffs.\n"
          ]
        }
      ]
    },
    {
      "cell_type": "markdown",
      "source": [
        "### Generating Scene 6 Script"
      ],
      "metadata": {
        "id": "21y4-Ol7v-9O"
      }
    },
    {
      "cell_type": "code",
      "source": [
        "# Generate the full script for Scene 6 based on the structured scene plan\n",
        "scene_6_script = generate_scene(\n",
        "    client=client,\n",
        "    scene_plan=scene_6_plan,\n",
        "    scene_number= 6\n",
        ")\n",
        "\n",
        "print(scene_6_script)"
      ],
      "metadata": {
        "id": "45cNI6Bkv-kv",
        "colab": {
          "base_uri": "https://localhost:8080/"
        },
        "outputId": "727ffeb2-e17a-4ce8-ff2b-b34e2bdde237"
      },
      "execution_count": 56,
      "outputs": [
        {
          "output_type": "stream",
          "name": "stdout",
          "text": [
            "INT. LOCKSMITH SHOP - DAY\n",
            "\n",
            "[Sophie enters, causing an absurdly large bell above the door to CLANG loudly.]\n",
            "\n",
            "SOPHIE: \n",
            "Dad, I wanted to... \n",
            "\n",
            "[She notices the key-filled \"World's Best Dad\" mug on the counter.]\n",
            "\n",
            "SOPHIE: \n",
            "...make a peace offering. \n",
            "\n",
            "[She presents a box of cheese puffs.]\n",
            "\n",
            "JIMMY:\n",
            "[Laugh Track]\n",
            "Sophie, I can't eat those. They're for my plant.\n",
            "\n",
            "SOPHIE:\n",
            "[Laughs]\n",
            "You're not the only one who can play tricks, Dad. \n",
            "\n",
            "[She opens the box and cheese puff dust explodes, covering everyone.]\n",
            "\n",
            "EARL:\n",
            "[Laugh Track]\n",
            "Sophie, why did you blow up the cheese puffs?\n",
            "\n",
            "SOPHIE: \n",
            "I didn't know it would explode!\n",
            "\n",
            "JIMMY:\n",
            "[Laugh Track]\n",
            "That was one of my old pranks, Sophie. \n",
            "\n",
            "SOPHIE:\n",
            "[Smiling]\n",
            "I guess I did learn from the best, didn't I?\n",
            "\n",
            "[Jimmy smiles and wipes cheese puff dust off Sophie's face.]\n",
            "\n",
            "JIMMY: \n",
            "You sure did, kiddo. \n",
            "\n",
            "[They share a laugh and a warm hug. Earl, standing nearby, wipes cheese puff dust off his face and grumbles.]\n",
            "\n",
            "EARL:\n",
            "[Laugh Track]\n",
            "And I thought this was just a locksmith shop...\n",
            "\n",
            "[End Scene]\n"
          ]
        }
      ]
    },
    {
      "cell_type": "markdown",
      "source": [
        "### 🗂️ Adding Metadata to Vector Database"
      ],
      "metadata": {
        "id": "Oog9uSldwgpH"
      }
    },
    {
      "cell_type": "code",
      "source": [
        "# Store the generated Scene 6 script in the vector database for future retrieval and context\n",
        "store_scene_in_vector_db(\n",
        "    client=client,\n",
        "    sitcom_title=sitcom_title,\n",
        "    scene_script=scene_6_script,\n",
        "    embedding_model=embedding_model,\n",
        "    index=index,\n",
        "    vector_metadata=vector_metadata\n",
        ")"
      ],
      "metadata": {
        "id": "nRZmtnEiv-gr",
        "colab": {
          "base_uri": "https://localhost:8080/"
        },
        "outputId": "2fe4b4a9-9840-4bf6-da60-022351e5c1a1"
      },
      "execution_count": 57,
      "outputs": [
        {
          "output_type": "stream",
          "name": "stdout",
          "text": [
            "Total scenes stored in vector DB: 6 \n",
            "\n",
            "\n",
            "Scene 1\n",
            "Summary: In this opening scene, Jimmy, a locksmith in his mid-40s, starts his day at his shop. He begins with a quirky morning routine of trying to pick a lock with a hairpin. His cat, Whiskers, surprises him by jumping on the counter, leading to a humorous interaction involving a master key and a can of tuna. A gust of wind causes a stack of keys to fall, and Jimmy takes a tumble trying to catch them. Despite the mishap, he dusts himself off and prepares to face the day's challenges, showing his resilience and good humor.\n",
            "Characters: ['Jimmy', 'Whiskers']\n",
            "Location: Jimmy's Locksmith Shop\n",
            "Recurring Joke: Jimmy's attempts to use keys for non-lock related tasks (e.g., using the master key to open a can of tuna) and his playful banter with his cat, Whiskers, are recurring jokes.\n",
            "Emotional Tone: Humorous, Light-hearted\n",
            "\n",
            "Scene 2\n",
            "Summary: In the scene, Jimmy, a man with unconventional habits, tries to open a mysterious package with a hairpin. His cat, Whiskers, and his parrot add comedic relief with their antics. Jimmy's health-conscious roommate, Martin, walks in and jokes about Jimmy's failed attempts to feed their plant junk food. Their over-dramatic neighbor, Mrs. Jenkins, rushes in, having noticed the mysterious package from her window. She leaves disappointed when Jimmy reveals the package contains a simple hairpin set. The scene ends with Martin joking about Jimmy's obsession with hairpins, and everyone shares a laugh.\n",
            "Characters: ['Jimmy', 'Whiskers (the cat)', 'Parrot', 'Martin', 'Mrs. Jenkins']\n",
            "Location: Living Room\n",
            "Recurring Joke: The parrot repeating phrases in a humorous context (\"Out of the box, out of the box!\", \"Out of hand, out of hand!\")\n",
            "Emotional Tone: Humorous\n",
            "\n",
            "Scene 3\n",
            "Summary: In Jimmy's locksmith shop, Earl, an eccentric older man, is fascinated by an unusual lock and Jimmy's hairpin. Jimmy, a young locksmith with unconventional practices, is feeding his plant cheese puffs. They exchange humorous banter about their unique interests, with Earl expressing eagerness to share about his compost tea. Earl attempts to demonstrate an \"unbreakable\" lock, but ends up locking his fingers together. He uses Jimmy's hairpin to try and free his fingers, but accidentally flings it into Jimmy's plant pot, making a joke about it being \"lock nutrients\". The scene ends with both of them laughing at the situation.\n",
            "Characters: ['Earl', 'Jimmy']\n",
            "Location: Jimmy's Locksmith Shop\n",
            "Recurring Joke: None\n",
            "Emotional Tone: Humorous\n",
            "\n",
            "Scene 4\n",
            "Summary: In Jimmy's apartment, Jimmy finds a flamboyantly wrapped package with a ticking sound. Using a hairpin, he picks the lock, revealing an old note that brings back memories of his past mischief. His elderly neighbor, Mrs. Jenkins, enters and comments on his unchanged behavior. The note reminds Jimmy of a time he stole a zoo monkey, dressed it in a suit, and taught it to pick pockets at the county fair. His roommate, Martin, enters and joins in the reminiscing, questioning how Jimmy avoided jail. Jimmy responds with a joke about good behavior, leading to a toast to \"water under the bridge\". The scene ends with the characters laughing and reminiscing about Jimmy's past.\n",
            "Characters: ['Jimmy', 'Mrs. Jenkins', 'Martin']\n",
            "Location: Jimmy's Apartment\n",
            "Recurring Joke: Jimmy's past mischiefs and his ability to avoid jail despite them.\n",
            "Emotional Tone: Nostalgic, Humorous\n",
            "\n",
            "Scene 5\n",
            "Summary: In the scene, the bumbling yet endearing character, Earl, struggles with making coffee, misreading instructions, and even pouring coffee grounds into the water reservoir. Jimmy, a neurotic character, enters and tries to correct Earl's mistakes, even attempting to pick the lock of the coffee maker with a hairpin. Earl, in his clumsiness, accidentally glues his fingers together with a sticky sponge. Jimmy suggests Earl read the instructions on the sponge packaging, leading to more mispronunciations. Just as Jimmy successfully unlocks the coffee maker, it explodes, covering them both in coffee grounds. Despite the chaos, they find humor in the situation, ending the scene with a laugh.\n",
            "Characters: ['Earl', 'Jimmy']\n",
            "Location: Kitchen\n",
            "Recurring Joke: Earl's consistent misreading of instructions and Jimmy's attempts to correct him.\n",
            "Emotional Tone: Comical\n",
            "\n",
            "Scene 6\n",
            "Summary: In this scene at the locksmith shop, Sophie enters with the intention of making a peace offering to her father, Jimmy. She presents a box of cheese puffs, which unexpectedly explodes, covering everyone in cheese puff dust. It turns out that the explosion was due to one of Jimmy's old pranks. Despite the mess, the incident leads to a warm moment between Sophie and Jimmy, with Sophie acknowledging that she has learned from her father's prankster ways. Meanwhile, Earl, another character present in the scene, humorously comments on the unexpected events in the shop.\n",
            "Characters: ['Sophie', 'Jimmy', 'Earl']\n",
            "Location: Locksmith shop\n",
            "Recurring Joke: The recurring joke in this scene is the playful pranks between Sophie and Jimmy, which often result in unexpected chaos.\n",
            "Emotional Tone: Humorous, Warm\n"
          ]
        }
      ]
    },
    {
      "cell_type": "markdown",
      "source": [
        "## Scene 7 Generation"
      ],
      "metadata": {
        "id": "LouR69kkwjX9"
      }
    },
    {
      "cell_type": "code",
      "source": [
        "# Extract the description for Scene 7 from the episode outline\n",
        "scene_7_desc = extract_scene(episode_outline, 7)\n",
        "print(scene_7_desc)"
      ],
      "metadata": {
        "colab": {
          "base_uri": "https://localhost:8080/"
        },
        "id": "uvWlQk9Gx8RP",
        "outputId": "8980e4d9-d383-4808-c676-6348d456523d"
      },
      "execution_count": 58,
      "outputs": [
        {
          "output_type": "stream",
          "name": "stdout",
          "text": [
            "Scene 7: \"Father-Daughter Tensions\" Sophie and Jimmy engage in a tense conversation about their past and why she has come. The scene is emotional yet comical due to their differences.\n"
          ]
        }
      ]
    },
    {
      "cell_type": "markdown",
      "source": [
        "### 🎭 Character Agent\n"
      ],
      "metadata": {
        "id": "iZtdCK2byAGk"
      }
    },
    {
      "cell_type": "code",
      "source": [
        "# Re-initialize the character agent with the updated vector metadata\n",
        "character_agent = CharacterAgent(\n",
        "    client=client,\n",
        "    vector_metadata=vector_metadata,\n",
        "    num_scenes=3\n",
        ")\n",
        "\n",
        "# Evaluate Scene 7 using the character agent and store the evaluation results\n",
        "char_histories, char_is_consistent, char_explanation, char_recommendations, char_thoughts = evaluate_character_agent_scene(\n",
        "    agent=character_agent,\n",
        "    scene_description=scene_7_desc,\n",
        "    scene_number=7\n",
        ")"
      ],
      "metadata": {
        "id": "EjtBRw1Nx8Vk",
        "colab": {
          "base_uri": "https://localhost:8080/"
        },
        "outputId": "49f6bfe1-e0d0-46d2-e619-364215beda2d"
      },
      "execution_count": 59,
      "outputs": [
        {
          "output_type": "stream",
          "name": "stdout",
          "text": [
            "🔁 Agent will consider the last 3 scene(s) for context.\n",
            "\n",
            "📚 Retrieving script metadata for scene(s): [4, 5, 6]\n",
            "Scene 7 — Consistency: ✅ Consistent\n",
            "\n",
            "Explanation:\n",
            "2. Short Explanation Why: Sophie, as previously established, is good-humored and peace-loving, which is consistent with her engaging in a conversation about their past. Jimmy's prankster side may bring comic relief to the tense conversation, in line with his character. However, his warm and affectionate side towards Sophie, established in Scene 3, will likely shine through during the discussion. There's no clear contradiction based on the previous scenes.\n",
            "\n",
            "Interaction Improvement Recommendations:\n",
            "1. Sophie brings up one of Jimmy's past pranks, using it as a metaphor to discuss their strained relationship. Despite the serious topic, they both end up laughing about the absurdity of the prank, reflecting their shared sense of humor. — (This interaction builds on Scene 3, where Sophie's reaction to Jimmy's prank hints at a shared sense of humor and a willingness to engage in light-hearted conversation even amidst tension.)\n",
            "2. Jimmy attempts to diffuse the tension by using his lock-picking skills as a metaphor for their relationship - how he's trying to find the right \"key\" to fix their relationship. This shows his resourcefulness and humor in a serious situation. — (This interaction fits as it references Jimmy's resourcefulness and humor as shown in Scene 1 and 2. It also ties in his lock-picking skills, a recurring theme in previous scenes.)\n",
            "\n",
            "Agent's Internal Thoughts:\n",
            "- Think: Identified characters ['Sophie', 'Jimmy'] using context from scene(s) [4, 5, 6].\n",
            "- Act: Retrieved profiles for ['Sophie', 'Jimmy'].\n",
            "- Observe: Scene is consistent.\n",
            "- Recommend: Provided suggestions for enhancing character dynamics.\n"
          ]
        }
      ]
    },
    {
      "cell_type": "markdown",
      "source": [
        "### 🎤 Comedic Agent\n"
      ],
      "metadata": {
        "id": "MKkA-rLWyAjO"
      }
    },
    {
      "cell_type": "code",
      "source": [
        "# Re-initialize the comedy agent with the updated vector metadata\n",
        "comedic_agent = ComedicAgent(\n",
        "    client=client,\n",
        "    vector_metadata=vector_metadata,\n",
        "    num_scenes=3\n",
        ")\n",
        "\n",
        "# Evaluate Scene 7 using the comedy agent and store the evaluation results\n",
        "com_context, com_is_consistent, com_analysis_text, com_recommendations, com_thoughts = evaluate_comedic_agent_scene(\n",
        "    agent=comedic_agent,\n",
        "    scene_description=scene_7_desc,\n",
        "    scene_number=7\n",
        ")"
      ],
      "metadata": {
        "id": "uhwOZ4uxx8Zj",
        "colab": {
          "base_uri": "https://localhost:8080/"
        },
        "outputId": "d9859b57-0644-4ec5-db3f-35fee472a307"
      },
      "execution_count": 60,
      "outputs": [
        {
          "output_type": "stream",
          "name": "stdout",
          "text": [
            "🔁 Agent will consider the last 3 scene(s) for context.\n",
            "\n",
            "📚 Retrieving script metadata for scene(s): [4, 5, 6]\n",
            "Scene 7 — Comedic Tone: ✅ Consistent\n",
            "\n",
            "Comedic Tone Analysis:\n",
            "3. Short Explanation: The new scene maintains the comedic tone of the previous scenes, using humor to lighten serious or emotional moments. The characters' differences and past experiences are used as a source of comedy, consistent with the humor in previous scenes.\n",
            "\n",
            "Comedic Improvement Recommendations:\n",
            "1. [Suggestion] — During the tense conversation, Sophie can try to explain her reason for coming back using a complex metaphor involving her love for cooking. Jimmy, not being a foodie, completely misunderstands her metaphor, thinking she's actually talking about a recipe. The exchange could go something like this:\n",
            "2. [Suggestion] — As Sophie is trying to express her feelings, Jimmy, being a man of few words, could attempt to respond with a thumbs up or a simple \"gotcha.\" Sophie, frustrated, could snap back:\n",
            "\n",
            "Comedic Agent's Internal Thoughts:\n",
            "- Think: Will retrieve summaries and jokes from scene(s) [4, 5, 6] for Scene 7.\n",
            "- Act: Retrieved summaries and jokes from prior scenes.\n",
            "- Observe: Scene is consistent with prior comedic tone.\n",
            "- Recommend: Provided comedic improvements.\n"
          ]
        }
      ]
    },
    {
      "cell_type": "markdown",
      "source": [
        "### 🌆 Environment Agent\n"
      ],
      "metadata": {
        "id": "zHQhc7qoyA7p"
      }
    },
    {
      "cell_type": "code",
      "source": [
        "# Re-initialize the environment agent with the updated vector metadata\n",
        "environment_agent = EnvironmentAgent(\n",
        "    client=client,\n",
        "    vector_metadata=vector_metadata,\n",
        "    num_scenes=3\n",
        ")\n",
        "\n",
        "# Evaluate Scene 7 using the environment agent and store the evaluation results\n",
        "context, is_consistent, explanation, env_recommendations, env_thoughts = evaluate_environment_agent_scene(\n",
        "    agent=environment_agent,\n",
        "    scene_description=scene_7_desc,\n",
        "    scene_number=7\n",
        ")"
      ],
      "metadata": {
        "id": "nFHXlBvcv-dd",
        "colab": {
          "base_uri": "https://localhost:8080/"
        },
        "outputId": "72e612f5-740c-42d2-de24-513bd92029c5"
      },
      "execution_count": 61,
      "outputs": [
        {
          "output_type": "stream",
          "name": "stdout",
          "text": [
            "🔁 Environment Agent will consider the last 3 scene(s) for context.\n",
            "\n",
            "📚 Retrieving script metadata for scene(s): [4, 5, 6]\n",
            "Scene 7 — Environment Transition: ❌ Inconsistent\n",
            "\n",
            "Explanation:\n",
            "Short Explanation: The current scene environment is not specified, which makes it impossible to determine if the transition is logical or not. The audience needs to know where the characters are to understand the context of the scene.\n",
            "- Suggested Transition Setup: Since the last scene was in a locksmith shop, a logical transition could be to a hardware store or back to Jimmy's apartment. If the scene is meant to be in a completely different location, a short setup could involve Jimmy receiving a phone call or text message, prompting him to go to the new location.\n",
            "\n",
            "Environment Detail Suggestions:\n",
            "Environment Details Suggestions:\n",
            "- Suggestion 1: As Jimmy enters the hardware store, he's immediately hit by the strong scent of freshly cut wood and paint fumes. He sneezes comically, drawing the attention of a few customers who chuckle and go back to their shopping. \n",
            "- Suggestion 2: Back at Jimmy's apartment, the sound of a noisy neighbor practicing the tuba can be heard through the walls. Jimmy rolls his eyes, mutters \"Time for Beethoven's fifth... again,\" and cranks up his TV volume.\n",
            "\n",
            "Environment Agent's Internal Thoughts:\n",
            "- Think: Retrieved summaries and environment context from scene(s) [4, 5, 6] for Scene 7.\n",
            "- Act: Analyzed environment features for Scene 7.\n",
            "- Observe: Scene transition is inconsistent.\n",
            "- Recommend: Provided environmental enhancement suggestions.\n"
          ]
        }
      ]
    },
    {
      "cell_type": "markdown",
      "source": [
        "### 🧠 Scene Planner Agent\n"
      ],
      "metadata": {
        "id": "TarPyIqdyBUq"
      }
    },
    {
      "cell_type": "code",
      "source": [
        "# Generate a plan for Scene 7 by integrating recommendations from all three agents\n",
        "scene_7_plan = scene_planner_agent.plan_next_scene(\n",
        "    character_recommendations=char_recommendations,\n",
        "    comedic_recommendations=com_recommendations,\n",
        "    environment_recommendations=env_recommendations,\n",
        "    scene_number=7\n",
        ")\n",
        "\n",
        "print(scene_7_plan)"
      ],
      "metadata": {
        "id": "lV4mxxRJv-YM",
        "colab": {
          "base_uri": "https://localhost:8080/"
        },
        "outputId": "12327a6b-d9bb-41d3-989e-a55fa031fa7e"
      },
      "execution_count": 62,
      "outputs": [
        {
          "output_type": "stream",
          "name": "stdout",
          "text": [
            "Scene Plan:\n",
            "Character Goals:\n",
            "- Sophie utilizes a shared past experience, specifically one of Jimmy's pranks, to humorously address their strained relationship, highlighting their shared sense of humor despite their differences.\n",
            "- Jimmy uses his knack for lock-picking as a metaphor to explain his efforts in mending their relationship, showing his humor and resourcefulness amidst a serious situation.\n",
            "\n",
            "Comedic Goal:\n",
            "- During their heartfelt conversation, Sophie uses a cooking metaphor to explain her decision to return, leading to a humorous misunderstanding by Jimmy, who thinks she's literally talking about cooking stew.\n",
            "\n",
            "Environment Detail:\n",
            "- As the scene unfolds in Jimmy's apartment, a recurring sound of a neighbor's pet dog howling along to the neighbor's tuba practice can be heard, adding to the overall comedic undertone of the scene.\n",
            "\n",
            "Creative Suggestion:\n",
            "- As the conversation heats up, Sophie accidentally triggers one of Jimmy's leftover pranks from the past, causing a mini-chaos in the apartment. This unintentionally funny incident diffuses the tension, leading them to laugh together and reminisce about the old times. This shared moment of humor paves the way for them to have a more open and earnest discussion about their relationship, all while maintaining the comedic tone of the scene.\n"
          ]
        }
      ]
    },
    {
      "cell_type": "markdown",
      "source": [
        "### Generating Scene 7 Script"
      ],
      "metadata": {
        "id": "v85p6EUWyCzG"
      }
    },
    {
      "cell_type": "code",
      "source": [
        "# Generate the full script for Scene 7 based on the structured scene plan\n",
        "scene_7_script = generate_scene(\n",
        "    client=client,\n",
        "    scene_plan=scene_7_plan,\n",
        "    scene_number= 7\n",
        ")\n",
        "\n",
        "print(scene_7_script)"
      ],
      "metadata": {
        "id": "gPhOV9JoyCNP",
        "colab": {
          "base_uri": "https://localhost:8080/"
        },
        "outputId": "5d765da6-b443-48f6-d9b3-e3a93c6a8ce2"
      },
      "execution_count": 63,
      "outputs": [
        {
          "output_type": "stream",
          "name": "stdout",
          "text": [
            "INT. JIMMY'S APARTMENT - DAY\n",
            "\n",
            "[The sound of a tuba followed by a howling dog can be heard from the neighbor's apartment.]\n",
            "\n",
            "Sophie and Jimmy sit on the couch, surrounded by a mess of old photos and memorabilia.\n",
            "\n",
            "SOPHIE:\n",
            "Remember when you rigged the front door to drench whoever opened it with water? \n",
            "\n",
            "JIMMY:\n",
            "(laughs)\n",
            "Yeah, I didn't think you'd be the first one home that day.\n",
            "\n",
            "[Laugh Track]\n",
            "\n",
            "Sophie picks up an old lock and hands it to Jimmy.\n",
            "\n",
            "SOPHIE:\n",
            "And when you picked the lock to the principal's office?\n",
            "\n",
            "JIMMY:\n",
            "(smiling)\n",
            "Oh, that was a classic.\n",
            "\n",
            "SOPHIE:\n",
            "You were always good at getting through locks, Jimmy. Even the ones you weren't supposed to.\n",
            "\n",
            "JIMMY:\n",
            "(laughs)\n",
            "Well, some locks are meant to be picked, Sophie. Like the one between us.\n",
            "\n",
            "[Laugh Track]\n",
            "\n",
            "SOPHIE:\n",
            "I guess that's why I'm back, Jimmy. I want to try and pick that lock again. Like cooking a stew, you know? It takes time, and patience, and the right ingredients.\n",
            "\n",
            "JIMMY:\n",
            "(confused)\n",
            "Wait, are we still talking about us or do you want to cook stew?\n",
            "\n",
            "[Laugh Track]\n",
            "\n",
            "As Sophie laughs, she leans back and accidentally triggers a hidden string. A bucket of confetti falls from the ceiling, covering them both.\n",
            "\n",
            "[Laugh Track]\n",
            "\n",
            "JIMMY:\n",
            "(laughs)\n",
            "Guess I forgot about that one.\n",
            "\n",
            "They both laugh, brushing confetti off each other. \n",
            "\n",
            "SOPHIE:\n",
            "(laughs)\n",
            "Well, looks like we've got some cleaning up to do.\n",
            "\n",
            "JIMMY:\n",
            "Just like old times, huh?\n",
            "\n",
            "They share a look, laughter fading into a comfortable silence. The tuba and howling dog resume in the background.\n",
            "\n",
            "[Laugh Track]\n",
            "\n",
            "JIMMY:\n",
            "So, stew, huh?\n",
            "\n",
            "SOPHIE:\n",
            "(laughs)\n",
            "Yeah, Jimmy. Stew.\n",
            "\n",
            "They both smile, a new understanding settling between them.\n",
            "\n",
            "JIMMY:\n",
            "Well, I've always been good at picking locks. And I make a mean stew.\n",
            "\n",
            "[Laugh Track]\n",
            "\n",
            "FADE OUT.\n"
          ]
        }
      ]
    },
    {
      "cell_type": "markdown",
      "source": [
        "### 🗂️ Adding Metadata to Vector Database"
      ],
      "metadata": {
        "id": "zpPfe7ZAyDNx"
      }
    },
    {
      "cell_type": "code",
      "source": [
        "# Store the generated Scene 7 script in the vector database for future retrieval and context\n",
        "store_scene_in_vector_db(\n",
        "    client=client,\n",
        "    sitcom_title=sitcom_title,\n",
        "    scene_script=scene_7_script,\n",
        "    embedding_model=embedding_model,\n",
        "    index=index,\n",
        "    vector_metadata=vector_metadata\n",
        ")"
      ],
      "metadata": {
        "id": "swIEtu66yCRD",
        "colab": {
          "base_uri": "https://localhost:8080/"
        },
        "outputId": "b696e886-2099-4938-9b52-d6d7fed65b42"
      },
      "execution_count": 64,
      "outputs": [
        {
          "output_type": "stream",
          "name": "stdout",
          "text": [
            "Total scenes stored in vector DB: 7 \n",
            "\n",
            "\n",
            "Scene 1\n",
            "Summary: In this opening scene, Jimmy, a locksmith in his mid-40s, starts his day at his shop. He begins with a quirky morning routine of trying to pick a lock with a hairpin. His cat, Whiskers, surprises him by jumping on the counter, leading to a humorous interaction involving a master key and a can of tuna. A gust of wind causes a stack of keys to fall, and Jimmy takes a tumble trying to catch them. Despite the mishap, he dusts himself off and prepares to face the day's challenges, showing his resilience and good humor.\n",
            "Characters: ['Jimmy', 'Whiskers']\n",
            "Location: Jimmy's Locksmith Shop\n",
            "Recurring Joke: Jimmy's attempts to use keys for non-lock related tasks (e.g., using the master key to open a can of tuna) and his playful banter with his cat, Whiskers, are recurring jokes.\n",
            "Emotional Tone: Humorous, Light-hearted\n",
            "\n",
            "Scene 2\n",
            "Summary: In the scene, Jimmy, a man with unconventional habits, tries to open a mysterious package with a hairpin. His cat, Whiskers, and his parrot add comedic relief with their antics. Jimmy's health-conscious roommate, Martin, walks in and jokes about Jimmy's failed attempts to feed their plant junk food. Their over-dramatic neighbor, Mrs. Jenkins, rushes in, having noticed the mysterious package from her window. She leaves disappointed when Jimmy reveals the package contains a simple hairpin set. The scene ends with Martin joking about Jimmy's obsession with hairpins, and everyone shares a laugh.\n",
            "Characters: ['Jimmy', 'Whiskers (the cat)', 'Parrot', 'Martin', 'Mrs. Jenkins']\n",
            "Location: Living Room\n",
            "Recurring Joke: The parrot repeating phrases in a humorous context (\"Out of the box, out of the box!\", \"Out of hand, out of hand!\")\n",
            "Emotional Tone: Humorous\n",
            "\n",
            "Scene 3\n",
            "Summary: In Jimmy's locksmith shop, Earl, an eccentric older man, is fascinated by an unusual lock and Jimmy's hairpin. Jimmy, a young locksmith with unconventional practices, is feeding his plant cheese puffs. They exchange humorous banter about their unique interests, with Earl expressing eagerness to share about his compost tea. Earl attempts to demonstrate an \"unbreakable\" lock, but ends up locking his fingers together. He uses Jimmy's hairpin to try and free his fingers, but accidentally flings it into Jimmy's plant pot, making a joke about it being \"lock nutrients\". The scene ends with both of them laughing at the situation.\n",
            "Characters: ['Earl', 'Jimmy']\n",
            "Location: Jimmy's Locksmith Shop\n",
            "Recurring Joke: None\n",
            "Emotional Tone: Humorous\n",
            "\n",
            "Scene 4\n",
            "Summary: In Jimmy's apartment, Jimmy finds a flamboyantly wrapped package with a ticking sound. Using a hairpin, he picks the lock, revealing an old note that brings back memories of his past mischief. His elderly neighbor, Mrs. Jenkins, enters and comments on his unchanged behavior. The note reminds Jimmy of a time he stole a zoo monkey, dressed it in a suit, and taught it to pick pockets at the county fair. His roommate, Martin, enters and joins in the reminiscing, questioning how Jimmy avoided jail. Jimmy responds with a joke about good behavior, leading to a toast to \"water under the bridge\". The scene ends with the characters laughing and reminiscing about Jimmy's past.\n",
            "Characters: ['Jimmy', 'Mrs. Jenkins', 'Martin']\n",
            "Location: Jimmy's Apartment\n",
            "Recurring Joke: Jimmy's past mischiefs and his ability to avoid jail despite them.\n",
            "Emotional Tone: Nostalgic, Humorous\n",
            "\n",
            "Scene 5\n",
            "Summary: In the scene, the bumbling yet endearing character, Earl, struggles with making coffee, misreading instructions, and even pouring coffee grounds into the water reservoir. Jimmy, a neurotic character, enters and tries to correct Earl's mistakes, even attempting to pick the lock of the coffee maker with a hairpin. Earl, in his clumsiness, accidentally glues his fingers together with a sticky sponge. Jimmy suggests Earl read the instructions on the sponge packaging, leading to more mispronunciations. Just as Jimmy successfully unlocks the coffee maker, it explodes, covering them both in coffee grounds. Despite the chaos, they find humor in the situation, ending the scene with a laugh.\n",
            "Characters: ['Earl', 'Jimmy']\n",
            "Location: Kitchen\n",
            "Recurring Joke: Earl's consistent misreading of instructions and Jimmy's attempts to correct him.\n",
            "Emotional Tone: Comical\n",
            "\n",
            "Scene 6\n",
            "Summary: In this scene at the locksmith shop, Sophie enters with the intention of making a peace offering to her father, Jimmy. She presents a box of cheese puffs, which unexpectedly explodes, covering everyone in cheese puff dust. It turns out that the explosion was due to one of Jimmy's old pranks. Despite the mess, the incident leads to a warm moment between Sophie and Jimmy, with Sophie acknowledging that she has learned from her father's prankster ways. Meanwhile, Earl, another character present in the scene, humorously comments on the unexpected events in the shop.\n",
            "Characters: ['Sophie', 'Jimmy', 'Earl']\n",
            "Location: Locksmith shop\n",
            "Recurring Joke: The recurring joke in this scene is the playful pranks between Sophie and Jimmy, which often result in unexpected chaos.\n",
            "Emotional Tone: Humorous, Warm\n",
            "\n",
            "Scene 7\n",
            "Summary: In Jimmy's apartment, Sophie and Jimmy reminisce about their past while going through old photos and memorabilia. They recall Jimmy's knack for picking locks, including a memorable incident at their school. Jimmy likens his lock-picking skills to their relationship, suggesting they were meant to be together. Sophie agrees, expressing her desire to rekindle their relationship, comparing it to cooking a stew. The old prank of a confetti bucket rigged to a string is accidentally triggered, leading to laughter and a shared moment of nostalgia. The scene ends with a mutual understanding and Jimmy's affirmation of his abilities, both in picking locks and cooking stew.\n",
            "Characters: ['Sophie', 'Jimmy']\n",
            "Location: Jimmy's Apartment\n",
            "Recurring Joke: The recurring joke in the scene is Jimmy's history of setting up pranks and his knack for picking locks, which is metaphorically extended to their relationship.\n",
            "Emotional Tone: Nostalgic, Humorous\n"
          ]
        }
      ]
    },
    {
      "cell_type": "markdown",
      "source": [
        "## Scene 8 Generation"
      ],
      "metadata": {
        "id": "raQt5PYYzUsz"
      }
    },
    {
      "cell_type": "code",
      "source": [
        "# Extract the description for Scene 8 from the episode outline\n",
        "scene_8_desc = extract_scene(episode_outline, 8)\n",
        "print(scene_8_desc)"
      ],
      "metadata": {
        "id": "HxcX0OzZyxOh",
        "colab": {
          "base_uri": "https://localhost:8080/"
        },
        "outputId": "0f4e55e1-4ccf-4905-d809-560115180800"
      },
      "execution_count": 65,
      "outputs": [
        {
          "output_type": "stream",
          "name": "stdout",
          "text": [
            "Scene 8: \"Earl's Intervention\" Earl tries to mediate the situation between Sophie and Jimmy, leading to a funny and awkward moment.\n"
          ]
        }
      ]
    },
    {
      "cell_type": "markdown",
      "source": [
        "### 🎭 Character Agent\n"
      ],
      "metadata": {
        "id": "Dr7oF2AIzXvN"
      }
    },
    {
      "cell_type": "code",
      "source": [
        "# Re-initialize the character agent with the updated vector metadata\n",
        "character_agent = CharacterAgent(\n",
        "    client=client,\n",
        "    vector_metadata=vector_metadata,\n",
        "    num_scenes=3\n",
        ")\n",
        "\n",
        "# Evaluate Scene 8 using the character agent and store the evaluation results\n",
        "char_histories, char_is_consistent, char_explanation, char_recommendations, char_thoughts = evaluate_character_agent_scene(\n",
        "    agent=character_agent,\n",
        "    scene_description=scene_8_desc,\n",
        "    scene_number=8\n",
        ")"
      ],
      "metadata": {
        "id": "4IDyA43myxS5",
        "colab": {
          "base_uri": "https://localhost:8080/"
        },
        "outputId": "8f921ab5-e250-461d-bebe-ebcfd50b4adb"
      },
      "execution_count": 66,
      "outputs": [
        {
          "output_type": "stream",
          "name": "stdout",
          "text": [
            "🔁 Agent will consider the last 3 scene(s) for context.\n",
            "\n",
            "📚 Retrieving script metadata for scene(s): [5, 6, 7]\n",
            "Scene 8 — Consistency: ✅ Consistent\n",
            "\n",
            "Explanation:\n",
            "2. Short Explanation Why: Earl's intervention aligns with his endearing clumsiness and eccentricity, as well as his friendly relationship with Jimmy. His attempt to mediate could result in humorous mishaps, which is consistent with his character. Sophie's willingness to engage in the intervention is consistent with her forgiving, reconciliatory nature and her desire to improve her relationship with Jimmy. Jimmy's participation aligns with his evolving emotional arc, which shows him valuing relationships more.\n",
            "\n",
            "Interaction Improvement Recommendations:\n",
            "1. Earl, in his clumsy yet endearing way, tries to explain to Sophie how much Jimmy's pranks mean to him, accidentally setting off another of Jimmy's old pranks in the process. This could lead to a funny moment of chaos that lightens the tension between Sophie and Jimmy — (This interaction is consistent with Earl's character as seen in Scene 1, where he finds himself in comically chaotic situations and maintains a light-hearted attitude, and Scene 2, where he admires Jimmy's unconventional practices as a locksmith).\n",
            "2. Earl, in his attempt to mediate the situation, mispronounces a few words, creating a moment of humor that diffuses the tension between Sophie and Jimmy. Sophie, forgiving and understanding, laughs and corrects him gently — (This interaction builds on the humorous mispronunciations that Earl makes in Scene 2 and Sophie's forgiving and affectionate nature shown in the locksmith shop scene. It also helps to lighten the mood and progress the father-daughter relationship).\n",
            "\n",
            "Agent's Internal Thoughts:\n",
            "- Think: Identified characters ['Earl', 'Sophie', 'Jimmy'] using context from scene(s) [5, 6, 7].\n",
            "- Act: Retrieved profiles for ['Earl', 'Sophie', 'Jimmy'].\n",
            "- Observe: Scene is consistent.\n",
            "- Recommend: Provided suggestions for enhancing character dynamics.\n"
          ]
        }
      ]
    },
    {
      "cell_type": "markdown",
      "source": [
        "### 🎤 Comedic Agent\n"
      ],
      "metadata": {
        "id": "dcjC3TbGzaI1"
      }
    },
    {
      "cell_type": "code",
      "source": [
        "# Re-initialize the comedy agent with the updated vector metadata\n",
        "comedic_agent = ComedicAgent(\n",
        "    client=client,\n",
        "    vector_metadata=vector_metadata,\n",
        "    num_scenes=3\n",
        ")\n",
        "\n",
        "# Evaluate Scene 8 using the comedy agent and store the evaluation results\n",
        "com_context, com_is_consistent, com_analysis_text, com_recommendations, com_thoughts = evaluate_comedic_agent_scene(\n",
        "    agent=comedic_agent,\n",
        "    scene_description=scene_8_desc,\n",
        "    scene_number=8\n",
        ")"
      ],
      "metadata": {
        "id": "mrFSoGM7yxXX",
        "colab": {
          "base_uri": "https://localhost:8080/"
        },
        "outputId": "eec0d666-c949-47e1-9f54-ffa4beda468e"
      },
      "execution_count": 67,
      "outputs": [
        {
          "output_type": "stream",
          "name": "stdout",
          "text": [
            "🔁 Agent will consider the last 3 scene(s) for context.\n",
            "\n",
            "📚 Retrieving script metadata for scene(s): [5, 6, 7]\n",
            "Scene 8 — Comedic Tone: ❌ Inconsistent\n",
            "\n",
            "Comedic Tone Analysis:\n",
            "3. Short Explanation: The awkward humor in this scene is consistent with the comedic tone of the previous scenes, which also revolve around humorous misunderstandings and unexpected chaos.\n",
            "\n",
            "Comedic Improvement Recommendations:\n",
            "1. [Suggestion] — Earl, in an attempt to demonstrate neutrality, tries to sit exactly in the middle of Sophie and Jimmy but ends up sitting on a small, shaky stool that collapses under his weight. This leads to a humorous moment where Earl lands on a whoopee cushion that Jimmy had sneakily placed on the floor earlier in the episode. — (This suggestion builds on the physical comedy and slapstick humor that has been present in prior scenes, while also incorporating a running joke of Jimmy's love for practical jokes.)\n",
            "2. [Suggestion] — As Earl tries to mediate, he unknowingly uses a string of idioms and expressions that Sophie and Jimmy have been arguing about the meaning of in previous episodes. For example, he says, \"let's not put the cart before the horse\" or \"let's not count our chickens before they're hatched\", causing Sophie and Jimmy to momentarily forget their squabble as they both jump in to correct Earl's usage, creating a humorous moment of unity between the two. — (This recommendation is grounded in the characters' established quirks and arguments from previous scenes and provides a light-hearted resolution to their ongoing conflict.)\n",
            "\n",
            "Comedic Agent's Internal Thoughts:\n",
            "- Think: Will retrieve summaries and jokes from scene(s) [5, 6, 7] for Scene 8.\n",
            "- Act: Retrieved summaries and jokes from prior scenes.\n",
            "- Observe: Scene is inconsistent with prior comedic tone.\n",
            "- Recommend: Provided comedic improvements.\n"
          ]
        }
      ]
    },
    {
      "cell_type": "markdown",
      "source": [
        "### 🌆 Environment Agent\n"
      ],
      "metadata": {
        "id": "XWdvNg3mzcis"
      }
    },
    {
      "cell_type": "code",
      "source": [
        "# Re-initialize the environment agent with the updated vector metadata\n",
        "environment_agent = EnvironmentAgent(\n",
        "    client=client,\n",
        "    vector_metadata=vector_metadata,\n",
        "    num_scenes=3\n",
        ")\n",
        "\n",
        "# Evaluate Scene 8 using the environment agent and store the evaluation results\n",
        "context, is_consistent, explanation, env_recommendations, env_thoughts = evaluate_environment_agent_scene(\n",
        "    agent=environment_agent,\n",
        "    scene_description=scene_8_desc,\n",
        "    scene_number=8\n",
        ")"
      ],
      "metadata": {
        "id": "v4FN5n-TyCVD",
        "colab": {
          "base_uri": "https://localhost:8080/"
        },
        "outputId": "e95f63d9-7afd-4a64-d819-7185782aa6c0"
      },
      "execution_count": 68,
      "outputs": [
        {
          "output_type": "stream",
          "name": "stdout",
          "text": [
            "🔁 Environment Agent will consider the last 3 scene(s) for context.\n",
            "\n",
            "📚 Retrieving script metadata for scene(s): [5, 6, 7]\n",
            "Scene 8 — Environment Transition: ❌ Inconsistent\n",
            "\n",
            "Explanation:\n",
            "Short Explanation: There is no clear connection between Jimmy's apartment and Earl's intervention. The audience might be confused about how and why the characters ended up at an intervention from an apartment without any prior setup or context.\n",
            "- Suggested Transition Setup: A scene could be added where Jimmy finds a letter in his apartment, which is an invitation to Earl's intervention. This would provide a logical transition and also add a layer of surprise and intrigue.\n",
            "\n",
            "Environment Detail Suggestions:\n",
            "Environment Details Suggestions:\n",
            "- Suggestion 1: As they enter Earl's intervention, the characters are greeted by a peculiar sight: an 'Intervention' banner crudely made from duct tape and printer paper, hanging lopsidedly across the room. This silly detail can provide a light, comedic moment to ease the transition.\n",
            "- Suggestion 2: A faint smell of burned cookies fills the room. Sophie, in her nervousness, tried to bake 'intervention cookies' but forgot them in the oven. This sensory detail adds to the quirky, awkward atmosphere, and is a potential setup for more jokes later.\n",
            "\n",
            "Environment Agent's Internal Thoughts:\n",
            "- Think: Retrieved summaries and environment context from scene(s) [5, 6, 7] for Scene 8.\n",
            "- Act: Analyzed environment features for Scene 8.\n",
            "- Observe: Scene transition is inconsistent.\n",
            "- Recommend: Provided environmental enhancement suggestions.\n"
          ]
        }
      ]
    },
    {
      "cell_type": "markdown",
      "source": [
        "### 🧠 Scene Planner Agent\n"
      ],
      "metadata": {
        "id": "XKDFzVsgzeuV"
      }
    },
    {
      "cell_type": "code",
      "source": [
        "# Generate a plan for Scene 8 by integrating recommendations from all three agents\n",
        "scene_8_plan = scene_planner_agent.plan_next_scene(\n",
        "    character_recommendations=char_recommendations,\n",
        "    comedic_recommendations=com_recommendations,\n",
        "    environment_recommendations=env_recommendations,\n",
        "    scene_number=8\n",
        ")\n",
        "\n",
        "print(scene_8_plan)"
      ],
      "metadata": {
        "id": "RiciS2t3yCYm",
        "colab": {
          "base_uri": "https://localhost:8080/"
        },
        "outputId": "3f892ab1-d92b-4d06-cebf-513a97e4c672"
      },
      "execution_count": 69,
      "outputs": [
        {
          "output_type": "stream",
          "name": "stdout",
          "text": [
            "Scene Plan:\n",
            "Character Goals:\n",
            "- Earl must inadvertently trigger one of Jimmy's old pranks while trying to explain the importance of Jimmy's prankster nature to Sophie, thereby showcasing his clumsy yet lovable persona.\n",
            "- In an effort to mediate the situation between Sophie and Jimmy, Earl must use incorrect pronunciations or idioms, leading Sophie to gently correct him, further showcasing her forgiving nature and advancing their father-daughter bond.\n",
            "\n",
            "Comedic Goal:\n",
            "- Incorporate physical comedy by having Earl attempt to sit equidistant between Sophie and Jimmy on a precarious stool, leading to a comical fall on a strategically placed whoopee cushion by Jimmy.\n",
            "\n",
            "Environment Detail:\n",
            "- Earl's intervention room should have a noticeable, whimsical element such as an intervention banner made from mismatched materials (e.g., old Christmas lights and a bed sheet). This detail should underscore the awkward but humorous tone of the scene.\n",
            "\n",
            "Creative Suggestion:\n",
            "- The scene could progress with Earl trying to lighten the mood through a clumsy magic trick that he learned from one of Jimmy's old prank books. As he attempts the trick, he accidentally reveals a secret compartment in Jimmy's old chest, leading to a surprising discovery that further unites Sophie and Jimmy in their shared intrigue.\n"
          ]
        }
      ]
    },
    {
      "cell_type": "markdown",
      "source": [
        "### Generating Scene 8 Script"
      ],
      "metadata": {
        "id": "BRll3TnezfOp"
      }
    },
    {
      "cell_type": "code",
      "source": [
        "# Generate the full script for Scene 8 based on the structured scene plan\n",
        "scene_8_script = generate_scene(\n",
        "    client=client,\n",
        "    scene_plan=scene_8_plan,\n",
        "    scene_number= 8\n",
        ")\n",
        "\n",
        "print(scene_8_script)"
      ],
      "metadata": {
        "id": "f9zGRpAtzt7w",
        "colab": {
          "base_uri": "https://localhost:8080/"
        },
        "outputId": "202418eb-48c7-44ef-e65d-60b3658f4fe8"
      },
      "execution_count": 70,
      "outputs": [
        {
          "output_type": "stream",
          "name": "stdout",
          "text": [
            "INT. EARL'S INTERVENTION ROOM - DAY\n",
            "\n",
            "The room is haphazardly adorned with an intervention banner made of old Christmas lights and a bed sheet. EARL, SOPHIE, and JIMMY are present. Earl is trying to sit equidistant between Sophie and Jimmy on a precarious stool.\n",
            "\n",
            "EARL\n",
            "(awkwardly)\n",
            "You see, Sophie, your uncle Jimmy's prankster nature is a key part of our family's... er... charisma.\n",
            "\n",
            "[Laugh Track]\n",
            "\n",
            "Earl adjusts on the stool, but it wobbles, causing him to sit on a strategically placed whoopee cushion.\n",
            "\n",
            "[Laugh Track]\n",
            "\n",
            "SOPHIE\n",
            "(smiling)\n",
            "Dad, it's \"character,\" not \"charisma.\"\n",
            "\n",
            "EARL\n",
            "(embarrassed)\n",
            "Right, right, character.\n",
            "\n",
            "[Laugh Track]\n",
            "\n",
            "Earl picks up a book from a nearby table.\n",
            "\n",
            "EARL\n",
            "(cont'd)\n",
            "Now, Jimmy, remember this old prank book?\n",
            "\n",
            "JIMMY\n",
            "(laughs)\n",
            "You mean the one with the magic tricks?\n",
            "\n",
            "EARL\n",
            "Exactly!\n",
            "\n",
            "Earl tries to perform a trick, but clumsily opens a secret compartment in an old chest instead.\n",
            "\n",
            "[Laugh Track]\n",
            "\n",
            "Sophie and Jimmy both gasp in surprise. Earl pulls out an old photo album.\n",
            "\n",
            "SOPHIE\n",
            "(excited)\n",
            "What's that, dad?\n",
            "\n",
            "EARL\n",
            "(surprised)\n",
            "Oh, this? It's... it's your mom and Jimmy... they were... they were quite the pranksters!\n",
            "\n",
            "Jimmy and Sophie exchange a look of shared intrigue. Earl, realizing he's united them, smiles contentedly.\n",
            "\n",
            "EARL\n",
            "(cont'd)\n",
            "So, you see, Sophie, pranking is in your blood. Just like... mispronouncing... idioms is in mine.\n",
            "\n",
            "[Laugh Track]\n",
            "\n",
            "SOPHIE\n",
            "(laughs)\n",
            "I guess we're all a little clumsy in our own ways, huh?\n",
            "\n",
            "They all share a laugh, bringing the scene to a warm conclusion.\n",
            "\n",
            "[Laugh Track]\n"
          ]
        }
      ]
    },
    {
      "cell_type": "markdown",
      "source": [
        "### 🗂️ Adding Metadata to Vector Database"
      ],
      "metadata": {
        "id": "JGP5Eeqezwas"
      }
    },
    {
      "cell_type": "code",
      "source": [
        "# Store the generated Scene 8 script in the vector database for future retrieval and context\n",
        "store_scene_in_vector_db(\n",
        "    client=client,\n",
        "    sitcom_title=sitcom_title,\n",
        "    scene_script=scene_8_script,\n",
        "    embedding_model=embedding_model,\n",
        "    index=index,\n",
        "    vector_metadata=vector_metadata\n",
        ")"
      ],
      "metadata": {
        "id": "V6-Hpn0Dzt3b",
        "colab": {
          "base_uri": "https://localhost:8080/"
        },
        "outputId": "68a88a03-dfd2-42c6-ffab-197d24e2f8c4"
      },
      "execution_count": 71,
      "outputs": [
        {
          "output_type": "stream",
          "name": "stdout",
          "text": [
            "Total scenes stored in vector DB: 8 \n",
            "\n",
            "\n",
            "Scene 1\n",
            "Summary: In this opening scene, Jimmy, a locksmith in his mid-40s, starts his day at his shop. He begins with a quirky morning routine of trying to pick a lock with a hairpin. His cat, Whiskers, surprises him by jumping on the counter, leading to a humorous interaction involving a master key and a can of tuna. A gust of wind causes a stack of keys to fall, and Jimmy takes a tumble trying to catch them. Despite the mishap, he dusts himself off and prepares to face the day's challenges, showing his resilience and good humor.\n",
            "Characters: ['Jimmy', 'Whiskers']\n",
            "Location: Jimmy's Locksmith Shop\n",
            "Recurring Joke: Jimmy's attempts to use keys for non-lock related tasks (e.g., using the master key to open a can of tuna) and his playful banter with his cat, Whiskers, are recurring jokes.\n",
            "Emotional Tone: Humorous, Light-hearted\n",
            "\n",
            "Scene 2\n",
            "Summary: In the scene, Jimmy, a man with unconventional habits, tries to open a mysterious package with a hairpin. His cat, Whiskers, and his parrot add comedic relief with their antics. Jimmy's health-conscious roommate, Martin, walks in and jokes about Jimmy's failed attempts to feed their plant junk food. Their over-dramatic neighbor, Mrs. Jenkins, rushes in, having noticed the mysterious package from her window. She leaves disappointed when Jimmy reveals the package contains a simple hairpin set. The scene ends with Martin joking about Jimmy's obsession with hairpins, and everyone shares a laugh.\n",
            "Characters: ['Jimmy', 'Whiskers (the cat)', 'Parrot', 'Martin', 'Mrs. Jenkins']\n",
            "Location: Living Room\n",
            "Recurring Joke: The parrot repeating phrases in a humorous context (\"Out of the box, out of the box!\", \"Out of hand, out of hand!\")\n",
            "Emotional Tone: Humorous\n",
            "\n",
            "Scene 3\n",
            "Summary: In Jimmy's locksmith shop, Earl, an eccentric older man, is fascinated by an unusual lock and Jimmy's hairpin. Jimmy, a young locksmith with unconventional practices, is feeding his plant cheese puffs. They exchange humorous banter about their unique interests, with Earl expressing eagerness to share about his compost tea. Earl attempts to demonstrate an \"unbreakable\" lock, but ends up locking his fingers together. He uses Jimmy's hairpin to try and free his fingers, but accidentally flings it into Jimmy's plant pot, making a joke about it being \"lock nutrients\". The scene ends with both of them laughing at the situation.\n",
            "Characters: ['Earl', 'Jimmy']\n",
            "Location: Jimmy's Locksmith Shop\n",
            "Recurring Joke: None\n",
            "Emotional Tone: Humorous\n",
            "\n",
            "Scene 4\n",
            "Summary: In Jimmy's apartment, Jimmy finds a flamboyantly wrapped package with a ticking sound. Using a hairpin, he picks the lock, revealing an old note that brings back memories of his past mischief. His elderly neighbor, Mrs. Jenkins, enters and comments on his unchanged behavior. The note reminds Jimmy of a time he stole a zoo monkey, dressed it in a suit, and taught it to pick pockets at the county fair. His roommate, Martin, enters and joins in the reminiscing, questioning how Jimmy avoided jail. Jimmy responds with a joke about good behavior, leading to a toast to \"water under the bridge\". The scene ends with the characters laughing and reminiscing about Jimmy's past.\n",
            "Characters: ['Jimmy', 'Mrs. Jenkins', 'Martin']\n",
            "Location: Jimmy's Apartment\n",
            "Recurring Joke: Jimmy's past mischiefs and his ability to avoid jail despite them.\n",
            "Emotional Tone: Nostalgic, Humorous\n",
            "\n",
            "Scene 5\n",
            "Summary: In the scene, the bumbling yet endearing character, Earl, struggles with making coffee, misreading instructions, and even pouring coffee grounds into the water reservoir. Jimmy, a neurotic character, enters and tries to correct Earl's mistakes, even attempting to pick the lock of the coffee maker with a hairpin. Earl, in his clumsiness, accidentally glues his fingers together with a sticky sponge. Jimmy suggests Earl read the instructions on the sponge packaging, leading to more mispronunciations. Just as Jimmy successfully unlocks the coffee maker, it explodes, covering them both in coffee grounds. Despite the chaos, they find humor in the situation, ending the scene with a laugh.\n",
            "Characters: ['Earl', 'Jimmy']\n",
            "Location: Kitchen\n",
            "Recurring Joke: Earl's consistent misreading of instructions and Jimmy's attempts to correct him.\n",
            "Emotional Tone: Comical\n",
            "\n",
            "Scene 6\n",
            "Summary: In this scene at the locksmith shop, Sophie enters with the intention of making a peace offering to her father, Jimmy. She presents a box of cheese puffs, which unexpectedly explodes, covering everyone in cheese puff dust. It turns out that the explosion was due to one of Jimmy's old pranks. Despite the mess, the incident leads to a warm moment between Sophie and Jimmy, with Sophie acknowledging that she has learned from her father's prankster ways. Meanwhile, Earl, another character present in the scene, humorously comments on the unexpected events in the shop.\n",
            "Characters: ['Sophie', 'Jimmy', 'Earl']\n",
            "Location: Locksmith shop\n",
            "Recurring Joke: The recurring joke in this scene is the playful pranks between Sophie and Jimmy, which often result in unexpected chaos.\n",
            "Emotional Tone: Humorous, Warm\n",
            "\n",
            "Scene 7\n",
            "Summary: In Jimmy's apartment, Sophie and Jimmy reminisce about their past while going through old photos and memorabilia. They recall Jimmy's knack for picking locks, including a memorable incident at their school. Jimmy likens his lock-picking skills to their relationship, suggesting they were meant to be together. Sophie agrees, expressing her desire to rekindle their relationship, comparing it to cooking a stew. The old prank of a confetti bucket rigged to a string is accidentally triggered, leading to laughter and a shared moment of nostalgia. The scene ends with a mutual understanding and Jimmy's affirmation of his abilities, both in picking locks and cooking stew.\n",
            "Characters: ['Sophie', 'Jimmy']\n",
            "Location: Jimmy's Apartment\n",
            "Recurring Joke: The recurring joke in the scene is Jimmy's history of setting up pranks and his knack for picking locks, which is metaphorically extended to their relationship.\n",
            "Emotional Tone: Nostalgic, Humorous\n",
            "\n",
            "Scene 8\n",
            "Summary: In the intervention room, Earl, Sophie, and Jimmy gather around an old Christmas light banner and a precarious stool. Earl tries to explain Jimmy's prankster nature as part of their family's character, not charisma, to Sophie. He then brings up an old prank book, accidentally revealing a secret compartment in a chest. Inside, an old photo album shows Sophie's mother and Jimmy as pranksters, uniting Sophie and Jimmy in intrigue. Earl uses this to convince Sophie that pranking is part of their family, just like his mispronunciation of idioms. They all share a laugh, ending the scene on a warm note.\n",
            "Characters: ['Earl', 'Sophie', 'Jimmy']\n",
            "Location: Earl's Intervention Room\n",
            "Recurring Joke: Earl's mispronunciation of idioms and clumsiness.\n",
            "Emotional Tone: Warm\n"
          ]
        }
      ]
    },
    {
      "cell_type": "markdown",
      "source": [
        "## Scene 9 Generation"
      ],
      "metadata": {
        "id": "gOggjV0s0I69"
      }
    },
    {
      "cell_type": "code",
      "source": [
        "# Extract the description for Scene 9 from the episode outline\n",
        "scene_9_desc = extract_scene(episode_outline, 9)\n",
        "print(scene_9_desc)"
      ],
      "metadata": {
        "id": "4uvVPjrCz1xu",
        "colab": {
          "base_uri": "https://localhost:8080/"
        },
        "outputId": "18deaf31-d209-47bf-b7c4-717520391beb"
      },
      "execution_count": 72,
      "outputs": [
        {
          "output_type": "stream",
          "name": "stdout",
          "text": [
            "Scene 9: \"A Locksmith's Lesson\" Jimmy reluctantly agrees to teach Sophie some locksmithing skills, leading to a series of funny and touching moments.\n"
          ]
        }
      ]
    },
    {
      "cell_type": "markdown",
      "source": [
        "### 🎭 Character Agent\n"
      ],
      "metadata": {
        "id": "yXBwyPSu0JTH"
      }
    },
    {
      "cell_type": "code",
      "source": [
        "# Re-initialize the character agent with the updated vector metadata\n",
        "character_agent = CharacterAgent(\n",
        "    client=client,\n",
        "    vector_metadata=vector_metadata,\n",
        "    num_scenes=3\n",
        ")\n",
        "\n",
        "# Evaluate Scene 9 using the character agent and store the evaluation results\n",
        "char_histories, char_is_consistent, char_explanation, char_recommendations, char_thoughts = evaluate_character_agent_scene(\n",
        "    agent=character_agent,\n",
        "    scene_description=scene_9_desc,\n",
        "    scene_number=9\n",
        ")\n"
      ],
      "metadata": {
        "id": "HXHzfpLsz1sN",
        "colab": {
          "base_uri": "https://localhost:8080/"
        },
        "outputId": "c582e81f-fa13-49f8-a856-00b8f62625eb"
      },
      "execution_count": 73,
      "outputs": [
        {
          "output_type": "stream",
          "name": "stdout",
          "text": [
            "🔁 Agent will consider the last 3 scene(s) for context.\n",
            "\n",
            "📚 Retrieving script metadata for scene(s): [6, 7, 8]\n",
            "Scene 9 — Consistency: ✅ Consistent\n",
            "\n",
            "Explanation:\n",
            "2. Short Explanation Why: Both Jimmy and Sophie's behaviors align with their established character profiles. Jimmy's willingness to teach Sophie locksmithing skills shows his warm-hearted nature, while the humor that ensues from the situation aligns with his prankster personality. Sophie's desire to learn from Jimmy aligns with her peacemaker and open-minded traits. Her ability to partake in the humor aligns with her good-humored personality. Their actions and dialogue are logical based on past scenes, and there are no contradictions or missing motivations.\n",
            "\n",
            "Interaction Improvement Recommendations:\n",
            "1. Jimmy pulls a prank by rigging a lock to squirt ink when Sophie attempts to pick it. Sophie, foreseeing this, switches the locks before Jimmy notices, causing him to be the recipient of his own prank. — (This interaction fits as it builds on Scene 1 where Jimmy's prank on Sophie with the cheese puff box backfires. It shows Sophie's growth in adapting to Jimmy's prankster ways, suggesting her learning from past experiences.)\n",
            "2. Sophie and Jimmy share a heartwarming moment when Jimmy, after the prank, sincerely explains the importance of patience and precision in locksmithing, using a metaphor that it's like \"cooking a stew\", echoing their previous interaction in Scene 2. Sophie appreciates the sentiment and sees this as an indication of Jimmy's effort to bond with her. — (This interaction fits as it reflects Jimmy's metaphorical speaking style and his warm-hearted nature seen in Scene 2. It also builds on Sophie's sentimentality, and her desire to strengthen her relationship with Jimmy as seen in Scene 1 and 2.)\n",
            "\n",
            "Agent's Internal Thoughts:\n",
            "- Think: Identified characters ['Jimmy', 'Sophie'] using context from scene(s) [6, 7, 8].\n",
            "- Act: Retrieved profiles for ['Jimmy', 'Sophie'].\n",
            "- Observe: Scene is consistent.\n",
            "- Recommend: Provided suggestions for enhancing character dynamics.\n"
          ]
        }
      ]
    },
    {
      "cell_type": "markdown",
      "source": [
        "### 🎤 Comedic Agent\n"
      ],
      "metadata": {
        "id": "3ctD37Cm0JvB"
      }
    },
    {
      "cell_type": "code",
      "source": [
        "# Re-initialize the comedy agent with the updated vector metadata\n",
        "comedic_agent = ComedicAgent(\n",
        "    client=client,\n",
        "    vector_metadata=vector_metadata,\n",
        "    num_scenes=3\n",
        ")\n",
        "\n",
        "# Evaluate Scene 9 using the comedy agent and store the evaluation results\n",
        "com_context, com_is_consistent, com_analysis_text, com_recommendations, com_thoughts = evaluate_comedic_agent_scene(\n",
        "    agent=comedic_agent,\n",
        "    scene_description=scene_9_desc,\n",
        "    scene_number=9\n",
        ")"
      ],
      "metadata": {
        "id": "xnE3k5EZz1nr",
        "colab": {
          "base_uri": "https://localhost:8080/"
        },
        "outputId": "b31a08d0-103b-4fcc-d881-7dac95636bb6"
      },
      "execution_count": 74,
      "outputs": [
        {
          "output_type": "stream",
          "name": "stdout",
          "text": [
            "🔁 Agent will consider the last 3 scene(s) for context.\n",
            "\n",
            "📚 Retrieving script metadata for scene(s): [6, 7, 8]\n",
            "Scene 9 — Comedic Tone: ✅ Consistent\n",
            "\n",
            "Comedic Tone Analysis:\n",
            "3. Short Explanation: The comedic tone in the new scene is consistent with the previous scenes. It continues to blend humor with touching moments, maintaining the balance between comedy and sentimentality. The pranks, Jimmy's locksmithing skills, and Earl's mispronunciations are all present, keeping the humor consistent.\n",
            "\n",
            "Comedic Improvement Recommendations:\n",
            "1. [Suggestion] — As Jimmy is showing Sophie the basics of locksmithing, she could accidentally lock them both inside the shop due to misunderstanding his instructions. Jimmy, trying to keep his cool, guides her through unlocking the door from the inside. This could lead to a funny dialogue exchange where Jimmy exclaims, \"You're the first person I've ever met who needs a locksmith to get out of a locksmith's shop!\" — (This situation builds on the humor of Sophie's inexperience with locksmithing. It also highlights Jimmy's patience and adds a funny, unexpected twist to the teaching scene.)\n",
            "2. [Suggestion] — When Jimmy tries to explain the importance of 'feel' in locksmithing by using a metaphor related to Sophie's interests (e.g. 'It's like finding the perfect shoe size, you just know when it fits!'), Sophie takes it literally and starts comparing different lock picks to shoe styles (\"So this one's a stiletto, and that's a sneaker...\"). This could become a running joke where Sophie refers to lock picks as shoe styles in future episodes. — (This suggestion builds on Sophie's character quirk of being a shoe enthusiast, and introduces a humorous way for her to understand and remember locksmithing techniques. It also provides a potential running joke that can be referenced in future episodes.)\n",
            "\n",
            "Comedic Agent's Internal Thoughts:\n",
            "- Think: Will retrieve summaries and jokes from scene(s) [6, 7, 8] for Scene 9.\n",
            "- Act: Retrieved summaries and jokes from prior scenes.\n",
            "- Observe: Scene is consistent with prior comedic tone.\n",
            "- Recommend: Provided comedic improvements.\n"
          ]
        }
      ]
    },
    {
      "cell_type": "markdown",
      "source": [
        "### 🌆 Environment Agent\n"
      ],
      "metadata": {
        "id": "t1NLCoEX0KCn"
      }
    },
    {
      "cell_type": "code",
      "source": [
        "# Re-initialize the environment agent with the updated vector metadata\n",
        "environment_agent = EnvironmentAgent(\n",
        "    client=client,\n",
        "    vector_metadata=vector_metadata,\n",
        "    num_scenes=3\n",
        ")\n",
        "\n",
        "# Evaluate Scene 9 using the environment agent and store the evaluation results\n",
        "context, is_consistent, explanation, env_recommendations, env_thoughts = evaluate_environment_agent_scene(\n",
        "    agent=environment_agent,\n",
        "    scene_description=scene_9_desc,\n",
        "    scene_number=9\n",
        ")"
      ],
      "metadata": {
        "id": "Yc2kdLhzz1i8",
        "colab": {
          "base_uri": "https://localhost:8080/"
        },
        "outputId": "abb94017-5ef8-4394-b4d4-790996a6c32a"
      },
      "execution_count": 75,
      "outputs": [
        {
          "output_type": "stream",
          "name": "stdout",
          "text": [
            "🔁 Environment Agent will consider the last 3 scene(s) for context.\n",
            "\n",
            "📚 Retrieving script metadata for scene(s): [6, 7, 8]\n",
            "Scene 9 — Environment Transition: ✅ Consistent\n",
            "\n",
            "Explanation:\n",
            "Short Explanation: The transition back to the Locksmith Shop is logical as it was one of the previous locations. The characters could have had a reason to return there, such as needing to pick up a key or discuss something with the locksmith.\n",
            "- Suggested Transition Setup: Not necessary, but to make it more seamless, a character could mention needing to return to the Locksmith Shop for a specific reason while they are in Earl's Intervention Room.\n",
            "\n",
            "Environment Detail Suggestions:\n",
            "Environment Details Suggestions:\n",
            "- [Suggestion 1]: As a comedic touch, the locksmith shop could have a \"Wall of Shame\" that displays the most bizarre items people have accidentally locked themselves out of - a birdcage, a mini fridge, a diary, etc.\n",
            "- [Suggestion 2]: The constant, almost rhythmic sound of metal on metal as the locksmith works in the background. Every so often, he gets frustrated and the rhythm is broken by a loud bang and a muffled curse. This could serve as a funny running gag throughout the scene.\n",
            "\n",
            "Environment Agent's Internal Thoughts:\n",
            "- Think: Retrieved summaries and environment context from scene(s) [6, 7, 8] for Scene 9.\n",
            "- Act: Analyzed environment features for Scene 9.\n",
            "- Observe: Scene transition is consistent.\n",
            "- Recommend: Provided environmental enhancement suggestions.\n"
          ]
        }
      ]
    },
    {
      "cell_type": "markdown",
      "source": [
        "### 🧠 Scene Planner Agent\n"
      ],
      "metadata": {
        "id": "TKZ9rkol0KZs"
      }
    },
    {
      "cell_type": "code",
      "source": [
        "# Generate a plan for Scene 9 by integrating recommendations from all three agents\n",
        "scene_9_plan = scene_planner_agent.plan_next_scene(\n",
        "    character_recommendations=char_recommendations,\n",
        "    comedic_recommendations=com_recommendations,\n",
        "    environment_recommendations=env_recommendations,\n",
        "    scene_number=9\n",
        ")\n",
        "\n",
        "print(scene_9_plan)"
      ],
      "metadata": {
        "id": "qh5ylG17z1al",
        "colab": {
          "base_uri": "https://localhost:8080/"
        },
        "outputId": "4b32b534-7b80-4a4c-8663-ea161bbbe5c5"
      },
      "execution_count": 76,
      "outputs": [
        {
          "output_type": "stream",
          "name": "stdout",
          "text": [
            "Scene Plan:\n",
            "Character Goals:\n",
            "- [Goal 1] Sophie needs to demonstrate growth by outsmarting Jimmy's prank, showing her adaptability and learning from past experiences.\n",
            "- [Goal 2] Jimmy should convey a valuable lesson about patience and precision to Sophie, using a metaphor related to their shared history, in order to bond with her and showcase his warm-hearted nature.\n",
            "\n",
            "Comedic Goal:\n",
            "- [Goal] Incorporate a humorous misunderstanding between Jimmy and Sophie, where Sophie locks them inside the locksmith shop and Jimmy tries to guide her to unlock it, leading to a funny dialogue exchange.\n",
            "\n",
            "Environment Detail:\n",
            "- [Detail] Introduce a \"Customer Lock Fails\" display in the shop, featuring the most peculiar items customers have locked themselves out of, with Jimmy adding to the collection throughout the series.\n",
            "\n",
            "Creative Suggestion:\n",
            "- [Suggestion] After Sophie outsmarts Jimmy's prank, they get locked inside the shop. As they work to escape, Sophie begins comparing lock picks to shoe styles, leading to a humorous and bonding conversation. Simultaneously, Jimmy adds a new item to the \"Customer Lock Fails\" display, a subtle nod to Sophie's earlier mistake, ending the scene on a comedic note.\n"
          ]
        }
      ]
    },
    {
      "cell_type": "markdown",
      "source": [
        "### Generating Scene 9 Script"
      ],
      "metadata": {
        "id": "tuB_sQHm0KyM"
      }
    },
    {
      "cell_type": "code",
      "source": [
        "# Generate the full script for Scene 9 based on the structured scene plan\n",
        "scene_9_script = generate_scene(\n",
        "    client=client,\n",
        "    scene_plan=scene_9_plan,\n",
        "    scene_number= 9\n",
        ")\n",
        "\n",
        "print(scene_9_script)"
      ],
      "metadata": {
        "id": "a-7EgY5JztzH",
        "colab": {
          "base_uri": "https://localhost:8080/"
        },
        "outputId": "b34da9ff-8be1-4e73-8a8e-397265075bfe"
      },
      "execution_count": 77,
      "outputs": [
        {
          "output_type": "stream",
          "name": "stdout",
          "text": [
            "INT. LOCKSMITH SHOP - DAY\n",
            "\n",
            "Sophie is carefully examining a lock, eyebrows furrowed. Jimmy is watching her with an amused smirk.\n",
            "\n",
            "SOPHIE: \n",
            "So, this is your grand prank, Jimmy? Switching the locks?\n",
            "\n",
            "JIMMY: \n",
            "(Chuckles)\n",
            "Well, aren't you a quick one, Soph?\n",
            "\n",
            "[Laugh Track]\n",
            "\n",
            "Sophie successfully unlocks the new lock, grinning triumphantly at Jimmy.\n",
            "\n",
            "SOPHIE: \n",
            "Who says you can't teach old dogs new tricks? \n",
            "\n",
            "Jimmy looks surprised but then gives a warm laugh.\n",
            "\n",
            "JIMMY: \n",
            "(Laughs)\n",
            "You got me there, Soph. \n",
            "\n",
            "[Laugh Track]\n",
            "\n",
            "Jimmy then turns serious and points at the lock.\n",
            "\n",
            "JIMMY:\n",
            "But remember, Soph. Picking a lock is like fishing. You've got to be patient, precise, and know when to reel in.\n",
            "\n",
            "Sophie nods, understanding the metaphor. Suddenly, she hears a click behind her. They're locked in.\n",
            "\n",
            "SOPHIE: \n",
            "Oh... seems like I've locked us in.\n",
            "\n",
            "[Laugh Track]\n",
            "\n",
            "Jimmy sighs but then starts laughing. Sophie joins in, both of them in a fit of giggles.\n",
            "\n",
            "JIMMY: \n",
            "(Laughs)\n",
            "Alright, Soph. Try to unlock us now.\n",
            "\n",
            "Sophie approaches the door and starts comparing lock picks to shoe styles, to Jimmy's amusement.\n",
            "\n",
            "SOPHIE: \n",
            "So, if this pick is a stiletto, then this one must be a kitten heel?\n",
            "\n",
            "[Laugh Track]\n",
            "\n",
            "Jimmy laughs, shaking his head. Sophie unlocks the door successfully. Jimmy gives her a proud smile.\n",
            "\n",
            "JIMMY: \n",
            "You've got a knack for this, Soph.\n",
            "\n",
            "Sophie smiles back at him, then notices the \"Customer Lock Fails\" display. She points to a new addition, a shoe-shaped lock.\n",
            "\n",
            "SOPHIE: \n",
            "(Laughs)\n",
            "Is that a nod to my shoe analogy?\n",
            "\n",
            "Jimmy nods, grinning.\n",
            "\n",
            "JIMMY: \n",
            "(Laughs)\n",
            "Just a small reminder of today's lesson, Soph.\n",
            "\n",
            "[Laugh Track]\n",
            "\n",
            "They both share a laugh, their bond strengthened. Sophie looks at Jimmy with newfound respect. Jimmy winks at her, ending the scene on a warm and comedic note. \n",
            "\n",
            "THE END\n"
          ]
        }
      ]
    },
    {
      "cell_type": "markdown",
      "source": [
        "### 🗂️ Adding Metadata to Vector Database"
      ],
      "metadata": {
        "id": "90RoIz-80elz"
      }
    },
    {
      "cell_type": "code",
      "source": [
        "# Store the generated Scene 9 script in the vector database for future retrieval and context\n",
        "store_scene_in_vector_db(\n",
        "    client=client,\n",
        "    sitcom_title=sitcom_title,\n",
        "    scene_script=scene_9_script,\n",
        "    embedding_model=embedding_model,\n",
        "    index=index,\n",
        "    vector_metadata=vector_metadata\n",
        ")"
      ],
      "metadata": {
        "id": "Dgrh1Xig0j4a",
        "colab": {
          "base_uri": "https://localhost:8080/"
        },
        "outputId": "04eeeb7e-7f04-4d32-861b-ee754b2a2621"
      },
      "execution_count": 78,
      "outputs": [
        {
          "output_type": "stream",
          "name": "stdout",
          "text": [
            "Total scenes stored in vector DB: 9 \n",
            "\n",
            "\n",
            "Scene 1\n",
            "Summary: In this opening scene, Jimmy, a locksmith in his mid-40s, starts his day at his shop. He begins with a quirky morning routine of trying to pick a lock with a hairpin. His cat, Whiskers, surprises him by jumping on the counter, leading to a humorous interaction involving a master key and a can of tuna. A gust of wind causes a stack of keys to fall, and Jimmy takes a tumble trying to catch them. Despite the mishap, he dusts himself off and prepares to face the day's challenges, showing his resilience and good humor.\n",
            "Characters: ['Jimmy', 'Whiskers']\n",
            "Location: Jimmy's Locksmith Shop\n",
            "Recurring Joke: Jimmy's attempts to use keys for non-lock related tasks (e.g., using the master key to open a can of tuna) and his playful banter with his cat, Whiskers, are recurring jokes.\n",
            "Emotional Tone: Humorous, Light-hearted\n",
            "\n",
            "Scene 2\n",
            "Summary: In the scene, Jimmy, a man with unconventional habits, tries to open a mysterious package with a hairpin. His cat, Whiskers, and his parrot add comedic relief with their antics. Jimmy's health-conscious roommate, Martin, walks in and jokes about Jimmy's failed attempts to feed their plant junk food. Their over-dramatic neighbor, Mrs. Jenkins, rushes in, having noticed the mysterious package from her window. She leaves disappointed when Jimmy reveals the package contains a simple hairpin set. The scene ends with Martin joking about Jimmy's obsession with hairpins, and everyone shares a laugh.\n",
            "Characters: ['Jimmy', 'Whiskers (the cat)', 'Parrot', 'Martin', 'Mrs. Jenkins']\n",
            "Location: Living Room\n",
            "Recurring Joke: The parrot repeating phrases in a humorous context (\"Out of the box, out of the box!\", \"Out of hand, out of hand!\")\n",
            "Emotional Tone: Humorous\n",
            "\n",
            "Scene 3\n",
            "Summary: In Jimmy's locksmith shop, Earl, an eccentric older man, is fascinated by an unusual lock and Jimmy's hairpin. Jimmy, a young locksmith with unconventional practices, is feeding his plant cheese puffs. They exchange humorous banter about their unique interests, with Earl expressing eagerness to share about his compost tea. Earl attempts to demonstrate an \"unbreakable\" lock, but ends up locking his fingers together. He uses Jimmy's hairpin to try and free his fingers, but accidentally flings it into Jimmy's plant pot, making a joke about it being \"lock nutrients\". The scene ends with both of them laughing at the situation.\n",
            "Characters: ['Earl', 'Jimmy']\n",
            "Location: Jimmy's Locksmith Shop\n",
            "Recurring Joke: None\n",
            "Emotional Tone: Humorous\n",
            "\n",
            "Scene 4\n",
            "Summary: In Jimmy's apartment, Jimmy finds a flamboyantly wrapped package with a ticking sound. Using a hairpin, he picks the lock, revealing an old note that brings back memories of his past mischief. His elderly neighbor, Mrs. Jenkins, enters and comments on his unchanged behavior. The note reminds Jimmy of a time he stole a zoo monkey, dressed it in a suit, and taught it to pick pockets at the county fair. His roommate, Martin, enters and joins in the reminiscing, questioning how Jimmy avoided jail. Jimmy responds with a joke about good behavior, leading to a toast to \"water under the bridge\". The scene ends with the characters laughing and reminiscing about Jimmy's past.\n",
            "Characters: ['Jimmy', 'Mrs. Jenkins', 'Martin']\n",
            "Location: Jimmy's Apartment\n",
            "Recurring Joke: Jimmy's past mischiefs and his ability to avoid jail despite them.\n",
            "Emotional Tone: Nostalgic, Humorous\n",
            "\n",
            "Scene 5\n",
            "Summary: In the scene, the bumbling yet endearing character, Earl, struggles with making coffee, misreading instructions, and even pouring coffee grounds into the water reservoir. Jimmy, a neurotic character, enters and tries to correct Earl's mistakes, even attempting to pick the lock of the coffee maker with a hairpin. Earl, in his clumsiness, accidentally glues his fingers together with a sticky sponge. Jimmy suggests Earl read the instructions on the sponge packaging, leading to more mispronunciations. Just as Jimmy successfully unlocks the coffee maker, it explodes, covering them both in coffee grounds. Despite the chaos, they find humor in the situation, ending the scene with a laugh.\n",
            "Characters: ['Earl', 'Jimmy']\n",
            "Location: Kitchen\n",
            "Recurring Joke: Earl's consistent misreading of instructions and Jimmy's attempts to correct him.\n",
            "Emotional Tone: Comical\n",
            "\n",
            "Scene 6\n",
            "Summary: In this scene at the locksmith shop, Sophie enters with the intention of making a peace offering to her father, Jimmy. She presents a box of cheese puffs, which unexpectedly explodes, covering everyone in cheese puff dust. It turns out that the explosion was due to one of Jimmy's old pranks. Despite the mess, the incident leads to a warm moment between Sophie and Jimmy, with Sophie acknowledging that she has learned from her father's prankster ways. Meanwhile, Earl, another character present in the scene, humorously comments on the unexpected events in the shop.\n",
            "Characters: ['Sophie', 'Jimmy', 'Earl']\n",
            "Location: Locksmith shop\n",
            "Recurring Joke: The recurring joke in this scene is the playful pranks between Sophie and Jimmy, which often result in unexpected chaos.\n",
            "Emotional Tone: Humorous, Warm\n",
            "\n",
            "Scene 7\n",
            "Summary: In Jimmy's apartment, Sophie and Jimmy reminisce about their past while going through old photos and memorabilia. They recall Jimmy's knack for picking locks, including a memorable incident at their school. Jimmy likens his lock-picking skills to their relationship, suggesting they were meant to be together. Sophie agrees, expressing her desire to rekindle their relationship, comparing it to cooking a stew. The old prank of a confetti bucket rigged to a string is accidentally triggered, leading to laughter and a shared moment of nostalgia. The scene ends with a mutual understanding and Jimmy's affirmation of his abilities, both in picking locks and cooking stew.\n",
            "Characters: ['Sophie', 'Jimmy']\n",
            "Location: Jimmy's Apartment\n",
            "Recurring Joke: The recurring joke in the scene is Jimmy's history of setting up pranks and his knack for picking locks, which is metaphorically extended to their relationship.\n",
            "Emotional Tone: Nostalgic, Humorous\n",
            "\n",
            "Scene 8\n",
            "Summary: In the intervention room, Earl, Sophie, and Jimmy gather around an old Christmas light banner and a precarious stool. Earl tries to explain Jimmy's prankster nature as part of their family's character, not charisma, to Sophie. He then brings up an old prank book, accidentally revealing a secret compartment in a chest. Inside, an old photo album shows Sophie's mother and Jimmy as pranksters, uniting Sophie and Jimmy in intrigue. Earl uses this to convince Sophie that pranking is part of their family, just like his mispronunciation of idioms. They all share a laugh, ending the scene on a warm note.\n",
            "Characters: ['Earl', 'Sophie', 'Jimmy']\n",
            "Location: Earl's Intervention Room\n",
            "Recurring Joke: Earl's mispronunciation of idioms and clumsiness.\n",
            "Emotional Tone: Warm\n",
            "\n",
            "Scene 9\n",
            "Summary: In the locksmith shop, Sophie is examining a lock that Jimmy has switched as a prank. Sophie successfully unlocks it, surprising Jimmy. He advises her that picking a lock requires patience and precision. Unexpectedly, Sophie locks them in the shop, leading to laughter and another lock-picking exercise. Sophie humorously compares lock picks to shoe styles, which amuses Jimmy. She successfully unlocks the door, earning Jimmy's praise. Sophie notices a new addition to the \"Customer Lock Fails\" display - a shoe-shaped lock, a nod to her earlier analogy. Their shared laughter and experiences strengthen their bond, with Sophie gaining newfound respect for Jimmy.\n",
            "Characters: ['Sophie', 'Jimmy']\n",
            "Location: Locksmith Shop\n",
            "Recurring Joke: None\n",
            "Emotional Tone: Amusing, Warm\n"
          ]
        }
      ]
    },
    {
      "cell_type": "markdown",
      "source": [
        "## Scene 10 Generation"
      ],
      "metadata": {
        "id": "XRzwmEK41TI0"
      }
    },
    {
      "cell_type": "code",
      "source": [
        "# Extract the description for Scene 10 from the episode outline\n",
        "scene_10_desc = extract_scene(episode_outline, 10)\n",
        "print(scene_10_desc)"
      ],
      "metadata": {
        "id": "n0zF6dYD0jz7",
        "colab": {
          "base_uri": "https://localhost:8080/"
        },
        "outputId": "12b89920-e7f1-456e-ffdf-9860f3eab9ea"
      },
      "execution_count": 79,
      "outputs": [
        {
          "output_type": "stream",
          "name": "stdout",
          "text": [
            "Scene 10: \"Earl's Dilemma\" Earl receives a call about a personal issue, adding another layer of chaos to the day. The tone is comical and frantic.\n"
          ]
        }
      ]
    },
    {
      "cell_type": "markdown",
      "source": [
        "### 🎭 Character Agent\n"
      ],
      "metadata": {
        "id": "kCxxYt581WAy"
      }
    },
    {
      "cell_type": "code",
      "source": [
        "# Re-initialize the character agent with the updated vector metadata\n",
        "character_agent = CharacterAgent(\n",
        "    client=client,\n",
        "    vector_metadata=vector_metadata,\n",
        "    num_scenes=3\n",
        ")\n",
        "\n",
        "# Evaluate Scene 10 using the character agent and store the evaluation results\n",
        "char_histories, char_is_consistent, char_explanation, char_recommendations, char_thoughts = evaluate_character_agent_scene(\n",
        "    agent=character_agent,\n",
        "    scene_description=scene_10_desc,\n",
        "    scene_number=10\n",
        ")"
      ],
      "metadata": {
        "id": "hj4WmfXO0jvj",
        "colab": {
          "base_uri": "https://localhost:8080/"
        },
        "outputId": "f5ad785a-d136-4d33-fe69-f25ad98ba94c"
      },
      "execution_count": 80,
      "outputs": [
        {
          "output_type": "stream",
          "name": "stdout",
          "text": [
            "🔁 Agent will consider the last 3 scene(s) for context.\n",
            "\n",
            "📚 Retrieving script metadata for scene(s): [7, 8, 9]\n",
            "Scene 10 — Consistency: ✅ Consistent\n",
            "\n",
            "Explanation:\n",
            "2. Short Explanation Why: The proposed scene is consistent with Earl's character as established in the previous scenes. His personality traits of being clumsy and humorous are maintained, with the suggestion of a personal issue adding an element of chaos which is characteristic of Earl's life. The tone of the scene being comical and frantic is also in line with Earl's speaking style and quirks, such as his humorous commentary. No contradictions are identified based on past scenes.\n",
            "\n",
            "Interaction Improvement Recommendations:\n",
            "1. When Earl receives the call about his personal issue, have Jimmy be the one who answers the phone and hands it to Earl. As he does so, he accidentally spills coffee on Earl, referencing their shared clumsiness from Scene 1. This interaction builds on their established dynamic and Earl's clumsiness, while also adding humor to the scene. \n",
            "2. Have Sophie enter the room during the call, causing Earl to mispronounce a word in surprise and further adding to the chaos. This interaction fits because it pulls in Earl's comedic mispronunciation from Scenes 1 and 3, while also giving Sophie a chance to react to Earl's ongoing clumsiness. This would also highlight the supportive relationship between them as shown in Scene 3.\n",
            "\n",
            "Agent's Internal Thoughts:\n",
            "- Think: Identified characters ['Earl'] using context from scene(s) [7, 8, 9].\n",
            "- Act: Retrieved profiles for ['Earl'].\n",
            "- Observe: Scene is consistent.\n",
            "- Recommend: Provided suggestions for enhancing character dynamics.\n"
          ]
        }
      ]
    },
    {
      "cell_type": "markdown",
      "source": [
        "### 🎤 Comedic Agent\n"
      ],
      "metadata": {
        "id": "MM_3NYel1Wl-"
      }
    },
    {
      "cell_type": "code",
      "source": [
        "# Re-initialize the comedy agent with the updated vector metadata\n",
        "comedic_agent = ComedicAgent(\n",
        "    client=client,\n",
        "    vector_metadata=vector_metadata,\n",
        "    num_scenes=3\n",
        ")\n",
        "\n",
        "# Evaluate Scene 10 using the comedy agent and store the evaluation results\n",
        "com_context, com_is_consistent, com_analysis_text, com_recommendations, com_thoughts = evaluate_comedic_agent_scene(\n",
        "    agent=comedic_agent,\n",
        "    scene_description=scene_10_desc,\n",
        "    scene_number=10\n",
        ")"
      ],
      "metadata": {
        "id": "MFR1WMjv0jrE",
        "colab": {
          "base_uri": "https://localhost:8080/"
        },
        "outputId": "5bc3a7f7-3d1d-49c8-c346-a1e75e8c601b"
      },
      "execution_count": 81,
      "outputs": [
        {
          "output_type": "stream",
          "name": "stdout",
          "text": [
            "🔁 Agent will consider the last 3 scene(s) for context.\n",
            "\n",
            "📚 Retrieving script metadata for scene(s): [7, 8, 9]\n",
            "Scene 10 — Comedic Tone: ✅ Consistent\n",
            "\n",
            "Comedic Tone Analysis:\n",
            "3. Short Explanation: The frantic comedy tone in the new scene is consistent with the previous scenes, which also have a comedic tone. The humor is derived from the characters' interactions and their reactions to unexpected situations, which is a common thread in all the scenes.\n",
            "\n",
            "Comedic Improvement Recommendations:\n",
            "1. [Suggestion] — As Earl takes the call, have him accidentally mix up his conversations - responding to personal issues with office lingo and vice versa. Earl could say something like, \"Yes, I understand your concern about the plumbing issue at home, but have you considered synergizing our resources and thinking outside the box?\" This not only highlights the chaos of the situation but also reinforces Earl's character as a workaholic who struggles to separate his work and personal life. — (This leverages a running joke about Earl's workaholic tendencies and his inability to compartmentalize.)\n",
            "2. [Suggestion] — Earl attempts to defuse the personal situation by multitasking, leading to humorous physical comedy. For example, while on the call, he tries to fix a paper jam in the copier with his free hand but ends up causing more chaos - papers flying everywhere, toner staining his shirt. This could be a callback to a previous scene where Earl prides himself on his 'efficient' multitasking skills. — (This reinforces a recurring gag about Earl's misguided confidence in his multitasking abilities.)\n",
            "\n",
            "Comedic Agent's Internal Thoughts:\n",
            "- Think: Will retrieve summaries and jokes from scene(s) [7, 8, 9] for Scene 10.\n",
            "- Act: Retrieved summaries and jokes from prior scenes.\n",
            "- Observe: Scene is consistent with prior comedic tone.\n",
            "- Recommend: Provided comedic improvements.\n"
          ]
        }
      ]
    },
    {
      "cell_type": "markdown",
      "source": [
        "### 🌆 Environment Agent\n"
      ],
      "metadata": {
        "id": "Qc9IUmh51XNC"
      }
    },
    {
      "cell_type": "code",
      "source": [
        "# Re-initialize the environment agent with the updated vector metadata\n",
        "environment_agent = EnvironmentAgent(\n",
        "    client=client,\n",
        "    vector_metadata=vector_metadata,\n",
        "    num_scenes=3\n",
        ")\n",
        "\n",
        "# Evaluate Scene 10 using the environment agent and store the evaluation results\n",
        "context, is_consistent, explanation, env_recommendations, env_thoughts = evaluate_environment_agent_scene(\n",
        "    agent=environment_agent,\n",
        "    scene_description=scene_10_desc,\n",
        "    scene_number=10\n",
        ")"
      ],
      "metadata": {
        "id": "01-wKmW50jmf",
        "colab": {
          "base_uri": "https://localhost:8080/"
        },
        "outputId": "463c403e-ca9e-4b3f-dcb2-37347abd67d4"
      },
      "execution_count": 82,
      "outputs": [
        {
          "output_type": "stream",
          "name": "stdout",
          "text": [
            "🔁 Environment Agent will consider the last 3 scene(s) for context.\n",
            "\n",
            "📚 Retrieving script metadata for scene(s): [7, 8, 9]\n",
            "Scene 10 — Environment Transition: ❌ Inconsistent\n",
            "\n",
            "Explanation:\n",
            "Short Explanation: The current scene environment is not specified, which makes it impossible to determine if the transition is logical or not. The audience needs to know where the characters are to understand the context of the scene.\n",
            "- Suggested Transition Setup: After leaving the locksmith shop, Jimmy could receive a phone call from another character, inviting him to a new location. This would provide a logical transition to the next scene, whether it's at a restaurant, another character's home, or a public place like a park.\n",
            "\n",
            "Environment Detail Suggestions:\n",
            "Environment Details Suggestions:\n",
            "- Suggestion 1: As Jimmy steps into the new location, a bustling Italian restaurant, he gets hit with the strong aroma of garlic and tomato sauce. In the background, a waiter can be seen struggling to balance a tower of pizza boxes.\n",
            "- Suggestion 2: At the park, Jimmy walks by a mime who's trying to break free from an invisible box, causing him to chuckle. He then sits on a bench, only to quickly jump up when he hears a loud quack - he's sat on a duck's sandwich, much to the fury of the duck.\n",
            "\n",
            "Environment Agent's Internal Thoughts:\n",
            "- Think: Retrieved summaries and environment context from scene(s) [7, 8, 9] for Scene 10.\n",
            "- Act: Analyzed environment features for Scene 10.\n",
            "- Observe: Scene transition is inconsistent.\n",
            "- Recommend: Provided environmental enhancement suggestions.\n"
          ]
        }
      ]
    },
    {
      "cell_type": "markdown",
      "source": [
        "### 🧠 Scene Planner Agent\n",
        "\n"
      ],
      "metadata": {
        "id": "CaWZwZV11YHI"
      }
    },
    {
      "cell_type": "code",
      "source": [
        "# Generate a plan for Scene 10 by integrating recommendations from all three agents\n",
        "scene_10_plan = scene_planner_agent.plan_next_scene(\n",
        "    character_recommendations=char_recommendations,\n",
        "    comedic_recommendations=com_recommendations,\n",
        "    environment_recommendations=env_recommendations,\n",
        "    scene_number=10\n",
        ")\n",
        "\n",
        "print(scene_10_plan)"
      ],
      "metadata": {
        "id": "p4KGVkCd0jgw",
        "colab": {
          "base_uri": "https://localhost:8080/"
        },
        "outputId": "d52ffa4d-754f-49b3-f3c7-b7a7be7c040b"
      },
      "execution_count": 83,
      "outputs": [
        {
          "output_type": "stream",
          "name": "stdout",
          "text": [
            "Scene Plan:\n",
            "Character Goals:\n",
            "- [Goal 1] Incorporate a situation where Jimmy answers Earl's personal call, accidentally creating a humorous and chaotic scenario by spilling coffee on Earl, further emphasizing their shared clumsiness trait.\n",
            "- [Goal 2] Introduce Sophie into the scene at an unexpected moment, leading to Earl's comedic mispronunciation, and reinforcing their supportive friendship as they navigate through the ensuing chaos.\n",
            "\n",
            "Comedic Goal:\n",
            "- [Goal] Introduce a comedic mix-up where Earl, while trying to handle his personal call and a work issue simultaneously, ends up confusing both contexts, leading to a comedic interplay of office jargon in a personal situation, and further cementing his inability to compartmentalize.\n",
            "\n",
            "Environment Detail:\n",
            "- [Detail] Set the scene in an Italian restaurant filled with lively chatter, clinking cutlery, and a visibly flustered waiter trying to navigate through the crowded space with a stack of pizza boxes, adding to the overall chaos.\n",
            "\n",
            "Creative Suggestion:\n",
            "- [Suggestion] Progress the scene by having Earl attempt to resolve his personal issue while simultaneously trying to fix a malfunctioning copier, leading to a hilarious outcome of flying papers and a toner-stained shirt. This mishap prompts Sophie to step in, balancing the chaos with her calm demeanor, further highlighting their dynamic and escalating the comedy.\n"
          ]
        }
      ]
    },
    {
      "cell_type": "markdown",
      "source": [
        "### Generating Scene 10 Script"
      ],
      "metadata": {
        "id": "0ATNt-bt1Yqp"
      }
    },
    {
      "cell_type": "code",
      "source": [
        "# Generate the full script for Scene 10 based on the structured scene plan\n",
        "scene_10_script = generate_scene(\n",
        "    client=client,\n",
        "    scene_plan=scene_10_plan,\n",
        "    scene_number=10\n",
        ")\n",
        "\n",
        "print(scene_10_script)"
      ],
      "metadata": {
        "id": "ZUc1hWEbztuw",
        "colab": {
          "base_uri": "https://localhost:8080/"
        },
        "outputId": "50396050-2ea3-4e4d-8275-a1fa027a621b"
      },
      "execution_count": 84,
      "outputs": [
        {
          "output_type": "stream",
          "name": "stdout",
          "text": [
            "INT. ITALIAN RESTAURANT - DAY\n",
            "\n",
            "Earl, a middle-aged man in a business suit, is seated at a table, nervously glancing at his ringing phone. Jimmy, Earl's clumsy but well-meaning coworker, is sitting across from him.\n",
            "\n",
            "EARL:\n",
            "(looking at the caller ID)\n",
            "It's a personal call, but I've got this copier issue at work I need to handle. Jimmy, can you--\n",
            "\n",
            "Before Earl can finish his sentence, Jimmy reaches for the phone but accidentally knocks over Earl's coffee.\n",
            "\n",
            "[Laugh Track]\n",
            "\n",
            "JIMMY:\n",
            "Oops! Sorry, Earl. \n",
            "\n",
            "Jimmy hands the phone to Earl while trying to mop up the spilled coffee with napkins.\n",
            "\n",
            "EARL:\n",
            "(into the phone, flustered)\n",
            "Hello, darling... No, no, I'm not in the office. I'm in an Italian restaurant... No, not a meeting. Just a minor coffee spill.\n",
            "\n",
            "Earl tries to give Jimmy a stern look but ends up with coffee on his shirt.\n",
            "\n",
            "[Laugh Track]\n",
            "\n",
            "Suddenly, Sophie, their level-headed coworker, appears at the table with a stack of pizza boxes.\n",
            "\n",
            "SOPHIE:\n",
            "(surprised)\n",
            "Earl, why are you covered in coffee? \n",
            "\n",
            "EARL:\n",
            "(stammering)\n",
            "S-Sophizza, I mean, Sophie! \n",
            "\n",
            "[Laugh Track]\n",
            "\n",
            "Sophie sets down the pizza boxes and starts to help Jimmy clean up the mess. Meanwhile, Earl tries to juggle the phone call and his conversation with Sophie.\n",
            "\n",
            "EARL:\n",
            "(into the phone)\n",
            "Yes, darling, I'll fix the copier... I mean, I'll fix our relationship... No, not with toner! \n",
            "\n",
            "[Laugh Track]\n",
            "\n",
            "Earl hangs up, sighs, and looks at Sophie and Jimmy.\n",
            "\n",
            "EARL:\n",
            "(sincere)\n",
            "Thanks, guys. You're the best disaster control team a guy could ask for.\n",
            "\n",
            "SOPHIE:\n",
            "(smiling)\n",
            "Just doing our job, Earl.\n",
            "\n",
            "Jimmy and Sophie share a laugh while Earl, still covered in coffee and toner, smiles at their camaraderie.\n",
            "\n",
            "[Laugh Track]\n",
            "\n",
            "END OF SCENE\n"
          ]
        }
      ]
    },
    {
      "cell_type": "markdown",
      "source": [
        "### 🗂️ Adding Metadata to Vector Database\n"
      ],
      "metadata": {
        "id": "dbBIUoDv1baQ"
      }
    },
    {
      "cell_type": "code",
      "source": [
        "# Store the generated Scene 10 script in the vector database for future retrieval and context\n",
        "store_scene_in_vector_db(\n",
        "    client=client,\n",
        "    sitcom_title=sitcom_title,\n",
        "    scene_script=scene_10_script,\n",
        "    embedding_model=embedding_model,\n",
        "    index=index,\n",
        "    vector_metadata=vector_metadata\n",
        ")"
      ],
      "metadata": {
        "id": "ia7dG8AFztpX",
        "colab": {
          "base_uri": "https://localhost:8080/"
        },
        "outputId": "b3710017-4f5c-4faa-aa26-1b9fb023c777"
      },
      "execution_count": 85,
      "outputs": [
        {
          "output_type": "stream",
          "name": "stdout",
          "text": [
            "Total scenes stored in vector DB: 10 \n",
            "\n",
            "\n",
            "Scene 1\n",
            "Summary: In this opening scene, Jimmy, a locksmith in his mid-40s, starts his day at his shop. He begins with a quirky morning routine of trying to pick a lock with a hairpin. His cat, Whiskers, surprises him by jumping on the counter, leading to a humorous interaction involving a master key and a can of tuna. A gust of wind causes a stack of keys to fall, and Jimmy takes a tumble trying to catch them. Despite the mishap, he dusts himself off and prepares to face the day's challenges, showing his resilience and good humor.\n",
            "Characters: ['Jimmy', 'Whiskers']\n",
            "Location: Jimmy's Locksmith Shop\n",
            "Recurring Joke: Jimmy's attempts to use keys for non-lock related tasks (e.g., using the master key to open a can of tuna) and his playful banter with his cat, Whiskers, are recurring jokes.\n",
            "Emotional Tone: Humorous, Light-hearted\n",
            "\n",
            "Scene 2\n",
            "Summary: In the scene, Jimmy, a man with unconventional habits, tries to open a mysterious package with a hairpin. His cat, Whiskers, and his parrot add comedic relief with their antics. Jimmy's health-conscious roommate, Martin, walks in and jokes about Jimmy's failed attempts to feed their plant junk food. Their over-dramatic neighbor, Mrs. Jenkins, rushes in, having noticed the mysterious package from her window. She leaves disappointed when Jimmy reveals the package contains a simple hairpin set. The scene ends with Martin joking about Jimmy's obsession with hairpins, and everyone shares a laugh.\n",
            "Characters: ['Jimmy', 'Whiskers (the cat)', 'Parrot', 'Martin', 'Mrs. Jenkins']\n",
            "Location: Living Room\n",
            "Recurring Joke: The parrot repeating phrases in a humorous context (\"Out of the box, out of the box!\", \"Out of hand, out of hand!\")\n",
            "Emotional Tone: Humorous\n",
            "\n",
            "Scene 3\n",
            "Summary: In Jimmy's locksmith shop, Earl, an eccentric older man, is fascinated by an unusual lock and Jimmy's hairpin. Jimmy, a young locksmith with unconventional practices, is feeding his plant cheese puffs. They exchange humorous banter about their unique interests, with Earl expressing eagerness to share about his compost tea. Earl attempts to demonstrate an \"unbreakable\" lock, but ends up locking his fingers together. He uses Jimmy's hairpin to try and free his fingers, but accidentally flings it into Jimmy's plant pot, making a joke about it being \"lock nutrients\". The scene ends with both of them laughing at the situation.\n",
            "Characters: ['Earl', 'Jimmy']\n",
            "Location: Jimmy's Locksmith Shop\n",
            "Recurring Joke: None\n",
            "Emotional Tone: Humorous\n",
            "\n",
            "Scene 4\n",
            "Summary: In Jimmy's apartment, Jimmy finds a flamboyantly wrapped package with a ticking sound. Using a hairpin, he picks the lock, revealing an old note that brings back memories of his past mischief. His elderly neighbor, Mrs. Jenkins, enters and comments on his unchanged behavior. The note reminds Jimmy of a time he stole a zoo monkey, dressed it in a suit, and taught it to pick pockets at the county fair. His roommate, Martin, enters and joins in the reminiscing, questioning how Jimmy avoided jail. Jimmy responds with a joke about good behavior, leading to a toast to \"water under the bridge\". The scene ends with the characters laughing and reminiscing about Jimmy's past.\n",
            "Characters: ['Jimmy', 'Mrs. Jenkins', 'Martin']\n",
            "Location: Jimmy's Apartment\n",
            "Recurring Joke: Jimmy's past mischiefs and his ability to avoid jail despite them.\n",
            "Emotional Tone: Nostalgic, Humorous\n",
            "\n",
            "Scene 5\n",
            "Summary: In the scene, the bumbling yet endearing character, Earl, struggles with making coffee, misreading instructions, and even pouring coffee grounds into the water reservoir. Jimmy, a neurotic character, enters and tries to correct Earl's mistakes, even attempting to pick the lock of the coffee maker with a hairpin. Earl, in his clumsiness, accidentally glues his fingers together with a sticky sponge. Jimmy suggests Earl read the instructions on the sponge packaging, leading to more mispronunciations. Just as Jimmy successfully unlocks the coffee maker, it explodes, covering them both in coffee grounds. Despite the chaos, they find humor in the situation, ending the scene with a laugh.\n",
            "Characters: ['Earl', 'Jimmy']\n",
            "Location: Kitchen\n",
            "Recurring Joke: Earl's consistent misreading of instructions and Jimmy's attempts to correct him.\n",
            "Emotional Tone: Comical\n",
            "\n",
            "Scene 6\n",
            "Summary: In this scene at the locksmith shop, Sophie enters with the intention of making a peace offering to her father, Jimmy. She presents a box of cheese puffs, which unexpectedly explodes, covering everyone in cheese puff dust. It turns out that the explosion was due to one of Jimmy's old pranks. Despite the mess, the incident leads to a warm moment between Sophie and Jimmy, with Sophie acknowledging that she has learned from her father's prankster ways. Meanwhile, Earl, another character present in the scene, humorously comments on the unexpected events in the shop.\n",
            "Characters: ['Sophie', 'Jimmy', 'Earl']\n",
            "Location: Locksmith shop\n",
            "Recurring Joke: The recurring joke in this scene is the playful pranks between Sophie and Jimmy, which often result in unexpected chaos.\n",
            "Emotional Tone: Humorous, Warm\n",
            "\n",
            "Scene 7\n",
            "Summary: In Jimmy's apartment, Sophie and Jimmy reminisce about their past while going through old photos and memorabilia. They recall Jimmy's knack for picking locks, including a memorable incident at their school. Jimmy likens his lock-picking skills to their relationship, suggesting they were meant to be together. Sophie agrees, expressing her desire to rekindle their relationship, comparing it to cooking a stew. The old prank of a confetti bucket rigged to a string is accidentally triggered, leading to laughter and a shared moment of nostalgia. The scene ends with a mutual understanding and Jimmy's affirmation of his abilities, both in picking locks and cooking stew.\n",
            "Characters: ['Sophie', 'Jimmy']\n",
            "Location: Jimmy's Apartment\n",
            "Recurring Joke: The recurring joke in the scene is Jimmy's history of setting up pranks and his knack for picking locks, which is metaphorically extended to their relationship.\n",
            "Emotional Tone: Nostalgic, Humorous\n",
            "\n",
            "Scene 8\n",
            "Summary: In the intervention room, Earl, Sophie, and Jimmy gather around an old Christmas light banner and a precarious stool. Earl tries to explain Jimmy's prankster nature as part of their family's character, not charisma, to Sophie. He then brings up an old prank book, accidentally revealing a secret compartment in a chest. Inside, an old photo album shows Sophie's mother and Jimmy as pranksters, uniting Sophie and Jimmy in intrigue. Earl uses this to convince Sophie that pranking is part of their family, just like his mispronunciation of idioms. They all share a laugh, ending the scene on a warm note.\n",
            "Characters: ['Earl', 'Sophie', 'Jimmy']\n",
            "Location: Earl's Intervention Room\n",
            "Recurring Joke: Earl's mispronunciation of idioms and clumsiness.\n",
            "Emotional Tone: Warm\n",
            "\n",
            "Scene 9\n",
            "Summary: In the locksmith shop, Sophie is examining a lock that Jimmy has switched as a prank. Sophie successfully unlocks it, surprising Jimmy. He advises her that picking a lock requires patience and precision. Unexpectedly, Sophie locks them in the shop, leading to laughter and another lock-picking exercise. Sophie humorously compares lock picks to shoe styles, which amuses Jimmy. She successfully unlocks the door, earning Jimmy's praise. Sophie notices a new addition to the \"Customer Lock Fails\" display - a shoe-shaped lock, a nod to her earlier analogy. Their shared laughter and experiences strengthen their bond, with Sophie gaining newfound respect for Jimmy.\n",
            "Characters: ['Sophie', 'Jimmy']\n",
            "Location: Locksmith Shop\n",
            "Recurring Joke: None\n",
            "Emotional Tone: Amusing, Warm\n",
            "\n",
            "Scene 10\n",
            "Summary: In this scene, Earl, a middle-aged businessman, is in an Italian restaurant with his clumsy coworker, Jimmy. Earl is trying to juggle a personal phone call and a work issue when Jimmy accidentally spills coffee on him. This leads to a series of humorous mishaps, including Earl getting coffee on his shirt and mixing up his words. Sophie, their level-headed coworker, arrives with pizzas and helps clean up the mess. Despite the chaos, Earl appreciates his coworkers' help, highlighting their close-knit relationship. The scene ends with a warm moment of camaraderie among the trio, despite the comedic chaos.\n",
            "Characters: ['Earl', 'Jimmy', 'Sophie']\n",
            "Location: Italian Restaurant\n",
            "Recurring Joke: Earl's struggle to juggle personal and work life, leading to humorous mix-ups and accidents.\n",
            "Emotional Tone: Humorous, Warm\n"
          ]
        }
      ]
    },
    {
      "cell_type": "markdown",
      "source": [
        "## 🎬 Scene 11 Generation\n"
      ],
      "metadata": {
        "id": "Pua9vO1JA32D"
      }
    },
    {
      "cell_type": "code",
      "source": [
        "# Extract the description for Scene 11 from the episode outline\n",
        "scene_11_desc = extract_scene(episode_outline, 11)\n",
        "print(scene_11_desc)"
      ],
      "metadata": {
        "id": "6DvPXX3IA32G",
        "colab": {
          "base_uri": "https://localhost:8080/"
        },
        "outputId": "e597f328-9ade-4613-aac1-a871934d1bf8"
      },
      "execution_count": 86,
      "outputs": [
        {
          "output_type": "stream",
          "name": "stdout",
          "text": [
            "Scene 11: \"Locksmithing Mishaps\" Sophie struggles with the locksmithing tasks, leading to hilarious blunders and bonding moments with Jimmy.\n"
          ]
        }
      ]
    },
    {
      "cell_type": "markdown",
      "source": [
        "### 🎭 Character Agent\n"
      ],
      "metadata": {
        "id": "C7KwZ3TTA32H"
      }
    },
    {
      "cell_type": "code",
      "source": [
        "# Re-initialize the character agent with the updated vector metadata\n",
        "character_agent = CharacterAgent(\n",
        "    client=client,\n",
        "    vector_metadata=vector_metadata,\n",
        "    num_scenes=3\n",
        ")\n",
        "\n",
        "# Evaluate Scene 11 using the character agent and store the evaluation results\n",
        "char_histories, char_is_consistent, char_explanation, char_recommendations, char_thoughts = evaluate_character_agent_scene(\n",
        "    agent=character_agent,\n",
        "    scene_description=scene_11_desc,\n",
        "    scene_number=11\n",
        ")\n"
      ],
      "metadata": {
        "id": "dWDXXwSzA32H",
        "colab": {
          "base_uri": "https://localhost:8080/"
        },
        "outputId": "877e99b1-59d3-4918-d3d4-3ddc1f25ec46"
      },
      "execution_count": 87,
      "outputs": [
        {
          "output_type": "stream",
          "name": "stdout",
          "text": [
            "🔁 Agent will consider the last 3 scene(s) for context.\n",
            "\n",
            "📚 Retrieving script metadata for scene(s): [8, 9, 10]\n",
            "Scene 11 — Consistency: ✅ Consistent\n",
            "\n",
            "Explanation:\n",
            "2. Short Explanation Why: Sophie's struggle with locksmithing tasks aligns with her adaptability trait and the humorous approach she takes to challenges, as seen in her previous scenes. Her bonding with Jimmy is consistent with their established relationship, with Jimmy acting as a mentor and appreciating humor. Sophie's blunders also align with the sitcom's comedic tone.\n",
            "\n",
            "Interaction Improvement Recommendations:\n",
            "1. Sophie, struggling with a particularly tricky lock, wittily comments, \"It's like trying to find a matching pair of socks in the dark!\" This brings laughter from Jimmy, who then steps in to guide her through the process. — This interaction fits because it showcases Sophie's humor (as seen in Scene 2 where she compares lock picks to shoe styles) and Jimmy's patient and precise nature (also seen in Scene 2 when he advises Sophie on lock-picking). It also helps to further their bond, which started forming in Scene 2.\n",
            "2. When Sophie, frustrated by her repeated mistakes, accidentally causes a small mess in the shop, she quickly starts cleaning it up. Jimmy, with a chuckle, joins her, saying, \"You sure have a knack for cleaning up my messes, and now your own.\" — This interaction fits because it highlights Sophie's adaptability and role as a peacekeeper and problem solver, which was evident in Scene 3 when she cleaned up after Jimmy's clumsiness. It also alludes to Jimmy's own clumsy nature (Scene 3) and their shared humor.\n",
            "\n",
            "Agent's Internal Thoughts:\n",
            "- Think: Identified characters ['Sophie', 'Jimmy'] using context from scene(s) [8, 9, 10].\n",
            "- Act: Retrieved profiles for ['Sophie', 'Jimmy'].\n",
            "- Observe: Scene is consistent.\n",
            "- Recommend: Provided suggestions for enhancing character dynamics.\n"
          ]
        }
      ]
    },
    {
      "cell_type": "markdown",
      "source": [
        "### 🎤 Comedic Agent\n"
      ],
      "metadata": {
        "id": "lGmpZWZtA32I"
      }
    },
    {
      "cell_type": "code",
      "source": [
        "# Re-initialize the comedy agent with the updated vector metadata\n",
        "comedic_agent = ComedicAgent(\n",
        "    client=client,\n",
        "    vector_metadata=vector_metadata,\n",
        "    num_scenes=3\n",
        ")\n",
        "\n",
        "# Evaluate Scene 11 using the comedy agent and store the evaluation results\n",
        "com_context, com_is_consistent, com_analysis_text, com_recommendations, com_thoughts = evaluate_comedic_agent_scene(\n",
        "    agent=comedic_agent,\n",
        "    scene_description=scene_11_desc,\n",
        "    scene_number=11\n",
        ")"
      ],
      "metadata": {
        "id": "yVolFJMmA32I",
        "colab": {
          "base_uri": "https://localhost:8080/"
        },
        "outputId": "c24ef3a2-fe20-4fb4-f189-f41e945a0272"
      },
      "execution_count": 88,
      "outputs": [
        {
          "output_type": "stream",
          "name": "stdout",
          "text": [
            "🔁 Agent will consider the last 3 scene(s) for context.\n",
            "\n",
            "📚 Retrieving script metadata for scene(s): [8, 9, 10]\n",
            "Scene 11 — Comedic Tone: ✅ Consistent\n",
            "\n",
            "Comedic Tone Analysis:\n",
            "3. Short Explanation: The comedic tone in the new scene is consistent with the previous scenes. It maintains the light-hearted and playful humor, focusing on character interactions and humorous mishaps.\n",
            "\n",
            "Comedic Improvement Recommendations:\n",
            "1. [Suggestion] — As Sophie struggles with the locksmithing tasks, she accidentally locks herself inside the room. In a panic, she calls out to Jimmy for help but when he arrives, he realizes he left his glasses in the other room and can't see the lock clearly. They then attempt a comedic back-and-forth where Sophie tries to guide Jimmy's blurry vision to unlock the door. — (This builds on a prior scene where Jimmy is revealed to be nearsighted and often forgets his glasses. It also provides a humorous situation that naturally arises from Sophie's locksmithing mishaps and Jimmy's character traits.)\n",
            "2. [Suggestion] — During their locksmithing trials, Sophie finds an odd-looking key among Jimmy's tools. She jokes that it looks like a key to a pirate's treasure chest. Jimmy plays along and tells an exaggerated, humorous tale about his 'pirate ancestry.' This leads to a running gag where they refer to particularly difficult locks as 'treasure chests.' — (This interaction is grounded in their characters: Sophie's playful imagination and Jimmy's willingness to entertain her ideas. It also introduces a light running joke that can be referenced in future scenes without being overused.)\n",
            "\n",
            "Comedic Agent's Internal Thoughts:\n",
            "- Think: Will retrieve summaries and jokes from scene(s) [8, 9, 10] for Scene 11.\n",
            "- Act: Retrieved summaries and jokes from prior scenes.\n",
            "- Observe: Scene is consistent with prior comedic tone.\n",
            "- Recommend: Provided comedic improvements.\n"
          ]
        }
      ]
    },
    {
      "cell_type": "markdown",
      "source": [
        "### 🌆 Environment Agent\n"
      ],
      "metadata": {
        "id": "xAyeHeM7A32I"
      }
    },
    {
      "cell_type": "code",
      "source": [
        "# Re-initialize the environment agent with the updated vector metadata\n",
        "environment_agent = EnvironmentAgent(\n",
        "    client=client,\n",
        "    vector_metadata=vector_metadata,\n",
        "    num_scenes=3\n",
        ")\n",
        "\n",
        "# Evaluate Scene 11 using the environment agent and store the evaluation results\n",
        "context, is_consistent, explanation, env_recommendations, env_thoughts = evaluate_environment_agent_scene(\n",
        "    agent=environment_agent,\n",
        "    scene_description=scene_11_desc,\n",
        "    scene_number=11\n",
        ")"
      ],
      "metadata": {
        "id": "HJU-a86-A32I",
        "colab": {
          "base_uri": "https://localhost:8080/"
        },
        "outputId": "a4be87ef-ff96-4343-a60c-58d8a021930e"
      },
      "execution_count": 89,
      "outputs": [
        {
          "output_type": "stream",
          "name": "stdout",
          "text": [
            "🔁 Environment Agent will consider the last 3 scene(s) for context.\n",
            "\n",
            "📚 Retrieving script metadata for scene(s): [8, 9, 10]\n",
            "Scene 11 — Environment Transition: ✅ Consistent\n",
            "\n",
            "Explanation:\n",
            "Short Explanation: The transition from the Italian Restaurant back to the Locksmith Shop is logical. It's possible that after the intervention and a meal at the restaurant, the characters needed to return to the locksmith shop for a reason related to the plot, such as picking up a key or dealing with a lock-related issue.\n",
            "- Suggested Transition Setup: Not necessary in this case.\n",
            "\n",
            "Environment Detail Suggestions:\n",
            "Environment Details Suggestions:\n",
            "- [Suggestion 1]: As one of the characters enters the shop, they accidentally knock over a display of ornate, antique locks, causing a loud clatter. This can serve as a natural and funny way to introduce the setting and also potentially lead into a comedic situation where the character has to clumsily pick them up.\n",
            "- [Suggestion 2]: The distinct metallic scent of the shop is strong, almost overwhelming. One character can make a quip about it, saying something like, \"You'd think after all these years, I'd get used to the smell of cold metal in the morning.\"\n",
            "\n",
            "Environment Agent's Internal Thoughts:\n",
            "- Think: Retrieved summaries and environment context from scene(s) [8, 9, 10] for Scene 11.\n",
            "- Act: Analyzed environment features for Scene 11.\n",
            "- Observe: Scene transition is consistent.\n",
            "- Recommend: Provided environmental enhancement suggestions.\n"
          ]
        }
      ]
    },
    {
      "cell_type": "markdown",
      "source": [
        "### 🧠 Scene Planner Agent\n"
      ],
      "metadata": {
        "id": "sRssq6fRA32I"
      }
    },
    {
      "cell_type": "code",
      "source": [
        "# Generate a plan for Scene 11 by integrating recommendations from all three agents\n",
        "scene_11_plan = scene_planner_agent.plan_next_scene(\n",
        "    character_recommendations=char_recommendations,\n",
        "    comedic_recommendations=com_recommendations,\n",
        "    environment_recommendations=env_recommendations,\n",
        "    scene_number=11\n",
        ")\n",
        "\n",
        "print(scene_11_plan)"
      ],
      "metadata": {
        "id": "Vb4ToKPRA32I",
        "colab": {
          "base_uri": "https://localhost:8080/"
        },
        "outputId": "8d34f026-b88a-43b1-d844-ec16f0fc36d7"
      },
      "execution_count": 90,
      "outputs": [
        {
          "output_type": "stream",
          "name": "stdout",
          "text": [
            "Scene Plan:\n",
            "Character Goals:\n",
            "- [Goal 1]: Intensify Sophie's humorous approach to locksmithing, emphasizing her witty nature, while showcasing Jimmy's patient and meticulous personality as he assists her.\n",
            "- [Goal 2]: Highlight Sophie's ability to adapt and solve problems, even in chaotic situations, and reinforce Jimmy's clumsy but endearing character through a shared cleaning task.\n",
            "\n",
            "Comedic Goal:\n",
            "- [Goal]: Incorporate humor through an amusing locksmithing mishap where Sophie locks herself in a room and Jimmy, forgetting his glasses, struggles to unlock the door, leading to a hilarious guided unlocking attempt.\n",
            "\n",
            "Environment Detail:\n",
            "- [Detail]: The shop is cluttered with a variety of locksmithing tools and unique keys, creating an atmosphere of organized chaos that mirrors the characters' personalities and their humorous misadventures.\n",
            "\n",
            "Creative Suggestion:\n",
            "- [Suggestion]: The scene could progress by having Sophie and Jimmy discover an old, intricate lock that they decide to tackle together. As they struggle with the 'treasure chest' lock, their playful banter and mutual problem-solving efforts further deepen their bond, while also providing ample opportunity for humor. Their shared triumph in eventually opening the lock can serve as a joyful and satisfying ending to the scene.\n"
          ]
        }
      ]
    },
    {
      "cell_type": "markdown",
      "source": [
        "### ✍️ Generating Scene 11 Script"
      ],
      "metadata": {
        "id": "rMZ2M2ObA32J"
      }
    },
    {
      "cell_type": "code",
      "source": [
        "# Generate the full script for Scene 11 based on the structured scene plan\n",
        "scene_11_script = generate_scene(\n",
        "    client=client,\n",
        "    scene_plan=scene_11_plan,\n",
        "    scene_number=11\n",
        ")\n",
        "\n",
        "print(scene_11_script)"
      ],
      "metadata": {
        "id": "YUP8Dh1yA32J",
        "colab": {
          "base_uri": "https://localhost:8080/"
        },
        "outputId": "774d3eb8-8e99-4822-c87a-52cf6a089b59"
      },
      "execution_count": 91,
      "outputs": [
        {
          "output_type": "stream",
          "name": "stdout",
          "text": [
            "INT. LOCKSMITH SHOP - DAY\n",
            "\n",
            "Sophie, a quirky and sharp-witted locksmith, is rummaging through a pile of tools. Jimmy, a patient and meticulous assistant, is tidying up a workstation. \n",
            "\n",
            "SOPHIE:\n",
            "(brandishing a tool)\n",
            "Ah, the perfect tool for the job!\n",
            "\n",
            "JIMMY:\n",
            "(grinning)\n",
            "Sophie, that's a pizza cutter.\n",
            "\n",
            "[Laugh Track]\n",
            "\n",
            "Sophie looks at the tool, laughs, and tosses it aside. She pulls out an old, intricate lock.\n",
            "\n",
            "SOPHIE:\n",
            "Wow, look at this treasure chest lock! Let's tackle this one together, Jimmy.\n",
            "\n",
            "They both sit down at the workstation. Sophie starts poking at the lock but accidentally triggers it, locking herself inside a makeshift cage.\n",
            "\n",
            "SOPHIE:\n",
            "(blushing)\n",
            "Well, this is a fine mess I've got us into.\n",
            "\n",
            "[Laugh Track]\n",
            "\n",
            "Jimmy chuckles and starts looking for his glasses. He pats down his pockets and then his head, realizing he left them at home.\n",
            "\n",
            "JIMMY:\n",
            "(rubbing his eyes)\n",
            "Sophie, I forgot my glasses. Can you guide me through unlocking this?\n",
            "\n",
            "SOPHIE:\n",
            "(smirking)\n",
            "You're lucky I'm a problem solver, Jimmy.\n",
            "\n",
            "Sophie starts giving Jimmy hilariously convoluted instructions involving several locksmithing tools. \n",
            "\n",
            "SOPHIE:\n",
            "Now, pick up the blue-handled thingamajig. No, not that one, the one that looks like a broken umbrella.\n",
            "\n",
            "[Laugh Track]\n",
            "\n",
            "Jimmy, still squinting, fumbles around, knocking over a container of unique keys.\n",
            "\n",
            "JIMMY:\n",
            "Oops, sorry about the mess.\n",
            "\n",
            "[Laugh Track]\n",
            "\n",
            "Sophie and Jimmy start laughing. Through their shared chuckles, Sophie continues guiding Jimmy. Finally, the lock clicks open. Sophie steps out of the cage, grinning.\n",
            "\n",
            "SOPHIE:\n",
            "We did it, Jimmy! You're a natural at this.\n",
            "\n",
            "Jimmy grins, looking proud despite his clumsiness.\n",
            "\n",
            "JIMMY:\n",
            "(turning to the audience)\n",
            "Well, who needs glasses when you've got Sophie?\n",
            "\n",
            "[Laugh Track]\n",
            "\n",
            "As they start cleaning up the spilled keys, they continue bantering, their laughter echoing around the cluttered shop. \n",
            "\n",
            "SOPHIE:\n",
            "Next time, we'll switch roles. I'll be the clumsy assistant.\n",
            "\n",
            "They both laugh, their shared triumph bringing them closer together as the scene ends.\n"
          ]
        }
      ]
    },
    {
      "cell_type": "markdown",
      "source": [
        "### 🗂️ Adding Metadata to Vector Database\n"
      ],
      "metadata": {
        "id": "vtTvMpYFA32J"
      }
    },
    {
      "cell_type": "code",
      "source": [
        "# Store the generated Scene 11 script in the vector database for future retrieval and context\n",
        "store_scene_in_vector_db(\n",
        "    client=client,\n",
        "    sitcom_title=sitcom_title,\n",
        "    scene_script=scene_11_script,\n",
        "    embedding_model=embedding_model,\n",
        "    index=index,\n",
        "    vector_metadata=vector_metadata\n",
        ")"
      ],
      "metadata": {
        "id": "f75125aVw550",
        "colab": {
          "base_uri": "https://localhost:8080/"
        },
        "outputId": "836cfc4e-800c-4aef-f7ca-5e9c61d4d347"
      },
      "execution_count": 92,
      "outputs": [
        {
          "output_type": "stream",
          "name": "stdout",
          "text": [
            "Total scenes stored in vector DB: 11 \n",
            "\n",
            "\n",
            "Scene 1\n",
            "Summary: In this opening scene, Jimmy, a locksmith in his mid-40s, starts his day at his shop. He begins with a quirky morning routine of trying to pick a lock with a hairpin. His cat, Whiskers, surprises him by jumping on the counter, leading to a humorous interaction involving a master key and a can of tuna. A gust of wind causes a stack of keys to fall, and Jimmy takes a tumble trying to catch them. Despite the mishap, he dusts himself off and prepares to face the day's challenges, showing his resilience and good humor.\n",
            "Characters: ['Jimmy', 'Whiskers']\n",
            "Location: Jimmy's Locksmith Shop\n",
            "Recurring Joke: Jimmy's attempts to use keys for non-lock related tasks (e.g., using the master key to open a can of tuna) and his playful banter with his cat, Whiskers, are recurring jokes.\n",
            "Emotional Tone: Humorous, Light-hearted\n",
            "\n",
            "Scene 2\n",
            "Summary: In the scene, Jimmy, a man with unconventional habits, tries to open a mysterious package with a hairpin. His cat, Whiskers, and his parrot add comedic relief with their antics. Jimmy's health-conscious roommate, Martin, walks in and jokes about Jimmy's failed attempts to feed their plant junk food. Their over-dramatic neighbor, Mrs. Jenkins, rushes in, having noticed the mysterious package from her window. She leaves disappointed when Jimmy reveals the package contains a simple hairpin set. The scene ends with Martin joking about Jimmy's obsession with hairpins, and everyone shares a laugh.\n",
            "Characters: ['Jimmy', 'Whiskers (the cat)', 'Parrot', 'Martin', 'Mrs. Jenkins']\n",
            "Location: Living Room\n",
            "Recurring Joke: The parrot repeating phrases in a humorous context (\"Out of the box, out of the box!\", \"Out of hand, out of hand!\")\n",
            "Emotional Tone: Humorous\n",
            "\n",
            "Scene 3\n",
            "Summary: In Jimmy's locksmith shop, Earl, an eccentric older man, is fascinated by an unusual lock and Jimmy's hairpin. Jimmy, a young locksmith with unconventional practices, is feeding his plant cheese puffs. They exchange humorous banter about their unique interests, with Earl expressing eagerness to share about his compost tea. Earl attempts to demonstrate an \"unbreakable\" lock, but ends up locking his fingers together. He uses Jimmy's hairpin to try and free his fingers, but accidentally flings it into Jimmy's plant pot, making a joke about it being \"lock nutrients\". The scene ends with both of them laughing at the situation.\n",
            "Characters: ['Earl', 'Jimmy']\n",
            "Location: Jimmy's Locksmith Shop\n",
            "Recurring Joke: None\n",
            "Emotional Tone: Humorous\n",
            "\n",
            "Scene 4\n",
            "Summary: In Jimmy's apartment, Jimmy finds a flamboyantly wrapped package with a ticking sound. Using a hairpin, he picks the lock, revealing an old note that brings back memories of his past mischief. His elderly neighbor, Mrs. Jenkins, enters and comments on his unchanged behavior. The note reminds Jimmy of a time he stole a zoo monkey, dressed it in a suit, and taught it to pick pockets at the county fair. His roommate, Martin, enters and joins in the reminiscing, questioning how Jimmy avoided jail. Jimmy responds with a joke about good behavior, leading to a toast to \"water under the bridge\". The scene ends with the characters laughing and reminiscing about Jimmy's past.\n",
            "Characters: ['Jimmy', 'Mrs. Jenkins', 'Martin']\n",
            "Location: Jimmy's Apartment\n",
            "Recurring Joke: Jimmy's past mischiefs and his ability to avoid jail despite them.\n",
            "Emotional Tone: Nostalgic, Humorous\n",
            "\n",
            "Scene 5\n",
            "Summary: In the scene, the bumbling yet endearing character, Earl, struggles with making coffee, misreading instructions, and even pouring coffee grounds into the water reservoir. Jimmy, a neurotic character, enters and tries to correct Earl's mistakes, even attempting to pick the lock of the coffee maker with a hairpin. Earl, in his clumsiness, accidentally glues his fingers together with a sticky sponge. Jimmy suggests Earl read the instructions on the sponge packaging, leading to more mispronunciations. Just as Jimmy successfully unlocks the coffee maker, it explodes, covering them both in coffee grounds. Despite the chaos, they find humor in the situation, ending the scene with a laugh.\n",
            "Characters: ['Earl', 'Jimmy']\n",
            "Location: Kitchen\n",
            "Recurring Joke: Earl's consistent misreading of instructions and Jimmy's attempts to correct him.\n",
            "Emotional Tone: Comical\n",
            "\n",
            "Scene 6\n",
            "Summary: In this scene at the locksmith shop, Sophie enters with the intention of making a peace offering to her father, Jimmy. She presents a box of cheese puffs, which unexpectedly explodes, covering everyone in cheese puff dust. It turns out that the explosion was due to one of Jimmy's old pranks. Despite the mess, the incident leads to a warm moment between Sophie and Jimmy, with Sophie acknowledging that she has learned from her father's prankster ways. Meanwhile, Earl, another character present in the scene, humorously comments on the unexpected events in the shop.\n",
            "Characters: ['Sophie', 'Jimmy', 'Earl']\n",
            "Location: Locksmith shop\n",
            "Recurring Joke: The recurring joke in this scene is the playful pranks between Sophie and Jimmy, which often result in unexpected chaos.\n",
            "Emotional Tone: Humorous, Warm\n",
            "\n",
            "Scene 7\n",
            "Summary: In Jimmy's apartment, Sophie and Jimmy reminisce about their past while going through old photos and memorabilia. They recall Jimmy's knack for picking locks, including a memorable incident at their school. Jimmy likens his lock-picking skills to their relationship, suggesting they were meant to be together. Sophie agrees, expressing her desire to rekindle their relationship, comparing it to cooking a stew. The old prank of a confetti bucket rigged to a string is accidentally triggered, leading to laughter and a shared moment of nostalgia. The scene ends with a mutual understanding and Jimmy's affirmation of his abilities, both in picking locks and cooking stew.\n",
            "Characters: ['Sophie', 'Jimmy']\n",
            "Location: Jimmy's Apartment\n",
            "Recurring Joke: The recurring joke in the scene is Jimmy's history of setting up pranks and his knack for picking locks, which is metaphorically extended to their relationship.\n",
            "Emotional Tone: Nostalgic, Humorous\n",
            "\n",
            "Scene 8\n",
            "Summary: In the intervention room, Earl, Sophie, and Jimmy gather around an old Christmas light banner and a precarious stool. Earl tries to explain Jimmy's prankster nature as part of their family's character, not charisma, to Sophie. He then brings up an old prank book, accidentally revealing a secret compartment in a chest. Inside, an old photo album shows Sophie's mother and Jimmy as pranksters, uniting Sophie and Jimmy in intrigue. Earl uses this to convince Sophie that pranking is part of their family, just like his mispronunciation of idioms. They all share a laugh, ending the scene on a warm note.\n",
            "Characters: ['Earl', 'Sophie', 'Jimmy']\n",
            "Location: Earl's Intervention Room\n",
            "Recurring Joke: Earl's mispronunciation of idioms and clumsiness.\n",
            "Emotional Tone: Warm\n",
            "\n",
            "Scene 9\n",
            "Summary: In the locksmith shop, Sophie is examining a lock that Jimmy has switched as a prank. Sophie successfully unlocks it, surprising Jimmy. He advises her that picking a lock requires patience and precision. Unexpectedly, Sophie locks them in the shop, leading to laughter and another lock-picking exercise. Sophie humorously compares lock picks to shoe styles, which amuses Jimmy. She successfully unlocks the door, earning Jimmy's praise. Sophie notices a new addition to the \"Customer Lock Fails\" display - a shoe-shaped lock, a nod to her earlier analogy. Their shared laughter and experiences strengthen their bond, with Sophie gaining newfound respect for Jimmy.\n",
            "Characters: ['Sophie', 'Jimmy']\n",
            "Location: Locksmith Shop\n",
            "Recurring Joke: None\n",
            "Emotional Tone: Amusing, Warm\n",
            "\n",
            "Scene 10\n",
            "Summary: In this scene, Earl, a middle-aged businessman, is in an Italian restaurant with his clumsy coworker, Jimmy. Earl is trying to juggle a personal phone call and a work issue when Jimmy accidentally spills coffee on him. This leads to a series of humorous mishaps, including Earl getting coffee on his shirt and mixing up his words. Sophie, their level-headed coworker, arrives with pizzas and helps clean up the mess. Despite the chaos, Earl appreciates his coworkers' help, highlighting their close-knit relationship. The scene ends with a warm moment of camaraderie among the trio, despite the comedic chaos.\n",
            "Characters: ['Earl', 'Jimmy', 'Sophie']\n",
            "Location: Italian Restaurant\n",
            "Recurring Joke: Earl's struggle to juggle personal and work life, leading to humorous mix-ups and accidents.\n",
            "Emotional Tone: Humorous, Warm\n",
            "\n",
            "Scene 11\n",
            "Summary: In the locksmith shop, Sophie, the quirky locksmith, and Jimmy, her meticulous assistant, engage in a playful banter. Sophie mistakenly identifies a pizza cutter as a locksmith tool, then finds an old treasure chest lock and accidentally locks herself in a makeshift cage. Jimmy, having forgotten his glasses, is guided by Sophie's convoluted instructions to unlock the cage. Despite knocking over a container of keys, Jimmy successfully unlocks the cage. They share a moment of triumph and laughter, with Sophie teasing about switching roles next time. Their shared experience strengthens their bond.\n",
            "Characters: ['Sophie', 'Jimmy']\n",
            "Location: Locksmith Shop\n",
            "Recurring Joke: Sophie's quirky misidentification of tools, Jimmy's forgetfulness about his glasses, and their shared clumsiness.\n",
            "Emotional Tone: Playful, Warm\n"
          ]
        }
      ]
    },
    {
      "cell_type": "markdown",
      "source": [
        "## 🎬 Scene 12 Generation\n"
      ],
      "metadata": {
        "id": "kkZORGbgBxtq"
      }
    },
    {
      "cell_type": "code",
      "source": [
        "# Extract the description for Scene 12 from the episode outline\n",
        "scene_12_desc = extract_scene(episode_outline, 12)\n",
        "print(scene_12_desc)"
      ],
      "metadata": {
        "id": "rTAht-fnw51q",
        "colab": {
          "base_uri": "https://localhost:8080/"
        },
        "outputId": "f903e182-2064-404f-edc4-4c4655ffc295"
      },
      "execution_count": 93,
      "outputs": [
        {
          "output_type": "stream",
          "name": "stdout",
          "text": [
            "Scene 12: \"Earl's Solution\" Earl comes up with a humorous and unconventional solution to his problem. The scene is light-hearted and silly.\n"
          ]
        }
      ]
    },
    {
      "cell_type": "markdown",
      "source": [
        "### 🎭 Character Agent\n"
      ],
      "metadata": {
        "id": "FmK7UusOByEe"
      }
    },
    {
      "cell_type": "code",
      "source": [
        "# Re-initialize the character agent with the updated vector metadata\n",
        "character_agent = CharacterAgent(\n",
        "    client=client,\n",
        "    vector_metadata=vector_metadata,\n",
        "    num_scenes=3\n",
        ")\n",
        "\n",
        "# Evaluate Scene 12 using the character agent and store the evaluation results\n",
        "char_histories, char_is_consistent, char_explanation, char_recommendations, char_thoughts = evaluate_character_agent_scene(\n",
        "    agent=character_agent,\n",
        "    scene_description=scene_12_desc,\n",
        "    scene_number=12\n",
        ")"
      ],
      "metadata": {
        "id": "bAQXhEDcw5xd",
        "colab": {
          "base_uri": "https://localhost:8080/"
        },
        "outputId": "288d61d3-e271-4c10-a9b1-a8bb76a67e48"
      },
      "execution_count": 94,
      "outputs": [
        {
          "output_type": "stream",
          "name": "stdout",
          "text": [
            "🔁 Agent will consider the last 3 scene(s) for context.\n",
            "\n",
            "📚 Retrieving script metadata for scene(s): [9, 10, 11]\n",
            "Scene 12 — Consistency: ✅ Consistent\n",
            "\n",
            "Explanation:\n",
            "1. Consistency Verdict: Yes\n",
            "2. Earl's behavior in Scene 12, where he comes up with a humorous and unconventional solution to his problem, is consistent with his established personality traits, emotional arc, and speaking style. His humor is reflected in the solution he proposes, his explanatory speaking style is likely used in presenting his solution, and his appreciative trait could be seen in his reaction to his coworkers' responses. No contradictions are identified based on the last three scenes.\n",
            "\n",
            "Interaction Improvement Recommendations:\n",
            "1. Earl mispronounces a common idiom while explaining his unconventional solution, leading to a humorous misunderstanding among the team. — (This interaction fits because, as established in Scene 2, Earl often finds himself in the role of an explainer and mispronouncing idioms is one of his recurring humorous quirks.)\n",
            "2. Earl appreciates Jimmy for his contribution to the unconventional solution, even though it adds a layer of chaos to the situation. — (This interaction builds on Scene 3, where despite the chaos caused by Jimmy, Earl was appreciative of his coworker's help. It reinforces Earl's character growth towards being understanding and appreciative.)\n",
            "\n",
            "Agent's Internal Thoughts:\n",
            "- Think: Identified characters ['Earl'] using context from scene(s) [9, 10, 11].\n",
            "- Act: Retrieved profiles for ['Earl'].\n",
            "- Observe: Scene is consistent.\n",
            "- Recommend: Provided suggestions for enhancing character dynamics.\n"
          ]
        }
      ]
    },
    {
      "cell_type": "markdown",
      "source": [
        "### 🎤 Comedic Agent\n"
      ],
      "metadata": {
        "id": "f-SinK0gCrwZ"
      }
    },
    {
      "cell_type": "code",
      "source": [
        "# Re-initialize the comedy agent with the updated vector metadata\n",
        "comedic_agent = ComedicAgent(\n",
        "    client=client,\n",
        "    vector_metadata=vector_metadata,\n",
        "    num_scenes=3\n",
        ")\n",
        "\n",
        "# Evaluate Scene 12 using the comedy agent and store the evaluation results\n",
        "com_context, com_is_consistent, com_analysis_text, com_recommendations, com_thoughts = evaluate_comedic_agent_scene(\n",
        "    agent=comedic_agent,\n",
        "    scene_description=scene_12_desc,\n",
        "    scene_number=12\n",
        ")"
      ],
      "metadata": {
        "id": "4QpnEdkXCriA",
        "colab": {
          "base_uri": "https://localhost:8080/"
        },
        "outputId": "48625742-019b-4571-d66c-ec9355cf931d"
      },
      "execution_count": 95,
      "outputs": [
        {
          "output_type": "stream",
          "name": "stdout",
          "text": [
            "🔁 Agent will consider the last 3 scene(s) for context.\n",
            "\n",
            "📚 Retrieving script metadata for scene(s): [9, 10, 11]\n",
            "Scene 12 — Comedic Tone: ✅ Consistent\n",
            "\n",
            "Comedic Tone Analysis:\n",
            "3. Short Explanation: The tone of light-hearted silliness is consistent with the previous scenes, which also feature humor derived from character quirks, mishaps, and playful banter. The humor in this scene is in line with the established comedic style of the sitcom.\n",
            "\n",
            "Comedic Improvement Recommendations:\n",
            "1. [Suggestion] — As Earl is thinking up his unconventional solution, he could be seen trying out a series of ridiculous hats (a chef's hat, a detective cap, a magician's hat) as he believes different hats help him think differently. Each time he changes his hat, he comes up with a more absurd idea. This would add a visual humor to the scene and also play on Earl's quirky belief system that has been established in previous episodes. — (In Episode 4, Earl mentioned that he always wears his 'thinking cap' when he needs to solve problems, this would be a funny callback to that.)\n",
            "2. [Suggestion] — When Earl finally presents his unconventional solution, it could revolve around using his pet hamster, Mr. Nibbles, to solve the problem. Earl could suggest that Mr. Nibbles, being so small, can get into places humans can't, and therefore, can fix the issue. The other characters would react with disbelief and hilarity, adding to the comedic tone of the scene. This not only adds to the silliness of the scene but also plays into the established running joke of Earl's over-reliance and over-estimation of Mr. Nibbles' abilities. — (In previous episodes, Earl has often involved Mr. Nibbles in his plans, usually to comedic effect. This would build on that running joke.)\n",
            "\n",
            "Comedic Agent's Internal Thoughts:\n",
            "- Think: Will retrieve summaries and jokes from scene(s) [9, 10, 11] for Scene 12.\n",
            "- Act: Retrieved summaries and jokes from prior scenes.\n",
            "- Observe: Scene is consistent with prior comedic tone.\n",
            "- Recommend: Provided comedic improvements.\n"
          ]
        }
      ]
    },
    {
      "cell_type": "markdown",
      "source": [
        "### 🌆 Environment Agent\n"
      ],
      "metadata": {
        "id": "K-L5Z0iYEClD"
      }
    },
    {
      "cell_type": "code",
      "source": [
        "# Re-initialize the environment agent with the updated vector metadata\n",
        "environment_agent = EnvironmentAgent(\n",
        "    client=client,\n",
        "    vector_metadata=vector_metadata,\n",
        "    num_scenes=3\n",
        ")\n",
        "\n",
        "# Evaluate Scene 12 using the environment agent and store the evaluation results\n",
        "context, is_consistent, explanation, env_recommendations, env_thoughts = evaluate_environment_agent_scene(\n",
        "    agent=environment_agent,\n",
        "    scene_description=scene_12_desc,\n",
        "    scene_number=12\n",
        ")"
      ],
      "metadata": {
        "id": "LzFZ_6QNECUH",
        "colab": {
          "base_uri": "https://localhost:8080/"
        },
        "outputId": "65f120f3-c9ff-4c61-a24b-b8bd602daf3d"
      },
      "execution_count": 96,
      "outputs": [
        {
          "output_type": "stream",
          "name": "stdout",
          "text": [
            "🔁 Environment Agent will consider the last 3 scene(s) for context.\n",
            "\n",
            "📚 Retrieving script metadata for scene(s): [9, 10, 11]\n",
            "Scene 12 — Environment Transition: ❌ Inconsistent\n",
            "\n",
            "Explanation:\n",
            "Short Explanation: There is no clear connection between a locksmith shop and a public library. The transition from the locksmith shop to the Italian restaurant and back makes sense if the characters were getting lunch, but the sudden shift to a public library is jarring without context.\n",
            "- Suggested Transition Setup: One of the characters could mention they need to research a rare lock model or find a book on locksmithing techniques. This would provide a logical reason for the characters to visit the library next.\n",
            "\n",
            "Environment Detail Suggestions:\n",
            "Environment Details Suggestions:\n",
            "- [Suggestion 1]: As the characters enter the library, they are shushed by an eccentric librarian who is overly enthusiastic about quietness and seems to have an uncanny knack for appearing whenever a character speaks too loudly.\n",
            "- [Suggestion 2]: The characters could struggle with an old, creaky microfilm reader while attempting to find information on the rare lock model, leading to humorous mishaps and banter.\n",
            "\n",
            "Environment Agent's Internal Thoughts:\n",
            "- Think: Retrieved summaries and environment context from scene(s) [9, 10, 11] for Scene 12.\n",
            "- Act: Analyzed environment features for Scene 12.\n",
            "- Observe: Scene transition is inconsistent.\n",
            "- Recommend: Provided environmental enhancement suggestions.\n"
          ]
        }
      ]
    },
    {
      "cell_type": "markdown",
      "source": [
        "### 🧠 Scene Planner Agent\n"
      ],
      "metadata": {
        "id": "dm0lYFqgEpz0"
      }
    },
    {
      "cell_type": "code",
      "source": [
        "# Generate a plan for Scene 12 by integrating recommendations from all three agents\n",
        "scene_12_plan = scene_planner_agent.plan_next_scene(\n",
        "    character_recommendations=char_recommendations,\n",
        "    comedic_recommendations=com_recommendations,\n",
        "    environment_recommendations=env_recommendations,\n",
        "    scene_number=12\n",
        ")\n",
        "\n",
        "print(scene_12_plan)"
      ],
      "metadata": {
        "id": "wiHWctQKEpXW",
        "colab": {
          "base_uri": "https://localhost:8080/"
        },
        "outputId": "7cb4903e-dcdb-43cf-f203-0d5b707e295c"
      },
      "execution_count": 97,
      "outputs": [
        {
          "output_type": "stream",
          "name": "stdout",
          "text": [
            "Scene Plan:\n",
            "Character Goals:\n",
            "- [Goal 1]: Maintain Earl's idiosyncratic charm by having him misinterpret a common saying, leading to a funny misunderstanding. This adds depth to Earl's character and provides comic relief.\n",
            "- [Goal 2]: Develop Earl's character further by showcasing his appreciation for Jimmy's chaotic contributions to their unconventional solution, reinforcing Earl's growth in understanding and tolerance.\n",
            "\n",
            "Comedic Goal:\n",
            "- [Goal]: Incorporate visual humor by having Earl try on a variety of hats, each sillier than the last, as part of his \"thinking process\" for the unconventional solution. Additionally, make Earl's final solution hilariously absurd by involving his pet hamster, Mr. Nibbles, playing on the established running gag of Earl's over-reliance on his hamster.\n",
            "\n",
            "Environment Detail:\n",
            "- [Detail]: The library setting should be enhanced with the presence of a peculiarly quiet-seeking librarian who uncannily appears whenever the noise level rises, adding to the comedic tension. The characters should also grapple with outdated library equipment, such as a temperamental microfilm reader, leading to more humorous moments.\n",
            "\n",
            "Creative Suggestion:\n",
            "- [Suggestion]: As the team struggles to find information on the rare lock model, Earl, donning a variety of hats, comes up with the unconventional solution of using Mr. Nibbles to unlock it. The rest of the team reacts with disbelief, leading to comic banter. The eccentric librarian appears every time the team's laughter gets too loud, adding to the humor. As they continue to argue about the viability of Earl's solution, the microfilm reader suddenly springs to life and reveals the needed information, bringing the scene to a funny and unexpected close.\n"
          ]
        }
      ]
    },
    {
      "cell_type": "markdown",
      "source": [
        "### ✍️ Generating Scene 12 Script"
      ],
      "metadata": {
        "id": "IKsx8P5VEtIm"
      }
    },
    {
      "cell_type": "code",
      "source": [
        "# Generate the full script for Scene 12 based on the structured scene plan\n",
        "scene_12_script = generate_scene(\n",
        "    client=client,\n",
        "    scene_plan=scene_12_plan,\n",
        "    scene_number=12\n",
        ")\n",
        "\n",
        "print(scene_12_script)"
      ],
      "metadata": {
        "id": "1ax1Tk8MEs3y",
        "colab": {
          "base_uri": "https://localhost:8080/"
        },
        "outputId": "09967d52-5733-46b3-e2d0-ca7c6dbe3d48"
      },
      "execution_count": 98,
      "outputs": [
        {
          "output_type": "stream",
          "name": "stdout",
          "text": [
            "INT. LIBRARY - DAY\n",
            "\n",
            "Earl, a lanky, eccentric character, is hunched over a table with Jimmy, a lovable chaos-magnet. They're engrossed in examining a RARE LOCK MODEL. A variety of SILLY HATS are strewn across the table.\n",
            "\n",
            "EARL\n",
            "Well, Jimmy, if we're going to crack this, I need my thinking hats.\n",
            "\n",
            "Earl puts on a FEZ. Jimmy raises an eyebrow but says nothing.\n",
            "\n",
            "[Laugh Track]\n",
            "\n",
            "Earl\n",
            "The way I see it, we need an unconventional solution. Something... out of the box.\n",
            "\n",
            "Jimmy, not missing a beat, picks up a FRUIT HAT and hands it to Earl.\n",
            "\n",
            "JIMMY\n",
            "How about something out of the fruit bowl instead?\n",
            "\n",
            "[Laugh Track]\n",
            "\n",
            "Earl chuckles and swaps the fez for the fruit hat. He looks thoughtful.\n",
            "\n",
            "EARL\n",
            "Actually, I've got it! We'll use Mr. Nibbles!\n",
            "\n",
            "Jimmy looks at Earl, disbelief painted on his face.\n",
            "\n",
            "JIMMY\n",
            "Your hamster? Earl, that's... that's not just out of the box. That's out of the pet store!\n",
            "\n",
            "[Laugh Track]\n",
            "\n",
            "Earl grins, about to explain, when a stern LIBRARIAN appears, shushing them.\n",
            "\n",
            "LIBRARIAN\n",
            "This is a library, gentlemen. We encourage quiet thinking, not loud talking.\n",
            "\n",
            "Earl and Jimmy nod, exchanging amused glances as the Librarian walks away.\n",
            "\n",
            "[Laugh Track]\n",
            "\n",
            "Earl pulls out a VIKING HELMET from under the table and puts it on.\n",
            "\n",
            "EARL\n",
            "Alright, Jimmy. Now we just need to figure out how to get Mr. Nibbles to open this lock.\n",
            "\n",
            "Jimmy looks at Earl, incredulity replaced with amused curiosity.\n",
            "\n",
            "JIMMY\n",
            "You know, Earl, I never thought I'd say this, but... I'm in. Let's do it.\n",
            "\n",
            "Suddenly, the MICROFILM READER whirs to life, revealing the INFO they needed all along.\n",
            "\n",
            "[Laugh Track]\n",
            "\n",
            "Earl and Jimmy stare at each other, then burst into laughter. The librarian appears again, looking stern. They quickly quiet down, but their eyes are still laughing.\n",
            "\n",
            "JIMMY\n",
            "Guess we won't be needing Mr. Nibbles after all, eh?\n",
            "\n",
            "EARL\n",
            "Well, there's always next time, Jimmy.\n",
            "\n",
            "They share another laugh, the librarian looms again, and they return to their work, chuckling silently.\n",
            "\n",
            "[End Scene]\n"
          ]
        }
      ]
    },
    {
      "cell_type": "markdown",
      "source": [
        "### 🗂️ Adding Metadata to Vector Database\n"
      ],
      "metadata": {
        "id": "66AnigU7Fc0J"
      }
    },
    {
      "cell_type": "code",
      "source": [
        "# Store the generated Scene 12 script in the vector database for future retrieval and context\n",
        "store_scene_in_vector_db(\n",
        "    client=client,\n",
        "    sitcom_title=sitcom_title,\n",
        "    scene_script=scene_12_script,\n",
        "    embedding_model=embedding_model,\n",
        "    index=index,\n",
        "    vector_metadata=vector_metadata\n",
        ")"
      ],
      "metadata": {
        "id": "sU078BIWFciy",
        "colab": {
          "base_uri": "https://localhost:8080/"
        },
        "outputId": "0b3f702a-2d65-4a9f-8c16-1a8083e0da4b"
      },
      "execution_count": 99,
      "outputs": [
        {
          "output_type": "stream",
          "name": "stdout",
          "text": [
            "Total scenes stored in vector DB: 12 \n",
            "\n",
            "\n",
            "Scene 1\n",
            "Summary: In this opening scene, Jimmy, a locksmith in his mid-40s, starts his day at his shop. He begins with a quirky morning routine of trying to pick a lock with a hairpin. His cat, Whiskers, surprises him by jumping on the counter, leading to a humorous interaction involving a master key and a can of tuna. A gust of wind causes a stack of keys to fall, and Jimmy takes a tumble trying to catch them. Despite the mishap, he dusts himself off and prepares to face the day's challenges, showing his resilience and good humor.\n",
            "Characters: ['Jimmy', 'Whiskers']\n",
            "Location: Jimmy's Locksmith Shop\n",
            "Recurring Joke: Jimmy's attempts to use keys for non-lock related tasks (e.g., using the master key to open a can of tuna) and his playful banter with his cat, Whiskers, are recurring jokes.\n",
            "Emotional Tone: Humorous, Light-hearted\n",
            "\n",
            "Scene 2\n",
            "Summary: In the scene, Jimmy, a man with unconventional habits, tries to open a mysterious package with a hairpin. His cat, Whiskers, and his parrot add comedic relief with their antics. Jimmy's health-conscious roommate, Martin, walks in and jokes about Jimmy's failed attempts to feed their plant junk food. Their over-dramatic neighbor, Mrs. Jenkins, rushes in, having noticed the mysterious package from her window. She leaves disappointed when Jimmy reveals the package contains a simple hairpin set. The scene ends with Martin joking about Jimmy's obsession with hairpins, and everyone shares a laugh.\n",
            "Characters: ['Jimmy', 'Whiskers (the cat)', 'Parrot', 'Martin', 'Mrs. Jenkins']\n",
            "Location: Living Room\n",
            "Recurring Joke: The parrot repeating phrases in a humorous context (\"Out of the box, out of the box!\", \"Out of hand, out of hand!\")\n",
            "Emotional Tone: Humorous\n",
            "\n",
            "Scene 3\n",
            "Summary: In Jimmy's locksmith shop, Earl, an eccentric older man, is fascinated by an unusual lock and Jimmy's hairpin. Jimmy, a young locksmith with unconventional practices, is feeding his plant cheese puffs. They exchange humorous banter about their unique interests, with Earl expressing eagerness to share about his compost tea. Earl attempts to demonstrate an \"unbreakable\" lock, but ends up locking his fingers together. He uses Jimmy's hairpin to try and free his fingers, but accidentally flings it into Jimmy's plant pot, making a joke about it being \"lock nutrients\". The scene ends with both of them laughing at the situation.\n",
            "Characters: ['Earl', 'Jimmy']\n",
            "Location: Jimmy's Locksmith Shop\n",
            "Recurring Joke: None\n",
            "Emotional Tone: Humorous\n",
            "\n",
            "Scene 4\n",
            "Summary: In Jimmy's apartment, Jimmy finds a flamboyantly wrapped package with a ticking sound. Using a hairpin, he picks the lock, revealing an old note that brings back memories of his past mischief. His elderly neighbor, Mrs. Jenkins, enters and comments on his unchanged behavior. The note reminds Jimmy of a time he stole a zoo monkey, dressed it in a suit, and taught it to pick pockets at the county fair. His roommate, Martin, enters and joins in the reminiscing, questioning how Jimmy avoided jail. Jimmy responds with a joke about good behavior, leading to a toast to \"water under the bridge\". The scene ends with the characters laughing and reminiscing about Jimmy's past.\n",
            "Characters: ['Jimmy', 'Mrs. Jenkins', 'Martin']\n",
            "Location: Jimmy's Apartment\n",
            "Recurring Joke: Jimmy's past mischiefs and his ability to avoid jail despite them.\n",
            "Emotional Tone: Nostalgic, Humorous\n",
            "\n",
            "Scene 5\n",
            "Summary: In the scene, the bumbling yet endearing character, Earl, struggles with making coffee, misreading instructions, and even pouring coffee grounds into the water reservoir. Jimmy, a neurotic character, enters and tries to correct Earl's mistakes, even attempting to pick the lock of the coffee maker with a hairpin. Earl, in his clumsiness, accidentally glues his fingers together with a sticky sponge. Jimmy suggests Earl read the instructions on the sponge packaging, leading to more mispronunciations. Just as Jimmy successfully unlocks the coffee maker, it explodes, covering them both in coffee grounds. Despite the chaos, they find humor in the situation, ending the scene with a laugh.\n",
            "Characters: ['Earl', 'Jimmy']\n",
            "Location: Kitchen\n",
            "Recurring Joke: Earl's consistent misreading of instructions and Jimmy's attempts to correct him.\n",
            "Emotional Tone: Comical\n",
            "\n",
            "Scene 6\n",
            "Summary: In this scene at the locksmith shop, Sophie enters with the intention of making a peace offering to her father, Jimmy. She presents a box of cheese puffs, which unexpectedly explodes, covering everyone in cheese puff dust. It turns out that the explosion was due to one of Jimmy's old pranks. Despite the mess, the incident leads to a warm moment between Sophie and Jimmy, with Sophie acknowledging that she has learned from her father's prankster ways. Meanwhile, Earl, another character present in the scene, humorously comments on the unexpected events in the shop.\n",
            "Characters: ['Sophie', 'Jimmy', 'Earl']\n",
            "Location: Locksmith shop\n",
            "Recurring Joke: The recurring joke in this scene is the playful pranks between Sophie and Jimmy, which often result in unexpected chaos.\n",
            "Emotional Tone: Humorous, Warm\n",
            "\n",
            "Scene 7\n",
            "Summary: In Jimmy's apartment, Sophie and Jimmy reminisce about their past while going through old photos and memorabilia. They recall Jimmy's knack for picking locks, including a memorable incident at their school. Jimmy likens his lock-picking skills to their relationship, suggesting they were meant to be together. Sophie agrees, expressing her desire to rekindle their relationship, comparing it to cooking a stew. The old prank of a confetti bucket rigged to a string is accidentally triggered, leading to laughter and a shared moment of nostalgia. The scene ends with a mutual understanding and Jimmy's affirmation of his abilities, both in picking locks and cooking stew.\n",
            "Characters: ['Sophie', 'Jimmy']\n",
            "Location: Jimmy's Apartment\n",
            "Recurring Joke: The recurring joke in the scene is Jimmy's history of setting up pranks and his knack for picking locks, which is metaphorically extended to their relationship.\n",
            "Emotional Tone: Nostalgic, Humorous\n",
            "\n",
            "Scene 8\n",
            "Summary: In the intervention room, Earl, Sophie, and Jimmy gather around an old Christmas light banner and a precarious stool. Earl tries to explain Jimmy's prankster nature as part of their family's character, not charisma, to Sophie. He then brings up an old prank book, accidentally revealing a secret compartment in a chest. Inside, an old photo album shows Sophie's mother and Jimmy as pranksters, uniting Sophie and Jimmy in intrigue. Earl uses this to convince Sophie that pranking is part of their family, just like his mispronunciation of idioms. They all share a laugh, ending the scene on a warm note.\n",
            "Characters: ['Earl', 'Sophie', 'Jimmy']\n",
            "Location: Earl's Intervention Room\n",
            "Recurring Joke: Earl's mispronunciation of idioms and clumsiness.\n",
            "Emotional Tone: Warm\n",
            "\n",
            "Scene 9\n",
            "Summary: In the locksmith shop, Sophie is examining a lock that Jimmy has switched as a prank. Sophie successfully unlocks it, surprising Jimmy. He advises her that picking a lock requires patience and precision. Unexpectedly, Sophie locks them in the shop, leading to laughter and another lock-picking exercise. Sophie humorously compares lock picks to shoe styles, which amuses Jimmy. She successfully unlocks the door, earning Jimmy's praise. Sophie notices a new addition to the \"Customer Lock Fails\" display - a shoe-shaped lock, a nod to her earlier analogy. Their shared laughter and experiences strengthen their bond, with Sophie gaining newfound respect for Jimmy.\n",
            "Characters: ['Sophie', 'Jimmy']\n",
            "Location: Locksmith Shop\n",
            "Recurring Joke: None\n",
            "Emotional Tone: Amusing, Warm\n",
            "\n",
            "Scene 10\n",
            "Summary: In this scene, Earl, a middle-aged businessman, is in an Italian restaurant with his clumsy coworker, Jimmy. Earl is trying to juggle a personal phone call and a work issue when Jimmy accidentally spills coffee on him. This leads to a series of humorous mishaps, including Earl getting coffee on his shirt and mixing up his words. Sophie, their level-headed coworker, arrives with pizzas and helps clean up the mess. Despite the chaos, Earl appreciates his coworkers' help, highlighting their close-knit relationship. The scene ends with a warm moment of camaraderie among the trio, despite the comedic chaos.\n",
            "Characters: ['Earl', 'Jimmy', 'Sophie']\n",
            "Location: Italian Restaurant\n",
            "Recurring Joke: Earl's struggle to juggle personal and work life, leading to humorous mix-ups and accidents.\n",
            "Emotional Tone: Humorous, Warm\n",
            "\n",
            "Scene 11\n",
            "Summary: In the locksmith shop, Sophie, the quirky locksmith, and Jimmy, her meticulous assistant, engage in a playful banter. Sophie mistakenly identifies a pizza cutter as a locksmith tool, then finds an old treasure chest lock and accidentally locks herself in a makeshift cage. Jimmy, having forgotten his glasses, is guided by Sophie's convoluted instructions to unlock the cage. Despite knocking over a container of keys, Jimmy successfully unlocks the cage. They share a moment of triumph and laughter, with Sophie teasing about switching roles next time. Their shared experience strengthens their bond.\n",
            "Characters: ['Sophie', 'Jimmy']\n",
            "Location: Locksmith Shop\n",
            "Recurring Joke: Sophie's quirky misidentification of tools, Jimmy's forgetfulness about his glasses, and their shared clumsiness.\n",
            "Emotional Tone: Playful, Warm\n",
            "\n",
            "Scene 12\n",
            "Summary: In this scene, eccentric Earl and chaotic Jimmy are in a library, examining a rare lock model and using silly hats as \"thinking hats\". Earl proposes an unconventional solution to open the lock, involving his pet hamster, Mr. Nibbles. Jimmy, initially incredulous, eventually gets on board with the idea. Their loud conversation attracts the attention of a stern librarian, who reminds them to keep quiet. Just as they're about to start their plan, a microfilm reader reveals the information they needed to open the lock, rendering their plan unnecessary. They share a laugh about this, attracting the librarian's attention again, and return to their work.\n",
            "Characters: ['Earl', 'Jimmy', 'Librarian']\n",
            "Location: Library\n",
            "Recurring Joke: Earl's eccentricity and unconventional problem-solving methods, particularly his use of \"thinking hats\" and the proposed use of his pet hamster, Mr. Nibbles, to solve problems.\n",
            "Emotional Tone: Humorous\n"
          ]
        }
      ]
    },
    {
      "cell_type": "markdown",
      "source": [
        "## 🎬 Scene 13 Generation\n"
      ],
      "metadata": {
        "id": "5YLAf7xFCRxd"
      }
    },
    {
      "cell_type": "code",
      "source": [
        "# Extract the description for Scene 13 from the episode outline\n",
        "scene_13_desc = extract_scene(episode_outline, 13)\n",
        "print(scene_13_desc)"
      ],
      "metadata": {
        "id": "cmMyTO8Ww5tF",
        "colab": {
          "base_uri": "https://localhost:8080/"
        },
        "outputId": "1b8b4584-e3e1-4322-9976-1de0f5830232"
      },
      "execution_count": 100,
      "outputs": [
        {
          "output_type": "stream",
          "name": "stdout",
          "text": [
            "Scene 13: \"Heart-to-Heart\" Sophie and Jimmy have a heartfelt conversation about their relationship while working on locks. The tone is emotional and sincere.\n"
          ]
        }
      ]
    },
    {
      "cell_type": "markdown",
      "source": [
        "### 🎭 Character Agent\n"
      ],
      "metadata": {
        "id": "rQVTpt3PCeGO"
      }
    },
    {
      "cell_type": "code",
      "source": [
        "# Re-initialize the character agent with the updated vector metadata\n",
        "character_agent = CharacterAgent(\n",
        "    client=client,\n",
        "    vector_metadata=vector_metadata,\n",
        "    num_scenes=3\n",
        ")\n",
        "\n",
        "# Evaluate Scene 13 using the character agent and store the evaluation results\n",
        "char_histories, char_is_consistent, char_explanation, char_recommendations, char_thoughts = evaluate_character_agent_scene(\n",
        "    agent=character_agent,\n",
        "    scene_description=scene_13_desc,\n",
        "    scene_number=13\n",
        ")"
      ],
      "metadata": {
        "id": "B1ahG3-SCiGA",
        "colab": {
          "base_uri": "https://localhost:8080/"
        },
        "outputId": "003d9c5b-36c5-4287-8189-8d05cc203b75"
      },
      "execution_count": 101,
      "outputs": [
        {
          "output_type": "stream",
          "name": "stdout",
          "text": [
            "🔁 Agent will consider the last 3 scene(s) for context.\n",
            "\n",
            "📚 Retrieving script metadata for scene(s): [10, 11, 12]\n",
            "Scene 13 — Consistency: ✅ Consistent\n",
            "\n",
            "Explanation:\n",
            "2. Short Explanation Why: Sophie's emotional arc, from prank victim to rescuer, shows her increasing closeness with Jimmy. A heart-to-heart conversation is a logical next step in their relationship. It also aligns with Jimmy's arc, as he's shown to be adaptable and good-natured. Sophie's playful speaking style could add a light-hearted touch to the emotional conversation, while their shared locksmith work provides a consistent setting.\n",
            "\n",
            "Interaction Improvement Recommendations:\n",
            "1. Sophie, while working on a lock, jokingly asks Jimmy if he brought his glasses this time, referring to the time he forgot them while trying to unlock the cage she was trapped in (Scene 2). This interaction not only provides a light-hearted moment in their serious conversation but also reminds them of a shared past experience that brought them closer together. — (This interaction fits because it refers to their shared history as seen in Scene 2, and it keeps with Sophie's humorous and playful speaking style as seen in Scene 1 and Scene 3.)\n",
            "2. Jimmy sincerely thanks Sophie for her patience with him despite his clumsiness, referencing the time he spilled coffee on Earl (Scene 1) and knocked over a container of keys (Scene 2). Sophie responds by telling Jimmy she appreciates his adaptability and meticulous nature, as seen when he was able to unlock the cage she was trapped in (Scene 2) and when he got on board with Earl's unconventional plan (Scene 3). — (This interaction fits as it addresses Jimmy's growth and adaptability over the previous scenes, and it provides a heartfelt moment that deepens their bond as seen in their evolving relationship in Scene 1, Scene 2, and Scene 3.)\n",
            "\n",
            "Agent's Internal Thoughts:\n",
            "- Think: Identified characters ['Sophie', 'Jimmy'] using context from scene(s) [10, 11, 12].\n",
            "- Act: Retrieved profiles for ['Sophie', 'Jimmy'].\n",
            "- Observe: Scene is consistent.\n",
            "- Recommend: Provided suggestions for enhancing character dynamics.\n"
          ]
        }
      ]
    },
    {
      "cell_type": "markdown",
      "source": [
        "### 🎤 Comedic Agent\n"
      ],
      "metadata": {
        "id": "2l-PY9K7C3mA"
      }
    },
    {
      "cell_type": "code",
      "source": [
        "# Re-initialize the comedy agent with the updated vector metadata\n",
        "comedic_agent = ComedicAgent(\n",
        "    client=client,\n",
        "    vector_metadata=vector_metadata,\n",
        "    num_scenes=3\n",
        ")\n",
        "\n",
        "# Evaluate Scene 13 using the comedy agent and store the evaluation results\n",
        "com_context, com_is_consistent, com_analysis_text, com_recommendations, com_thoughts = evaluate_comedic_agent_scene(\n",
        "    agent=comedic_agent,\n",
        "    scene_description=scene_13_desc,\n",
        "    scene_number=13\n",
        ")"
      ],
      "metadata": {
        "id": "FZu2Q2WdC4H3",
        "colab": {
          "base_uri": "https://localhost:8080/"
        },
        "outputId": "ebe6836b-60b1-457d-e9b8-1174f041225d"
      },
      "execution_count": 102,
      "outputs": [
        {
          "output_type": "stream",
          "name": "stdout",
          "text": [
            "🔁 Agent will consider the last 3 scene(s) for context.\n",
            "\n",
            "📚 Retrieving script metadata for scene(s): [10, 11, 12]\n",
            "Scene 13 — Comedic Tone: ❌ Inconsistent\n",
            "\n",
            "Comedic Tone Analysis:\n",
            "3. Short Explanation: The dominant tone in the new scene is emotional and sincere, which is a departure from the comedic tone of the previous scenes. The previous scenes were characterized by humor derived from physical comedy, quirky character traits, and situational comedy.\n",
            "\n",
            "Comedic Improvement Recommendations:\n",
            "1. [Suggestion] — As Sophie and Jimmy work on the locks, they both struggle with their respective locks, resulting in a light-hearted competition. Sophie boasts, \"You know, I'm a natural at this. I'd probably be a master locksmith by now if I wasn't so into marketing.\" Jimmy retorts, \"Oh yeah? Well, I'd probably be a...lock...smith...too...if I wasn't so into...uh...\" Sophie interrupts, \"Into forgetting your punchlines, Jimmy?\" — (This suggestion builds on the running joke of Jimmy's tendency to forget his punchlines from previous scenes, creating a comedic moment that breaks the sincerity without undermining the emotional depth of their conversation.)\n",
            "2. [Suggestion] — As the conversation grows more emotional, Sophie reaches for a tissue from her pocket, only to pull out a rubber chicken instead. She exclaims, \"Oh my, why do I still have this?\" Jimmy laughs and says, \"Remember when you tried to become a magician and all you could pull out of your hat was that rubber chicken?\" They both laugh, reminiscing about their shared past. — (This suggestion incorporates physical comedy and character quirks from previous episodes, where Sophie's failed magician stint was a recurring joke. This serves to lighten the mood while reinforcing their shared history.)\n",
            "\n",
            "Comedic Agent's Internal Thoughts:\n",
            "- Think: Will retrieve summaries and jokes from scene(s) [10, 11, 12] for Scene 13.\n",
            "- Act: Retrieved summaries and jokes from prior scenes.\n",
            "- Observe: Scene is inconsistent with prior comedic tone.\n",
            "- Recommend: Provided comedic improvements.\n"
          ]
        }
      ]
    },
    {
      "cell_type": "markdown",
      "source": [
        "### 🌆 Environment Agent\n"
      ],
      "metadata": {
        "id": "FWbTYaw6EDl5"
      }
    },
    {
      "cell_type": "code",
      "source": [
        "# Re-initialize the environment agent with the updated vector metadata\n",
        "environment_agent = EnvironmentAgent(\n",
        "    client=client,\n",
        "    vector_metadata=vector_metadata,\n",
        "    num_scenes=3\n",
        ")\n",
        "\n",
        "# Evaluate Scene 13 using the environment agent and store the evaluation results\n",
        "context, is_consistent, explanation, env_recommendations, env_thoughts = evaluate_environment_agent_scene(\n",
        "    agent=environment_agent,\n",
        "    scene_description=scene_13_desc,\n",
        "    scene_number=13\n",
        ")"
      ],
      "metadata": {
        "id": "PuskGbg9EDbE",
        "colab": {
          "base_uri": "https://localhost:8080/"
        },
        "outputId": "9d6c3896-93a7-4982-d33c-fac788064a65"
      },
      "execution_count": 103,
      "outputs": [
        {
          "output_type": "stream",
          "name": "stdout",
          "text": [
            "🔁 Environment Agent will consider the last 3 scene(s) for context.\n",
            "\n",
            "📚 Retrieving script metadata for scene(s): [10, 11, 12]\n",
            "Scene 13 — Environment Transition: ✅ Consistent\n",
            "\n",
            "Explanation:\n",
            "Short Explanation: The characters were previously at a locksmith shop, then they went to a library, and now they are back at the locksmith shop. This is a logical transition as they could have needed to return to the locksmith shop for a variety of reasons, such as picking up a key they had copied or fixing a lock issue they discovered at the library.\n",
            "- Suggested Transition Setup: Not necessary in this case.\n",
            "\n",
            "Environment Detail Suggestions:\n",
            "Environment Details Suggestions:\n",
            "- [Suggestion 1]: As the characters enter the locksmith shop, they're greeted by the distinct metallic aroma of freshly cut keys. One character could humorously comment, \"Ah, the sweet smell of security.\"\n",
            "- [Suggestion 2]: The locksmith could be seen in the background, struggling with an unusually large and ornate lock, giving up in frustration, then resorting to using a comically oversized key. This could provide a visual gag throughout the scene.\n",
            "\n",
            "Environment Agent's Internal Thoughts:\n",
            "- Think: Retrieved summaries and environment context from scene(s) [10, 11, 12] for Scene 13.\n",
            "- Act: Analyzed environment features for Scene 13.\n",
            "- Observe: Scene transition is consistent.\n",
            "- Recommend: Provided environmental enhancement suggestions.\n"
          ]
        }
      ]
    },
    {
      "cell_type": "markdown",
      "source": [
        "### 🧠 Scene Planner Agent\n"
      ],
      "metadata": {
        "id": "yXQeO40gEuWd"
      }
    },
    {
      "cell_type": "code",
      "source": [
        "# Generate a plan for Scene 13 by integrating recommendations from all three agents\n",
        "scene_13_plan = scene_planner_agent.plan_next_scene(\n",
        "    character_recommendations=char_recommendations,\n",
        "    comedic_recommendations=com_recommendations,\n",
        "    environment_recommendations=env_recommendations,\n",
        "    scene_number=13\n",
        ")\n",
        "\n",
        "print(scene_13_plan)"
      ],
      "metadata": {
        "id": "i1HnsKoqEt86",
        "colab": {
          "base_uri": "https://localhost:8080/"
        },
        "outputId": "7b9f0e8d-5594-49d8-cee7-fd8bb48de9d1"
      },
      "execution_count": 104,
      "outputs": [
        {
          "output_type": "stream",
          "name": "stdout",
          "text": [
            "Scene Plan:\n",
            "Character Goals:\n",
            "- [Goal 1] Develop a dialogue where Sophie playfully teases Jimmy about his past mishaps, including forgetting his glasses and spilling coffee, reinforcing their shared history and highlighting Sophie's humorous nature.\n",
            "- [Goal 2] Enable Jimmy to express sincere gratitude towards Sophie for her patience, showcasing his growth and adaptability throughout their shared experiences. Sophie should reciprocate with words of appreciation for Jimmy's meticulous nature.\n",
            "\n",
            "Comedic Goal:\n",
            "- [Goal] Incorporate a comedic competition between Sophie and Jimmy as they struggle with their locks. Use Jimmy's tendency to forget punchlines as a running gag, and introduce a surprise element with Sophie pulling out a rubber chicken instead of a tissue, referring back to their shared history.\n",
            "\n",
            "Environment Detail:\n",
            "- [Detail] The locksmith shop is cluttered with keys and locks of all shapes and sizes, hanging from the ceiling and walls, creating a visually interesting and chaotic backdrop. The tinkling sound of keys provides a constant background noise, and a small, grumpy-looking parrot perched on a key rack occasionally squawks, \"Locked out again, eh?\"\n",
            "\n",
            "Creative Suggestion:\n",
            "- [Suggestion] As the conversation grows more emotional, Sophie pulls out the rubber chicken and Jimmy laughs, reminding her of her failed magician stint. This leads to a heartfelt discussion about their past misadventures and how they've helped each other grow. The locksmith, overhearing them, joins in with his own humorous anecdote, holding up the oversized key, and saying, \"You think you've had it tough? Try unlocking a castle with this thing!\" This lightens the mood and brings the scene to a close, with Sophie and Jimmy laughing together at the absurdity of it all.\n"
          ]
        }
      ]
    },
    {
      "cell_type": "markdown",
      "source": [
        "### ✍️ Generating Scene 13 Script"
      ],
      "metadata": {
        "id": "WgUa3nxwFlWR"
      }
    },
    {
      "cell_type": "code",
      "source": [
        "# Generate the full script for Scene 13 based on the structured scene plan\n",
        "scene_13_script = generate_scene(\n",
        "    client=client,\n",
        "    scene_plan=scene_13_plan,\n",
        "    scene_number=13\n",
        ")\n",
        "\n",
        "print(scene_13_script)"
      ],
      "metadata": {
        "id": "Oc8Hi0JhFlC8",
        "colab": {
          "base_uri": "https://localhost:8080/"
        },
        "outputId": "6ae846be-6cd3-43c5-aab9-ac7a65a98403"
      },
      "execution_count": 105,
      "outputs": [
        {
          "output_type": "stream",
          "name": "stdout",
          "text": [
            "INT. LOCKSMITH SHOP - DAY\n",
            "\n",
            "Sophie and Jimmy stand among the cluttered assortment of keys and locks. The shop's parrot squawks, \"Locked out again, eh?\" Sophie grins at Jimmy.\n",
            "\n",
            "SOPHIE:\n",
            "Remember when you locked yourself out of your apartment because you thought your glasses were a lock pick?\n",
            "\n",
            "Jimmy chuckles nervously, adjusting his glasses.\n",
            "\n",
            "JIMMY:\n",
            "Ah, yes. And remember when you thought a cup of coffee could open a jammed door?\n",
            "\n",
            "[Laugh Track]\n",
            "\n",
            "Sophie laughs, flipping a lock in her hand.\n",
            "\n",
            "SOPHIE:\n",
            "Well, it was worth a shot! You never know until you try, right?\n",
            "\n",
            "Jimmy nods, holding his own lock.\n",
            "\n",
            "JIMMY:\n",
            "True. And thanks for always trying with me, Sophie.\n",
            "\n",
            "Sophie smiles, patting Jimmy on the back.\n",
            "\n",
            "SOPHIE:\n",
            "And thank you for your meticulous nature. Without you, I'd probably be carrying around a bucket of coffee and a rubber chicken for emergencies.\n",
            "\n",
            "[Laugh Track]\n",
            "\n",
            "Sophie reaches into her bag to pull out a tissue, but instead pulls out a rubber chicken. Jimmy bursts into laughter.\n",
            "\n",
            "JIMMY:\n",
            "Oh, not again, Sophie!\n",
            "\n",
            "[Laugh Track]\n",
            "\n",
            "Sophie shrugs, grinning.\n",
            "\n",
            "SOPHIE:\n",
            "Well, it's good for a laugh, isn't it?\n",
            "\n",
            "Jimmy nods, wiping tears of laughter from his eyes.\n",
            "\n",
            "JIMMY:\n",
            "Indeed. It reminds me of your failed magician stint.\n",
            "\n",
            "[Laugh Track]\n",
            "\n",
            "Sophie chuckles, shaking her head.\n",
            "\n",
            "SOPHIE:\n",
            "And your constant forgetting of punchlines. We've had quite the journey, haven't we?\n",
            "\n",
            "The locksmith, who has been listening to their conversation, grins and holds up an oversized key.\n",
            "\n",
            "LOCKSMITH:\n",
            "You think you've had it tough? Try unlocking a castle with this thing!\n",
            "\n",
            "[Laugh Track]\n",
            "\n",
            "Sophie and Jimmy laugh together, the locksmith joining in. The parrot squawks again, \"Locked out again, eh?\" and they all laugh harder, the shared history and absurdity of it all making the moment sweeter.\n",
            "\n",
            "THE END\n"
          ]
        }
      ]
    },
    {
      "cell_type": "markdown",
      "source": [
        "### 🗂️ Adding Metadata to Vector Database\n"
      ],
      "metadata": {
        "id": "s6I1uLbyFmze"
      }
    },
    {
      "cell_type": "code",
      "source": [
        "# Store the generated Scene 13 script in the vector database for future retrieval and context\n",
        "store_scene_in_vector_db(\n",
        "    client=client,\n",
        "    sitcom_title=sitcom_title,\n",
        "    scene_script=scene_13_script,\n",
        "    embedding_model=embedding_model,\n",
        "    index=index,\n",
        "    vector_metadata=vector_metadata\n",
        ")"
      ],
      "metadata": {
        "id": "1v_NUzE9FmmF",
        "colab": {
          "base_uri": "https://localhost:8080/"
        },
        "outputId": "64e4a29a-17f7-4364-8280-11b517e4abb4"
      },
      "execution_count": 106,
      "outputs": [
        {
          "output_type": "stream",
          "name": "stdout",
          "text": [
            "Total scenes stored in vector DB: 13 \n",
            "\n",
            "\n",
            "Scene 1\n",
            "Summary: In this opening scene, Jimmy, a locksmith in his mid-40s, starts his day at his shop. He begins with a quirky morning routine of trying to pick a lock with a hairpin. His cat, Whiskers, surprises him by jumping on the counter, leading to a humorous interaction involving a master key and a can of tuna. A gust of wind causes a stack of keys to fall, and Jimmy takes a tumble trying to catch them. Despite the mishap, he dusts himself off and prepares to face the day's challenges, showing his resilience and good humor.\n",
            "Characters: ['Jimmy', 'Whiskers']\n",
            "Location: Jimmy's Locksmith Shop\n",
            "Recurring Joke: Jimmy's attempts to use keys for non-lock related tasks (e.g., using the master key to open a can of tuna) and his playful banter with his cat, Whiskers, are recurring jokes.\n",
            "Emotional Tone: Humorous, Light-hearted\n",
            "\n",
            "Scene 2\n",
            "Summary: In the scene, Jimmy, a man with unconventional habits, tries to open a mysterious package with a hairpin. His cat, Whiskers, and his parrot add comedic relief with their antics. Jimmy's health-conscious roommate, Martin, walks in and jokes about Jimmy's failed attempts to feed their plant junk food. Their over-dramatic neighbor, Mrs. Jenkins, rushes in, having noticed the mysterious package from her window. She leaves disappointed when Jimmy reveals the package contains a simple hairpin set. The scene ends with Martin joking about Jimmy's obsession with hairpins, and everyone shares a laugh.\n",
            "Characters: ['Jimmy', 'Whiskers (the cat)', 'Parrot', 'Martin', 'Mrs. Jenkins']\n",
            "Location: Living Room\n",
            "Recurring Joke: The parrot repeating phrases in a humorous context (\"Out of the box, out of the box!\", \"Out of hand, out of hand!\")\n",
            "Emotional Tone: Humorous\n",
            "\n",
            "Scene 3\n",
            "Summary: In Jimmy's locksmith shop, Earl, an eccentric older man, is fascinated by an unusual lock and Jimmy's hairpin. Jimmy, a young locksmith with unconventional practices, is feeding his plant cheese puffs. They exchange humorous banter about their unique interests, with Earl expressing eagerness to share about his compost tea. Earl attempts to demonstrate an \"unbreakable\" lock, but ends up locking his fingers together. He uses Jimmy's hairpin to try and free his fingers, but accidentally flings it into Jimmy's plant pot, making a joke about it being \"lock nutrients\". The scene ends with both of them laughing at the situation.\n",
            "Characters: ['Earl', 'Jimmy']\n",
            "Location: Jimmy's Locksmith Shop\n",
            "Recurring Joke: None\n",
            "Emotional Tone: Humorous\n",
            "\n",
            "Scene 4\n",
            "Summary: In Jimmy's apartment, Jimmy finds a flamboyantly wrapped package with a ticking sound. Using a hairpin, he picks the lock, revealing an old note that brings back memories of his past mischief. His elderly neighbor, Mrs. Jenkins, enters and comments on his unchanged behavior. The note reminds Jimmy of a time he stole a zoo monkey, dressed it in a suit, and taught it to pick pockets at the county fair. His roommate, Martin, enters and joins in the reminiscing, questioning how Jimmy avoided jail. Jimmy responds with a joke about good behavior, leading to a toast to \"water under the bridge\". The scene ends with the characters laughing and reminiscing about Jimmy's past.\n",
            "Characters: ['Jimmy', 'Mrs. Jenkins', 'Martin']\n",
            "Location: Jimmy's Apartment\n",
            "Recurring Joke: Jimmy's past mischiefs and his ability to avoid jail despite them.\n",
            "Emotional Tone: Nostalgic, Humorous\n",
            "\n",
            "Scene 5\n",
            "Summary: In the scene, the bumbling yet endearing character, Earl, struggles with making coffee, misreading instructions, and even pouring coffee grounds into the water reservoir. Jimmy, a neurotic character, enters and tries to correct Earl's mistakes, even attempting to pick the lock of the coffee maker with a hairpin. Earl, in his clumsiness, accidentally glues his fingers together with a sticky sponge. Jimmy suggests Earl read the instructions on the sponge packaging, leading to more mispronunciations. Just as Jimmy successfully unlocks the coffee maker, it explodes, covering them both in coffee grounds. Despite the chaos, they find humor in the situation, ending the scene with a laugh.\n",
            "Characters: ['Earl', 'Jimmy']\n",
            "Location: Kitchen\n",
            "Recurring Joke: Earl's consistent misreading of instructions and Jimmy's attempts to correct him.\n",
            "Emotional Tone: Comical\n",
            "\n",
            "Scene 6\n",
            "Summary: In this scene at the locksmith shop, Sophie enters with the intention of making a peace offering to her father, Jimmy. She presents a box of cheese puffs, which unexpectedly explodes, covering everyone in cheese puff dust. It turns out that the explosion was due to one of Jimmy's old pranks. Despite the mess, the incident leads to a warm moment between Sophie and Jimmy, with Sophie acknowledging that she has learned from her father's prankster ways. Meanwhile, Earl, another character present in the scene, humorously comments on the unexpected events in the shop.\n",
            "Characters: ['Sophie', 'Jimmy', 'Earl']\n",
            "Location: Locksmith shop\n",
            "Recurring Joke: The recurring joke in this scene is the playful pranks between Sophie and Jimmy, which often result in unexpected chaos.\n",
            "Emotional Tone: Humorous, Warm\n",
            "\n",
            "Scene 7\n",
            "Summary: In Jimmy's apartment, Sophie and Jimmy reminisce about their past while going through old photos and memorabilia. They recall Jimmy's knack for picking locks, including a memorable incident at their school. Jimmy likens his lock-picking skills to their relationship, suggesting they were meant to be together. Sophie agrees, expressing her desire to rekindle their relationship, comparing it to cooking a stew. The old prank of a confetti bucket rigged to a string is accidentally triggered, leading to laughter and a shared moment of nostalgia. The scene ends with a mutual understanding and Jimmy's affirmation of his abilities, both in picking locks and cooking stew.\n",
            "Characters: ['Sophie', 'Jimmy']\n",
            "Location: Jimmy's Apartment\n",
            "Recurring Joke: The recurring joke in the scene is Jimmy's history of setting up pranks and his knack for picking locks, which is metaphorically extended to their relationship.\n",
            "Emotional Tone: Nostalgic, Humorous\n",
            "\n",
            "Scene 8\n",
            "Summary: In the intervention room, Earl, Sophie, and Jimmy gather around an old Christmas light banner and a precarious stool. Earl tries to explain Jimmy's prankster nature as part of their family's character, not charisma, to Sophie. He then brings up an old prank book, accidentally revealing a secret compartment in a chest. Inside, an old photo album shows Sophie's mother and Jimmy as pranksters, uniting Sophie and Jimmy in intrigue. Earl uses this to convince Sophie that pranking is part of their family, just like his mispronunciation of idioms. They all share a laugh, ending the scene on a warm note.\n",
            "Characters: ['Earl', 'Sophie', 'Jimmy']\n",
            "Location: Earl's Intervention Room\n",
            "Recurring Joke: Earl's mispronunciation of idioms and clumsiness.\n",
            "Emotional Tone: Warm\n",
            "\n",
            "Scene 9\n",
            "Summary: In the locksmith shop, Sophie is examining a lock that Jimmy has switched as a prank. Sophie successfully unlocks it, surprising Jimmy. He advises her that picking a lock requires patience and precision. Unexpectedly, Sophie locks them in the shop, leading to laughter and another lock-picking exercise. Sophie humorously compares lock picks to shoe styles, which amuses Jimmy. She successfully unlocks the door, earning Jimmy's praise. Sophie notices a new addition to the \"Customer Lock Fails\" display - a shoe-shaped lock, a nod to her earlier analogy. Their shared laughter and experiences strengthen their bond, with Sophie gaining newfound respect for Jimmy.\n",
            "Characters: ['Sophie', 'Jimmy']\n",
            "Location: Locksmith Shop\n",
            "Recurring Joke: None\n",
            "Emotional Tone: Amusing, Warm\n",
            "\n",
            "Scene 10\n",
            "Summary: In this scene, Earl, a middle-aged businessman, is in an Italian restaurant with his clumsy coworker, Jimmy. Earl is trying to juggle a personal phone call and a work issue when Jimmy accidentally spills coffee on him. This leads to a series of humorous mishaps, including Earl getting coffee on his shirt and mixing up his words. Sophie, their level-headed coworker, arrives with pizzas and helps clean up the mess. Despite the chaos, Earl appreciates his coworkers' help, highlighting their close-knit relationship. The scene ends with a warm moment of camaraderie among the trio, despite the comedic chaos.\n",
            "Characters: ['Earl', 'Jimmy', 'Sophie']\n",
            "Location: Italian Restaurant\n",
            "Recurring Joke: Earl's struggle to juggle personal and work life, leading to humorous mix-ups and accidents.\n",
            "Emotional Tone: Humorous, Warm\n",
            "\n",
            "Scene 11\n",
            "Summary: In the locksmith shop, Sophie, the quirky locksmith, and Jimmy, her meticulous assistant, engage in a playful banter. Sophie mistakenly identifies a pizza cutter as a locksmith tool, then finds an old treasure chest lock and accidentally locks herself in a makeshift cage. Jimmy, having forgotten his glasses, is guided by Sophie's convoluted instructions to unlock the cage. Despite knocking over a container of keys, Jimmy successfully unlocks the cage. They share a moment of triumph and laughter, with Sophie teasing about switching roles next time. Their shared experience strengthens their bond.\n",
            "Characters: ['Sophie', 'Jimmy']\n",
            "Location: Locksmith Shop\n",
            "Recurring Joke: Sophie's quirky misidentification of tools, Jimmy's forgetfulness about his glasses, and their shared clumsiness.\n",
            "Emotional Tone: Playful, Warm\n",
            "\n",
            "Scene 12\n",
            "Summary: In this scene, eccentric Earl and chaotic Jimmy are in a library, examining a rare lock model and using silly hats as \"thinking hats\". Earl proposes an unconventional solution to open the lock, involving his pet hamster, Mr. Nibbles. Jimmy, initially incredulous, eventually gets on board with the idea. Their loud conversation attracts the attention of a stern librarian, who reminds them to keep quiet. Just as they're about to start their plan, a microfilm reader reveals the information they needed to open the lock, rendering their plan unnecessary. They share a laugh about this, attracting the librarian's attention again, and return to their work.\n",
            "Characters: ['Earl', 'Jimmy', 'Librarian']\n",
            "Location: Library\n",
            "Recurring Joke: Earl's eccentricity and unconventional problem-solving methods, particularly his use of \"thinking hats\" and the proposed use of his pet hamster, Mr. Nibbles, to solve problems.\n",
            "Emotional Tone: Humorous\n",
            "\n",
            "Scene 13\n",
            "Summary: In a locksmith shop, Sophie and Jimmy reminisce about their past mishaps and shared experiences, highlighting their complimentary personalities. Sophie is adventurous and willing to try unconventional methods, like using a cup of coffee to open a jammed door, while Jimmy is meticulous and often the voice of reason. They tease each other about past incidents, including Jimmy's confusion of his glasses for a lock pick and Sophie's failed magician stint. A running gag involves Sophie accidentally pulling a rubber chicken out of her bag. The locksmith, amused by their banter, shares his own absurd experience of unlocking a castle with an oversized key, which leads to a shared laughter among them.\n",
            "Characters: ['Sophie', 'Jimmy', 'Locksmith']\n",
            "Location: Locksmith Shop\n",
            "Recurring Joke: Sophie accidentally pulling a rubber chicken out of her bag.\n",
            "Emotional Tone: Humorous, Nostalgic\n"
          ]
        }
      ]
    },
    {
      "cell_type": "markdown",
      "source": [
        "## 🎬 Scene 14 Generation\n"
      ],
      "metadata": {
        "id": "ekMqmUyKCUQE"
      }
    },
    {
      "cell_type": "code",
      "source": [
        "# Extract the description for Scene 14 from the episode outline\n",
        "scene_14_desc = extract_scene(episode_outline, 14)\n",
        "print(scene_14_desc)"
      ],
      "metadata": {
        "id": "Qqy2PXA4w5pB",
        "colab": {
          "base_uri": "https://localhost:8080/"
        },
        "outputId": "ef6fdee6-0647-44ca-e2bb-ccb8ad4cecd4"
      },
      "execution_count": 107,
      "outputs": [
        {
          "output_type": "stream",
          "name": "stdout",
          "text": [
            "Scene 14: \"The Open Lock\" Jimmy and Sophie manage to open the lock from the mysterious package, leading to a surprising revelation. The atmosphere is suspenseful and funny.\n"
          ]
        }
      ]
    },
    {
      "cell_type": "markdown",
      "source": [
        "### 🎭 Character Agent\n"
      ],
      "metadata": {
        "id": "OjATuYNkCglK"
      }
    },
    {
      "cell_type": "code",
      "source": [
        "# Re-initialize the character agent with the updated vector metadata\n",
        "character_agent = CharacterAgent(\n",
        "    client=client,\n",
        "    vector_metadata=vector_metadata,\n",
        "    num_scenes=3\n",
        ")\n",
        "\n",
        "# Evaluate Scene 14 using the character agent and store the evaluation results\n",
        "char_histories, char_is_consistent, char_explanation, char_recommendations, char_thoughts = evaluate_character_agent_scene(\n",
        "    agent=character_agent,\n",
        "    scene_description=scene_14_desc,\n",
        "    scene_number=14\n",
        ")"
      ],
      "metadata": {
        "id": "DNJzaCkTCg6h",
        "colab": {
          "base_uri": "https://localhost:8080/"
        },
        "outputId": "7d031548-bdd9-40eb-fb61-2feb1b12d32a"
      },
      "execution_count": 108,
      "outputs": [
        {
          "output_type": "stream",
          "name": "stdout",
          "text": [
            "🔁 Agent will consider the last 3 scene(s) for context.\n",
            "\n",
            "📚 Retrieving script metadata for scene(s): [11, 12, 13]\n",
            "Scene 14 — Consistency: ✅ Consistent\n",
            "\n",
            "Explanation:\n",
            "2. Short Explanation Why: Both Jimmy and Sophie are acting in line with their established personality traits and emotional arcs. Jimmy, with his meticulousness, likely played a key role in opening the lock, while Sophie, with her adventurous spirit, would have added an element of humor and surprise to the suspenseful scene. Their actions and dialogue are expected to be consistent with their respective speaking styles and the nature of their relationship, which has been steadily strengthening over the previous scenes.\n",
            "\n",
            "Interaction Improvement Recommendations:\n",
            "1. As Jimmy and Sophie work together to open the lock, Jimmy should initially struggle because he can't find his glasses. Sophie, in her usual lighthearted manner, can hand him a pair of sunglasses instead, referencing their past interactions (Scene 1). This interaction will add humor to the suspenseful atmosphere while maintaining the running joke about Jimmy's glasses and showcasing Sophie's playful nature. \n",
            "2. When the lock finally opens, revealing its contents, Sophie should excitedly pull out a rubber chicken, adding a moment of unexpected humor (similar to Scene 3). However, Jimmy, in his meticulous nature (Scene 1), should take a closer look and find the real treasure hidden inside the rubber chicken. This interaction will not only continue the running joke about Sophie's bag of surprises but also highlight the complementing traits of both characters — Sophie's adventurous spirit and Jimmy's meticulousness.\n",
            "\n",
            "Agent's Internal Thoughts:\n",
            "- Think: Identified characters ['Jimmy', 'Sophie'] using context from scene(s) [11, 12, 13].\n",
            "- Act: Retrieved profiles for ['Jimmy', 'Sophie'].\n",
            "- Observe: Scene is consistent.\n",
            "- Recommend: Provided suggestions for enhancing character dynamics.\n"
          ]
        }
      ]
    },
    {
      "cell_type": "markdown",
      "source": [
        "### 🎤 Comedic Agent\n"
      ],
      "metadata": {
        "id": "oO__1Ms7C40_"
      }
    },
    {
      "cell_type": "code",
      "source": [
        "# Re-initialize the comedy agent with the updated vector metadata\n",
        "comedic_agent = ComedicAgent(\n",
        "    client=client,\n",
        "    vector_metadata=vector_metadata,\n",
        "    num_scenes=3\n",
        ")\n",
        "\n",
        "# Evaluate Scene 14 using the comedy agent and store the evaluation results\n",
        "com_context, com_is_consistent, com_analysis_text, com_recommendations, com_thoughts = evaluate_comedic_agent_scene(\n",
        "    agent=comedic_agent,\n",
        "    scene_description=scene_14_desc,\n",
        "    scene_number=14\n",
        ")"
      ],
      "metadata": {
        "id": "ugmQ9nU8C4o9",
        "colab": {
          "base_uri": "https://localhost:8080/"
        },
        "outputId": "8b37aa99-b174-43e1-de04-f22833e2faa2"
      },
      "execution_count": 109,
      "outputs": [
        {
          "output_type": "stream",
          "name": "stdout",
          "text": [
            "🔁 Agent will consider the last 3 scene(s) for context.\n",
            "\n",
            "📚 Retrieving script metadata for scene(s): [11, 12, 13]\n",
            "Scene 14 — Comedic Tone: ✅ Consistent\n",
            "\n",
            "Comedic Tone Analysis:\n",
            "3. Short Explanation: The suspenseful humor in the current scene aligns with the playful banter and unexpected comedic twists found in previous scenes. The characters' quirky personalities and their unconventional problem-solving methods continue to drive the humor.\n",
            "\n",
            "Comedic Improvement Recommendations:\n",
            "1. [Suggestion] — As Jimmy and Sophie struggle to open the lock, Jimmy can say, \"This lock is tougher than my mom's meatloaf!\" to which Sophie responds, \"That's because your mom uses the meatloaf recipe from the cookbook we found in that other mysterious package!\" This joke not only builds on the suspense of the scene, but it also subtly references a previous episode where they found a cookbook in a mysterious package, hence creating a light running joke. This adds a layer of humor and continuity to the scene.\n",
            "2. [Suggestion] — Once they finally manage to open the lock, instead of immediately revealing what's inside, they can both squint their eyes and say in unison, \"Is that...a pair of socks?!\" Before they pull out the real item. This builds on the comedic suspense of the scene and plays off their previous experiences with the mysterious packages that often contain bizarre items. It also maintains a funny, unexpected twist to the revelation, adding to the overall humor of the situation.\n",
            "\n",
            "Comedic Agent's Internal Thoughts:\n",
            "- Think: Will retrieve summaries and jokes from scene(s) [11, 12, 13] for Scene 14.\n",
            "- Act: Retrieved summaries and jokes from prior scenes.\n",
            "- Observe: Scene is consistent with prior comedic tone.\n",
            "- Recommend: Provided comedic improvements.\n"
          ]
        }
      ]
    },
    {
      "cell_type": "markdown",
      "source": [
        "### 🌆 Environment Agent\n"
      ],
      "metadata": {
        "id": "bIplJqdIEEnM"
      }
    },
    {
      "cell_type": "code",
      "source": [
        "# Re-initialize the environment agent with the updated vector metadata\n",
        "environment_agent = EnvironmentAgent(\n",
        "    client=client,\n",
        "    vector_metadata=vector_metadata,\n",
        "    num_scenes=3\n",
        ")\n",
        "\n",
        "# Evaluate Scene 14 using the environment agent and store the evaluation results\n",
        "context, is_consistent, explanation, env_recommendations, env_thoughts = evaluate_environment_agent_scene(\n",
        "    agent=environment_agent,\n",
        "    scene_description=scene_14_desc,\n",
        "    scene_number=14\n",
        ")"
      ],
      "metadata": {
        "id": "bZirXJgfEEbh",
        "colab": {
          "base_uri": "https://localhost:8080/"
        },
        "outputId": "4c70f155-9248-45f0-edd0-8ea3a66e3b3f"
      },
      "execution_count": 110,
      "outputs": [
        {
          "output_type": "stream",
          "name": "stdout",
          "text": [
            "🔁 Environment Agent will consider the last 3 scene(s) for context.\n",
            "\n",
            "📚 Retrieving script metadata for scene(s): [11, 12, 13]\n",
            "Scene 14 — Environment Transition: ❌ Inconsistent\n",
            "\n",
            "Explanation:\n",
            "Short Explanation: Without knowing the current scene environment, it's impossible to determine whether the transition is logical or not. The previous scenes were in a locksmith shop and a library, but without knowing where the characters are now, we can't evaluate the transition.\n",
            "- Suggested Transition Setup: Once the current scene environment is known, a transition setup can be suggested.\n",
            "\n",
            "Environment Detail Suggestions:\n",
            "Environment Details Suggestions:\n",
            "- Suggestion 1: As the characters enter a new room to open the mysterious package, the sound of an old, creaky ceiling fan spinning overhead can be heard. It's clear the room hasn't been used in a while, and one of the characters can make a joke about the fan possibly falling on them before they even get to see what's in the package.\n",
            "- Suggestion 2: In the corner of the room, there's a bizarrely out-of-place, brightly colored plastic flamingo. It becomes a funny distraction as the characters speculate on why it's there, with one character suggesting it might be a secret camera. It adds a touch of absurdity and lightness to the otherwise tense moment of opening the mysterious package.\n",
            "\n",
            "Environment Agent's Internal Thoughts:\n",
            "- Think: Retrieved summaries and environment context from scene(s) [11, 12, 13] for Scene 14.\n",
            "- Act: Analyzed environment features for Scene 14.\n",
            "- Observe: Scene transition is inconsistent.\n",
            "- Recommend: Provided environmental enhancement suggestions.\n"
          ]
        }
      ]
    },
    {
      "cell_type": "markdown",
      "source": [
        "### 🧠 Scene Planner Agent\n"
      ],
      "metadata": {
        "id": "POIH5GTjEwUr"
      }
    },
    {
      "cell_type": "code",
      "source": [
        "# Generate a plan for Scene 14 by integrating recommendations from all three agents\n",
        "scene_14_plan = scene_planner_agent.plan_next_scene(\n",
        "    character_recommendations=char_recommendations,\n",
        "    comedic_recommendations=com_recommendations,\n",
        "    environment_recommendations=env_recommendations,\n",
        "    scene_number=14\n",
        ")\n",
        "\n",
        "print(scene_14_plan)"
      ],
      "metadata": {
        "id": "nIvH7BBdEwCY",
        "colab": {
          "base_uri": "https://localhost:8080/"
        },
        "outputId": "65c1598c-317b-4a9f-ed8e-79c72e5e36ee"
      },
      "execution_count": 111,
      "outputs": [
        {
          "output_type": "stream",
          "name": "stdout",
          "text": [
            "Scene Plan:\n",
            "Character Goals:\n",
            "- [Goal 1] Showcase Jimmy's forgetfulness and Sophie's playfulness by having Jimmy struggle to open the lock due to missing glasses, which Sophie comically replaces with sunglasses. \n",
            "- [Goal 2] Amplify Sophie's adventurous spirit and Jimmy's meticulous nature by having Sophie excitedly pull out a rubber chicken from the lock's contents, and Jimmy discovering the real treasure hidden within it.\n",
            "\n",
            "Comedic Goal:\n",
            "- [Goal] Integrate a blend of suspense and humor by having Jimmy and Sophie comment on the difficulty of the lock using a callback to a previous episode's joke, and by introducing a surprising item (socks) before revealing the true content of the lock.\n",
            "\n",
            "Environment Detail:\n",
            "- [Detail] The room where the lock is opened is dusty with an old, unreliable ceiling fan that squeaks with every rotation. An eccentrically painted ceramic giraffe stands out in the corner of the room, adding to the absurdity.\n",
            "\n",
            "Creative Suggestion:\n",
            "- [Suggestion] As the scene progresses, the ceiling fan could become increasingly unstable, adding to the suspense. Just as Jimmy and Sophie discover the real treasure within the rubber chicken, the fan falls, causing them to drop the treasure. This prompts a mad scramble to retrieve it, with Sophie eventually finding it under the ceramic giraffe. The giraffe could then become a running gag in later episodes, with characters becoming suspicious of it hiding more treasures or being a lucky charm.\n"
          ]
        }
      ]
    },
    {
      "cell_type": "markdown",
      "source": [
        "### ✍️ Generating Scene 14 Script"
      ],
      "metadata": {
        "id": "AvMesB7NFrpW"
      }
    },
    {
      "cell_type": "code",
      "source": [
        "# Generate the full script for Scene 14 based on the structured scene plan\n",
        "scene_14_script = generate_scene(\n",
        "    client=client,\n",
        "    scene_plan=scene_14_plan,\n",
        "    scene_number=14\n",
        ")\n",
        "\n",
        "print(scene_14_script)"
      ],
      "metadata": {
        "id": "C5ch4gUGFqQ_",
        "colab": {
          "base_uri": "https://localhost:8080/"
        },
        "outputId": "14de2908-a397-4c56-e133-ce156b9343b0"
      },
      "execution_count": 112,
      "outputs": [
        {
          "output_type": "stream",
          "name": "stdout",
          "text": [
            "INT. MYSTERIOUS ROOM - DAY\n",
            "\n",
            "The room is dusty, and the ceiling fan squeaks with every rotation. An eccentrically painted ceramic giraffe stands out in the corner of the room.\n",
            "\n",
            "Sophie, a lively young woman, and Jimmy, an older, meticulous man, are in front of a lock. Jimmy is squinting, struggling to open it.\n",
            "\n",
            "JIMMY:\n",
            "I swear I left my glasses right here.\n",
            "\n",
            "[Laugh Track]\n",
            "\n",
            "Sophie grins, pulling out a pair of sunglasses from her pocket.\n",
            "\n",
            "SOPHIE:\n",
            "You mean these?\n",
            "\n",
            "[Laugh Track]\n",
            "\n",
            "She places the sunglasses on Jimmy's face, who fumbles with the lock before it finally swings open. Sophie excitedly peeks inside.\n",
            "\n",
            "SOPHIE:\n",
            "Oh, look at this!\n",
            "\n",
            "She pulls out a rubber chicken, squealing in delight. \n",
            "\n",
            "[Laugh Track]\n",
            "\n",
            "Jimmy, less impressed, rummages through the lock and pulls out a pair of socks.\n",
            "\n",
            "JIMMY:\n",
            "Socks? Really, Sophie?\n",
            "\n",
            "[Laugh Track]\n",
            "\n",
            "Sophie laughs, shaking the rubber chicken. Something CLINKS inside.\n",
            "\n",
            "SOPHIE:\n",
            "Wait, there's something in the chicken!\n",
            "\n",
            "The ceiling fan above them wobbles ominously as they cut open the rubber chicken to reveal a shiny object. Just as they're about to examine it, the ceiling fan crashes down.\n",
            "\n",
            "[Laugh Track]\n",
            "\n",
            "They drop the treasure in surprise, and it skids under the ceramic giraffe. \n",
            "\n",
            "JIMMY:\n",
            "Not again!\n",
            "\n",
            "Sophie, laughing, retrieves the treasure from under the giraffe.\n",
            "\n",
            "SOPHIE:\n",
            "At least we know where to look next time!\n",
            "\n",
            "They both laugh as the scene ends, the ceramic giraffe staring on with its painted eyes.\n",
            "\n",
            "[Laugh Track]\n"
          ]
        }
      ]
    },
    {
      "cell_type": "markdown",
      "source": [
        "### 🗂️ Adding Metadata to Vector Database\n"
      ],
      "metadata": {
        "id": "wbz7ZbkcFqzU"
      }
    },
    {
      "cell_type": "code",
      "source": [
        "# Store the generated Scene 14 script in the vector database for future retrieval and context\n",
        "store_scene_in_vector_db(\n",
        "    client=client,\n",
        "    sitcom_title=sitcom_title,\n",
        "    scene_script=scene_14_script,\n",
        "    embedding_model=embedding_model,\n",
        "    index=index,\n",
        "    vector_metadata=vector_metadata\n",
        ")"
      ],
      "metadata": {
        "id": "FLv5Z63ZFydQ",
        "colab": {
          "base_uri": "https://localhost:8080/"
        },
        "outputId": "bdcd5e77-9751-45a1-c92d-0e8ce37e1909"
      },
      "execution_count": 113,
      "outputs": [
        {
          "output_type": "stream",
          "name": "stdout",
          "text": [
            "Total scenes stored in vector DB: 14 \n",
            "\n",
            "\n",
            "Scene 1\n",
            "Summary: In this opening scene, Jimmy, a locksmith in his mid-40s, starts his day at his shop. He begins with a quirky morning routine of trying to pick a lock with a hairpin. His cat, Whiskers, surprises him by jumping on the counter, leading to a humorous interaction involving a master key and a can of tuna. A gust of wind causes a stack of keys to fall, and Jimmy takes a tumble trying to catch them. Despite the mishap, he dusts himself off and prepares to face the day's challenges, showing his resilience and good humor.\n",
            "Characters: ['Jimmy', 'Whiskers']\n",
            "Location: Jimmy's Locksmith Shop\n",
            "Recurring Joke: Jimmy's attempts to use keys for non-lock related tasks (e.g., using the master key to open a can of tuna) and his playful banter with his cat, Whiskers, are recurring jokes.\n",
            "Emotional Tone: Humorous, Light-hearted\n",
            "\n",
            "Scene 2\n",
            "Summary: In the scene, Jimmy, a man with unconventional habits, tries to open a mysterious package with a hairpin. His cat, Whiskers, and his parrot add comedic relief with their antics. Jimmy's health-conscious roommate, Martin, walks in and jokes about Jimmy's failed attempts to feed their plant junk food. Their over-dramatic neighbor, Mrs. Jenkins, rushes in, having noticed the mysterious package from her window. She leaves disappointed when Jimmy reveals the package contains a simple hairpin set. The scene ends with Martin joking about Jimmy's obsession with hairpins, and everyone shares a laugh.\n",
            "Characters: ['Jimmy', 'Whiskers (the cat)', 'Parrot', 'Martin', 'Mrs. Jenkins']\n",
            "Location: Living Room\n",
            "Recurring Joke: The parrot repeating phrases in a humorous context (\"Out of the box, out of the box!\", \"Out of hand, out of hand!\")\n",
            "Emotional Tone: Humorous\n",
            "\n",
            "Scene 3\n",
            "Summary: In Jimmy's locksmith shop, Earl, an eccentric older man, is fascinated by an unusual lock and Jimmy's hairpin. Jimmy, a young locksmith with unconventional practices, is feeding his plant cheese puffs. They exchange humorous banter about their unique interests, with Earl expressing eagerness to share about his compost tea. Earl attempts to demonstrate an \"unbreakable\" lock, but ends up locking his fingers together. He uses Jimmy's hairpin to try and free his fingers, but accidentally flings it into Jimmy's plant pot, making a joke about it being \"lock nutrients\". The scene ends with both of them laughing at the situation.\n",
            "Characters: ['Earl', 'Jimmy']\n",
            "Location: Jimmy's Locksmith Shop\n",
            "Recurring Joke: None\n",
            "Emotional Tone: Humorous\n",
            "\n",
            "Scene 4\n",
            "Summary: In Jimmy's apartment, Jimmy finds a flamboyantly wrapped package with a ticking sound. Using a hairpin, he picks the lock, revealing an old note that brings back memories of his past mischief. His elderly neighbor, Mrs. Jenkins, enters and comments on his unchanged behavior. The note reminds Jimmy of a time he stole a zoo monkey, dressed it in a suit, and taught it to pick pockets at the county fair. His roommate, Martin, enters and joins in the reminiscing, questioning how Jimmy avoided jail. Jimmy responds with a joke about good behavior, leading to a toast to \"water under the bridge\". The scene ends with the characters laughing and reminiscing about Jimmy's past.\n",
            "Characters: ['Jimmy', 'Mrs. Jenkins', 'Martin']\n",
            "Location: Jimmy's Apartment\n",
            "Recurring Joke: Jimmy's past mischiefs and his ability to avoid jail despite them.\n",
            "Emotional Tone: Nostalgic, Humorous\n",
            "\n",
            "Scene 5\n",
            "Summary: In the scene, the bumbling yet endearing character, Earl, struggles with making coffee, misreading instructions, and even pouring coffee grounds into the water reservoir. Jimmy, a neurotic character, enters and tries to correct Earl's mistakes, even attempting to pick the lock of the coffee maker with a hairpin. Earl, in his clumsiness, accidentally glues his fingers together with a sticky sponge. Jimmy suggests Earl read the instructions on the sponge packaging, leading to more mispronunciations. Just as Jimmy successfully unlocks the coffee maker, it explodes, covering them both in coffee grounds. Despite the chaos, they find humor in the situation, ending the scene with a laugh.\n",
            "Characters: ['Earl', 'Jimmy']\n",
            "Location: Kitchen\n",
            "Recurring Joke: Earl's consistent misreading of instructions and Jimmy's attempts to correct him.\n",
            "Emotional Tone: Comical\n",
            "\n",
            "Scene 6\n",
            "Summary: In this scene at the locksmith shop, Sophie enters with the intention of making a peace offering to her father, Jimmy. She presents a box of cheese puffs, which unexpectedly explodes, covering everyone in cheese puff dust. It turns out that the explosion was due to one of Jimmy's old pranks. Despite the mess, the incident leads to a warm moment between Sophie and Jimmy, with Sophie acknowledging that she has learned from her father's prankster ways. Meanwhile, Earl, another character present in the scene, humorously comments on the unexpected events in the shop.\n",
            "Characters: ['Sophie', 'Jimmy', 'Earl']\n",
            "Location: Locksmith shop\n",
            "Recurring Joke: The recurring joke in this scene is the playful pranks between Sophie and Jimmy, which often result in unexpected chaos.\n",
            "Emotional Tone: Humorous, Warm\n",
            "\n",
            "Scene 7\n",
            "Summary: In Jimmy's apartment, Sophie and Jimmy reminisce about their past while going through old photos and memorabilia. They recall Jimmy's knack for picking locks, including a memorable incident at their school. Jimmy likens his lock-picking skills to their relationship, suggesting they were meant to be together. Sophie agrees, expressing her desire to rekindle their relationship, comparing it to cooking a stew. The old prank of a confetti bucket rigged to a string is accidentally triggered, leading to laughter and a shared moment of nostalgia. The scene ends with a mutual understanding and Jimmy's affirmation of his abilities, both in picking locks and cooking stew.\n",
            "Characters: ['Sophie', 'Jimmy']\n",
            "Location: Jimmy's Apartment\n",
            "Recurring Joke: The recurring joke in the scene is Jimmy's history of setting up pranks and his knack for picking locks, which is metaphorically extended to their relationship.\n",
            "Emotional Tone: Nostalgic, Humorous\n",
            "\n",
            "Scene 8\n",
            "Summary: In the intervention room, Earl, Sophie, and Jimmy gather around an old Christmas light banner and a precarious stool. Earl tries to explain Jimmy's prankster nature as part of their family's character, not charisma, to Sophie. He then brings up an old prank book, accidentally revealing a secret compartment in a chest. Inside, an old photo album shows Sophie's mother and Jimmy as pranksters, uniting Sophie and Jimmy in intrigue. Earl uses this to convince Sophie that pranking is part of their family, just like his mispronunciation of idioms. They all share a laugh, ending the scene on a warm note.\n",
            "Characters: ['Earl', 'Sophie', 'Jimmy']\n",
            "Location: Earl's Intervention Room\n",
            "Recurring Joke: Earl's mispronunciation of idioms and clumsiness.\n",
            "Emotional Tone: Warm\n",
            "\n",
            "Scene 9\n",
            "Summary: In the locksmith shop, Sophie is examining a lock that Jimmy has switched as a prank. Sophie successfully unlocks it, surprising Jimmy. He advises her that picking a lock requires patience and precision. Unexpectedly, Sophie locks them in the shop, leading to laughter and another lock-picking exercise. Sophie humorously compares lock picks to shoe styles, which amuses Jimmy. She successfully unlocks the door, earning Jimmy's praise. Sophie notices a new addition to the \"Customer Lock Fails\" display - a shoe-shaped lock, a nod to her earlier analogy. Their shared laughter and experiences strengthen their bond, with Sophie gaining newfound respect for Jimmy.\n",
            "Characters: ['Sophie', 'Jimmy']\n",
            "Location: Locksmith Shop\n",
            "Recurring Joke: None\n",
            "Emotional Tone: Amusing, Warm\n",
            "\n",
            "Scene 10\n",
            "Summary: In this scene, Earl, a middle-aged businessman, is in an Italian restaurant with his clumsy coworker, Jimmy. Earl is trying to juggle a personal phone call and a work issue when Jimmy accidentally spills coffee on him. This leads to a series of humorous mishaps, including Earl getting coffee on his shirt and mixing up his words. Sophie, their level-headed coworker, arrives with pizzas and helps clean up the mess. Despite the chaos, Earl appreciates his coworkers' help, highlighting their close-knit relationship. The scene ends with a warm moment of camaraderie among the trio, despite the comedic chaos.\n",
            "Characters: ['Earl', 'Jimmy', 'Sophie']\n",
            "Location: Italian Restaurant\n",
            "Recurring Joke: Earl's struggle to juggle personal and work life, leading to humorous mix-ups and accidents.\n",
            "Emotional Tone: Humorous, Warm\n",
            "\n",
            "Scene 11\n",
            "Summary: In the locksmith shop, Sophie, the quirky locksmith, and Jimmy, her meticulous assistant, engage in a playful banter. Sophie mistakenly identifies a pizza cutter as a locksmith tool, then finds an old treasure chest lock and accidentally locks herself in a makeshift cage. Jimmy, having forgotten his glasses, is guided by Sophie's convoluted instructions to unlock the cage. Despite knocking over a container of keys, Jimmy successfully unlocks the cage. They share a moment of triumph and laughter, with Sophie teasing about switching roles next time. Their shared experience strengthens their bond.\n",
            "Characters: ['Sophie', 'Jimmy']\n",
            "Location: Locksmith Shop\n",
            "Recurring Joke: Sophie's quirky misidentification of tools, Jimmy's forgetfulness about his glasses, and their shared clumsiness.\n",
            "Emotional Tone: Playful, Warm\n",
            "\n",
            "Scene 12\n",
            "Summary: In this scene, eccentric Earl and chaotic Jimmy are in a library, examining a rare lock model and using silly hats as \"thinking hats\". Earl proposes an unconventional solution to open the lock, involving his pet hamster, Mr. Nibbles. Jimmy, initially incredulous, eventually gets on board with the idea. Their loud conversation attracts the attention of a stern librarian, who reminds them to keep quiet. Just as they're about to start their plan, a microfilm reader reveals the information they needed to open the lock, rendering their plan unnecessary. They share a laugh about this, attracting the librarian's attention again, and return to their work.\n",
            "Characters: ['Earl', 'Jimmy', 'Librarian']\n",
            "Location: Library\n",
            "Recurring Joke: Earl's eccentricity and unconventional problem-solving methods, particularly his use of \"thinking hats\" and the proposed use of his pet hamster, Mr. Nibbles, to solve problems.\n",
            "Emotional Tone: Humorous\n",
            "\n",
            "Scene 13\n",
            "Summary: In a locksmith shop, Sophie and Jimmy reminisce about their past mishaps and shared experiences, highlighting their complimentary personalities. Sophie is adventurous and willing to try unconventional methods, like using a cup of coffee to open a jammed door, while Jimmy is meticulous and often the voice of reason. They tease each other about past incidents, including Jimmy's confusion of his glasses for a lock pick and Sophie's failed magician stint. A running gag involves Sophie accidentally pulling a rubber chicken out of her bag. The locksmith, amused by their banter, shares his own absurd experience of unlocking a castle with an oversized key, which leads to a shared laughter among them.\n",
            "Characters: ['Sophie', 'Jimmy', 'Locksmith']\n",
            "Location: Locksmith Shop\n",
            "Recurring Joke: Sophie accidentally pulling a rubber chicken out of her bag.\n",
            "Emotional Tone: Humorous, Nostalgic\n",
            "\n",
            "Scene 14\n",
            "Summary: In a dusty, mysterious room, Sophie, a young, lively woman, and Jimmy, an older, meticulous man, are trying to open a lock. Jimmy struggles without his glasses, which Sophie reveals she has. Once the lock is opened, Sophie finds a rubber chicken, which contains a shiny object. As they're about to examine it, a ceiling fan crashes down, causing them to drop the object under a ceramic giraffe. Jimmy shows frustration, but Sophie laughs it off, retrieving the object and joking about future treasure hunts.\n",
            "Characters: ['Sophie', 'Jimmy']\n",
            "Location: Mysterious Room\n",
            "Recurring Joke: The ceiling fan crashing down and objects skidding under the ceramic giraffe.\n",
            "Emotional Tone: Humorous\n"
          ]
        }
      ]
    },
    {
      "cell_type": "markdown",
      "source": [
        "## 🎬 Scene 15 Generation\n"
      ],
      "metadata": {
        "id": "pypMWXizCVab"
      }
    },
    {
      "cell_type": "code",
      "source": [
        "# Extract the description for Scene 15 from the episode outline\n",
        "scene_15_desc = extract_scene(episode_outline, 15)\n",
        "print(scene_15_desc)"
      ],
      "metadata": {
        "id": "UxWdPRFJw5kt",
        "colab": {
          "base_uri": "https://localhost:8080/"
        },
        "outputId": "a8dd6565-242e-47fb-bb4b-c70e91d15b6d"
      },
      "execution_count": 114,
      "outputs": [
        {
          "output_type": "stream",
          "name": "stdout",
          "text": [
            "Scene 15: \"Earl's Return\" Earl returns to the shop, bringing his own chaos with him. The scene is chaotic and hilarious.\n"
          ]
        }
      ]
    },
    {
      "cell_type": "markdown",
      "source": [
        "### 🎭 Character Agent\n"
      ],
      "metadata": {
        "id": "H6kC6ZB6Ciw9"
      }
    },
    {
      "cell_type": "code",
      "source": [
        "# Re-initialize the character agent with the updated vector metadata\n",
        "character_agent = CharacterAgent(\n",
        "    client=client,\n",
        "    vector_metadata=vector_metadata,\n",
        "    num_scenes=3\n",
        ")\n",
        "\n",
        "# Evaluate Scene 15 using the character agent and store the evaluation results\n",
        "char_histories, char_is_consistent, char_explanation, char_recommendations, char_thoughts = evaluate_character_agent_scene(\n",
        "    agent=character_agent,\n",
        "    scene_description=scene_15_desc,\n",
        "    scene_number=15\n",
        ")"
      ],
      "metadata": {
        "id": "UZ1IQdx9CjFi",
        "colab": {
          "base_uri": "https://localhost:8080/"
        },
        "outputId": "898832b1-ab0e-486e-b046-733c6b3303bb"
      },
      "execution_count": 115,
      "outputs": [
        {
          "output_type": "stream",
          "name": "stdout",
          "text": [
            "🔁 Agent will consider the last 3 scene(s) for context.\n",
            "\n",
            "📚 Retrieving script metadata for scene(s): [12, 13, 14]\n",
            "Scene 15 — Consistency: ✅ Consistent\n",
            "\n",
            "Explanation:\n",
            "2. Short Explanation Why: Earl's return to the shop with his own chaos is consistent with his eccentric personality trait and his ability to handle chaos, as demonstrated in previous scenes. His role in fostering teamwork and camaraderie, and his tendency to involve others in his plans, suggests that he may turn the chaos into a team-building exercise. His calm speaking style may also help alleviate the chaos.\n",
            "\n",
            "Interaction Improvement Recommendations:\n",
            "1. Earl walks into the shop with a mischievous grin and immediately starts mispronouncing idioms, causing Sophie and Jimmy to exchange knowing looks and laugh. This interaction is a nod to Scene 1, where Earl's mispronunciation of idioms is established as a family joke, and it also reinforces the warm bond between Earl, Sophie, and Jimmy.\n",
            "2. Amidst the chaos, Earl decides to involve his coworkers in a seemingly ridiculous plan to restore order in the shop. This interaction builds on Earl's eccentricity and tendency to involve others in his plans as seen in Scene 3 where he proposes using his pet hamster to open a rare lock. It also reflects the camaraderie shown in Scene 2, further strengthening their professional relationship.\n",
            "\n",
            "Agent's Internal Thoughts:\n",
            "- Think: Identified characters ['Earl'] using context from scene(s) [12, 13, 14].\n",
            "- Act: Retrieved profiles for ['Earl'].\n",
            "- Observe: Scene is consistent.\n",
            "- Recommend: Provided suggestions for enhancing character dynamics.\n"
          ]
        }
      ]
    },
    {
      "cell_type": "markdown",
      "source": [
        "### 🎤 Comedic Agent\n"
      ],
      "metadata": {
        "id": "egpojhNXC57m"
      }
    },
    {
      "cell_type": "code",
      "source": [
        "# Re-initialize the comedy agent with the updated vector metadata\n",
        "comedic_agent = ComedicAgent(\n",
        "    client=client,\n",
        "    vector_metadata=vector_metadata,\n",
        "    num_scenes=3\n",
        ")\n",
        "\n",
        "# Evaluate Scene 15 using the comedy agent and store the evaluation results\n",
        "com_context, com_is_consistent, com_analysis_text, com_recommendations, com_thoughts = evaluate_comedic_agent_scene(\n",
        "    agent=comedic_agent,\n",
        "    scene_description=scene_15_desc,\n",
        "    scene_number=15\n",
        ")"
      ],
      "metadata": {
        "id": "iihnouKRC5vn",
        "colab": {
          "base_uri": "https://localhost:8080/"
        },
        "outputId": "5d0d12c6-87c1-46ad-ab7c-2f251daabb75"
      },
      "execution_count": 116,
      "outputs": [
        {
          "output_type": "stream",
          "name": "stdout",
          "text": [
            "🔁 Agent will consider the last 3 scene(s) for context.\n",
            "\n",
            "📚 Retrieving script metadata for scene(s): [12, 13, 14]\n",
            "Scene 15 — Comedic Tone: ✅ Consistent\n",
            "\n",
            "Comedic Tone Analysis:\n",
            "3. Short Explanation: The chaotic humor in this scene is consistent with the previous scenes, which also feature eccentric and chaotic characters and situations. The humor is derived from the characters' unconventional problem-solving methods and the unexpected situations they find themselves in.\n",
            "\n",
            "Comedic Improvement Recommendations:\n",
            "1. [Suggestion] — As Earl enters the shop, he absentmindedly knocks over a display of canned goods, causing a domino effect of cascading products. As he tries to clean up the mess, he only makes it worse, stepping on cans and slipping, causing even more commotion. This could be a funny physical comedy bit that shows Earl's chaotic nature. — (This builds on Earl's established character trait of being a bit of a clumsy oaf, which we've seen in previous episodes like \"The Pie Incident\" and \"Earl's Day Off\")\n",
            "2. [Suggestion] — During the chaos, have Earl's co-worker, Tina, try to maintain order by directing customers away from the mess. However, her attempts to speak loudly over the noise results in her accidentally shouting personal information about a customer (\"Mr. Johnson, your hemorrhoid cream is ready!\") causing embarrassment and even more chaos. This adds a layer of social awkwardness to the scene, and plays into Tina's recurring struggle with volume control established in previous episodes like \"The Loudspeaker Mix-Up\". — (This reinforces the running joke of Tina's volume issues, but uses it in a fresh and unexpected way that fits the chaotic tone of the scene.)\n",
            "\n",
            "Comedic Agent's Internal Thoughts:\n",
            "- Think: Will retrieve summaries and jokes from scene(s) [12, 13, 14] for Scene 15.\n",
            "- Act: Retrieved summaries and jokes from prior scenes.\n",
            "- Observe: Scene is consistent with prior comedic tone.\n",
            "- Recommend: Provided comedic improvements.\n"
          ]
        }
      ]
    },
    {
      "cell_type": "markdown",
      "source": [
        "### 🌆 Environment Agent\n"
      ],
      "metadata": {
        "id": "xNc5l5eOEFqa"
      }
    },
    {
      "cell_type": "code",
      "source": [
        "# Re-initialize the environment agent with the updated vector metadata\n",
        "environment_agent = EnvironmentAgent(\n",
        "    client=client,\n",
        "    vector_metadata=vector_metadata,\n",
        "    num_scenes=3\n",
        ")\n",
        "\n",
        "# Evaluate Scene 15 using the environment agent and store the evaluation results\n",
        "context, is_consistent, explanation, env_recommendations, env_thoughts = evaluate_environment_agent_scene(\n",
        "    agent=environment_agent,\n",
        "    scene_description=scene_15_desc,\n",
        "    scene_number=15\n",
        ")"
      ],
      "metadata": {
        "id": "dL565UOaEykW",
        "colab": {
          "base_uri": "https://localhost:8080/"
        },
        "outputId": "fb193b9c-b407-4046-d23d-3a92e83f1129"
      },
      "execution_count": 117,
      "outputs": [
        {
          "output_type": "stream",
          "name": "stdout",
          "text": [
            "🔁 Environment Agent will consider the last 3 scene(s) for context.\n",
            "\n",
            "📚 Retrieving script metadata for scene(s): [12, 13, 14]\n",
            "Scene 15 — Environment Transition: ✅ Consistent\n",
            "\n",
            "Explanation:\n",
            "Short Explanation: The transition from a Mysterious Room to a Shop is logical. The characters could have found a clue or an item in the Mysterious Room that led them to a specific Shop. This is a common narrative device used in sitcoms to move the plot forward.\n",
            "- Suggested Transition Setup: Not necessary.\n",
            "\n",
            "Environment Detail Suggestions:\n",
            "Environment Details Suggestions:\n",
            "- [Suggestion 1]: As soon as the characters enter the shop, the jingling of a small bell attached to the door signals their arrival. Earl, the shop owner, is a quirky character who's seen squinting through a magnifying glass at a seemingly ordinary item - a toaster. He jumps at the sound of the bell, dropping the toaster, which then surprisingly pops out perfectly toasted bread.\n",
            "- [Suggestion 2]: The shop is filled with the mixed scent of old books, Earl's strong cologne, and a faint whiff of burnt toast from the earlier toaster incident. This peculiar combination of smells gives the shop a unique, quirky atmosphere which matches Earl's character.\n",
            "\n",
            "Environment Agent's Internal Thoughts:\n",
            "- Think: Retrieved summaries and environment context from scene(s) [12, 13, 14] for Scene 15.\n",
            "- Act: Analyzed environment features for Scene 15.\n",
            "- Observe: Scene transition is consistent.\n",
            "- Recommend: Provided environmental enhancement suggestions.\n"
          ]
        }
      ]
    },
    {
      "cell_type": "markdown",
      "source": [
        "### 🧠 Scene Planner Agent\n"
      ],
      "metadata": {
        "id": "xKiJgCh0Exud"
      }
    },
    {
      "cell_type": "code",
      "source": [
        "# Generate a plan for Scene 15 by integrating recommendations from all three agents\n",
        "scene_15_plan = scene_planner_agent.plan_next_scene(\n",
        "    character_recommendations=char_recommendations,\n",
        "    comedic_recommendations=com_recommendations,\n",
        "    environment_recommendations=env_recommendations,\n",
        "    scene_number=15\n",
        ")\n",
        "\n",
        "print(scene_15_plan)"
      ],
      "metadata": {
        "id": "4KDbk1WvExds",
        "colab": {
          "base_uri": "https://localhost:8080/"
        },
        "outputId": "79d0b203-cb93-4da7-ea2f-7199c986bbe3"
      },
      "execution_count": 118,
      "outputs": [
        {
          "output_type": "stream",
          "name": "stdout",
          "text": [
            "Scene Plan:\n",
            "Character Goals:\n",
            "- [Goal 1] Showcase Earl's eccentric personality and the camaraderie he shares with Sophie and Jimmy through a playful interaction built on their inside family joke about his idiom mispronunciations.\n",
            "- [Goal 2] Further establish Earl's leadership and his knack for involving his coworkers in unconventional plans to restore order amidst chaos.\n",
            "\n",
            "Comedic Goal:\n",
            "- [Goal] Create a humorous sequence by escalating the chaos in the shop, initiated by Earl's clumsy mishap, and furthered by Tina's well-intentioned but embarrassingly loud attempts to control the situation.\n",
            "\n",
            "Environment Detail:\n",
            "- [Detail] The shop, an embodiment of Earl's quirkiness, is filled with an unusual blend of scents and sounds - the faint jingle of a bell that announces every customer's arrival, a whiff of Earl's strong cologne, the nostalgic smell of old books and a lingering smell of burnt toast.\n",
            "\n",
            "Creative Suggestion:\n",
            "- [Suggestion] As the chaos continues to spiral, Earl, in an attempt to restore order, proposes an unconventional plan involving a vintage toy helicopter displayed on the shop's top shelf. This plan, initially met with skepticism, eventually turns out to be surprisingly effective, leading to a hilarious and unexpected resolution, all the while reinforcing the bonds among the characters.\n"
          ]
        }
      ]
    },
    {
      "cell_type": "markdown",
      "source": [
        "### ✍️ Generating Scene 15 Script"
      ],
      "metadata": {
        "id": "lcUMMin9FvFu"
      }
    },
    {
      "cell_type": "code",
      "source": [
        "# Generate the full script for Scene 15 based on the structured scene plan\n",
        "scene_15_script = generate_scene(\n",
        "    client=client,\n",
        "    scene_plan=scene_15_plan,\n",
        "    scene_number=15\n",
        ")\n",
        "\n",
        "print(scene_15_script)"
      ],
      "metadata": {
        "id": "E2g-CtZCEFeA",
        "colab": {
          "base_uri": "https://localhost:8080/"
        },
        "outputId": "8fc7ee3a-c6ed-42dc-a16b-77d9070349fa"
      },
      "execution_count": 119,
      "outputs": [
        {
          "output_type": "stream",
          "name": "stdout",
          "text": [
            "INT. EARL'S SHOP - DAY\n",
            "\n",
            "Earl, Sophie, and Jimmy are gathered around the counter, chuckling. Earl holds up a vintage toy helicopter.\n",
            "\n",
            "EARL:\n",
            "You see this? This is our ticket to restoring order in here.\n",
            "\n",
            "[Sophie and Jimmy exchange a confused look. Laugh Track]\n",
            "\n",
            "SOPHIE:\n",
            "Earl, you're not going to start saying your idioms wrong again, are you?\n",
            "\n",
            "EARL:\n",
            "(Laughs)\n",
            "You know me too well, Soph. Let's just say, we're about to... kill two birds with one chopper!\n",
            "\n",
            "[Laugh Track]\n",
            "\n",
            "Suddenly, the door swings open. The bell jingles. Enter Tina, tripping over a pile of books. \n",
            "\n",
            "TINA:\n",
            "(Shrieks)\n",
            "Oh my goodness, what a mess!\n",
            "\n",
            "[Laugh Track]\n",
            "\n",
            "Earl, unfazed by the chaos, looks at Tina and winks.\n",
            "\n",
            "EARL:\n",
            "Tina, just in time. Could use your voice to guide this little bird.\n",
            "\n",
            "Sophie snickers. Jimmy shakes his head, amused.\n",
            "\n",
            "JIMMY:\n",
            "(Laughs)\n",
            "Earl, you do realize that's not how the saying goes, right?\n",
            "\n",
            "[Laugh Track]\n",
            "\n",
            "Earl grins, knowingly.\n",
            "\n",
            "EARL:\n",
            "Oh, I know. It’s just more fun this way. Now, are you in, or are you out?\n",
            "\n",
            "Sophie, Jimmy, and Tina exchange glances before shrugging and nodding in agreement.\n",
            "\n",
            "TINA:\n",
            "(Sighs)\n",
            "Alright, Earl. I'm in.\n",
            "\n",
            "[Laugh Track]\n",
            "\n",
            "Earl guides the toy helicopter over the towering stacks of books, with Tina's loud voice echoing directions.\n",
            "\n",
            "TINA:\n",
            "(Shouts)\n",
            "Left, Earl! More left!\n",
            "\n",
            "The helicopter successfully manages to knock a stack of books back into place. The chaos subsides. The shop falls into silence, then erupts into laughter.\n",
            "\n",
            "SOPHIE:\n",
            "(Laughs)\n",
            "Well, I'll be! Only you could turn a disaster into a hoot, Earl!\n",
            "\n",
            "EARL:\n",
            "(Grins)\n",
            "That's what family is for, right?\n",
            "\n",
            "[Laugh Track]\n",
            "\n",
            "They all share a moment of camaraderie, their laughter mingling with the faint jingle of the bell as a customer walks in, the lingering smell of burnt toast in the air. \n",
            "\n",
            "FADE OUT.\n"
          ]
        }
      ]
    },
    {
      "cell_type": "markdown",
      "source": [
        "### 🗂️ Adding Metadata to Vector Database\n"
      ],
      "metadata": {
        "id": "1YnHjaXuFwdO"
      }
    },
    {
      "cell_type": "code",
      "source": [
        "# Store the generated Scene 15 script in the vector database for future retrieval and context\n",
        "store_scene_in_vector_db(\n",
        "    client=client,\n",
        "    sitcom_title=sitcom_title,\n",
        "    scene_script=scene_15_script,\n",
        "    embedding_model=embedding_model,\n",
        "    index=index,\n",
        "    vector_metadata=vector_metadata\n",
        ")"
      ],
      "metadata": {
        "id": "mZK20Q-3Fw4O",
        "colab": {
          "base_uri": "https://localhost:8080/"
        },
        "outputId": "a337ebac-7d9f-43a0-a49c-222988919b36"
      },
      "execution_count": 120,
      "outputs": [
        {
          "output_type": "stream",
          "name": "stdout",
          "text": [
            "Total scenes stored in vector DB: 15 \n",
            "\n",
            "\n",
            "Scene 1\n",
            "Summary: In this opening scene, Jimmy, a locksmith in his mid-40s, starts his day at his shop. He begins with a quirky morning routine of trying to pick a lock with a hairpin. His cat, Whiskers, surprises him by jumping on the counter, leading to a humorous interaction involving a master key and a can of tuna. A gust of wind causes a stack of keys to fall, and Jimmy takes a tumble trying to catch them. Despite the mishap, he dusts himself off and prepares to face the day's challenges, showing his resilience and good humor.\n",
            "Characters: ['Jimmy', 'Whiskers']\n",
            "Location: Jimmy's Locksmith Shop\n",
            "Recurring Joke: Jimmy's attempts to use keys for non-lock related tasks (e.g., using the master key to open a can of tuna) and his playful banter with his cat, Whiskers, are recurring jokes.\n",
            "Emotional Tone: Humorous, Light-hearted\n",
            "\n",
            "Scene 2\n",
            "Summary: In the scene, Jimmy, a man with unconventional habits, tries to open a mysterious package with a hairpin. His cat, Whiskers, and his parrot add comedic relief with their antics. Jimmy's health-conscious roommate, Martin, walks in and jokes about Jimmy's failed attempts to feed their plant junk food. Their over-dramatic neighbor, Mrs. Jenkins, rushes in, having noticed the mysterious package from her window. She leaves disappointed when Jimmy reveals the package contains a simple hairpin set. The scene ends with Martin joking about Jimmy's obsession with hairpins, and everyone shares a laugh.\n",
            "Characters: ['Jimmy', 'Whiskers (the cat)', 'Parrot', 'Martin', 'Mrs. Jenkins']\n",
            "Location: Living Room\n",
            "Recurring Joke: The parrot repeating phrases in a humorous context (\"Out of the box, out of the box!\", \"Out of hand, out of hand!\")\n",
            "Emotional Tone: Humorous\n",
            "\n",
            "Scene 3\n",
            "Summary: In Jimmy's locksmith shop, Earl, an eccentric older man, is fascinated by an unusual lock and Jimmy's hairpin. Jimmy, a young locksmith with unconventional practices, is feeding his plant cheese puffs. They exchange humorous banter about their unique interests, with Earl expressing eagerness to share about his compost tea. Earl attempts to demonstrate an \"unbreakable\" lock, but ends up locking his fingers together. He uses Jimmy's hairpin to try and free his fingers, but accidentally flings it into Jimmy's plant pot, making a joke about it being \"lock nutrients\". The scene ends with both of them laughing at the situation.\n",
            "Characters: ['Earl', 'Jimmy']\n",
            "Location: Jimmy's Locksmith Shop\n",
            "Recurring Joke: None\n",
            "Emotional Tone: Humorous\n",
            "\n",
            "Scene 4\n",
            "Summary: In Jimmy's apartment, Jimmy finds a flamboyantly wrapped package with a ticking sound. Using a hairpin, he picks the lock, revealing an old note that brings back memories of his past mischief. His elderly neighbor, Mrs. Jenkins, enters and comments on his unchanged behavior. The note reminds Jimmy of a time he stole a zoo monkey, dressed it in a suit, and taught it to pick pockets at the county fair. His roommate, Martin, enters and joins in the reminiscing, questioning how Jimmy avoided jail. Jimmy responds with a joke about good behavior, leading to a toast to \"water under the bridge\". The scene ends with the characters laughing and reminiscing about Jimmy's past.\n",
            "Characters: ['Jimmy', 'Mrs. Jenkins', 'Martin']\n",
            "Location: Jimmy's Apartment\n",
            "Recurring Joke: Jimmy's past mischiefs and his ability to avoid jail despite them.\n",
            "Emotional Tone: Nostalgic, Humorous\n",
            "\n",
            "Scene 5\n",
            "Summary: In the scene, the bumbling yet endearing character, Earl, struggles with making coffee, misreading instructions, and even pouring coffee grounds into the water reservoir. Jimmy, a neurotic character, enters and tries to correct Earl's mistakes, even attempting to pick the lock of the coffee maker with a hairpin. Earl, in his clumsiness, accidentally glues his fingers together with a sticky sponge. Jimmy suggests Earl read the instructions on the sponge packaging, leading to more mispronunciations. Just as Jimmy successfully unlocks the coffee maker, it explodes, covering them both in coffee grounds. Despite the chaos, they find humor in the situation, ending the scene with a laugh.\n",
            "Characters: ['Earl', 'Jimmy']\n",
            "Location: Kitchen\n",
            "Recurring Joke: Earl's consistent misreading of instructions and Jimmy's attempts to correct him.\n",
            "Emotional Tone: Comical\n",
            "\n",
            "Scene 6\n",
            "Summary: In this scene at the locksmith shop, Sophie enters with the intention of making a peace offering to her father, Jimmy. She presents a box of cheese puffs, which unexpectedly explodes, covering everyone in cheese puff dust. It turns out that the explosion was due to one of Jimmy's old pranks. Despite the mess, the incident leads to a warm moment between Sophie and Jimmy, with Sophie acknowledging that she has learned from her father's prankster ways. Meanwhile, Earl, another character present in the scene, humorously comments on the unexpected events in the shop.\n",
            "Characters: ['Sophie', 'Jimmy', 'Earl']\n",
            "Location: Locksmith shop\n",
            "Recurring Joke: The recurring joke in this scene is the playful pranks between Sophie and Jimmy, which often result in unexpected chaos.\n",
            "Emotional Tone: Humorous, Warm\n",
            "\n",
            "Scene 7\n",
            "Summary: In Jimmy's apartment, Sophie and Jimmy reminisce about their past while going through old photos and memorabilia. They recall Jimmy's knack for picking locks, including a memorable incident at their school. Jimmy likens his lock-picking skills to their relationship, suggesting they were meant to be together. Sophie agrees, expressing her desire to rekindle their relationship, comparing it to cooking a stew. The old prank of a confetti bucket rigged to a string is accidentally triggered, leading to laughter and a shared moment of nostalgia. The scene ends with a mutual understanding and Jimmy's affirmation of his abilities, both in picking locks and cooking stew.\n",
            "Characters: ['Sophie', 'Jimmy']\n",
            "Location: Jimmy's Apartment\n",
            "Recurring Joke: The recurring joke in the scene is Jimmy's history of setting up pranks and his knack for picking locks, which is metaphorically extended to their relationship.\n",
            "Emotional Tone: Nostalgic, Humorous\n",
            "\n",
            "Scene 8\n",
            "Summary: In the intervention room, Earl, Sophie, and Jimmy gather around an old Christmas light banner and a precarious stool. Earl tries to explain Jimmy's prankster nature as part of their family's character, not charisma, to Sophie. He then brings up an old prank book, accidentally revealing a secret compartment in a chest. Inside, an old photo album shows Sophie's mother and Jimmy as pranksters, uniting Sophie and Jimmy in intrigue. Earl uses this to convince Sophie that pranking is part of their family, just like his mispronunciation of idioms. They all share a laugh, ending the scene on a warm note.\n",
            "Characters: ['Earl', 'Sophie', 'Jimmy']\n",
            "Location: Earl's Intervention Room\n",
            "Recurring Joke: Earl's mispronunciation of idioms and clumsiness.\n",
            "Emotional Tone: Warm\n",
            "\n",
            "Scene 9\n",
            "Summary: In the locksmith shop, Sophie is examining a lock that Jimmy has switched as a prank. Sophie successfully unlocks it, surprising Jimmy. He advises her that picking a lock requires patience and precision. Unexpectedly, Sophie locks them in the shop, leading to laughter and another lock-picking exercise. Sophie humorously compares lock picks to shoe styles, which amuses Jimmy. She successfully unlocks the door, earning Jimmy's praise. Sophie notices a new addition to the \"Customer Lock Fails\" display - a shoe-shaped lock, a nod to her earlier analogy. Their shared laughter and experiences strengthen their bond, with Sophie gaining newfound respect for Jimmy.\n",
            "Characters: ['Sophie', 'Jimmy']\n",
            "Location: Locksmith Shop\n",
            "Recurring Joke: None\n",
            "Emotional Tone: Amusing, Warm\n",
            "\n",
            "Scene 10\n",
            "Summary: In this scene, Earl, a middle-aged businessman, is in an Italian restaurant with his clumsy coworker, Jimmy. Earl is trying to juggle a personal phone call and a work issue when Jimmy accidentally spills coffee on him. This leads to a series of humorous mishaps, including Earl getting coffee on his shirt and mixing up his words. Sophie, their level-headed coworker, arrives with pizzas and helps clean up the mess. Despite the chaos, Earl appreciates his coworkers' help, highlighting their close-knit relationship. The scene ends with a warm moment of camaraderie among the trio, despite the comedic chaos.\n",
            "Characters: ['Earl', 'Jimmy', 'Sophie']\n",
            "Location: Italian Restaurant\n",
            "Recurring Joke: Earl's struggle to juggle personal and work life, leading to humorous mix-ups and accidents.\n",
            "Emotional Tone: Humorous, Warm\n",
            "\n",
            "Scene 11\n",
            "Summary: In the locksmith shop, Sophie, the quirky locksmith, and Jimmy, her meticulous assistant, engage in a playful banter. Sophie mistakenly identifies a pizza cutter as a locksmith tool, then finds an old treasure chest lock and accidentally locks herself in a makeshift cage. Jimmy, having forgotten his glasses, is guided by Sophie's convoluted instructions to unlock the cage. Despite knocking over a container of keys, Jimmy successfully unlocks the cage. They share a moment of triumph and laughter, with Sophie teasing about switching roles next time. Their shared experience strengthens their bond.\n",
            "Characters: ['Sophie', 'Jimmy']\n",
            "Location: Locksmith Shop\n",
            "Recurring Joke: Sophie's quirky misidentification of tools, Jimmy's forgetfulness about his glasses, and their shared clumsiness.\n",
            "Emotional Tone: Playful, Warm\n",
            "\n",
            "Scene 12\n",
            "Summary: In this scene, eccentric Earl and chaotic Jimmy are in a library, examining a rare lock model and using silly hats as \"thinking hats\". Earl proposes an unconventional solution to open the lock, involving his pet hamster, Mr. Nibbles. Jimmy, initially incredulous, eventually gets on board with the idea. Their loud conversation attracts the attention of a stern librarian, who reminds them to keep quiet. Just as they're about to start their plan, a microfilm reader reveals the information they needed to open the lock, rendering their plan unnecessary. They share a laugh about this, attracting the librarian's attention again, and return to their work.\n",
            "Characters: ['Earl', 'Jimmy', 'Librarian']\n",
            "Location: Library\n",
            "Recurring Joke: Earl's eccentricity and unconventional problem-solving methods, particularly his use of \"thinking hats\" and the proposed use of his pet hamster, Mr. Nibbles, to solve problems.\n",
            "Emotional Tone: Humorous\n",
            "\n",
            "Scene 13\n",
            "Summary: In a locksmith shop, Sophie and Jimmy reminisce about their past mishaps and shared experiences, highlighting their complimentary personalities. Sophie is adventurous and willing to try unconventional methods, like using a cup of coffee to open a jammed door, while Jimmy is meticulous and often the voice of reason. They tease each other about past incidents, including Jimmy's confusion of his glasses for a lock pick and Sophie's failed magician stint. A running gag involves Sophie accidentally pulling a rubber chicken out of her bag. The locksmith, amused by their banter, shares his own absurd experience of unlocking a castle with an oversized key, which leads to a shared laughter among them.\n",
            "Characters: ['Sophie', 'Jimmy', 'Locksmith']\n",
            "Location: Locksmith Shop\n",
            "Recurring Joke: Sophie accidentally pulling a rubber chicken out of her bag.\n",
            "Emotional Tone: Humorous, Nostalgic\n",
            "\n",
            "Scene 14\n",
            "Summary: In a dusty, mysterious room, Sophie, a young, lively woman, and Jimmy, an older, meticulous man, are trying to open a lock. Jimmy struggles without his glasses, which Sophie reveals she has. Once the lock is opened, Sophie finds a rubber chicken, which contains a shiny object. As they're about to examine it, a ceiling fan crashes down, causing them to drop the object under a ceramic giraffe. Jimmy shows frustration, but Sophie laughs it off, retrieving the object and joking about future treasure hunts.\n",
            "Characters: ['Sophie', 'Jimmy']\n",
            "Location: Mysterious Room\n",
            "Recurring Joke: The ceiling fan crashing down and objects skidding under the ceramic giraffe.\n",
            "Emotional Tone: Humorous\n",
            "\n",
            "Scene 15\n",
            "Summary: In Earl's shop, Earl, Sophie, and Jimmy are laughing around a counter, where Earl presents a vintage toy helicopter as a solution to their mess. Earl's misuse of idioms provides comic relief. Tina enters, tripping over a pile of books, and is roped into Earl's plan. Despite initial confusion, Sophie, Jimmy, and Tina agree to help Earl. Using the toy helicopter and Tina's loud directions, they manage to knock a stack of books back into place, reducing the chaos. The scene ends with a moment of camaraderie and laughter, as Earl's eccentric problem-solving method proves successful. The shop's familial atmosphere is highlighted, and a customer enters, adding to the normalcy of the situation.\n",
            "Characters: ['Earl', 'Sophie', 'Jimmy', 'Tina']\n",
            "Location: Earl's Shop\n",
            "Recurring Joke: Earl's incorrect usage of idioms.\n",
            "Emotional Tone: Humorous, Warm\n"
          ]
        }
      ]
    },
    {
      "cell_type": "markdown",
      "source": [
        "## 🎬 Scene 16 Generation\n"
      ],
      "metadata": {
        "id": "jfUredPuCWf9"
      }
    },
    {
      "cell_type": "code",
      "source": [
        "# Extract the description for Scene 16 from the episode outline\n",
        "scene_16_desc = extract_scene(episode_outline, 16)\n",
        "print(scene_16_desc)"
      ],
      "metadata": {
        "id": "4xQUsef0w5ek",
        "colab": {
          "base_uri": "https://localhost:8080/"
        },
        "outputId": "ff7176e0-80b5-41aa-d46e-ecd026f43a84"
      },
      "execution_count": 121,
      "outputs": [
        {
          "output_type": "stream",
          "name": "stdout",
          "text": [
            "Scene 16: \"Shared Histories\" Jimmy, Sophie, and Earl share stories from their past, adding depth to their relationships. The tone is humorous and sentimental.\n"
          ]
        }
      ]
    },
    {
      "cell_type": "markdown",
      "source": [
        "### 🎭 Character Agent\n"
      ],
      "metadata": {
        "id": "ItwdidWYCkm3"
      }
    },
    {
      "cell_type": "code",
      "source": [
        "# Re-initialize the character agent with the updated vector metadata\n",
        "character_agent = CharacterAgent(\n",
        "    client=client,\n",
        "    vector_metadata=vector_metadata,\n",
        "    num_scenes=3\n",
        ")\n",
        "\n",
        "# Evaluate Scene 16 using the character agent and store the evaluation results\n",
        "char_histories, char_is_consistent, char_explanation, char_recommendations, char_thoughts = evaluate_character_agent_scene(\n",
        "    agent=character_agent,\n",
        "    scene_description=scene_16_desc,\n",
        "    scene_number=16\n",
        ")"
      ],
      "metadata": {
        "id": "gqgpSnu1CkS4",
        "colab": {
          "base_uri": "https://localhost:8080/"
        },
        "outputId": "a38a1be7-8158-49fc-a0c0-59909a3fb506"
      },
      "execution_count": 122,
      "outputs": [
        {
          "output_type": "stream",
          "name": "stdout",
          "text": [
            "🔁 Agent will consider the last 3 scene(s) for context.\n",
            "\n",
            "📚 Retrieving script metadata for scene(s): [13, 14, 15]\n",
            "Scene 16 — Consistency: ✅ Consistent\n",
            "\n",
            "Explanation:\n",
            "2. Short Explanation Why: The planned scene aligns well with the established character profiles. Jimmy's meticulous nature and role as the voice of reason, Sophie's adventurous and resilient spirit, and Earl's eccentric problem-solving approach all make sense in a scenario where they share past stories. Their individual speaking styles and quirks, along with their relationships with each other, can be highlighted through this storytelling. Their actions and dialogue can logically stem from their past interactions. No contradictions are apparent based on past scenes.\n",
            "\n",
            "Interaction Improvement Recommendations:\n",
            "1. Jimmy finally finds his glasses and Sophie teases him by saying, \"Are those your lock picks or are you just happy to see me?\" — This interaction builds upon the running joke from Scene 1 where Jimmy mistakenly used his glasses as lock picks and also emphasizes their playful banter seen throughout the previous scenes. \n",
            "2. Earl suggests a nostalgic trip to visit their old locksmith shop and Sophie responds, \"Only if you promise not to bring any of your 'innovative' problem-solving methods along.\" — This interaction refers to the eccentric problem-solving methods of Earl shown in Scene 2 and Scene 3. It also reflects Sophie's adventurous personality and her tendency to humorously engage with Earl's eccentricities.\n",
            "\n",
            "Agent's Internal Thoughts:\n",
            "- Think: Identified characters ['Jimmy', 'Sophie', 'Earl'] using context from scene(s) [13, 14, 15].\n",
            "- Act: Retrieved profiles for ['Jimmy', 'Sophie', 'Earl'].\n",
            "- Observe: Scene is consistent.\n",
            "- Recommend: Provided suggestions for enhancing character dynamics.\n"
          ]
        }
      ]
    },
    {
      "cell_type": "markdown",
      "source": [
        "### 🎤 Comedic Agent\n"
      ],
      "metadata": {
        "id": "5XDpc3FuC64r"
      }
    },
    {
      "cell_type": "code",
      "source": [
        "# Re-initialize the comedy agent with the updated vector metadata\n",
        "comedic_agent = ComedicAgent(\n",
        "    client=client,\n",
        "    vector_metadata=vector_metadata,\n",
        "    num_scenes=3\n",
        ")\n",
        "\n",
        "# Evaluate Scene 16 using the comedy agent and store the evaluation results\n",
        "com_context, com_is_consistent, com_analysis_text, com_recommendations, com_thoughts = evaluate_comedic_agent_scene(\n",
        "    agent=comedic_agent,\n",
        "    scene_description=scene_16_desc,\n",
        "    scene_number=16\n",
        ")"
      ],
      "metadata": {
        "id": "8ira0nEUC6tC",
        "colab": {
          "base_uri": "https://localhost:8080/"
        },
        "outputId": "2b0a8dd8-63ee-425d-a2f3-9cf8a42fb21f"
      },
      "execution_count": 123,
      "outputs": [
        {
          "output_type": "stream",
          "name": "stdout",
          "text": [
            "🔁 Agent will consider the last 3 scene(s) for context.\n",
            "\n",
            "📚 Retrieving script metadata for scene(s): [13, 14, 15]\n",
            "Scene 16 — Comedic Tone: ✅ Consistent\n",
            "\n",
            "Comedic Tone Analysis:\n",
            "3. Short Explanation: The scene maintains the humorous tone of the previous scenes while adding a layer of sentimentality. The characters' shared histories and relationships are explored, adding depth to their interactions while keeping the humor intact.\n",
            "\n",
            "Comedic Improvement Recommendations:\n",
            "1. [Suggestion] — Have Jimmy recount a story from his past where he joined a school talent show as a magician, intending to impress his crush. Unfortunately, the trick goes horribly wrong, and he ends up accidentally releasing a live dove in the auditorium, causing pandemonium. This story can be introduced when Sophie shares her own embarrassing school story, creating a bonding moment between them. This also adds to Jimmy's character, showing his willingness to take risks for people he cares about, even if it leads to embarrassment. — (This builds on Jimmy's previously established character trait of being a bit of a hapless romantic and provides a humorous anecdote that fits the overall tone of the sitcom.)\n",
            "2. [Suggestion] — Introduce a running gag where Earl continuously misremembers details from shared experiences with Sophie and Jimmy. For instance, when Sophie and Jimmy share a story about a memorable camping trip, Earl chimes in, but he hilariously gets the details wrong every time (e.g., \"Remember the bear that tried to steal our food?\" \"Earl, that was a raccoon.\"). This can serve to show Earl's age and his somewhat whimsical perspective on the past, providing humor while also deepening his character. — (This suggestion builds on a previous episode where Earl demonstrated a tendency to exaggerate and mix up details, leading to amusing situations.)\n",
            "\n",
            "Comedic Agent's Internal Thoughts:\n",
            "- Think: Will retrieve summaries and jokes from scene(s) [13, 14, 15] for Scene 16.\n",
            "- Act: Retrieved summaries and jokes from prior scenes.\n",
            "- Observe: Scene is consistent with prior comedic tone.\n",
            "- Recommend: Provided comedic improvements.\n"
          ]
        }
      ]
    },
    {
      "cell_type": "markdown",
      "source": [
        "### 🌆 Environment Agent\n"
      ],
      "metadata": {
        "id": "wDqeZ2L-EG8I"
      }
    },
    {
      "cell_type": "code",
      "source": [
        "# Re-initialize the environment agent with the updated vector metadata\n",
        "environment_agent = EnvironmentAgent(\n",
        "    client=client,\n",
        "    vector_metadata=vector_metadata,\n",
        "    num_scenes=3\n",
        ")\n",
        "\n",
        "# Evaluate Scene 16 using the environment agent and store the evaluation results\n",
        "context, is_consistent, explanation, env_recommendations, env_thoughts = evaluate_environment_agent_scene(\n",
        "    agent=environment_agent,\n",
        "    scene_description=scene_16_desc,\n",
        "    scene_number=16\n",
        ")"
      ],
      "metadata": {
        "id": "f0dr-C0EEGvj",
        "colab": {
          "base_uri": "https://localhost:8080/"
        },
        "outputId": "30d31f83-14d4-4a66-82d4-5bc3fcf6773c"
      },
      "execution_count": 124,
      "outputs": [
        {
          "output_type": "stream",
          "name": "stdout",
          "text": [
            "🔁 Environment Agent will consider the last 3 scene(s) for context.\n",
            "\n",
            "📚 Retrieving script metadata for scene(s): [13, 14, 15]\n",
            "Scene 16 — Environment Transition: ❌ Inconsistent\n",
            "\n",
            "Explanation:\n",
            "Short Explanation: The current scene environment is not specified, making it impossible to determine if the transition is logical or not. The audience needs to know where the characters are to understand the context of the scene.\n",
            "- Suggested Transition Setup: Depending on the plot, the characters could leave Earl's Shop and head to a new location. For example, if they found a clue in Earl's Shop, they could be seen heading to the location the clue leads to, such as a local café or a character's home.\n",
            "\n",
            "Environment Detail Suggestions:\n",
            "Environment Details Suggestions:\n",
            "- [Suggestion 1]: As the characters walk into the local café, the sound of an old, off-key jukebox fills the room, playing an ironically cheerful song that contrasts with their serious investigation. A barista, in the background, is struggling with a stubborn espresso machine, creating a mild commotion.\n",
            "  \n",
            "- [Suggestion 2]: Once they arrive at another character's home, a peculiar smell of burnt cookies wafts through the air, indicating an unsuccessful baking attempt. In the background, a cat is seen nonchalantly knocking over a vase, adding a touch of humor to the situation.\n",
            "\n",
            "Environment Agent's Internal Thoughts:\n",
            "- Think: Retrieved summaries and environment context from scene(s) [13, 14, 15] for Scene 16.\n",
            "- Act: Analyzed environment features for Scene 16.\n",
            "- Observe: Scene transition is inconsistent.\n",
            "- Recommend: Provided environmental enhancement suggestions.\n"
          ]
        }
      ]
    },
    {
      "cell_type": "markdown",
      "source": [
        "### 🧠 Scene Planner Agent\n"
      ],
      "metadata": {
        "id": "sDzI6u5jE5vk"
      }
    },
    {
      "cell_type": "code",
      "source": [
        "# Generate a plan for Scene 16 by integrating recommendations from all three agents\n",
        "scene_16_plan = scene_planner_agent.plan_next_scene(\n",
        "    character_recommendations=char_recommendations,\n",
        "    comedic_recommendations=com_recommendations,\n",
        "    environment_recommendations=env_recommendations,\n",
        "    scene_number=16\n",
        ")\n",
        "\n",
        "print(scene_16_plan)"
      ],
      "metadata": {
        "id": "FH24xcgoE5fF",
        "colab": {
          "base_uri": "https://localhost:8080/"
        },
        "outputId": "0299e1fc-7e75-474f-ba54-0c1917990c15"
      },
      "execution_count": 125,
      "outputs": [
        {
          "output_type": "stream",
          "name": "stdout",
          "text": [
            "Scene Plan:\n",
            "Character Goals:\n",
            "- [Goal 1] Jimmy finds his glasses, and Sophie engages in playful banter with him, referencing the recurring joke of Jimmy's glasses being used as lock picks. This interaction should solidify their established dynamic and heighten their camaraderie.\n",
            "- [Goal 2] Earl proposes a nostalgic trip to their old locksmith shop, prompting Sophie's humorous response. This should emphasize Sophie's adventurous spirit and her playful tolerance of Earl's quirky problem-solving methods.\n",
            "\n",
            "Comedic Goal:\n",
            "- [Goal] Jimmy shares a humorous and embarrassing story from his past, demonstrating his endearing clumsiness and willingness to take risks for love. Concurrently, Earl interjects with incorrect details from shared experiences, reinforcing his whimsical character and creating a running gag.\n",
            "\n",
            "Environment Detail:\n",
            "- [Detail] As they enter the locksmith shop, the familiar, metallic scent of iron keys and the sound of rusty lock mechanisms fill the air. In the background, a cuckoo clock chimes erratically, indicating its long-time disrepair and adding a humorous element to the scene.\n",
            "\n",
            "Creative Suggestion:\n",
            "- [Suggestion] Jimmy's recollection of his failed magic trick at the school talent show prompts Earl to suggest they use magic tricks as a unique locksmithing technique, adding an element of humor and absurdity. This could lead to a funny scenario where they attempt to apply magic in their locksmithing, leading to a series of comedic mishaps.\n"
          ]
        }
      ]
    },
    {
      "cell_type": "markdown",
      "source": [
        "### ✍️ Generating Scene 16 Script"
      ],
      "metadata": {
        "id": "iN0W5eF3F4Ls"
      }
    },
    {
      "cell_type": "code",
      "source": [
        "# Generate the full script for Scene 16 based on the structured scene plan\n",
        "scene_16_script = generate_scene(\n",
        "    client=client,\n",
        "    scene_plan=scene_16_plan,\n",
        "    scene_number=16\n",
        ")\n",
        "\n",
        "print(scene_16_script)"
      ],
      "metadata": {
        "id": "Erp_Vec1F37N",
        "colab": {
          "base_uri": "https://localhost:8080/"
        },
        "outputId": "6ac634fc-578f-4ac9-febf-62e4cd0212b2"
      },
      "execution_count": 126,
      "outputs": [
        {
          "output_type": "stream",
          "name": "stdout",
          "text": [
            "INT. LOCKSMITH SHOP - DAY\n",
            "\n",
            "The door CREAKS open. SOPHIE, EARL, and JIMMY step inside. The metallic scent of iron keys and the SOUND of rusty lock mechanisms fill the air.\n",
            "\n",
            "SOPHIE: (sniffs) Ah, the sweet smell of iron and rust. Takes me back.\n",
            "\n",
            "EARL: (nodding) Yep. Just like old times.\n",
            "\n",
            "JIMMY is searching frantically in his pockets.\n",
            "\n",
            "SOPHIE: (smirking) Looking for your glasses, Jimmy?\n",
            "\n",
            "JIMMY: (nodding) Yeah, I can't seem to find them.\n",
            "\n",
            "SOPHIE: (grinning) Well, if we ever need to pick a lock, we know where to look.\n",
            "\n",
            "[Laugh Track]\n",
            "\n",
            "EARL: (laughing) Oh, that's a good one, Sophie!\n",
            "\n",
            "JIMMY: (smiling) Very funny, Sophie. \n",
            "\n",
            "Jimmy finds his glasses and puts them on.\n",
            "\n",
            "JIMMY: (looking around) This place hasn't changed a bit, has it?\n",
            "\n",
            "EARL: (excited) You know what this place needs? A trip down memory lane!\n",
            "\n",
            "SOPHIE: (teasing) What, like a séance to summon the spirit of the locksmith we once knew?\n",
            "\n",
            "[Laugh Track]\n",
            "\n",
            "EARL: (laughs) No, no. But remember when Jimmy tried to impress Cindy at the school talent show with that magic trick?\n",
            "\n",
            "JIMMY: (blushing) Oh no, not that story...\n",
            "\n",
            "SOPHIE: (grinning) Oh yes, do tell!\n",
            "\n",
            "EARL: (laughing) Well, Jimmy here decided to make his glasses disappear...\n",
            "\n",
            "JIMMY: (interrupting) ...And I ended up locking myself in a trunk.\n",
            "\n",
            "[Laugh Track]\n",
            "\n",
            "EARL: (giggling) No, no, Jimmy. You were supposed to escape from the trunk, not lock yourself in.\n",
            "\n",
            "SOPHIE: (laughs) And I thought my sense of direction was bad.\n",
            "\n",
            "[Laugh Track]\n",
            "\n",
            "EARL: (pondering) Maybe we could add a bit of magic to our locksmithing?\n",
            "\n",
            "SOPHIE: (laughs) Only if you promise not to lock yourself in any trunks, Jimmy.\n",
            "\n",
            "JIMMY: (smiling) Deal. But only if you promise to keep my glasses away from any locks.\n",
            "\n",
            "They all LAUGH and the cuckoo clock CHIMES erratically in the background.\n",
            "\n",
            "[Laugh Track]\n",
            "\n",
            "EARL: Well, what do you say? Let's give this old place a new lease on life.\n",
            "\n",
            "SOPHIE: (smiling) I'm game. As long as we keep the magic tricks to a minimum.\n",
            "\n",
            "They all LAUGH again, and begin dusting off old tools and setting up shop.\n",
            "\n",
            "[End Scene]\n"
          ]
        }
      ]
    },
    {
      "cell_type": "markdown",
      "source": [
        "### 🗂️ Adding Metadata to Vector Database\n"
      ],
      "metadata": {
        "id": "gz9sIvL5F5Fu"
      }
    },
    {
      "cell_type": "code",
      "source": [
        "# Store the generated Scene 16 script in the vector database for future retrieval and context\n",
        "store_scene_in_vector_db(\n",
        "    client=client,\n",
        "    sitcom_title=sitcom_title,\n",
        "    scene_script=scene_16_script,\n",
        "    embedding_model=embedding_model,\n",
        "    index=index,\n",
        "    vector_metadata=vector_metadata\n",
        ")"
      ],
      "metadata": {
        "id": "qjYBONVEF4jx",
        "colab": {
          "base_uri": "https://localhost:8080/"
        },
        "outputId": "28b37143-3eb8-4924-e038-aa49581919e9"
      },
      "execution_count": 127,
      "outputs": [
        {
          "output_type": "stream",
          "name": "stdout",
          "text": [
            "Total scenes stored in vector DB: 16 \n",
            "\n",
            "\n",
            "Scene 1\n",
            "Summary: In this opening scene, Jimmy, a locksmith in his mid-40s, starts his day at his shop. He begins with a quirky morning routine of trying to pick a lock with a hairpin. His cat, Whiskers, surprises him by jumping on the counter, leading to a humorous interaction involving a master key and a can of tuna. A gust of wind causes a stack of keys to fall, and Jimmy takes a tumble trying to catch them. Despite the mishap, he dusts himself off and prepares to face the day's challenges, showing his resilience and good humor.\n",
            "Characters: ['Jimmy', 'Whiskers']\n",
            "Location: Jimmy's Locksmith Shop\n",
            "Recurring Joke: Jimmy's attempts to use keys for non-lock related tasks (e.g., using the master key to open a can of tuna) and his playful banter with his cat, Whiskers, are recurring jokes.\n",
            "Emotional Tone: Humorous, Light-hearted\n",
            "\n",
            "Scene 2\n",
            "Summary: In the scene, Jimmy, a man with unconventional habits, tries to open a mysterious package with a hairpin. His cat, Whiskers, and his parrot add comedic relief with their antics. Jimmy's health-conscious roommate, Martin, walks in and jokes about Jimmy's failed attempts to feed their plant junk food. Their over-dramatic neighbor, Mrs. Jenkins, rushes in, having noticed the mysterious package from her window. She leaves disappointed when Jimmy reveals the package contains a simple hairpin set. The scene ends with Martin joking about Jimmy's obsession with hairpins, and everyone shares a laugh.\n",
            "Characters: ['Jimmy', 'Whiskers (the cat)', 'Parrot', 'Martin', 'Mrs. Jenkins']\n",
            "Location: Living Room\n",
            "Recurring Joke: The parrot repeating phrases in a humorous context (\"Out of the box, out of the box!\", \"Out of hand, out of hand!\")\n",
            "Emotional Tone: Humorous\n",
            "\n",
            "Scene 3\n",
            "Summary: In Jimmy's locksmith shop, Earl, an eccentric older man, is fascinated by an unusual lock and Jimmy's hairpin. Jimmy, a young locksmith with unconventional practices, is feeding his plant cheese puffs. They exchange humorous banter about their unique interests, with Earl expressing eagerness to share about his compost tea. Earl attempts to demonstrate an \"unbreakable\" lock, but ends up locking his fingers together. He uses Jimmy's hairpin to try and free his fingers, but accidentally flings it into Jimmy's plant pot, making a joke about it being \"lock nutrients\". The scene ends with both of them laughing at the situation.\n",
            "Characters: ['Earl', 'Jimmy']\n",
            "Location: Jimmy's Locksmith Shop\n",
            "Recurring Joke: None\n",
            "Emotional Tone: Humorous\n",
            "\n",
            "Scene 4\n",
            "Summary: In Jimmy's apartment, Jimmy finds a flamboyantly wrapped package with a ticking sound. Using a hairpin, he picks the lock, revealing an old note that brings back memories of his past mischief. His elderly neighbor, Mrs. Jenkins, enters and comments on his unchanged behavior. The note reminds Jimmy of a time he stole a zoo monkey, dressed it in a suit, and taught it to pick pockets at the county fair. His roommate, Martin, enters and joins in the reminiscing, questioning how Jimmy avoided jail. Jimmy responds with a joke about good behavior, leading to a toast to \"water under the bridge\". The scene ends with the characters laughing and reminiscing about Jimmy's past.\n",
            "Characters: ['Jimmy', 'Mrs. Jenkins', 'Martin']\n",
            "Location: Jimmy's Apartment\n",
            "Recurring Joke: Jimmy's past mischiefs and his ability to avoid jail despite them.\n",
            "Emotional Tone: Nostalgic, Humorous\n",
            "\n",
            "Scene 5\n",
            "Summary: In the scene, the bumbling yet endearing character, Earl, struggles with making coffee, misreading instructions, and even pouring coffee grounds into the water reservoir. Jimmy, a neurotic character, enters and tries to correct Earl's mistakes, even attempting to pick the lock of the coffee maker with a hairpin. Earl, in his clumsiness, accidentally glues his fingers together with a sticky sponge. Jimmy suggests Earl read the instructions on the sponge packaging, leading to more mispronunciations. Just as Jimmy successfully unlocks the coffee maker, it explodes, covering them both in coffee grounds. Despite the chaos, they find humor in the situation, ending the scene with a laugh.\n",
            "Characters: ['Earl', 'Jimmy']\n",
            "Location: Kitchen\n",
            "Recurring Joke: Earl's consistent misreading of instructions and Jimmy's attempts to correct him.\n",
            "Emotional Tone: Comical\n",
            "\n",
            "Scene 6\n",
            "Summary: In this scene at the locksmith shop, Sophie enters with the intention of making a peace offering to her father, Jimmy. She presents a box of cheese puffs, which unexpectedly explodes, covering everyone in cheese puff dust. It turns out that the explosion was due to one of Jimmy's old pranks. Despite the mess, the incident leads to a warm moment between Sophie and Jimmy, with Sophie acknowledging that she has learned from her father's prankster ways. Meanwhile, Earl, another character present in the scene, humorously comments on the unexpected events in the shop.\n",
            "Characters: ['Sophie', 'Jimmy', 'Earl']\n",
            "Location: Locksmith shop\n",
            "Recurring Joke: The recurring joke in this scene is the playful pranks between Sophie and Jimmy, which often result in unexpected chaos.\n",
            "Emotional Tone: Humorous, Warm\n",
            "\n",
            "Scene 7\n",
            "Summary: In Jimmy's apartment, Sophie and Jimmy reminisce about their past while going through old photos and memorabilia. They recall Jimmy's knack for picking locks, including a memorable incident at their school. Jimmy likens his lock-picking skills to their relationship, suggesting they were meant to be together. Sophie agrees, expressing her desire to rekindle their relationship, comparing it to cooking a stew. The old prank of a confetti bucket rigged to a string is accidentally triggered, leading to laughter and a shared moment of nostalgia. The scene ends with a mutual understanding and Jimmy's affirmation of his abilities, both in picking locks and cooking stew.\n",
            "Characters: ['Sophie', 'Jimmy']\n",
            "Location: Jimmy's Apartment\n",
            "Recurring Joke: The recurring joke in the scene is Jimmy's history of setting up pranks and his knack for picking locks, which is metaphorically extended to their relationship.\n",
            "Emotional Tone: Nostalgic, Humorous\n",
            "\n",
            "Scene 8\n",
            "Summary: In the intervention room, Earl, Sophie, and Jimmy gather around an old Christmas light banner and a precarious stool. Earl tries to explain Jimmy's prankster nature as part of their family's character, not charisma, to Sophie. He then brings up an old prank book, accidentally revealing a secret compartment in a chest. Inside, an old photo album shows Sophie's mother and Jimmy as pranksters, uniting Sophie and Jimmy in intrigue. Earl uses this to convince Sophie that pranking is part of their family, just like his mispronunciation of idioms. They all share a laugh, ending the scene on a warm note.\n",
            "Characters: ['Earl', 'Sophie', 'Jimmy']\n",
            "Location: Earl's Intervention Room\n",
            "Recurring Joke: Earl's mispronunciation of idioms and clumsiness.\n",
            "Emotional Tone: Warm\n",
            "\n",
            "Scene 9\n",
            "Summary: In the locksmith shop, Sophie is examining a lock that Jimmy has switched as a prank. Sophie successfully unlocks it, surprising Jimmy. He advises her that picking a lock requires patience and precision. Unexpectedly, Sophie locks them in the shop, leading to laughter and another lock-picking exercise. Sophie humorously compares lock picks to shoe styles, which amuses Jimmy. She successfully unlocks the door, earning Jimmy's praise. Sophie notices a new addition to the \"Customer Lock Fails\" display - a shoe-shaped lock, a nod to her earlier analogy. Their shared laughter and experiences strengthen their bond, with Sophie gaining newfound respect for Jimmy.\n",
            "Characters: ['Sophie', 'Jimmy']\n",
            "Location: Locksmith Shop\n",
            "Recurring Joke: None\n",
            "Emotional Tone: Amusing, Warm\n",
            "\n",
            "Scene 10\n",
            "Summary: In this scene, Earl, a middle-aged businessman, is in an Italian restaurant with his clumsy coworker, Jimmy. Earl is trying to juggle a personal phone call and a work issue when Jimmy accidentally spills coffee on him. This leads to a series of humorous mishaps, including Earl getting coffee on his shirt and mixing up his words. Sophie, their level-headed coworker, arrives with pizzas and helps clean up the mess. Despite the chaos, Earl appreciates his coworkers' help, highlighting their close-knit relationship. The scene ends with a warm moment of camaraderie among the trio, despite the comedic chaos.\n",
            "Characters: ['Earl', 'Jimmy', 'Sophie']\n",
            "Location: Italian Restaurant\n",
            "Recurring Joke: Earl's struggle to juggle personal and work life, leading to humorous mix-ups and accidents.\n",
            "Emotional Tone: Humorous, Warm\n",
            "\n",
            "Scene 11\n",
            "Summary: In the locksmith shop, Sophie, the quirky locksmith, and Jimmy, her meticulous assistant, engage in a playful banter. Sophie mistakenly identifies a pizza cutter as a locksmith tool, then finds an old treasure chest lock and accidentally locks herself in a makeshift cage. Jimmy, having forgotten his glasses, is guided by Sophie's convoluted instructions to unlock the cage. Despite knocking over a container of keys, Jimmy successfully unlocks the cage. They share a moment of triumph and laughter, with Sophie teasing about switching roles next time. Their shared experience strengthens their bond.\n",
            "Characters: ['Sophie', 'Jimmy']\n",
            "Location: Locksmith Shop\n",
            "Recurring Joke: Sophie's quirky misidentification of tools, Jimmy's forgetfulness about his glasses, and their shared clumsiness.\n",
            "Emotional Tone: Playful, Warm\n",
            "\n",
            "Scene 12\n",
            "Summary: In this scene, eccentric Earl and chaotic Jimmy are in a library, examining a rare lock model and using silly hats as \"thinking hats\". Earl proposes an unconventional solution to open the lock, involving his pet hamster, Mr. Nibbles. Jimmy, initially incredulous, eventually gets on board with the idea. Their loud conversation attracts the attention of a stern librarian, who reminds them to keep quiet. Just as they're about to start their plan, a microfilm reader reveals the information they needed to open the lock, rendering their plan unnecessary. They share a laugh about this, attracting the librarian's attention again, and return to their work.\n",
            "Characters: ['Earl', 'Jimmy', 'Librarian']\n",
            "Location: Library\n",
            "Recurring Joke: Earl's eccentricity and unconventional problem-solving methods, particularly his use of \"thinking hats\" and the proposed use of his pet hamster, Mr. Nibbles, to solve problems.\n",
            "Emotional Tone: Humorous\n",
            "\n",
            "Scene 13\n",
            "Summary: In a locksmith shop, Sophie and Jimmy reminisce about their past mishaps and shared experiences, highlighting their complimentary personalities. Sophie is adventurous and willing to try unconventional methods, like using a cup of coffee to open a jammed door, while Jimmy is meticulous and often the voice of reason. They tease each other about past incidents, including Jimmy's confusion of his glasses for a lock pick and Sophie's failed magician stint. A running gag involves Sophie accidentally pulling a rubber chicken out of her bag. The locksmith, amused by their banter, shares his own absurd experience of unlocking a castle with an oversized key, which leads to a shared laughter among them.\n",
            "Characters: ['Sophie', 'Jimmy', 'Locksmith']\n",
            "Location: Locksmith Shop\n",
            "Recurring Joke: Sophie accidentally pulling a rubber chicken out of her bag.\n",
            "Emotional Tone: Humorous, Nostalgic\n",
            "\n",
            "Scene 14\n",
            "Summary: In a dusty, mysterious room, Sophie, a young, lively woman, and Jimmy, an older, meticulous man, are trying to open a lock. Jimmy struggles without his glasses, which Sophie reveals she has. Once the lock is opened, Sophie finds a rubber chicken, which contains a shiny object. As they're about to examine it, a ceiling fan crashes down, causing them to drop the object under a ceramic giraffe. Jimmy shows frustration, but Sophie laughs it off, retrieving the object and joking about future treasure hunts.\n",
            "Characters: ['Sophie', 'Jimmy']\n",
            "Location: Mysterious Room\n",
            "Recurring Joke: The ceiling fan crashing down and objects skidding under the ceramic giraffe.\n",
            "Emotional Tone: Humorous\n",
            "\n",
            "Scene 15\n",
            "Summary: In Earl's shop, Earl, Sophie, and Jimmy are laughing around a counter, where Earl presents a vintage toy helicopter as a solution to their mess. Earl's misuse of idioms provides comic relief. Tina enters, tripping over a pile of books, and is roped into Earl's plan. Despite initial confusion, Sophie, Jimmy, and Tina agree to help Earl. Using the toy helicopter and Tina's loud directions, they manage to knock a stack of books back into place, reducing the chaos. The scene ends with a moment of camaraderie and laughter, as Earl's eccentric problem-solving method proves successful. The shop's familial atmosphere is highlighted, and a customer enters, adding to the normalcy of the situation.\n",
            "Characters: ['Earl', 'Sophie', 'Jimmy', 'Tina']\n",
            "Location: Earl's Shop\n",
            "Recurring Joke: Earl's incorrect usage of idioms.\n",
            "Emotional Tone: Humorous, Warm\n",
            "\n",
            "Scene 16\n",
            "Summary: Sophie, Earl, and Jimmy enter a locksmith shop, triggering nostalgic memories. They joke about Jimmy's past mishap where he locked himself in a trunk during a magic trick. This leads to a running joke about Jimmy's glasses being used to pick locks. They reminisce about the past and decide to give the shop a new lease on life, with Sophie insisting on keeping magic tricks to a minimum. The scene is filled with laughter and camaraderie, ending with them dusting off old tools and setting up shop.\n",
            "Characters: ['Sophie', 'Earl', 'Jimmy']\n",
            "Location: Locksmith Shop\n",
            "Recurring Joke: The recurring joke in the scene is about Jimmy's glasses being used to pick locks and his past mishap with a magic trick.\n",
            "Emotional Tone: Nostalgic, Humorous\n"
          ]
        }
      ]
    },
    {
      "cell_type": "markdown",
      "source": [
        "## 🎬 Scene 17 Generation\n"
      ],
      "metadata": {
        "id": "kDlTggpyCXuL"
      }
    },
    {
      "cell_type": "code",
      "source": [
        "# Extract the description for Scene 17 from the episode outline\n",
        "scene_17_desc = extract_scene(episode_outline, 17)\n",
        "print(scene_17_desc)"
      ],
      "metadata": {
        "id": "iBVxKrzpC7q7",
        "colab": {
          "base_uri": "https://localhost:8080/"
        },
        "outputId": "1de2c833-02c1-497b-aa4f-e6c677fce41a"
      },
      "execution_count": 128,
      "outputs": [
        {
          "output_type": "stream",
          "name": "stdout",
          "text": [
            "Scene 17: \"Locking Up\" As they close the shop, Jimmy, Sophie, and Earl reflect on the day's events. The atmosphere is light and reflective.\n"
          ]
        }
      ]
    },
    {
      "cell_type": "markdown",
      "source": [
        "### 🎭 Character Agent\n"
      ],
      "metadata": {
        "id": "qZsNRwSeCliI"
      }
    },
    {
      "cell_type": "code",
      "source": [
        "# Re-initialize the character agent with the updated vector metadata\n",
        "character_agent = CharacterAgent(\n",
        "    client=client,\n",
        "    vector_metadata=vector_metadata,\n",
        "    num_scenes=3\n",
        ")\n",
        "\n",
        "# Evaluate Scene 17 using the character agent and store the evaluation results\n",
        "char_histories, char_is_consistent, char_explanation, char_recommendations, char_thoughts = evaluate_character_agent_scene(\n",
        "    agent=character_agent,\n",
        "    scene_description=scene_17_desc,\n",
        "    scene_number=17\n",
        ")"
      ],
      "metadata": {
        "id": "RJF2UG3cClU2",
        "colab": {
          "base_uri": "https://localhost:8080/"
        },
        "outputId": "e51c85de-b870-4124-d54a-3bab1c010096"
      },
      "execution_count": 129,
      "outputs": [
        {
          "output_type": "stream",
          "name": "stdout",
          "text": [
            "🔁 Agent will consider the last 3 scene(s) for context.\n",
            "\n",
            "📚 Retrieving script metadata for scene(s): [14, 15, 16]\n",
            "Scene 17 — Consistency: ✅ Consistent\n",
            "\n",
            "Explanation:\n",
            "2. Short Explanation Why: The planned scene aligns with the character profiles of Jimmy, Sophie, and Earl. All three have shown a tendency to reflect on past events, shown by Jimmy's and Earl's nostalgia and Sophie's reminiscing about future adventures. Their light-hearted camaraderie in past scenes also suggests they would approach this reflective situation with humor and warmth, consistent with their established personalities.\n",
            "\n",
            "Interaction Improvement Recommendations:\n",
            "1. Sophie teases Jimmy about his meticulousness, suggesting they could have closed up faster if he wasn't so fixated on details like arranging the keys in perfect order. She could end it with a lighthearted comment, \"We might be here till Christmas at this rate, Jimmy!\" — (This interaction reflects Sophie's lively nature and her playful relationship with Jimmy, as seen in Scene 1 where she teases him about his glasses. It also mirrors Jimmy's meticulous nature shown in Scene 1 when he struggles to open a lock without his glasses.)\n",
            "2. Earl, in a nostalgic mood, brings out an old, broken lock and suggests they could fix it together. He could say, \"Remember this old guy? We could give it a new lease on life, just like the shop.\" — (This interaction builds on Earl's nostalgia shown in Scene 3 when he walks into the locksmith shop. It also references the group's cooperative nature and willingness to take on new projects together, as shown in Scene 2 when they work together to fix a mess.)\n",
            "\n",
            "Agent's Internal Thoughts:\n",
            "- Think: Identified characters ['Jimmy', 'Sophie', 'Earl'] using context from scene(s) [14, 15, 16].\n",
            "- Act: Retrieved profiles for ['Jimmy', 'Sophie', 'Earl'].\n",
            "- Observe: Scene is consistent.\n",
            "- Recommend: Provided suggestions for enhancing character dynamics.\n"
          ]
        }
      ]
    },
    {
      "cell_type": "markdown",
      "source": [
        "### 🎤 Comedic Agent\n"
      ],
      "metadata": {
        "id": "9sA9skKsC-C5"
      }
    },
    {
      "cell_type": "code",
      "source": [
        "# Re-initialize the comedy agent with the updated vector metadata\n",
        "comedic_agent = ComedicAgent(\n",
        "    client=client,\n",
        "    vector_metadata=vector_metadata,\n",
        "    num_scenes=3\n",
        ")\n",
        "\n",
        "# Evaluate Scene 17 using the comedy agent and store the evaluation results\n",
        "com_context, com_is_consistent, com_analysis_text, com_recommendations, com_thoughts = evaluate_comedic_agent_scene(\n",
        "    agent=comedic_agent,\n",
        "    scene_description=scene_17_desc,\n",
        "    scene_number=17\n",
        ")"
      ],
      "metadata": {
        "id": "vA3i7X1TC91D",
        "colab": {
          "base_uri": "https://localhost:8080/"
        },
        "outputId": "0931981f-eda3-493f-8bf2-64f68d268dc7"
      },
      "execution_count": 130,
      "outputs": [
        {
          "output_type": "stream",
          "name": "stdout",
          "text": [
            "🔁 Agent will consider the last 3 scene(s) for context.\n",
            "\n",
            "📚 Retrieving script metadata for scene(s): [14, 15, 16]\n",
            "Scene 17 — Comedic Tone: ✅ Consistent\n",
            "\n",
            "Comedic Tone Analysis:\n",
            "3. Short Explanation: The tone of reflective humor is consistent with the previous scenes. The characters are reflecting on the day's events, which is a common theme in the sitcom. The humor is light and consistent with the characters' personalities and the overall comedic tone of the show.\n",
            "\n",
            "Comedic Improvement Recommendations:\n",
            "1. [Suggestion] — As Jimmy, Sophie, and Earl are cleaning up, Jimmy struggles to balance a stack of boxes. Sophie offers to help, but he insists he's got it under control. The boxes inevitably topple over, sending merchandise rolling across the floor. The punchline: \"Well, I guess I'm not cut out for juggling after all!\" — This adds physical humor and references Jimmy's earlier failed attempt to learn juggling during their lunch break.\n",
            "2. [Suggestion] — As they're turning off the lights and locking up, Earl can't find the keys. He frantically searches around while Sophie and Jimmy look on, smirking. After a few moments of searching, Sophie pulls the keys out of her pocket, saying, \"Looking for these?\" Earl looks relieved, then sheepish, as Sophie and Jimmy laugh. This reinforces Earl's established character trait of being forgetful and adds a light-hearted end to the scene.\n",
            "\n",
            "Comedic Agent's Internal Thoughts:\n",
            "- Think: Will retrieve summaries and jokes from scene(s) [14, 15, 16] for Scene 17.\n",
            "- Act: Retrieved summaries and jokes from prior scenes.\n",
            "- Observe: Scene is consistent with prior comedic tone.\n",
            "- Recommend: Provided comedic improvements.\n"
          ]
        }
      ]
    },
    {
      "cell_type": "markdown",
      "source": [
        "### 🌆 Environment Agent\n"
      ],
      "metadata": {
        "id": "dsr_mQ5dEINO"
      }
    },
    {
      "cell_type": "code",
      "source": [
        "# Re-initialize the environment agent with the updated vector metadata\n",
        "environment_agent = EnvironmentAgent(\n",
        "    client=client,\n",
        "    vector_metadata=vector_metadata,\n",
        "    num_scenes=3\n",
        ")\n",
        "\n",
        "# Evaluate Scene 17 using the environment agent and store the evaluation results\n",
        "context, is_consistent, explanation, env_recommendations, env_thoughts = evaluate_environment_agent_scene(\n",
        "    agent=environment_agent,\n",
        "    scene_description=scene_17_desc,\n",
        "    scene_number=17\n",
        ")"
      ],
      "metadata": {
        "id": "LAy1BTL1EH-7",
        "colab": {
          "base_uri": "https://localhost:8080/"
        },
        "outputId": "e227bb1d-064f-4c62-a6fb-ecd28927b380"
      },
      "execution_count": 131,
      "outputs": [
        {
          "output_type": "stream",
          "name": "stdout",
          "text": [
            "🔁 Environment Agent will consider the last 3 scene(s) for context.\n",
            "\n",
            "📚 Retrieving script metadata for scene(s): [14, 15, 16]\n",
            "Scene 17 — Environment Transition: ✅ Consistent\n",
            "\n",
            "Explanation:\n",
            "Short Explanation: The previous scenes were all set in different types of shops or rooms that could be associated with shops. Therefore, transitioning to another shop environment is logical and believable within the context of the show.\n",
            "- Suggested Transition Setup: Not necessary.\n",
            "\n",
            "Environment Detail Suggestions:\n",
            "Environment Details Suggestions:\n",
            "- [Suggestion 1]: As the characters enter the shop, a small, quirky wind chime made of kitchen utensils hanging by the door jingles melodically. This could be a funny visual element and also add a unique sound cue to the scene.\n",
            "- [Suggestion 2]: The shop owner is seen in the background trying to manage a misbehaving parrot, which keeps trying to steal customers' purchases. This can add a humorous element to the scene, and also provide a constant background action.\n",
            "\n",
            "Environment Agent's Internal Thoughts:\n",
            "- Think: Retrieved summaries and environment context from scene(s) [14, 15, 16] for Scene 17.\n",
            "- Act: Analyzed environment features for Scene 17.\n",
            "- Observe: Scene transition is consistent.\n",
            "- Recommend: Provided environmental enhancement suggestions.\n"
          ]
        }
      ]
    },
    {
      "cell_type": "markdown",
      "source": [
        "### 🧠 Scene Planner Agent\n"
      ],
      "metadata": {
        "id": "_hLTfRU6E601"
      }
    },
    {
      "cell_type": "code",
      "source": [
        "# Generate a plan for Scene 17 by integrating recommendations from all three agents\n",
        "scene_17_plan = scene_planner_agent.plan_next_scene(\n",
        "    character_recommendations=char_recommendations,\n",
        "    comedic_recommendations=com_recommendations,\n",
        "    environment_recommendations=env_recommendations,\n",
        "    scene_number=17\n",
        ")\n",
        "\n",
        "print(scene_17_plan)"
      ],
      "metadata": {
        "id": "rH0Upn6pE6pz",
        "colab": {
          "base_uri": "https://localhost:8080/"
        },
        "outputId": "c946d615-2f59-47f3-d5fd-3893329b4ed4"
      },
      "execution_count": 132,
      "outputs": [
        {
          "output_type": "stream",
          "name": "stdout",
          "text": [
            "Scene Plan:\n",
            "Character Goals:\n",
            "- [Goal 1] Establish a playful dynamic between Sophie and Jimmy by having Sophie tease Jimmy about his obsessive attention to detail. This should be done in a way that reflects Sophie's lively nature and Jimmy's meticulous character.\n",
            "- [Goal 2] Highlight Earl's nostalgic side and the group's cooperative spirit by having Earl suggest a joint project of restoring an old, broken lock.\n",
            "\n",
            "Comedic Goal:\n",
            "- [Goal] Introduce physical humor and play on established character traits by having Jimmy struggle with a stack of boxes and Earl losing track of keys.\n",
            "\n",
            "Environment Detail:\n",
            "- [Detail] The locksmith shop should have a unique, quirky charm. This could be shown through a whimsical wind chime made from locksmith tools and a mischievous pet in the background causing light-hearted chaos.\n",
            "\n",
            "Creative Suggestion:\n",
            "- [Suggestion] The scene could naturally progress with the group deciding to stay back after closing hours to work on restoring the old lock together. This would be a bonding experience for them and could set up a sequence of humorous mishaps. The scene could end with a funny twist, such as the mischievous parrot stealing the keys they need for the old lock.\n"
          ]
        }
      ]
    },
    {
      "cell_type": "markdown",
      "source": [
        "### ✍️ Generating Scene 17 Script"
      ],
      "metadata": {
        "id": "HWtfg7iUF64m"
      }
    },
    {
      "cell_type": "code",
      "source": [
        "# Generate the full script for Scene 17 based on the structured scene plan\n",
        "scene_17_script = generate_scene(\n",
        "    client=client,\n",
        "    scene_plan=scene_17_plan,\n",
        "    scene_number=17\n",
        ")\n",
        "\n",
        "print(scene_17_script)"
      ],
      "metadata": {
        "id": "LC_u58oAF6rD",
        "colab": {
          "base_uri": "https://localhost:8080/"
        },
        "outputId": "3b0ec387-85ec-4acd-d261-5161624d090c"
      },
      "execution_count": 133,
      "outputs": [
        {
          "output_type": "stream",
          "name": "stdout",
          "text": [
            "INT. LOCKSMITH SHOP - DAY\n",
            "\n",
            "Sophie, Jimmy, and Earl are gathered around the counter. A whimsical wind chime made from locksmith tools hangs above them, clinking gently. A mischievous parrot squawks from its cage in the background.\n",
            "\n",
            "SOPHIE, holding a broken old lock:\n",
            "You know, Jimmy, I bet you could fix this thing with your eyes closed.\n",
            "\n",
            "[Laugh Track]\n",
            "\n",
            "JIMMY, blushing:\n",
            "Well, I do know my way around a lock.\n",
            "\n",
            "SOPHIE, teasing:\n",
            "Oh, you know your way around everything! You'd probably alphabetize a bowl of alphabet soup.\n",
            "\n",
            "[Laugh Track]\n",
            "\n",
            "Jimmy looks embarrassed but laughs, balancing a precarious stack of boxes. Suddenly, the top box slides off, causing Jimmy to stumble. The parrot squawks loudly in the background.\n",
            "\n",
            "[Laugh Track]\n",
            "\n",
            "EARL, chuckling:\n",
            "Now, there's an idea. We should restore this old lock together. Brings back memories of my apprenticeship.\n",
            "\n",
            "Sophie and Jimmy exchange glances, then nod.\n",
            "\n",
            "SOPHIE, excited:\n",
            "That sounds like a great idea, Earl. Let's do it!\n",
            "\n",
            "Earl pulls out a dusty box filled with old keys. He begins to sort through them but quickly loses track, muttering under his breath.\n",
            "\n",
            "[Laugh Track]\n",
            "\n",
            "Jimmy steadies his boxes and approaches the counter.\n",
            "\n",
            "JIMMY, nervously:\n",
            "I... I think we should organize the keys first.\n",
            "\n",
            "EARL, smiling:\n",
            "That's the spirit, Jimmy! You're a true locksmith. \n",
            "\n",
            "Just as they begin to work, the mischievous parrot escapes from its cage, swoops down, and steals the old key they need for the lock.\n",
            "\n",
            "[Laugh Track]\n",
            "\n",
            "SOPHIE, laughing:\n",
            "Well, it looks like we've got a little thief on our hands! \n",
            "\n",
            "They all laugh and begin to chase the parrot around the shop. The parrot squawks happily, flying just out of reach with the key in its beak.\n",
            "\n",
            "END OF SCENE.\n"
          ]
        }
      ]
    },
    {
      "cell_type": "markdown",
      "source": [
        "### 🗂️ Adding Metadata to Vector Database\n"
      ],
      "metadata": {
        "id": "V8YGw6z-F72-"
      }
    },
    {
      "cell_type": "code",
      "source": [
        "# Store the generated Scene 17 script in the vector database for future retrieval and context\n",
        "store_scene_in_vector_db(\n",
        "    client=client,\n",
        "    sitcom_title=sitcom_title,\n",
        "    scene_script=scene_17_script,\n",
        "    embedding_model=embedding_model,\n",
        "    index=index,\n",
        "    vector_metadata=vector_metadata\n",
        ")"
      ],
      "metadata": {
        "id": "QuZpr7KeF7T9",
        "colab": {
          "base_uri": "https://localhost:8080/"
        },
        "outputId": "0b5deb3f-0ac4-455d-bdc4-7950c4c822a3"
      },
      "execution_count": 134,
      "outputs": [
        {
          "output_type": "stream",
          "name": "stdout",
          "text": [
            "Total scenes stored in vector DB: 17 \n",
            "\n",
            "\n",
            "Scene 1\n",
            "Summary: In this opening scene, Jimmy, a locksmith in his mid-40s, starts his day at his shop. He begins with a quirky morning routine of trying to pick a lock with a hairpin. His cat, Whiskers, surprises him by jumping on the counter, leading to a humorous interaction involving a master key and a can of tuna. A gust of wind causes a stack of keys to fall, and Jimmy takes a tumble trying to catch them. Despite the mishap, he dusts himself off and prepares to face the day's challenges, showing his resilience and good humor.\n",
            "Characters: ['Jimmy', 'Whiskers']\n",
            "Location: Jimmy's Locksmith Shop\n",
            "Recurring Joke: Jimmy's attempts to use keys for non-lock related tasks (e.g., using the master key to open a can of tuna) and his playful banter with his cat, Whiskers, are recurring jokes.\n",
            "Emotional Tone: Humorous, Light-hearted\n",
            "\n",
            "Scene 2\n",
            "Summary: In the scene, Jimmy, a man with unconventional habits, tries to open a mysterious package with a hairpin. His cat, Whiskers, and his parrot add comedic relief with their antics. Jimmy's health-conscious roommate, Martin, walks in and jokes about Jimmy's failed attempts to feed their plant junk food. Their over-dramatic neighbor, Mrs. Jenkins, rushes in, having noticed the mysterious package from her window. She leaves disappointed when Jimmy reveals the package contains a simple hairpin set. The scene ends with Martin joking about Jimmy's obsession with hairpins, and everyone shares a laugh.\n",
            "Characters: ['Jimmy', 'Whiskers (the cat)', 'Parrot', 'Martin', 'Mrs. Jenkins']\n",
            "Location: Living Room\n",
            "Recurring Joke: The parrot repeating phrases in a humorous context (\"Out of the box, out of the box!\", \"Out of hand, out of hand!\")\n",
            "Emotional Tone: Humorous\n",
            "\n",
            "Scene 3\n",
            "Summary: In Jimmy's locksmith shop, Earl, an eccentric older man, is fascinated by an unusual lock and Jimmy's hairpin. Jimmy, a young locksmith with unconventional practices, is feeding his plant cheese puffs. They exchange humorous banter about their unique interests, with Earl expressing eagerness to share about his compost tea. Earl attempts to demonstrate an \"unbreakable\" lock, but ends up locking his fingers together. He uses Jimmy's hairpin to try and free his fingers, but accidentally flings it into Jimmy's plant pot, making a joke about it being \"lock nutrients\". The scene ends with both of them laughing at the situation.\n",
            "Characters: ['Earl', 'Jimmy']\n",
            "Location: Jimmy's Locksmith Shop\n",
            "Recurring Joke: None\n",
            "Emotional Tone: Humorous\n",
            "\n",
            "Scene 4\n",
            "Summary: In Jimmy's apartment, Jimmy finds a flamboyantly wrapped package with a ticking sound. Using a hairpin, he picks the lock, revealing an old note that brings back memories of his past mischief. His elderly neighbor, Mrs. Jenkins, enters and comments on his unchanged behavior. The note reminds Jimmy of a time he stole a zoo monkey, dressed it in a suit, and taught it to pick pockets at the county fair. His roommate, Martin, enters and joins in the reminiscing, questioning how Jimmy avoided jail. Jimmy responds with a joke about good behavior, leading to a toast to \"water under the bridge\". The scene ends with the characters laughing and reminiscing about Jimmy's past.\n",
            "Characters: ['Jimmy', 'Mrs. Jenkins', 'Martin']\n",
            "Location: Jimmy's Apartment\n",
            "Recurring Joke: Jimmy's past mischiefs and his ability to avoid jail despite them.\n",
            "Emotional Tone: Nostalgic, Humorous\n",
            "\n",
            "Scene 5\n",
            "Summary: In the scene, the bumbling yet endearing character, Earl, struggles with making coffee, misreading instructions, and even pouring coffee grounds into the water reservoir. Jimmy, a neurotic character, enters and tries to correct Earl's mistakes, even attempting to pick the lock of the coffee maker with a hairpin. Earl, in his clumsiness, accidentally glues his fingers together with a sticky sponge. Jimmy suggests Earl read the instructions on the sponge packaging, leading to more mispronunciations. Just as Jimmy successfully unlocks the coffee maker, it explodes, covering them both in coffee grounds. Despite the chaos, they find humor in the situation, ending the scene with a laugh.\n",
            "Characters: ['Earl', 'Jimmy']\n",
            "Location: Kitchen\n",
            "Recurring Joke: Earl's consistent misreading of instructions and Jimmy's attempts to correct him.\n",
            "Emotional Tone: Comical\n",
            "\n",
            "Scene 6\n",
            "Summary: In this scene at the locksmith shop, Sophie enters with the intention of making a peace offering to her father, Jimmy. She presents a box of cheese puffs, which unexpectedly explodes, covering everyone in cheese puff dust. It turns out that the explosion was due to one of Jimmy's old pranks. Despite the mess, the incident leads to a warm moment between Sophie and Jimmy, with Sophie acknowledging that she has learned from her father's prankster ways. Meanwhile, Earl, another character present in the scene, humorously comments on the unexpected events in the shop.\n",
            "Characters: ['Sophie', 'Jimmy', 'Earl']\n",
            "Location: Locksmith shop\n",
            "Recurring Joke: The recurring joke in this scene is the playful pranks between Sophie and Jimmy, which often result in unexpected chaos.\n",
            "Emotional Tone: Humorous, Warm\n",
            "\n",
            "Scene 7\n",
            "Summary: In Jimmy's apartment, Sophie and Jimmy reminisce about their past while going through old photos and memorabilia. They recall Jimmy's knack for picking locks, including a memorable incident at their school. Jimmy likens his lock-picking skills to their relationship, suggesting they were meant to be together. Sophie agrees, expressing her desire to rekindle their relationship, comparing it to cooking a stew. The old prank of a confetti bucket rigged to a string is accidentally triggered, leading to laughter and a shared moment of nostalgia. The scene ends with a mutual understanding and Jimmy's affirmation of his abilities, both in picking locks and cooking stew.\n",
            "Characters: ['Sophie', 'Jimmy']\n",
            "Location: Jimmy's Apartment\n",
            "Recurring Joke: The recurring joke in the scene is Jimmy's history of setting up pranks and his knack for picking locks, which is metaphorically extended to their relationship.\n",
            "Emotional Tone: Nostalgic, Humorous\n",
            "\n",
            "Scene 8\n",
            "Summary: In the intervention room, Earl, Sophie, and Jimmy gather around an old Christmas light banner and a precarious stool. Earl tries to explain Jimmy's prankster nature as part of their family's character, not charisma, to Sophie. He then brings up an old prank book, accidentally revealing a secret compartment in a chest. Inside, an old photo album shows Sophie's mother and Jimmy as pranksters, uniting Sophie and Jimmy in intrigue. Earl uses this to convince Sophie that pranking is part of their family, just like his mispronunciation of idioms. They all share a laugh, ending the scene on a warm note.\n",
            "Characters: ['Earl', 'Sophie', 'Jimmy']\n",
            "Location: Earl's Intervention Room\n",
            "Recurring Joke: Earl's mispronunciation of idioms and clumsiness.\n",
            "Emotional Tone: Warm\n",
            "\n",
            "Scene 9\n",
            "Summary: In the locksmith shop, Sophie is examining a lock that Jimmy has switched as a prank. Sophie successfully unlocks it, surprising Jimmy. He advises her that picking a lock requires patience and precision. Unexpectedly, Sophie locks them in the shop, leading to laughter and another lock-picking exercise. Sophie humorously compares lock picks to shoe styles, which amuses Jimmy. She successfully unlocks the door, earning Jimmy's praise. Sophie notices a new addition to the \"Customer Lock Fails\" display - a shoe-shaped lock, a nod to her earlier analogy. Their shared laughter and experiences strengthen their bond, with Sophie gaining newfound respect for Jimmy.\n",
            "Characters: ['Sophie', 'Jimmy']\n",
            "Location: Locksmith Shop\n",
            "Recurring Joke: None\n",
            "Emotional Tone: Amusing, Warm\n",
            "\n",
            "Scene 10\n",
            "Summary: In this scene, Earl, a middle-aged businessman, is in an Italian restaurant with his clumsy coworker, Jimmy. Earl is trying to juggle a personal phone call and a work issue when Jimmy accidentally spills coffee on him. This leads to a series of humorous mishaps, including Earl getting coffee on his shirt and mixing up his words. Sophie, their level-headed coworker, arrives with pizzas and helps clean up the mess. Despite the chaos, Earl appreciates his coworkers' help, highlighting their close-knit relationship. The scene ends with a warm moment of camaraderie among the trio, despite the comedic chaos.\n",
            "Characters: ['Earl', 'Jimmy', 'Sophie']\n",
            "Location: Italian Restaurant\n",
            "Recurring Joke: Earl's struggle to juggle personal and work life, leading to humorous mix-ups and accidents.\n",
            "Emotional Tone: Humorous, Warm\n",
            "\n",
            "Scene 11\n",
            "Summary: In the locksmith shop, Sophie, the quirky locksmith, and Jimmy, her meticulous assistant, engage in a playful banter. Sophie mistakenly identifies a pizza cutter as a locksmith tool, then finds an old treasure chest lock and accidentally locks herself in a makeshift cage. Jimmy, having forgotten his glasses, is guided by Sophie's convoluted instructions to unlock the cage. Despite knocking over a container of keys, Jimmy successfully unlocks the cage. They share a moment of triumph and laughter, with Sophie teasing about switching roles next time. Their shared experience strengthens their bond.\n",
            "Characters: ['Sophie', 'Jimmy']\n",
            "Location: Locksmith Shop\n",
            "Recurring Joke: Sophie's quirky misidentification of tools, Jimmy's forgetfulness about his glasses, and their shared clumsiness.\n",
            "Emotional Tone: Playful, Warm\n",
            "\n",
            "Scene 12\n",
            "Summary: In this scene, eccentric Earl and chaotic Jimmy are in a library, examining a rare lock model and using silly hats as \"thinking hats\". Earl proposes an unconventional solution to open the lock, involving his pet hamster, Mr. Nibbles. Jimmy, initially incredulous, eventually gets on board with the idea. Their loud conversation attracts the attention of a stern librarian, who reminds them to keep quiet. Just as they're about to start their plan, a microfilm reader reveals the information they needed to open the lock, rendering their plan unnecessary. They share a laugh about this, attracting the librarian's attention again, and return to their work.\n",
            "Characters: ['Earl', 'Jimmy', 'Librarian']\n",
            "Location: Library\n",
            "Recurring Joke: Earl's eccentricity and unconventional problem-solving methods, particularly his use of \"thinking hats\" and the proposed use of his pet hamster, Mr. Nibbles, to solve problems.\n",
            "Emotional Tone: Humorous\n",
            "\n",
            "Scene 13\n",
            "Summary: In a locksmith shop, Sophie and Jimmy reminisce about their past mishaps and shared experiences, highlighting their complimentary personalities. Sophie is adventurous and willing to try unconventional methods, like using a cup of coffee to open a jammed door, while Jimmy is meticulous and often the voice of reason. They tease each other about past incidents, including Jimmy's confusion of his glasses for a lock pick and Sophie's failed magician stint. A running gag involves Sophie accidentally pulling a rubber chicken out of her bag. The locksmith, amused by their banter, shares his own absurd experience of unlocking a castle with an oversized key, which leads to a shared laughter among them.\n",
            "Characters: ['Sophie', 'Jimmy', 'Locksmith']\n",
            "Location: Locksmith Shop\n",
            "Recurring Joke: Sophie accidentally pulling a rubber chicken out of her bag.\n",
            "Emotional Tone: Humorous, Nostalgic\n",
            "\n",
            "Scene 14\n",
            "Summary: In a dusty, mysterious room, Sophie, a young, lively woman, and Jimmy, an older, meticulous man, are trying to open a lock. Jimmy struggles without his glasses, which Sophie reveals she has. Once the lock is opened, Sophie finds a rubber chicken, which contains a shiny object. As they're about to examine it, a ceiling fan crashes down, causing them to drop the object under a ceramic giraffe. Jimmy shows frustration, but Sophie laughs it off, retrieving the object and joking about future treasure hunts.\n",
            "Characters: ['Sophie', 'Jimmy']\n",
            "Location: Mysterious Room\n",
            "Recurring Joke: The ceiling fan crashing down and objects skidding under the ceramic giraffe.\n",
            "Emotional Tone: Humorous\n",
            "\n",
            "Scene 15\n",
            "Summary: In Earl's shop, Earl, Sophie, and Jimmy are laughing around a counter, where Earl presents a vintage toy helicopter as a solution to their mess. Earl's misuse of idioms provides comic relief. Tina enters, tripping over a pile of books, and is roped into Earl's plan. Despite initial confusion, Sophie, Jimmy, and Tina agree to help Earl. Using the toy helicopter and Tina's loud directions, they manage to knock a stack of books back into place, reducing the chaos. The scene ends with a moment of camaraderie and laughter, as Earl's eccentric problem-solving method proves successful. The shop's familial atmosphere is highlighted, and a customer enters, adding to the normalcy of the situation.\n",
            "Characters: ['Earl', 'Sophie', 'Jimmy', 'Tina']\n",
            "Location: Earl's Shop\n",
            "Recurring Joke: Earl's incorrect usage of idioms.\n",
            "Emotional Tone: Humorous, Warm\n",
            "\n",
            "Scene 16\n",
            "Summary: Sophie, Earl, and Jimmy enter a locksmith shop, triggering nostalgic memories. They joke about Jimmy's past mishap where he locked himself in a trunk during a magic trick. This leads to a running joke about Jimmy's glasses being used to pick locks. They reminisce about the past and decide to give the shop a new lease on life, with Sophie insisting on keeping magic tricks to a minimum. The scene is filled with laughter and camaraderie, ending with them dusting off old tools and setting up shop.\n",
            "Characters: ['Sophie', 'Earl', 'Jimmy']\n",
            "Location: Locksmith Shop\n",
            "Recurring Joke: The recurring joke in the scene is about Jimmy's glasses being used to pick locks and his past mishap with a magic trick.\n",
            "Emotional Tone: Nostalgic, Humorous\n",
            "\n",
            "Scene 17\n",
            "Summary: In the locksmith shop, Sophie, Jimmy, and Earl engage in friendly banter, with Sophie teasing Jimmy about his meticulous nature. When Jimmy stumbles with a stack of boxes, Earl suggests they restore an old lock together, reminiscing about his apprenticeship. They agree, but Earl gets sidetracked while sorting through old keys. Jimmy suggests organizing the keys first, earning praise from Earl. However, their task is interrupted when the shop's mischievous parrot steals the key they need for the lock, leading to a playful chase around the shop.\n",
            "Characters: ['Sophie', 'Jimmy', 'Earl']\n",
            "Location: Locksmith Shop\n",
            "Recurring Joke: Sophie's teasing of Jimmy's meticulous nature and the parrot's mischievous behavior.\n",
            "Emotional Tone: Humorous\n"
          ]
        }
      ]
    },
    {
      "cell_type": "markdown",
      "source": [
        "## 🎬 Scene 18 Generation\n"
      ],
      "metadata": {
        "id": "506mYfm5CY4f"
      }
    },
    {
      "cell_type": "code",
      "source": [
        "# Extract the description for Scene 18 from the episode outline\n",
        "scene_18_desc = extract_scene(episode_outline, 18)\n",
        "print(scene_18_desc)"
      ],
      "metadata": {
        "id": "KZSuYz7PCmqh",
        "colab": {
          "base_uri": "https://localhost:8080/"
        },
        "outputId": "b6807838-c7db-439f-db05-0d48cb57e50d"
      },
      "execution_count": 135,
      "outputs": [
        {
          "output_type": "stream",
          "name": "stdout",
          "text": [
            "Scene 18: \"Earl's Surprise\" Earl reveals his personal issue has been resolved in an unexpected way. The scene is surprising and comical.\n"
          ]
        }
      ]
    },
    {
      "cell_type": "markdown",
      "source": [
        "### 🎭 Character Agent\n"
      ],
      "metadata": {
        "id": "u5zwaAC0Cm6C"
      }
    },
    {
      "cell_type": "code",
      "source": [
        "# Re-initialize the character agent with the updated vector metadata\n",
        "character_agent = CharacterAgent(\n",
        "    client=client,\n",
        "    vector_metadata=vector_metadata,\n",
        "    num_scenes=3\n",
        ")\n",
        "\n",
        "# Evaluate Scene 18 using the character agent and store the evaluation results\n",
        "char_histories, char_is_consistent, char_explanation, char_recommendations, char_thoughts = evaluate_character_agent_scene(\n",
        "    agent=character_agent,\n",
        "    scene_description=scene_18_desc,\n",
        "    scene_number=18\n",
        ")"
      ],
      "metadata": {
        "id": "ywc-xqRkw5WQ",
        "colab": {
          "base_uri": "https://localhost:8080/"
        },
        "outputId": "e9a92449-8690-4c68-9f6a-a16df751a999"
      },
      "execution_count": 136,
      "outputs": [
        {
          "output_type": "stream",
          "name": "stdout",
          "text": [
            "🔁 Agent will consider the last 3 scene(s) for context.\n",
            "\n",
            "📚 Retrieving script metadata for scene(s): [15, 16, 17]\n",
            "Scene 18 — Consistency: ✅ Consistent\n",
            "\n",
            "Explanation:\n",
            "2. Short Explanation Why: Earl's personality is consistent with his established traits. His resolution of a personal issue in an unexpected way aligns with his problem-solving trait, as well as his eccentricity. The comedic nature of the scene is in line with his jovial personality. His dialogue and actions, if centered around his idiosyncratic use of idioms and nostalgic reminiscences, would also be consistent. Without specifics, it's hard to determine whether there are any contradictions or missing motivations.\n",
            "\n",
            "Interaction Improvement Recommendations:\n",
            "1. Earl, in his typical eccentric fashion, uses a toy helicopter to drop an envelope from the air revealing that his personal issue has been resolved. The group laughs and congratulates him, Sophie teases him about his dramatic reveal — (This interaction is in line with Earl's problem-solving nature and eccentricity as demonstrated in Scene 1. It also reinforces the close-knit relationship and camaraderie among the group.)\n",
            "2. During the celebration, Earl misuses an idiom which causes everyone to laugh. Tina, in a friendly manner, corrects him but Earl brushes it off with a nostalgic story about the idiom's origin, getting sidetracked once again — (This interaction is consistent with Earl's running joke of misusing idioms from Scene 1, and his tendency to get sidetracked as shown in Scene 3. It also underscores the jovial and familial relationship among the characters.)\n",
            "\n",
            "Agent's Internal Thoughts:\n",
            "- Think: Identified characters ['Earl'] using context from scene(s) [15, 16, 17].\n",
            "- Act: Retrieved profiles for ['Earl'].\n",
            "- Observe: Scene is consistent.\n",
            "- Recommend: Provided suggestions for enhancing character dynamics.\n"
          ]
        }
      ]
    },
    {
      "cell_type": "markdown",
      "source": [
        "### 🎤 Comedic Agent\n"
      ],
      "metadata": {
        "id": "wGzGfvADC_K6"
      }
    },
    {
      "cell_type": "code",
      "source": [
        "# Re-initialize the comedy agent with the updated vector metadata\n",
        "comedic_agent = ComedicAgent(\n",
        "    client=client,\n",
        "    vector_metadata=vector_metadata,\n",
        "    num_scenes=3\n",
        ")\n",
        "\n",
        "# Evaluate Scene 18 using the comedy agent and store the evaluation results\n",
        "com_context, com_is_consistent, com_analysis_text, com_recommendations, com_thoughts = evaluate_comedic_agent_scene(\n",
        "    agent=comedic_agent,\n",
        "    scene_description=scene_18_desc,\n",
        "    scene_number=18\n",
        ")"
      ],
      "metadata": {
        "id": "595MiDbxC--A",
        "colab": {
          "base_uri": "https://localhost:8080/"
        },
        "outputId": "f4df4583-ec57-4443-c882-b5f22a110d03"
      },
      "execution_count": 137,
      "outputs": [
        {
          "output_type": "stream",
          "name": "stdout",
          "text": [
            "🔁 Agent will consider the last 3 scene(s) for context.\n",
            "\n",
            "📚 Retrieving script metadata for scene(s): [15, 16, 17]\n",
            "Scene 18 — Comedic Tone: ❌ Inconsistent\n",
            "\n",
            "Comedic Tone Analysis:\n",
            "3. Short Explanation: The scene description suggests a continuation of the comedic and surprising tone that has been consistent throughout the previous scenes. The characters' camaraderie and humor are expected to continue in this scene.\n",
            "\n",
            "Comedic Improvement Recommendations:\n",
            "1. [Suggestion] — Have Earl initially dodge the question about how his personal issue was resolved. He could use humor and diversion tactics to avoid answering, such as saying, \"Well, you know, it's a funny story. It all started with a banana peel and a pair of roller skates...\" Then, when pressed, he reveals the surprising resolution in a nonchalant manner. This builds on Earl's character trait of using humor to deflect from personal matters, established in prior scenes. \n",
            "2. [Suggestion] — Introduce a light running joke about Earl's outrageous problem-solving methods. After revealing how he resolved his issue, the other characters could react with disbelief and comments like, \"Only Earl could fix a problem with a rubber chicken and a unicycle!\" This reinforces the comedic tone while tying into the characters' established understanding of Earl's unconventional approach to life.\n",
            "\n",
            "Comedic Agent's Internal Thoughts:\n",
            "- Think: Will retrieve summaries and jokes from scene(s) [15, 16, 17] for Scene 18.\n",
            "- Act: Retrieved summaries and jokes from prior scenes.\n",
            "- Observe: Scene is inconsistent with prior comedic tone.\n",
            "- Recommend: Provided comedic improvements.\n"
          ]
        }
      ]
    },
    {
      "cell_type": "markdown",
      "source": [
        "### 🌆 Environment Agent\n"
      ],
      "metadata": {
        "id": "MoK_5PEgEK5k"
      }
    },
    {
      "cell_type": "code",
      "source": [
        "# Re-initialize the environment agent with the updated vector metadata\n",
        "environment_agent = EnvironmentAgent(\n",
        "    client=client,\n",
        "    vector_metadata=vector_metadata,\n",
        "    num_scenes=3\n",
        ")\n",
        "\n",
        "# Evaluate Scene 18 using the environment agent and store the evaluation results\n",
        "context, is_consistent, explanation, env_recommendations, env_thoughts = evaluate_environment_agent_scene(\n",
        "    agent=environment_agent,\n",
        "    scene_description=scene_18_desc,\n",
        "    scene_number=18\n",
        ")"
      ],
      "metadata": {
        "id": "zuv0QEGYEKqm",
        "colab": {
          "base_uri": "https://localhost:8080/"
        },
        "outputId": "f17feaa3-9d7a-42f3-f829-9815a476dbc0"
      },
      "execution_count": 138,
      "outputs": [
        {
          "output_type": "stream",
          "name": "stdout",
          "text": [
            "🔁 Environment Agent will consider the last 3 scene(s) for context.\n",
            "\n",
            "📚 Retrieving script metadata for scene(s): [15, 16, 17]\n",
            "Scene 18 — Environment Transition: ✅ Consistent\n",
            "\n",
            "Explanation:\n",
            "Short Explanation: The transition from the locksmith shop to the local police station is logical. It could be that the characters needed to report a theft or a break-in, which is why they were at the locksmith's in the first place. The sequence of events makes sense in the context of the show. \n",
            "- Suggested Transition Setup: Not necessary.\n",
            "\n",
            "Environment Detail Suggestions:\n",
            "Environment Details Suggestions:\n",
            "- As the characters enter the police station, a cop walks by with a donut in one hand and a coffee in the other, accidentally bumping into one of the characters and spilling a bit of coffee on them.\n",
            "- The faint sound of a police radio can be heard in the background, occasionally interrupted by the loud ringing of the station's landline phone.\n",
            "\n",
            "Environment Agent's Internal Thoughts:\n",
            "- Think: Retrieved summaries and environment context from scene(s) [15, 16, 17] for Scene 18.\n",
            "- Act: Analyzed environment features for Scene 18.\n",
            "- Observe: Scene transition is consistent.\n",
            "- Recommend: Provided environmental enhancement suggestions.\n"
          ]
        }
      ]
    },
    {
      "cell_type": "markdown",
      "source": [
        "### 🧠 Scene Planner Agent\n"
      ],
      "metadata": {
        "id": "zWjvXBhSE8IJ"
      }
    },
    {
      "cell_type": "code",
      "source": [
        "# Generate a plan for Scene 18 by integrating recommendations from all three agents\n",
        "scene_18_plan = scene_planner_agent.plan_next_scene(\n",
        "    character_recommendations=char_recommendations,\n",
        "    comedic_recommendations=com_recommendations,\n",
        "    environment_recommendations=env_recommendations,\n",
        "    scene_number=18\n",
        ")\n",
        "\n",
        "print(scene_18_plan)"
      ],
      "metadata": {
        "id": "1F-FcHkTE735",
        "colab": {
          "base_uri": "https://localhost:8080/"
        },
        "outputId": "62766707-7a4d-454a-bee5-256b58e9a1e0"
      },
      "execution_count": 139,
      "outputs": [
        {
          "output_type": "stream",
          "name": "stdout",
          "text": [
            "Scene Plan:\n",
            "Character Goals:\n",
            "- [Goal 1] Earl should creatively reveal his personal issue resolution using an unexpected prop (a toy helicopter), demonstrating his quirkiness and problem-solving nature.\n",
            "- [Goal 2] During the group's celebration, Earl should misuse an idiom, leading to a humorous correction from Tina and a nostalgic, sidetracking story from Earl that underscores the warm, familial dynamics between the characters.\n",
            "\n",
            "Comedic Goal:\n",
            "- [Goal] Earl should initially dodge questions about how he resolved his personal issue using humor and diversion, then nonchalantly reveal the surprising solution. Integrate a running joke about Earl's unorthodox problem-solving methods, drawing disbelief and humor from other characters.\n",
            "\n",
            "Environment Detail:\n",
            "- [Detail] In the police station, an officer is seen struggling to manage a stack of paperwork, adding to the bustling ambiance. The papers topple over, causing a moment of slapstick comedy.\n",
            "\n",
            "Creative Suggestion:\n",
            "- [Suggestion] As the group enters the police station, they're jostled by the busy environment. Earl, distracted by the chaos, stumbles into the scene with his toy helicopter, triggering the envelope drop and the reveal of his problem resolution. This leads to group laughter, idiom misuse, and a shared story. During this, the running joke about Earl's unconventional problem-solving methods is introduced. Amidst the humor, the station's landline rings, offering a segue into the next scene or plot development.\n"
          ]
        }
      ]
    },
    {
      "cell_type": "markdown",
      "source": [
        "### ✍️ Generating Scene 18 Script"
      ],
      "metadata": {
        "id": "vs1dQuUkF_1I"
      }
    },
    {
      "cell_type": "code",
      "source": [
        "# Generate the full script for Scene 18 based on the structured scene plan\n",
        "scene_18_script = generate_scene(\n",
        "    client=client,\n",
        "    scene_plan=scene_18_plan,\n",
        "    scene_number=18\n",
        ")\n",
        "\n",
        "print(scene_18_script)"
      ],
      "metadata": {
        "id": "YsukRwVEF_oK",
        "colab": {
          "base_uri": "https://localhost:8080/"
        },
        "outputId": "e2a9ee47-6be2-4c92-857e-2ac811bf5ede"
      },
      "execution_count": 140,
      "outputs": [
        {
          "output_type": "stream",
          "name": "stdout",
          "text": [
            "INT. POLICE STATION - DAY\n",
            "\n",
            "[The group enters the busy station. A police OFFICER struggles with a stack of paperwork, which topples over.]\n",
            "\n",
            "[Laugh Track]\n",
            "\n",
            "EARL, distracted, stumbles in holding a toy helicopter.\n",
            "\n",
            "TINA: Earl, what's with the toy helicopter?\n",
            "\n",
            "EARL: Oh, this little thing? Just a...uh...a stress reliever. \n",
            "\n",
            "[Laugh Track]\n",
            "\n",
            "TINA: And how exactly does that relieve your stress?\n",
            "\n",
            "EARL: Well, it's a long story...\n",
            "\n",
            "TINA: More like a tall tale.\n",
            "\n",
            "[Laugh Track]\n",
            "\n",
            "EARL: Okay, okay. It actually helped me solve a problem.\n",
            "\n",
            "TINA: Really? How?\n",
            "\n",
            "EARL: Well, I tied my unpaid parking tickets to it and flew it straight into the payment window.\n",
            "\n",
            "[Laugh Track]\n",
            "\n",
            "TINA: You're kidding, right?\n",
            "\n",
            "EARL: Not at all. You know I have a knack for unconventional problem-solving.\n",
            "\n",
            "TINA: That's one way to put it...\n",
            "\n",
            "[Laugh Track]\n",
            "\n",
            "OFFICER: (on phone) Yes, that's correct. A toy helicopter delivered the payment.\n",
            "\n",
            "[Group laughs]\n",
            "\n",
            "EARL: I guess you could say, I killed two stones with one bird.\n",
            "\n",
            "TINA: (laughs) Earl, it's \"kill two birds with one stone.\"\n",
            "\n",
            "EARL: Is it? I always thought it was about a really strong bird...\n",
            "\n",
            "[Laugh Track]\n",
            "\n",
            "EARL: Reminds me of the time I used a parrot to break up with my ex...\n",
            "\n",
            "TINA: (laughs) I remember that! She wasn't too thrilled about receiving a \"Polly wants a breakup\" message.\n",
            "\n",
            "[Group laughs]\n",
            "\n",
            "[Landline rings]\n",
            "\n",
            "OFFICER: (picks up phone) Yes, this is the station...\n",
            "\n",
            "[Scene ends]\n"
          ]
        }
      ]
    },
    {
      "cell_type": "markdown",
      "source": [
        "### 🗂️ Adding Metadata to Vector Database\n"
      ],
      "metadata": {
        "id": "0nT5kQtVGApP"
      }
    },
    {
      "cell_type": "code",
      "source": [
        "# Store the generated Scene 18 script in the vector database for future retrieval and context\n",
        "store_scene_in_vector_db(\n",
        "    client=client,\n",
        "    sitcom_title=sitcom_title,\n",
        "    scene_script=scene_18_script,\n",
        "    embedding_model=embedding_model,\n",
        "    index=index,\n",
        "    vector_metadata=vector_metadata\n",
        ")"
      ],
      "metadata": {
        "id": "0nKtd3gpGATa",
        "colab": {
          "base_uri": "https://localhost:8080/"
        },
        "outputId": "20ddfe00-b567-4bda-8091-d9434ab9cdb7"
      },
      "execution_count": 141,
      "outputs": [
        {
          "output_type": "stream",
          "name": "stdout",
          "text": [
            "Total scenes stored in vector DB: 18 \n",
            "\n",
            "\n",
            "Scene 1\n",
            "Summary: In this opening scene, Jimmy, a locksmith in his mid-40s, starts his day at his shop. He begins with a quirky morning routine of trying to pick a lock with a hairpin. His cat, Whiskers, surprises him by jumping on the counter, leading to a humorous interaction involving a master key and a can of tuna. A gust of wind causes a stack of keys to fall, and Jimmy takes a tumble trying to catch them. Despite the mishap, he dusts himself off and prepares to face the day's challenges, showing his resilience and good humor.\n",
            "Characters: ['Jimmy', 'Whiskers']\n",
            "Location: Jimmy's Locksmith Shop\n",
            "Recurring Joke: Jimmy's attempts to use keys for non-lock related tasks (e.g., using the master key to open a can of tuna) and his playful banter with his cat, Whiskers, are recurring jokes.\n",
            "Emotional Tone: Humorous, Light-hearted\n",
            "\n",
            "Scene 2\n",
            "Summary: In the scene, Jimmy, a man with unconventional habits, tries to open a mysterious package with a hairpin. His cat, Whiskers, and his parrot add comedic relief with their antics. Jimmy's health-conscious roommate, Martin, walks in and jokes about Jimmy's failed attempts to feed their plant junk food. Their over-dramatic neighbor, Mrs. Jenkins, rushes in, having noticed the mysterious package from her window. She leaves disappointed when Jimmy reveals the package contains a simple hairpin set. The scene ends with Martin joking about Jimmy's obsession with hairpins, and everyone shares a laugh.\n",
            "Characters: ['Jimmy', 'Whiskers (the cat)', 'Parrot', 'Martin', 'Mrs. Jenkins']\n",
            "Location: Living Room\n",
            "Recurring Joke: The parrot repeating phrases in a humorous context (\"Out of the box, out of the box!\", \"Out of hand, out of hand!\")\n",
            "Emotional Tone: Humorous\n",
            "\n",
            "Scene 3\n",
            "Summary: In Jimmy's locksmith shop, Earl, an eccentric older man, is fascinated by an unusual lock and Jimmy's hairpin. Jimmy, a young locksmith with unconventional practices, is feeding his plant cheese puffs. They exchange humorous banter about their unique interests, with Earl expressing eagerness to share about his compost tea. Earl attempts to demonstrate an \"unbreakable\" lock, but ends up locking his fingers together. He uses Jimmy's hairpin to try and free his fingers, but accidentally flings it into Jimmy's plant pot, making a joke about it being \"lock nutrients\". The scene ends with both of them laughing at the situation.\n",
            "Characters: ['Earl', 'Jimmy']\n",
            "Location: Jimmy's Locksmith Shop\n",
            "Recurring Joke: None\n",
            "Emotional Tone: Humorous\n",
            "\n",
            "Scene 4\n",
            "Summary: In Jimmy's apartment, Jimmy finds a flamboyantly wrapped package with a ticking sound. Using a hairpin, he picks the lock, revealing an old note that brings back memories of his past mischief. His elderly neighbor, Mrs. Jenkins, enters and comments on his unchanged behavior. The note reminds Jimmy of a time he stole a zoo monkey, dressed it in a suit, and taught it to pick pockets at the county fair. His roommate, Martin, enters and joins in the reminiscing, questioning how Jimmy avoided jail. Jimmy responds with a joke about good behavior, leading to a toast to \"water under the bridge\". The scene ends with the characters laughing and reminiscing about Jimmy's past.\n",
            "Characters: ['Jimmy', 'Mrs. Jenkins', 'Martin']\n",
            "Location: Jimmy's Apartment\n",
            "Recurring Joke: Jimmy's past mischiefs and his ability to avoid jail despite them.\n",
            "Emotional Tone: Nostalgic, Humorous\n",
            "\n",
            "Scene 5\n",
            "Summary: In the scene, the bumbling yet endearing character, Earl, struggles with making coffee, misreading instructions, and even pouring coffee grounds into the water reservoir. Jimmy, a neurotic character, enters and tries to correct Earl's mistakes, even attempting to pick the lock of the coffee maker with a hairpin. Earl, in his clumsiness, accidentally glues his fingers together with a sticky sponge. Jimmy suggests Earl read the instructions on the sponge packaging, leading to more mispronunciations. Just as Jimmy successfully unlocks the coffee maker, it explodes, covering them both in coffee grounds. Despite the chaos, they find humor in the situation, ending the scene with a laugh.\n",
            "Characters: ['Earl', 'Jimmy']\n",
            "Location: Kitchen\n",
            "Recurring Joke: Earl's consistent misreading of instructions and Jimmy's attempts to correct him.\n",
            "Emotional Tone: Comical\n",
            "\n",
            "Scene 6\n",
            "Summary: In this scene at the locksmith shop, Sophie enters with the intention of making a peace offering to her father, Jimmy. She presents a box of cheese puffs, which unexpectedly explodes, covering everyone in cheese puff dust. It turns out that the explosion was due to one of Jimmy's old pranks. Despite the mess, the incident leads to a warm moment between Sophie and Jimmy, with Sophie acknowledging that she has learned from her father's prankster ways. Meanwhile, Earl, another character present in the scene, humorously comments on the unexpected events in the shop.\n",
            "Characters: ['Sophie', 'Jimmy', 'Earl']\n",
            "Location: Locksmith shop\n",
            "Recurring Joke: The recurring joke in this scene is the playful pranks between Sophie and Jimmy, which often result in unexpected chaos.\n",
            "Emotional Tone: Humorous, Warm\n",
            "\n",
            "Scene 7\n",
            "Summary: In Jimmy's apartment, Sophie and Jimmy reminisce about their past while going through old photos and memorabilia. They recall Jimmy's knack for picking locks, including a memorable incident at their school. Jimmy likens his lock-picking skills to their relationship, suggesting they were meant to be together. Sophie agrees, expressing her desire to rekindle their relationship, comparing it to cooking a stew. The old prank of a confetti bucket rigged to a string is accidentally triggered, leading to laughter and a shared moment of nostalgia. The scene ends with a mutual understanding and Jimmy's affirmation of his abilities, both in picking locks and cooking stew.\n",
            "Characters: ['Sophie', 'Jimmy']\n",
            "Location: Jimmy's Apartment\n",
            "Recurring Joke: The recurring joke in the scene is Jimmy's history of setting up pranks and his knack for picking locks, which is metaphorically extended to their relationship.\n",
            "Emotional Tone: Nostalgic, Humorous\n",
            "\n",
            "Scene 8\n",
            "Summary: In the intervention room, Earl, Sophie, and Jimmy gather around an old Christmas light banner and a precarious stool. Earl tries to explain Jimmy's prankster nature as part of their family's character, not charisma, to Sophie. He then brings up an old prank book, accidentally revealing a secret compartment in a chest. Inside, an old photo album shows Sophie's mother and Jimmy as pranksters, uniting Sophie and Jimmy in intrigue. Earl uses this to convince Sophie that pranking is part of their family, just like his mispronunciation of idioms. They all share a laugh, ending the scene on a warm note.\n",
            "Characters: ['Earl', 'Sophie', 'Jimmy']\n",
            "Location: Earl's Intervention Room\n",
            "Recurring Joke: Earl's mispronunciation of idioms and clumsiness.\n",
            "Emotional Tone: Warm\n",
            "\n",
            "Scene 9\n",
            "Summary: In the locksmith shop, Sophie is examining a lock that Jimmy has switched as a prank. Sophie successfully unlocks it, surprising Jimmy. He advises her that picking a lock requires patience and precision. Unexpectedly, Sophie locks them in the shop, leading to laughter and another lock-picking exercise. Sophie humorously compares lock picks to shoe styles, which amuses Jimmy. She successfully unlocks the door, earning Jimmy's praise. Sophie notices a new addition to the \"Customer Lock Fails\" display - a shoe-shaped lock, a nod to her earlier analogy. Their shared laughter and experiences strengthen their bond, with Sophie gaining newfound respect for Jimmy.\n",
            "Characters: ['Sophie', 'Jimmy']\n",
            "Location: Locksmith Shop\n",
            "Recurring Joke: None\n",
            "Emotional Tone: Amusing, Warm\n",
            "\n",
            "Scene 10\n",
            "Summary: In this scene, Earl, a middle-aged businessman, is in an Italian restaurant with his clumsy coworker, Jimmy. Earl is trying to juggle a personal phone call and a work issue when Jimmy accidentally spills coffee on him. This leads to a series of humorous mishaps, including Earl getting coffee on his shirt and mixing up his words. Sophie, their level-headed coworker, arrives with pizzas and helps clean up the mess. Despite the chaos, Earl appreciates his coworkers' help, highlighting their close-knit relationship. The scene ends with a warm moment of camaraderie among the trio, despite the comedic chaos.\n",
            "Characters: ['Earl', 'Jimmy', 'Sophie']\n",
            "Location: Italian Restaurant\n",
            "Recurring Joke: Earl's struggle to juggle personal and work life, leading to humorous mix-ups and accidents.\n",
            "Emotional Tone: Humorous, Warm\n",
            "\n",
            "Scene 11\n",
            "Summary: In the locksmith shop, Sophie, the quirky locksmith, and Jimmy, her meticulous assistant, engage in a playful banter. Sophie mistakenly identifies a pizza cutter as a locksmith tool, then finds an old treasure chest lock and accidentally locks herself in a makeshift cage. Jimmy, having forgotten his glasses, is guided by Sophie's convoluted instructions to unlock the cage. Despite knocking over a container of keys, Jimmy successfully unlocks the cage. They share a moment of triumph and laughter, with Sophie teasing about switching roles next time. Their shared experience strengthens their bond.\n",
            "Characters: ['Sophie', 'Jimmy']\n",
            "Location: Locksmith Shop\n",
            "Recurring Joke: Sophie's quirky misidentification of tools, Jimmy's forgetfulness about his glasses, and their shared clumsiness.\n",
            "Emotional Tone: Playful, Warm\n",
            "\n",
            "Scene 12\n",
            "Summary: In this scene, eccentric Earl and chaotic Jimmy are in a library, examining a rare lock model and using silly hats as \"thinking hats\". Earl proposes an unconventional solution to open the lock, involving his pet hamster, Mr. Nibbles. Jimmy, initially incredulous, eventually gets on board with the idea. Their loud conversation attracts the attention of a stern librarian, who reminds them to keep quiet. Just as they're about to start their plan, a microfilm reader reveals the information they needed to open the lock, rendering their plan unnecessary. They share a laugh about this, attracting the librarian's attention again, and return to their work.\n",
            "Characters: ['Earl', 'Jimmy', 'Librarian']\n",
            "Location: Library\n",
            "Recurring Joke: Earl's eccentricity and unconventional problem-solving methods, particularly his use of \"thinking hats\" and the proposed use of his pet hamster, Mr. Nibbles, to solve problems.\n",
            "Emotional Tone: Humorous\n",
            "\n",
            "Scene 13\n",
            "Summary: In a locksmith shop, Sophie and Jimmy reminisce about their past mishaps and shared experiences, highlighting their complimentary personalities. Sophie is adventurous and willing to try unconventional methods, like using a cup of coffee to open a jammed door, while Jimmy is meticulous and often the voice of reason. They tease each other about past incidents, including Jimmy's confusion of his glasses for a lock pick and Sophie's failed magician stint. A running gag involves Sophie accidentally pulling a rubber chicken out of her bag. The locksmith, amused by their banter, shares his own absurd experience of unlocking a castle with an oversized key, which leads to a shared laughter among them.\n",
            "Characters: ['Sophie', 'Jimmy', 'Locksmith']\n",
            "Location: Locksmith Shop\n",
            "Recurring Joke: Sophie accidentally pulling a rubber chicken out of her bag.\n",
            "Emotional Tone: Humorous, Nostalgic\n",
            "\n",
            "Scene 14\n",
            "Summary: In a dusty, mysterious room, Sophie, a young, lively woman, and Jimmy, an older, meticulous man, are trying to open a lock. Jimmy struggles without his glasses, which Sophie reveals she has. Once the lock is opened, Sophie finds a rubber chicken, which contains a shiny object. As they're about to examine it, a ceiling fan crashes down, causing them to drop the object under a ceramic giraffe. Jimmy shows frustration, but Sophie laughs it off, retrieving the object and joking about future treasure hunts.\n",
            "Characters: ['Sophie', 'Jimmy']\n",
            "Location: Mysterious Room\n",
            "Recurring Joke: The ceiling fan crashing down and objects skidding under the ceramic giraffe.\n",
            "Emotional Tone: Humorous\n",
            "\n",
            "Scene 15\n",
            "Summary: In Earl's shop, Earl, Sophie, and Jimmy are laughing around a counter, where Earl presents a vintage toy helicopter as a solution to their mess. Earl's misuse of idioms provides comic relief. Tina enters, tripping over a pile of books, and is roped into Earl's plan. Despite initial confusion, Sophie, Jimmy, and Tina agree to help Earl. Using the toy helicopter and Tina's loud directions, they manage to knock a stack of books back into place, reducing the chaos. The scene ends with a moment of camaraderie and laughter, as Earl's eccentric problem-solving method proves successful. The shop's familial atmosphere is highlighted, and a customer enters, adding to the normalcy of the situation.\n",
            "Characters: ['Earl', 'Sophie', 'Jimmy', 'Tina']\n",
            "Location: Earl's Shop\n",
            "Recurring Joke: Earl's incorrect usage of idioms.\n",
            "Emotional Tone: Humorous, Warm\n",
            "\n",
            "Scene 16\n",
            "Summary: Sophie, Earl, and Jimmy enter a locksmith shop, triggering nostalgic memories. They joke about Jimmy's past mishap where he locked himself in a trunk during a magic trick. This leads to a running joke about Jimmy's glasses being used to pick locks. They reminisce about the past and decide to give the shop a new lease on life, with Sophie insisting on keeping magic tricks to a minimum. The scene is filled with laughter and camaraderie, ending with them dusting off old tools and setting up shop.\n",
            "Characters: ['Sophie', 'Earl', 'Jimmy']\n",
            "Location: Locksmith Shop\n",
            "Recurring Joke: The recurring joke in the scene is about Jimmy's glasses being used to pick locks and his past mishap with a magic trick.\n",
            "Emotional Tone: Nostalgic, Humorous\n",
            "\n",
            "Scene 17\n",
            "Summary: In the locksmith shop, Sophie, Jimmy, and Earl engage in friendly banter, with Sophie teasing Jimmy about his meticulous nature. When Jimmy stumbles with a stack of boxes, Earl suggests they restore an old lock together, reminiscing about his apprenticeship. They agree, but Earl gets sidetracked while sorting through old keys. Jimmy suggests organizing the keys first, earning praise from Earl. However, their task is interrupted when the shop's mischievous parrot steals the key they need for the lock, leading to a playful chase around the shop.\n",
            "Characters: ['Sophie', 'Jimmy', 'Earl']\n",
            "Location: Locksmith Shop\n",
            "Recurring Joke: Sophie's teasing of Jimmy's meticulous nature and the parrot's mischievous behavior.\n",
            "Emotional Tone: Humorous\n",
            "\n",
            "Scene 18\n",
            "Summary: The group, including Earl and Tina, enters a busy police station. Earl brings in a toy helicopter, which he claims to use as a stress reliever. He humorously reveals that he used it to fly his unpaid parking tickets into the payment window, demonstrating his unconventional problem-solving skills. The group shares a laugh over Earl's misquotation of the phrase \"kill two birds with one stone\" and reminisces about a past incident where Earl used a parrot to break up with his ex-girlfriend. The scene ends with an officer picking up a ringing phone.\n",
            "Characters: ['Earl', 'Tina', 'Officer']\n",
            "Location: Police Station\n",
            "Recurring Joke: Earl's unconventional problem-solving methods and his tendency to misquote common phrases.\n",
            "Emotional Tone: Humorous\n"
          ]
        }
      ]
    },
    {
      "cell_type": "markdown",
      "source": [
        "## 🎬 Scene 19 Generation\n"
      ],
      "metadata": {
        "id": "Ghr6OSU_CaYe"
      }
    },
    {
      "cell_type": "code",
      "source": [
        "# Extract the description for Scene 19 from the episode outline\n",
        "scene_19_desc = extract_scene(episode_outline, 19)\n",
        "print(scene_19_desc)"
      ],
      "metadata": {
        "id": "mihS_c-Kw5Sa",
        "colab": {
          "base_uri": "https://localhost:8080/"
        },
        "outputId": "1133c50e-5832-4862-bfa8-6398d5af3833"
      },
      "execution_count": 142,
      "outputs": [
        {
          "output_type": "stream",
          "name": "stdout",
          "text": [
            "Scene 19: \"A New Beginning\" Sophie decides to stick around and learn more about locksmithing, signifying a new start for her and Jimmy. The tone is hopeful and heartwarming.\n"
          ]
        }
      ]
    },
    {
      "cell_type": "markdown",
      "source": [
        "### 🎭 Character Agent\n"
      ],
      "metadata": {
        "id": "avfsysfbCn04"
      }
    },
    {
      "cell_type": "code",
      "source": [
        "# Re-initialize the character agent with the updated vector metadata\n",
        "character_agent = CharacterAgent(\n",
        "    client=client,\n",
        "    vector_metadata=vector_metadata,\n",
        "    num_scenes=3\n",
        ")\n",
        "\n",
        "# Evaluate Scene 19 using the character agent and store the evaluation results\n",
        "char_histories, char_is_consistent, char_explanation, char_recommendations, char_thoughts = evaluate_character_agent_scene(\n",
        "    agent=character_agent,\n",
        "    scene_description=scene_19_desc,\n",
        "    scene_number=19\n",
        ")"
      ],
      "metadata": {
        "id": "_Bj9v8RqCnp5",
        "colab": {
          "base_uri": "https://localhost:8080/"
        },
        "outputId": "05471708-2984-447a-8a89-2c2f944b549f"
      },
      "execution_count": 143,
      "outputs": [
        {
          "output_type": "stream",
          "name": "stdout",
          "text": [
            "🔁 Agent will consider the last 3 scene(s) for context.\n",
            "\n",
            "📚 Retrieving script metadata for scene(s): [16, 17, 18]\n",
            "Scene 19 — Consistency: ✅ Consistent\n",
            "\n",
            "Explanation:\n",
            "2. Short Explanation Why: Sophie's decision to stick around and learn about locksmithing aligns with her cooperative and participative nature from previous scenes. Her playful interaction with Jimmy also remains consistent. Jimmy's willingness to teach Sophie also aligns with his cooperative and good-natured personality. The hopeful tone of this scene is in line with their shared optimism about the shop's future from previous scenes.\n",
            "\n",
            "Interaction Improvement Recommendations:\n",
            "1. Sophie enthusiastically proposes a detailed plan for reorganizing the shop, showcasing a growth in her leadership skills. Jimmy, in his usual meticulous fashion, suggests tweaks to improve her plan. — This interaction reflects the cooperative and engaged nature of both characters, as seen in all three previous scenes. Moreover, it builds upon Sophie's growth in assertiveness shown in Scene 2 and Jimmy's attention to detail displayed in Scene 3.\n",
            "2. To lighten the mood, Sophie playfully teases Jimmy about his past mishap of locking himself in a trunk during a magic trick, saying, \"As long as you promise not to lock yourself up again, Jimmy.\" Jimmy chuckles and promises not to. — This interaction continues the running joke from Scene 2 and also displays their friendly banter from Scene 3. It reinforces the nostalgic and playful sides of their personalities, while also showing Jimmy's good-natured ability to laugh at himself.\n",
            "\n",
            "Agent's Internal Thoughts:\n",
            "- Think: Identified characters ['Sophie', 'Jimmy'] using context from scene(s) [16, 17, 18].\n",
            "- Act: Retrieved profiles for ['Sophie', 'Jimmy'].\n",
            "- Observe: Scene is consistent.\n",
            "- Recommend: Provided suggestions for enhancing character dynamics.\n"
          ]
        }
      ]
    },
    {
      "cell_type": "markdown",
      "source": [
        "### 🎤 Comedic Agent\n"
      ],
      "metadata": {
        "id": "LuI0iw8mDANm"
      }
    },
    {
      "cell_type": "code",
      "source": [
        "# Re-initialize the comedy agent with the updated vector metadata\n",
        "comedic_agent = ComedicAgent(\n",
        "    client=client,\n",
        "    vector_metadata=vector_metadata,\n",
        "    num_scenes=3\n",
        ")\n",
        "\n",
        "# Evaluate Scene 19 using the comedy agent and store the evaluation results\n",
        "com_context, com_is_consistent, com_analysis_text, com_recommendations, com_thoughts = evaluate_comedic_agent_scene(\n",
        "    agent=comedic_agent,\n",
        "    scene_description=scene_19_desc,\n",
        "    scene_number=19\n",
        ")"
      ],
      "metadata": {
        "id": "_CDA0HWMDAEQ",
        "colab": {
          "base_uri": "https://localhost:8080/"
        },
        "outputId": "d48b3c32-90f7-4f8f-cfc9-c4c7046079a1"
      },
      "execution_count": 144,
      "outputs": [
        {
          "output_type": "stream",
          "name": "stdout",
          "text": [
            "🔁 Agent will consider the last 3 scene(s) for context.\n",
            "\n",
            "📚 Retrieving script metadata for scene(s): [16, 17, 18]\n",
            "Scene 19 — Comedic Tone: ✅ Consistent\n",
            "\n",
            "Comedic Tone Analysis:\n",
            "3. Short Explanation: The heartwarming humor in the new scene is consistent with the friendly banter and camaraderie in the previous scenes. The humor is derived from the characters' interactions and their shared history, which has been a consistent theme.\n",
            "\n",
            "Comedic Improvement Recommendations:\n",
            "1. [Suggestion] — As Sophie decides to stick around, she could attempt to showcase her novice locksmithing skills by trying to pick a lock on an old safe in the shop. However, instead of succeeding, she accidentally locks it even tighter. This could lead to a funny exchange where Jimmy, trying not to discourage her, says, \"Well, you've certainly got a knack for making sure things stay locked!\" — (This adds humor while highlighting Sophie's inexperience and Jimmy's supportive nature. It also provides a visual, physical comedy element to the scene.)\n",
            "2. [Suggestion] — Jimmy could be giving Sophie a rundown of different types of locks and keys. Sophie, eager to impress, starts naming them before Jimmy can. But, she's unintentionally using made-up names she heard in a sci-fi movie, like \"Quantum Key\" or \"Dimensional Lock.\" Jimmy, amused, could play along for a bit before finally correcting her, saying, \"I think you've been watching too much 'Star Trek', Sophie.\" — (This suggestion plays off Sophie's enthusiasm and naivety while showing Jimmy's patience and sense of humor. It also keeps the tone light and allows for a potential running joke about Sophie's sci-fi mix-ups.)\n",
            "\n",
            "Comedic Agent's Internal Thoughts:\n",
            "- Think: Will retrieve summaries and jokes from scene(s) [16, 17, 18] for Scene 19.\n",
            "- Act: Retrieved summaries and jokes from prior scenes.\n",
            "- Observe: Scene is consistent with prior comedic tone.\n",
            "- Recommend: Provided comedic improvements.\n"
          ]
        }
      ]
    },
    {
      "cell_type": "markdown",
      "source": [
        "### 🌆 Environment Agent\n"
      ],
      "metadata": {
        "id": "iF5LvvnDEMNb"
      }
    },
    {
      "cell_type": "code",
      "source": [
        "# Re-initialize the environment agent with the updated vector metadata\n",
        "environment_agent = EnvironmentAgent(\n",
        "    client=client,\n",
        "    vector_metadata=vector_metadata,\n",
        "    num_scenes=3\n",
        ")\n",
        "\n",
        "# Evaluate Scene 19 using the environment agent and store the evaluation results\n",
        "context, is_consistent, explanation, env_recommendations, env_thoughts = evaluate_environment_agent_scene(\n",
        "    agent=environment_agent,\n",
        "    scene_description=scene_19_desc,\n",
        "    scene_number=19\n",
        ")"
      ],
      "metadata": {
        "id": "J0ymRMAWEL9Z",
        "colab": {
          "base_uri": "https://localhost:8080/"
        },
        "outputId": "740b4c77-b828-4fab-d14e-b220a0338356"
      },
      "execution_count": 145,
      "outputs": [
        {
          "output_type": "stream",
          "name": "stdout",
          "text": [
            "🔁 Environment Agent will consider the last 3 scene(s) for context.\n",
            "\n",
            "📚 Retrieving script metadata for scene(s): [16, 17, 18]\n",
            "Scene 19 — Environment Transition: ✅ Consistent\n",
            "\n",
            "Explanation:\n",
            "Short Explanation: The transition from the police station back to the locksmith shop is logical. It's plausible that after an incident that required police involvement, the characters would return to the locksmith shop, which is presumably their usual setting or place of work.\n",
            "- Suggested Transition Setup: Not necessary.\n",
            "\n",
            "Environment Detail Suggestions:\n",
            "Environment Details Suggestions:\n",
            "- [Suggestion 1]: As the characters enter the locksmith shop, the jingle of a small bell attached to the door can be heard, indicating customers coming in. This could be a running gag in the series where the bell jingles at inappropriate or comedic moments.\n",
            "- [Suggestion 2]: A giant key prop is seen in the background, hanging on the wall as a quirky and funny decoration. It adds a touch of humor and personality to the shop. The characters can occasionally use this prop for comedic effect, like pretending to use it to open a giant lock.\n",
            "\n",
            "Environment Agent's Internal Thoughts:\n",
            "- Think: Retrieved summaries and environment context from scene(s) [16, 17, 18] for Scene 19.\n",
            "- Act: Analyzed environment features for Scene 19.\n",
            "- Observe: Scene transition is consistent.\n",
            "- Recommend: Provided environmental enhancement suggestions.\n"
          ]
        }
      ]
    },
    {
      "cell_type": "markdown",
      "source": [
        "### 🧠 Scene Planner Agent\n"
      ],
      "metadata": {
        "id": "o89Ph9H0Ekey"
      }
    },
    {
      "cell_type": "code",
      "source": [
        "# Generate a plan for Scene 19 by integrating recommendations from all three agents\n",
        "scene_19_plan = scene_planner_agent.plan_next_scene(\n",
        "    character_recommendations=char_recommendations,\n",
        "    comedic_recommendations=com_recommendations,\n",
        "    environment_recommendations=env_recommendations,\n",
        "    scene_number=19\n",
        ")\n",
        "\n",
        "print(scene_19_plan)"
      ],
      "metadata": {
        "id": "ctheRLy6EkPp",
        "colab": {
          "base_uri": "https://localhost:8080/"
        },
        "outputId": "71a23976-05b1-4416-e666-2256d1028fe7"
      },
      "execution_count": 146,
      "outputs": [
        {
          "output_type": "stream",
          "name": "stdout",
          "text": [
            "Scene Plan:\n",
            "\n",
            "Character Goals:\n",
            "- [Goal 1]: Showcase Sophie's growing confidence and leadership skills as she enthusiastically proposes a detailed plan to reorganize the shop, while also displaying her playful side as she teases Jimmy about a past mistake.\n",
            "- [Goal 2]: Highlight Jimmy's meticulous nature and his supportive attitude towards Sophie by having him suggest improvements to Sophie's plan, reacting positively to her playful teasing, and encouraging her when she makes a mistake.\n",
            "\n",
            "Comedic Goal:\n",
            "- [Goal]: Introduce a funny exchange where Sophie, in her enthusiasm, misnames various types of locks and keys with fictional terms from sci-fi movies, leading to Jimmy gently correcting her in a humorous manner.\n",
            "\n",
            "Environment Detail:\n",
            "- [Detail]: The locksmith shop is cluttered with various types of locks, keys, and locksmithing tools, adding to the quirky atmosphere. A comically oversized padlock could be displayed on the counter, providing a potential prop for future comedic scenes.\n",
            "\n",
            "Creative Suggestion:\n",
            "- [Suggestion]: As the scene progresses, Sophie could attempt to open the oversized padlock with the giant key prop as a joke, only to be surprised when it actually works. This unexpected success could lead to a funny moment where Sophie and Jimmy look at each other in astonishment, followed by their shared laughter. This light-hearted interaction could serve to strengthen their bond and set the tone for their future adventures in the shop.\n"
          ]
        }
      ]
    },
    {
      "cell_type": "markdown",
      "source": [
        "### ✍️ Generating Scene 19 Script"
      ],
      "metadata": {
        "id": "CRFtBoW3G7p5"
      }
    },
    {
      "cell_type": "code",
      "source": [
        "# Generate the full script for Scene 19 based on the structured scene plan\n",
        "scene_19_script = generate_scene(\n",
        "    client=client,\n",
        "    scene_plan=scene_19_plan,\n",
        "    scene_number=19\n",
        ")\n",
        "\n",
        "print(scene_19_script)"
      ],
      "metadata": {
        "id": "qXvywSGeG7cK",
        "colab": {
          "base_uri": "https://localhost:8080/"
        },
        "outputId": "0da378a8-b696-423c-e09c-d0185edfcde9"
      },
      "execution_count": 147,
      "outputs": [
        {
          "output_type": "stream",
          "name": "stdout",
          "text": [
            "INT. LOCKSMITH SHOP - DAY\n",
            "\n",
            "[Sophie is behind the counter, surrounded by a clutter of keys, locks, and locksmithing tools. She is animatedly gesturing at a makeshift blueprint of the shop.]\n",
            "\n",
            "SOPHIE:\n",
            "...and then we move the key duplicator to the back! Not like last time when Jimmy put it next to the furnace and nearly melted the whole batch of keys.\n",
            "\n",
            "[Sophie winks at Jimmy, who is leaning against the counter, arms folded. Laugh Track.]\n",
            "\n",
            "JIMMY:\n",
            "Well, you live and you learn. I like your plan, Sophie, but what about the cabinet of antique locks? It's pretty heavy...\n",
            "\n",
            "SOPHIE:\n",
            "Oh, we'll just use the quantum levitator to move it!\n",
            "\n",
            "[Jimmy raises an eyebrow. Laugh Track.]\n",
            "\n",
            "JIMMY:\n",
            "Quantum levitator? You've been watching too many sci-fi movies again, haven't you?\n",
            "\n",
            "[Sophie grins sheepishly.]\n",
            "\n",
            "SOPHIE:\n",
            "Okay, okay. Maybe I got a bit carried away. But we can use the dolly, right?\n",
            "\n",
            "JIMMY:\n",
            "That's more like it. And remember, it's better to make mistakes now than when we're reorganizing.\n",
            "\n",
            "[Sophie nods, looking determined.]\n",
            "\n",
            "SOPHIE:\n",
            "Right. Now, pass me the Galactic Gatekeeper.\n",
            "\n",
            "[Jimmy looks confused. Laugh Track.]\n",
            "\n",
            "JIMMY:\n",
            "Galactic Gatekeeper? Sophie, that's just a padlock.\n",
            "\n",
            "[Sophie chuckles.]\n",
            "\n",
            "SOPHIE:\n",
            "I know, I know. But isn't it more fun to imagine it's some high-tech alien device?\n",
            "\n",
            "[Jokingly, Sophie attempts to open the oversized padlock with the giant key prop on the counter. To her surprise, it actually works. Laugh Track.]\n",
            "\n",
            "SOPHIE:\n",
            "Well, would you look at that, Jimmy! The Galactic Gatekeeper has been unlocked!\n",
            "\n",
            "[JIMMY and SOPHIE share a look of astonishment, then burst into laughter.]\n",
            "\n",
            "JIMMY:\n",
            "Sophie, you're a natural at this. Maybe you should be the one teaching me!\n",
            "\n",
            "[They share a warm smile, their laughter echoing in the cluttered shop. End Scene.]\n"
          ]
        }
      ]
    },
    {
      "cell_type": "markdown",
      "source": [
        "### 🗂️ Adding Metadata to Vector Database\n"
      ],
      "metadata": {
        "id": "SK_Y0HPkG9Li"
      }
    },
    {
      "cell_type": "code",
      "source": [
        "# Store the generated Scene 19 script in the vector database for future retrieval and context\n",
        "store_scene_in_vector_db(\n",
        "    client=client,\n",
        "    sitcom_title=sitcom_title,\n",
        "    scene_script=scene_19_script,\n",
        "    embedding_model=embedding_model,\n",
        "    index=index,\n",
        "    vector_metadata=vector_metadata\n",
        ")"
      ],
      "metadata": {
        "id": "FxnS7fEPG8-H",
        "colab": {
          "base_uri": "https://localhost:8080/"
        },
        "outputId": "a06f6307-47f8-4dca-f2f5-bfd0f8b808ac"
      },
      "execution_count": 148,
      "outputs": [
        {
          "output_type": "stream",
          "name": "stdout",
          "text": [
            "Total scenes stored in vector DB: 19 \n",
            "\n",
            "\n",
            "Scene 1\n",
            "Summary: In this opening scene, Jimmy, a locksmith in his mid-40s, starts his day at his shop. He begins with a quirky morning routine of trying to pick a lock with a hairpin. His cat, Whiskers, surprises him by jumping on the counter, leading to a humorous interaction involving a master key and a can of tuna. A gust of wind causes a stack of keys to fall, and Jimmy takes a tumble trying to catch them. Despite the mishap, he dusts himself off and prepares to face the day's challenges, showing his resilience and good humor.\n",
            "Characters: ['Jimmy', 'Whiskers']\n",
            "Location: Jimmy's Locksmith Shop\n",
            "Recurring Joke: Jimmy's attempts to use keys for non-lock related tasks (e.g., using the master key to open a can of tuna) and his playful banter with his cat, Whiskers, are recurring jokes.\n",
            "Emotional Tone: Humorous, Light-hearted\n",
            "\n",
            "Scene 2\n",
            "Summary: In the scene, Jimmy, a man with unconventional habits, tries to open a mysterious package with a hairpin. His cat, Whiskers, and his parrot add comedic relief with their antics. Jimmy's health-conscious roommate, Martin, walks in and jokes about Jimmy's failed attempts to feed their plant junk food. Their over-dramatic neighbor, Mrs. Jenkins, rushes in, having noticed the mysterious package from her window. She leaves disappointed when Jimmy reveals the package contains a simple hairpin set. The scene ends with Martin joking about Jimmy's obsession with hairpins, and everyone shares a laugh.\n",
            "Characters: ['Jimmy', 'Whiskers (the cat)', 'Parrot', 'Martin', 'Mrs. Jenkins']\n",
            "Location: Living Room\n",
            "Recurring Joke: The parrot repeating phrases in a humorous context (\"Out of the box, out of the box!\", \"Out of hand, out of hand!\")\n",
            "Emotional Tone: Humorous\n",
            "\n",
            "Scene 3\n",
            "Summary: In Jimmy's locksmith shop, Earl, an eccentric older man, is fascinated by an unusual lock and Jimmy's hairpin. Jimmy, a young locksmith with unconventional practices, is feeding his plant cheese puffs. They exchange humorous banter about their unique interests, with Earl expressing eagerness to share about his compost tea. Earl attempts to demonstrate an \"unbreakable\" lock, but ends up locking his fingers together. He uses Jimmy's hairpin to try and free his fingers, but accidentally flings it into Jimmy's plant pot, making a joke about it being \"lock nutrients\". The scene ends with both of them laughing at the situation.\n",
            "Characters: ['Earl', 'Jimmy']\n",
            "Location: Jimmy's Locksmith Shop\n",
            "Recurring Joke: None\n",
            "Emotional Tone: Humorous\n",
            "\n",
            "Scene 4\n",
            "Summary: In Jimmy's apartment, Jimmy finds a flamboyantly wrapped package with a ticking sound. Using a hairpin, he picks the lock, revealing an old note that brings back memories of his past mischief. His elderly neighbor, Mrs. Jenkins, enters and comments on his unchanged behavior. The note reminds Jimmy of a time he stole a zoo monkey, dressed it in a suit, and taught it to pick pockets at the county fair. His roommate, Martin, enters and joins in the reminiscing, questioning how Jimmy avoided jail. Jimmy responds with a joke about good behavior, leading to a toast to \"water under the bridge\". The scene ends with the characters laughing and reminiscing about Jimmy's past.\n",
            "Characters: ['Jimmy', 'Mrs. Jenkins', 'Martin']\n",
            "Location: Jimmy's Apartment\n",
            "Recurring Joke: Jimmy's past mischiefs and his ability to avoid jail despite them.\n",
            "Emotional Tone: Nostalgic, Humorous\n",
            "\n",
            "Scene 5\n",
            "Summary: In the scene, the bumbling yet endearing character, Earl, struggles with making coffee, misreading instructions, and even pouring coffee grounds into the water reservoir. Jimmy, a neurotic character, enters and tries to correct Earl's mistakes, even attempting to pick the lock of the coffee maker with a hairpin. Earl, in his clumsiness, accidentally glues his fingers together with a sticky sponge. Jimmy suggests Earl read the instructions on the sponge packaging, leading to more mispronunciations. Just as Jimmy successfully unlocks the coffee maker, it explodes, covering them both in coffee grounds. Despite the chaos, they find humor in the situation, ending the scene with a laugh.\n",
            "Characters: ['Earl', 'Jimmy']\n",
            "Location: Kitchen\n",
            "Recurring Joke: Earl's consistent misreading of instructions and Jimmy's attempts to correct him.\n",
            "Emotional Tone: Comical\n",
            "\n",
            "Scene 6\n",
            "Summary: In this scene at the locksmith shop, Sophie enters with the intention of making a peace offering to her father, Jimmy. She presents a box of cheese puffs, which unexpectedly explodes, covering everyone in cheese puff dust. It turns out that the explosion was due to one of Jimmy's old pranks. Despite the mess, the incident leads to a warm moment between Sophie and Jimmy, with Sophie acknowledging that she has learned from her father's prankster ways. Meanwhile, Earl, another character present in the scene, humorously comments on the unexpected events in the shop.\n",
            "Characters: ['Sophie', 'Jimmy', 'Earl']\n",
            "Location: Locksmith shop\n",
            "Recurring Joke: The recurring joke in this scene is the playful pranks between Sophie and Jimmy, which often result in unexpected chaos.\n",
            "Emotional Tone: Humorous, Warm\n",
            "\n",
            "Scene 7\n",
            "Summary: In Jimmy's apartment, Sophie and Jimmy reminisce about their past while going through old photos and memorabilia. They recall Jimmy's knack for picking locks, including a memorable incident at their school. Jimmy likens his lock-picking skills to their relationship, suggesting they were meant to be together. Sophie agrees, expressing her desire to rekindle their relationship, comparing it to cooking a stew. The old prank of a confetti bucket rigged to a string is accidentally triggered, leading to laughter and a shared moment of nostalgia. The scene ends with a mutual understanding and Jimmy's affirmation of his abilities, both in picking locks and cooking stew.\n",
            "Characters: ['Sophie', 'Jimmy']\n",
            "Location: Jimmy's Apartment\n",
            "Recurring Joke: The recurring joke in the scene is Jimmy's history of setting up pranks and his knack for picking locks, which is metaphorically extended to their relationship.\n",
            "Emotional Tone: Nostalgic, Humorous\n",
            "\n",
            "Scene 8\n",
            "Summary: In the intervention room, Earl, Sophie, and Jimmy gather around an old Christmas light banner and a precarious stool. Earl tries to explain Jimmy's prankster nature as part of their family's character, not charisma, to Sophie. He then brings up an old prank book, accidentally revealing a secret compartment in a chest. Inside, an old photo album shows Sophie's mother and Jimmy as pranksters, uniting Sophie and Jimmy in intrigue. Earl uses this to convince Sophie that pranking is part of their family, just like his mispronunciation of idioms. They all share a laugh, ending the scene on a warm note.\n",
            "Characters: ['Earl', 'Sophie', 'Jimmy']\n",
            "Location: Earl's Intervention Room\n",
            "Recurring Joke: Earl's mispronunciation of idioms and clumsiness.\n",
            "Emotional Tone: Warm\n",
            "\n",
            "Scene 9\n",
            "Summary: In the locksmith shop, Sophie is examining a lock that Jimmy has switched as a prank. Sophie successfully unlocks it, surprising Jimmy. He advises her that picking a lock requires patience and precision. Unexpectedly, Sophie locks them in the shop, leading to laughter and another lock-picking exercise. Sophie humorously compares lock picks to shoe styles, which amuses Jimmy. She successfully unlocks the door, earning Jimmy's praise. Sophie notices a new addition to the \"Customer Lock Fails\" display - a shoe-shaped lock, a nod to her earlier analogy. Their shared laughter and experiences strengthen their bond, with Sophie gaining newfound respect for Jimmy.\n",
            "Characters: ['Sophie', 'Jimmy']\n",
            "Location: Locksmith Shop\n",
            "Recurring Joke: None\n",
            "Emotional Tone: Amusing, Warm\n",
            "\n",
            "Scene 10\n",
            "Summary: In this scene, Earl, a middle-aged businessman, is in an Italian restaurant with his clumsy coworker, Jimmy. Earl is trying to juggle a personal phone call and a work issue when Jimmy accidentally spills coffee on him. This leads to a series of humorous mishaps, including Earl getting coffee on his shirt and mixing up his words. Sophie, their level-headed coworker, arrives with pizzas and helps clean up the mess. Despite the chaos, Earl appreciates his coworkers' help, highlighting their close-knit relationship. The scene ends with a warm moment of camaraderie among the trio, despite the comedic chaos.\n",
            "Characters: ['Earl', 'Jimmy', 'Sophie']\n",
            "Location: Italian Restaurant\n",
            "Recurring Joke: Earl's struggle to juggle personal and work life, leading to humorous mix-ups and accidents.\n",
            "Emotional Tone: Humorous, Warm\n",
            "\n",
            "Scene 11\n",
            "Summary: In the locksmith shop, Sophie, the quirky locksmith, and Jimmy, her meticulous assistant, engage in a playful banter. Sophie mistakenly identifies a pizza cutter as a locksmith tool, then finds an old treasure chest lock and accidentally locks herself in a makeshift cage. Jimmy, having forgotten his glasses, is guided by Sophie's convoluted instructions to unlock the cage. Despite knocking over a container of keys, Jimmy successfully unlocks the cage. They share a moment of triumph and laughter, with Sophie teasing about switching roles next time. Their shared experience strengthens their bond.\n",
            "Characters: ['Sophie', 'Jimmy']\n",
            "Location: Locksmith Shop\n",
            "Recurring Joke: Sophie's quirky misidentification of tools, Jimmy's forgetfulness about his glasses, and their shared clumsiness.\n",
            "Emotional Tone: Playful, Warm\n",
            "\n",
            "Scene 12\n",
            "Summary: In this scene, eccentric Earl and chaotic Jimmy are in a library, examining a rare lock model and using silly hats as \"thinking hats\". Earl proposes an unconventional solution to open the lock, involving his pet hamster, Mr. Nibbles. Jimmy, initially incredulous, eventually gets on board with the idea. Their loud conversation attracts the attention of a stern librarian, who reminds them to keep quiet. Just as they're about to start their plan, a microfilm reader reveals the information they needed to open the lock, rendering their plan unnecessary. They share a laugh about this, attracting the librarian's attention again, and return to their work.\n",
            "Characters: ['Earl', 'Jimmy', 'Librarian']\n",
            "Location: Library\n",
            "Recurring Joke: Earl's eccentricity and unconventional problem-solving methods, particularly his use of \"thinking hats\" and the proposed use of his pet hamster, Mr. Nibbles, to solve problems.\n",
            "Emotional Tone: Humorous\n",
            "\n",
            "Scene 13\n",
            "Summary: In a locksmith shop, Sophie and Jimmy reminisce about their past mishaps and shared experiences, highlighting their complimentary personalities. Sophie is adventurous and willing to try unconventional methods, like using a cup of coffee to open a jammed door, while Jimmy is meticulous and often the voice of reason. They tease each other about past incidents, including Jimmy's confusion of his glasses for a lock pick and Sophie's failed magician stint. A running gag involves Sophie accidentally pulling a rubber chicken out of her bag. The locksmith, amused by their banter, shares his own absurd experience of unlocking a castle with an oversized key, which leads to a shared laughter among them.\n",
            "Characters: ['Sophie', 'Jimmy', 'Locksmith']\n",
            "Location: Locksmith Shop\n",
            "Recurring Joke: Sophie accidentally pulling a rubber chicken out of her bag.\n",
            "Emotional Tone: Humorous, Nostalgic\n",
            "\n",
            "Scene 14\n",
            "Summary: In a dusty, mysterious room, Sophie, a young, lively woman, and Jimmy, an older, meticulous man, are trying to open a lock. Jimmy struggles without his glasses, which Sophie reveals she has. Once the lock is opened, Sophie finds a rubber chicken, which contains a shiny object. As they're about to examine it, a ceiling fan crashes down, causing them to drop the object under a ceramic giraffe. Jimmy shows frustration, but Sophie laughs it off, retrieving the object and joking about future treasure hunts.\n",
            "Characters: ['Sophie', 'Jimmy']\n",
            "Location: Mysterious Room\n",
            "Recurring Joke: The ceiling fan crashing down and objects skidding under the ceramic giraffe.\n",
            "Emotional Tone: Humorous\n",
            "\n",
            "Scene 15\n",
            "Summary: In Earl's shop, Earl, Sophie, and Jimmy are laughing around a counter, where Earl presents a vintage toy helicopter as a solution to their mess. Earl's misuse of idioms provides comic relief. Tina enters, tripping over a pile of books, and is roped into Earl's plan. Despite initial confusion, Sophie, Jimmy, and Tina agree to help Earl. Using the toy helicopter and Tina's loud directions, they manage to knock a stack of books back into place, reducing the chaos. The scene ends with a moment of camaraderie and laughter, as Earl's eccentric problem-solving method proves successful. The shop's familial atmosphere is highlighted, and a customer enters, adding to the normalcy of the situation.\n",
            "Characters: ['Earl', 'Sophie', 'Jimmy', 'Tina']\n",
            "Location: Earl's Shop\n",
            "Recurring Joke: Earl's incorrect usage of idioms.\n",
            "Emotional Tone: Humorous, Warm\n",
            "\n",
            "Scene 16\n",
            "Summary: Sophie, Earl, and Jimmy enter a locksmith shop, triggering nostalgic memories. They joke about Jimmy's past mishap where he locked himself in a trunk during a magic trick. This leads to a running joke about Jimmy's glasses being used to pick locks. They reminisce about the past and decide to give the shop a new lease on life, with Sophie insisting on keeping magic tricks to a minimum. The scene is filled with laughter and camaraderie, ending with them dusting off old tools and setting up shop.\n",
            "Characters: ['Sophie', 'Earl', 'Jimmy']\n",
            "Location: Locksmith Shop\n",
            "Recurring Joke: The recurring joke in the scene is about Jimmy's glasses being used to pick locks and his past mishap with a magic trick.\n",
            "Emotional Tone: Nostalgic, Humorous\n",
            "\n",
            "Scene 17\n",
            "Summary: In the locksmith shop, Sophie, Jimmy, and Earl engage in friendly banter, with Sophie teasing Jimmy about his meticulous nature. When Jimmy stumbles with a stack of boxes, Earl suggests they restore an old lock together, reminiscing about his apprenticeship. They agree, but Earl gets sidetracked while sorting through old keys. Jimmy suggests organizing the keys first, earning praise from Earl. However, their task is interrupted when the shop's mischievous parrot steals the key they need for the lock, leading to a playful chase around the shop.\n",
            "Characters: ['Sophie', 'Jimmy', 'Earl']\n",
            "Location: Locksmith Shop\n",
            "Recurring Joke: Sophie's teasing of Jimmy's meticulous nature and the parrot's mischievous behavior.\n",
            "Emotional Tone: Humorous\n",
            "\n",
            "Scene 18\n",
            "Summary: The group, including Earl and Tina, enters a busy police station. Earl brings in a toy helicopter, which he claims to use as a stress reliever. He humorously reveals that he used it to fly his unpaid parking tickets into the payment window, demonstrating his unconventional problem-solving skills. The group shares a laugh over Earl's misquotation of the phrase \"kill two birds with one stone\" and reminisces about a past incident where Earl used a parrot to break up with his ex-girlfriend. The scene ends with an officer picking up a ringing phone.\n",
            "Characters: ['Earl', 'Tina', 'Officer']\n",
            "Location: Police Station\n",
            "Recurring Joke: Earl's unconventional problem-solving methods and his tendency to misquote common phrases.\n",
            "Emotional Tone: Humorous\n",
            "\n",
            "Scene 19\n",
            "Summary: In a locksmith shop, Sophie presents a plan to reorganize the shop to Jimmy, including moving the key duplicator to avoid melting keys. They discuss the challenge of moving a heavy cabinet of antique locks, with Sophie joking about using a \"quantum levitator\". They agree to use a dolly instead. Sophie, in a playful mood, asks for a padlock she calls the \"Galactic Gatekeeper\". She then jokingly tries to open it with an oversized key prop and surprisingly, it works. They share a moment of astonishment and laughter, with Jimmy complimenting Sophie's natural talent in locksmithing.\n",
            "Characters: ['Sophie', 'Jimmy']\n",
            "Location: Locksmith Shop\n",
            "Recurring Joke: Sophie's playful renaming of ordinary locksmith tools with sci-fi terms, and Jimmy's reactions to it.\n",
            "Emotional Tone: Humorous, Warm\n"
          ]
        }
      ]
    },
    {
      "cell_type": "markdown",
      "source": [
        "## 🎬 Scene 20 Generation\n"
      ],
      "metadata": {
        "id": "lomcuEkvCbmu"
      }
    },
    {
      "cell_type": "code",
      "source": [
        "# Extract the description for Scene 20 from the episode outline\n",
        "scene_20_desc = extract_scene(episode_outline, 20)\n",
        "print(scene_20_desc)"
      ],
      "metadata": {
        "id": "XrXoKM7rw5N2",
        "colab": {
          "base_uri": "https://localhost:8080/"
        },
        "outputId": "f4ad8596-7d89-430c-859b-1b2864a86a4a"
      },
      "execution_count": 149,
      "outputs": [
        {
          "output_type": "stream",
          "name": "stdout",
          "text": [
            "Scene 20: \"Closing the Day\" The day ends with Jimmy, Sophie, and Earl sharing a laugh, promising more hilarious adventures to come. The atmosphere is light and funny.\n"
          ]
        }
      ]
    },
    {
      "cell_type": "markdown",
      "source": [
        "### 🎭 Character Agent\n"
      ],
      "metadata": {
        "id": "7riBrfTDCogo"
      }
    },
    {
      "cell_type": "code",
      "source": [
        "# Re-initialize the character agent with the updated vector metadata\n",
        "character_agent = CharacterAgent(\n",
        "    client=client,\n",
        "    vector_metadata=vector_metadata,\n",
        "    num_scenes=3\n",
        ")\n",
        "\n",
        "# Evaluate Scene 20 using the character agent and store the evaluation results\n",
        "char_histories, char_is_consistent, char_explanation, char_recommendations, char_thoughts = evaluate_character_agent_scene(\n",
        "    agent=character_agent,\n",
        "    scene_description=scene_20_desc,\n",
        "    scene_number=20\n",
        ")"
      ],
      "metadata": {
        "id": "rcRbpaftw5KW",
        "colab": {
          "base_uri": "https://localhost:8080/"
        },
        "outputId": "87720649-19e5-45ac-ebb0-b0817378504d"
      },
      "execution_count": 150,
      "outputs": [
        {
          "output_type": "stream",
          "name": "stdout",
          "text": [
            "🔁 Agent will consider the last 3 scene(s) for context.\n",
            "\n",
            "📚 Retrieving script metadata for scene(s): [17, 18, 19]\n",
            "Scene 20 — Consistency: ✅ Consistent\n",
            "\n",
            "Explanation:\n",
            "1. Consistency Verdict (Yes/No)\n",
            "   Yes\n",
            "2. Short Explanation Why (max 5 lines)\n",
            "   Each character's behavior aligns well with their established traits and arcs. Jimmy's good-natured humor, Sophie's resourcefulness and playful teasing, and Earl's nostalgic reminiscing and unconventional problem-solving are all consistent with their earlier scenes. The light and funny atmosphere of the closing scene fits their shared camaraderie and ongoing banter.\n",
            "\n",
            "Interaction Improvement Recommendations:\n",
            "1. Sophie teases Jimmy by placing his glasses near a lock and saying, \"In case you need to pick this one too, Jimmy.\" Then she chuckles and hands him a real lockpick set. — This interaction fits because it brings back the running joke about Jimmy's glasses being used to pick locks from Scene 1 and also highlights Sophie's playful nature as seen in Scene 2 and Scene 3.\n",
            "2. Earl, noticing Jimmy organizing keys, jokes, \"I hope you aren't planning to lock yourself in another trunk, Jimmy!\" — This interaction continues the running joke about Jimmy's past mishap of locking himself in a trunk (Scene 1). It also reflects Earl's playful and good-natured personality as seen in his past interactions with Jimmy.\n",
            "\n",
            "Agent's Internal Thoughts:\n",
            "- Think: Identified characters ['Jimmy', 'Sophie', 'Earl'] using context from scene(s) [17, 18, 19].\n",
            "- Act: Retrieved profiles for ['Jimmy', 'Sophie', 'Earl'].\n",
            "- Observe: Scene is consistent.\n",
            "- Recommend: Provided suggestions for enhancing character dynamics.\n"
          ]
        }
      ]
    },
    {
      "cell_type": "markdown",
      "source": [
        "### 🎤 Comedic Agent\n"
      ],
      "metadata": {
        "id": "7-uyH9pPDBBK"
      }
    },
    {
      "cell_type": "code",
      "source": [
        "# Re-initialize the comedy agent with the updated vector metadata\n",
        "comedic_agent = ComedicAgent(\n",
        "    client=client,\n",
        "    vector_metadata=vector_metadata,\n",
        "    num_scenes=3\n",
        ")\n",
        "\n",
        "# Evaluate Scene 20 using the comedy agent and store the evaluation results\n",
        "com_context, com_is_consistent, com_analysis_text, com_recommendations, com_thoughts = evaluate_comedic_agent_scene(\n",
        "    agent=comedic_agent,\n",
        "    scene_description=scene_20_desc,\n",
        "    scene_number=20\n",
        ")"
      ],
      "metadata": {
        "id": "qAb8cxvIw5GM",
        "colab": {
          "base_uri": "https://localhost:8080/"
        },
        "outputId": "6cf41e55-edbf-47f4-a72a-2e281e987efa"
      },
      "execution_count": 151,
      "outputs": [
        {
          "output_type": "stream",
          "name": "stdout",
          "text": [
            "🔁 Agent will consider the last 3 scene(s) for context.\n",
            "\n",
            "📚 Retrieving script metadata for scene(s): [17, 18, 19]\n",
            "Scene 20 — Comedic Tone: ✅ Consistent\n",
            "\n",
            "Comedic Tone Analysis:\n",
            "3. Short Explanation: The tone of the new scene is consistent with the previous scenes. The characters continue to engage in friendly banter and playful humor, which has been a consistent theme throughout the sitcom.\n",
            "\n",
            "Comedic Improvement Recommendations:\n",
            "1. [Suggestion] — As the day ends, Jimmy, the klutz of the group, attempts to turn off the lights to set the mood for their next adventure planning. However, he accidentally hits the disco ball switch instead, causing a mini dance party to erupt in the room. Jimmy, flustered, fumbles to turn off the disco ball and in his panic, he stumbles over a chair, causing Sophie and Earl to burst out laughing. — (This builds on Jimmy's established clumsiness from previous scenes and adds an unexpected, yet humorous element to their end-of-the-day gathering. It also sets the stage for more laughs in their future adventures.)\n",
            "2. [Suggestion] — As they share a laugh, Earl, the sarcastic one, could quip, \"Well, if we survive Jimmy's coordination, I'd say we're ready for anything!\" Sophie, the peacemaker, might respond with a chuckle, \"Oh come on, Earl, you know we wouldn't have half our fun without Jimmy's... unique skill set.\" Jimmy then says, \"Hey, I'm right here, you know,\" feigning offense but with a smile. — (This interaction reinforces the light running jokes about Jimmy's clumsiness and Earl's sarcasm, while also highlighting the group's bond and mutual acceptance of each other's quirks. It also subtly promises the audience more comedic moments to come.)\n",
            "\n",
            "Comedic Agent's Internal Thoughts:\n",
            "- Think: Will retrieve summaries and jokes from scene(s) [17, 18, 19] for Scene 20.\n",
            "- Act: Retrieved summaries and jokes from prior scenes.\n",
            "- Observe: Scene is consistent with prior comedic tone.\n",
            "- Recommend: Provided comedic improvements.\n"
          ]
        }
      ]
    },
    {
      "cell_type": "markdown",
      "source": [
        "### 🌆 Environment Agent\n"
      ],
      "metadata": {
        "id": "Ty4pKmf_EShV"
      }
    },
    {
      "cell_type": "code",
      "source": [
        "# Re-initialize the environment agent with the updated vector metadata\n",
        "environment_agent = EnvironmentAgent(\n",
        "    client=client,\n",
        "    vector_metadata=vector_metadata,\n",
        "    num_scenes=3\n",
        ")\n",
        "\n",
        "# Evaluate Scene 20 using the environment agent and store the evaluation results\n",
        "context, is_consistent, explanation, env_recommendations, env_thoughts = evaluate_environment_agent_scene(\n",
        "    agent=environment_agent,\n",
        "    scene_description=scene_20_desc,\n",
        "    scene_number=20\n",
        ")"
      ],
      "metadata": {
        "id": "JpQ0gLpaw5Cc",
        "colab": {
          "base_uri": "https://localhost:8080/"
        },
        "outputId": "1ad98a46-93e7-45a2-8c4a-8196dede3ee1"
      },
      "execution_count": 152,
      "outputs": [
        {
          "output_type": "stream",
          "name": "stdout",
          "text": [
            "🔁 Environment Agent will consider the last 3 scene(s) for context.\n",
            "\n",
            "📚 Retrieving script metadata for scene(s): [17, 18, 19]\n",
            "Scene 20 — Environment Transition: ❌ Inconsistent\n",
            "\n",
            "Explanation:\n",
            "Short Explanation: The current scene environment is unspecified, which makes it impossible to determine whether the transition is logical or not. The previous scenes were in a locksmith shop and a police station, so the next scene should logically follow from these locations.\n",
            "- Suggested Transition Setup: The main character could receive a phone call while at the locksmith shop, asking them to meet at a new location. This would provide a logical transition to a new scene.\n",
            "\n",
            "Environment Detail Suggestions:\n",
            "Environment Details Suggestions:\n",
            "- [Suggestion 1]: The main character arrives at the new location - a crowded, hipster coffee shop. The barista is struggling to spell a ridiculously long name on a coffee cup, while another customer loudly debates the merits of different types of non-dairy milk. \n",
            "- [Suggestion 2]: As the main character waits, they become increasingly annoyed by a nearby customer who is loudly slurping their soup. This person is completely oblivious to their annoyance, adding a light, humorous element to the scene.\n",
            "\n",
            "Environment Agent's Internal Thoughts:\n",
            "- Think: Retrieved summaries and environment context from scene(s) [17, 18, 19] for Scene 20.\n",
            "- Act: Analyzed environment features for Scene 20.\n",
            "- Observe: Scene transition is inconsistent.\n",
            "- Recommend: Provided environmental enhancement suggestions.\n"
          ]
        }
      ]
    },
    {
      "cell_type": "markdown",
      "source": [
        "### 🧠 Scene Planner Agent\n"
      ],
      "metadata": {
        "id": "3tzUiC5pE-o0"
      }
    },
    {
      "cell_type": "code",
      "source": [
        "# Generate a plan for Scene 20 by integrating recommendations from all three agents\n",
        "scene_20_plan = scene_planner_agent.plan_next_scene(\n",
        "    character_recommendations=char_recommendations,\n",
        "    comedic_recommendations=com_recommendations,\n",
        "    environment_recommendations=env_recommendations,\n",
        "    scene_number=20\n",
        ")\n",
        "\n",
        "print(scene_20_plan)"
      ],
      "metadata": {
        "id": "rW6QOtFpw4-P",
        "colab": {
          "base_uri": "https://localhost:8080/"
        },
        "outputId": "b31d9050-fece-4080-811d-e82bfc633561"
      },
      "execution_count": 153,
      "outputs": [
        {
          "output_type": "stream",
          "name": "stdout",
          "text": [
            "Scene Plan:\n",
            "Character Goals:\n",
            "- [Goal 1]: To enhance the playful dynamic between Sophie and Jimmy, Sophie should make a humorous remark about Jimmy's lock-picking abilities, subtly referencing their past adventures. This can be achieved by having Sophie give Jimmy an actual lockpick set, hinting at the running joke about his glasses.\n",
            "- [Goal 2]: Earl should continue to play the role of the light-hearted jester in the group by making a playful comment about Jimmy's past blunders, specifically his knack for locking himself in trunks. This will serve to highlight his character's jovial nature and also continue a running joke from previous scenes.\n",
            "\n",
            "Comedic Goal:\n",
            "- [Goal]: The scene should include a comedic incident where Jimmy's clumsiness is showcased. This could be Jimmy attempting to create a serious atmosphere for their adventure planning but inadvertently causing a hilarious situation. This comedic moment should be followed by a light-hearted group banter that highlights their bond and accepts each other's quirks. \n",
            "\n",
            "Environment Detail:\n",
            "- [Detail]: The scene unfolds in a bustling coffee shop filled with eccentric characters. The environment is characterized by the barista's struggle to manage long, pretentious coffee orders and a customer causing an uproar about non-dairy milk options. A subtle comedic element is introduced by another patron loudly slurping soup, oblivious to the annoyance of the main characters.\n",
            "\n",
            "Creative Suggestion:\n",
            "- [Suggestion]: As the main characters gather in the coffee shop for their adventure planning, the environment's eccentricity adds to the humor of the scene. Amidst the chaos, Jimmy tries to create a serious atmosphere by dimming the lights, but accidentally starts a disco ball, leading to a spontaneous dance party. As Jimmy scrambles to fix the situation, Sophie and Earl tease him about his clumsiness, reinforcing their bond and the sitcom's running gags. This lighthearted, comedic scene sets the tone for their future adventures.\n"
          ]
        }
      ]
    },
    {
      "cell_type": "markdown",
      "source": [
        "### ✍️ Generating Scene 20 Script"
      ],
      "metadata": {
        "id": "RoIUw0IuGvCa"
      }
    },
    {
      "cell_type": "code",
      "source": [
        "# Generate the full script for Scene 20 based on the structured scene plan\n",
        "scene_20_script = generate_scene(\n",
        "    client=client,\n",
        "    scene_plan=scene_20_plan,\n",
        "    scene_number=20\n",
        ")\n",
        "\n",
        "print(scene_20_script)"
      ],
      "metadata": {
        "id": "BZ5RbHXBw46C",
        "colab": {
          "base_uri": "https://localhost:8080/"
        },
        "outputId": "2bbd82da-867a-45fa-b5fb-51002658d875"
      },
      "execution_count": 154,
      "outputs": [
        {
          "output_type": "stream",
          "name": "stdout",
          "text": [
            "INT. COFFEE SHOP - DAY\n",
            "\n",
            "Sophie, Jimmy, and Earl are huddled around a small table. The barista struggles with a long coffee order. A CUSTOMER loudly complains about the lack of non-dairy milk. Another patron obliviously slurps soup.\n",
            "\n",
            "SOPHIE\n",
            "(to Jimmy)\n",
            "Here, I thought you might need this.\n",
            "\n",
            "Sophie hands Jimmy a lockpick set.\n",
            "\n",
            "JIMMY\n",
            "(confused)\n",
            "What's this for?\n",
            "\n",
            "SOPHIE\n",
            "(smiling)\n",
            "Just in case you need to pick your way out of a trunk... again.\n",
            "\n",
            "[Laugh Track]\n",
            "\n",
            "EARL\n",
            "(laughs)\n",
            "Or your glasses.\n",
            "\n",
            "[Laugh Track]\n",
            "\n",
            "Jimmy, slightly embarrassed but laughing, attempts to regain control of the situation.\n",
            "\n",
            "JIMMY\n",
            "(serious)\n",
            "Alright, enough with the jokes. We need to plan this adventure.\n",
            "\n",
            "As Jimmy stands up to dim the lights, he accidentally hits a switch, starting a disco ball. The room is filled with rotating, colorful lights, and disco music starts playing from the coffee shop speakers.\n",
            "\n",
            "[Laugh Track]\n",
            "\n",
            "Sophie and Earl burst into laughter. The barista and other customers look at Jimmy, surprised but also amused. Jimmy, flustered, tries to turn off the disco ball but only manages to change the color of the lights.\n",
            "\n",
            "SOPHIE\n",
            "(laughs)\n",
            "Jimmy, are we planning an adventure or throwing a dance party?\n",
            "\n",
            "[Laugh Track]\n",
            "\n",
            "EARL\n",
            "(laughs)\n",
            "Jimmy, you might want to stick with lock-picking. You're not so great with switches.\n",
            "\n",
            "[Laugh Track]\n",
            "\n",
            "Jimmy finally manages to turn off the disco ball and the regular lights come back on. The room returns to its previous state of chaos, with the soup slurping and the customer's complaints about non-dairy milk options resuming.\n",
            "\n",
            "JIMMY\n",
            "(sighs)\n",
            "Well, at least we're not locked in a trunk.\n",
            "\n",
            "Sophie and Earl laugh, the earlier tension completely diffused.\n",
            "\n",
            "SOPHIE\n",
            "(smiling)\n",
            "That's the spirit, Jimmy. Let's get to planning.\n",
            "\n",
            "The group leans in closer to the table, ready to discuss their next adventure as the chaos of the coffee shop continues around them.\n",
            "\n",
            "[Laugh Track]\n",
            "\n",
            "END OF SCENE.\n"
          ]
        }
      ]
    },
    {
      "cell_type": "markdown",
      "source": [
        "## Combining Scripts\n",
        "\n"
      ],
      "metadata": {
        "id": "lVQJkSBVneFY"
      }
    },
    {
      "cell_type": "code",
      "source": [
        "# List your scene scripts in order\n",
        "scene_scripts = [\n",
        "    scene_1_script,\n",
        "    scene_2_script,\n",
        "    scene_3_script,\n",
        "    scene_4_script,\n",
        "    scene_5_script,\n",
        "    scene_6_script,\n",
        "    scene_7_script,\n",
        "    scene_8_script,\n",
        "    scene_9_script,\n",
        "    scene_10_script,\n",
        "    scene_11_script,\n",
        "    scene_12_script,\n",
        "    scene_13_script,\n",
        "    scene_14_script,\n",
        "    scene_15_script,\n",
        "    scene_16_script,\n",
        "    scene_17_script,\n",
        "    scene_18_script,\n",
        "    scene_19_script,\n",
        "    scene_20_script\n",
        "]\n",
        "\n",
        "# Combine with optional scene headers\n",
        "full_episode_script = \"\\n\\n\".join([\n",
        "    f\"### Scene {i+1} ###\\n{script.strip()}\"\n",
        "    for i, script in enumerate(scene_scripts)\n",
        "])\n",
        "\n",
        "# Preview the first 500 characters\n",
        "print(full_episode_script[:500])\n"
      ],
      "metadata": {
        "id": "llXvGlN2jqhi",
        "colab": {
          "base_uri": "https://localhost:8080/"
        },
        "outputId": "94890ac5-6f94-496c-e56b-54bbfc32418c"
      },
      "execution_count": 155,
      "outputs": [
        {
          "output_type": "stream",
          "name": "stdout",
          "text": [
            "### Scene 1 ###\n",
            "# Scene 1\n",
            "\n",
            "INT. JIMMY'S LOCKSMITH SHOP - MORNING\n",
            "\n",
            "JIMMY, mid 40s, opens the door to his shop, a jumble of keys jingling from his belt. He flips the sign from CLOSED to OPEN. He's wearing a t-shirt that says, \"I've Got the Key to Your Heart.\"\n",
            "\n",
            "JIMMY\n",
            "(To himself)\n",
            "Another day, another lock to pick. \n",
            "\n",
            "Jimmy begins his peculiar morning routine. He pulls out a lock from his pocket and tries to pick it using a hairpin.\n",
            "\n",
            "JIMMY\n",
            "(To the lock)\n",
            "You're a tough one, aren't you? \n",
            "\n",
            "[LAUGH TRACK]\n"
          ]
        }
      ]
    },
    {
      "cell_type": "code",
      "source": [],
      "metadata": {
        "id": "X-FFmrxySyUd",
        "colab": {
          "base_uri": "https://localhost:8080/",
          "height": 139
        },
        "outputId": "a8a325d5-9064-489d-b2da-63694b244b9a"
      },
      "execution_count": 156,
      "outputs": [
        {
          "output_type": "error",
          "ename": "NameError",
          "evalue": "name 'stop' is not defined",
          "traceback": [
            "\u001b[0;31m---------------------------------------------------------------------------\u001b[0m",
            "\u001b[0;31mNameError\u001b[0m                                 Traceback (most recent call last)",
            "\u001b[0;32m<ipython-input-156-4f76a9dad686>\u001b[0m in \u001b[0;36m<cell line: 0>\u001b[0;34m()\u001b[0m\n\u001b[0;32m----> 1\u001b[0;31m \u001b[0mstop\u001b[0m\u001b[0;34m\u001b[0m\u001b[0;34m\u001b[0m\u001b[0m\n\u001b[0m",
            "\u001b[0;31mNameError\u001b[0m: name 'stop' is not defined"
          ]
        }
      ]
    },
    {
      "cell_type": "code",
      "source": [
        "path = \"/content/drive/MyDrive/Spring 2025/Gen AI with LLM/Project/pilot episode data/pilot episode 3/react_pilot_ep_scrpt_3.txt\"\n",
        "\n",
        "with open(path, \"w\") as f:\n",
        "    f.write(full_episode_script)\n",
        "\n",
        "print(f\"Script saved to {path}\")"
      ],
      "metadata": {
        "id": "HX-W-qU6jZTq",
        "colab": {
          "base_uri": "https://localhost:8080/"
        },
        "outputId": "41036dc7-c8f1-417c-df0a-0d73854cdda2"
      },
      "execution_count": 157,
      "outputs": [
        {
          "output_type": "stream",
          "name": "stdout",
          "text": [
            "Script saved to /content/drive/MyDrive/Spring 2025/Gen AI with LLM/Project/pilot episode data/pilot episode 3/react_pilot_ep_scrpt_3.txt\n"
          ]
        }
      ]
    },
    {
      "cell_type": "code",
      "source": [],
      "metadata": {
        "id": "YXcVKO4MoRfJ"
      },
      "execution_count": null,
      "outputs": []
    }
  ]
}